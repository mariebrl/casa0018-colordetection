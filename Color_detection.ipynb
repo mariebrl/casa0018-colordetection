{
  "cells": [
    {
      "cell_type": "markdown",
      "metadata": {
        "id": "dj2f4hAh_ZNe"
      },
      "source": [
        "# Model for color detection"
      ]
    },
    {
      "cell_type": "markdown",
      "metadata": {
        "id": "O6o1Hy4V_Wff"
      },
      "source": [
        "## Import libraries"
      ]
    },
    {
      "cell_type": "code",
      "execution_count": null,
      "metadata": {
        "id": "nXxNGEWA_U3a",
        "colab": {
          "base_uri": "https://localhost:8080/"
        },
        "outputId": "732d2aff-7c58-4ca3-89bb-a46afa2de8c9"
      },
      "outputs": [
        {
          "output_type": "stream",
          "name": "stdout",
          "text": [
            "Mounted at /content/drive\n"
          ]
        }
      ],
      "source": [
        "import numpy as np\n",
        "import pandas as pd\n",
        "import math\n",
        "import tensorflow as tf\n",
        "from tensorflow import keras\n",
        "import matplotlib.pyplot as plt\n",
        "from sklearn.utils import shuffle\n",
        "from sklearn.model_selection import train_test_split\n",
        "from tensorflow.keras import layers, regularizers\n",
        "from sklearn.model_selection import GridSearchCV\n",
        "from sklearn.metrics import confusion_matrix, accuracy_score, f1_score, ConfusionMatrixDisplay, recall_score, classification_report\n",
        "\n",
        "from google.colab import drive\n",
        "drive.mount('/content/drive')\n",
        "\n",
        "seed = 157 # fix randomisation\n",
        "np.random.seed(seed)\n",
        "tf.random.set_seed(seed)"
      ]
    },
    {
      "cell_type": "code",
      "execution_count": null,
      "metadata": {
        "id": "NgB8tBz095pl",
        "colab": {
          "base_uri": "https://localhost:8080/"
        },
        "outputId": "0be19b75-d87e-4456-cd8b-09f01e187405"
      },
      "outputs": [
        {
          "output_type": "stream",
          "name": "stdout",
          "text": [
            "Looking in indexes: https://pypi.org/simple, https://us-python.pkg.dev/colab-wheels/public/simple/\n",
            "Collecting scikeras\n",
            "  Downloading scikeras-0.10.0-py3-none-any.whl (27 kB)\n",
            "Requirement already satisfied: packaging>=0.21 in /usr/local/lib/python3.9/dist-packages (from scikeras) (23.0)\n",
            "Requirement already satisfied: scikit-learn>=1.0.0 in /usr/local/lib/python3.9/dist-packages (from scikeras) (1.2.2)\n",
            "Requirement already satisfied: scipy>=1.3.2 in /usr/local/lib/python3.9/dist-packages (from scikit-learn>=1.0.0->scikeras) (1.10.1)\n",
            "Requirement already satisfied: numpy>=1.17.3 in /usr/local/lib/python3.9/dist-packages (from scikit-learn>=1.0.0->scikeras) (1.22.4)\n",
            "Requirement already satisfied: threadpoolctl>=2.0.0 in /usr/local/lib/python3.9/dist-packages (from scikit-learn>=1.0.0->scikeras) (3.1.0)\n",
            "Requirement already satisfied: joblib>=1.1.1 in /usr/local/lib/python3.9/dist-packages (from scikit-learn>=1.0.0->scikeras) (1.1.1)\n",
            "Installing collected packages: scikeras\n",
            "Successfully installed scikeras-0.10.0\n"
          ]
        }
      ],
      "source": [
        "pip install scikeras"
      ]
    },
    {
      "cell_type": "code",
      "execution_count": null,
      "metadata": {
        "id": "hQGVJ1RGCO87"
      },
      "outputs": [],
      "source": [
        "from scikeras.wrappers import KerasClassifier"
      ]
    },
    {
      "cell_type": "markdown",
      "metadata": {
        "id": "FAx4_wPT_kir"
      },
      "source": [
        "## Import dataset"
      ]
    },
    {
      "cell_type": "code",
      "execution_count": null,
      "metadata": {
        "id": "UV5cHyMj_VaB"
      },
      "outputs": [],
      "source": [
        "color_set = pd.read_csv('/content/drive/MyDrive/Colab Notebooks/UCL/Assessment/color_dataset.csv')"
      ]
    },
    {
      "cell_type": "markdown",
      "metadata": {
        "id": "Fs73LdNC_pFV"
      },
      "source": [
        "## Data analysis\n"
      ]
    },
    {
      "cell_type": "code",
      "execution_count": null,
      "metadata": {
        "id": "yziEOlvp_VkF",
        "colab": {
          "base_uri": "https://localhost:8080/"
        },
        "outputId": "45aeb5c4-1a9b-4b97-c00a-5ddf63892eec"
      },
      "outputs": [
        {
          "output_type": "stream",
          "name": "stdout",
          "text": [
            "<class 'pandas.core.frame.DataFrame'>\n",
            "RangeIndex: 5052 entries, 0 to 5051\n",
            "Data columns (total 4 columns):\n",
            " #   Column  Non-Null Count  Dtype \n",
            "---  ------  --------------  ----- \n",
            " 0   red     5052 non-null   int64 \n",
            " 1   green   5052 non-null   int64 \n",
            " 2   blue    5052 non-null   int64 \n",
            " 3   label   5052 non-null   object\n",
            "dtypes: int64(3), object(1)\n",
            "memory usage: 158.0+ KB\n"
          ]
        }
      ],
      "source": [
        "color_set.info()"
      ]
    },
    {
      "cell_type": "code",
      "execution_count": null,
      "metadata": {
        "id": "wAzhs0lG_VtU",
        "colab": {
          "base_uri": "https://localhost:8080/",
          "height": 206
        },
        "outputId": "24e10a44-a18f-4e65-8459-74271a73a87a"
      },
      "outputs": [
        {
          "output_type": "execute_result",
          "data": {
            "text/plain": [
              "   red  green  blue  label\n",
              "0   20    139   240   Blue\n",
              "1  174     83    72  Brown\n",
              "2  144    249   131  Green\n",
              "3  168     25   156   Pink\n",
              "4   30    182   136  Green"
            ],
            "text/html": [
              "\n",
              "  <div id=\"df-959c707f-aeb7-4c5c-920c-c56c64042ca7\">\n",
              "    <div class=\"colab-df-container\">\n",
              "      <div>\n",
              "<style scoped>\n",
              "    .dataframe tbody tr th:only-of-type {\n",
              "        vertical-align: middle;\n",
              "    }\n",
              "\n",
              "    .dataframe tbody tr th {\n",
              "        vertical-align: top;\n",
              "    }\n",
              "\n",
              "    .dataframe thead th {\n",
              "        text-align: right;\n",
              "    }\n",
              "</style>\n",
              "<table border=\"1\" class=\"dataframe\">\n",
              "  <thead>\n",
              "    <tr style=\"text-align: right;\">\n",
              "      <th></th>\n",
              "      <th>red</th>\n",
              "      <th>green</th>\n",
              "      <th>blue</th>\n",
              "      <th>label</th>\n",
              "    </tr>\n",
              "  </thead>\n",
              "  <tbody>\n",
              "    <tr>\n",
              "      <th>0</th>\n",
              "      <td>20</td>\n",
              "      <td>139</td>\n",
              "      <td>240</td>\n",
              "      <td>Blue</td>\n",
              "    </tr>\n",
              "    <tr>\n",
              "      <th>1</th>\n",
              "      <td>174</td>\n",
              "      <td>83</td>\n",
              "      <td>72</td>\n",
              "      <td>Brown</td>\n",
              "    </tr>\n",
              "    <tr>\n",
              "      <th>2</th>\n",
              "      <td>144</td>\n",
              "      <td>249</td>\n",
              "      <td>131</td>\n",
              "      <td>Green</td>\n",
              "    </tr>\n",
              "    <tr>\n",
              "      <th>3</th>\n",
              "      <td>168</td>\n",
              "      <td>25</td>\n",
              "      <td>156</td>\n",
              "      <td>Pink</td>\n",
              "    </tr>\n",
              "    <tr>\n",
              "      <th>4</th>\n",
              "      <td>30</td>\n",
              "      <td>182</td>\n",
              "      <td>136</td>\n",
              "      <td>Green</td>\n",
              "    </tr>\n",
              "  </tbody>\n",
              "</table>\n",
              "</div>\n",
              "      <button class=\"colab-df-convert\" onclick=\"convertToInteractive('df-959c707f-aeb7-4c5c-920c-c56c64042ca7')\"\n",
              "              title=\"Convert this dataframe to an interactive table.\"\n",
              "              style=\"display:none;\">\n",
              "        \n",
              "  <svg xmlns=\"http://www.w3.org/2000/svg\" height=\"24px\"viewBox=\"0 0 24 24\"\n",
              "       width=\"24px\">\n",
              "    <path d=\"M0 0h24v24H0V0z\" fill=\"none\"/>\n",
              "    <path d=\"M18.56 5.44l.94 2.06.94-2.06 2.06-.94-2.06-.94-.94-2.06-.94 2.06-2.06.94zm-11 1L8.5 8.5l.94-2.06 2.06-.94-2.06-.94L8.5 2.5l-.94 2.06-2.06.94zm10 10l.94 2.06.94-2.06 2.06-.94-2.06-.94-.94-2.06-.94 2.06-2.06.94z\"/><path d=\"M17.41 7.96l-1.37-1.37c-.4-.4-.92-.59-1.43-.59-.52 0-1.04.2-1.43.59L10.3 9.45l-7.72 7.72c-.78.78-.78 2.05 0 2.83L4 21.41c.39.39.9.59 1.41.59.51 0 1.02-.2 1.41-.59l7.78-7.78 2.81-2.81c.8-.78.8-2.07 0-2.86zM5.41 20L4 18.59l7.72-7.72 1.47 1.35L5.41 20z\"/>\n",
              "  </svg>\n",
              "      </button>\n",
              "      \n",
              "  <style>\n",
              "    .colab-df-container {\n",
              "      display:flex;\n",
              "      flex-wrap:wrap;\n",
              "      gap: 12px;\n",
              "    }\n",
              "\n",
              "    .colab-df-convert {\n",
              "      background-color: #E8F0FE;\n",
              "      border: none;\n",
              "      border-radius: 50%;\n",
              "      cursor: pointer;\n",
              "      display: none;\n",
              "      fill: #1967D2;\n",
              "      height: 32px;\n",
              "      padding: 0 0 0 0;\n",
              "      width: 32px;\n",
              "    }\n",
              "\n",
              "    .colab-df-convert:hover {\n",
              "      background-color: #E2EBFA;\n",
              "      box-shadow: 0px 1px 2px rgba(60, 64, 67, 0.3), 0px 1px 3px 1px rgba(60, 64, 67, 0.15);\n",
              "      fill: #174EA6;\n",
              "    }\n",
              "\n",
              "    [theme=dark] .colab-df-convert {\n",
              "      background-color: #3B4455;\n",
              "      fill: #D2E3FC;\n",
              "    }\n",
              "\n",
              "    [theme=dark] .colab-df-convert:hover {\n",
              "      background-color: #434B5C;\n",
              "      box-shadow: 0px 1px 3px 1px rgba(0, 0, 0, 0.15);\n",
              "      filter: drop-shadow(0px 1px 2px rgba(0, 0, 0, 0.3));\n",
              "      fill: #FFFFFF;\n",
              "    }\n",
              "  </style>\n",
              "\n",
              "      <script>\n",
              "        const buttonEl =\n",
              "          document.querySelector('#df-959c707f-aeb7-4c5c-920c-c56c64042ca7 button.colab-df-convert');\n",
              "        buttonEl.style.display =\n",
              "          google.colab.kernel.accessAllowed ? 'block' : 'none';\n",
              "\n",
              "        async function convertToInteractive(key) {\n",
              "          const element = document.querySelector('#df-959c707f-aeb7-4c5c-920c-c56c64042ca7');\n",
              "          const dataTable =\n",
              "            await google.colab.kernel.invokeFunction('convertToInteractive',\n",
              "                                                     [key], {});\n",
              "          if (!dataTable) return;\n",
              "\n",
              "          const docLinkHtml = 'Like what you see? Visit the ' +\n",
              "            '<a target=\"_blank\" href=https://colab.research.google.com/notebooks/data_table.ipynb>data table notebook</a>'\n",
              "            + ' to learn more about interactive tables.';\n",
              "          element.innerHTML = '';\n",
              "          dataTable['output_type'] = 'display_data';\n",
              "          await google.colab.output.renderOutput(dataTable, element);\n",
              "          const docLink = document.createElement('div');\n",
              "          docLink.innerHTML = docLinkHtml;\n",
              "          element.appendChild(docLink);\n",
              "        }\n",
              "      </script>\n",
              "    </div>\n",
              "  </div>\n",
              "  "
            ]
          },
          "metadata": {},
          "execution_count": 6
        }
      ],
      "source": [
        "color_set.head()"
      ]
    },
    {
      "cell_type": "code",
      "execution_count": null,
      "metadata": {
        "id": "p4iNJlfd_WC8",
        "colab": {
          "base_uri": "https://localhost:8080/"
        },
        "outputId": "c9ec7a04-dd40-4bf4-d785-953e7ab1e86e"
      },
      "outputs": [
        {
          "output_type": "execute_result",
          "data": {
            "text/plain": [
              "Index(['red', 'green', 'blue', 'label'], dtype='object')"
            ]
          },
          "metadata": {},
          "execution_count": 7
        }
      ],
      "source": [
        "color_set.columns"
      ]
    },
    {
      "cell_type": "code",
      "execution_count": null,
      "metadata": {
        "id": "5kwVVpk1_wbV"
      },
      "outputs": [],
      "source": [
        "nb_col=len(color_set.columns)"
      ]
    },
    {
      "cell_type": "markdown",
      "metadata": {
        "id": "gtkDUDRh_yJy"
      },
      "source": [
        "## Data Preprocessing\n"
      ]
    },
    {
      "cell_type": "markdown",
      "metadata": {
        "id": "rsI257xG_0kN"
      },
      "source": [
        "### Data Encoding\n",
        "Converting the label into binary variables using One-Hot Encoding as there is no order in the label"
      ]
    },
    {
      "cell_type": "code",
      "execution_count": null,
      "metadata": {
        "id": "1eFYPPA-_wYP",
        "colab": {
          "base_uri": "https://localhost:8080/",
          "height": 270
        },
        "outputId": "8d068ff8-1dff-4c1e-b678-cfe7b00f05fb"
      },
      "outputs": [
        {
          "output_type": "execute_result",
          "data": {
            "text/plain": [
              "   red  green  blue  label_Black  label_Blue  label_Brown  label_Green  \\\n",
              "0   20    139   240            0           1            0            0   \n",
              "1  174     83    72            0           0            1            0   \n",
              "2  144    249   131            0           0            0            1   \n",
              "3  168     25   156            0           0            0            0   \n",
              "4   30    182   136            0           0            0            1   \n",
              "\n",
              "   label_Grey  label_Orange  label_Pink  label_Purple  label_Red  label_White  \\\n",
              "0           0             0           0             0          0            0   \n",
              "1           0             0           0             0          0            0   \n",
              "2           0             0           0             0          0            0   \n",
              "3           0             0           1             0          0            0   \n",
              "4           0             0           0             0          0            0   \n",
              "\n",
              "   label_Yellow  \n",
              "0             0  \n",
              "1             0  \n",
              "2             0  \n",
              "3             0  \n",
              "4             0  "
            ],
            "text/html": [
              "\n",
              "  <div id=\"df-8b21485e-db9a-4749-8d17-dc0fcebd60ac\">\n",
              "    <div class=\"colab-df-container\">\n",
              "      <div>\n",
              "<style scoped>\n",
              "    .dataframe tbody tr th:only-of-type {\n",
              "        vertical-align: middle;\n",
              "    }\n",
              "\n",
              "    .dataframe tbody tr th {\n",
              "        vertical-align: top;\n",
              "    }\n",
              "\n",
              "    .dataframe thead th {\n",
              "        text-align: right;\n",
              "    }\n",
              "</style>\n",
              "<table border=\"1\" class=\"dataframe\">\n",
              "  <thead>\n",
              "    <tr style=\"text-align: right;\">\n",
              "      <th></th>\n",
              "      <th>red</th>\n",
              "      <th>green</th>\n",
              "      <th>blue</th>\n",
              "      <th>label_Black</th>\n",
              "      <th>label_Blue</th>\n",
              "      <th>label_Brown</th>\n",
              "      <th>label_Green</th>\n",
              "      <th>label_Grey</th>\n",
              "      <th>label_Orange</th>\n",
              "      <th>label_Pink</th>\n",
              "      <th>label_Purple</th>\n",
              "      <th>label_Red</th>\n",
              "      <th>label_White</th>\n",
              "      <th>label_Yellow</th>\n",
              "    </tr>\n",
              "  </thead>\n",
              "  <tbody>\n",
              "    <tr>\n",
              "      <th>0</th>\n",
              "      <td>20</td>\n",
              "      <td>139</td>\n",
              "      <td>240</td>\n",
              "      <td>0</td>\n",
              "      <td>1</td>\n",
              "      <td>0</td>\n",
              "      <td>0</td>\n",
              "      <td>0</td>\n",
              "      <td>0</td>\n",
              "      <td>0</td>\n",
              "      <td>0</td>\n",
              "      <td>0</td>\n",
              "      <td>0</td>\n",
              "      <td>0</td>\n",
              "    </tr>\n",
              "    <tr>\n",
              "      <th>1</th>\n",
              "      <td>174</td>\n",
              "      <td>83</td>\n",
              "      <td>72</td>\n",
              "      <td>0</td>\n",
              "      <td>0</td>\n",
              "      <td>1</td>\n",
              "      <td>0</td>\n",
              "      <td>0</td>\n",
              "      <td>0</td>\n",
              "      <td>0</td>\n",
              "      <td>0</td>\n",
              "      <td>0</td>\n",
              "      <td>0</td>\n",
              "      <td>0</td>\n",
              "    </tr>\n",
              "    <tr>\n",
              "      <th>2</th>\n",
              "      <td>144</td>\n",
              "      <td>249</td>\n",
              "      <td>131</td>\n",
              "      <td>0</td>\n",
              "      <td>0</td>\n",
              "      <td>0</td>\n",
              "      <td>1</td>\n",
              "      <td>0</td>\n",
              "      <td>0</td>\n",
              "      <td>0</td>\n",
              "      <td>0</td>\n",
              "      <td>0</td>\n",
              "      <td>0</td>\n",
              "      <td>0</td>\n",
              "    </tr>\n",
              "    <tr>\n",
              "      <th>3</th>\n",
              "      <td>168</td>\n",
              "      <td>25</td>\n",
              "      <td>156</td>\n",
              "      <td>0</td>\n",
              "      <td>0</td>\n",
              "      <td>0</td>\n",
              "      <td>0</td>\n",
              "      <td>0</td>\n",
              "      <td>0</td>\n",
              "      <td>1</td>\n",
              "      <td>0</td>\n",
              "      <td>0</td>\n",
              "      <td>0</td>\n",
              "      <td>0</td>\n",
              "    </tr>\n",
              "    <tr>\n",
              "      <th>4</th>\n",
              "      <td>30</td>\n",
              "      <td>182</td>\n",
              "      <td>136</td>\n",
              "      <td>0</td>\n",
              "      <td>0</td>\n",
              "      <td>0</td>\n",
              "      <td>1</td>\n",
              "      <td>0</td>\n",
              "      <td>0</td>\n",
              "      <td>0</td>\n",
              "      <td>0</td>\n",
              "      <td>0</td>\n",
              "      <td>0</td>\n",
              "      <td>0</td>\n",
              "    </tr>\n",
              "  </tbody>\n",
              "</table>\n",
              "</div>\n",
              "      <button class=\"colab-df-convert\" onclick=\"convertToInteractive('df-8b21485e-db9a-4749-8d17-dc0fcebd60ac')\"\n",
              "              title=\"Convert this dataframe to an interactive table.\"\n",
              "              style=\"display:none;\">\n",
              "        \n",
              "  <svg xmlns=\"http://www.w3.org/2000/svg\" height=\"24px\"viewBox=\"0 0 24 24\"\n",
              "       width=\"24px\">\n",
              "    <path d=\"M0 0h24v24H0V0z\" fill=\"none\"/>\n",
              "    <path d=\"M18.56 5.44l.94 2.06.94-2.06 2.06-.94-2.06-.94-.94-2.06-.94 2.06-2.06.94zm-11 1L8.5 8.5l.94-2.06 2.06-.94-2.06-.94L8.5 2.5l-.94 2.06-2.06.94zm10 10l.94 2.06.94-2.06 2.06-.94-2.06-.94-.94-2.06-.94 2.06-2.06.94z\"/><path d=\"M17.41 7.96l-1.37-1.37c-.4-.4-.92-.59-1.43-.59-.52 0-1.04.2-1.43.59L10.3 9.45l-7.72 7.72c-.78.78-.78 2.05 0 2.83L4 21.41c.39.39.9.59 1.41.59.51 0 1.02-.2 1.41-.59l7.78-7.78 2.81-2.81c.8-.78.8-2.07 0-2.86zM5.41 20L4 18.59l7.72-7.72 1.47 1.35L5.41 20z\"/>\n",
              "  </svg>\n",
              "      </button>\n",
              "      \n",
              "  <style>\n",
              "    .colab-df-container {\n",
              "      display:flex;\n",
              "      flex-wrap:wrap;\n",
              "      gap: 12px;\n",
              "    }\n",
              "\n",
              "    .colab-df-convert {\n",
              "      background-color: #E8F0FE;\n",
              "      border: none;\n",
              "      border-radius: 50%;\n",
              "      cursor: pointer;\n",
              "      display: none;\n",
              "      fill: #1967D2;\n",
              "      height: 32px;\n",
              "      padding: 0 0 0 0;\n",
              "      width: 32px;\n",
              "    }\n",
              "\n",
              "    .colab-df-convert:hover {\n",
              "      background-color: #E2EBFA;\n",
              "      box-shadow: 0px 1px 2px rgba(60, 64, 67, 0.3), 0px 1px 3px 1px rgba(60, 64, 67, 0.15);\n",
              "      fill: #174EA6;\n",
              "    }\n",
              "\n",
              "    [theme=dark] .colab-df-convert {\n",
              "      background-color: #3B4455;\n",
              "      fill: #D2E3FC;\n",
              "    }\n",
              "\n",
              "    [theme=dark] .colab-df-convert:hover {\n",
              "      background-color: #434B5C;\n",
              "      box-shadow: 0px 1px 3px 1px rgba(0, 0, 0, 0.15);\n",
              "      filter: drop-shadow(0px 1px 2px rgba(0, 0, 0, 0.3));\n",
              "      fill: #FFFFFF;\n",
              "    }\n",
              "  </style>\n",
              "\n",
              "      <script>\n",
              "        const buttonEl =\n",
              "          document.querySelector('#df-8b21485e-db9a-4749-8d17-dc0fcebd60ac button.colab-df-convert');\n",
              "        buttonEl.style.display =\n",
              "          google.colab.kernel.accessAllowed ? 'block' : 'none';\n",
              "\n",
              "        async function convertToInteractive(key) {\n",
              "          const element = document.querySelector('#df-8b21485e-db9a-4749-8d17-dc0fcebd60ac');\n",
              "          const dataTable =\n",
              "            await google.colab.kernel.invokeFunction('convertToInteractive',\n",
              "                                                     [key], {});\n",
              "          if (!dataTable) return;\n",
              "\n",
              "          const docLinkHtml = 'Like what you see? Visit the ' +\n",
              "            '<a target=\"_blank\" href=https://colab.research.google.com/notebooks/data_table.ipynb>data table notebook</a>'\n",
              "            + ' to learn more about interactive tables.';\n",
              "          element.innerHTML = '';\n",
              "          dataTable['output_type'] = 'display_data';\n",
              "          await google.colab.output.renderOutput(dataTable, element);\n",
              "          const docLink = document.createElement('div');\n",
              "          docLink.innerHTML = docLinkHtml;\n",
              "          element.appendChild(docLink);\n",
              "        }\n",
              "      </script>\n",
              "    </div>\n",
              "  </div>\n",
              "  "
            ]
          },
          "metadata": {},
          "execution_count": 11
        }
      ],
      "source": [
        "df_colors = pd.get_dummies(color_set, columns=['label'])\n",
        "df_colors.head()"
      ]
    },
    {
      "cell_type": "markdown",
      "metadata": {
        "id": "5Z4P1dVe5kHQ"
      },
      "source": [
        "### Data Normalization\n",
        "Transform the RGB value from 0 to 255 to values from 0 to 1"
      ]
    },
    {
      "cell_type": "code",
      "execution_count": null,
      "metadata": {
        "id": "YB4UpU0d5kUQ"
      },
      "outputs": [],
      "source": [
        "df_colors['red'] = df_colors['red'] / 255.0\n",
        "df_colors['green'] = df_colors['green'] / 255.0\n",
        "df_colors['blue'] = df_colors['blue'] / 255.0"
      ]
    },
    {
      "cell_type": "code",
      "execution_count": null,
      "metadata": {
        "id": "pzZFIdbt_HyS",
        "colab": {
          "base_uri": "https://localhost:8080/",
          "height": 270
        },
        "outputId": "21a48bd8-ef50-45ee-cc00-49d1b66d0b55"
      },
      "outputs": [
        {
          "output_type": "execute_result",
          "data": {
            "text/plain": [
              "        red     green      blue  label_Black  label_Blue  label_Brown  \\\n",
              "0  0.078431  0.545098  0.941176            0           1            0   \n",
              "1  0.682353  0.325490  0.282353            0           0            1   \n",
              "2  0.564706  0.976471  0.513725            0           0            0   \n",
              "3  0.658824  0.098039  0.611765            0           0            0   \n",
              "4  0.117647  0.713725  0.533333            0           0            0   \n",
              "\n",
              "   label_Green  label_Grey  label_Orange  label_Pink  label_Purple  label_Red  \\\n",
              "0            0           0             0           0             0          0   \n",
              "1            0           0             0           0             0          0   \n",
              "2            1           0             0           0             0          0   \n",
              "3            0           0             0           1             0          0   \n",
              "4            1           0             0           0             0          0   \n",
              "\n",
              "   label_White  label_Yellow  \n",
              "0            0             0  \n",
              "1            0             0  \n",
              "2            0             0  \n",
              "3            0             0  \n",
              "4            0             0  "
            ],
            "text/html": [
              "\n",
              "  <div id=\"df-93a05313-9ceb-4c75-86fb-2c593d0dac45\">\n",
              "    <div class=\"colab-df-container\">\n",
              "      <div>\n",
              "<style scoped>\n",
              "    .dataframe tbody tr th:only-of-type {\n",
              "        vertical-align: middle;\n",
              "    }\n",
              "\n",
              "    .dataframe tbody tr th {\n",
              "        vertical-align: top;\n",
              "    }\n",
              "\n",
              "    .dataframe thead th {\n",
              "        text-align: right;\n",
              "    }\n",
              "</style>\n",
              "<table border=\"1\" class=\"dataframe\">\n",
              "  <thead>\n",
              "    <tr style=\"text-align: right;\">\n",
              "      <th></th>\n",
              "      <th>red</th>\n",
              "      <th>green</th>\n",
              "      <th>blue</th>\n",
              "      <th>label_Black</th>\n",
              "      <th>label_Blue</th>\n",
              "      <th>label_Brown</th>\n",
              "      <th>label_Green</th>\n",
              "      <th>label_Grey</th>\n",
              "      <th>label_Orange</th>\n",
              "      <th>label_Pink</th>\n",
              "      <th>label_Purple</th>\n",
              "      <th>label_Red</th>\n",
              "      <th>label_White</th>\n",
              "      <th>label_Yellow</th>\n",
              "    </tr>\n",
              "  </thead>\n",
              "  <tbody>\n",
              "    <tr>\n",
              "      <th>0</th>\n",
              "      <td>0.078431</td>\n",
              "      <td>0.545098</td>\n",
              "      <td>0.941176</td>\n",
              "      <td>0</td>\n",
              "      <td>1</td>\n",
              "      <td>0</td>\n",
              "      <td>0</td>\n",
              "      <td>0</td>\n",
              "      <td>0</td>\n",
              "      <td>0</td>\n",
              "      <td>0</td>\n",
              "      <td>0</td>\n",
              "      <td>0</td>\n",
              "      <td>0</td>\n",
              "    </tr>\n",
              "    <tr>\n",
              "      <th>1</th>\n",
              "      <td>0.682353</td>\n",
              "      <td>0.325490</td>\n",
              "      <td>0.282353</td>\n",
              "      <td>0</td>\n",
              "      <td>0</td>\n",
              "      <td>1</td>\n",
              "      <td>0</td>\n",
              "      <td>0</td>\n",
              "      <td>0</td>\n",
              "      <td>0</td>\n",
              "      <td>0</td>\n",
              "      <td>0</td>\n",
              "      <td>0</td>\n",
              "      <td>0</td>\n",
              "    </tr>\n",
              "    <tr>\n",
              "      <th>2</th>\n",
              "      <td>0.564706</td>\n",
              "      <td>0.976471</td>\n",
              "      <td>0.513725</td>\n",
              "      <td>0</td>\n",
              "      <td>0</td>\n",
              "      <td>0</td>\n",
              "      <td>1</td>\n",
              "      <td>0</td>\n",
              "      <td>0</td>\n",
              "      <td>0</td>\n",
              "      <td>0</td>\n",
              "      <td>0</td>\n",
              "      <td>0</td>\n",
              "      <td>0</td>\n",
              "    </tr>\n",
              "    <tr>\n",
              "      <th>3</th>\n",
              "      <td>0.658824</td>\n",
              "      <td>0.098039</td>\n",
              "      <td>0.611765</td>\n",
              "      <td>0</td>\n",
              "      <td>0</td>\n",
              "      <td>0</td>\n",
              "      <td>0</td>\n",
              "      <td>0</td>\n",
              "      <td>0</td>\n",
              "      <td>1</td>\n",
              "      <td>0</td>\n",
              "      <td>0</td>\n",
              "      <td>0</td>\n",
              "      <td>0</td>\n",
              "    </tr>\n",
              "    <tr>\n",
              "      <th>4</th>\n",
              "      <td>0.117647</td>\n",
              "      <td>0.713725</td>\n",
              "      <td>0.533333</td>\n",
              "      <td>0</td>\n",
              "      <td>0</td>\n",
              "      <td>0</td>\n",
              "      <td>1</td>\n",
              "      <td>0</td>\n",
              "      <td>0</td>\n",
              "      <td>0</td>\n",
              "      <td>0</td>\n",
              "      <td>0</td>\n",
              "      <td>0</td>\n",
              "      <td>0</td>\n",
              "    </tr>\n",
              "  </tbody>\n",
              "</table>\n",
              "</div>\n",
              "      <button class=\"colab-df-convert\" onclick=\"convertToInteractive('df-93a05313-9ceb-4c75-86fb-2c593d0dac45')\"\n",
              "              title=\"Convert this dataframe to an interactive table.\"\n",
              "              style=\"display:none;\">\n",
              "        \n",
              "  <svg xmlns=\"http://www.w3.org/2000/svg\" height=\"24px\"viewBox=\"0 0 24 24\"\n",
              "       width=\"24px\">\n",
              "    <path d=\"M0 0h24v24H0V0z\" fill=\"none\"/>\n",
              "    <path d=\"M18.56 5.44l.94 2.06.94-2.06 2.06-.94-2.06-.94-.94-2.06-.94 2.06-2.06.94zm-11 1L8.5 8.5l.94-2.06 2.06-.94-2.06-.94L8.5 2.5l-.94 2.06-2.06.94zm10 10l.94 2.06.94-2.06 2.06-.94-2.06-.94-.94-2.06-.94 2.06-2.06.94z\"/><path d=\"M17.41 7.96l-1.37-1.37c-.4-.4-.92-.59-1.43-.59-.52 0-1.04.2-1.43.59L10.3 9.45l-7.72 7.72c-.78.78-.78 2.05 0 2.83L4 21.41c.39.39.9.59 1.41.59.51 0 1.02-.2 1.41-.59l7.78-7.78 2.81-2.81c.8-.78.8-2.07 0-2.86zM5.41 20L4 18.59l7.72-7.72 1.47 1.35L5.41 20z\"/>\n",
              "  </svg>\n",
              "      </button>\n",
              "      \n",
              "  <style>\n",
              "    .colab-df-container {\n",
              "      display:flex;\n",
              "      flex-wrap:wrap;\n",
              "      gap: 12px;\n",
              "    }\n",
              "\n",
              "    .colab-df-convert {\n",
              "      background-color: #E8F0FE;\n",
              "      border: none;\n",
              "      border-radius: 50%;\n",
              "      cursor: pointer;\n",
              "      display: none;\n",
              "      fill: #1967D2;\n",
              "      height: 32px;\n",
              "      padding: 0 0 0 0;\n",
              "      width: 32px;\n",
              "    }\n",
              "\n",
              "    .colab-df-convert:hover {\n",
              "      background-color: #E2EBFA;\n",
              "      box-shadow: 0px 1px 2px rgba(60, 64, 67, 0.3), 0px 1px 3px 1px rgba(60, 64, 67, 0.15);\n",
              "      fill: #174EA6;\n",
              "    }\n",
              "\n",
              "    [theme=dark] .colab-df-convert {\n",
              "      background-color: #3B4455;\n",
              "      fill: #D2E3FC;\n",
              "    }\n",
              "\n",
              "    [theme=dark] .colab-df-convert:hover {\n",
              "      background-color: #434B5C;\n",
              "      box-shadow: 0px 1px 3px 1px rgba(0, 0, 0, 0.15);\n",
              "      filter: drop-shadow(0px 1px 2px rgba(0, 0, 0, 0.3));\n",
              "      fill: #FFFFFF;\n",
              "    }\n",
              "  </style>\n",
              "\n",
              "      <script>\n",
              "        const buttonEl =\n",
              "          document.querySelector('#df-93a05313-9ceb-4c75-86fb-2c593d0dac45 button.colab-df-convert');\n",
              "        buttonEl.style.display =\n",
              "          google.colab.kernel.accessAllowed ? 'block' : 'none';\n",
              "\n",
              "        async function convertToInteractive(key) {\n",
              "          const element = document.querySelector('#df-93a05313-9ceb-4c75-86fb-2c593d0dac45');\n",
              "          const dataTable =\n",
              "            await google.colab.kernel.invokeFunction('convertToInteractive',\n",
              "                                                     [key], {});\n",
              "          if (!dataTable) return;\n",
              "\n",
              "          const docLinkHtml = 'Like what you see? Visit the ' +\n",
              "            '<a target=\"_blank\" href=https://colab.research.google.com/notebooks/data_table.ipynb>data table notebook</a>'\n",
              "            + ' to learn more about interactive tables.';\n",
              "          element.innerHTML = '';\n",
              "          dataTable['output_type'] = 'display_data';\n",
              "          await google.colab.output.renderOutput(dataTable, element);\n",
              "          const docLink = document.createElement('div');\n",
              "          docLink.innerHTML = docLinkHtml;\n",
              "          element.appendChild(docLink);\n",
              "        }\n",
              "      </script>\n",
              "    </div>\n",
              "  </div>\n",
              "  "
            ]
          },
          "metadata": {},
          "execution_count": 12
        }
      ],
      "source": [
        "df_colors.head()"
      ]
    },
    {
      "cell_type": "markdown",
      "metadata": {
        "id": "raW5gRHB_4Q7"
      },
      "source": [
        "### Split the dataset (70/15/15)"
      ]
    },
    {
      "cell_type": "markdown",
      "metadata": {
        "id": "2lMYoy3J_6em"
      },
      "source": [
        "Splitting the dataset into 2 sets:\n",
        "  - 70% for the training set (used to get the parameters of the model)\n",
        "  - 15% for validation set (used to define the hyperparameter and avoid overfitting)\n",
        "  - 15% for test set (used to test the model on unseen data)"
      ]
    },
    {
      "cell_type": "code",
      "execution_count": null,
      "metadata": {
        "id": "uNhxRJfD_wUm"
      },
      "outputs": [],
      "source": [
        "# sample the dataset\n",
        "df = shuffle(df_colors)\n",
        "\n",
        "# split between xs an ys\n",
        "xs, ys = np.split(df.values, [3], axis=1)\n",
        "#ys = ys.reshape(-1)"
      ]
    },
    {
      "cell_type": "code",
      "execution_count": null,
      "metadata": {
        "id": "D-uosgmK_wOE"
      },
      "outputs": [],
      "source": [
        "xs_train, xs_test, ys_train, ys_test = train_test_split(xs, ys, test_size = 0.2, random_state = seed)"
      ]
    },
    {
      "cell_type": "markdown",
      "metadata": {
        "id": "yJdnsOw5sPdf"
      },
      "source": [
        "## Modelling"
      ]
    },
    {
      "cell_type": "markdown",
      "metadata": {
        "id": "dxA6pGSDxeim"
      },
      "source": [
        "### ANN"
      ]
    },
    {
      "cell_type": "markdown",
      "metadata": {
        "id": "P9LUhKp92c1Y"
      },
      "source": [
        "#### Model 1"
      ]
    },
    {
      "cell_type": "markdown",
      "metadata": {
        "id": "BNGun4Gcxfqc"
      },
      "source": [
        "Define and compile the model"
      ]
    },
    {
      "cell_type": "code",
      "execution_count": null,
      "metadata": {
        "id": "5UuB7Xq3xlPe",
        "colab": {
          "base_uri": "https://localhost:8080/"
        },
        "outputId": "089e5df0-4ead-4054-c1d4-ee1b7cc692c1"
      },
      "outputs": [
        {
          "output_type": "stream",
          "name": "stdout",
          "text": [
            "Model: \"sequential\"\n",
            "_________________________________________________________________\n",
            " Layer (type)                Output Shape              Param #   \n",
            "=================================================================\n",
            " dense (Dense)               (None, 3)                 12        \n",
            "                                                                 \n",
            " dense_1 (Dense)             (None, 16)                64        \n",
            "                                                                 \n",
            " dense_2 (Dense)             (None, 11)                187       \n",
            "                                                                 \n",
            "=================================================================\n",
            "Total params: 263\n",
            "Trainable params: 263\n",
            "Non-trainable params: 0\n",
            "_________________________________________________________________\n"
          ]
        }
      ],
      "source": [
        "# Parameters model 1\n",
        "nb_layers1 = 2\n",
        "activation_fct = 'relu'\n",
        "loss_function = 'mean_squared_error'\n",
        "optimizer = 'adam'\n",
        "xs_shape = len(pd.DataFrame(xs_train).keys())\n",
        "\n",
        "# model 1\n",
        "model1 = keras.Sequential([\n",
        "    layers.Dense(3, input_shape=[xs_shape], activation=activation_fct),\n",
        "    layers.Dense(16, activation = activation_fct),\n",
        "    layers.Dense(11)\n",
        "])\n",
        "model1.summary()\n",
        "\n",
        "# compile the model 1\n",
        "model1.compile(optimizer=optimizer, loss=loss_function, metrics=['accuracy'])"
      ]
    },
    {
      "cell_type": "markdown",
      "metadata": {
        "id": "tYxrUA2l2xP6"
      },
      "source": [
        "Train the model 1"
      ]
    },
    {
      "cell_type": "code",
      "execution_count": null,
      "metadata": {
        "id": "ONOwWOgzzMMh",
        "colab": {
          "base_uri": "https://localhost:8080/"
        },
        "outputId": "06356234-1e9f-499f-a106-615cd5d41cc9"
      },
      "outputs": [
        {
          "output_type": "stream",
          "name": "stdout",
          "text": [
            "Epoch 1/200\n",
            "35/35 [==============================] - 3s 21ms/step - loss: 0.0920 - accuracy: 0.0579 - val_loss: 0.0859 - val_accuracy: 0.1664\n",
            "Epoch 2/200\n",
            "35/35 [==============================] - 0s 13ms/step - loss: 0.0818 - accuracy: 0.2740 - val_loss: 0.0784 - val_accuracy: 0.2751\n",
            "Epoch 3/200\n",
            "35/35 [==============================] - 0s 7ms/step - loss: 0.0750 - accuracy: 0.3503 - val_loss: 0.0729 - val_accuracy: 0.4283\n",
            "Epoch 4/200\n",
            "35/35 [==============================] - 0s 7ms/step - loss: 0.0709 - accuracy: 0.4432 - val_loss: 0.0698 - val_accuracy: 0.4530\n",
            "Epoch 5/200\n",
            "35/35 [==============================] - 0s 7ms/step - loss: 0.0682 - accuracy: 0.4525 - val_loss: 0.0675 - val_accuracy: 0.4596\n",
            "Epoch 6/200\n",
            "35/35 [==============================] - 0s 9ms/step - loss: 0.0658 - accuracy: 0.4563 - val_loss: 0.0651 - val_accuracy: 0.4580\n",
            "Epoch 7/200\n",
            "35/35 [==============================] - 0s 6ms/step - loss: 0.0629 - accuracy: 0.4715 - val_loss: 0.0620 - val_accuracy: 0.5321\n",
            "Epoch 8/200\n",
            "35/35 [==============================] - 0s 11ms/step - loss: 0.0593 - accuracy: 0.5521 - val_loss: 0.0589 - val_accuracy: 0.5552\n",
            "Epoch 9/200\n",
            "35/35 [==============================] - 0s 9ms/step - loss: 0.0564 - accuracy: 0.5652 - val_loss: 0.0567 - val_accuracy: 0.5618\n",
            "Epoch 10/200\n",
            "35/35 [==============================] - 0s 8ms/step - loss: 0.0544 - accuracy: 0.5751 - val_loss: 0.0549 - val_accuracy: 0.5733\n",
            "Epoch 11/200\n",
            "35/35 [==============================] - 0s 8ms/step - loss: 0.0528 - accuracy: 0.5842 - val_loss: 0.0535 - val_accuracy: 0.5766\n",
            "Epoch 12/200\n",
            "35/35 [==============================] - 0s 8ms/step - loss: 0.0515 - accuracy: 0.5900 - val_loss: 0.0522 - val_accuracy: 0.5865\n",
            "Epoch 13/200\n",
            "35/35 [==============================] - 0s 10ms/step - loss: 0.0504 - accuracy: 0.5917 - val_loss: 0.0511 - val_accuracy: 0.5914\n",
            "Epoch 14/200\n",
            "35/35 [==============================] - 0s 8ms/step - loss: 0.0495 - accuracy: 0.5970 - val_loss: 0.0502 - val_accuracy: 0.5947\n",
            "Epoch 15/200\n",
            "35/35 [==============================] - 1s 14ms/step - loss: 0.0487 - accuracy: 0.5981 - val_loss: 0.0493 - val_accuracy: 0.6013\n",
            "Epoch 16/200\n",
            "35/35 [==============================] - 0s 13ms/step - loss: 0.0479 - accuracy: 0.5993 - val_loss: 0.0485 - val_accuracy: 0.6030\n",
            "Epoch 17/200\n",
            "35/35 [==============================] - 0s 10ms/step - loss: 0.0471 - accuracy: 0.6051 - val_loss: 0.0477 - val_accuracy: 0.5964\n",
            "Epoch 18/200\n",
            "35/35 [==============================] - 0s 11ms/step - loss: 0.0463 - accuracy: 0.6037 - val_loss: 0.0468 - val_accuracy: 0.5980\n",
            "Epoch 19/200\n",
            "35/35 [==============================] - 0s 14ms/step - loss: 0.0455 - accuracy: 0.6142 - val_loss: 0.0459 - val_accuracy: 0.6211\n",
            "Epoch 20/200\n",
            "35/35 [==============================] - 0s 14ms/step - loss: 0.0447 - accuracy: 0.6200 - val_loss: 0.0451 - val_accuracy: 0.6277\n",
            "Epoch 21/200\n",
            "35/35 [==============================] - 1s 21ms/step - loss: 0.0439 - accuracy: 0.6348 - val_loss: 0.0443 - val_accuracy: 0.6376\n",
            "Epoch 22/200\n",
            "35/35 [==============================] - 0s 13ms/step - loss: 0.0431 - accuracy: 0.6485 - val_loss: 0.0435 - val_accuracy: 0.6491\n",
            "Epoch 23/200\n",
            "35/35 [==============================] - 1s 17ms/step - loss: 0.0423 - accuracy: 0.6645 - val_loss: 0.0427 - val_accuracy: 0.6573\n",
            "Epoch 24/200\n",
            "35/35 [==============================] - 0s 13ms/step - loss: 0.0416 - accuracy: 0.6715 - val_loss: 0.0419 - val_accuracy: 0.6738\n",
            "Epoch 25/200\n",
            "35/35 [==============================] - 0s 7ms/step - loss: 0.0409 - accuracy: 0.6884 - val_loss: 0.0412 - val_accuracy: 0.6787\n",
            "Epoch 26/200\n",
            "35/35 [==============================] - 0s 7ms/step - loss: 0.0402 - accuracy: 0.7003 - val_loss: 0.0406 - val_accuracy: 0.6985\n",
            "Epoch 27/200\n",
            "35/35 [==============================] - 0s 5ms/step - loss: 0.0396 - accuracy: 0.7082 - val_loss: 0.0399 - val_accuracy: 0.6969\n",
            "Epoch 28/200\n",
            "35/35 [==============================] - 0s 10ms/step - loss: 0.0391 - accuracy: 0.7094 - val_loss: 0.0394 - val_accuracy: 0.7068\n",
            "Epoch 29/200\n",
            "35/35 [==============================] - 0s 11ms/step - loss: 0.0386 - accuracy: 0.7196 - val_loss: 0.0389 - val_accuracy: 0.7150\n",
            "Epoch 30/200\n",
            "35/35 [==============================] - 0s 9ms/step - loss: 0.0381 - accuracy: 0.7234 - val_loss: 0.0385 - val_accuracy: 0.7232\n",
            "Epoch 31/200\n",
            "35/35 [==============================] - 0s 7ms/step - loss: 0.0377 - accuracy: 0.7333 - val_loss: 0.0381 - val_accuracy: 0.7249\n",
            "Epoch 32/200\n",
            "35/35 [==============================] - 0s 7ms/step - loss: 0.0374 - accuracy: 0.7344 - val_loss: 0.0377 - val_accuracy: 0.7232\n",
            "Epoch 33/200\n",
            "35/35 [==============================] - 0s 7ms/step - loss: 0.0370 - accuracy: 0.7376 - val_loss: 0.0374 - val_accuracy: 0.7315\n",
            "Epoch 34/200\n",
            "35/35 [==============================] - 0s 7ms/step - loss: 0.0368 - accuracy: 0.7382 - val_loss: 0.0373 - val_accuracy: 0.7331\n",
            "Epoch 35/200\n",
            "35/35 [==============================] - 0s 8ms/step - loss: 0.0365 - accuracy: 0.7429 - val_loss: 0.0369 - val_accuracy: 0.7430\n",
            "Epoch 36/200\n",
            "35/35 [==============================] - 0s 11ms/step - loss: 0.0363 - accuracy: 0.7464 - val_loss: 0.0366 - val_accuracy: 0.7446\n",
            "Epoch 37/200\n",
            "35/35 [==============================] - 0s 8ms/step - loss: 0.0360 - accuracy: 0.7507 - val_loss: 0.0365 - val_accuracy: 0.7463\n",
            "Epoch 38/200\n",
            "35/35 [==============================] - 0s 10ms/step - loss: 0.0358 - accuracy: 0.7513 - val_loss: 0.0362 - val_accuracy: 0.7496\n",
            "Epoch 39/200\n",
            "35/35 [==============================] - 0s 10ms/step - loss: 0.0356 - accuracy: 0.7545 - val_loss: 0.0360 - val_accuracy: 0.7512\n",
            "Epoch 40/200\n",
            "35/35 [==============================] - 0s 9ms/step - loss: 0.0354 - accuracy: 0.7533 - val_loss: 0.0358 - val_accuracy: 0.7430\n",
            "Epoch 41/200\n",
            "35/35 [==============================] - 0s 6ms/step - loss: 0.0353 - accuracy: 0.7592 - val_loss: 0.0356 - val_accuracy: 0.7496\n",
            "Epoch 42/200\n",
            "35/35 [==============================] - 0s 7ms/step - loss: 0.0351 - accuracy: 0.7551 - val_loss: 0.0355 - val_accuracy: 0.7479\n",
            "Epoch 43/200\n",
            "35/35 [==============================] - 0s 12ms/step - loss: 0.0349 - accuracy: 0.7583 - val_loss: 0.0353 - val_accuracy: 0.7496\n",
            "Epoch 44/200\n",
            "35/35 [==============================] - 0s 5ms/step - loss: 0.0347 - accuracy: 0.7577 - val_loss: 0.0352 - val_accuracy: 0.7512\n",
            "Epoch 45/200\n",
            "35/35 [==============================] - 0s 9ms/step - loss: 0.0346 - accuracy: 0.7609 - val_loss: 0.0350 - val_accuracy: 0.7496\n",
            "Epoch 46/200\n",
            "35/35 [==============================] - 0s 11ms/step - loss: 0.0345 - accuracy: 0.7635 - val_loss: 0.0349 - val_accuracy: 0.7479\n",
            "Epoch 47/200\n",
            "35/35 [==============================] - 0s 10ms/step - loss: 0.0343 - accuracy: 0.7612 - val_loss: 0.0348 - val_accuracy: 0.7496\n",
            "Epoch 48/200\n",
            "35/35 [==============================] - 0s 8ms/step - loss: 0.0342 - accuracy: 0.7612 - val_loss: 0.0347 - val_accuracy: 0.7496\n",
            "Epoch 49/200\n",
            "35/35 [==============================] - 0s 6ms/step - loss: 0.0341 - accuracy: 0.7630 - val_loss: 0.0346 - val_accuracy: 0.7512\n",
            "Epoch 50/200\n",
            "35/35 [==============================] - 0s 7ms/step - loss: 0.0340 - accuracy: 0.7630 - val_loss: 0.0346 - val_accuracy: 0.7446\n",
            "Epoch 51/200\n",
            "35/35 [==============================] - 0s 5ms/step - loss: 0.0339 - accuracy: 0.7673 - val_loss: 0.0344 - val_accuracy: 0.7463\n",
            "Epoch 52/200\n",
            "35/35 [==============================] - 0s 3ms/step - loss: 0.0338 - accuracy: 0.7630 - val_loss: 0.0343 - val_accuracy: 0.7463\n",
            "Epoch 53/200\n",
            "35/35 [==============================] - 0s 3ms/step - loss: 0.0337 - accuracy: 0.7685 - val_loss: 0.0342 - val_accuracy: 0.7496\n",
            "Epoch 54/200\n",
            "35/35 [==============================] - 0s 4ms/step - loss: 0.0336 - accuracy: 0.7670 - val_loss: 0.0341 - val_accuracy: 0.7446\n",
            "Epoch 55/200\n",
            "35/35 [==============================] - 0s 4ms/step - loss: 0.0335 - accuracy: 0.7656 - val_loss: 0.0339 - val_accuracy: 0.7463\n",
            "Epoch 56/200\n",
            "35/35 [==============================] - 0s 3ms/step - loss: 0.0333 - accuracy: 0.7679 - val_loss: 0.0339 - val_accuracy: 0.7479\n",
            "Epoch 57/200\n",
            "35/35 [==============================] - 0s 3ms/step - loss: 0.0332 - accuracy: 0.7682 - val_loss: 0.0337 - val_accuracy: 0.7463\n",
            "Epoch 58/200\n",
            "35/35 [==============================] - 0s 4ms/step - loss: 0.0330 - accuracy: 0.7685 - val_loss: 0.0335 - val_accuracy: 0.7479\n",
            "Epoch 59/200\n",
            "35/35 [==============================] - 0s 4ms/step - loss: 0.0329 - accuracy: 0.7702 - val_loss: 0.0334 - val_accuracy: 0.7479\n",
            "Epoch 60/200\n",
            "35/35 [==============================] - 0s 4ms/step - loss: 0.0328 - accuracy: 0.7685 - val_loss: 0.0332 - val_accuracy: 0.7529\n",
            "Epoch 61/200\n",
            "35/35 [==============================] - 0s 4ms/step - loss: 0.0326 - accuracy: 0.7723 - val_loss: 0.0331 - val_accuracy: 0.7496\n",
            "Epoch 62/200\n",
            "35/35 [==============================] - 0s 3ms/step - loss: 0.0324 - accuracy: 0.7714 - val_loss: 0.0330 - val_accuracy: 0.7562\n",
            "Epoch 63/200\n",
            "35/35 [==============================] - 0s 4ms/step - loss: 0.0324 - accuracy: 0.7749 - val_loss: 0.0330 - val_accuracy: 0.7496\n",
            "Epoch 64/200\n",
            "35/35 [==============================] - 0s 3ms/step - loss: 0.0322 - accuracy: 0.7740 - val_loss: 0.0328 - val_accuracy: 0.7611\n",
            "Epoch 65/200\n",
            "35/35 [==============================] - 0s 4ms/step - loss: 0.0321 - accuracy: 0.7752 - val_loss: 0.0326 - val_accuracy: 0.7628\n",
            "Epoch 66/200\n",
            "35/35 [==============================] - 0s 4ms/step - loss: 0.0320 - accuracy: 0.7729 - val_loss: 0.0325 - val_accuracy: 0.7611\n",
            "Epoch 67/200\n",
            "35/35 [==============================] - 0s 4ms/step - loss: 0.0319 - accuracy: 0.7787 - val_loss: 0.0325 - val_accuracy: 0.7644\n",
            "Epoch 68/200\n",
            "35/35 [==============================] - 0s 5ms/step - loss: 0.0318 - accuracy: 0.7740 - val_loss: 0.0324 - val_accuracy: 0.7611\n",
            "Epoch 69/200\n",
            "35/35 [==============================] - 0s 6ms/step - loss: 0.0317 - accuracy: 0.7781 - val_loss: 0.0323 - val_accuracy: 0.7644\n",
            "Epoch 70/200\n",
            "35/35 [==============================] - 0s 4ms/step - loss: 0.0316 - accuracy: 0.7778 - val_loss: 0.0322 - val_accuracy: 0.7661\n",
            "Epoch 71/200\n",
            "35/35 [==============================] - 0s 5ms/step - loss: 0.0315 - accuracy: 0.7781 - val_loss: 0.0321 - val_accuracy: 0.7743\n",
            "Epoch 72/200\n",
            "35/35 [==============================] - 0s 5ms/step - loss: 0.0314 - accuracy: 0.7790 - val_loss: 0.0320 - val_accuracy: 0.7727\n",
            "Epoch 73/200\n",
            "35/35 [==============================] - 0s 5ms/step - loss: 0.0314 - accuracy: 0.7825 - val_loss: 0.0319 - val_accuracy: 0.7661\n",
            "Epoch 74/200\n",
            "35/35 [==============================] - 0s 6ms/step - loss: 0.0313 - accuracy: 0.7793 - val_loss: 0.0319 - val_accuracy: 0.7661\n",
            "Epoch 75/200\n",
            "35/35 [==============================] - 0s 5ms/step - loss: 0.0312 - accuracy: 0.7798 - val_loss: 0.0318 - val_accuracy: 0.7677\n",
            "Epoch 76/200\n",
            "35/35 [==============================] - 0s 5ms/step - loss: 0.0311 - accuracy: 0.7775 - val_loss: 0.0317 - val_accuracy: 0.7727\n",
            "Epoch 77/200\n",
            "35/35 [==============================] - 0s 5ms/step - loss: 0.0311 - accuracy: 0.7833 - val_loss: 0.0316 - val_accuracy: 0.7628\n",
            "Epoch 78/200\n",
            "35/35 [==============================] - 0s 5ms/step - loss: 0.0310 - accuracy: 0.7790 - val_loss: 0.0316 - val_accuracy: 0.7694\n",
            "Epoch 79/200\n",
            "35/35 [==============================] - 0s 7ms/step - loss: 0.0309 - accuracy: 0.7816 - val_loss: 0.0315 - val_accuracy: 0.7710\n",
            "Epoch 80/200\n",
            "35/35 [==============================] - 0s 6ms/step - loss: 0.0309 - accuracy: 0.7813 - val_loss: 0.0315 - val_accuracy: 0.7628\n",
            "Epoch 81/200\n",
            "35/35 [==============================] - 0s 5ms/step - loss: 0.0308 - accuracy: 0.7816 - val_loss: 0.0314 - val_accuracy: 0.7759\n",
            "Epoch 82/200\n",
            "35/35 [==============================] - 0s 5ms/step - loss: 0.0308 - accuracy: 0.7772 - val_loss: 0.0313 - val_accuracy: 0.7759\n",
            "Epoch 83/200\n",
            "35/35 [==============================] - 0s 6ms/step - loss: 0.0307 - accuracy: 0.7813 - val_loss: 0.0314 - val_accuracy: 0.7727\n",
            "Epoch 84/200\n",
            "35/35 [==============================] - 0s 6ms/step - loss: 0.0307 - accuracy: 0.7810 - val_loss: 0.0312 - val_accuracy: 0.7759\n",
            "Epoch 85/200\n",
            "35/35 [==============================] - 0s 5ms/step - loss: 0.0306 - accuracy: 0.7793 - val_loss: 0.0312 - val_accuracy: 0.7759\n",
            "Epoch 86/200\n",
            "35/35 [==============================] - 0s 5ms/step - loss: 0.0305 - accuracy: 0.7833 - val_loss: 0.0312 - val_accuracy: 0.7694\n",
            "Epoch 87/200\n",
            "35/35 [==============================] - 0s 5ms/step - loss: 0.0305 - accuracy: 0.7816 - val_loss: 0.0311 - val_accuracy: 0.7842\n",
            "Epoch 88/200\n",
            "35/35 [==============================] - 0s 6ms/step - loss: 0.0305 - accuracy: 0.7816 - val_loss: 0.0310 - val_accuracy: 0.7776\n",
            "Epoch 89/200\n",
            "35/35 [==============================] - 0s 5ms/step - loss: 0.0304 - accuracy: 0.7810 - val_loss: 0.0309 - val_accuracy: 0.7743\n",
            "Epoch 90/200\n",
            "35/35 [==============================] - 0s 5ms/step - loss: 0.0304 - accuracy: 0.7822 - val_loss: 0.0309 - val_accuracy: 0.7825\n",
            "Epoch 91/200\n",
            "35/35 [==============================] - 0s 3ms/step - loss: 0.0303 - accuracy: 0.7833 - val_loss: 0.0309 - val_accuracy: 0.7776\n",
            "Epoch 92/200\n",
            "35/35 [==============================] - 0s 3ms/step - loss: 0.0303 - accuracy: 0.7807 - val_loss: 0.0308 - val_accuracy: 0.7825\n",
            "Epoch 93/200\n",
            "35/35 [==============================] - 0s 4ms/step - loss: 0.0302 - accuracy: 0.7845 - val_loss: 0.0307 - val_accuracy: 0.7743\n",
            "Epoch 94/200\n",
            "35/35 [==============================] - 0s 3ms/step - loss: 0.0302 - accuracy: 0.7831 - val_loss: 0.0307 - val_accuracy: 0.7759\n",
            "Epoch 95/200\n",
            "35/35 [==============================] - 0s 4ms/step - loss: 0.0302 - accuracy: 0.7854 - val_loss: 0.0307 - val_accuracy: 0.7858\n",
            "Epoch 96/200\n",
            "35/35 [==============================] - 0s 4ms/step - loss: 0.0301 - accuracy: 0.7839 - val_loss: 0.0307 - val_accuracy: 0.7825\n",
            "Epoch 97/200\n",
            "35/35 [==============================] - 0s 4ms/step - loss: 0.0300 - accuracy: 0.7860 - val_loss: 0.0306 - val_accuracy: 0.7743\n",
            "Epoch 98/200\n",
            "35/35 [==============================] - 0s 4ms/step - loss: 0.0300 - accuracy: 0.7845 - val_loss: 0.0306 - val_accuracy: 0.7809\n",
            "Epoch 99/200\n",
            "35/35 [==============================] - 0s 4ms/step - loss: 0.0300 - accuracy: 0.7857 - val_loss: 0.0305 - val_accuracy: 0.7825\n",
            "Epoch 100/200\n",
            "35/35 [==============================] - 0s 3ms/step - loss: 0.0299 - accuracy: 0.7848 - val_loss: 0.0304 - val_accuracy: 0.7792\n",
            "Epoch 101/200\n",
            "35/35 [==============================] - 0s 3ms/step - loss: 0.0299 - accuracy: 0.7854 - val_loss: 0.0305 - val_accuracy: 0.7825\n",
            "Epoch 102/200\n",
            "35/35 [==============================] - 0s 3ms/step - loss: 0.0299 - accuracy: 0.7865 - val_loss: 0.0304 - val_accuracy: 0.7875\n",
            "Epoch 103/200\n",
            "35/35 [==============================] - 0s 4ms/step - loss: 0.0298 - accuracy: 0.7865 - val_loss: 0.0304 - val_accuracy: 0.7809\n",
            "Epoch 104/200\n",
            "35/35 [==============================] - 0s 3ms/step - loss: 0.0298 - accuracy: 0.7842 - val_loss: 0.0304 - val_accuracy: 0.7891\n",
            "Epoch 105/200\n",
            "35/35 [==============================] - 0s 4ms/step - loss: 0.0297 - accuracy: 0.7851 - val_loss: 0.0303 - val_accuracy: 0.7842\n",
            "Epoch 106/200\n",
            "35/35 [==============================] - 0s 4ms/step - loss: 0.0297 - accuracy: 0.7868 - val_loss: 0.0302 - val_accuracy: 0.7776\n",
            "Epoch 107/200\n",
            "35/35 [==============================] - 0s 4ms/step - loss: 0.0297 - accuracy: 0.7857 - val_loss: 0.0302 - val_accuracy: 0.7858\n",
            "Epoch 108/200\n",
            "35/35 [==============================] - 0s 4ms/step - loss: 0.0297 - accuracy: 0.7848 - val_loss: 0.0302 - val_accuracy: 0.7825\n",
            "Epoch 109/200\n",
            "35/35 [==============================] - 0s 3ms/step - loss: 0.0296 - accuracy: 0.7892 - val_loss: 0.0302 - val_accuracy: 0.7875\n",
            "Epoch 110/200\n",
            "35/35 [==============================] - 0s 4ms/step - loss: 0.0296 - accuracy: 0.7857 - val_loss: 0.0301 - val_accuracy: 0.7825\n",
            "Epoch 111/200\n",
            "35/35 [==============================] - 0s 4ms/step - loss: 0.0295 - accuracy: 0.7889 - val_loss: 0.0300 - val_accuracy: 0.7842\n",
            "Epoch 112/200\n",
            "35/35 [==============================] - 0s 4ms/step - loss: 0.0295 - accuracy: 0.7871 - val_loss: 0.0301 - val_accuracy: 0.7809\n",
            "Epoch 113/200\n",
            "35/35 [==============================] - 0s 3ms/step - loss: 0.0295 - accuracy: 0.7874 - val_loss: 0.0300 - val_accuracy: 0.7842\n",
            "Epoch 114/200\n",
            "35/35 [==============================] - 0s 3ms/step - loss: 0.0295 - accuracy: 0.7886 - val_loss: 0.0300 - val_accuracy: 0.7858\n",
            "Epoch 115/200\n",
            "35/35 [==============================] - 0s 4ms/step - loss: 0.0294 - accuracy: 0.7865 - val_loss: 0.0300 - val_accuracy: 0.7875\n",
            "Epoch 116/200\n",
            "35/35 [==============================] - 0s 4ms/step - loss: 0.0294 - accuracy: 0.7900 - val_loss: 0.0299 - val_accuracy: 0.7858\n",
            "Epoch 117/200\n",
            "35/35 [==============================] - 0s 4ms/step - loss: 0.0293 - accuracy: 0.7906 - val_loss: 0.0300 - val_accuracy: 0.7957\n",
            "Epoch 118/200\n",
            "35/35 [==============================] - 0s 4ms/step - loss: 0.0293 - accuracy: 0.7909 - val_loss: 0.0298 - val_accuracy: 0.7858\n",
            "Epoch 119/200\n",
            "35/35 [==============================] - 0s 3ms/step - loss: 0.0293 - accuracy: 0.7900 - val_loss: 0.0298 - val_accuracy: 0.7858\n",
            "Epoch 120/200\n",
            "35/35 [==============================] - 0s 3ms/step - loss: 0.0293 - accuracy: 0.7886 - val_loss: 0.0298 - val_accuracy: 0.7792\n",
            "Epoch 121/200\n",
            "35/35 [==============================] - 0s 4ms/step - loss: 0.0292 - accuracy: 0.7900 - val_loss: 0.0298 - val_accuracy: 0.7908\n",
            "Epoch 122/200\n",
            "35/35 [==============================] - 0s 3ms/step - loss: 0.0292 - accuracy: 0.7880 - val_loss: 0.0297 - val_accuracy: 0.7957\n",
            "Epoch 123/200\n",
            "35/35 [==============================] - 0s 3ms/step - loss: 0.0292 - accuracy: 0.7900 - val_loss: 0.0297 - val_accuracy: 0.7825\n",
            "Epoch 124/200\n",
            "35/35 [==============================] - 0s 3ms/step - loss: 0.0291 - accuracy: 0.7921 - val_loss: 0.0297 - val_accuracy: 0.7990\n",
            "Epoch 125/200\n",
            "35/35 [==============================] - 0s 4ms/step - loss: 0.0291 - accuracy: 0.7909 - val_loss: 0.0296 - val_accuracy: 0.7957\n",
            "Epoch 126/200\n",
            "35/35 [==============================] - 0s 4ms/step - loss: 0.0291 - accuracy: 0.7897 - val_loss: 0.0296 - val_accuracy: 0.7974\n",
            "Epoch 127/200\n",
            "35/35 [==============================] - 0s 3ms/step - loss: 0.0290 - accuracy: 0.7903 - val_loss: 0.0296 - val_accuracy: 0.7990\n",
            "Epoch 128/200\n",
            "35/35 [==============================] - 0s 4ms/step - loss: 0.0290 - accuracy: 0.7938 - val_loss: 0.0296 - val_accuracy: 0.7957\n",
            "Epoch 129/200\n",
            "35/35 [==============================] - 0s 3ms/step - loss: 0.0291 - accuracy: 0.7895 - val_loss: 0.0296 - val_accuracy: 0.7990\n",
            "Epoch 130/200\n",
            "35/35 [==============================] - 0s 3ms/step - loss: 0.0290 - accuracy: 0.7909 - val_loss: 0.0295 - val_accuracy: 0.7974\n",
            "Epoch 131/200\n",
            "35/35 [==============================] - 0s 4ms/step - loss: 0.0290 - accuracy: 0.7900 - val_loss: 0.0295 - val_accuracy: 0.7957\n",
            "Epoch 132/200\n",
            "35/35 [==============================] - 0s 3ms/step - loss: 0.0289 - accuracy: 0.7924 - val_loss: 0.0294 - val_accuracy: 0.7825\n",
            "Epoch 133/200\n",
            "35/35 [==============================] - 0s 3ms/step - loss: 0.0289 - accuracy: 0.7906 - val_loss: 0.0295 - val_accuracy: 0.7941\n",
            "Epoch 134/200\n",
            "35/35 [==============================] - 0s 3ms/step - loss: 0.0289 - accuracy: 0.7918 - val_loss: 0.0294 - val_accuracy: 0.7941\n",
            "Epoch 135/200\n",
            "35/35 [==============================] - 0s 3ms/step - loss: 0.0289 - accuracy: 0.7895 - val_loss: 0.0294 - val_accuracy: 0.7974\n",
            "Epoch 136/200\n",
            "35/35 [==============================] - 0s 4ms/step - loss: 0.0289 - accuracy: 0.7912 - val_loss: 0.0294 - val_accuracy: 0.7924\n",
            "Epoch 137/200\n",
            "35/35 [==============================] - 0s 3ms/step - loss: 0.0288 - accuracy: 0.7897 - val_loss: 0.0293 - val_accuracy: 0.7957\n",
            "Epoch 138/200\n",
            "35/35 [==============================] - 0s 3ms/step - loss: 0.0288 - accuracy: 0.7909 - val_loss: 0.0292 - val_accuracy: 0.7957\n",
            "Epoch 139/200\n",
            "35/35 [==============================] - 0s 4ms/step - loss: 0.0287 - accuracy: 0.7921 - val_loss: 0.0292 - val_accuracy: 0.7908\n",
            "Epoch 140/200\n",
            "35/35 [==============================] - 0s 4ms/step - loss: 0.0288 - accuracy: 0.7900 - val_loss: 0.0292 - val_accuracy: 0.7908\n",
            "Epoch 141/200\n",
            "35/35 [==============================] - 0s 3ms/step - loss: 0.0287 - accuracy: 0.7932 - val_loss: 0.0293 - val_accuracy: 0.7858\n",
            "Epoch 142/200\n",
            "35/35 [==============================] - 0s 4ms/step - loss: 0.0287 - accuracy: 0.7889 - val_loss: 0.0292 - val_accuracy: 0.7990\n",
            "Epoch 143/200\n",
            "35/35 [==============================] - 0s 3ms/step - loss: 0.0287 - accuracy: 0.7874 - val_loss: 0.0292 - val_accuracy: 0.7974\n",
            "Epoch 144/200\n",
            "35/35 [==============================] - 0s 4ms/step - loss: 0.0287 - accuracy: 0.7903 - val_loss: 0.0292 - val_accuracy: 0.7990\n",
            "Epoch 145/200\n",
            "35/35 [==============================] - 0s 3ms/step - loss: 0.0286 - accuracy: 0.7921 - val_loss: 0.0291 - val_accuracy: 0.7957\n",
            "Epoch 146/200\n",
            "35/35 [==============================] - 0s 3ms/step - loss: 0.0286 - accuracy: 0.7947 - val_loss: 0.0291 - val_accuracy: 0.7990\n",
            "Epoch 147/200\n",
            "35/35 [==============================] - 0s 3ms/step - loss: 0.0286 - accuracy: 0.7912 - val_loss: 0.0291 - val_accuracy: 0.7990\n",
            "Epoch 148/200\n",
            "35/35 [==============================] - 0s 3ms/step - loss: 0.0285 - accuracy: 0.7921 - val_loss: 0.0291 - val_accuracy: 0.7957\n",
            "Epoch 149/200\n",
            "35/35 [==============================] - 0s 4ms/step - loss: 0.0285 - accuracy: 0.7938 - val_loss: 0.0290 - val_accuracy: 0.7957\n",
            "Epoch 150/200\n",
            "35/35 [==============================] - 0s 4ms/step - loss: 0.0285 - accuracy: 0.7900 - val_loss: 0.0290 - val_accuracy: 0.7957\n",
            "Epoch 151/200\n",
            "35/35 [==============================] - 0s 3ms/step - loss: 0.0285 - accuracy: 0.7932 - val_loss: 0.0290 - val_accuracy: 0.7957\n",
            "Epoch 152/200\n",
            "35/35 [==============================] - 0s 3ms/step - loss: 0.0285 - accuracy: 0.7927 - val_loss: 0.0290 - val_accuracy: 0.7974\n",
            "Epoch 153/200\n",
            "35/35 [==============================] - 0s 4ms/step - loss: 0.0285 - accuracy: 0.7935 - val_loss: 0.0289 - val_accuracy: 0.8007\n",
            "Epoch 154/200\n",
            "35/35 [==============================] - 0s 4ms/step - loss: 0.0285 - accuracy: 0.7918 - val_loss: 0.0289 - val_accuracy: 0.7941\n",
            "Epoch 155/200\n",
            "35/35 [==============================] - 0s 4ms/step - loss: 0.0285 - accuracy: 0.7930 - val_loss: 0.0289 - val_accuracy: 0.7957\n",
            "Epoch 156/200\n",
            "35/35 [==============================] - 0s 4ms/step - loss: 0.0284 - accuracy: 0.7924 - val_loss: 0.0289 - val_accuracy: 0.7974\n",
            "Epoch 157/200\n",
            "35/35 [==============================] - 0s 3ms/step - loss: 0.0284 - accuracy: 0.7921 - val_loss: 0.0288 - val_accuracy: 0.7974\n",
            "Epoch 158/200\n",
            "35/35 [==============================] - 0s 4ms/step - loss: 0.0284 - accuracy: 0.7944 - val_loss: 0.0289 - val_accuracy: 0.7974\n",
            "Epoch 159/200\n",
            "35/35 [==============================] - 0s 4ms/step - loss: 0.0284 - accuracy: 0.7924 - val_loss: 0.0288 - val_accuracy: 0.7957\n",
            "Epoch 160/200\n",
            "35/35 [==============================] - 0s 3ms/step - loss: 0.0284 - accuracy: 0.7912 - val_loss: 0.0288 - val_accuracy: 0.7941\n",
            "Epoch 161/200\n",
            "35/35 [==============================] - 0s 3ms/step - loss: 0.0284 - accuracy: 0.7947 - val_loss: 0.0289 - val_accuracy: 0.7990\n",
            "Epoch 162/200\n",
            "35/35 [==============================] - 0s 3ms/step - loss: 0.0283 - accuracy: 0.7956 - val_loss: 0.0288 - val_accuracy: 0.7974\n",
            "Epoch 163/200\n",
            "35/35 [==============================] - 0s 3ms/step - loss: 0.0283 - accuracy: 0.7932 - val_loss: 0.0287 - val_accuracy: 0.7957\n",
            "Epoch 164/200\n",
            "35/35 [==============================] - 0s 4ms/step - loss: 0.0283 - accuracy: 0.7941 - val_loss: 0.0288 - val_accuracy: 0.7941\n",
            "Epoch 165/200\n",
            "35/35 [==============================] - 0s 6ms/step - loss: 0.0283 - accuracy: 0.7944 - val_loss: 0.0287 - val_accuracy: 0.7974\n",
            "Epoch 166/200\n",
            "35/35 [==============================] - 0s 6ms/step - loss: 0.0282 - accuracy: 0.7956 - val_loss: 0.0287 - val_accuracy: 0.7908\n",
            "Epoch 167/200\n",
            "35/35 [==============================] - 0s 5ms/step - loss: 0.0283 - accuracy: 0.7915 - val_loss: 0.0287 - val_accuracy: 0.7842\n",
            "Epoch 168/200\n",
            "35/35 [==============================] - 0s 5ms/step - loss: 0.0282 - accuracy: 0.7938 - val_loss: 0.0287 - val_accuracy: 0.7990\n",
            "Epoch 169/200\n",
            "35/35 [==============================] - 0s 5ms/step - loss: 0.0282 - accuracy: 0.7944 - val_loss: 0.0287 - val_accuracy: 0.8007\n",
            "Epoch 170/200\n",
            "35/35 [==============================] - 0s 5ms/step - loss: 0.0282 - accuracy: 0.7947 - val_loss: 0.0286 - val_accuracy: 0.7974\n",
            "Epoch 171/200\n",
            "35/35 [==============================] - 0s 7ms/step - loss: 0.0282 - accuracy: 0.7941 - val_loss: 0.0286 - val_accuracy: 0.7974\n",
            "Epoch 172/200\n",
            "35/35 [==============================] - 0s 5ms/step - loss: 0.0281 - accuracy: 0.7932 - val_loss: 0.0286 - val_accuracy: 0.7957\n",
            "Epoch 173/200\n",
            "35/35 [==============================] - 0s 4ms/step - loss: 0.0281 - accuracy: 0.7950 - val_loss: 0.0286 - val_accuracy: 0.7974\n",
            "Epoch 174/200\n",
            "35/35 [==============================] - 0s 5ms/step - loss: 0.0281 - accuracy: 0.7956 - val_loss: 0.0286 - val_accuracy: 0.7990\n",
            "Epoch 175/200\n",
            "35/35 [==============================] - 0s 5ms/step - loss: 0.0281 - accuracy: 0.7956 - val_loss: 0.0286 - val_accuracy: 0.7908\n",
            "Epoch 176/200\n",
            "35/35 [==============================] - 0s 6ms/step - loss: 0.0281 - accuracy: 0.7938 - val_loss: 0.0285 - val_accuracy: 0.7941\n",
            "Epoch 177/200\n",
            "35/35 [==============================] - 0s 6ms/step - loss: 0.0280 - accuracy: 0.7938 - val_loss: 0.0285 - val_accuracy: 0.7974\n",
            "Epoch 178/200\n",
            "35/35 [==============================] - 0s 5ms/step - loss: 0.0281 - accuracy: 0.7941 - val_loss: 0.0286 - val_accuracy: 0.7941\n",
            "Epoch 179/200\n",
            "35/35 [==============================] - 0s 6ms/step - loss: 0.0281 - accuracy: 0.7918 - val_loss: 0.0285 - val_accuracy: 0.7957\n",
            "Epoch 180/200\n",
            "35/35 [==============================] - 0s 5ms/step - loss: 0.0281 - accuracy: 0.7956 - val_loss: 0.0285 - val_accuracy: 0.7974\n",
            "Epoch 181/200\n",
            "35/35 [==============================] - 0s 5ms/step - loss: 0.0280 - accuracy: 0.7956 - val_loss: 0.0285 - val_accuracy: 0.7957\n",
            "Epoch 182/200\n",
            "35/35 [==============================] - 0s 5ms/step - loss: 0.0280 - accuracy: 0.7921 - val_loss: 0.0284 - val_accuracy: 0.7974\n",
            "Epoch 183/200\n",
            "35/35 [==============================] - 0s 5ms/step - loss: 0.0280 - accuracy: 0.7935 - val_loss: 0.0284 - val_accuracy: 0.7908\n",
            "Epoch 184/200\n",
            "35/35 [==============================] - 0s 5ms/step - loss: 0.0279 - accuracy: 0.7932 - val_loss: 0.0284 - val_accuracy: 0.7941\n",
            "Epoch 185/200\n",
            "35/35 [==============================] - 0s 6ms/step - loss: 0.0280 - accuracy: 0.7938 - val_loss: 0.0284 - val_accuracy: 0.7974\n",
            "Epoch 186/200\n",
            "35/35 [==============================] - 0s 5ms/step - loss: 0.0279 - accuracy: 0.7927 - val_loss: 0.0284 - val_accuracy: 0.7974\n",
            "Epoch 187/200\n",
            "35/35 [==============================] - 0s 5ms/step - loss: 0.0279 - accuracy: 0.7930 - val_loss: 0.0285 - val_accuracy: 0.7974\n",
            "Epoch 188/200\n",
            "35/35 [==============================] - 0s 5ms/step - loss: 0.0279 - accuracy: 0.7938 - val_loss: 0.0284 - val_accuracy: 0.7957\n",
            "Epoch 189/200\n",
            "35/35 [==============================] - 0s 5ms/step - loss: 0.0280 - accuracy: 0.7941 - val_loss: 0.0283 - val_accuracy: 0.7957\n",
            "Epoch 190/200\n",
            "35/35 [==============================] - 0s 3ms/step - loss: 0.0279 - accuracy: 0.7941 - val_loss: 0.0283 - val_accuracy: 0.7974\n",
            "Epoch 191/200\n",
            "35/35 [==============================] - 0s 4ms/step - loss: 0.0279 - accuracy: 0.7938 - val_loss: 0.0283 - val_accuracy: 0.7924\n",
            "Epoch 192/200\n",
            "35/35 [==============================] - 0s 4ms/step - loss: 0.0279 - accuracy: 0.7935 - val_loss: 0.0283 - val_accuracy: 0.7924\n",
            "Epoch 193/200\n",
            "35/35 [==============================] - 0s 4ms/step - loss: 0.0279 - accuracy: 0.7935 - val_loss: 0.0283 - val_accuracy: 0.7957\n",
            "Epoch 194/200\n",
            "35/35 [==============================] - 0s 3ms/step - loss: 0.0278 - accuracy: 0.7927 - val_loss: 0.0283 - val_accuracy: 0.7957\n",
            "Epoch 195/200\n",
            "35/35 [==============================] - 0s 3ms/step - loss: 0.0278 - accuracy: 0.7964 - val_loss: 0.0282 - val_accuracy: 0.7941\n",
            "Epoch 196/200\n",
            "35/35 [==============================] - 0s 4ms/step - loss: 0.0278 - accuracy: 0.7935 - val_loss: 0.0282 - val_accuracy: 0.7974\n",
            "Epoch 197/200\n",
            "35/35 [==============================] - 0s 3ms/step - loss: 0.0278 - accuracy: 0.7935 - val_loss: 0.0282 - val_accuracy: 0.7908\n",
            "Epoch 198/200\n",
            "35/35 [==============================] - 0s 4ms/step - loss: 0.0278 - accuracy: 0.7927 - val_loss: 0.0283 - val_accuracy: 0.7941\n",
            "Epoch 199/200\n",
            "35/35 [==============================] - 0s 4ms/step - loss: 0.0278 - accuracy: 0.7953 - val_loss: 0.0283 - val_accuracy: 0.7974\n",
            "Epoch 200/200\n",
            "35/35 [==============================] - 0s 3ms/step - loss: 0.0278 - accuracy: 0.7938 - val_loss: 0.0282 - val_accuracy: 0.7924\n"
          ]
        }
      ],
      "source": [
        "# fit the model with the Train set\n",
        "training_history1 = model1.fit(x=xs_train, y=ys_train, \n",
        "                               validation_split=0.15, epochs=200,\n",
        "                               batch_size=100)\n",
        "\n",
        "# best accuracy 0.4671"
      ]
    },
    {
      "cell_type": "code",
      "execution_count": null,
      "metadata": {
        "id": "joPsLQSe__hw",
        "colab": {
          "base_uri": "https://localhost:8080/",
          "height": 206
        },
        "outputId": "9b1d8601-21f5-45b4-8e16-908b31ed8aaa"
      },
      "outputs": [
        {
          "output_type": "execute_result",
          "data": {
            "text/plain": [
              "         loss  accuracy  val_loss  val_accuracy  epoch\n",
              "195  0.027811  0.793535  0.028213      0.797364    195\n",
              "196  0.027816  0.793535  0.028209      0.790774    196\n",
              "197  0.027788  0.792662  0.028289      0.794069    197\n",
              "198  0.027805  0.795282  0.028287      0.797364    198\n",
              "199  0.027795  0.793826  0.028206      0.792422    199"
            ],
            "text/html": [
              "\n",
              "  <div id=\"df-3ff2a16d-8616-45ba-a709-7e9f7f7bbf26\">\n",
              "    <div class=\"colab-df-container\">\n",
              "      <div>\n",
              "<style scoped>\n",
              "    .dataframe tbody tr th:only-of-type {\n",
              "        vertical-align: middle;\n",
              "    }\n",
              "\n",
              "    .dataframe tbody tr th {\n",
              "        vertical-align: top;\n",
              "    }\n",
              "\n",
              "    .dataframe thead th {\n",
              "        text-align: right;\n",
              "    }\n",
              "</style>\n",
              "<table border=\"1\" class=\"dataframe\">\n",
              "  <thead>\n",
              "    <tr style=\"text-align: right;\">\n",
              "      <th></th>\n",
              "      <th>loss</th>\n",
              "      <th>accuracy</th>\n",
              "      <th>val_loss</th>\n",
              "      <th>val_accuracy</th>\n",
              "      <th>epoch</th>\n",
              "    </tr>\n",
              "  </thead>\n",
              "  <tbody>\n",
              "    <tr>\n",
              "      <th>195</th>\n",
              "      <td>0.027811</td>\n",
              "      <td>0.793535</td>\n",
              "      <td>0.028213</td>\n",
              "      <td>0.797364</td>\n",
              "      <td>195</td>\n",
              "    </tr>\n",
              "    <tr>\n",
              "      <th>196</th>\n",
              "      <td>0.027816</td>\n",
              "      <td>0.793535</td>\n",
              "      <td>0.028209</td>\n",
              "      <td>0.790774</td>\n",
              "      <td>196</td>\n",
              "    </tr>\n",
              "    <tr>\n",
              "      <th>197</th>\n",
              "      <td>0.027788</td>\n",
              "      <td>0.792662</td>\n",
              "      <td>0.028289</td>\n",
              "      <td>0.794069</td>\n",
              "      <td>197</td>\n",
              "    </tr>\n",
              "    <tr>\n",
              "      <th>198</th>\n",
              "      <td>0.027805</td>\n",
              "      <td>0.795282</td>\n",
              "      <td>0.028287</td>\n",
              "      <td>0.797364</td>\n",
              "      <td>198</td>\n",
              "    </tr>\n",
              "    <tr>\n",
              "      <th>199</th>\n",
              "      <td>0.027795</td>\n",
              "      <td>0.793826</td>\n",
              "      <td>0.028206</td>\n",
              "      <td>0.792422</td>\n",
              "      <td>199</td>\n",
              "    </tr>\n",
              "  </tbody>\n",
              "</table>\n",
              "</div>\n",
              "      <button class=\"colab-df-convert\" onclick=\"convertToInteractive('df-3ff2a16d-8616-45ba-a709-7e9f7f7bbf26')\"\n",
              "              title=\"Convert this dataframe to an interactive table.\"\n",
              "              style=\"display:none;\">\n",
              "        \n",
              "  <svg xmlns=\"http://www.w3.org/2000/svg\" height=\"24px\"viewBox=\"0 0 24 24\"\n",
              "       width=\"24px\">\n",
              "    <path d=\"M0 0h24v24H0V0z\" fill=\"none\"/>\n",
              "    <path d=\"M18.56 5.44l.94 2.06.94-2.06 2.06-.94-2.06-.94-.94-2.06-.94 2.06-2.06.94zm-11 1L8.5 8.5l.94-2.06 2.06-.94-2.06-.94L8.5 2.5l-.94 2.06-2.06.94zm10 10l.94 2.06.94-2.06 2.06-.94-2.06-.94-.94-2.06-.94 2.06-2.06.94z\"/><path d=\"M17.41 7.96l-1.37-1.37c-.4-.4-.92-.59-1.43-.59-.52 0-1.04.2-1.43.59L10.3 9.45l-7.72 7.72c-.78.78-.78 2.05 0 2.83L4 21.41c.39.39.9.59 1.41.59.51 0 1.02-.2 1.41-.59l7.78-7.78 2.81-2.81c.8-.78.8-2.07 0-2.86zM5.41 20L4 18.59l7.72-7.72 1.47 1.35L5.41 20z\"/>\n",
              "  </svg>\n",
              "      </button>\n",
              "      \n",
              "  <style>\n",
              "    .colab-df-container {\n",
              "      display:flex;\n",
              "      flex-wrap:wrap;\n",
              "      gap: 12px;\n",
              "    }\n",
              "\n",
              "    .colab-df-convert {\n",
              "      background-color: #E8F0FE;\n",
              "      border: none;\n",
              "      border-radius: 50%;\n",
              "      cursor: pointer;\n",
              "      display: none;\n",
              "      fill: #1967D2;\n",
              "      height: 32px;\n",
              "      padding: 0 0 0 0;\n",
              "      width: 32px;\n",
              "    }\n",
              "\n",
              "    .colab-df-convert:hover {\n",
              "      background-color: #E2EBFA;\n",
              "      box-shadow: 0px 1px 2px rgba(60, 64, 67, 0.3), 0px 1px 3px 1px rgba(60, 64, 67, 0.15);\n",
              "      fill: #174EA6;\n",
              "    }\n",
              "\n",
              "    [theme=dark] .colab-df-convert {\n",
              "      background-color: #3B4455;\n",
              "      fill: #D2E3FC;\n",
              "    }\n",
              "\n",
              "    [theme=dark] .colab-df-convert:hover {\n",
              "      background-color: #434B5C;\n",
              "      box-shadow: 0px 1px 3px 1px rgba(0, 0, 0, 0.15);\n",
              "      filter: drop-shadow(0px 1px 2px rgba(0, 0, 0, 0.3));\n",
              "      fill: #FFFFFF;\n",
              "    }\n",
              "  </style>\n",
              "\n",
              "      <script>\n",
              "        const buttonEl =\n",
              "          document.querySelector('#df-3ff2a16d-8616-45ba-a709-7e9f7f7bbf26 button.colab-df-convert');\n",
              "        buttonEl.style.display =\n",
              "          google.colab.kernel.accessAllowed ? 'block' : 'none';\n",
              "\n",
              "        async function convertToInteractive(key) {\n",
              "          const element = document.querySelector('#df-3ff2a16d-8616-45ba-a709-7e9f7f7bbf26');\n",
              "          const dataTable =\n",
              "            await google.colab.kernel.invokeFunction('convertToInteractive',\n",
              "                                                     [key], {});\n",
              "          if (!dataTable) return;\n",
              "\n",
              "          const docLinkHtml = 'Like what you see? Visit the ' +\n",
              "            '<a target=\"_blank\" href=https://colab.research.google.com/notebooks/data_table.ipynb>data table notebook</a>'\n",
              "            + ' to learn more about interactive tables.';\n",
              "          element.innerHTML = '';\n",
              "          dataTable['output_type'] = 'display_data';\n",
              "          await google.colab.output.renderOutput(dataTable, element);\n",
              "          const docLink = document.createElement('div');\n",
              "          docLink.innerHTML = docLinkHtml;\n",
              "          element.appendChild(docLink);\n",
              "        }\n",
              "      </script>\n",
              "    </div>\n",
              "  </div>\n",
              "  "
            ]
          },
          "metadata": {},
          "execution_count": 16
        }
      ],
      "source": [
        "hist1 = pd.DataFrame(training_history1.history)\n",
        "hist1['epoch'] = training_history1.epoch\n",
        "hist1.tail()"
      ]
    },
    {
      "cell_type": "code",
      "execution_count": null,
      "metadata": {
        "id": "ezntEzqBBnV3",
        "colab": {
          "base_uri": "https://localhost:8080/"
        },
        "outputId": "6b13cdfd-a6ca-4f7c-deef-0b63a264dc9a"
      },
      "outputs": [
        {
          "output_type": "stream",
          "name": "stdout",
          "text": [
            "127/127 [==============================] - 0s 2ms/step - loss: 0.0278 - accuracy: 0.7919\n",
            "Accuracy on train set [0.027832668274641037, 0.7918831706047058]\n"
          ]
        }
      ],
      "source": [
        "# Accuracy on training sets\n",
        "accuracy_m1_train = model1.evaluate(xs_train, ys_train) # loss: 0.0329 - accuracy: 0.7606\n",
        "\n",
        "print('Accuracy on train set', accuracy_m1_train)"
      ]
    },
    {
      "cell_type": "code",
      "execution_count": null,
      "metadata": {
        "id": "niEqwWLIHGhI",
        "colab": {
          "base_uri": "https://localhost:8080/",
          "height": 295
        },
        "outputId": "2f11c9d0-3d30-4d47-8f34-8c8dde8ebb00"
      },
      "outputs": [
        {
          "output_type": "display_data",
          "data": {
            "text/plain": [
              "<Figure size 432x288 with 1 Axes>"
            ],
            "image/png": "[encoded data removed]"
          },
          "metadata": {
            "needs_background": "light"
          }
        }
      ],
      "source": [
        "plt.plot(hist1['accuracy'])\n",
        "plt.plot(hist1['val_accuracy'])\n",
        "plt.title('model accuracy')\n",
        "plt.ylabel('accuracy')\n",
        "plt.xlabel('epoch')\n",
        "plt.legend(['train', 'val'], loc='upper left')\n",
        "plt.show()"
      ]
    },
    {
      "cell_type": "markdown",
      "metadata": {
        "id": "ozf3iJrL3UtM"
      },
      "source": [
        "Evaluate and predict on the test set"
      ]
    },
    {
      "cell_type": "code",
      "execution_count": null,
      "metadata": {
        "id": "4hFCbr3c0RdA",
        "colab": {
          "base_uri": "https://localhost:8080/"
        },
        "outputId": "b00c6db9-98ae-4a06-fbd0-c98244c19ef2"
      },
      "outputs": [
        {
          "output_type": "stream",
          "name": "stdout",
          "text": [
            "32/32 [==============================] - 0s 2ms/step - loss: 0.0294 - accuracy: 0.7814\n"
          ]
        }
      ],
      "source": [
        "model1_test_predict = model1.evaluate(xs_test, ys_test) # loss: 0.0294 - accuracy: 0.7814"
      ]
    },
    {
      "cell_type": "code",
      "execution_count": null,
      "metadata": {
        "id": "c2DBEX613Zqo",
        "colab": {
          "base_uri": "https://localhost:8080/"
        },
        "outputId": "b5dbd4fe-c94d-4527-9a7a-1a346f89398e"
      },
      "outputs": [
        {
          "output_type": "stream",
          "name": "stdout",
          "text": [
            "32/32 [==============================] - 0s 5ms/step\n",
            "shape is (1011, 11)\n"
          ]
        },
        {
          "output_type": "execute_result",
          "data": {
            "text/plain": [
              "array([[ 0.02057407, -0.02243582, -0.00993639, ...,  0.00242187,\n",
              "        -0.0081052 ,  0.0743449 ],\n",
              "       [-0.00160372,  0.17831814,  0.01505822, ..., -0.00158215,\n",
              "         0.02182921,  0.00707961],\n",
              "       [ 0.00919224,  0.9823342 , -0.02032506, ..., -0.01007174,\n",
              "        -0.00344461, -0.00713788],\n",
              "       ...,\n",
              "       [ 0.03340585, -0.03527458, -0.02518821, ...,  0.73393595,\n",
              "         0.01070467, -0.12341405],\n",
              "       [ 0.00919224,  0.9823342 , -0.02032506, ..., -0.01007174,\n",
              "        -0.00344461, -0.00713788],\n",
              "       [ 0.01136497,  0.9531002 , -0.01023149, ..., -0.00946194,\n",
              "        -0.0015519 , -0.00281576]], dtype=float32)"
            ]
          },
          "metadata": {},
          "execution_count": 23
        }
      ],
      "source": [
        "test_prediction1 = model1.predict(xs_test)\n",
        "print(\"shape is {}\".format(test_prediction1.shape))  \n",
        "test_prediction1"
      ]
    },
    {
      "cell_type": "code",
      "execution_count": null,
      "metadata": {
        "id": "G27SvPA5_RF2",
        "colab": {
          "base_uri": "https://localhost:8080/"
        },
        "outputId": "96318443-b91e-4bac-a439-37a3cd23eac7"
      },
      "outputs": [
        {
          "output_type": "stream",
          "name": "stdout",
          "text": [
            "32/32 [==============================] - 0s 2ms/step\n",
            "[ 7.26724416e-03  7.08292425e-01 -2.24065781e-03 -1.47639215e-02\n",
            "  2.21948065e-02 -2.51044333e-03  2.34603137e-02  2.70182967e-01\n",
            " -6.97217882e-03  5.83583489e-03  3.10875475e-04]\n",
            "[0. 1. 0. 0. 0. 0. 0. 0. 0. 0. 0.]\n"
          ]
        }
      ],
      "source": [
        "color_class1 = model1.predict(xs_test)\n",
        "\n",
        "print(color_class1[8])\n",
        "print(ys_test[8]) # color 2 ie blue"
      ]
    },
    {
      "cell_type": "markdown",
      "metadata": {
        "id": "RTAQIHTG2rbP"
      },
      "source": [
        "#### Model 2"
      ]
    },
    {
      "cell_type": "markdown",
      "metadata": {
        "id": "Gvl04Ftc2qg5"
      },
      "source": [
        "Define and compile the model"
      ]
    },
    {
      "cell_type": "code",
      "execution_count": null,
      "metadata": {
        "id": "A1ZUBUkusxxm",
        "colab": {
          "base_uri": "https://localhost:8080/"
        },
        "outputId": "4fc5e121-84b6-4ffa-a226-2c7556200784"
      },
      "outputs": [
        {
          "output_type": "stream",
          "name": "stdout",
          "text": [
            "Model: \"sequential_2\"\n",
            "_________________________________________________________________\n",
            " Layer (type)                Output Shape              Param #   \n",
            "=================================================================\n",
            " dense_8 (Dense)             (None, 3)                 12        \n",
            "                                                                 \n",
            " dense_9 (Dense)             (None, 24)                96        \n",
            "                                                                 \n",
            " dense_10 (Dense)            (None, 24)                600       \n",
            "                                                                 \n",
            " dense_11 (Dense)            (None, 16)                400       \n",
            "                                                                 \n",
            " dense_12 (Dense)            (None, 11)                187       \n",
            "                                                                 \n",
            "=================================================================\n",
            "Total params: 1,295\n",
            "Trainable params: 1,295\n",
            "Non-trainable params: 0\n",
            "_________________________________________________________________\n"
          ]
        }
      ],
      "source": [
        "# Parameters model 2\n",
        "activation_fct = 'relu'\n",
        "loss_function = 'mean_squared_error'\n",
        "optimizer = 'adam'\n",
        "\n",
        "# model 2\n",
        "model2 = keras.Sequential([\n",
        "    layers.Dense(3, kernel_regularizer=regularizers.l2(0.001), activation=activation_fct, input_shape=[3]),\n",
        "    layers.Dense(24, kernel_regularizer=regularizers.l2(0.001), activation=activation_fct),\n",
        "    layers.Dense(24, kernel_regularizer=regularizers.l2(0.001), activation=activation_fct),\n",
        "    layers.Dense(16, kernel_regularizer=regularizers.l2(0.001), activation=activation_fct),\n",
        "    layers.Dense(11)\n",
        "  ])\n",
        "model2.summary()\n",
        "\n",
        "# compile the model 2\n",
        "model2.compile(optimizer=optimizer, loss=loss_function, metrics=['accuracy'])\n"
      ]
    },
    {
      "cell_type": "markdown",
      "metadata": {
        "id": "iQoXHeI3scOs"
      },
      "source": [
        "Train the model 2"
      ]
    },
    {
      "cell_type": "code",
      "execution_count": null,
      "metadata": {
        "id": "Y0z1pBBWsZTZ",
        "colab": {
          "base_uri": "https://localhost:8080/"
        },
        "outputId": "5c3fddb9-17d6-41d4-a0a5-fdd903506cfb"
      },
      "outputs": [
        {
          "output_type": "stream",
          "name": "stdout",
          "text": [
            "Epoch 1/200\n",
            "35/35 [==============================] - 1s 9ms/step - loss: 0.1295 - accuracy: 0.2181 - val_loss: 0.1181 - val_accuracy: 0.3130\n",
            "Epoch 2/200\n",
            "35/35 [==============================] - 0s 4ms/step - loss: 0.1107 - accuracy: 0.3896 - val_loss: 0.1031 - val_accuracy: 0.4432\n",
            "Epoch 3/200\n",
            "35/35 [==============================] - 0s 4ms/step - loss: 0.0986 - accuracy: 0.4473 - val_loss: 0.0940 - val_accuracy: 0.4662\n",
            "Epoch 4/200\n",
            "35/35 [==============================] - 0s 4ms/step - loss: 0.0904 - accuracy: 0.4840 - val_loss: 0.0865 - val_accuracy: 0.5206\n",
            "Epoch 5/200\n",
            "35/35 [==============================] - 0s 3ms/step - loss: 0.0832 - accuracy: 0.5285 - val_loss: 0.0797 - val_accuracy: 0.5519\n",
            "Epoch 6/200\n",
            "35/35 [==============================] - 0s 3ms/step - loss: 0.0769 - accuracy: 0.5568 - val_loss: 0.0739 - val_accuracy: 0.5667\n",
            "Epoch 7/200\n",
            "35/35 [==============================] - 0s 4ms/step - loss: 0.0719 - accuracy: 0.5632 - val_loss: 0.0698 - val_accuracy: 0.5651\n",
            "Epoch 8/200\n",
            "35/35 [==============================] - 0s 3ms/step - loss: 0.0685 - accuracy: 0.5681 - val_loss: 0.0670 - val_accuracy: 0.5733\n",
            "Epoch 9/200\n",
            "35/35 [==============================] - 0s 3ms/step - loss: 0.0658 - accuracy: 0.5737 - val_loss: 0.0648 - val_accuracy: 0.5750\n",
            "Epoch 10/200\n",
            "35/35 [==============================] - 0s 4ms/step - loss: 0.0636 - accuracy: 0.5789 - val_loss: 0.0629 - val_accuracy: 0.5783\n",
            "Epoch 11/200\n",
            "35/35 [==============================] - 0s 4ms/step - loss: 0.0618 - accuracy: 0.5839 - val_loss: 0.0612 - val_accuracy: 0.5848\n",
            "Epoch 12/200\n",
            "35/35 [==============================] - 0s 4ms/step - loss: 0.0603 - accuracy: 0.5850 - val_loss: 0.0599 - val_accuracy: 0.5898\n",
            "Epoch 13/200\n",
            "35/35 [==============================] - 0s 4ms/step - loss: 0.0589 - accuracy: 0.5903 - val_loss: 0.0587 - val_accuracy: 0.5947\n",
            "Epoch 14/200\n",
            "35/35 [==============================] - 0s 4ms/step - loss: 0.0578 - accuracy: 0.5929 - val_loss: 0.0577 - val_accuracy: 0.5947\n",
            "Epoch 15/200\n",
            "35/35 [==============================] - 0s 3ms/step - loss: 0.0568 - accuracy: 0.5999 - val_loss: 0.0568 - val_accuracy: 0.6013\n",
            "Epoch 16/200\n",
            "35/35 [==============================] - 0s 4ms/step - loss: 0.0560 - accuracy: 0.6075 - val_loss: 0.0561 - val_accuracy: 0.6211\n",
            "Epoch 17/200\n",
            "35/35 [==============================] - 0s 4ms/step - loss: 0.0554 - accuracy: 0.6165 - val_loss: 0.0555 - val_accuracy: 0.6194\n",
            "Epoch 18/200\n",
            "35/35 [==============================] - 0s 4ms/step - loss: 0.0548 - accuracy: 0.6243 - val_loss: 0.0549 - val_accuracy: 0.6260\n",
            "Epoch 19/200\n",
            "35/35 [==============================] - 0s 5ms/step - loss: 0.0543 - accuracy: 0.6305 - val_loss: 0.0547 - val_accuracy: 0.6227\n",
            "Epoch 20/200\n",
            "35/35 [==============================] - 0s 5ms/step - loss: 0.0540 - accuracy: 0.6302 - val_loss: 0.0542 - val_accuracy: 0.6310\n",
            "Epoch 21/200\n",
            "35/35 [==============================] - 0s 7ms/step - loss: 0.0535 - accuracy: 0.6380 - val_loss: 0.0537 - val_accuracy: 0.6343\n",
            "Epoch 22/200\n",
            "35/35 [==============================] - 0s 6ms/step - loss: 0.0532 - accuracy: 0.6418 - val_loss: 0.0534 - val_accuracy: 0.6376\n",
            "Epoch 23/200\n",
            "35/35 [==============================] - 0s 7ms/step - loss: 0.0530 - accuracy: 0.6372 - val_loss: 0.0535 - val_accuracy: 0.6376\n",
            "Epoch 24/200\n",
            "35/35 [==============================] - 0s 5ms/step - loss: 0.0529 - accuracy: 0.6404 - val_loss: 0.0530 - val_accuracy: 0.6425\n",
            "Epoch 25/200\n",
            "35/35 [==============================] - 0s 6ms/step - loss: 0.0525 - accuracy: 0.6427 - val_loss: 0.0526 - val_accuracy: 0.6442\n",
            "Epoch 26/200\n",
            "35/35 [==============================] - 0s 5ms/step - loss: 0.0522 - accuracy: 0.6479 - val_loss: 0.0526 - val_accuracy: 0.6474\n",
            "Epoch 27/200\n",
            "35/35 [==============================] - 0s 5ms/step - loss: 0.0522 - accuracy: 0.6456 - val_loss: 0.0525 - val_accuracy: 0.6409\n",
            "Epoch 28/200\n",
            "35/35 [==============================] - 0s 7ms/step - loss: 0.0520 - accuracy: 0.6491 - val_loss: 0.0525 - val_accuracy: 0.6458\n",
            "Epoch 29/200\n",
            "35/35 [==============================] - 0s 5ms/step - loss: 0.0519 - accuracy: 0.6471 - val_loss: 0.0520 - val_accuracy: 0.6507\n",
            "Epoch 30/200\n",
            "35/35 [==============================] - 0s 5ms/step - loss: 0.0517 - accuracy: 0.6450 - val_loss: 0.0520 - val_accuracy: 0.6507\n",
            "Epoch 31/200\n",
            "35/35 [==============================] - 0s 6ms/step - loss: 0.0514 - accuracy: 0.6488 - val_loss: 0.0517 - val_accuracy: 0.6557\n",
            "Epoch 32/200\n",
            "35/35 [==============================] - 0s 5ms/step - loss: 0.0513 - accuracy: 0.6517 - val_loss: 0.0519 - val_accuracy: 0.6524\n",
            "Epoch 33/200\n",
            "35/35 [==============================] - 0s 5ms/step - loss: 0.0512 - accuracy: 0.6503 - val_loss: 0.0515 - val_accuracy: 0.6507\n",
            "Epoch 34/200\n",
            "35/35 [==============================] - 0s 5ms/step - loss: 0.0511 - accuracy: 0.6523 - val_loss: 0.0513 - val_accuracy: 0.6540\n",
            "Epoch 35/200\n",
            "35/35 [==============================] - 0s 5ms/step - loss: 0.0508 - accuracy: 0.6526 - val_loss: 0.0511 - val_accuracy: 0.6590\n",
            "Epoch 36/200\n",
            "35/35 [==============================] - 0s 5ms/step - loss: 0.0507 - accuracy: 0.6540 - val_loss: 0.0512 - val_accuracy: 0.6573\n",
            "Epoch 37/200\n",
            "35/35 [==============================] - 0s 5ms/step - loss: 0.0507 - accuracy: 0.6543 - val_loss: 0.0514 - val_accuracy: 0.6573\n",
            "Epoch 38/200\n",
            "35/35 [==============================] - 0s 6ms/step - loss: 0.0507 - accuracy: 0.6520 - val_loss: 0.0509 - val_accuracy: 0.6590\n",
            "Epoch 39/200\n",
            "35/35 [==============================] - 0s 6ms/step - loss: 0.0504 - accuracy: 0.6561 - val_loss: 0.0508 - val_accuracy: 0.6540\n",
            "Epoch 40/200\n",
            "35/35 [==============================] - 0s 6ms/step - loss: 0.0503 - accuracy: 0.6549 - val_loss: 0.0507 - val_accuracy: 0.6606\n",
            "Epoch 41/200\n",
            "35/35 [==============================] - 0s 5ms/step - loss: 0.0502 - accuracy: 0.6581 - val_loss: 0.0506 - val_accuracy: 0.6573\n",
            "Epoch 42/200\n",
            "35/35 [==============================] - 0s 4ms/step - loss: 0.0501 - accuracy: 0.6535 - val_loss: 0.0506 - val_accuracy: 0.6623\n",
            "Epoch 43/200\n",
            "35/35 [==============================] - 0s 4ms/step - loss: 0.0501 - accuracy: 0.6543 - val_loss: 0.0504 - val_accuracy: 0.6606\n",
            "Epoch 44/200\n",
            "35/35 [==============================] - 0s 4ms/step - loss: 0.0499 - accuracy: 0.6631 - val_loss: 0.0502 - val_accuracy: 0.6540\n",
            "Epoch 45/200\n",
            "35/35 [==============================] - 0s 4ms/step - loss: 0.0498 - accuracy: 0.6610 - val_loss: 0.0502 - val_accuracy: 0.6573\n",
            "Epoch 46/200\n",
            "35/35 [==============================] - 0s 3ms/step - loss: 0.0498 - accuracy: 0.6567 - val_loss: 0.0502 - val_accuracy: 0.6656\n",
            "Epoch 47/200\n",
            "35/35 [==============================] - 0s 3ms/step - loss: 0.0498 - accuracy: 0.6546 - val_loss: 0.0501 - val_accuracy: 0.6606\n",
            "Epoch 48/200\n",
            "35/35 [==============================] - 0s 4ms/step - loss: 0.0496 - accuracy: 0.6651 - val_loss: 0.0500 - val_accuracy: 0.6606\n",
            "Epoch 49/200\n",
            "35/35 [==============================] - 0s 3ms/step - loss: 0.0494 - accuracy: 0.6637 - val_loss: 0.0500 - val_accuracy: 0.6590\n",
            "Epoch 50/200\n",
            "35/35 [==============================] - 0s 4ms/step - loss: 0.0495 - accuracy: 0.6610 - val_loss: 0.0500 - val_accuracy: 0.6738\n",
            "Epoch 51/200\n",
            "35/35 [==============================] - 0s 4ms/step - loss: 0.0493 - accuracy: 0.6669 - val_loss: 0.0499 - val_accuracy: 0.6656\n",
            "Epoch 52/200\n",
            "35/35 [==============================] - 0s 4ms/step - loss: 0.0492 - accuracy: 0.6666 - val_loss: 0.0497 - val_accuracy: 0.6656\n",
            "Epoch 53/200\n",
            "35/35 [==============================] - 0s 4ms/step - loss: 0.0492 - accuracy: 0.6651 - val_loss: 0.0497 - val_accuracy: 0.6639\n",
            "Epoch 54/200\n",
            "35/35 [==============================] - 0s 4ms/step - loss: 0.0492 - accuracy: 0.6686 - val_loss: 0.0497 - val_accuracy: 0.6755\n",
            "Epoch 55/200\n",
            "35/35 [==============================] - 0s 3ms/step - loss: 0.0491 - accuracy: 0.6701 - val_loss: 0.0495 - val_accuracy: 0.6672\n",
            "Epoch 56/200\n",
            "35/35 [==============================] - 0s 4ms/step - loss: 0.0489 - accuracy: 0.6721 - val_loss: 0.0497 - val_accuracy: 0.6705\n",
            "Epoch 57/200\n",
            "35/35 [==============================] - 0s 3ms/step - loss: 0.0490 - accuracy: 0.6771 - val_loss: 0.0493 - val_accuracy: 0.6771\n",
            "Epoch 58/200\n",
            "35/35 [==============================] - 0s 3ms/step - loss: 0.0489 - accuracy: 0.6730 - val_loss: 0.0493 - val_accuracy: 0.6820\n",
            "Epoch 59/200\n",
            "35/35 [==============================] - 0s 4ms/step - loss: 0.0488 - accuracy: 0.6724 - val_loss: 0.0493 - val_accuracy: 0.6738\n",
            "Epoch 60/200\n",
            "35/35 [==============================] - 0s 4ms/step - loss: 0.0487 - accuracy: 0.6768 - val_loss: 0.0493 - val_accuracy: 0.6853\n",
            "Epoch 61/200\n",
            "35/35 [==============================] - 0s 4ms/step - loss: 0.0485 - accuracy: 0.6811 - val_loss: 0.0492 - val_accuracy: 0.6837\n",
            "Epoch 62/200\n",
            "35/35 [==============================] - 0s 4ms/step - loss: 0.0486 - accuracy: 0.6797 - val_loss: 0.0492 - val_accuracy: 0.6936\n",
            "Epoch 63/200\n",
            "35/35 [==============================] - 0s 3ms/step - loss: 0.0486 - accuracy: 0.6771 - val_loss: 0.0490 - val_accuracy: 0.6771\n",
            "Epoch 64/200\n",
            "35/35 [==============================] - 0s 4ms/step - loss: 0.0484 - accuracy: 0.6867 - val_loss: 0.0490 - val_accuracy: 0.6936\n",
            "Epoch 65/200\n",
            "35/35 [==============================] - 0s 4ms/step - loss: 0.0483 - accuracy: 0.6887 - val_loss: 0.0489 - val_accuracy: 0.6853\n",
            "Epoch 66/200\n",
            "35/35 [==============================] - 0s 4ms/step - loss: 0.0483 - accuracy: 0.6852 - val_loss: 0.0488 - val_accuracy: 0.6903\n",
            "Epoch 67/200\n",
            "35/35 [==============================] - 0s 3ms/step - loss: 0.0482 - accuracy: 0.6858 - val_loss: 0.0488 - val_accuracy: 0.6919\n",
            "Epoch 68/200\n",
            "35/35 [==============================] - 0s 4ms/step - loss: 0.0482 - accuracy: 0.6902 - val_loss: 0.0486 - val_accuracy: 0.6837\n",
            "Epoch 69/200\n",
            "35/35 [==============================] - 0s 4ms/step - loss: 0.0481 - accuracy: 0.6890 - val_loss: 0.0487 - val_accuracy: 0.6903\n",
            "Epoch 70/200\n",
            "35/35 [==============================] - 0s 4ms/step - loss: 0.0481 - accuracy: 0.6899 - val_loss: 0.0487 - val_accuracy: 0.6820\n",
            "Epoch 71/200\n",
            "35/35 [==============================] - 0s 4ms/step - loss: 0.0479 - accuracy: 0.6922 - val_loss: 0.0484 - val_accuracy: 0.6804\n",
            "Epoch 72/200\n",
            "35/35 [==============================] - 0s 4ms/step - loss: 0.0478 - accuracy: 0.6904 - val_loss: 0.0484 - val_accuracy: 0.6886\n",
            "Epoch 73/200\n",
            "35/35 [==============================] - 0s 4ms/step - loss: 0.0478 - accuracy: 0.6945 - val_loss: 0.0485 - val_accuracy: 0.6804\n",
            "Epoch 74/200\n",
            "35/35 [==============================] - 0s 4ms/step - loss: 0.0478 - accuracy: 0.6916 - val_loss: 0.0486 - val_accuracy: 0.6870\n",
            "Epoch 75/200\n",
            "35/35 [==============================] - 0s 4ms/step - loss: 0.0477 - accuracy: 0.6998 - val_loss: 0.0481 - val_accuracy: 0.6903\n",
            "Epoch 76/200\n",
            "35/35 [==============================] - 0s 4ms/step - loss: 0.0476 - accuracy: 0.6948 - val_loss: 0.0483 - val_accuracy: 0.6919\n",
            "Epoch 77/200\n",
            "35/35 [==============================] - 0s 3ms/step - loss: 0.0474 - accuracy: 0.6986 - val_loss: 0.0482 - val_accuracy: 0.6952\n",
            "Epoch 78/200\n",
            "35/35 [==============================] - 0s 3ms/step - loss: 0.0474 - accuracy: 0.6995 - val_loss: 0.0481 - val_accuracy: 0.6936\n",
            "Epoch 79/200\n",
            "35/35 [==============================] - 0s 4ms/step - loss: 0.0473 - accuracy: 0.6998 - val_loss: 0.0481 - val_accuracy: 0.6952\n",
            "Epoch 80/200\n",
            "35/35 [==============================] - 0s 4ms/step - loss: 0.0474 - accuracy: 0.7027 - val_loss: 0.0482 - val_accuracy: 0.6870\n",
            "Epoch 81/200\n",
            "35/35 [==============================] - 0s 4ms/step - loss: 0.0472 - accuracy: 0.7001 - val_loss: 0.0480 - val_accuracy: 0.6936\n",
            "Epoch 82/200\n",
            "35/35 [==============================] - 0s 4ms/step - loss: 0.0472 - accuracy: 0.7033 - val_loss: 0.0479 - val_accuracy: 0.6936\n",
            "Epoch 83/200\n",
            "35/35 [==============================] - 0s 4ms/step - loss: 0.0471 - accuracy: 0.7041 - val_loss: 0.0478 - val_accuracy: 0.6985\n",
            "Epoch 84/200\n",
            "35/35 [==============================] - 0s 4ms/step - loss: 0.0470 - accuracy: 0.7068 - val_loss: 0.0477 - val_accuracy: 0.6936\n",
            "Epoch 85/200\n",
            "35/35 [==============================] - 0s 3ms/step - loss: 0.0470 - accuracy: 0.7079 - val_loss: 0.0477 - val_accuracy: 0.7068\n",
            "Epoch 86/200\n",
            "35/35 [==============================] - 0s 4ms/step - loss: 0.0469 - accuracy: 0.7027 - val_loss: 0.0477 - val_accuracy: 0.6985\n",
            "Epoch 87/200\n",
            "35/35 [==============================] - 0s 3ms/step - loss: 0.0467 - accuracy: 0.7070 - val_loss: 0.0477 - val_accuracy: 0.6903\n",
            "Epoch 88/200\n",
            "35/35 [==============================] - 0s 3ms/step - loss: 0.0468 - accuracy: 0.7123 - val_loss: 0.0475 - val_accuracy: 0.6936\n",
            "Epoch 89/200\n",
            "35/35 [==============================] - 0s 3ms/step - loss: 0.0467 - accuracy: 0.7100 - val_loss: 0.0473 - val_accuracy: 0.6969\n",
            "Epoch 90/200\n",
            "35/35 [==============================] - 0s 4ms/step - loss: 0.0466 - accuracy: 0.7105 - val_loss: 0.0472 - val_accuracy: 0.6919\n",
            "Epoch 91/200\n",
            "35/35 [==============================] - 0s 5ms/step - loss: 0.0465 - accuracy: 0.7065 - val_loss: 0.0473 - val_accuracy: 0.7018\n",
            "Epoch 92/200\n",
            "35/35 [==============================] - 0s 4ms/step - loss: 0.0464 - accuracy: 0.7108 - val_loss: 0.0471 - val_accuracy: 0.6985\n",
            "Epoch 93/200\n",
            "35/35 [==============================] - 0s 4ms/step - loss: 0.0464 - accuracy: 0.7132 - val_loss: 0.0472 - val_accuracy: 0.7100\n",
            "Epoch 94/200\n",
            "35/35 [==============================] - 0s 4ms/step - loss: 0.0463 - accuracy: 0.7103 - val_loss: 0.0470 - val_accuracy: 0.7035\n",
            "Epoch 95/200\n",
            "35/35 [==============================] - 0s 3ms/step - loss: 0.0463 - accuracy: 0.7097 - val_loss: 0.0471 - val_accuracy: 0.6853\n",
            "Epoch 96/200\n",
            "35/35 [==============================] - 0s 4ms/step - loss: 0.0462 - accuracy: 0.7114 - val_loss: 0.0470 - val_accuracy: 0.7117\n",
            "Epoch 97/200\n",
            "35/35 [==============================] - 0s 4ms/step - loss: 0.0461 - accuracy: 0.7129 - val_loss: 0.0470 - val_accuracy: 0.7051\n",
            "Epoch 98/200\n",
            "35/35 [==============================] - 0s 3ms/step - loss: 0.0460 - accuracy: 0.7135 - val_loss: 0.0469 - val_accuracy: 0.7002\n",
            "Epoch 99/200\n",
            "35/35 [==============================] - 0s 4ms/step - loss: 0.0459 - accuracy: 0.7132 - val_loss: 0.0466 - val_accuracy: 0.7051\n",
            "Epoch 100/200\n",
            "35/35 [==============================] - 0s 4ms/step - loss: 0.0459 - accuracy: 0.7114 - val_loss: 0.0465 - val_accuracy: 0.7051\n",
            "Epoch 101/200\n",
            "35/35 [==============================] - 0s 3ms/step - loss: 0.0458 - accuracy: 0.7167 - val_loss: 0.0465 - val_accuracy: 0.7051\n",
            "Epoch 102/200\n",
            "35/35 [==============================] - 0s 3ms/step - loss: 0.0458 - accuracy: 0.7132 - val_loss: 0.0464 - val_accuracy: 0.7035\n",
            "Epoch 103/200\n",
            "35/35 [==============================] - 0s 3ms/step - loss: 0.0456 - accuracy: 0.7100 - val_loss: 0.0465 - val_accuracy: 0.7100\n",
            "Epoch 104/200\n",
            "35/35 [==============================] - 0s 4ms/step - loss: 0.0457 - accuracy: 0.7126 - val_loss: 0.0463 - val_accuracy: 0.7035\n",
            "Epoch 105/200\n",
            "35/35 [==============================] - 0s 4ms/step - loss: 0.0455 - accuracy: 0.7140 - val_loss: 0.0463 - val_accuracy: 0.7117\n",
            "Epoch 106/200\n",
            "35/35 [==============================] - 0s 4ms/step - loss: 0.0454 - accuracy: 0.7169 - val_loss: 0.0461 - val_accuracy: 0.7084\n",
            "Epoch 107/200\n",
            "35/35 [==============================] - 0s 4ms/step - loss: 0.0454 - accuracy: 0.7135 - val_loss: 0.0463 - val_accuracy: 0.6985\n",
            "Epoch 108/200\n",
            "35/35 [==============================] - 0s 3ms/step - loss: 0.0453 - accuracy: 0.7169 - val_loss: 0.0461 - val_accuracy: 0.7051\n",
            "Epoch 109/200\n",
            "35/35 [==============================] - 0s 4ms/step - loss: 0.0454 - accuracy: 0.7135 - val_loss: 0.0460 - val_accuracy: 0.7084\n",
            "Epoch 110/200\n",
            "35/35 [==============================] - 0s 4ms/step - loss: 0.0454 - accuracy: 0.7103 - val_loss: 0.0460 - val_accuracy: 0.7002\n",
            "Epoch 111/200\n",
            "35/35 [==============================] - 0s 4ms/step - loss: 0.0451 - accuracy: 0.7164 - val_loss: 0.0458 - val_accuracy: 0.7133\n",
            "Epoch 112/200\n",
            "35/35 [==============================] - 0s 4ms/step - loss: 0.0451 - accuracy: 0.7158 - val_loss: 0.0461 - val_accuracy: 0.7051\n",
            "Epoch 113/200\n",
            "35/35 [==============================] - 0s 4ms/step - loss: 0.0451 - accuracy: 0.7149 - val_loss: 0.0458 - val_accuracy: 0.7068\n",
            "Epoch 114/200\n",
            "35/35 [==============================] - 0s 4ms/step - loss: 0.0450 - accuracy: 0.7155 - val_loss: 0.0460 - val_accuracy: 0.7035\n",
            "Epoch 115/200\n",
            "35/35 [==============================] - 0s 5ms/step - loss: 0.0451 - accuracy: 0.7103 - val_loss: 0.0458 - val_accuracy: 0.6985\n",
            "Epoch 116/200\n",
            "35/35 [==============================] - 0s 6ms/step - loss: 0.0449 - accuracy: 0.7152 - val_loss: 0.0459 - val_accuracy: 0.7084\n",
            "Epoch 117/200\n",
            "35/35 [==============================] - 0s 6ms/step - loss: 0.0448 - accuracy: 0.7181 - val_loss: 0.0455 - val_accuracy: 0.7068\n",
            "Epoch 118/200\n",
            "35/35 [==============================] - 0s 5ms/step - loss: 0.0447 - accuracy: 0.7152 - val_loss: 0.0456 - val_accuracy: 0.7100\n",
            "Epoch 119/200\n",
            "35/35 [==============================] - 0s 5ms/step - loss: 0.0448 - accuracy: 0.7137 - val_loss: 0.0453 - val_accuracy: 0.7100\n",
            "Epoch 120/200\n",
            "35/35 [==============================] - 0s 6ms/step - loss: 0.0446 - accuracy: 0.7146 - val_loss: 0.0454 - val_accuracy: 0.7002\n",
            "Epoch 121/200\n",
            "35/35 [==============================] - 0s 5ms/step - loss: 0.0446 - accuracy: 0.7152 - val_loss: 0.0453 - val_accuracy: 0.7035\n",
            "Epoch 122/200\n",
            "35/35 [==============================] - 0s 5ms/step - loss: 0.0446 - accuracy: 0.7137 - val_loss: 0.0452 - val_accuracy: 0.7051\n",
            "Epoch 123/200\n",
            "35/35 [==============================] - 0s 5ms/step - loss: 0.0446 - accuracy: 0.7181 - val_loss: 0.0452 - val_accuracy: 0.7035\n",
            "Epoch 124/200\n",
            "35/35 [==============================] - 0s 6ms/step - loss: 0.0446 - accuracy: 0.7158 - val_loss: 0.0452 - val_accuracy: 0.7035\n",
            "Epoch 125/200\n",
            "35/35 [==============================] - 0s 5ms/step - loss: 0.0444 - accuracy: 0.7149 - val_loss: 0.0453 - val_accuracy: 0.7018\n",
            "Epoch 126/200\n",
            "35/35 [==============================] - 0s 6ms/step - loss: 0.0444 - accuracy: 0.7158 - val_loss: 0.0450 - val_accuracy: 0.7035\n",
            "Epoch 127/200\n",
            "35/35 [==============================] - 0s 6ms/step - loss: 0.0443 - accuracy: 0.7167 - val_loss: 0.0452 - val_accuracy: 0.7051\n",
            "Epoch 128/200\n",
            "35/35 [==============================] - 0s 5ms/step - loss: 0.0443 - accuracy: 0.7184 - val_loss: 0.0450 - val_accuracy: 0.7035\n",
            "Epoch 129/200\n",
            "35/35 [==============================] - 0s 6ms/step - loss: 0.0443 - accuracy: 0.7167 - val_loss: 0.0451 - val_accuracy: 0.7002\n",
            "Epoch 130/200\n",
            "35/35 [==============================] - 0s 5ms/step - loss: 0.0442 - accuracy: 0.7152 - val_loss: 0.0448 - val_accuracy: 0.7051\n",
            "Epoch 131/200\n",
            "35/35 [==============================] - 0s 5ms/step - loss: 0.0442 - accuracy: 0.7184 - val_loss: 0.0450 - val_accuracy: 0.7051\n",
            "Epoch 132/200\n",
            "35/35 [==============================] - 0s 6ms/step - loss: 0.0441 - accuracy: 0.7178 - val_loss: 0.0447 - val_accuracy: 0.7100\n",
            "Epoch 133/200\n",
            "35/35 [==============================] - 0s 5ms/step - loss: 0.0441 - accuracy: 0.7164 - val_loss: 0.0448 - val_accuracy: 0.7051\n",
            "Epoch 134/200\n",
            "35/35 [==============================] - 0s 5ms/step - loss: 0.0440 - accuracy: 0.7169 - val_loss: 0.0448 - val_accuracy: 0.7068\n",
            "Epoch 135/200\n",
            "35/35 [==============================] - 0s 5ms/step - loss: 0.0441 - accuracy: 0.7239 - val_loss: 0.0448 - val_accuracy: 0.7084\n",
            "Epoch 136/200\n",
            "35/35 [==============================] - 0s 7ms/step - loss: 0.0441 - accuracy: 0.7169 - val_loss: 0.0449 - val_accuracy: 0.7183\n",
            "Epoch 137/200\n",
            "35/35 [==============================] - 0s 6ms/step - loss: 0.0440 - accuracy: 0.7187 - val_loss: 0.0446 - val_accuracy: 0.7100\n",
            "Epoch 138/200\n",
            "35/35 [==============================] - 0s 4ms/step - loss: 0.0439 - accuracy: 0.7199 - val_loss: 0.0445 - val_accuracy: 0.7117\n",
            "Epoch 139/200\n",
            "35/35 [==============================] - 0s 3ms/step - loss: 0.0438 - accuracy: 0.7204 - val_loss: 0.0445 - val_accuracy: 0.7035\n",
            "Epoch 140/200\n",
            "35/35 [==============================] - 0s 4ms/step - loss: 0.0439 - accuracy: 0.7164 - val_loss: 0.0445 - val_accuracy: 0.7068\n",
            "Epoch 141/200\n",
            "35/35 [==============================] - 0s 4ms/step - loss: 0.0438 - accuracy: 0.7196 - val_loss: 0.0446 - val_accuracy: 0.7084\n",
            "Epoch 142/200\n",
            "35/35 [==============================] - 0s 4ms/step - loss: 0.0438 - accuracy: 0.7234 - val_loss: 0.0443 - val_accuracy: 0.7150\n",
            "Epoch 143/200\n",
            "35/35 [==============================] - 0s 4ms/step - loss: 0.0440 - accuracy: 0.7155 - val_loss: 0.0446 - val_accuracy: 0.7183\n",
            "Epoch 144/200\n",
            "35/35 [==============================] - 0s 4ms/step - loss: 0.0439 - accuracy: 0.7175 - val_loss: 0.0445 - val_accuracy: 0.7100\n",
            "Epoch 145/200\n",
            "35/35 [==============================] - 0s 3ms/step - loss: 0.0437 - accuracy: 0.7207 - val_loss: 0.0443 - val_accuracy: 0.7100\n",
            "Epoch 146/200\n",
            "35/35 [==============================] - 0s 4ms/step - loss: 0.0436 - accuracy: 0.7257 - val_loss: 0.0444 - val_accuracy: 0.7100\n",
            "Epoch 147/200\n",
            "35/35 [==============================] - 0s 4ms/step - loss: 0.0437 - accuracy: 0.7263 - val_loss: 0.0445 - val_accuracy: 0.7133\n",
            "Epoch 148/200\n",
            "35/35 [==============================] - 0s 4ms/step - loss: 0.0435 - accuracy: 0.7219 - val_loss: 0.0442 - val_accuracy: 0.7084\n",
            "Epoch 149/200\n",
            "35/35 [==============================] - 0s 3ms/step - loss: 0.0434 - accuracy: 0.7286 - val_loss: 0.0442 - val_accuracy: 0.7100\n",
            "Epoch 150/200\n",
            "35/35 [==============================] - 0s 4ms/step - loss: 0.0434 - accuracy: 0.7298 - val_loss: 0.0441 - val_accuracy: 0.7183\n",
            "Epoch 151/200\n",
            "35/35 [==============================] - 0s 4ms/step - loss: 0.0434 - accuracy: 0.7263 - val_loss: 0.0441 - val_accuracy: 0.7117\n",
            "Epoch 152/200\n",
            "35/35 [==============================] - 0s 4ms/step - loss: 0.0433 - accuracy: 0.7277 - val_loss: 0.0441 - val_accuracy: 0.7150\n",
            "Epoch 153/200\n",
            "35/35 [==============================] - 0s 4ms/step - loss: 0.0433 - accuracy: 0.7292 - val_loss: 0.0439 - val_accuracy: 0.7232\n",
            "Epoch 154/200\n",
            "35/35 [==============================] - 0s 4ms/step - loss: 0.0433 - accuracy: 0.7292 - val_loss: 0.0440 - val_accuracy: 0.7117\n",
            "Epoch 155/200\n",
            "35/35 [==============================] - 0s 4ms/step - loss: 0.0435 - accuracy: 0.7263 - val_loss: 0.0441 - val_accuracy: 0.7133\n",
            "Epoch 156/200\n",
            "35/35 [==============================] - 0s 4ms/step - loss: 0.0434 - accuracy: 0.7277 - val_loss: 0.0440 - val_accuracy: 0.7166\n",
            "Epoch 157/200\n",
            "35/35 [==============================] - 0s 4ms/step - loss: 0.0432 - accuracy: 0.7301 - val_loss: 0.0438 - val_accuracy: 0.7183\n",
            "Epoch 158/200\n",
            "35/35 [==============================] - 0s 4ms/step - loss: 0.0432 - accuracy: 0.7309 - val_loss: 0.0440 - val_accuracy: 0.7183\n",
            "Epoch 159/200\n",
            "35/35 [==============================] - 0s 4ms/step - loss: 0.0432 - accuracy: 0.7333 - val_loss: 0.0439 - val_accuracy: 0.7133\n",
            "Epoch 160/200\n",
            "35/35 [==============================] - 0s 4ms/step - loss: 0.0432 - accuracy: 0.7324 - val_loss: 0.0440 - val_accuracy: 0.7117\n",
            "Epoch 161/200\n",
            "35/35 [==============================] - 0s 4ms/step - loss: 0.0431 - accuracy: 0.7309 - val_loss: 0.0438 - val_accuracy: 0.7232\n",
            "Epoch 162/200\n",
            "35/35 [==============================] - 0s 4ms/step - loss: 0.0430 - accuracy: 0.7341 - val_loss: 0.0437 - val_accuracy: 0.7183\n",
            "Epoch 163/200\n",
            "35/35 [==============================] - 0s 5ms/step - loss: 0.0431 - accuracy: 0.7298 - val_loss: 0.0438 - val_accuracy: 0.7199\n",
            "Epoch 164/200\n",
            "35/35 [==============================] - 0s 4ms/step - loss: 0.0431 - accuracy: 0.7356 - val_loss: 0.0439 - val_accuracy: 0.7100\n",
            "Epoch 165/200\n",
            "35/35 [==============================] - 0s 4ms/step - loss: 0.0431 - accuracy: 0.7298 - val_loss: 0.0437 - val_accuracy: 0.7133\n",
            "Epoch 166/200\n",
            "35/35 [==============================] - 0s 4ms/step - loss: 0.0429 - accuracy: 0.7423 - val_loss: 0.0438 - val_accuracy: 0.7117\n",
            "Epoch 167/200\n",
            "35/35 [==============================] - 0s 4ms/step - loss: 0.0434 - accuracy: 0.7254 - val_loss: 0.0437 - val_accuracy: 0.7183\n",
            "Epoch 168/200\n",
            "35/35 [==============================] - 0s 4ms/step - loss: 0.0431 - accuracy: 0.7274 - val_loss: 0.0436 - val_accuracy: 0.7282\n",
            "Epoch 169/200\n",
            "35/35 [==============================] - 0s 4ms/step - loss: 0.0429 - accuracy: 0.7356 - val_loss: 0.0437 - val_accuracy: 0.7183\n",
            "Epoch 170/200\n",
            "35/35 [==============================] - 0s 4ms/step - loss: 0.0428 - accuracy: 0.7376 - val_loss: 0.0434 - val_accuracy: 0.7249\n",
            "Epoch 171/200\n",
            "35/35 [==============================] - 0s 4ms/step - loss: 0.0429 - accuracy: 0.7350 - val_loss: 0.0437 - val_accuracy: 0.7199\n",
            "Epoch 172/200\n",
            "35/35 [==============================] - 0s 4ms/step - loss: 0.0428 - accuracy: 0.7370 - val_loss: 0.0433 - val_accuracy: 0.7232\n",
            "Epoch 173/200\n",
            "35/35 [==============================] - 0s 4ms/step - loss: 0.0427 - accuracy: 0.7391 - val_loss: 0.0436 - val_accuracy: 0.7282\n",
            "Epoch 174/200\n",
            "35/35 [==============================] - 0s 4ms/step - loss: 0.0427 - accuracy: 0.7397 - val_loss: 0.0433 - val_accuracy: 0.7331\n",
            "Epoch 175/200\n",
            "35/35 [==============================] - 0s 4ms/step - loss: 0.0426 - accuracy: 0.7432 - val_loss: 0.0433 - val_accuracy: 0.7216\n",
            "Epoch 176/200\n",
            "35/35 [==============================] - 0s 4ms/step - loss: 0.0426 - accuracy: 0.7467 - val_loss: 0.0432 - val_accuracy: 0.7199\n",
            "Epoch 177/200\n",
            "35/35 [==============================] - 0s 4ms/step - loss: 0.0426 - accuracy: 0.7446 - val_loss: 0.0433 - val_accuracy: 0.7265\n",
            "Epoch 178/200\n",
            "35/35 [==============================] - 0s 4ms/step - loss: 0.0425 - accuracy: 0.7464 - val_loss: 0.0434 - val_accuracy: 0.7265\n",
            "Epoch 179/200\n",
            "35/35 [==============================] - 0s 4ms/step - loss: 0.0426 - accuracy: 0.7373 - val_loss: 0.0433 - val_accuracy: 0.7381\n",
            "Epoch 180/200\n",
            "35/35 [==============================] - 0s 4ms/step - loss: 0.0426 - accuracy: 0.7414 - val_loss: 0.0433 - val_accuracy: 0.7397\n",
            "Epoch 181/200\n",
            "35/35 [==============================] - 0s 4ms/step - loss: 0.0425 - accuracy: 0.7432 - val_loss: 0.0434 - val_accuracy: 0.7265\n",
            "Epoch 182/200\n",
            "35/35 [==============================] - 0s 4ms/step - loss: 0.0425 - accuracy: 0.7426 - val_loss: 0.0432 - val_accuracy: 0.7364\n",
            "Epoch 183/200\n",
            "35/35 [==============================] - 0s 4ms/step - loss: 0.0425 - accuracy: 0.7443 - val_loss: 0.0433 - val_accuracy: 0.7397\n",
            "Epoch 184/200\n",
            "35/35 [==============================] - 0s 3ms/step - loss: 0.0424 - accuracy: 0.7452 - val_loss: 0.0431 - val_accuracy: 0.7298\n",
            "Epoch 185/200\n",
            "35/35 [==============================] - 0s 4ms/step - loss: 0.0423 - accuracy: 0.7446 - val_loss: 0.0430 - val_accuracy: 0.7315\n",
            "Epoch 186/200\n",
            "35/35 [==============================] - 0s 4ms/step - loss: 0.0425 - accuracy: 0.7481 - val_loss: 0.0429 - val_accuracy: 0.7331\n",
            "Epoch 187/200\n",
            "35/35 [==============================] - 0s 4ms/step - loss: 0.0423 - accuracy: 0.7522 - val_loss: 0.0431 - val_accuracy: 0.7414\n",
            "Epoch 188/200\n",
            "35/35 [==============================] - 0s 4ms/step - loss: 0.0424 - accuracy: 0.7446 - val_loss: 0.0435 - val_accuracy: 0.7348\n",
            "Epoch 189/200\n",
            "35/35 [==============================] - 0s 4ms/step - loss: 0.0425 - accuracy: 0.7536 - val_loss: 0.0430 - val_accuracy: 0.7331\n",
            "Epoch 190/200\n",
            "35/35 [==============================] - 0s 4ms/step - loss: 0.0423 - accuracy: 0.7545 - val_loss: 0.0428 - val_accuracy: 0.7348\n",
            "Epoch 191/200\n",
            "35/35 [==============================] - 0s 4ms/step - loss: 0.0424 - accuracy: 0.7472 - val_loss: 0.0430 - val_accuracy: 0.7249\n",
            "Epoch 192/200\n",
            "35/35 [==============================] - 0s 4ms/step - loss: 0.0422 - accuracy: 0.7533 - val_loss: 0.0428 - val_accuracy: 0.7348\n",
            "Epoch 193/200\n",
            "35/35 [==============================] - 0s 4ms/step - loss: 0.0422 - accuracy: 0.7536 - val_loss: 0.0428 - val_accuracy: 0.7364\n",
            "Epoch 194/200\n",
            "35/35 [==============================] - 0s 4ms/step - loss: 0.0421 - accuracy: 0.7472 - val_loss: 0.0428 - val_accuracy: 0.7315\n",
            "Epoch 195/200\n",
            "35/35 [==============================] - 0s 4ms/step - loss: 0.0422 - accuracy: 0.7548 - val_loss: 0.0428 - val_accuracy: 0.7364\n",
            "Epoch 196/200\n",
            "35/35 [==============================] - 0s 4ms/step - loss: 0.0422 - accuracy: 0.7461 - val_loss: 0.0426 - val_accuracy: 0.7364\n",
            "Epoch 197/200\n",
            "35/35 [==============================] - 0s 4ms/step - loss: 0.0421 - accuracy: 0.7551 - val_loss: 0.0426 - val_accuracy: 0.7331\n",
            "Epoch 198/200\n",
            "35/35 [==============================] - 0s 4ms/step - loss: 0.0420 - accuracy: 0.7522 - val_loss: 0.0427 - val_accuracy: 0.7315\n",
            "Epoch 199/200\n",
            "35/35 [==============================] - 0s 4ms/step - loss: 0.0420 - accuracy: 0.7516 - val_loss: 0.0430 - val_accuracy: 0.7348\n",
            "Epoch 200/200\n",
            "35/35 [==============================] - 0s 4ms/step - loss: 0.0421 - accuracy: 0.7566 - val_loss: 0.0426 - val_accuracy: 0.7479\n"
          ]
        }
      ],
      "source": [
        "training_history2 = model2.fit(x=xs_train, y=ys_train, \n",
        "                               validation_split=0.15, epochs=200, \n",
        "                               batch_size=100, verbose=1,\n",
        "                               #callbacks=[tfdocs.modeling.EpochDots()], \n",
        "                               shuffle=True)"
      ]
    },
    {
      "cell_type": "code",
      "execution_count": null,
      "metadata": {
        "id": "hK5z1ZBrAL8C",
        "colab": {
          "base_uri": "https://localhost:8080/",
          "height": 206
        },
        "outputId": "51c143e6-a7c2-47f1-fd5d-ecd5665fedf8"
      },
      "outputs": [
        {
          "output_type": "execute_result",
          "data": {
            "text/plain": [
              "         loss  accuracy  val_loss  val_accuracy  epoch\n",
              "195  0.042169  0.746069  0.042625      0.736409    195\n",
              "196  0.042071  0.755096  0.042624      0.733114    196\n",
              "197  0.042016  0.752184  0.042708      0.731466    197\n",
              "198  0.042040  0.751602  0.042987      0.734761    198\n",
              "199  0.042052  0.756552  0.042558      0.747941    199"
            ],
            "text/html": [
              "\n",
              "  <div id=\"df-df23e4f9-0172-419c-8ceb-9cb2d09cf3dc\">\n",
              "    <div class=\"colab-df-container\">\n",
              "      <div>\n",
              "<style scoped>\n",
              "    .dataframe tbody tr th:only-of-type {\n",
              "        vertical-align: middle;\n",
              "    }\n",
              "\n",
              "    .dataframe tbody tr th {\n",
              "        vertical-align: top;\n",
              "    }\n",
              "\n",
              "    .dataframe thead th {\n",
              "        text-align: right;\n",
              "    }\n",
              "</style>\n",
              "<table border=\"1\" class=\"dataframe\">\n",
              "  <thead>\n",
              "    <tr style=\"text-align: right;\">\n",
              "      <th></th>\n",
              "      <th>loss</th>\n",
              "      <th>accuracy</th>\n",
              "      <th>val_loss</th>\n",
              "      <th>val_accuracy</th>\n",
              "      <th>epoch</th>\n",
              "    </tr>\n",
              "  </thead>\n",
              "  <tbody>\n",
              "    <tr>\n",
              "      <th>195</th>\n",
              "      <td>0.042169</td>\n",
              "      <td>0.746069</td>\n",
              "      <td>0.042625</td>\n",
              "      <td>0.736409</td>\n",
              "      <td>195</td>\n",
              "    </tr>\n",
              "    <tr>\n",
              "      <th>196</th>\n",
              "      <td>0.042071</td>\n",
              "      <td>0.755096</td>\n",
              "      <td>0.042624</td>\n",
              "      <td>0.733114</td>\n",
              "      <td>196</td>\n",
              "    </tr>\n",
              "    <tr>\n",
              "      <th>197</th>\n",
              "      <td>0.042016</td>\n",
              "      <td>0.752184</td>\n",
              "      <td>0.042708</td>\n",
              "      <td>0.731466</td>\n",
              "      <td>197</td>\n",
              "    </tr>\n",
              "    <tr>\n",
              "      <th>198</th>\n",
              "      <td>0.042040</td>\n",
              "      <td>0.751602</td>\n",
              "      <td>0.042987</td>\n",
              "      <td>0.734761</td>\n",
              "      <td>198</td>\n",
              "    </tr>\n",
              "    <tr>\n",
              "      <th>199</th>\n",
              "      <td>0.042052</td>\n",
              "      <td>0.756552</td>\n",
              "      <td>0.042558</td>\n",
              "      <td>0.747941</td>\n",
              "      <td>199</td>\n",
              "    </tr>\n",
              "  </tbody>\n",
              "</table>\n",
              "</div>\n",
              "      <button class=\"colab-df-convert\" onclick=\"convertToInteractive('df-df23e4f9-0172-419c-8ceb-9cb2d09cf3dc')\"\n",
              "              title=\"Convert this dataframe to an interactive table.\"\n",
              "              style=\"display:none;\">\n",
              "        \n",
              "  <svg xmlns=\"http://www.w3.org/2000/svg\" height=\"24px\"viewBox=\"0 0 24 24\"\n",
              "       width=\"24px\">\n",
              "    <path d=\"M0 0h24v24H0V0z\" fill=\"none\"/>\n",
              "    <path d=\"M18.56 5.44l.94 2.06.94-2.06 2.06-.94-2.06-.94-.94-2.06-.94 2.06-2.06.94zm-11 1L8.5 8.5l.94-2.06 2.06-.94-2.06-.94L8.5 2.5l-.94 2.06-2.06.94zm10 10l.94 2.06.94-2.06 2.06-.94-2.06-.94-.94-2.06-.94 2.06-2.06.94z\"/><path d=\"M17.41 7.96l-1.37-1.37c-.4-.4-.92-.59-1.43-.59-.52 0-1.04.2-1.43.59L10.3 9.45l-7.72 7.72c-.78.78-.78 2.05 0 2.83L4 21.41c.39.39.9.59 1.41.59.51 0 1.02-.2 1.41-.59l7.78-7.78 2.81-2.81c.8-.78.8-2.07 0-2.86zM5.41 20L4 18.59l7.72-7.72 1.47 1.35L5.41 20z\"/>\n",
              "  </svg>\n",
              "      </button>\n",
              "      \n",
              "  <style>\n",
              "    .colab-df-container {\n",
              "      display:flex;\n",
              "      flex-wrap:wrap;\n",
              "      gap: 12px;\n",
              "    }\n",
              "\n",
              "    .colab-df-convert {\n",
              "      background-color: #E8F0FE;\n",
              "      border: none;\n",
              "      border-radius: 50%;\n",
              "      cursor: pointer;\n",
              "      display: none;\n",
              "      fill: #1967D2;\n",
              "      height: 32px;\n",
              "      padding: 0 0 0 0;\n",
              "      width: 32px;\n",
              "    }\n",
              "\n",
              "    .colab-df-convert:hover {\n",
              "      background-color: #E2EBFA;\n",
              "      box-shadow: 0px 1px 2px rgba(60, 64, 67, 0.3), 0px 1px 3px 1px rgba(60, 64, 67, 0.15);\n",
              "      fill: #174EA6;\n",
              "    }\n",
              "\n",
              "    [theme=dark] .colab-df-convert {\n",
              "      background-color: #3B4455;\n",
              "      fill: #D2E3FC;\n",
              "    }\n",
              "\n",
              "    [theme=dark] .colab-df-convert:hover {\n",
              "      background-color: #434B5C;\n",
              "      box-shadow: 0px 1px 3px 1px rgba(0, 0, 0, 0.15);\n",
              "      filter: drop-shadow(0px 1px 2px rgba(0, 0, 0, 0.3));\n",
              "      fill: #FFFFFF;\n",
              "    }\n",
              "  </style>\n",
              "\n",
              "      <script>\n",
              "        const buttonEl =\n",
              "          document.querySelector('#df-df23e4f9-0172-419c-8ceb-9cb2d09cf3dc button.colab-df-convert');\n",
              "        buttonEl.style.display =\n",
              "          google.colab.kernel.accessAllowed ? 'block' : 'none';\n",
              "\n",
              "        async function convertToInteractive(key) {\n",
              "          const element = document.querySelector('#df-df23e4f9-0172-419c-8ceb-9cb2d09cf3dc');\n",
              "          const dataTable =\n",
              "            await google.colab.kernel.invokeFunction('convertToInteractive',\n",
              "                                                     [key], {});\n",
              "          if (!dataTable) return;\n",
              "\n",
              "          const docLinkHtml = 'Like what you see? Visit the ' +\n",
              "            '<a target=\"_blank\" href=https://colab.research.google.com/notebooks/data_table.ipynb>data table notebook</a>'\n",
              "            + ' to learn more about interactive tables.';\n",
              "          element.innerHTML = '';\n",
              "          dataTable['output_type'] = 'display_data';\n",
              "          await google.colab.output.renderOutput(dataTable, element);\n",
              "          const docLink = document.createElement('div');\n",
              "          docLink.innerHTML = docLinkHtml;\n",
              "          element.appendChild(docLink);\n",
              "        }\n",
              "      </script>\n",
              "    </div>\n",
              "  </div>\n",
              "  "
            ]
          },
          "metadata": {},
          "execution_count": 27
        }
      ],
      "source": [
        "hist2 = pd.DataFrame(training_history2.history)\n",
        "hist2['epoch'] = training_history2.epoch\n",
        "hist2.tail()"
      ]
    },
    {
      "cell_type": "code",
      "source": [
        "# Accuracy on training sets\n",
        "accuracy_m2_train = model2.evaluate(xs_train, ys_train) # loss: 0.0420 - accuracy: 0.7585\n",
        "\n",
        "print('Accuracy on train set', accuracy_m2_train)"
      ],
      "metadata": {
        "colab": {
          "base_uri": "https://localhost:8080/"
        },
        "id": "tpoxXewv897s",
        "outputId": "3055981d-98e3-40b6-bf55-522cdd2be377"
      },
      "execution_count": null,
      "outputs": [
        {
          "output_type": "stream",
          "name": "stdout",
          "text": [
            "127/127 [==============================] - 1s 4ms/step - loss: 0.0420 - accuracy: 0.7585\n",
            "Accuracy on train set [0.041975684463977814, 0.7584756016731262]\n"
          ]
        }
      ]
    },
    {
      "cell_type": "code",
      "execution_count": null,
      "metadata": {
        "id": "5au20iE8HCPL",
        "colab": {
          "base_uri": "https://localhost:8080/",
          "height": 295
        },
        "outputId": "76788313-5b63-4409-8ed2-771020571996"
      },
      "outputs": [
        {
          "output_type": "display_data",
          "data": {
            "text/plain": [
              "<Figure size 432x288 with 1 Axes>"
            ],
            "image/png": "[encoded data removed]"
          },
          "metadata": {
            "needs_background": "light"
          }
        }
      ],
      "source": [
        "plt.plot(hist2['accuracy'])\n",
        "plt.plot(hist2['val_accuracy'])\n",
        "plt.title('model accuracy')\n",
        "plt.ylabel('accuracy')\n",
        "plt.xlabel('epoch')\n",
        "plt.legend(['train', 'val'], loc='upper left')\n",
        "plt.show()"
      ]
    },
    {
      "cell_type": "markdown",
      "metadata": {
        "id": "a3iGFD8A4ARp"
      },
      "source": [
        "Predict on the test set"
      ]
    },
    {
      "cell_type": "code",
      "execution_count": null,
      "metadata": {
        "id": "l0e3Nk_G1Kkw",
        "colab": {
          "base_uri": "https://localhost:8080/"
        },
        "outputId": "a6fdad17-ba1f-4ffe-e0dc-d0346e1b3f89"
      },
      "outputs": [
        {
          "output_type": "stream",
          "name": "stdout",
          "text": [
            "32/32 [==============================] - 0s 5ms/step - loss: 0.0430 - accuracy: 0.7349\n"
          ]
        }
      ],
      "source": [
        "model2_test_predict = model2.evaluate(xs_test, ys_test) #  loss: 0.0430 - accuracy: 0.7349"
      ]
    },
    {
      "cell_type": "code",
      "execution_count": null,
      "metadata": {
        "id": "s0jQBx1T4ARq",
        "colab": {
          "base_uri": "https://localhost:8080/"
        },
        "outputId": "9671fae3-446e-404a-be58-f4b2868164e3"
      },
      "outputs": [
        {
          "output_type": "stream",
          "name": "stdout",
          "text": [
            "32/32 [==============================] - 0s 5ms/step\n",
            "shape is (1011, 11)\n"
          ]
        },
        {
          "output_type": "execute_result",
          "data": {
            "text/plain": [
              "array([[ 3.7407439e-02,  7.0441246e-02,  8.3180793e-02, ...,\n",
              "        -8.8096932e-03,  2.8924532e-03,  9.4470963e-02],\n",
              "       [-1.0180190e-02,  2.6348561e-01,  4.9384326e-02, ...,\n",
              "        -7.1382277e-02,  2.1307919e-02,  2.3357462e-02],\n",
              "       [ 8.7958761e-03,  1.0351453e+00, -1.7823622e-02, ...,\n",
              "        -5.2443221e-03, -1.3428962e-02,  1.8202307e-02],\n",
              "       ...,\n",
              "       [ 1.5643463e-03, -3.0169487e-03,  2.1185130e-02, ...,\n",
              "         3.3772758e-01, -1.0678468e-02, -2.2533394e-02],\n",
              "       [ 2.3486149e-02,  9.6376634e-01, -1.0723412e-02, ...,\n",
              "        -5.8161467e-04, -4.6227667e-03, -1.5203864e-02],\n",
              "       [-7.5056776e-03,  8.1603539e-01, -3.1545267e-02, ...,\n",
              "        -3.9638780e-02, -4.9927738e-03,  5.5028219e-04]], dtype=float32)"
            ]
          },
          "metadata": {},
          "execution_count": 31
        }
      ],
      "source": [
        "test_prediction2 = model2.predict(xs_test)\n",
        "print(\"shape is {}\".format(test_prediction2.shape))  \n",
        "test_prediction2"
      ]
    },
    {
      "cell_type": "markdown",
      "metadata": {
        "id": "Ec8E9OGz1K3m"
      },
      "source": [
        "#### Model 3"
      ]
    },
    {
      "cell_type": "markdown",
      "metadata": {
        "id": "hcR3sti71K3m"
      },
      "source": [
        "Define and compile the model"
      ]
    },
    {
      "cell_type": "code",
      "execution_count": null,
      "metadata": {
        "id": "ErNCgGVF1K3m",
        "colab": {
          "base_uri": "https://localhost:8080/"
        },
        "outputId": "27349849-32b4-4b7a-e66c-7afd2534e198"
      },
      "outputs": [
        {
          "output_type": "stream",
          "name": "stdout",
          "text": [
            "Model: \"sequential_3\"\n",
            "_________________________________________________________________\n",
            " Layer (type)                Output Shape              Param #   \n",
            "=================================================================\n",
            " dense_13 (Dense)            (None, 3)                 12        \n",
            "                                                                 \n",
            " dense_14 (Dense)            (None, 24)                96        \n",
            "                                                                 \n",
            " dense_15 (Dense)            (None, 24)                600       \n",
            "                                                                 \n",
            " dense_16 (Dense)            (None, 16)                400       \n",
            "                                                                 \n",
            " dense_17 (Dense)            (None, 11)                187       \n",
            "                                                                 \n",
            "=================================================================\n",
            "Total params: 1,295\n",
            "Trainable params: 1,295\n",
            "Non-trainable params: 0\n",
            "_________________________________________________________________\n"
          ]
        }
      ],
      "source": [
        "# Parameters model 3\n",
        "activation_fct = 'relu'\n",
        "loss_function = tf.keras.losses.CategoricalCrossentropy(from_logits=True)\n",
        "optimizer = keras.optimizers.Adam(learning_rate=0.001)\n",
        "\n",
        "# model 3\n",
        "model3 = keras.Sequential([\n",
        "    layers.Dense(3, kernel_regularizer=regularizers.l2(0.001), activation=activation_fct, input_shape=(3,)),\n",
        "    layers.Dense(24, kernel_regularizer=regularizers.l2(0.001), activation=activation_fct),\n",
        "    layers.Dense(24, kernel_regularizer=regularizers.l2(0.001), activation=activation_fct),\n",
        "    layers.Dense(16, kernel_regularizer=regularizers.l2(0.001), activation=activation_fct),\n",
        "    layers.Dense(11)\n",
        "  ])\n",
        "model3.summary()\n",
        "\n",
        "# compile the model 3\n",
        "model3.compile(optimizer=optimizer, loss=loss_function, metrics=['accuracy'])\n"
      ]
    },
    {
      "cell_type": "code",
      "execution_count": null,
      "metadata": {
        "id": "ZUohXqd61-td",
        "colab": {
          "base_uri": "https://localhost:8080/"
        },
        "outputId": "5351de4e-3471-4c1b-bef4-a7f3728c5c7a"
      },
      "outputs": [
        {
          "output_type": "stream",
          "name": "stdout",
          "text": [
            "Epoch 1/200\n",
            "18/18 [==============================] - 2s 25ms/step - loss: 2.4321 - accuracy: 0.1561 - val_loss: 2.4030 - val_accuracy: 0.3987\n",
            "Epoch 2/200\n",
            "18/18 [==============================] - 0s 7ms/step - loss: 2.3758 - accuracy: 0.4193 - val_loss: 2.3434 - val_accuracy: 0.4695\n",
            "Epoch 3/200\n",
            "18/18 [==============================] - 0s 8ms/step - loss: 2.3016 - accuracy: 0.4359 - val_loss: 2.2510 - val_accuracy: 0.4432\n",
            "Epoch 4/200\n",
            "18/18 [==============================] - 0s 7ms/step - loss: 2.1931 - accuracy: 0.4263 - val_loss: 2.1288 - val_accuracy: 0.4300\n",
            "Epoch 5/200\n",
            "18/18 [==============================] - 0s 8ms/step - loss: 2.0695 - accuracy: 0.4158 - val_loss: 2.0198 - val_accuracy: 0.4448\n",
            "Epoch 6/200\n",
            "18/18 [==============================] - 0s 7ms/step - loss: 1.9732 - accuracy: 0.4426 - val_loss: 1.9361 - val_accuracy: 0.4712\n",
            "Epoch 7/200\n",
            "18/18 [==============================] - 0s 8ms/step - loss: 1.8926 - accuracy: 0.4520 - val_loss: 1.8487 - val_accuracy: 0.4745\n",
            "Epoch 8/200\n",
            "18/18 [==============================] - 0s 12ms/step - loss: 1.8106 - accuracy: 0.4499 - val_loss: 1.7637 - val_accuracy: 0.4662\n",
            "Epoch 9/200\n",
            "18/18 [==============================] - 0s 9ms/step - loss: 1.7333 - accuracy: 0.4458 - val_loss: 1.6891 - val_accuracy: 0.4695\n",
            "Epoch 10/200\n",
            "18/18 [==============================] - 0s 7ms/step - loss: 1.6635 - accuracy: 0.4432 - val_loss: 1.6194 - val_accuracy: 0.4662\n",
            "Epoch 11/200\n",
            "18/18 [==============================] - 0s 5ms/step - loss: 1.6024 - accuracy: 0.4426 - val_loss: 1.5667 - val_accuracy: 0.4662\n",
            "Epoch 12/200\n",
            "18/18 [==============================] - 0s 5ms/step - loss: 1.5563 - accuracy: 0.4444 - val_loss: 1.5251 - val_accuracy: 0.4712\n",
            "Epoch 13/200\n",
            "18/18 [==============================] - 0s 4ms/step - loss: 1.5193 - accuracy: 0.4482 - val_loss: 1.4938 - val_accuracy: 0.4761\n",
            "Epoch 14/200\n",
            "18/18 [==============================] - 0s 5ms/step - loss: 1.4897 - accuracy: 0.4473 - val_loss: 1.4684 - val_accuracy: 0.4761\n",
            "Epoch 15/200\n",
            "18/18 [==============================] - 0s 4ms/step - loss: 1.4691 - accuracy: 0.4540 - val_loss: 1.4429 - val_accuracy: 0.4959\n",
            "Epoch 16/200\n",
            "18/18 [==============================] - 0s 6ms/step - loss: 1.4518 - accuracy: 0.4703 - val_loss: 1.4346 - val_accuracy: 0.4959\n",
            "Epoch 17/200\n",
            "18/18 [==============================] - 0s 5ms/step - loss: 1.4406 - accuracy: 0.4613 - val_loss: 1.4171 - val_accuracy: 0.4975\n",
            "Epoch 18/200\n",
            "18/18 [==============================] - 0s 6ms/step - loss: 1.4276 - accuracy: 0.4668 - val_loss: 1.4044 - val_accuracy: 0.4942\n",
            "Epoch 19/200\n",
            "18/18 [==============================] - 0s 5ms/step - loss: 1.4192 - accuracy: 0.4668 - val_loss: 1.3940 - val_accuracy: 0.4975\n",
            "Epoch 20/200\n",
            "18/18 [==============================] - 0s 5ms/step - loss: 1.4108 - accuracy: 0.4700 - val_loss: 1.3857 - val_accuracy: 0.4975\n",
            "Epoch 21/200\n",
            "18/18 [==============================] - 0s 4ms/step - loss: 1.4021 - accuracy: 0.4683 - val_loss: 1.3828 - val_accuracy: 0.4959\n",
            "Epoch 22/200\n",
            "18/18 [==============================] - 0s 5ms/step - loss: 1.3960 - accuracy: 0.4720 - val_loss: 1.3686 - val_accuracy: 0.4992\n",
            "Epoch 23/200\n",
            "18/18 [==============================] - 0s 5ms/step - loss: 1.3884 - accuracy: 0.4741 - val_loss: 1.3603 - val_accuracy: 0.4992\n",
            "Epoch 24/200\n",
            "18/18 [==============================] - 0s 5ms/step - loss: 1.3830 - accuracy: 0.4755 - val_loss: 1.3509 - val_accuracy: 0.5008\n",
            "Epoch 25/200\n",
            "18/18 [==============================] - 0s 7ms/step - loss: 1.3758 - accuracy: 0.4776 - val_loss: 1.3453 - val_accuracy: 0.5041\n",
            "Epoch 26/200\n",
            "18/18 [==============================] - 0s 5ms/step - loss: 1.3690 - accuracy: 0.4831 - val_loss: 1.3401 - val_accuracy: 0.5091\n",
            "Epoch 27/200\n",
            "18/18 [==============================] - 0s 4ms/step - loss: 1.3615 - accuracy: 0.4799 - val_loss: 1.3280 - val_accuracy: 0.5058\n",
            "Epoch 28/200\n",
            "18/18 [==============================] - 0s 5ms/step - loss: 1.3534 - accuracy: 0.4866 - val_loss: 1.3190 - val_accuracy: 0.5189\n",
            "Epoch 29/200\n",
            "18/18 [==============================] - 0s 5ms/step - loss: 1.3477 - accuracy: 0.4901 - val_loss: 1.3108 - val_accuracy: 0.5173\n",
            "Epoch 30/200\n",
            "18/18 [==============================] - 0s 5ms/step - loss: 1.3363 - accuracy: 0.4927 - val_loss: 1.3062 - val_accuracy: 0.5124\n",
            "Epoch 31/200\n",
            "18/18 [==============================] - 0s 8ms/step - loss: 1.3256 - accuracy: 0.5015 - val_loss: 1.3008 - val_accuracy: 0.5222\n",
            "Epoch 32/200\n",
            "18/18 [==============================] - 0s 4ms/step - loss: 1.3150 - accuracy: 0.5166 - val_loss: 1.2812 - val_accuracy: 0.5371\n",
            "Epoch 33/200\n",
            "18/18 [==============================] - 0s 5ms/step - loss: 1.3018 - accuracy: 0.5169 - val_loss: 1.2720 - val_accuracy: 0.5420\n",
            "Epoch 34/200\n",
            "18/18 [==============================] - 0s 4ms/step - loss: 1.2919 - accuracy: 0.5230 - val_loss: 1.2668 - val_accuracy: 0.5404\n",
            "Epoch 35/200\n",
            "18/18 [==============================] - 0s 4ms/step - loss: 1.2811 - accuracy: 0.5303 - val_loss: 1.2490 - val_accuracy: 0.5535\n",
            "Epoch 36/200\n",
            "18/18 [==============================] - 0s 5ms/step - loss: 1.2669 - accuracy: 0.5294 - val_loss: 1.2351 - val_accuracy: 0.5618\n",
            "Epoch 37/200\n",
            "18/18 [==============================] - 0s 4ms/step - loss: 1.2554 - accuracy: 0.5341 - val_loss: 1.2218 - val_accuracy: 0.5750\n",
            "Epoch 38/200\n",
            "18/18 [==============================] - 0s 5ms/step - loss: 1.2432 - accuracy: 0.5419 - val_loss: 1.2108 - val_accuracy: 0.5733\n",
            "Epoch 39/200\n",
            "18/18 [==============================] - 0s 4ms/step - loss: 1.2288 - accuracy: 0.5518 - val_loss: 1.1991 - val_accuracy: 0.5700\n",
            "Epoch 40/200\n",
            "18/18 [==============================] - 0s 5ms/step - loss: 1.2223 - accuracy: 0.5469 - val_loss: 1.1869 - val_accuracy: 0.5766\n",
            "Epoch 41/200\n",
            "18/18 [==============================] - 0s 5ms/step - loss: 1.2045 - accuracy: 0.5545 - val_loss: 1.1795 - val_accuracy: 0.5898\n",
            "Epoch 42/200\n",
            "18/18 [==============================] - 0s 4ms/step - loss: 1.1934 - accuracy: 0.5574 - val_loss: 1.1644 - val_accuracy: 0.5914\n",
            "Epoch 43/200\n",
            "18/18 [==============================] - 0s 4ms/step - loss: 1.1805 - accuracy: 0.5600 - val_loss: 1.1543 - val_accuracy: 0.5947\n",
            "Epoch 44/200\n",
            "18/18 [==============================] - 0s 6ms/step - loss: 1.1684 - accuracy: 0.5632 - val_loss: 1.1419 - val_accuracy: 0.6063\n",
            "Epoch 45/200\n",
            "18/18 [==============================] - 0s 5ms/step - loss: 1.1584 - accuracy: 0.5684 - val_loss: 1.1323 - val_accuracy: 0.5997\n",
            "Epoch 46/200\n",
            "18/18 [==============================] - 0s 5ms/step - loss: 1.1484 - accuracy: 0.5705 - val_loss: 1.1288 - val_accuracy: 0.6063\n",
            "Epoch 47/200\n",
            "18/18 [==============================] - 0s 5ms/step - loss: 1.1377 - accuracy: 0.5713 - val_loss: 1.1149 - val_accuracy: 0.6112\n",
            "Epoch 48/200\n",
            "18/18 [==============================] - 0s 5ms/step - loss: 1.1250 - accuracy: 0.5804 - val_loss: 1.1070 - val_accuracy: 0.6096\n",
            "Epoch 49/200\n",
            "18/18 [==============================] - 0s 5ms/step - loss: 1.1164 - accuracy: 0.5783 - val_loss: 1.0948 - val_accuracy: 0.6112\n",
            "Epoch 50/200\n",
            "18/18 [==============================] - 0s 5ms/step - loss: 1.1055 - accuracy: 0.5888 - val_loss: 1.0874 - val_accuracy: 0.6161\n",
            "Epoch 51/200\n",
            "18/18 [==============================] - 0s 5ms/step - loss: 1.0974 - accuracy: 0.5856 - val_loss: 1.0749 - val_accuracy: 0.6211\n",
            "Epoch 52/200\n",
            "18/18 [==============================] - 0s 4ms/step - loss: 1.0857 - accuracy: 0.5906 - val_loss: 1.0677 - val_accuracy: 0.6194\n",
            "Epoch 53/200\n",
            "18/18 [==============================] - 0s 5ms/step - loss: 1.0784 - accuracy: 0.5882 - val_loss: 1.0600 - val_accuracy: 0.6161\n",
            "Epoch 54/200\n",
            "18/18 [==============================] - 0s 6ms/step - loss: 1.0686 - accuracy: 0.6013 - val_loss: 1.0526 - val_accuracy: 0.6145\n",
            "Epoch 55/200\n",
            "18/18 [==============================] - 0s 5ms/step - loss: 1.0598 - accuracy: 0.5978 - val_loss: 1.0438 - val_accuracy: 0.6293\n",
            "Epoch 56/200\n",
            "18/18 [==============================] - 0s 5ms/step - loss: 1.0478 - accuracy: 0.6025 - val_loss: 1.0394 - val_accuracy: 0.6392\n",
            "Epoch 57/200\n",
            "18/18 [==============================] - 0s 5ms/step - loss: 1.0413 - accuracy: 0.6057 - val_loss: 1.0278 - val_accuracy: 0.6376\n",
            "Epoch 58/200\n",
            "18/18 [==============================] - 0s 4ms/step - loss: 1.0322 - accuracy: 0.6045 - val_loss: 1.0169 - val_accuracy: 0.6359\n",
            "Epoch 59/200\n",
            "18/18 [==============================] - 0s 5ms/step - loss: 1.0184 - accuracy: 0.6086 - val_loss: 1.0075 - val_accuracy: 0.6376\n",
            "Epoch 60/200\n",
            "18/18 [==============================] - 0s 5ms/step - loss: 1.0107 - accuracy: 0.6165 - val_loss: 1.0029 - val_accuracy: 0.6606\n",
            "Epoch 61/200\n",
            "18/18 [==============================] - 0s 4ms/step - loss: 0.9968 - accuracy: 0.6165 - val_loss: 0.9912 - val_accuracy: 0.6409\n",
            "Epoch 62/200\n",
            "18/18 [==============================] - 0s 5ms/step - loss: 0.9853 - accuracy: 0.6281 - val_loss: 0.9805 - val_accuracy: 0.6606\n",
            "Epoch 63/200\n",
            "18/18 [==============================] - 0s 4ms/step - loss: 0.9752 - accuracy: 0.6281 - val_loss: 0.9733 - val_accuracy: 0.6491\n",
            "Epoch 64/200\n",
            "18/18 [==============================] - 0s 4ms/step - loss: 0.9647 - accuracy: 0.6441 - val_loss: 0.9609 - val_accuracy: 0.6590\n",
            "Epoch 65/200\n",
            "18/18 [==============================] - 0s 5ms/step - loss: 0.9519 - accuracy: 0.6485 - val_loss: 0.9536 - val_accuracy: 0.6771\n",
            "Epoch 66/200\n",
            "18/18 [==============================] - 0s 5ms/step - loss: 0.9433 - accuracy: 0.6517 - val_loss: 0.9438 - val_accuracy: 0.6903\n",
            "Epoch 67/200\n",
            "18/18 [==============================] - 0s 6ms/step - loss: 0.9336 - accuracy: 0.6508 - val_loss: 0.9310 - val_accuracy: 0.6837\n",
            "Epoch 68/200\n",
            "18/18 [==============================] - 0s 4ms/step - loss: 0.9205 - accuracy: 0.6590 - val_loss: 0.9230 - val_accuracy: 0.6804\n",
            "Epoch 69/200\n",
            "18/18 [==============================] - 0s 5ms/step - loss: 0.9100 - accuracy: 0.6619 - val_loss: 0.9168 - val_accuracy: 0.6705\n",
            "Epoch 70/200\n",
            "18/18 [==============================] - 0s 6ms/step - loss: 0.8976 - accuracy: 0.6674 - val_loss: 0.9028 - val_accuracy: 0.6705\n",
            "Epoch 71/200\n",
            "18/18 [==============================] - 0s 4ms/step - loss: 0.8880 - accuracy: 0.6721 - val_loss: 0.8945 - val_accuracy: 0.6771\n",
            "Epoch 72/200\n",
            "18/18 [==============================] - 0s 5ms/step - loss: 0.8770 - accuracy: 0.6771 - val_loss: 0.8833 - val_accuracy: 0.6804\n",
            "Epoch 73/200\n",
            "18/18 [==============================] - 0s 4ms/step - loss: 0.8672 - accuracy: 0.6782 - val_loss: 0.8748 - val_accuracy: 0.6804\n",
            "Epoch 74/200\n",
            "18/18 [==============================] - 0s 6ms/step - loss: 0.8563 - accuracy: 0.6835 - val_loss: 0.8696 - val_accuracy: 0.6837\n",
            "Epoch 75/200\n",
            "18/18 [==============================] - 0s 5ms/step - loss: 0.8473 - accuracy: 0.6855 - val_loss: 0.8562 - val_accuracy: 0.6787\n",
            "Epoch 76/200\n",
            "18/18 [==============================] - 0s 5ms/step - loss: 0.8373 - accuracy: 0.6896 - val_loss: 0.8466 - val_accuracy: 0.6853\n",
            "Epoch 77/200\n",
            "18/18 [==============================] - 0s 5ms/step - loss: 0.8289 - accuracy: 0.6931 - val_loss: 0.8397 - val_accuracy: 0.6837\n",
            "Epoch 78/200\n",
            "18/18 [==============================] - 0s 4ms/step - loss: 0.8181 - accuracy: 0.6989 - val_loss: 0.8325 - val_accuracy: 0.6820\n",
            "Epoch 79/200\n",
            "18/18 [==============================] - 0s 6ms/step - loss: 0.8118 - accuracy: 0.7001 - val_loss: 0.8231 - val_accuracy: 0.6919\n",
            "Epoch 80/200\n",
            "18/18 [==============================] - 0s 5ms/step - loss: 0.7998 - accuracy: 0.7047 - val_loss: 0.8147 - val_accuracy: 0.6969\n",
            "Epoch 81/200\n",
            "18/18 [==============================] - 0s 5ms/step - loss: 0.7905 - accuracy: 0.7088 - val_loss: 0.8058 - val_accuracy: 0.6886\n",
            "Epoch 82/200\n",
            "18/18 [==============================] - 0s 5ms/step - loss: 0.7825 - accuracy: 0.7100 - val_loss: 0.7995 - val_accuracy: 0.6886\n",
            "Epoch 83/200\n",
            "18/18 [==============================] - 0s 5ms/step - loss: 0.7743 - accuracy: 0.7161 - val_loss: 0.7932 - val_accuracy: 0.6969\n",
            "Epoch 84/200\n",
            "18/18 [==============================] - 0s 5ms/step - loss: 0.7682 - accuracy: 0.7181 - val_loss: 0.7804 - val_accuracy: 0.7068\n",
            "Epoch 85/200\n",
            "18/18 [==============================] - 0s 6ms/step - loss: 0.7595 - accuracy: 0.7199 - val_loss: 0.7707 - val_accuracy: 0.7117\n",
            "Epoch 86/200\n",
            "18/18 [==============================] - 0s 7ms/step - loss: 0.7483 - accuracy: 0.7248 - val_loss: 0.7692 - val_accuracy: 0.7150\n",
            "Epoch 87/200\n",
            "18/18 [==============================] - 0s 6ms/step - loss: 0.7429 - accuracy: 0.7274 - val_loss: 0.7610 - val_accuracy: 0.7150\n",
            "Epoch 88/200\n",
            "18/18 [==============================] - 0s 6ms/step - loss: 0.7378 - accuracy: 0.7266 - val_loss: 0.7512 - val_accuracy: 0.7315\n",
            "Epoch 89/200\n",
            "18/18 [==============================] - 0s 5ms/step - loss: 0.7244 - accuracy: 0.7365 - val_loss: 0.7421 - val_accuracy: 0.7331\n",
            "Epoch 90/200\n",
            "18/18 [==============================] - 0s 5ms/step - loss: 0.7171 - accuracy: 0.7385 - val_loss: 0.7340 - val_accuracy: 0.7331\n",
            "Epoch 91/200\n",
            "18/18 [==============================] - 0s 6ms/step - loss: 0.7092 - accuracy: 0.7397 - val_loss: 0.7248 - val_accuracy: 0.7446\n",
            "Epoch 92/200\n",
            "18/18 [==============================] - 0s 5ms/step - loss: 0.7024 - accuracy: 0.7467 - val_loss: 0.7196 - val_accuracy: 0.7463\n",
            "Epoch 93/200\n",
            "18/18 [==============================] - 0s 5ms/step - loss: 0.6971 - accuracy: 0.7478 - val_loss: 0.7109 - val_accuracy: 0.7414\n",
            "Epoch 94/200\n",
            "18/18 [==============================] - 0s 6ms/step - loss: 0.6878 - accuracy: 0.7493 - val_loss: 0.7058 - val_accuracy: 0.7529\n",
            "Epoch 95/200\n",
            "18/18 [==============================] - 0s 6ms/step - loss: 0.6805 - accuracy: 0.7528 - val_loss: 0.6964 - val_accuracy: 0.7595\n",
            "Epoch 96/200\n",
            "18/18 [==============================] - 0s 6ms/step - loss: 0.6730 - accuracy: 0.7571 - val_loss: 0.6906 - val_accuracy: 0.7545\n",
            "Epoch 97/200\n",
            "18/18 [==============================] - 0s 4ms/step - loss: 0.6655 - accuracy: 0.7609 - val_loss: 0.6841 - val_accuracy: 0.7611\n",
            "Epoch 98/200\n",
            "18/18 [==============================] - 0s 5ms/step - loss: 0.6599 - accuracy: 0.7627 - val_loss: 0.6761 - val_accuracy: 0.7595\n",
            "Epoch 99/200\n",
            "18/18 [==============================] - 0s 6ms/step - loss: 0.6531 - accuracy: 0.7656 - val_loss: 0.6722 - val_accuracy: 0.7677\n",
            "Epoch 100/200\n",
            "18/18 [==============================] - 0s 5ms/step - loss: 0.6502 - accuracy: 0.7644 - val_loss: 0.6625 - val_accuracy: 0.7694\n",
            "Epoch 101/200\n",
            "18/18 [==============================] - 0s 4ms/step - loss: 0.6414 - accuracy: 0.7699 - val_loss: 0.6563 - val_accuracy: 0.7776\n",
            "Epoch 102/200\n",
            "18/18 [==============================] - 0s 5ms/step - loss: 0.6350 - accuracy: 0.7740 - val_loss: 0.6480 - val_accuracy: 0.7710\n",
            "Epoch 103/200\n",
            "18/18 [==============================] - 0s 5ms/step - loss: 0.6290 - accuracy: 0.7764 - val_loss: 0.6425 - val_accuracy: 0.7727\n",
            "Epoch 104/200\n",
            "18/18 [==============================] - 0s 5ms/step - loss: 0.6228 - accuracy: 0.7784 - val_loss: 0.6366 - val_accuracy: 0.7825\n",
            "Epoch 105/200\n",
            "18/18 [==============================] - 0s 5ms/step - loss: 0.6169 - accuracy: 0.7787 - val_loss: 0.6313 - val_accuracy: 0.7842\n",
            "Epoch 106/200\n",
            "18/18 [==============================] - 0s 5ms/step - loss: 0.6154 - accuracy: 0.7790 - val_loss: 0.6263 - val_accuracy: 0.7858\n",
            "Epoch 107/200\n",
            "18/18 [==============================] - 0s 5ms/step - loss: 0.6089 - accuracy: 0.7807 - val_loss: 0.6213 - val_accuracy: 0.7891\n",
            "Epoch 108/200\n",
            "18/18 [==============================] - 0s 5ms/step - loss: 0.6109 - accuracy: 0.7749 - val_loss: 0.6201 - val_accuracy: 0.7858\n",
            "Epoch 109/200\n",
            "18/18 [==============================] - 0s 6ms/step - loss: 0.6015 - accuracy: 0.7836 - val_loss: 0.6125 - val_accuracy: 0.7875\n",
            "Epoch 110/200\n",
            "18/18 [==============================] - 0s 5ms/step - loss: 0.5988 - accuracy: 0.7857 - val_loss: 0.6080 - val_accuracy: 0.7875\n",
            "Epoch 111/200\n",
            "18/18 [==============================] - 0s 5ms/step - loss: 0.5925 - accuracy: 0.7860 - val_loss: 0.6052 - val_accuracy: 0.7891\n",
            "Epoch 112/200\n",
            "18/18 [==============================] - 0s 9ms/step - loss: 0.5889 - accuracy: 0.7851 - val_loss: 0.6101 - val_accuracy: 0.7842\n",
            "Epoch 113/200\n",
            "18/18 [==============================] - 0s 8ms/step - loss: 0.5890 - accuracy: 0.7874 - val_loss: 0.6041 - val_accuracy: 0.7875\n",
            "Epoch 114/200\n",
            "18/18 [==============================] - 0s 9ms/step - loss: 0.5867 - accuracy: 0.7865 - val_loss: 0.5973 - val_accuracy: 0.7875\n",
            "Epoch 115/200\n",
            "18/18 [==============================] - 0s 9ms/step - loss: 0.5798 - accuracy: 0.7886 - val_loss: 0.6017 - val_accuracy: 0.7875\n",
            "Epoch 116/200\n",
            "18/18 [==============================] - 0s 8ms/step - loss: 0.5768 - accuracy: 0.7932 - val_loss: 0.5921 - val_accuracy: 0.7891\n",
            "Epoch 117/200\n",
            "18/18 [==============================] - 0s 7ms/step - loss: 0.5744 - accuracy: 0.7944 - val_loss: 0.5961 - val_accuracy: 0.7908\n",
            "Epoch 118/200\n",
            "18/18 [==============================] - 0s 8ms/step - loss: 0.5692 - accuracy: 0.7935 - val_loss: 0.5856 - val_accuracy: 0.7908\n",
            "Epoch 119/200\n",
            "18/18 [==============================] - 0s 7ms/step - loss: 0.5692 - accuracy: 0.7927 - val_loss: 0.5825 - val_accuracy: 0.7908\n",
            "Epoch 120/200\n",
            "18/18 [==============================] - 0s 8ms/step - loss: 0.5650 - accuracy: 0.7900 - val_loss: 0.5840 - val_accuracy: 0.7908\n",
            "Epoch 121/200\n",
            "18/18 [==============================] - 0s 8ms/step - loss: 0.5636 - accuracy: 0.7935 - val_loss: 0.5778 - val_accuracy: 0.7941\n",
            "Epoch 122/200\n",
            "18/18 [==============================] - 0s 8ms/step - loss: 0.5632 - accuracy: 0.7941 - val_loss: 0.5771 - val_accuracy: 0.7908\n",
            "Epoch 123/200\n",
            "18/18 [==============================] - 0s 7ms/step - loss: 0.5605 - accuracy: 0.7979 - val_loss: 0.5816 - val_accuracy: 0.7908\n",
            "Epoch 124/200\n",
            "18/18 [==============================] - 0s 8ms/step - loss: 0.5581 - accuracy: 0.7967 - val_loss: 0.5773 - val_accuracy: 0.7957\n",
            "Epoch 125/200\n",
            "18/18 [==============================] - 0s 8ms/step - loss: 0.5558 - accuracy: 0.7964 - val_loss: 0.5784 - val_accuracy: 0.7908\n",
            "Epoch 126/200\n",
            "18/18 [==============================] - 0s 10ms/step - loss: 0.5573 - accuracy: 0.7985 - val_loss: 0.5780 - val_accuracy: 0.7974\n",
            "Epoch 127/200\n",
            "18/18 [==============================] - 0s 8ms/step - loss: 0.5533 - accuracy: 0.7970 - val_loss: 0.5730 - val_accuracy: 0.7924\n",
            "Epoch 128/200\n",
            "18/18 [==============================] - 0s 8ms/step - loss: 0.5541 - accuracy: 0.8023 - val_loss: 0.5740 - val_accuracy: 0.7990\n",
            "Epoch 129/200\n",
            "18/18 [==============================] - 0s 8ms/step - loss: 0.5526 - accuracy: 0.7994 - val_loss: 0.5713 - val_accuracy: 0.8040\n",
            "Epoch 130/200\n",
            "18/18 [==============================] - 0s 8ms/step - loss: 0.5491 - accuracy: 0.8040 - val_loss: 0.5689 - val_accuracy: 0.7974\n",
            "Epoch 131/200\n",
            "18/18 [==============================] - 0s 7ms/step - loss: 0.5496 - accuracy: 0.7991 - val_loss: 0.5711 - val_accuracy: 0.7941\n",
            "Epoch 132/200\n",
            "18/18 [==============================] - 0s 7ms/step - loss: 0.5462 - accuracy: 0.8017 - val_loss: 0.5679 - val_accuracy: 0.7908\n",
            "Epoch 133/200\n",
            "18/18 [==============================] - 0s 8ms/step - loss: 0.5469 - accuracy: 0.8017 - val_loss: 0.5652 - val_accuracy: 0.7957\n",
            "Epoch 134/200\n",
            "18/18 [==============================] - 0s 8ms/step - loss: 0.5451 - accuracy: 0.8026 - val_loss: 0.5645 - val_accuracy: 0.7924\n",
            "Epoch 135/200\n",
            "18/18 [==============================] - 0s 7ms/step - loss: 0.5459 - accuracy: 0.8040 - val_loss: 0.5625 - val_accuracy: 0.7941\n",
            "Epoch 136/200\n",
            "18/18 [==============================] - 0s 8ms/step - loss: 0.5430 - accuracy: 0.8023 - val_loss: 0.5630 - val_accuracy: 0.7990\n",
            "Epoch 137/200\n",
            "18/18 [==============================] - 0s 7ms/step - loss: 0.5404 - accuracy: 0.8017 - val_loss: 0.5635 - val_accuracy: 0.7941\n",
            "Epoch 138/200\n",
            "18/18 [==============================] - 0s 7ms/step - loss: 0.5394 - accuracy: 0.8034 - val_loss: 0.5612 - val_accuracy: 0.7990\n",
            "Epoch 139/200\n",
            "18/18 [==============================] - 0s 7ms/step - loss: 0.5375 - accuracy: 0.8031 - val_loss: 0.5625 - val_accuracy: 0.7974\n",
            "Epoch 140/200\n",
            "18/18 [==============================] - 0s 8ms/step - loss: 0.5377 - accuracy: 0.8005 - val_loss: 0.5603 - val_accuracy: 0.8023\n",
            "Epoch 141/200\n",
            "18/18 [==============================] - 0s 8ms/step - loss: 0.5361 - accuracy: 0.8005 - val_loss: 0.5581 - val_accuracy: 0.7957\n",
            "Epoch 142/200\n",
            "18/18 [==============================] - 0s 7ms/step - loss: 0.5379 - accuracy: 0.8058 - val_loss: 0.5586 - val_accuracy: 0.7974\n",
            "Epoch 143/200\n",
            "18/18 [==============================] - 0s 7ms/step - loss: 0.5390 - accuracy: 0.8005 - val_loss: 0.5569 - val_accuracy: 0.7990\n",
            "Epoch 144/200\n",
            "18/18 [==============================] - 0s 8ms/step - loss: 0.5368 - accuracy: 0.8040 - val_loss: 0.5644 - val_accuracy: 0.8023\n",
            "Epoch 145/200\n",
            "18/18 [==============================] - 0s 6ms/step - loss: 0.5350 - accuracy: 0.8090 - val_loss: 0.5658 - val_accuracy: 0.8007\n",
            "Epoch 146/200\n",
            "18/18 [==============================] - 0s 5ms/step - loss: 0.5341 - accuracy: 0.8072 - val_loss: 0.5564 - val_accuracy: 0.7941\n",
            "Epoch 147/200\n",
            "18/18 [==============================] - 0s 4ms/step - loss: 0.5342 - accuracy: 0.8066 - val_loss: 0.5555 - val_accuracy: 0.7990\n",
            "Epoch 148/200\n",
            "18/18 [==============================] - 0s 5ms/step - loss: 0.5309 - accuracy: 0.8040 - val_loss: 0.5609 - val_accuracy: 0.8023\n",
            "Epoch 149/200\n",
            "18/18 [==============================] - 0s 5ms/step - loss: 0.5288 - accuracy: 0.8049 - val_loss: 0.5569 - val_accuracy: 0.7990\n",
            "Epoch 150/200\n",
            "18/18 [==============================] - 0s 5ms/step - loss: 0.5291 - accuracy: 0.8052 - val_loss: 0.5535 - val_accuracy: 0.8007\n",
            "Epoch 151/200\n",
            "18/18 [==============================] - 0s 5ms/step - loss: 0.5298 - accuracy: 0.8043 - val_loss: 0.5537 - val_accuracy: 0.8040\n",
            "Epoch 152/200\n",
            "18/18 [==============================] - 0s 5ms/step - loss: 0.5297 - accuracy: 0.8031 - val_loss: 0.5531 - val_accuracy: 0.8007\n",
            "Epoch 153/200\n",
            "18/18 [==============================] - 0s 6ms/step - loss: 0.5275 - accuracy: 0.8081 - val_loss: 0.5534 - val_accuracy: 0.8040\n",
            "Epoch 154/200\n",
            "18/18 [==============================] - 0s 5ms/step - loss: 0.5284 - accuracy: 0.8072 - val_loss: 0.5509 - val_accuracy: 0.8056\n",
            "Epoch 155/200\n",
            "18/18 [==============================] - 0s 5ms/step - loss: 0.5287 - accuracy: 0.8078 - val_loss: 0.5507 - val_accuracy: 0.8089\n",
            "Epoch 156/200\n",
            "18/18 [==============================] - 0s 6ms/step - loss: 0.5257 - accuracy: 0.8063 - val_loss: 0.5524 - val_accuracy: 0.8023\n",
            "Epoch 157/200\n",
            "18/18 [==============================] - 0s 5ms/step - loss: 0.5272 - accuracy: 0.8069 - val_loss: 0.5539 - val_accuracy: 0.8023\n",
            "Epoch 158/200\n",
            "18/18 [==============================] - 0s 5ms/step - loss: 0.5261 - accuracy: 0.8090 - val_loss: 0.5534 - val_accuracy: 0.8105\n",
            "Epoch 159/200\n",
            "18/18 [==============================] - 0s 5ms/step - loss: 0.5261 - accuracy: 0.8061 - val_loss: 0.5540 - val_accuracy: 0.8007\n",
            "Epoch 160/200\n",
            "18/18 [==============================] - 0s 6ms/step - loss: 0.5278 - accuracy: 0.8061 - val_loss: 0.5504 - val_accuracy: 0.8056\n",
            "Epoch 161/200\n",
            "18/18 [==============================] - 0s 5ms/step - loss: 0.5264 - accuracy: 0.8075 - val_loss: 0.5551 - val_accuracy: 0.8040\n",
            "Epoch 162/200\n",
            "18/18 [==============================] - 0s 5ms/step - loss: 0.5245 - accuracy: 0.8066 - val_loss: 0.5523 - val_accuracy: 0.8105\n",
            "Epoch 163/200\n",
            "18/18 [==============================] - 0s 6ms/step - loss: 0.5240 - accuracy: 0.8096 - val_loss: 0.5498 - val_accuracy: 0.8056\n",
            "Epoch 164/200\n",
            "18/18 [==============================] - 0s 5ms/step - loss: 0.5234 - accuracy: 0.8058 - val_loss: 0.5515 - val_accuracy: 0.8056\n",
            "Epoch 165/200\n",
            "18/18 [==============================] - 0s 5ms/step - loss: 0.5264 - accuracy: 0.8055 - val_loss: 0.5499 - val_accuracy: 0.8072\n",
            "Epoch 166/200\n",
            "18/18 [==============================] - 0s 7ms/step - loss: 0.5230 - accuracy: 0.8063 - val_loss: 0.5510 - val_accuracy: 0.8007\n",
            "Epoch 167/200\n",
            "18/18 [==============================] - 0s 5ms/step - loss: 0.5258 - accuracy: 0.8055 - val_loss: 0.5488 - val_accuracy: 0.7974\n",
            "Epoch 168/200\n",
            "18/18 [==============================] - 0s 5ms/step - loss: 0.5238 - accuracy: 0.8104 - val_loss: 0.5487 - val_accuracy: 0.8072\n",
            "Epoch 169/200\n",
            "18/18 [==============================] - 0s 6ms/step - loss: 0.5261 - accuracy: 0.8066 - val_loss: 0.5475 - val_accuracy: 0.8171\n",
            "Epoch 170/200\n",
            "18/18 [==============================] - 0s 5ms/step - loss: 0.5231 - accuracy: 0.8069 - val_loss: 0.5484 - val_accuracy: 0.8007\n",
            "Epoch 171/200\n",
            "18/18 [==============================] - 0s 5ms/step - loss: 0.5219 - accuracy: 0.8104 - val_loss: 0.5477 - val_accuracy: 0.8056\n",
            "Epoch 172/200\n",
            "18/18 [==============================] - 0s 6ms/step - loss: 0.5212 - accuracy: 0.8084 - val_loss: 0.5484 - val_accuracy: 0.8040\n",
            "Epoch 173/200\n",
            "18/18 [==============================] - 0s 6ms/step - loss: 0.5215 - accuracy: 0.8084 - val_loss: 0.5511 - val_accuracy: 0.8138\n",
            "Epoch 174/200\n",
            "18/18 [==============================] - 0s 6ms/step - loss: 0.5210 - accuracy: 0.8090 - val_loss: 0.5519 - val_accuracy: 0.8089\n",
            "Epoch 175/200\n",
            "18/18 [==============================] - 0s 6ms/step - loss: 0.5208 - accuracy: 0.8087 - val_loss: 0.5480 - val_accuracy: 0.8007\n",
            "Epoch 176/200\n",
            "18/18 [==============================] - 0s 7ms/step - loss: 0.5184 - accuracy: 0.8098 - val_loss: 0.5471 - val_accuracy: 0.7990\n",
            "Epoch 177/200\n",
            "18/18 [==============================] - 0s 6ms/step - loss: 0.5193 - accuracy: 0.8104 - val_loss: 0.5457 - val_accuracy: 0.8056\n",
            "Epoch 178/200\n",
            "18/18 [==============================] - 0s 5ms/step - loss: 0.5196 - accuracy: 0.8087 - val_loss: 0.5510 - val_accuracy: 0.8023\n",
            "Epoch 179/200\n",
            "18/18 [==============================] - 0s 5ms/step - loss: 0.5205 - accuracy: 0.8098 - val_loss: 0.5479 - val_accuracy: 0.8007\n",
            "Epoch 180/200\n",
            "18/18 [==============================] - 0s 5ms/step - loss: 0.5230 - accuracy: 0.8052 - val_loss: 0.5465 - val_accuracy: 0.8105\n",
            "Epoch 181/200\n",
            "18/18 [==============================] - 0s 5ms/step - loss: 0.5176 - accuracy: 0.8101 - val_loss: 0.5457 - val_accuracy: 0.7990\n",
            "Epoch 182/200\n",
            "18/18 [==============================] - 0s 6ms/step - loss: 0.5182 - accuracy: 0.8087 - val_loss: 0.5465 - val_accuracy: 0.8040\n",
            "Epoch 183/200\n",
            "18/18 [==============================] - 0s 5ms/step - loss: 0.5191 - accuracy: 0.8081 - val_loss: 0.5462 - val_accuracy: 0.8056\n",
            "Epoch 184/200\n",
            "18/18 [==============================] - 0s 6ms/step - loss: 0.5163 - accuracy: 0.8113 - val_loss: 0.5493 - val_accuracy: 0.8023\n",
            "Epoch 185/200\n",
            "18/18 [==============================] - 0s 5ms/step - loss: 0.5191 - accuracy: 0.8128 - val_loss: 0.5496 - val_accuracy: 0.8040\n",
            "Epoch 186/200\n",
            "18/18 [==============================] - 0s 5ms/step - loss: 0.5192 - accuracy: 0.8098 - val_loss: 0.5435 - val_accuracy: 0.8105\n",
            "Epoch 187/200\n",
            "18/18 [==============================] - 0s 5ms/step - loss: 0.5160 - accuracy: 0.8104 - val_loss: 0.5480 - val_accuracy: 0.8056\n",
            "Epoch 188/200\n",
            "18/18 [==============================] - 0s 6ms/step - loss: 0.5170 - accuracy: 0.8078 - val_loss: 0.5469 - val_accuracy: 0.8122\n",
            "Epoch 189/200\n",
            "18/18 [==============================] - 0s 5ms/step - loss: 0.5213 - accuracy: 0.8081 - val_loss: 0.5472 - val_accuracy: 0.8072\n",
            "Epoch 190/200\n",
            "18/18 [==============================] - 0s 8ms/step - loss: 0.5190 - accuracy: 0.8096 - val_loss: 0.5478 - val_accuracy: 0.8122\n",
            "Epoch 191/200\n",
            "18/18 [==============================] - 0s 5ms/step - loss: 0.5174 - accuracy: 0.8130 - val_loss: 0.5429 - val_accuracy: 0.8056\n",
            "Epoch 192/200\n",
            "18/18 [==============================] - 0s 6ms/step - loss: 0.5168 - accuracy: 0.8090 - val_loss: 0.5466 - val_accuracy: 0.8040\n",
            "Epoch 193/200\n",
            "18/18 [==============================] - 0s 5ms/step - loss: 0.5191 - accuracy: 0.8107 - val_loss: 0.5449 - val_accuracy: 0.8138\n",
            "Epoch 194/200\n",
            "18/18 [==============================] - 0s 5ms/step - loss: 0.5165 - accuracy: 0.8119 - val_loss: 0.5517 - val_accuracy: 0.8056\n",
            "Epoch 195/200\n",
            "18/18 [==============================] - 0s 5ms/step - loss: 0.5186 - accuracy: 0.8116 - val_loss: 0.5445 - val_accuracy: 0.8188\n",
            "Epoch 196/200\n",
            "18/18 [==============================] - 0s 5ms/step - loss: 0.5156 - accuracy: 0.8133 - val_loss: 0.5466 - val_accuracy: 0.8171\n",
            "Epoch 197/200\n",
            "18/18 [==============================] - 0s 6ms/step - loss: 0.5180 - accuracy: 0.8104 - val_loss: 0.5483 - val_accuracy: 0.8040\n",
            "Epoch 198/200\n",
            "18/18 [==============================] - 0s 4ms/step - loss: 0.5155 - accuracy: 0.8098 - val_loss: 0.5438 - val_accuracy: 0.7974\n",
            "Epoch 199/200\n",
            "18/18 [==============================] - 0s 5ms/step - loss: 0.5143 - accuracy: 0.8113 - val_loss: 0.5477 - val_accuracy: 0.8155\n",
            "Epoch 200/200\n",
            "18/18 [==============================] - 0s 5ms/step - loss: 0.5141 - accuracy: 0.8148 - val_loss: 0.5431 - val_accuracy: 0.8023\n"
          ]
        }
      ],
      "source": [
        "training_history3 = model3.fit(x=xs_train, y=ys_train, \n",
        "                               validation_split=0.15, epochs=200, \n",
        "                               batch_size=200, verbose=1,\n",
        "                               shuffle=True)"
      ]
    },
    {
      "cell_type": "code",
      "execution_count": null,
      "metadata": {
        "id": "XJqhOiQ68FhN",
        "colab": {
          "base_uri": "https://localhost:8080/",
          "height": 206
        },
        "outputId": "485a704a-e213-4670-9d14-d56e5baf7098"
      },
      "outputs": [
        {
          "output_type": "execute_result",
          "data": {
            "text/plain": [
              "         loss  accuracy  val_loss  val_accuracy\n",
              "195  0.515612  0.813337  0.546642      0.817133\n",
              "196  0.518033  0.810425  0.548296      0.803954\n",
              "197  0.515550  0.809843  0.543769      0.797364\n",
              "198  0.514293  0.811299  0.547723      0.815486\n",
              "199  0.514053  0.814793  0.543077      0.802306"
            ],
            "text/html": [
              "\n",
              "  <div id=\"df-7dcb061b-7f1e-4508-b142-732cf3505558\">\n",
              "    <div class=\"colab-df-container\">\n",
              "      <div>\n",
              "<style scoped>\n",
              "    .dataframe tbody tr th:only-of-type {\n",
              "        vertical-align: middle;\n",
              "    }\n",
              "\n",
              "    .dataframe tbody tr th {\n",
              "        vertical-align: top;\n",
              "    }\n",
              "\n",
              "    .dataframe thead th {\n",
              "        text-align: right;\n",
              "    }\n",
              "</style>\n",
              "<table border=\"1\" class=\"dataframe\">\n",
              "  <thead>\n",
              "    <tr style=\"text-align: right;\">\n",
              "      <th></th>\n",
              "      <th>loss</th>\n",
              "      <th>accuracy</th>\n",
              "      <th>val_loss</th>\n",
              "      <th>val_accuracy</th>\n",
              "    </tr>\n",
              "  </thead>\n",
              "  <tbody>\n",
              "    <tr>\n",
              "      <th>195</th>\n",
              "      <td>0.515612</td>\n",
              "      <td>0.813337</td>\n",
              "      <td>0.546642</td>\n",
              "      <td>0.817133</td>\n",
              "    </tr>\n",
              "    <tr>\n",
              "      <th>196</th>\n",
              "      <td>0.518033</td>\n",
              "      <td>0.810425</td>\n",
              "      <td>0.548296</td>\n",
              "      <td>0.803954</td>\n",
              "    </tr>\n",
              "    <tr>\n",
              "      <th>197</th>\n",
              "      <td>0.515550</td>\n",
              "      <td>0.809843</td>\n",
              "      <td>0.543769</td>\n",
              "      <td>0.797364</td>\n",
              "    </tr>\n",
              "    <tr>\n",
              "      <th>198</th>\n",
              "      <td>0.514293</td>\n",
              "      <td>0.811299</td>\n",
              "      <td>0.547723</td>\n",
              "      <td>0.815486</td>\n",
              "    </tr>\n",
              "    <tr>\n",
              "      <th>199</th>\n",
              "      <td>0.514053</td>\n",
              "      <td>0.814793</td>\n",
              "      <td>0.543077</td>\n",
              "      <td>0.802306</td>\n",
              "    </tr>\n",
              "  </tbody>\n",
              "</table>\n",
              "</div>\n",
              "      <button class=\"colab-df-convert\" onclick=\"convertToInteractive('df-7dcb061b-7f1e-4508-b142-732cf3505558')\"\n",
              "              title=\"Convert this dataframe to an interactive table.\"\n",
              "              style=\"display:none;\">\n",
              "        \n",
              "  <svg xmlns=\"http://www.w3.org/2000/svg\" height=\"24px\"viewBox=\"0 0 24 24\"\n",
              "       width=\"24px\">\n",
              "    <path d=\"M0 0h24v24H0V0z\" fill=\"none\"/>\n",
              "    <path d=\"M18.56 5.44l.94 2.06.94-2.06 2.06-.94-2.06-.94-.94-2.06-.94 2.06-2.06.94zm-11 1L8.5 8.5l.94-2.06 2.06-.94-2.06-.94L8.5 2.5l-.94 2.06-2.06.94zm10 10l.94 2.06.94-2.06 2.06-.94-2.06-.94-.94-2.06-.94 2.06-2.06.94z\"/><path d=\"M17.41 7.96l-1.37-1.37c-.4-.4-.92-.59-1.43-.59-.52 0-1.04.2-1.43.59L10.3 9.45l-7.72 7.72c-.78.78-.78 2.05 0 2.83L4 21.41c.39.39.9.59 1.41.59.51 0 1.02-.2 1.41-.59l7.78-7.78 2.81-2.81c.8-.78.8-2.07 0-2.86zM5.41 20L4 18.59l7.72-7.72 1.47 1.35L5.41 20z\"/>\n",
              "  </svg>\n",
              "      </button>\n",
              "      \n",
              "  <style>\n",
              "    .colab-df-container {\n",
              "      display:flex;\n",
              "      flex-wrap:wrap;\n",
              "      gap: 12px;\n",
              "    }\n",
              "\n",
              "    .colab-df-convert {\n",
              "      background-color: #E8F0FE;\n",
              "      border: none;\n",
              "      border-radius: 50%;\n",
              "      cursor: pointer;\n",
              "      display: none;\n",
              "      fill: #1967D2;\n",
              "      height: 32px;\n",
              "      padding: 0 0 0 0;\n",
              "      width: 32px;\n",
              "    }\n",
              "\n",
              "    .colab-df-convert:hover {\n",
              "      background-color: #E2EBFA;\n",
              "      box-shadow: 0px 1px 2px rgba(60, 64, 67, 0.3), 0px 1px 3px 1px rgba(60, 64, 67, 0.15);\n",
              "      fill: #174EA6;\n",
              "    }\n",
              "\n",
              "    [theme=dark] .colab-df-convert {\n",
              "      background-color: #3B4455;\n",
              "      fill: #D2E3FC;\n",
              "    }\n",
              "\n",
              "    [theme=dark] .colab-df-convert:hover {\n",
              "      background-color: #434B5C;\n",
              "      box-shadow: 0px 1px 3px 1px rgba(0, 0, 0, 0.15);\n",
              "      filter: drop-shadow(0px 1px 2px rgba(0, 0, 0, 0.3));\n",
              "      fill: #FFFFFF;\n",
              "    }\n",
              "  </style>\n",
              "\n",
              "      <script>\n",
              "        const buttonEl =\n",
              "          document.querySelector('#df-7dcb061b-7f1e-4508-b142-732cf3505558 button.colab-df-convert');\n",
              "        buttonEl.style.display =\n",
              "          google.colab.kernel.accessAllowed ? 'block' : 'none';\n",
              "\n",
              "        async function convertToInteractive(key) {\n",
              "          const element = document.querySelector('#df-7dcb061b-7f1e-4508-b142-732cf3505558');\n",
              "          const dataTable =\n",
              "            await google.colab.kernel.invokeFunction('convertToInteractive',\n",
              "                                                     [key], {});\n",
              "          if (!dataTable) return;\n",
              "\n",
              "          const docLinkHtml = 'Like what you see? Visit the ' +\n",
              "            '<a target=\"_blank\" href=https://colab.research.google.com/notebooks/data_table.ipynb>data table notebook</a>'\n",
              "            + ' to learn more about interactive tables.';\n",
              "          element.innerHTML = '';\n",
              "          dataTable['output_type'] = 'display_data';\n",
              "          await google.colab.output.renderOutput(dataTable, element);\n",
              "          const docLink = document.createElement('div');\n",
              "          docLink.innerHTML = docLinkHtml;\n",
              "          element.appendChild(docLink);\n",
              "        }\n",
              "      </script>\n",
              "    </div>\n",
              "  </div>\n",
              "  "
            ]
          },
          "metadata": {},
          "execution_count": 34
        }
      ],
      "source": [
        "hist3 = pd.DataFrame(training_history3.history)\n",
        "hist3.tail()"
      ]
    },
    {
      "cell_type": "code",
      "source": [
        "# Accuracy on training sets\n",
        "accuracy_m3_train = model3.evaluate(xs_train, ys_train) # loss: 0.5169 - accuracy: 0.8095\n",
        "\n",
        "print('Accuracy on train set', accuracy_m3_train)"
      ],
      "metadata": {
        "colab": {
          "base_uri": "https://localhost:8080/"
        },
        "id": "uXyov14n9FRO",
        "outputId": "31e463e6-bf94-4dd2-c320-317ff53fe4ab"
      },
      "execution_count": null,
      "outputs": [
        {
          "output_type": "stream",
          "name": "stdout",
          "text": [
            "127/127 [==============================] - 0s 2ms/step - loss: 0.5169 - accuracy: 0.8095\n",
            "Accuracy on train set [0.5168761014938354, 0.8094531297683716]\n"
          ]
        }
      ]
    },
    {
      "cell_type": "code",
      "execution_count": null,
      "metadata": {
        "id": "glgRbdhOG4um",
        "colab": {
          "base_uri": "https://localhost:8080/",
          "height": 295
        },
        "outputId": "6a825a74-4846-4f1c-adab-5feba29b4aa1"
      },
      "outputs": [
        {
          "output_type": "display_data",
          "data": {
            "text/plain": [
              "<Figure size 432x288 with 1 Axes>"
            ],
            "image/png": "[encoded data removed]"
          },
          "metadata": {
            "needs_background": "light"
          }
        }
      ],
      "source": [
        "# Accuracy\n",
        "plt.plot(hist3['accuracy'])\n",
        "plt.plot(hist3['val_accuracy'])\n",
        "plt.title('model accuracy')\n",
        "plt.ylabel('accuracy')\n",
        "plt.xlabel('epoch')\n",
        "plt.legend(['train', 'val'], loc='upper left')\n",
        "plt.show()"
      ]
    },
    {
      "cell_type": "code",
      "execution_count": null,
      "metadata": {
        "id": "SdZb3xbwHBEX",
        "colab": {
          "base_uri": "https://localhost:8080/",
          "height": 320
        },
        "outputId": "fe5b5746-a82b-4dca-cfa4-112dd2e7035f"
      },
      "outputs": [
        {
          "output_type": "execute_result",
          "data": {
            "text/plain": [
              "<matplotlib.legend.Legend at 0x7f6f02a0d4c0>"
            ]
          },
          "metadata": {},
          "execution_count": 37
        },
        {
          "output_type": "display_data",
          "data": {
            "text/plain": [
              "<Figure size 432x288 with 1 Axes>"
            ],
            "image/png": "[encoded data removed]"
          },
          "metadata": {
            "needs_background": "light"
          }
        }
      ],
      "source": [
        "# Loss function\n",
        "plt.plot(training_history3.history['loss'], label='Train')\n",
        "plt.plot(training_history3.history['val_loss'], label='Validation')\n",
        "plt.ylabel('Binary Cross Entropy Loss')\n",
        "plt.xlabel('Epoch')\n",
        "plt.title('Autoencoder Reconstruction Loss', pad=13)\n",
        "plt.legend(loc='upper right')"
      ]
    },
    {
      "cell_type": "markdown",
      "metadata": {
        "id": "MJ3aUUqE4BKT"
      },
      "source": [
        "Evaluate and predict on the test set"
      ]
    },
    {
      "cell_type": "code",
      "execution_count": null,
      "metadata": {
        "id": "VR39ZF_M4Gf1",
        "colab": {
          "base_uri": "https://localhost:8080/"
        },
        "outputId": "9ef2a7b3-686a-46a4-c810-d7dce77e60ab"
      },
      "outputs": [
        {
          "output_type": "stream",
          "name": "stdout",
          "text": [
            "32/32 [==============================] - 0s 2ms/step - loss: 0.5473 - accuracy: 0.7883\n"
          ]
        }
      ],
      "source": [
        "model3_test_predict = model3.evaluate(xs_test, ys_test) # loss: 0.4480 - accuracy: 0.8546"
      ]
    },
    {
      "cell_type": "code",
      "execution_count": null,
      "metadata": {
        "id": "0e595hJe4BKT",
        "colab": {
          "base_uri": "https://localhost:8080/"
        },
        "outputId": "25fcaa4d-19d5-4e92-f87a-236eed71d787"
      },
      "outputs": [
        {
          "output_type": "stream",
          "name": "stdout",
          "text": [
            "32/32 [==============================] - 0s 1ms/step\n",
            "shape is (1011, 11)\n"
          ]
        },
        {
          "output_type": "execute_result",
          "data": {
            "text/plain": [
              "array([[ 1.7889677e+00, -2.1795106e+00,  7.3121995e-01, ...,\n",
              "        -1.1424738e+01, -2.5538763e-01,  2.5868812e+00],\n",
              "       [ 1.3213478e-02,  5.5304232e+00, -3.7728369e+00, ...,\n",
              "        -5.3099303e+00, -3.3383784e+00, -1.5124506e+01],\n",
              "       [ 1.1620877e+00,  1.3095392e+01, -7.9762850e+00, ...,\n",
              "        -1.3876769e+01, -9.6164742e+00, -1.4668030e+01],\n",
              "       ...,\n",
              "       [-1.9240009e+01, -8.8860006e+00,  3.2941477e+00, ...,\n",
              "         8.4116421e+00, -3.6034243e+00, -8.6635208e+00],\n",
              "       [ 1.6758825e+00,  8.7903490e+00, -5.5234680e+00, ...,\n",
              "        -1.2905392e+01, -6.7560997e+00, -1.0448948e+01],\n",
              "       [-1.1527426e-01,  1.0536202e+01, -6.9154835e+00, ...,\n",
              "        -8.6046371e+00, -7.1485176e+00, -1.6468363e+01]], dtype=float32)"
            ]
          },
          "metadata": {},
          "execution_count": 39
        }
      ],
      "source": [
        "test_prediction3 = model3.predict(xs_test)\n",
        "print(\"shape is {}\".format(test_prediction3.shape))  \n",
        "test_prediction3"
      ]
    },
    {
      "cell_type": "markdown",
      "metadata": {
        "id": "UzZzDd5dm3x7"
      },
      "source": [
        "#### Model 4\n"
      ]
    },
    {
      "cell_type": "markdown",
      "metadata": {
        "id": "l__Z942vm3x7"
      },
      "source": [
        "Define and compile the model"
      ]
    },
    {
      "cell_type": "code",
      "execution_count": null,
      "metadata": {
        "id": "sV6gB3RY4ArN",
        "colab": {
          "base_uri": "https://localhost:8080/"
        },
        "outputId": "184c7c9c-879d-48a3-d9af-b3d10f75b8c2"
      },
      "outputs": [
        {
          "output_type": "stream",
          "name": "stdout",
          "text": [
            "Model: \"sequential\"\n",
            "_________________________________________________________________\n",
            " Layer (type)                Output Shape              Param #   \n",
            "=================================================================\n",
            " dense (Dense)               (None, 3)                 12        \n",
            "                                                                 \n",
            " dense_1 (Dense)             (None, 30)                120       \n",
            "                                                                 \n",
            " dense_2 (Dense)             (None, 16)                496       \n",
            "                                                                 \n",
            " dense_3 (Dense)             (None, 11)                187       \n",
            "                                                                 \n",
            "=================================================================\n",
            "Total params: 815\n",
            "Trainable params: 815\n",
            "Non-trainable params: 0\n",
            "_________________________________________________________________\n"
          ]
        }
      ],
      "source": [
        "# Parameters model 4\n",
        "activation_fct = 'relu'\n",
        "loss_function = tf.keras.losses.CategoricalCrossentropy(from_logits=True)\n",
        "optimizer = keras.optimizers.Adam(learning_rate=0.001)\n",
        "\n",
        "# model 4\n",
        "model4 = keras.Sequential([\n",
        "    layers.Dense(3, kernel_regularizer=regularizers.l2(0.001), activation=activation_fct, input_shape=(3,)),\n",
        "    layers.Dense(30, kernel_regularizer=regularizers.l2(0.001), activation=activation_fct),\n",
        "    layers.Dense(16, kernel_regularizer=regularizers.l2(0.001), activation=activation_fct),\n",
        "    layers.Dense(11)\n",
        "  ])\n",
        "model4.summary()\n",
        "\n",
        "# compile the model \n",
        "model4.compile(optimizer=optimizer, loss=loss_function, metrics=['accuracy'])\n"
      ]
    },
    {
      "cell_type": "code",
      "execution_count": null,
      "metadata": {
        "id": "OKM3EAPIEz1H",
        "colab": {
          "base_uri": "https://localhost:8080/"
        },
        "outputId": "ebe0493d-6475-4f0f-dd2d-dc549822e526"
      },
      "outputs": [
        {
          "output_type": "stream",
          "name": "stdout",
          "text": [
            "Epoch 1/200\n",
            "18/18 [==============================] - 6s 82ms/step - loss: 2.4045 - accuracy: 0.2746 - val_loss: 2.3801 - val_accuracy: 0.3740\n",
            "Epoch 2/200\n",
            "18/18 [==============================] - 0s 13ms/step - loss: 2.3560 - accuracy: 0.4278 - val_loss: 2.3263 - val_accuracy: 0.5157\n",
            "Epoch 3/200\n",
            "18/18 [==============================] - 0s 16ms/step - loss: 2.2882 - accuracy: 0.4819 - val_loss: 2.2460 - val_accuracy: 0.4794\n",
            "Epoch 4/200\n",
            "18/18 [==============================] - 0s 10ms/step - loss: 2.1910 - accuracy: 0.4479 - val_loss: 2.1317 - val_accuracy: 0.4712\n",
            "Epoch 5/200\n",
            "18/18 [==============================] - 0s 15ms/step - loss: 2.0578 - accuracy: 0.4549 - val_loss: 1.9907 - val_accuracy: 0.4745\n",
            "Epoch 6/200\n",
            "18/18 [==============================] - 0s 13ms/step - loss: 1.9106 - accuracy: 0.4659 - val_loss: 1.8573 - val_accuracy: 0.5140\n",
            "Epoch 7/200\n",
            "18/18 [==============================] - 0s 23ms/step - loss: 1.7846 - accuracy: 0.5151 - val_loss: 1.7511 - val_accuracy: 0.5684\n",
            "Epoch 8/200\n",
            "18/18 [==============================] - 0s 10ms/step - loss: 1.6850 - accuracy: 0.5393 - val_loss: 1.6698 - val_accuracy: 0.5206\n",
            "Epoch 9/200\n",
            "18/18 [==============================] - 0s 8ms/step - loss: 1.6059 - accuracy: 0.5157 - val_loss: 1.5972 - val_accuracy: 0.5222\n",
            "Epoch 10/200\n",
            "18/18 [==============================] - 0s 13ms/step - loss: 1.5352 - accuracy: 0.5390 - val_loss: 1.5261 - val_accuracy: 0.5717\n",
            "Epoch 11/200\n",
            "18/18 [==============================] - 0s 19ms/step - loss: 1.4664 - accuracy: 0.5946 - val_loss: 1.4603 - val_accuracy: 0.5898\n",
            "Epoch 12/200\n",
            "18/18 [==============================] - 0s 15ms/step - loss: 1.3981 - accuracy: 0.6121 - val_loss: 1.3916 - val_accuracy: 0.6161\n",
            "Epoch 13/200\n",
            "18/18 [==============================] - 0s 16ms/step - loss: 1.3289 - accuracy: 0.6133 - val_loss: 1.3241 - val_accuracy: 0.6227\n",
            "Epoch 14/200\n",
            "18/18 [==============================] - 0s 15ms/step - loss: 1.2616 - accuracy: 0.6293 - val_loss: 1.2599 - val_accuracy: 0.6293\n",
            "Epoch 15/200\n",
            "18/18 [==============================] - 0s 21ms/step - loss: 1.1997 - accuracy: 0.6345 - val_loss: 1.2007 - val_accuracy: 0.6293\n",
            "Epoch 16/200\n",
            "18/18 [==============================] - 0s 19ms/step - loss: 1.1445 - accuracy: 0.6401 - val_loss: 1.1483 - val_accuracy: 0.6293\n",
            "Epoch 17/200\n",
            "18/18 [==============================] - 0s 13ms/step - loss: 1.0938 - accuracy: 0.6459 - val_loss: 1.1055 - val_accuracy: 0.6310\n",
            "Epoch 18/200\n",
            "18/18 [==============================] - 0s 17ms/step - loss: 1.0507 - accuracy: 0.6441 - val_loss: 1.0627 - val_accuracy: 0.6293\n",
            "Epoch 19/200\n",
            "18/18 [==============================] - 0s 17ms/step - loss: 1.0122 - accuracy: 0.6465 - val_loss: 1.0254 - val_accuracy: 0.6359\n",
            "Epoch 20/200\n",
            "18/18 [==============================] - 0s 10ms/step - loss: 0.9770 - accuracy: 0.6506 - val_loss: 0.9935 - val_accuracy: 0.6458\n",
            "Epoch 21/200\n",
            "18/18 [==============================] - 0s 17ms/step - loss: 0.9451 - accuracy: 0.6607 - val_loss: 0.9630 - val_accuracy: 0.6771\n",
            "Epoch 22/200\n",
            "18/18 [==============================] - 0s 22ms/step - loss: 0.9151 - accuracy: 0.6805 - val_loss: 0.9319 - val_accuracy: 0.6837\n",
            "Epoch 23/200\n",
            "18/18 [==============================] - 0s 17ms/step - loss: 0.8859 - accuracy: 0.6942 - val_loss: 0.9054 - val_accuracy: 0.6903\n",
            "Epoch 24/200\n",
            "18/18 [==============================] - 0s 22ms/step - loss: 0.8621 - accuracy: 0.7001 - val_loss: 0.8768 - val_accuracy: 0.7100\n",
            "Epoch 25/200\n",
            "18/18 [==============================] - 0s 21ms/step - loss: 0.8356 - accuracy: 0.7079 - val_loss: 0.8543 - val_accuracy: 0.7199\n",
            "Epoch 26/200\n",
            "18/18 [==============================] - 0s 9ms/step - loss: 0.8132 - accuracy: 0.7149 - val_loss: 0.8311 - val_accuracy: 0.7265\n",
            "Epoch 27/200\n",
            "18/18 [==============================] - 0s 15ms/step - loss: 0.7913 - accuracy: 0.7254 - val_loss: 0.8111 - val_accuracy: 0.7265\n",
            "Epoch 28/200\n",
            "18/18 [==============================] - 0s 7ms/step - loss: 0.7720 - accuracy: 0.7242 - val_loss: 0.7920 - val_accuracy: 0.7249\n",
            "Epoch 29/200\n",
            "18/18 [==============================] - 0s 9ms/step - loss: 0.7537 - accuracy: 0.7312 - val_loss: 0.7761 - val_accuracy: 0.7249\n",
            "Epoch 30/200\n",
            "18/18 [==============================] - 0s 14ms/step - loss: 0.7380 - accuracy: 0.7333 - val_loss: 0.7594 - val_accuracy: 0.7381\n",
            "Epoch 31/200\n",
            "18/18 [==============================] - 0s 7ms/step - loss: 0.7228 - accuracy: 0.7443 - val_loss: 0.7459 - val_accuracy: 0.7496\n",
            "Epoch 32/200\n",
            "18/18 [==============================] - 0s 8ms/step - loss: 0.7090 - accuracy: 0.7501 - val_loss: 0.7355 - val_accuracy: 0.7479\n",
            "Epoch 33/200\n",
            "18/18 [==============================] - 0s 7ms/step - loss: 0.6970 - accuracy: 0.7539 - val_loss: 0.7202 - val_accuracy: 0.7562\n",
            "Epoch 34/200\n",
            "18/18 [==============================] - 0s 10ms/step - loss: 0.6876 - accuracy: 0.7571 - val_loss: 0.7123 - val_accuracy: 0.7644\n",
            "Epoch 35/200\n",
            "18/18 [==============================] - 0s 10ms/step - loss: 0.6763 - accuracy: 0.7676 - val_loss: 0.7000 - val_accuracy: 0.7661\n",
            "Epoch 36/200\n",
            "18/18 [==============================] - 0s 13ms/step - loss: 0.6682 - accuracy: 0.7665 - val_loss: 0.6919 - val_accuracy: 0.7727\n",
            "Epoch 37/200\n",
            "18/18 [==============================] - 0s 14ms/step - loss: 0.6586 - accuracy: 0.7761 - val_loss: 0.6909 - val_accuracy: 0.7628\n",
            "Epoch 38/200\n",
            "18/18 [==============================] - 0s 8ms/step - loss: 0.6532 - accuracy: 0.7740 - val_loss: 0.6791 - val_accuracy: 0.7727\n",
            "Epoch 39/200\n",
            "18/18 [==============================] - 0s 8ms/step - loss: 0.6466 - accuracy: 0.7726 - val_loss: 0.6703 - val_accuracy: 0.7727\n",
            "Epoch 40/200\n",
            "18/18 [==============================] - 0s 10ms/step - loss: 0.6393 - accuracy: 0.7772 - val_loss: 0.6625 - val_accuracy: 0.7776\n",
            "Epoch 41/200\n",
            "18/18 [==============================] - 0s 7ms/step - loss: 0.6322 - accuracy: 0.7828 - val_loss: 0.6569 - val_accuracy: 0.7792\n",
            "Epoch 42/200\n",
            "18/18 [==============================] - 0s 12ms/step - loss: 0.6271 - accuracy: 0.7848 - val_loss: 0.6620 - val_accuracy: 0.7743\n",
            "Epoch 43/200\n",
            "18/18 [==============================] - 0s 21ms/step - loss: 0.6243 - accuracy: 0.7845 - val_loss: 0.6495 - val_accuracy: 0.7858\n",
            "Epoch 44/200\n",
            "18/18 [==============================] - 0s 9ms/step - loss: 0.6176 - accuracy: 0.7863 - val_loss: 0.6445 - val_accuracy: 0.7842\n",
            "Epoch 45/200\n",
            "18/18 [==============================] - 0s 16ms/step - loss: 0.6142 - accuracy: 0.7874 - val_loss: 0.6399 - val_accuracy: 0.7858\n",
            "Epoch 46/200\n",
            "18/18 [==============================] - 0s 11ms/step - loss: 0.6129 - accuracy: 0.7860 - val_loss: 0.6373 - val_accuracy: 0.7858\n",
            "Epoch 47/200\n",
            "18/18 [==============================] - 0s 13ms/step - loss: 0.6090 - accuracy: 0.7906 - val_loss: 0.6347 - val_accuracy: 0.7858\n",
            "Epoch 48/200\n",
            "18/18 [==============================] - 0s 12ms/step - loss: 0.6044 - accuracy: 0.7930 - val_loss: 0.6340 - val_accuracy: 0.7941\n",
            "Epoch 49/200\n",
            "18/18 [==============================] - 0s 14ms/step - loss: 0.6016 - accuracy: 0.7921 - val_loss: 0.6280 - val_accuracy: 0.7924\n",
            "Epoch 50/200\n",
            "18/18 [==============================] - 0s 16ms/step - loss: 0.5997 - accuracy: 0.7985 - val_loss: 0.6407 - val_accuracy: 0.7924\n",
            "Epoch 51/200\n",
            "18/18 [==============================] - 0s 12ms/step - loss: 0.5977 - accuracy: 0.7932 - val_loss: 0.6228 - val_accuracy: 0.7908\n",
            "Epoch 52/200\n",
            "18/18 [==============================] - 0s 9ms/step - loss: 0.5942 - accuracy: 0.7964 - val_loss: 0.6208 - val_accuracy: 0.7974\n",
            "Epoch 53/200\n",
            "18/18 [==============================] - 0s 9ms/step - loss: 0.5926 - accuracy: 0.7976 - val_loss: 0.6189 - val_accuracy: 0.7941\n",
            "Epoch 54/200\n",
            "18/18 [==============================] - 0s 9ms/step - loss: 0.5906 - accuracy: 0.7970 - val_loss: 0.6237 - val_accuracy: 0.7957\n",
            "Epoch 55/200\n",
            "18/18 [==============================] - 0s 15ms/step - loss: 0.5899 - accuracy: 0.7935 - val_loss: 0.6200 - val_accuracy: 0.7908\n",
            "Epoch 56/200\n",
            "18/18 [==============================] - 0s 16ms/step - loss: 0.5866 - accuracy: 0.7991 - val_loss: 0.6165 - val_accuracy: 0.7941\n",
            "Epoch 57/200\n",
            "18/18 [==============================] - 0s 11ms/step - loss: 0.5861 - accuracy: 0.7997 - val_loss: 0.6139 - val_accuracy: 0.7941\n",
            "Epoch 58/200\n",
            "18/18 [==============================] - 0s 12ms/step - loss: 0.5847 - accuracy: 0.7976 - val_loss: 0.6125 - val_accuracy: 0.8007\n",
            "Epoch 59/200\n",
            "18/18 [==============================] - 0s 19ms/step - loss: 0.5828 - accuracy: 0.8008 - val_loss: 0.6112 - val_accuracy: 0.7941\n",
            "Epoch 60/200\n",
            "18/18 [==============================] - 0s 9ms/step - loss: 0.5821 - accuracy: 0.7997 - val_loss: 0.6099 - val_accuracy: 0.7957\n",
            "Epoch 61/200\n",
            "18/18 [==============================] - 0s 9ms/step - loss: 0.5800 - accuracy: 0.7991 - val_loss: 0.6090 - val_accuracy: 0.7941\n",
            "Epoch 62/200\n",
            "18/18 [==============================] - 0s 9ms/step - loss: 0.5776 - accuracy: 0.7999 - val_loss: 0.6137 - val_accuracy: 0.7974\n",
            "Epoch 63/200\n",
            "18/18 [==============================] - 0s 9ms/step - loss: 0.5777 - accuracy: 0.8034 - val_loss: 0.6053 - val_accuracy: 0.8040\n",
            "Epoch 64/200\n",
            "18/18 [==============================] - 0s 8ms/step - loss: 0.5759 - accuracy: 0.7979 - val_loss: 0.6070 - val_accuracy: 0.7957\n",
            "Epoch 65/200\n",
            "18/18 [==============================] - 0s 21ms/step - loss: 0.5744 - accuracy: 0.8011 - val_loss: 0.6043 - val_accuracy: 0.8007\n",
            "Epoch 66/200\n",
            "18/18 [==============================] - 0s 12ms/step - loss: 0.5750 - accuracy: 0.8005 - val_loss: 0.6042 - val_accuracy: 0.8056\n",
            "Epoch 67/200\n",
            "18/18 [==============================] - 0s 18ms/step - loss: 0.5718 - accuracy: 0.8078 - val_loss: 0.6037 - val_accuracy: 0.8056\n",
            "Epoch 68/200\n",
            "18/18 [==============================] - 0s 11ms/step - loss: 0.5707 - accuracy: 0.8034 - val_loss: 0.6030 - val_accuracy: 0.7990\n",
            "Epoch 69/200\n",
            "18/18 [==============================] - 0s 7ms/step - loss: 0.5710 - accuracy: 0.8020 - val_loss: 0.5996 - val_accuracy: 0.8056\n",
            "Epoch 70/200\n",
            "18/18 [==============================] - 0s 16ms/step - loss: 0.5692 - accuracy: 0.8031 - val_loss: 0.5986 - val_accuracy: 0.8105\n",
            "Epoch 71/200\n",
            "18/18 [==============================] - 0s 23ms/step - loss: 0.5667 - accuracy: 0.8014 - val_loss: 0.6021 - val_accuracy: 0.8007\n",
            "Epoch 72/200\n",
            "18/18 [==============================] - 0s 28ms/step - loss: 0.5667 - accuracy: 0.8049 - val_loss: 0.6025 - val_accuracy: 0.8007\n",
            "Epoch 73/200\n",
            "18/18 [==============================] - 0s 25ms/step - loss: 0.5648 - accuracy: 0.8063 - val_loss: 0.5949 - val_accuracy: 0.8089\n",
            "Epoch 74/200\n",
            "18/18 [==============================] - 0s 19ms/step - loss: 0.5654 - accuracy: 0.8061 - val_loss: 0.5953 - val_accuracy: 0.8089\n",
            "Epoch 75/200\n",
            "18/18 [==============================] - 0s 18ms/step - loss: 0.5629 - accuracy: 0.8046 - val_loss: 0.5946 - val_accuracy: 0.8072\n",
            "Epoch 76/200\n",
            "18/18 [==============================] - 0s 20ms/step - loss: 0.5619 - accuracy: 0.8046 - val_loss: 0.5968 - val_accuracy: 0.8007\n",
            "Epoch 77/200\n",
            "18/18 [==============================] - 0s 17ms/step - loss: 0.5615 - accuracy: 0.8017 - val_loss: 0.5927 - val_accuracy: 0.8056\n",
            "Epoch 78/200\n",
            "18/18 [==============================] - 0s 13ms/step - loss: 0.5621 - accuracy: 0.8026 - val_loss: 0.5952 - val_accuracy: 0.8056\n",
            "Epoch 79/200\n",
            "18/18 [==============================] - 0s 15ms/step - loss: 0.5615 - accuracy: 0.8023 - val_loss: 0.5910 - val_accuracy: 0.8072\n",
            "Epoch 80/200\n",
            "18/18 [==============================] - 0s 14ms/step - loss: 0.5581 - accuracy: 0.8069 - val_loss: 0.5910 - val_accuracy: 0.8056\n",
            "Epoch 81/200\n",
            "18/18 [==============================] - 0s 15ms/step - loss: 0.5575 - accuracy: 0.8081 - val_loss: 0.5929 - val_accuracy: 0.8155\n",
            "Epoch 82/200\n",
            "18/18 [==============================] - 0s 16ms/step - loss: 0.5581 - accuracy: 0.8072 - val_loss: 0.5905 - val_accuracy: 0.8040\n",
            "Epoch 83/200\n",
            "18/18 [==============================] - 0s 21ms/step - loss: 0.5583 - accuracy: 0.8058 - val_loss: 0.5947 - val_accuracy: 0.8105\n",
            "Epoch 84/200\n",
            "18/18 [==============================] - 0s 15ms/step - loss: 0.5579 - accuracy: 0.8052 - val_loss: 0.5912 - val_accuracy: 0.8072\n",
            "Epoch 85/200\n",
            "18/18 [==============================] - 0s 15ms/step - loss: 0.5553 - accuracy: 0.8075 - val_loss: 0.5868 - val_accuracy: 0.8138\n",
            "Epoch 86/200\n",
            "18/18 [==============================] - 0s 18ms/step - loss: 0.5532 - accuracy: 0.8096 - val_loss: 0.5864 - val_accuracy: 0.8171\n",
            "Epoch 87/200\n",
            "18/18 [==============================] - 0s 14ms/step - loss: 0.5525 - accuracy: 0.8101 - val_loss: 0.5899 - val_accuracy: 0.8122\n",
            "Epoch 88/200\n",
            "18/18 [==============================] - 0s 6ms/step - loss: 0.5555 - accuracy: 0.8101 - val_loss: 0.5870 - val_accuracy: 0.8040\n",
            "Epoch 89/200\n",
            "18/18 [==============================] - 0s 7ms/step - loss: 0.5504 - accuracy: 0.8090 - val_loss: 0.5841 - val_accuracy: 0.8105\n",
            "Epoch 90/200\n",
            "18/18 [==============================] - 0s 11ms/step - loss: 0.5495 - accuracy: 0.8096 - val_loss: 0.5861 - val_accuracy: 0.8105\n",
            "Epoch 91/200\n",
            "18/18 [==============================] - 0s 13ms/step - loss: 0.5502 - accuracy: 0.8101 - val_loss: 0.5853 - val_accuracy: 0.8089\n",
            "Epoch 92/200\n",
            "18/18 [==============================] - 0s 12ms/step - loss: 0.5484 - accuracy: 0.8119 - val_loss: 0.5877 - val_accuracy: 0.8122\n",
            "Epoch 93/200\n",
            "18/18 [==============================] - 0s 10ms/step - loss: 0.5498 - accuracy: 0.8119 - val_loss: 0.5803 - val_accuracy: 0.8122\n",
            "Epoch 94/200\n",
            "18/18 [==============================] - 0s 9ms/step - loss: 0.5464 - accuracy: 0.8096 - val_loss: 0.5820 - val_accuracy: 0.8056\n",
            "Epoch 95/200\n",
            "18/18 [==============================] - 0s 13ms/step - loss: 0.5465 - accuracy: 0.8130 - val_loss: 0.5849 - val_accuracy: 0.8072\n",
            "Epoch 96/200\n",
            "18/18 [==============================] - 0s 12ms/step - loss: 0.5456 - accuracy: 0.8113 - val_loss: 0.5829 - val_accuracy: 0.8105\n",
            "Epoch 97/200\n",
            "18/18 [==============================] - 0s 14ms/step - loss: 0.5435 - accuracy: 0.8116 - val_loss: 0.5856 - val_accuracy: 0.8023\n",
            "Epoch 98/200\n",
            "18/18 [==============================] - 0s 12ms/step - loss: 0.5433 - accuracy: 0.8096 - val_loss: 0.5785 - val_accuracy: 0.8171\n",
            "Epoch 99/200\n",
            "18/18 [==============================] - 0s 14ms/step - loss: 0.5412 - accuracy: 0.8119 - val_loss: 0.5808 - val_accuracy: 0.8023\n",
            "Epoch 100/200\n",
            "18/18 [==============================] - 0s 12ms/step - loss: 0.5412 - accuracy: 0.8160 - val_loss: 0.5778 - val_accuracy: 0.8056\n",
            "Epoch 101/200\n",
            "18/18 [==============================] - 0s 10ms/step - loss: 0.5406 - accuracy: 0.8104 - val_loss: 0.5771 - val_accuracy: 0.8072\n",
            "Epoch 102/200\n",
            "18/18 [==============================] - 0s 8ms/step - loss: 0.5394 - accuracy: 0.8148 - val_loss: 0.5774 - val_accuracy: 0.8171\n",
            "Epoch 103/200\n",
            "18/18 [==============================] - 0s 11ms/step - loss: 0.5397 - accuracy: 0.8098 - val_loss: 0.5736 - val_accuracy: 0.8089\n",
            "Epoch 104/200\n",
            "18/18 [==============================] - 0s 9ms/step - loss: 0.5365 - accuracy: 0.8122 - val_loss: 0.5751 - val_accuracy: 0.8089\n",
            "Epoch 105/200\n",
            "18/18 [==============================] - 0s 10ms/step - loss: 0.5364 - accuracy: 0.8142 - val_loss: 0.5709 - val_accuracy: 0.8171\n",
            "Epoch 106/200\n",
            "18/18 [==============================] - 0s 8ms/step - loss: 0.5370 - accuracy: 0.8151 - val_loss: 0.5721 - val_accuracy: 0.8155\n",
            "Epoch 107/200\n",
            "18/18 [==============================] - 0s 7ms/step - loss: 0.5349 - accuracy: 0.8168 - val_loss: 0.5709 - val_accuracy: 0.8204\n",
            "Epoch 108/200\n",
            "18/18 [==============================] - 0s 12ms/step - loss: 0.5372 - accuracy: 0.8133 - val_loss: 0.5695 - val_accuracy: 0.8171\n",
            "Epoch 109/200\n",
            "18/18 [==============================] - 0s 12ms/step - loss: 0.5337 - accuracy: 0.8160 - val_loss: 0.5691 - val_accuracy: 0.8089\n",
            "Epoch 110/200\n",
            "18/18 [==============================] - 0s 7ms/step - loss: 0.5333 - accuracy: 0.8145 - val_loss: 0.5675 - val_accuracy: 0.8122\n",
            "Epoch 111/200\n",
            "18/18 [==============================] - 0s 10ms/step - loss: 0.5304 - accuracy: 0.8139 - val_loss: 0.5661 - val_accuracy: 0.8105\n",
            "Epoch 112/200\n",
            "18/18 [==============================] - 0s 11ms/step - loss: 0.5301 - accuracy: 0.8157 - val_loss: 0.5650 - val_accuracy: 0.8155\n",
            "Epoch 113/200\n",
            "18/18 [==============================] - 0s 18ms/step - loss: 0.5295 - accuracy: 0.8122 - val_loss: 0.5649 - val_accuracy: 0.8122\n",
            "Epoch 114/200\n",
            "18/18 [==============================] - 0s 21ms/step - loss: 0.5300 - accuracy: 0.8162 - val_loss: 0.5680 - val_accuracy: 0.8072\n",
            "Epoch 115/200\n",
            "18/18 [==============================] - 0s 13ms/step - loss: 0.5284 - accuracy: 0.8160 - val_loss: 0.5720 - val_accuracy: 0.8072\n",
            "Epoch 116/200\n",
            "18/18 [==============================] - 0s 7ms/step - loss: 0.5260 - accuracy: 0.8139 - val_loss: 0.5619 - val_accuracy: 0.8171\n",
            "Epoch 117/200\n",
            "18/18 [==============================] - 0s 9ms/step - loss: 0.5244 - accuracy: 0.8177 - val_loss: 0.5670 - val_accuracy: 0.8089\n",
            "Epoch 118/200\n",
            "18/18 [==============================] - 0s 12ms/step - loss: 0.5223 - accuracy: 0.8195 - val_loss: 0.5593 - val_accuracy: 0.8155\n",
            "Epoch 119/200\n",
            "18/18 [==============================] - 0s 9ms/step - loss: 0.5219 - accuracy: 0.8195 - val_loss: 0.5568 - val_accuracy: 0.8254\n",
            "Epoch 120/200\n",
            "18/18 [==============================] - 0s 9ms/step - loss: 0.5194 - accuracy: 0.8192 - val_loss: 0.5570 - val_accuracy: 0.8171\n",
            "Epoch 121/200\n",
            "18/18 [==============================] - 0s 8ms/step - loss: 0.5187 - accuracy: 0.8171 - val_loss: 0.5537 - val_accuracy: 0.8237\n",
            "Epoch 122/200\n",
            "18/18 [==============================] - 0s 8ms/step - loss: 0.5171 - accuracy: 0.8197 - val_loss: 0.5559 - val_accuracy: 0.8155\n",
            "Epoch 123/200\n",
            "18/18 [==============================] - 0s 10ms/step - loss: 0.5165 - accuracy: 0.8189 - val_loss: 0.5535 - val_accuracy: 0.8188\n",
            "Epoch 124/200\n",
            "18/18 [==============================] - 0s 12ms/step - loss: 0.5144 - accuracy: 0.8203 - val_loss: 0.5575 - val_accuracy: 0.8138\n",
            "Epoch 125/200\n",
            "18/18 [==============================] - 0s 18ms/step - loss: 0.5124 - accuracy: 0.8215 - val_loss: 0.5521 - val_accuracy: 0.8188\n",
            "Epoch 126/200\n",
            "18/18 [==============================] - 0s 15ms/step - loss: 0.5132 - accuracy: 0.8253 - val_loss: 0.5495 - val_accuracy: 0.8155\n",
            "Epoch 127/200\n",
            "18/18 [==============================] - 0s 11ms/step - loss: 0.5086 - accuracy: 0.8244 - val_loss: 0.5481 - val_accuracy: 0.8171\n",
            "Epoch 128/200\n",
            "18/18 [==============================] - 0s 10ms/step - loss: 0.5089 - accuracy: 0.8256 - val_loss: 0.5436 - val_accuracy: 0.8287\n",
            "Epoch 129/200\n",
            "18/18 [==============================] - 0s 16ms/step - loss: 0.5058 - accuracy: 0.8279 - val_loss: 0.5446 - val_accuracy: 0.8287\n",
            "Epoch 130/200\n",
            "18/18 [==============================] - 0s 10ms/step - loss: 0.5033 - accuracy: 0.8262 - val_loss: 0.5425 - val_accuracy: 0.8237\n",
            "Epoch 131/200\n",
            "18/18 [==============================] - 0s 8ms/step - loss: 0.5033 - accuracy: 0.8259 - val_loss: 0.5397 - val_accuracy: 0.8254\n",
            "Epoch 132/200\n",
            "18/18 [==============================] - 0s 7ms/step - loss: 0.4992 - accuracy: 0.8279 - val_loss: 0.5369 - val_accuracy: 0.8237\n",
            "Epoch 133/200\n",
            "18/18 [==============================] - 0s 14ms/step - loss: 0.4994 - accuracy: 0.8288 - val_loss: 0.5338 - val_accuracy: 0.8237\n",
            "Epoch 134/200\n",
            "18/18 [==============================] - 0s 8ms/step - loss: 0.4954 - accuracy: 0.8346 - val_loss: 0.5336 - val_accuracy: 0.8303\n",
            "Epoch 135/200\n",
            "18/18 [==============================] - 0s 11ms/step - loss: 0.4950 - accuracy: 0.8331 - val_loss: 0.5290 - val_accuracy: 0.8287\n",
            "Epoch 136/200\n",
            "18/18 [==============================] - 0s 14ms/step - loss: 0.4929 - accuracy: 0.8378 - val_loss: 0.5276 - val_accuracy: 0.8270\n",
            "Epoch 137/200\n",
            "18/18 [==============================] - 0s 16ms/step - loss: 0.4883 - accuracy: 0.8343 - val_loss: 0.5282 - val_accuracy: 0.8204\n",
            "Epoch 138/200\n",
            "18/18 [==============================] - 0s 25ms/step - loss: 0.4861 - accuracy: 0.8366 - val_loss: 0.5229 - val_accuracy: 0.8320\n",
            "Epoch 139/200\n",
            "18/18 [==============================] - 0s 28ms/step - loss: 0.4837 - accuracy: 0.8395 - val_loss: 0.5225 - val_accuracy: 0.8303\n",
            "Epoch 140/200\n",
            "18/18 [==============================] - 0s 23ms/step - loss: 0.4824 - accuracy: 0.8413 - val_loss: 0.5193 - val_accuracy: 0.8369\n",
            "Epoch 141/200\n",
            "18/18 [==============================] - 0s 18ms/step - loss: 0.4790 - accuracy: 0.8416 - val_loss: 0.5170 - val_accuracy: 0.8336\n",
            "Epoch 142/200\n",
            "18/18 [==============================] - 0s 18ms/step - loss: 0.4775 - accuracy: 0.8477 - val_loss: 0.5147 - val_accuracy: 0.8402\n",
            "Epoch 143/200\n",
            "18/18 [==============================] - 0s 18ms/step - loss: 0.4754 - accuracy: 0.8477 - val_loss: 0.5152 - val_accuracy: 0.8402\n",
            "Epoch 144/200\n",
            "18/18 [==============================] - 0s 19ms/step - loss: 0.4738 - accuracy: 0.8457 - val_loss: 0.5131 - val_accuracy: 0.8369\n",
            "Epoch 145/200\n",
            "18/18 [==============================] - 0s 15ms/step - loss: 0.4715 - accuracy: 0.8494 - val_loss: 0.5115 - val_accuracy: 0.8369\n",
            "Epoch 146/200\n",
            "18/18 [==============================] - 0s 12ms/step - loss: 0.4665 - accuracy: 0.8532 - val_loss: 0.5056 - val_accuracy: 0.8435\n",
            "Epoch 147/200\n",
            "18/18 [==============================] - 0s 20ms/step - loss: 0.4659 - accuracy: 0.8550 - val_loss: 0.5040 - val_accuracy: 0.8468\n",
            "Epoch 148/200\n",
            "18/18 [==============================] - 0s 19ms/step - loss: 0.4623 - accuracy: 0.8538 - val_loss: 0.5057 - val_accuracy: 0.8435\n",
            "Epoch 149/200\n",
            "18/18 [==============================] - 0s 26ms/step - loss: 0.4592 - accuracy: 0.8561 - val_loss: 0.5000 - val_accuracy: 0.8468\n",
            "Epoch 150/200\n",
            "18/18 [==============================] - 0s 14ms/step - loss: 0.4581 - accuracy: 0.8593 - val_loss: 0.4952 - val_accuracy: 0.8517\n",
            "Epoch 151/200\n",
            "18/18 [==============================] - 0s 7ms/step - loss: 0.4574 - accuracy: 0.8579 - val_loss: 0.4966 - val_accuracy: 0.8501\n",
            "Epoch 152/200\n",
            "18/18 [==============================] - 0s 9ms/step - loss: 0.4542 - accuracy: 0.8605 - val_loss: 0.4955 - val_accuracy: 0.8501\n",
            "Epoch 153/200\n",
            "18/18 [==============================] - 0s 8ms/step - loss: 0.4511 - accuracy: 0.8605 - val_loss: 0.4909 - val_accuracy: 0.8517\n",
            "Epoch 154/200\n",
            "18/18 [==============================] - 0s 11ms/step - loss: 0.4495 - accuracy: 0.8585 - val_loss: 0.4895 - val_accuracy: 0.8550\n",
            "Epoch 155/200\n",
            "18/18 [==============================] - 0s 12ms/step - loss: 0.4499 - accuracy: 0.8585 - val_loss: 0.4889 - val_accuracy: 0.8567\n",
            "Epoch 156/200\n",
            "18/18 [==============================] - 0s 10ms/step - loss: 0.4459 - accuracy: 0.8626 - val_loss: 0.4866 - val_accuracy: 0.8517\n",
            "Epoch 157/200\n",
            "18/18 [==============================] - 0s 10ms/step - loss: 0.4442 - accuracy: 0.8649 - val_loss: 0.4864 - val_accuracy: 0.8468\n",
            "Epoch 158/200\n",
            "18/18 [==============================] - 0s 12ms/step - loss: 0.4432 - accuracy: 0.8637 - val_loss: 0.4866 - val_accuracy: 0.8600\n",
            "Epoch 159/200\n",
            "18/18 [==============================] - 0s 6ms/step - loss: 0.4405 - accuracy: 0.8666 - val_loss: 0.4838 - val_accuracy: 0.8567\n",
            "Epoch 160/200\n",
            "18/18 [==============================] - 0s 6ms/step - loss: 0.4401 - accuracy: 0.8626 - val_loss: 0.4849 - val_accuracy: 0.8550\n",
            "Epoch 161/200\n",
            "18/18 [==============================] - 0s 5ms/step - loss: 0.4396 - accuracy: 0.8620 - val_loss: 0.4846 - val_accuracy: 0.8567\n",
            "Epoch 162/200\n",
            "18/18 [==============================] - 0s 4ms/step - loss: 0.4373 - accuracy: 0.8640 - val_loss: 0.4816 - val_accuracy: 0.8550\n",
            "Epoch 163/200\n",
            "18/18 [==============================] - 0s 4ms/step - loss: 0.4341 - accuracy: 0.8655 - val_loss: 0.4773 - val_accuracy: 0.8600\n",
            "Epoch 164/200\n",
            "18/18 [==============================] - 0s 4ms/step - loss: 0.4325 - accuracy: 0.8669 - val_loss: 0.4773 - val_accuracy: 0.8567\n",
            "Epoch 165/200\n",
            "18/18 [==============================] - 0s 5ms/step - loss: 0.4327 - accuracy: 0.8690 - val_loss: 0.4784 - val_accuracy: 0.8550\n",
            "Epoch 166/200\n",
            "18/18 [==============================] - 0s 4ms/step - loss: 0.4300 - accuracy: 0.8701 - val_loss: 0.4753 - val_accuracy: 0.8501\n",
            "Epoch 167/200\n",
            "18/18 [==============================] - 0s 5ms/step - loss: 0.4313 - accuracy: 0.8716 - val_loss: 0.4738 - val_accuracy: 0.8550\n",
            "Epoch 168/200\n",
            "18/18 [==============================] - 0s 5ms/step - loss: 0.4282 - accuracy: 0.8666 - val_loss: 0.4741 - val_accuracy: 0.8616\n",
            "Epoch 169/200\n",
            "18/18 [==============================] - 0s 5ms/step - loss: 0.4307 - accuracy: 0.8666 - val_loss: 0.4748 - val_accuracy: 0.8567\n",
            "Epoch 170/200\n",
            "18/18 [==============================] - 0s 4ms/step - loss: 0.4263 - accuracy: 0.8681 - val_loss: 0.4712 - val_accuracy: 0.8649\n",
            "Epoch 171/200\n",
            "18/18 [==============================] - 0s 4ms/step - loss: 0.4245 - accuracy: 0.8710 - val_loss: 0.4720 - val_accuracy: 0.8550\n",
            "Epoch 172/200\n",
            "18/18 [==============================] - 0s 5ms/step - loss: 0.4238 - accuracy: 0.8725 - val_loss: 0.4720 - val_accuracy: 0.8649\n",
            "Epoch 173/200\n",
            "18/18 [==============================] - 0s 4ms/step - loss: 0.4241 - accuracy: 0.8707 - val_loss: 0.4747 - val_accuracy: 0.8583\n",
            "Epoch 174/200\n",
            "18/18 [==============================] - 0s 4ms/step - loss: 0.4226 - accuracy: 0.8716 - val_loss: 0.4706 - val_accuracy: 0.8550\n",
            "Epoch 175/200\n",
            "18/18 [==============================] - 0s 4ms/step - loss: 0.4212 - accuracy: 0.8701 - val_loss: 0.4704 - val_accuracy: 0.8550\n",
            "Epoch 176/200\n",
            "18/18 [==============================] - 0s 5ms/step - loss: 0.4202 - accuracy: 0.8698 - val_loss: 0.4666 - val_accuracy: 0.8600\n",
            "Epoch 177/200\n",
            "18/18 [==============================] - 0s 5ms/step - loss: 0.4197 - accuracy: 0.8727 - val_loss: 0.4685 - val_accuracy: 0.8649\n",
            "Epoch 178/200\n",
            "18/18 [==============================] - 0s 5ms/step - loss: 0.4187 - accuracy: 0.8690 - val_loss: 0.4694 - val_accuracy: 0.8517\n",
            "Epoch 179/200\n",
            "18/18 [==============================] - 0s 5ms/step - loss: 0.4176 - accuracy: 0.8719 - val_loss: 0.4662 - val_accuracy: 0.8616\n",
            "Epoch 180/200\n",
            "18/18 [==============================] - 0s 4ms/step - loss: 0.4205 - accuracy: 0.8658 - val_loss: 0.4720 - val_accuracy: 0.8567\n",
            "Epoch 181/200\n",
            "18/18 [==============================] - 0s 4ms/step - loss: 0.4178 - accuracy: 0.8716 - val_loss: 0.4662 - val_accuracy: 0.8583\n",
            "Epoch 182/200\n",
            "18/18 [==============================] - 0s 5ms/step - loss: 0.4147 - accuracy: 0.8742 - val_loss: 0.4675 - val_accuracy: 0.8649\n",
            "Epoch 183/200\n",
            "18/18 [==============================] - 0s 5ms/step - loss: 0.4154 - accuracy: 0.8695 - val_loss: 0.4643 - val_accuracy: 0.8633\n",
            "Epoch 184/200\n",
            "18/18 [==============================] - 0s 7ms/step - loss: 0.4124 - accuracy: 0.8707 - val_loss: 0.4637 - val_accuracy: 0.8567\n",
            "Epoch 185/200\n",
            "18/18 [==============================] - 0s 7ms/step - loss: 0.4131 - accuracy: 0.8733 - val_loss: 0.4651 - val_accuracy: 0.8567\n",
            "Epoch 186/200\n",
            "18/18 [==============================] - 0s 7ms/step - loss: 0.4125 - accuracy: 0.8722 - val_loss: 0.4647 - val_accuracy: 0.8616\n",
            "Epoch 187/200\n",
            "18/18 [==============================] - 0s 5ms/step - loss: 0.4113 - accuracy: 0.8745 - val_loss: 0.4681 - val_accuracy: 0.8633\n",
            "Epoch 188/200\n",
            "18/18 [==============================] - 0s 5ms/step - loss: 0.4124 - accuracy: 0.8759 - val_loss: 0.4635 - val_accuracy: 0.8616\n",
            "Epoch 189/200\n",
            "18/18 [==============================] - 0s 5ms/step - loss: 0.4153 - accuracy: 0.8730 - val_loss: 0.4614 - val_accuracy: 0.8633\n",
            "Epoch 190/200\n",
            "18/18 [==============================] - 0s 4ms/step - loss: 0.4100 - accuracy: 0.8751 - val_loss: 0.4639 - val_accuracy: 0.8616\n",
            "Epoch 191/200\n",
            "18/18 [==============================] - 0s 5ms/step - loss: 0.4108 - accuracy: 0.8733 - val_loss: 0.4608 - val_accuracy: 0.8550\n",
            "Epoch 192/200\n",
            "18/18 [==============================] - 0s 5ms/step - loss: 0.4084 - accuracy: 0.8754 - val_loss: 0.4624 - val_accuracy: 0.8633\n",
            "Epoch 193/200\n",
            "18/18 [==============================] - 0s 7ms/step - loss: 0.4079 - accuracy: 0.8704 - val_loss: 0.4635 - val_accuracy: 0.8649\n",
            "Epoch 194/200\n",
            "18/18 [==============================] - 0s 5ms/step - loss: 0.4070 - accuracy: 0.8754 - val_loss: 0.4634 - val_accuracy: 0.8567\n",
            "Epoch 195/200\n",
            "18/18 [==============================] - 0s 6ms/step - loss: 0.4067 - accuracy: 0.8742 - val_loss: 0.4594 - val_accuracy: 0.8649\n",
            "Epoch 196/200\n",
            "18/18 [==============================] - 0s 6ms/step - loss: 0.4063 - accuracy: 0.8754 - val_loss: 0.4619 - val_accuracy: 0.8600\n",
            "Epoch 197/200\n",
            "18/18 [==============================] - 0s 5ms/step - loss: 0.4078 - accuracy: 0.8754 - val_loss: 0.4622 - val_accuracy: 0.8616\n",
            "Epoch 198/200\n",
            "18/18 [==============================] - 0s 5ms/step - loss: 0.4063 - accuracy: 0.8751 - val_loss: 0.4581 - val_accuracy: 0.8567\n",
            "Epoch 199/200\n",
            "18/18 [==============================] - 0s 6ms/step - loss: 0.4041 - accuracy: 0.8748 - val_loss: 0.4690 - val_accuracy: 0.8567\n",
            "Epoch 200/200\n",
            "18/18 [==============================] - 0s 7ms/step - loss: 0.4053 - accuracy: 0.8774 - val_loss: 0.4583 - val_accuracy: 0.8567\n"
          ]
        }
      ],
      "source": [
        "training_history4 = model4.fit(x=xs_train, y=ys_train, \n",
        "                               validation_split=0.15, epochs=200, \n",
        "                               batch_size=200, verbose=1,\n",
        "                               shuffle=True)"
      ]
    },
    {
      "cell_type": "code",
      "execution_count": null,
      "metadata": {
        "id": "1cN0w2msFWEA",
        "colab": {
          "base_uri": "https://localhost:8080/",
          "height": 206
        },
        "outputId": "2b07f8ea-7461-4148-8e39-59a2b3b95ff7"
      },
      "outputs": [
        {
          "output_type": "execute_result",
          "data": {
            "text/plain": [
              "         loss  accuracy  val_loss  val_accuracy\n",
              "195  0.406273  0.875364  0.461938      0.859967\n",
              "196  0.407796  0.875364  0.462165      0.861615\n",
              "197  0.406252  0.875073  0.458130      0.856672\n",
              "198  0.404117  0.874782  0.468967      0.856672\n",
              "199  0.405315  0.877402  0.458264      0.856672"
            ],
            "text/html": [
              "\n",
              "  <div id=\"df-84ea9e95-b7dc-421b-afb4-2d6dbda3214a\">\n",
              "    <div class=\"colab-df-container\">\n",
              "      <div>\n",
              "<style scoped>\n",
              "    .dataframe tbody tr th:only-of-type {\n",
              "        vertical-align: middle;\n",
              "    }\n",
              "\n",
              "    .dataframe tbody tr th {\n",
              "        vertical-align: top;\n",
              "    }\n",
              "\n",
              "    .dataframe thead th {\n",
              "        text-align: right;\n",
              "    }\n",
              "</style>\n",
              "<table border=\"1\" class=\"dataframe\">\n",
              "  <thead>\n",
              "    <tr style=\"text-align: right;\">\n",
              "      <th></th>\n",
              "      <th>loss</th>\n",
              "      <th>accuracy</th>\n",
              "      <th>val_loss</th>\n",
              "      <th>val_accuracy</th>\n",
              "    </tr>\n",
              "  </thead>\n",
              "  <tbody>\n",
              "    <tr>\n",
              "      <th>195</th>\n",
              "      <td>0.406273</td>\n",
              "      <td>0.875364</td>\n",
              "      <td>0.461938</td>\n",
              "      <td>0.859967</td>\n",
              "    </tr>\n",
              "    <tr>\n",
              "      <th>196</th>\n",
              "      <td>0.407796</td>\n",
              "      <td>0.875364</td>\n",
              "      <td>0.462165</td>\n",
              "      <td>0.861615</td>\n",
              "    </tr>\n",
              "    <tr>\n",
              "      <th>197</th>\n",
              "      <td>0.406252</td>\n",
              "      <td>0.875073</td>\n",
              "      <td>0.458130</td>\n",
              "      <td>0.856672</td>\n",
              "    </tr>\n",
              "    <tr>\n",
              "      <th>198</th>\n",
              "      <td>0.404117</td>\n",
              "      <td>0.874782</td>\n",
              "      <td>0.468967</td>\n",
              "      <td>0.856672</td>\n",
              "    </tr>\n",
              "    <tr>\n",
              "      <th>199</th>\n",
              "      <td>0.405315</td>\n",
              "      <td>0.877402</td>\n",
              "      <td>0.458264</td>\n",
              "      <td>0.856672</td>\n",
              "    </tr>\n",
              "  </tbody>\n",
              "</table>\n",
              "</div>\n",
              "      <button class=\"colab-df-convert\" onclick=\"convertToInteractive('df-84ea9e95-b7dc-421b-afb4-2d6dbda3214a')\"\n",
              "              title=\"Convert this dataframe to an interactive table.\"\n",
              "              style=\"display:none;\">\n",
              "        \n",
              "  <svg xmlns=\"http://www.w3.org/2000/svg\" height=\"24px\"viewBox=\"0 0 24 24\"\n",
              "       width=\"24px\">\n",
              "    <path d=\"M0 0h24v24H0V0z\" fill=\"none\"/>\n",
              "    <path d=\"M18.56 5.44l.94 2.06.94-2.06 2.06-.94-2.06-.94-.94-2.06-.94 2.06-2.06.94zm-11 1L8.5 8.5l.94-2.06 2.06-.94-2.06-.94L8.5 2.5l-.94 2.06-2.06.94zm10 10l.94 2.06.94-2.06 2.06-.94-2.06-.94-.94-2.06-.94 2.06-2.06.94z\"/><path d=\"M17.41 7.96l-1.37-1.37c-.4-.4-.92-.59-1.43-.59-.52 0-1.04.2-1.43.59L10.3 9.45l-7.72 7.72c-.78.78-.78 2.05 0 2.83L4 21.41c.39.39.9.59 1.41.59.51 0 1.02-.2 1.41-.59l7.78-7.78 2.81-2.81c.8-.78.8-2.07 0-2.86zM5.41 20L4 18.59l7.72-7.72 1.47 1.35L5.41 20z\"/>\n",
              "  </svg>\n",
              "      </button>\n",
              "      \n",
              "  <style>\n",
              "    .colab-df-container {\n",
              "      display:flex;\n",
              "      flex-wrap:wrap;\n",
              "      gap: 12px;\n",
              "    }\n",
              "\n",
              "    .colab-df-convert {\n",
              "      background-color: #E8F0FE;\n",
              "      border: none;\n",
              "      border-radius: 50%;\n",
              "      cursor: pointer;\n",
              "      display: none;\n",
              "      fill: #1967D2;\n",
              "      height: 32px;\n",
              "      padding: 0 0 0 0;\n",
              "      width: 32px;\n",
              "    }\n",
              "\n",
              "    .colab-df-convert:hover {\n",
              "      background-color: #E2EBFA;\n",
              "      box-shadow: 0px 1px 2px rgba(60, 64, 67, 0.3), 0px 1px 3px 1px rgba(60, 64, 67, 0.15);\n",
              "      fill: #174EA6;\n",
              "    }\n",
              "\n",
              "    [theme=dark] .colab-df-convert {\n",
              "      background-color: #3B4455;\n",
              "      fill: #D2E3FC;\n",
              "    }\n",
              "\n",
              "    [theme=dark] .colab-df-convert:hover {\n",
              "      background-color: #434B5C;\n",
              "      box-shadow: 0px 1px 3px 1px rgba(0, 0, 0, 0.15);\n",
              "      filter: drop-shadow(0px 1px 2px rgba(0, 0, 0, 0.3));\n",
              "      fill: #FFFFFF;\n",
              "    }\n",
              "  </style>\n",
              "\n",
              "      <script>\n",
              "        const buttonEl =\n",
              "          document.querySelector('#df-84ea9e95-b7dc-421b-afb4-2d6dbda3214a button.colab-df-convert');\n",
              "        buttonEl.style.display =\n",
              "          google.colab.kernel.accessAllowed ? 'block' : 'none';\n",
              "\n",
              "        async function convertToInteractive(key) {\n",
              "          const element = document.querySelector('#df-84ea9e95-b7dc-421b-afb4-2d6dbda3214a');\n",
              "          const dataTable =\n",
              "            await google.colab.kernel.invokeFunction('convertToInteractive',\n",
              "                                                     [key], {});\n",
              "          if (!dataTable) return;\n",
              "\n",
              "          const docLinkHtml = 'Like what you see? Visit the ' +\n",
              "            '<a target=\"_blank\" href=https://colab.research.google.com/notebooks/data_table.ipynb>data table notebook</a>'\n",
              "            + ' to learn more about interactive tables.';\n",
              "          element.innerHTML = '';\n",
              "          dataTable['output_type'] = 'display_data';\n",
              "          await google.colab.output.renderOutput(dataTable, element);\n",
              "          const docLink = document.createElement('div');\n",
              "          docLink.innerHTML = docLinkHtml;\n",
              "          element.appendChild(docLink);\n",
              "        }\n",
              "      </script>\n",
              "    </div>\n",
              "  </div>\n",
              "  "
            ]
          },
          "metadata": {},
          "execution_count": 17
        }
      ],
      "source": [
        "hist4 = pd.DataFrame(training_history4.history)\n",
        "hist4.tail()"
      ]
    },
    {
      "cell_type": "code",
      "source": [
        "# Accuracy on training sets\n",
        "accuracy_m4_train = model4.evaluate(xs_train, ys_train) # loss: 0.4072 - accuracy: 0.8765\n",
        "\n",
        "print('Accuracy on train set', accuracy_m4_train)"
      ],
      "metadata": {
        "colab": {
          "base_uri": "https://localhost:8080/"
        },
        "id": "K1Re7UMW9NDK",
        "outputId": "6ef9f955-ff16-426d-afb9-1b2e9babb372"
      },
      "execution_count": null,
      "outputs": [
        {
          "output_type": "stream",
          "name": "stdout",
          "text": [
            "127/127 [==============================] - 0s 1ms/step - loss: 0.4121 - accuracy: 0.8728\n",
            "Accuracy on train set [0.4120873808860779, 0.8728037476539612]\n"
          ]
        }
      ]
    },
    {
      "cell_type": "code",
      "execution_count": null,
      "metadata": {
        "id": "yYQfTF65GgGE",
        "colab": {
          "base_uri": "https://localhost:8080/",
          "height": 295
        },
        "outputId": "05de091f-e346-4c2b-ebe1-6737f4e978f0"
      },
      "outputs": [
        {
          "output_type": "display_data",
          "data": {
            "text/plain": [
              "<Figure size 432x288 with 1 Axes>"
            ],
            "image/png": "[encoded data removed]"
          },
          "metadata": {
            "needs_background": "light"
          }
        }
      ],
      "source": [
        "plt.plot(hist4['accuracy'])\n",
        "plt.plot(hist4['val_accuracy'])\n",
        "plt.title('model accuracy')\n",
        "plt.ylabel('accuracy')\n",
        "plt.xlabel('epoch')\n",
        "plt.legend(['train', 'val'], loc='upper left')\n",
        "plt.show()"
      ]
    },
    {
      "cell_type": "code",
      "execution_count": null,
      "metadata": {
        "id": "tXUoJ2c3Ezu4",
        "colab": {
          "base_uri": "https://localhost:8080/"
        },
        "outputId": "d1385547-c064-4928-93dc-e8136f1a3ca4"
      },
      "outputs": [
        {
          "output_type": "stream",
          "name": "stdout",
          "text": [
            "32/32 [==============================] - 0s 2ms/step - loss: 0.4607 - accuracy: 0.8526\n"
          ]
        }
      ],
      "source": [
        "model4_test_predict = model4.evaluate(xs_test, ys_test) # loss: 0.4553 - accuracy: 0.8566"
      ]
    },
    {
      "cell_type": "markdown",
      "metadata": {
        "id": "sSILVr4-m71s"
      },
      "source": [
        "#### Model 5\n"
      ]
    },
    {
      "cell_type": "markdown",
      "metadata": {
        "id": "D5kPvZpCm71t"
      },
      "source": [
        "Define and compile the model"
      ]
    },
    {
      "cell_type": "code",
      "execution_count": null,
      "metadata": {
        "id": "O7Wz5cXgL_I8"
      },
      "outputs": [],
      "source": [
        "def create_model(activation='relu'):\n",
        "  # create model\n",
        "  model5 = keras.Sequential([\n",
        "    layers.Dense(3, kernel_regularizer=regularizers.l2(0.001), activation='relu', input_shape=(3,)),\n",
        "    layers.Dense(24, kernel_regularizer=regularizers.l2(0.001), activation='relu'),\n",
        "    layers.Dense(24, kernel_regularizer=regularizers.l2(0.001), activation='relu'),\n",
        "    layers.Dense(16, kernel_regularizer=regularizers.l2(0.001), activation='Softmax'),\n",
        "    layers.Dense(11)\n",
        "  ])\n",
        "  # Compile model\n",
        "  model5.compile(loss=tf.keras.losses.CategoricalCrossentropy(from_logits=True), \n",
        "                 optimizer=keras.optimizers.Adam(learning_rate=0.001), metrics=['accuracy'])\n",
        "  return model5"
      ]
    },
    {
      "cell_type": "code",
      "execution_count": null,
      "metadata": {
        "id": "bag09UEtmwXf",
        "colab": {
          "base_uri": "https://localhost:8080/",
          "height": 173
        },
        "outputId": "58626d62-767c-4777-a803-2ce93de8eb33"
      },
      "outputs": [
        {
          "output_type": "stream",
          "name": "stderr",
          "text": [
            "/usr/local/lib/python3.9/dist-packages/joblib/externals/loky/process_executor.py:702: UserWarning: A worker stopped while some jobs were given to the executor. This can be caused by a too short worker timeout or by a memory leak.\n",
            "  warnings.warn(\n"
          ]
        },
        {
          "output_type": "execute_result",
          "data": {
            "text/plain": [
              "GridSearchCV(cv=5,\n",
              "             estimator=KerasClassifier(batch_size=200, epochs=150, model=<function create_model at 0x7f6f02a5ab80>, verbose=0),\n",
              "             n_jobs=-1,\n",
              "             param_grid={'model__activation': ['softmax', 'relu'],\n",
              "                         'optimizer__learning_rate': [0.001, 0.01, 0.1, 0.2,\n",
              "                                                      0.3],\n",
              "                         'optimizer__momentum': [0.0, 0.2, 0.4, 0.6, 0.8, 0.9]})"
            ],
            "text/html": [
              "<style>#sk-container-id-1 {color: black;background-color: white;}#sk-container-id-1 pre{padding: 0;}#sk-container-id-1 div.sk-toggleable {background-color: white;}#sk-container-id-1 label.sk-toggleable__label {cursor: pointer;display: block;width: 100%;margin-bottom: 0;padding: 0.3em;box-sizing: border-box;text-align: center;}#sk-container-id-1 label.sk-toggleable__label-arrow:before {content: \"▸\";float: left;margin-right: 0.25em;color: #696969;}#sk-container-id-1 label.sk-toggleable__label-arrow:hover:before {color: black;}#sk-container-id-1 div.sk-estimator:hover label.sk-toggleable__label-arrow:before {color: black;}#sk-container-id-1 div.sk-toggleable__content {max-height: 0;max-width: 0;overflow: hidden;text-align: left;background-color: #f0f8ff;}#sk-container-id-1 div.sk-toggleable__content pre {margin: 0.2em;color: black;border-radius: 0.25em;background-color: #f0f8ff;}#sk-container-id-1 input.sk-toggleable__control:checked~div.sk-toggleable__content {max-height: 200px;max-width: 100%;overflow: auto;}#sk-container-id-1 input.sk-toggleable__control:checked~label.sk-toggleable__label-arrow:before {content: \"▾\";}#sk-container-id-1 div.sk-estimator input.sk-toggleable__control:checked~label.sk-toggleable__label {background-color: #d4ebff;}#sk-container-id-1 div.sk-label input.sk-toggleable__control:checked~label.sk-toggleable__label {background-color: #d4ebff;}#sk-container-id-1 input.sk-hidden--visually {border: 0;clip: rect(1px 1px 1px 1px);clip: rect(1px, 1px, 1px, 1px);height: 1px;margin: -1px;overflow: hidden;padding: 0;position: absolute;width: 1px;}#sk-container-id-1 div.sk-estimator {font-family: monospace;background-color: #f0f8ff;border: 1px dotted black;border-radius: 0.25em;box-sizing: border-box;margin-bottom: 0.5em;}#sk-container-id-1 div.sk-estimator:hover {background-color: #d4ebff;}#sk-container-id-1 div.sk-parallel-item::after {content: \"\";width: 100%;border-bottom: 1px solid gray;flex-grow: 1;}#sk-container-id-1 div.sk-label:hover label.sk-toggleable__label {background-color: #d4ebff;}#sk-container-id-1 div.sk-serial::before {content: \"\";position: absolute;border-left: 1px solid gray;box-sizing: border-box;top: 0;bottom: 0;left: 50%;z-index: 0;}#sk-container-id-1 div.sk-serial {display: flex;flex-direction: column;align-items: center;background-color: white;padding-right: 0.2em;padding-left: 0.2em;position: relative;}#sk-container-id-1 div.sk-item {position: relative;z-index: 1;}#sk-container-id-1 div.sk-parallel {display: flex;align-items: stretch;justify-content: center;background-color: white;position: relative;}#sk-container-id-1 div.sk-item::before, #sk-container-id-1 div.sk-parallel-item::before {content: \"\";position: absolute;border-left: 1px solid gray;box-sizing: border-box;top: 0;bottom: 0;left: 50%;z-index: -1;}#sk-container-id-1 div.sk-parallel-item {display: flex;flex-direction: column;z-index: 1;position: relative;background-color: white;}#sk-container-id-1 div.sk-parallel-item:first-child::after {align-self: flex-end;width: 50%;}#sk-container-id-1 div.sk-parallel-item:last-child::after {align-self: flex-start;width: 50%;}#sk-container-id-1 div.sk-parallel-item:only-child::after {width: 0;}#sk-container-id-1 div.sk-dashed-wrapped {border: 1px dashed gray;margin: 0 0.4em 0.5em 0.4em;box-sizing: border-box;padding-bottom: 0.4em;background-color: white;}#sk-container-id-1 div.sk-label label {font-family: monospace;font-weight: bold;display: inline-block;line-height: 1.2em;}#sk-container-id-1 div.sk-label-container {text-align: center;}#sk-container-id-1 div.sk-container {/* jupyter's `normalize.less` sets `[hidden] { display: none; }` but bootstrap.min.css set `[hidden] { display: none !important; }` so we also need the `!important` here to be able to override the default hidden behavior on the sphinx rendered scikit-learn.org. See: https://github.com/scikit-learn/scikit-learn/issues/21755 */display: inline-block !important;position: relative;}#sk-container-id-1 div.sk-text-repr-fallback {display: none;}</style><div id=\"sk-container-id-1\" class=\"sk-top-container\"><div class=\"sk-text-repr-fallback\"><pre>GridSearchCV(cv=5,\n",
              "             estimator=KerasClassifier(batch_size=200, epochs=150, model=&lt;function create_model at 0x7f6f02a5ab80&gt;, verbose=0),\n",
              "             n_jobs=-1,\n",
              "             param_grid={&#x27;model__activation&#x27;: [&#x27;softmax&#x27;, &#x27;relu&#x27;],\n",
              "                         &#x27;optimizer__learning_rate&#x27;: [0.001, 0.01, 0.1, 0.2,\n",
              "                                                      0.3],\n",
              "                         &#x27;optimizer__momentum&#x27;: [0.0, 0.2, 0.4, 0.6, 0.8, 0.9]})</pre><b>In a Jupyter environment, please rerun this cell to show the HTML representation or trust the notebook. <br />On GitHub, the HTML representation is unable to render, please try loading this page with nbviewer.org.</b></div><div class=\"sk-container\" hidden><div class=\"sk-item sk-dashed-wrapped\"><div class=\"sk-label-container\"><div class=\"sk-label sk-toggleable\"><input class=\"sk-toggleable__control sk-hidden--visually\" id=\"sk-estimator-id-1\" type=\"checkbox\" ><label for=\"sk-estimator-id-1\" class=\"sk-toggleable__label sk-toggleable__label-arrow\">GridSearchCV</label><div class=\"sk-toggleable__content\"><pre>GridSearchCV(cv=5,\n",
              "             estimator=KerasClassifier(batch_size=200, epochs=150, model=&lt;function create_model at 0x7f6f02a5ab80&gt;, verbose=0),\n",
              "             n_jobs=-1,\n",
              "             param_grid={&#x27;model__activation&#x27;: [&#x27;softmax&#x27;, &#x27;relu&#x27;],\n",
              "                         &#x27;optimizer__learning_rate&#x27;: [0.001, 0.01, 0.1, 0.2,\n",
              "                                                      0.3],\n",
              "                         &#x27;optimizer__momentum&#x27;: [0.0, 0.2, 0.4, 0.6, 0.8, 0.9]})</pre></div></div></div><div class=\"sk-parallel\"><div class=\"sk-parallel-item\"><div class=\"sk-item\"><div class=\"sk-label-container\"><div class=\"sk-label sk-toggleable\"><input class=\"sk-toggleable__control sk-hidden--visually\" id=\"sk-estimator-id-2\" type=\"checkbox\" ><label for=\"sk-estimator-id-2\" class=\"sk-toggleable__label sk-toggleable__label-arrow\">estimator: KerasClassifier</label><div class=\"sk-toggleable__content\"><pre>KerasClassifier(\n",
              "\tmodel=&lt;function create_model at 0x7f6f02a5ab80&gt;\n",
              "\tbuild_fn=None\n",
              "\twarm_start=False\n",
              "\trandom_state=None\n",
              "\toptimizer=rmsprop\n",
              "\tloss=None\n",
              "\tmetrics=None\n",
              "\tbatch_size=200\n",
              "\tvalidation_batch_size=None\n",
              "\tverbose=0\n",
              "\tcallbacks=None\n",
              "\tvalidation_split=0.0\n",
              "\tshuffle=True\n",
              "\trun_eagerly=False\n",
              "\tepochs=150\n",
              "\tclass_weight=None\n",
              ")</pre></div></div></div><div class=\"sk-serial\"><div class=\"sk-item\"><div class=\"sk-estimator sk-toggleable\"><input class=\"sk-toggleable__control sk-hidden--visually\" id=\"sk-estimator-id-3\" type=\"checkbox\" ><label for=\"sk-estimator-id-3\" class=\"sk-toggleable__label sk-toggleable__label-arrow\">KerasClassifier</label><div class=\"sk-toggleable__content\"><pre>KerasClassifier(\n",
              "\tmodel=&lt;function create_model at 0x7f6f02a5ab80&gt;\n",
              "\tbuild_fn=None\n",
              "\twarm_start=False\n",
              "\trandom_state=None\n",
              "\toptimizer=rmsprop\n",
              "\tloss=None\n",
              "\tmetrics=None\n",
              "\tbatch_size=200\n",
              "\tvalidation_batch_size=None\n",
              "\tverbose=0\n",
              "\tcallbacks=None\n",
              "\tvalidation_split=0.0\n",
              "\tshuffle=True\n",
              "\trun_eagerly=False\n",
              "\tepochs=150\n",
              "\tclass_weight=None\n",
              ")</pre></div></div></div></div></div></div></div></div></div></div>"
            ]
          },
          "metadata": {},
          "execution_count": 96
        }
      ],
      "source": [
        "\n",
        "\n",
        "# define the grid search parameters\n",
        "learn_rate = [0.001, 0.01, 0.1, 0.2, 0.3]\n",
        "momentum = [0.0, 0.2, 0.4, 0.6, 0.8, 0.9]\n",
        "activation_fct = ['softmax', 'relu']\n",
        "#activation_fct = ['tanh', 'hard_sigmoid', 'linear', 'sigmoid']\n",
        "param_grid = dict(optimizer__learning_rate=learn_rate, optimizer__momentum=momentum, model__activation=activation_fct)\n",
        "\n",
        "# other parameters\n",
        "loss_function = tf.keras.losses.CategoricalCrossentropy(from_logits=True)\n",
        "optimizer = keras.optimizers.Adam(learning_rate=0.001)\n",
        "\n",
        "# model 5\n",
        "# create model\n",
        "model5 = KerasClassifier(model=create_model, epochs=150, batch_size=200, verbose=0)\n",
        "\n",
        "grid_result5 = GridSearchCV(estimator=model5, param_grid=param_grid, n_jobs=-1, cv=5)\n",
        "\n",
        "grid_result5.fit(xs_train, ys_train)\n"
      ]
    },
    {
      "cell_type": "code",
      "execution_count": null,
      "metadata": {
        "id": "zURRpodLLcrO"
      },
      "outputs": [],
      "source": [
        "# print best parameter after tuning\n",
        "print(grid_result5.best_params_)\n",
        "best_param5 = grid_result5.best_params_\n",
        "  \n",
        "# print how our model looks after hyper-parameter tuning\n",
        "print(grid_result5.best_estimator_)"
      ]
    },
    {
      "cell_type": "code",
      "execution_count": null,
      "metadata": {
        "id": "_vJD8c35Lcmh"
      },
      "outputs": [],
      "source": [
        "# Accuracy\n",
        "accuracy_model5_train = grid_result5.score(xs_train, ys_train)\n",
        "model5_test_predict = grid_result5.score(xs_test, ys_test)\n",
        "\n",
        "print('Accuracy of model (train)', accuracy_model5_train)\n",
        "print('Accuracy of model (test)', model5_test_predict) "
      ]
    },
    {
      "cell_type": "markdown",
      "metadata": {
        "id": "VtOxFMgsHp5a"
      },
      "source": [
        "#### Model 6"
      ]
    },
    {
      "cell_type": "markdown",
      "metadata": {
        "id": "x3iZxoWBHpGm"
      },
      "source": [
        "Based on the model 3 parameters, this section will be used to adjust the learning rate"
      ]
    },
    {
      "cell_type": "code",
      "execution_count": null,
      "metadata": {
        "id": "IxX6f9DDHoup",
        "colab": {
          "base_uri": "https://localhost:8080/"
        },
        "outputId": "744ef246-b0fd-4f6e-f57b-dc565d0eeaef"
      },
      "outputs": [
        {
          "output_type": "stream",
          "name": "stdout",
          "text": [
            "Model: \"sequential_5\"\n",
            "_________________________________________________________________\n",
            " Layer (type)                Output Shape              Param #   \n",
            "=================================================================\n",
            " dense_22 (Dense)            (None, 3)                 12        \n",
            "                                                                 \n",
            " dense_23 (Dense)            (None, 24)                96        \n",
            "                                                                 \n",
            " dense_24 (Dense)            (None, 24)                600       \n",
            "                                                                 \n",
            " dense_25 (Dense)            (None, 16)                400       \n",
            "                                                                 \n",
            " dense_26 (Dense)            (None, 11)                187       \n",
            "                                                                 \n",
            "=================================================================\n",
            "Total params: 1,295\n",
            "Trainable params: 1,295\n",
            "Non-trainable params: 0\n",
            "_________________________________________________________________\n"
          ]
        }
      ],
      "source": [
        "# Parameters model 6\n",
        "activation_fct = 'relu'\n",
        "loss_function = tf.keras.losses.CategoricalCrossentropy(from_logits=True)\n",
        "optimizer = keras.optimizers.Adam(learning_rate=0.0005)\n",
        "\n",
        "# model 6\n",
        "model6 = keras.Sequential([\n",
        "    layers.Dense(3, kernel_regularizer=regularizers.l2(0.001), activation=activation_fct, input_shape=(3,)),\n",
        "    layers.Dense(24, kernel_regularizer=regularizers.l2(0.001), activation=activation_fct),\n",
        "    layers.Dense(24, kernel_regularizer=regularizers.l2(0.001), activation=activation_fct),\n",
        "    layers.Dense(16, kernel_regularizer=regularizers.l2(0.001), activation=activation_fct),\n",
        "    layers.Dense(11)\n",
        "  ])\n",
        "model6.summary()\n",
        "\n",
        "# compile the model 6\n",
        "model6.compile(optimizer=optimizer, loss=loss_function, metrics=['accuracy'])\n",
        "\n"
      ]
    },
    {
      "cell_type": "code",
      "execution_count": null,
      "metadata": {
        "id": "N4L8V53nSVUA"
      },
      "outputs": [],
      "source": [
        "# Fit on training set\n",
        "training_history6 = model6.fit(x=xs_train, y=ys_train, \n",
        "                               validation_split=0.15, epochs=275, \n",
        "                               batch_size=300, verbose=0,\n",
        "                               shuffle=True)\n"
      ]
    },
    {
      "cell_type": "code",
      "source": [
        "# Accuracy on training sets\n",
        "accuracy_m6_train = model6.evaluate(xs_train, ys_train) # loss: 0.5171 - accuracy: 0.8288\n",
        "\n",
        "print('Accuracy on train set', accuracy_m6_train)"
      ],
      "metadata": {
        "colab": {
          "base_uri": "https://localhost:8080/"
        },
        "id": "RjC5RbT49aQP",
        "outputId": "4c5b246e-f23b-44ff-82c8-efe0d4f2d2e9"
      },
      "execution_count": null,
      "outputs": [
        {
          "output_type": "stream",
          "name": "stdout",
          "text": [
            "127/127 [==============================] - 0s 2ms/step - loss: 0.5171 - accuracy: 0.8288\n",
            "Accuracy on train set [0.5170865058898926, 0.828755259513855]\n"
          ]
        }
      ]
    },
    {
      "cell_type": "code",
      "source": [
        "# Accuracy\n",
        "plt.plot(training_history6.history['accuracy'], label='Train')\n",
        "plt.plot(training_history6.history['val_accuracy'], label='Validation')\n",
        "plt.ylabel('Accuracy')\n",
        "plt.xlabel('Epoch')\n",
        "plt.title('Accuracy', pad=13)\n",
        "plt.legend(loc='upper right')"
      ],
      "metadata": {
        "id": "8s_dWFDrMz7K",
        "colab": {
          "base_uri": "https://localhost:8080/",
          "height": 320
        },
        "outputId": "09ff5eca-c0c0-443d-8328-3b13f544141e"
      },
      "execution_count": null,
      "outputs": [
        {
          "output_type": "execute_result",
          "data": {
            "text/plain": [
              "<matplotlib.legend.Legend at 0x7f6f00b0b820>"
            ]
          },
          "metadata": {},
          "execution_count": 52
        },
        {
          "output_type": "display_data",
          "data": {
            "text/plain": [
              "<Figure size 432x288 with 1 Axes>"
            ],
            "image/png": "[encoded data removed]"
          },
          "metadata": {
            "needs_background": "light"
          }
        }
      ]
    },
    {
      "cell_type": "code",
      "execution_count": null,
      "metadata": {
        "id": "q0v-ashEINwd",
        "colab": {
          "base_uri": "https://localhost:8080/",
          "height": 320
        },
        "outputId": "07b526f8-b77f-401d-8311-1bd3b1911476"
      },
      "outputs": [
        {
          "output_type": "execute_result",
          "data": {
            "text/plain": [
              "<matplotlib.legend.Legend at 0x7f6f00b65400>"
            ]
          },
          "metadata": {},
          "execution_count": 53
        },
        {
          "output_type": "display_data",
          "data": {
            "text/plain": [
              "<Figure size 432x288 with 1 Axes>"
            ],
            "image/png": "[encoded data removed]"
          },
          "metadata": {
            "needs_background": "light"
          }
        }
      ],
      "source": [
        "plt.plot(training_history6.history['loss'], label='Train')\n",
        "plt.plot(training_history6.history['val_loss'], label='Validation')\n",
        "plt.ylabel('Binary Cross Entropy Loss')\n",
        "plt.xlabel('Epoch')\n",
        "plt.title('Autoencoder Reconstruction Loss', pad=13)\n",
        "plt.legend(loc='upper right')"
      ]
    },
    {
      "cell_type": "code",
      "execution_count": null,
      "metadata": {
        "id": "fm6-sMYiIfWx",
        "colab": {
          "base_uri": "https://localhost:8080/"
        },
        "outputId": "feefc50c-3b69-4c79-ac39-df34f3ddef60"
      },
      "outputs": [
        {
          "output_type": "stream",
          "name": "stdout",
          "text": [
            "32/32 [==============================] - 0s 2ms/step - loss: 0.5570 - accuracy: 0.8121\n"
          ]
        }
      ],
      "source": [
        "model6_test_predict = model6.evaluate(xs_test, ys_test) # loss: 0.5570 - accuracy: 0.8121"
      ]
    },
    {
      "cell_type": "markdown",
      "metadata": {
        "id": "6TnTxmUCWEyp"
      },
      "source": [
        "#### Model 7"
      ]
    },
    {
      "cell_type": "code",
      "execution_count": null,
      "metadata": {
        "id": "UNC9OJs1Ws7q",
        "colab": {
          "base_uri": "https://localhost:8080/"
        },
        "outputId": "4794253f-b42d-49c0-c8ce-9c7b8e2e2b27"
      },
      "outputs": [
        {
          "output_type": "stream",
          "name": "stdout",
          "text": [
            "Model: \"sequential_6\"\n",
            "_________________________________________________________________\n",
            " Layer (type)                Output Shape              Param #   \n",
            "=================================================================\n",
            " dense_27 (Dense)            (None, 3)                 12        \n",
            "                                                                 \n",
            " dense_28 (Dense)            (None, 24)                96        \n",
            "                                                                 \n",
            " dense_29 (Dense)            (None, 24)                600       \n",
            "                                                                 \n",
            " dense_30 (Dense)            (None, 16)                400       \n",
            "                                                                 \n",
            " dense_31 (Dense)            (None, 11)                187       \n",
            "                                                                 \n",
            "=================================================================\n",
            "Total params: 1,295\n",
            "Trainable params: 1,295\n",
            "Non-trainable params: 0\n",
            "_________________________________________________________________\n"
          ]
        }
      ],
      "source": [
        "# Parameters model 7\n",
        "activation_fct = 'relu'\n",
        "loss_function = tf.keras.losses.CategoricalCrossentropy(from_logits=True)\n",
        "optimizer = keras.optimizers.Adam(learning_rate=0.0005)\n",
        "\n",
        "# model 7\n",
        "model7 = keras.Sequential([\n",
        "    layers.Dense(3, kernel_regularizer=regularizers.l2(0.001), activation=activation_fct, input_shape=(3,)),\n",
        "    layers.Dense(24, kernel_regularizer=regularizers.l2(0.001), activation=activation_fct),\n",
        "    layers.Dense(24, kernel_regularizer=regularizers.l2(0.001), activation=activation_fct),\n",
        "    layers.Dense(16, kernel_regularizer=regularizers.l2(0.001), activation=activation_fct),\n",
        "    layers.Dense(11)\n",
        "  ])\n",
        "model7.summary()\n",
        "\n",
        "# compile the model 6\n",
        "model7.compile(optimizer=optimizer, loss=loss_function, metrics=['accuracy'])\n"
      ]
    },
    {
      "cell_type": "code",
      "execution_count": null,
      "metadata": {
        "id": "XwTaxHmpXkTI"
      },
      "outputs": [],
      "source": [
        "# Fit on training set\n",
        "training_history7 = model7.fit(x=xs_train, y=ys_train, \n",
        "                               validation_split=0.15, epochs=300, \n",
        "                               batch_size=315, verbose=0,\n",
        "                               shuffle=True)\n"
      ]
    },
    {
      "cell_type": "code",
      "source": [
        "# Accuracy on training sets\n",
        "accuracy_m7_train = model7.evaluate(xs_train, ys_train) # loss: loss: 0.5633 - accuracy: 0.8052\n",
        "print('Accuracy on train set', accuracy_m7_train)"
      ],
      "metadata": {
        "colab": {
          "base_uri": "https://localhost:8080/"
        },
        "id": "SJrYOrUT9lai",
        "outputId": "5b65d330-68fc-4629-b6e8-332b059e467a"
      },
      "execution_count": null,
      "outputs": [
        {
          "output_type": "stream",
          "name": "stdout",
          "text": [
            "127/127 [==============================] - 0s 2ms/step - loss: 0.5633 - accuracy: 0.8052\n",
            "Accuracy on train set [0.5633021593093872, 0.8052462339401245]\n"
          ]
        }
      ]
    },
    {
      "cell_type": "code",
      "execution_count": null,
      "metadata": {
        "id": "0DSl8PgJXtdS",
        "colab": {
          "base_uri": "https://localhost:8080/",
          "height": 320
        },
        "outputId": "b01267aa-de7e-48dd-ff19-e2aee14c7bdf"
      },
      "outputs": [
        {
          "output_type": "execute_result",
          "data": {
            "text/plain": [
              "<matplotlib.legend.Legend at 0x7f6efacf8970>"
            ]
          },
          "metadata": {},
          "execution_count": 58
        },
        {
          "output_type": "display_data",
          "data": {
            "text/plain": [
              "<Figure size 432x288 with 1 Axes>"
            ],
            "image/png": "[encoded data removed]"
          },
          "metadata": {
            "needs_background": "light"
          }
        }
      ],
      "source": [
        "plt.plot(training_history7.history['loss'], label='Train')\n",
        "plt.plot(training_history7.history['val_loss'], label='Validation')\n",
        "plt.ylabel('Binary Cross Entropy Loss')\n",
        "plt.xlabel('Epoch')\n",
        "plt.title('Autoencoder Reconstruction Loss', pad=13)\n",
        "plt.legend(loc='upper right')"
      ]
    },
    {
      "cell_type": "code",
      "execution_count": null,
      "metadata": {
        "id": "7nVtTPymXwjM",
        "colab": {
          "base_uri": "https://localhost:8080/"
        },
        "outputId": "a2efe235-c9e7-4bc3-dec5-0360ebb97fbb"
      },
      "outputs": [
        {
          "output_type": "stream",
          "name": "stdout",
          "text": [
            "32/32 [==============================] - 0s 5ms/step - loss: 0.5914 - accuracy: 0.7943\n"
          ]
        }
      ],
      "source": [
        "model7_test_predict = model7.evaluate(xs_test, ys_test) # loss: 0.5914 - accuracy: 0.7943"
      ]
    },
    {
      "cell_type": "markdown",
      "source": [
        "## Compare Accuray of all the models"
      ],
      "metadata": {
        "id": "xp-Zyh4hPHF6"
      }
    },
    {
      "cell_type": "code",
      "source": [
        "df_accuracy = pd.DataFrame([model1_test_predict, model2_test_predict, model3_test_predict, model4_test_predict, [0, model5_test_predict], model6_test_predict, model7_test_predict])"
      ],
      "metadata": {
        "id": "Nbix_R3vPGiM"
      },
      "execution_count": null,
      "outputs": []
    },
    {
      "cell_type": "code",
      "source": [
        "df_accuracy = df_accuracy.rename({0: 'loss', 1: 'accuracy'}, axis=1)\n",
        "df_accuracy[\"model\"] = [\"model1\", \"model2\", \"model3\", \"model4\", \"model5\", \"model6\", \"model7\"]"
      ],
      "metadata": {
        "id": "7z_7D_Y6PGfW"
      },
      "execution_count": null,
      "outputs": []
    },
    {
      "cell_type": "code",
      "source": [
        "df_accuracy.sort_values('accuracy') #  => best model is model 4"
      ],
      "metadata": {
        "id": "YcGDHGo_QGfO",
        "colab": {
          "base_uri": "https://localhost:8080/",
          "height": 238
        },
        "outputId": "efe1b95d-7f9f-4d32-919f-460a85f686c2"
      },
      "execution_count": null,
      "outputs": [
        {
          "output_type": "execute_result",
          "data": {
            "text/plain": [
              "       loss  accuracy   model\n",
              "1  0.043014  0.734916  model2\n",
              "0  0.029364  0.781405  model1\n",
              "2  0.547259  0.788328  model3\n",
              "5  0.591377  0.794263  model7\n",
              "4  0.556953  0.812067  model6\n",
              "3  0.455313  0.856578  model4"
            ],
            "text/html": [
              "\n",
              "  <div id=\"df-c407f842-cf2e-46b8-87d9-cff129330207\">\n",
              "    <div class=\"colab-df-container\">\n",
              "      <div>\n",
              "<style scoped>\n",
              "    .dataframe tbody tr th:only-of-type {\n",
              "        vertical-align: middle;\n",
              "    }\n",
              "\n",
              "    .dataframe tbody tr th {\n",
              "        vertical-align: top;\n",
              "    }\n",
              "\n",
              "    .dataframe thead th {\n",
              "        text-align: right;\n",
              "    }\n",
              "</style>\n",
              "<table border=\"1\" class=\"dataframe\">\n",
              "  <thead>\n",
              "    <tr style=\"text-align: right;\">\n",
              "      <th></th>\n",
              "      <th>loss</th>\n",
              "      <th>accuracy</th>\n",
              "      <th>model</th>\n",
              "    </tr>\n",
              "  </thead>\n",
              "  <tbody>\n",
              "    <tr>\n",
              "      <th>1</th>\n",
              "      <td>0.043014</td>\n",
              "      <td>0.734916</td>\n",
              "      <td>model2</td>\n",
              "    </tr>\n",
              "    <tr>\n",
              "      <th>0</th>\n",
              "      <td>0.029364</td>\n",
              "      <td>0.781405</td>\n",
              "      <td>model1</td>\n",
              "    </tr>\n",
              "    <tr>\n",
              "      <th>2</th>\n",
              "      <td>0.547259</td>\n",
              "      <td>0.788328</td>\n",
              "      <td>model3</td>\n",
              "    </tr>\n",
              "    <tr>\n",
              "      <th>5</th>\n",
              "      <td>0.591377</td>\n",
              "      <td>0.794263</td>\n",
              "      <td>model7</td>\n",
              "    </tr>\n",
              "    <tr>\n",
              "      <th>4</th>\n",
              "      <td>0.556953</td>\n",
              "      <td>0.812067</td>\n",
              "      <td>model6</td>\n",
              "    </tr>\n",
              "    <tr>\n",
              "      <th>3</th>\n",
              "      <td>0.455313</td>\n",
              "      <td>0.856578</td>\n",
              "      <td>model4</td>\n",
              "    </tr>\n",
              "  </tbody>\n",
              "</table>\n",
              "</div>\n",
              "      <button class=\"colab-df-convert\" onclick=\"convertToInteractive('df-c407f842-cf2e-46b8-87d9-cff129330207')\"\n",
              "              title=\"Convert this dataframe to an interactive table.\"\n",
              "              style=\"display:none;\">\n",
              "        \n",
              "  <svg xmlns=\"http://www.w3.org/2000/svg\" height=\"24px\"viewBox=\"0 0 24 24\"\n",
              "       width=\"24px\">\n",
              "    <path d=\"M0 0h24v24H0V0z\" fill=\"none\"/>\n",
              "    <path d=\"M18.56 5.44l.94 2.06.94-2.06 2.06-.94-2.06-.94-.94-2.06-.94 2.06-2.06.94zm-11 1L8.5 8.5l.94-2.06 2.06-.94-2.06-.94L8.5 2.5l-.94 2.06-2.06.94zm10 10l.94 2.06.94-2.06 2.06-.94-2.06-.94-.94-2.06-.94 2.06-2.06.94z\"/><path d=\"M17.41 7.96l-1.37-1.37c-.4-.4-.92-.59-1.43-.59-.52 0-1.04.2-1.43.59L10.3 9.45l-7.72 7.72c-.78.78-.78 2.05 0 2.83L4 21.41c.39.39.9.59 1.41.59.51 0 1.02-.2 1.41-.59l7.78-7.78 2.81-2.81c.8-.78.8-2.07 0-2.86zM5.41 20L4 18.59l7.72-7.72 1.47 1.35L5.41 20z\"/>\n",
              "  </svg>\n",
              "      </button>\n",
              "      \n",
              "  <style>\n",
              "    .colab-df-container {\n",
              "      display:flex;\n",
              "      flex-wrap:wrap;\n",
              "      gap: 12px;\n",
              "    }\n",
              "\n",
              "    .colab-df-convert {\n",
              "      background-color: #E8F0FE;\n",
              "      border: none;\n",
              "      border-radius: 50%;\n",
              "      cursor: pointer;\n",
              "      display: none;\n",
              "      fill: #1967D2;\n",
              "      height: 32px;\n",
              "      padding: 0 0 0 0;\n",
              "      width: 32px;\n",
              "    }\n",
              "\n",
              "    .colab-df-convert:hover {\n",
              "      background-color: #E2EBFA;\n",
              "      box-shadow: 0px 1px 2px rgba(60, 64, 67, 0.3), 0px 1px 3px 1px rgba(60, 64, 67, 0.15);\n",
              "      fill: #174EA6;\n",
              "    }\n",
              "\n",
              "    [theme=dark] .colab-df-convert {\n",
              "      background-color: #3B4455;\n",
              "      fill: #D2E3FC;\n",
              "    }\n",
              "\n",
              "    [theme=dark] .colab-df-convert:hover {\n",
              "      background-color: #434B5C;\n",
              "      box-shadow: 0px 1px 3px 1px rgba(0, 0, 0, 0.15);\n",
              "      filter: drop-shadow(0px 1px 2px rgba(0, 0, 0, 0.3));\n",
              "      fill: #FFFFFF;\n",
              "    }\n",
              "  </style>\n",
              "\n",
              "      <script>\n",
              "        const buttonEl =\n",
              "          document.querySelector('#df-c407f842-cf2e-46b8-87d9-cff129330207 button.colab-df-convert');\n",
              "        buttonEl.style.display =\n",
              "          google.colab.kernel.accessAllowed ? 'block' : 'none';\n",
              "\n",
              "        async function convertToInteractive(key) {\n",
              "          const element = document.querySelector('#df-c407f842-cf2e-46b8-87d9-cff129330207');\n",
              "          const dataTable =\n",
              "            await google.colab.kernel.invokeFunction('convertToInteractive',\n",
              "                                                     [key], {});\n",
              "          if (!dataTable) return;\n",
              "\n",
              "          const docLinkHtml = 'Like what you see? Visit the ' +\n",
              "            '<a target=\"_blank\" href=https://colab.research.google.com/notebooks/data_table.ipynb>data table notebook</a>'\n",
              "            + ' to learn more about interactive tables.';\n",
              "          element.innerHTML = '';\n",
              "          dataTable['output_type'] = 'display_data';\n",
              "          await google.colab.output.renderOutput(dataTable, element);\n",
              "          const docLink = document.createElement('div');\n",
              "          docLink.innerHTML = docLinkHtml;\n",
              "          element.appendChild(docLink);\n",
              "        }\n",
              "      </script>\n",
              "    </div>\n",
              "  </div>\n",
              "  "
            ]
          },
          "metadata": {},
          "execution_count": 63
        }
      ]
    },
    {
      "cell_type": "markdown",
      "source": [
        "#### Evaluate performances"
      ],
      "metadata": {
        "id": "l_EhMn60A4HP"
      }
    },
    {
      "cell_type": "code",
      "source": [
        "model4_predictions = model4.predict(xs_test)\n",
        "model4_predictions = np.argmax(model4_predictions, axis=1)\n",
        "model4_predictions "
      ],
      "metadata": {
        "colab": {
          "base_uri": "https://localhost:8080/"
        },
        "id": "PAkTLQnzDuSK",
        "outputId": "c4ade9f9-f26a-4545-8e84-dbaaba2ce7d7"
      },
      "execution_count": null,
      "outputs": [
        {
          "output_type": "stream",
          "name": "stdout",
          "text": [
            "32/32 [==============================] - 0s 6ms/step\n"
          ]
        },
        {
          "output_type": "execute_result",
          "data": {
            "text/plain": [
              "array([3, 7, 1, ..., 8, 1, 1])"
            ]
          },
          "metadata": {},
          "execution_count": 87
        }
      ]
    },
    {
      "cell_type": "code",
      "source": [
        "#model4_predictions = np.array(pd.get_dummies(pd.Series(model4_predictions)))"
      ],
      "metadata": {
        "id": "CKxySlVOFVsZ"
      },
      "execution_count": null,
      "outputs": []
    },
    {
      "cell_type": "code",
      "source": [
        "ys_test_list = np.argmax(ys_test, axis=1)"
      ],
      "metadata": {
        "id": "VPhDVuWGFYrx"
      },
      "execution_count": null,
      "outputs": []
    },
    {
      "cell_type": "code",
      "source": [
        "target_names = ['Black', 'Blue', 'Brown', 'Green', 'Grey', 'Orange', 'Pink', 'Purple', 'Red', 'White', 'Yellow']\n",
        "\n",
        "# Confusion matrix\n",
        "confusion_mat = confusion_matrix(ys_test_list, model4_predictions)\n",
        "cm_display = ConfusionMatrixDisplay(confusion_matrix = confusion_mat, display_labels = target_names)\n",
        "cm_display.plot()\n",
        "plt.show()\n",
        "\n",
        "# model performance report\n",
        "print(classification_report(ys_test_list, model4_predictions, target_names=target_names))"
      ],
      "metadata": {
        "colab": {
          "base_uri": "https://localhost:8080/",
          "height": 600
        },
        "id": "2kYbAveDA2dF",
        "outputId": "ee16421c-90f9-4891-c04c-04f65811836e"
      },
      "execution_count": null,
      "outputs": [
        {
          "output_type": "display_data",
          "data": {
            "text/plain": [
              "<Figure size 432x288 with 2 Axes>"
            ],
            "image/png": "[encoded data removed]"
          },
          "metadata": {
            "needs_background": "light"
          }
        },
        {
          "output_type": "stream",
          "name": "stdout",
          "text": [
            "              precision    recall  f1-score   support\n",
            "\n",
            "       Black       0.43      1.00      0.60         3\n",
            "        Blue       0.91      0.91      0.91       221\n",
            "       Brown       0.79      0.91      0.85        69\n",
            "       Green       0.90      0.92      0.91       281\n",
            "        Grey       0.76      0.42      0.54        38\n",
            "      Orange       0.88      0.74      0.81        39\n",
            "        Pink       0.83      0.84      0.84       121\n",
            "      Purple       0.87      0.77      0.82       128\n",
            "         Red       0.78      0.83      0.80        47\n",
            "       White       0.80      1.00      0.89         4\n",
            "      Yellow       0.76      0.83      0.79        60\n",
            "\n",
            "    accuracy                           0.86      1011\n",
            "   macro avg       0.79      0.84      0.80      1011\n",
            "weighted avg       0.86      0.86      0.85      1011\n",
            "\n"
          ]
        }
      ]
    },
    {
      "cell_type": "markdown",
      "source": [
        "## Towards Arduino\n",
        "\n",
        "ref: https://colab.research.google.com/github/arduino/ArduinoTensorFlowLiteTutorials/blob/master/GestureToEmoji/arduino_tinyml_workshop.ipynb#scrollTo=0Xn1-Rn9Cp_8\n",
        "\n",
        "https://colab.research.google.com/github/ucl-casa-ce/casa0018/blob/main/Week4/CASA0018_4_1_train_hello_world_model.ipynb#scrollTo=1muAoUm8lSXL"
      ],
      "metadata": {
        "id": "Io2z3PMhwdJd"
      }
    },
    {
      "cell_type": "markdown",
      "source": [
        "### Convert the Trained Model n° 4 to Tensor Flow Lite\n",
        "In the below cell, we convert the model *4* format into TFlite format"
      ],
      "metadata": {
        "id": "2JAEfLx9QT5i"
      }
    },
    {
      "cell_type": "code",
      "source": [
        "import os\n",
        "\n",
        "MODELS_DIR = 'models/'\n",
        "if not os.path.exists(MODELS_DIR):\n",
        "    os.mkdir(MODELS_DIR)\n",
        "MODEL_TF = MODELS_DIR + 'model'\n",
        "MODEL_NO_QUANT_TFLITE = MODELS_DIR + 'model_no_quant.tflite'\n",
        "MODEL_TFLITE = MODELS_DIR + 'model.tflite'\n",
        "MODEL_TFLITE_MICRO = MODELS_DIR + 'model.cc'"
      ],
      "metadata": {
        "id": "z0a-YGgTwD-Q"
      },
      "execution_count": null,
      "outputs": []
    },
    {
      "cell_type": "code",
      "source": [
        "# Save the model to disk\n",
        "model4.save(MODEL_TF)\n",
        "\n",
        "# Convert the model to the TensorFlow Lite format without quantization\n",
        "converter = tf.lite.TFLiteConverter.from_saved_model(MODEL_TF)\n",
        "model_no_quant_tflite = converter.convert()\n",
        "\n",
        "# Save the model to disk\n",
        "open(MODEL_NO_QUANT_TFLITE, \"wb\").write(model_no_quant_tflite)\n",
        "\n",
        "# Convert the model to the TensorFlow Lite format with quantization\n",
        "def representative_dataset_generator():\n",
        "  for value in xs_train:\n",
        "    yield [np.array(value, dtype=np.float32, ndmin=2)]\n",
        "\n",
        "# Set the optimization flag - DEFAULT includes quantization.\n",
        "converter.optimizations = [tf.lite.Optimize.DEFAULT]\n",
        "\n",
        "# Enforce integer only quantization to reduce model size\n",
        "converter.target_spec.supported_ops = [tf.lite.OpsSet.TFLITE_BUILTINS_INT8]\n",
        "converter.inference_input_type = tf.int8\n",
        "converter.inference_output_type = tf.int8\n",
        "\n",
        "# Provide a representative dataset to ensure we quantize correctly.\n",
        "converter.representative_dataset = representative_dataset_generator\n",
        "\n",
        "model_tflite = converter.convert()\n",
        "\n",
        "# Save the model to disk\n",
        "open(MODEL_TFLITE, \"wb\").write(model_tflite)"
      ],
      "metadata": {
        "colab": {
          "base_uri": "https://localhost:8080/",
          "height": 240
        },
        "id": "4ntJfIXCwUPJ",
        "outputId": "0b2be2ac-3e86-4497-8376-8e0b8e17361b"
      },
      "execution_count": null,
      "outputs": [
        {
          "output_type": "error",
          "ename": "NameError",
          "evalue": "ignored",
          "traceback": [
            "\u001b[0;31m---------------------------------------------------------------------------\u001b[0m",
            "\u001b[0;31mNameError\u001b[0m                                 Traceback (most recent call last)",
            "\u001b[0;32m<ipython-input-4-63317e1c4219>\u001b[0m in \u001b[0;36m<module>\u001b[0;34m\u001b[0m\n\u001b[1;32m      1\u001b[0m \u001b[0;31m# Save the model to disk\u001b[0m\u001b[0;34m\u001b[0m\u001b[0;34m\u001b[0m\u001b[0m\n\u001b[0;32m----> 2\u001b[0;31m \u001b[0mmodel4\u001b[0m\u001b[0;34m.\u001b[0m\u001b[0msave\u001b[0m\u001b[0;34m(\u001b[0m\u001b[0mMODEL_TF\u001b[0m\u001b[0;34m)\u001b[0m\u001b[0;34m\u001b[0m\u001b[0;34m\u001b[0m\u001b[0m\n\u001b[0m\u001b[1;32m      3\u001b[0m \u001b[0;34m\u001b[0m\u001b[0m\n\u001b[1;32m      4\u001b[0m \u001b[0;31m# Convert the model to the TensorFlow Lite format without quantization\u001b[0m\u001b[0;34m\u001b[0m\u001b[0;34m\u001b[0m\u001b[0m\n\u001b[1;32m      5\u001b[0m \u001b[0mconverter\u001b[0m \u001b[0;34m=\u001b[0m \u001b[0mtf\u001b[0m\u001b[0;34m.\u001b[0m\u001b[0mlite\u001b[0m\u001b[0;34m.\u001b[0m\u001b[0mTFLiteConverter\u001b[0m\u001b[0;34m.\u001b[0m\u001b[0mfrom_saved_model\u001b[0m\u001b[0;34m(\u001b[0m\u001b[0mMODEL_TF\u001b[0m\u001b[0;34m)\u001b[0m\u001b[0;34m\u001b[0m\u001b[0;34m\u001b[0m\u001b[0m\n",
            "\u001b[0;31mNameError\u001b[0m: name 'model4' is not defined"
          ]
        }
      ]
    },
    {
      "cell_type": "code",
      "source": [
        "# Convert the model to the TensorFlow Lite format without quantization\n",
        "converter = tf.lite.TFLiteConverter.from_keras_model(model4)\n",
        "tflite_model = converter.convert()\n",
        "\n",
        "# Save the model to disk\n",
        "open(\"colourdetec_model.tflite\", \"wb\").write(tflite_model)\n",
        "  \n",
        "\n",
        "basic_model_size = os.path.getsize(\"colourdetec_model.tflite\")\n",
        "print(\"Model is %d bytes\" % basic_model_size)\n",
        "  "
      ],
      "metadata": {
        "id": "aw-WvOgAQUGy",
        "colab": {
          "base_uri": "https://localhost:8080/"
        },
        "outputId": "b74b996b-d4c1-43ca-97d4-7eca5e7a2078"
      },
      "execution_count": null,
      "outputs": [
        {
          "output_type": "stream",
          "name": "stderr",
          "text": [
            "WARNING:absl:Found untraced functions such as _update_step_xla while saving (showing 1 of 1). These functions will not be directly callable after loading.\n"
          ]
        },
        {
          "output_type": "stream",
          "name": "stdout",
          "text": [
            "Model is 5544 bytes\n"
          ]
        }
      ]
    },
    {
      "cell_type": "markdown",
      "source": [
        "### Convert the Trained Model n° 4 to be used in Arduino"
      ],
      "metadata": {
        "id": "Hrpt8qWdGiPT"
      }
    },
    {
      "cell_type": "code",
      "source": [
        "!echo \"const unsigned char model[] = {\" > /content/model_colour.h\n",
        "!cat colourdetec_model.tflite | xxd -i      >> /content/model_colour.h\n",
        "!echo \"};\"                              >> /content/model_colour.h\n",
        "\n",
        "import os\n",
        "model_h_size = os.path.getsize(\"model_colour.h\")\n",
        "print(f\"Header file, model_colour.h, is {model_h_size:,} bytes.\")"
      ],
      "metadata": {
        "colab": {
          "base_uri": "https://localhost:8080/"
        },
        "id": "qrFdblQOGijn",
        "outputId": "4a017f68-e350-46db-ec74-1892261b14aa"
      },
      "execution_count": null,
      "outputs": [
        {
          "output_type": "stream",
          "name": "stdout",
          "text": [
            "Header file, model_colour.h, is 34,222 bytes.\n"
          ]
        }
      ]
    },
    {
      "cell_type": "markdown",
      "source": [
        "#### Compare performance after conversion\n"
      ],
      "metadata": {
        "id": "LtNkdyRaw29A"
      }
    },
    {
      "cell_type": "code",
      "source": [
        "def predict_tflite(tflite_model, x_test):\n",
        "  # Prepare the test data\n",
        "  x_test_ = x_test.copy()\n",
        "  #x_test_ = x_test_.reshape((x_test.size, 1))\n",
        "  x_test_ = x_test_.astype(np.float32)\n",
        "\n",
        "  # Initialize the TFLite interpreter\n",
        "  interpreter = tf.lite.Interpreter(model_content=tflite_model)\n",
        "  interpreter.allocate_tensors()\n",
        "\n",
        "  input_details = interpreter.get_input_details()[0]\n",
        "  output_details = interpreter.get_output_details()[0]\n",
        "\n",
        "  # If required, quantize the input layer (from float to integer)\n",
        "  input_scale, input_zero_point = input_details[\"quantization\"]\n",
        "  if (input_scale, input_zero_point) != (0.0, 0):\n",
        "    x_test_ = x_test_ / input_scale + input_zero_point\n",
        "    x_test_ = x_test_.astype(input_details[\"dtype\"])\n",
        "  \n",
        "  # Invoke the interpreter\n",
        "  y_pred = np.empty(x_test_.size, dtype=output_details[\"dtype\"])\n",
        "  for i in range(len(x_test_)):\n",
        "    interpreter.set_tensor(input_details[\"index\"], [x_test_[i]])\n",
        "    interpreter.invoke()\n",
        "    y_pred[i] = np.argmax(interpreter.get_tensor(output_details[\"index\"])[[0]])\n",
        "  \n",
        "  # If required, dequantized the output layer (from integer to float)\n",
        "  output_scale, output_zero_point = output_details[\"quantization\"]\n",
        "  if (output_scale, output_zero_point) != (0.0, 0):\n",
        "    y_pred = y_pred.astype(np.float32)\n",
        "    y_pred = (y_pred - output_zero_point) * output_scale\n",
        "\n",
        "  return y_pred\n",
        "\n",
        "def evaluate_tflite(tflite_model, x_test, y_true):\n",
        "  global model4\n",
        "  y_pred = predict_tflite(tflite_model, x_test)\n",
        "  loss_function = tf.keras.losses.get(model4.loss)\n",
        "  loss = loss_function(y_true, y_pred).numpy()\n",
        "  return loss"
      ],
      "metadata": {
        "id": "dVWOjniaw3rp"
      },
      "execution_count": null,
      "outputs": []
    },
    {
      "cell_type": "code",
      "source": [
        "# Calculate predictions\n",
        "y_test_pred_tf = model4.predict(xs_test)\n",
        "y_test_pred_no_quant_tflite = predict_tflite(model_no_quant_tflite, xs_test)\n",
        "y_test_pred_tflite = predict_tflite(model_tflite, xs_test)"
      ],
      "metadata": {
        "colab": {
          "base_uri": "https://localhost:8080/"
        },
        "id": "w_WER0TAxFQH",
        "outputId": "62742974-4242-468c-8325-1c47a49159d1"
      },
      "execution_count": null,
      "outputs": [
        {
          "output_type": "stream",
          "name": "stdout",
          "text": [
            "32/32 [==============================] - 0s 2ms/step\n"
          ]
        }
      ]
    },
    {
      "cell_type": "markdown",
      "source": [
        "### Generate a TensorFlow Lite for Microcontrollers Model"
      ],
      "metadata": {
        "id": "wki-O4YJ1hin"
      }
    },
    {
      "cell_type": "code",
      "source": [
        "# Install xxd if it is not available\n",
        "!apt-get update && apt-get -qq install xxd\n",
        "# Convert to a C source file, i.e, a TensorFlow Lite for Microcontrollers model\n",
        "!xxd -i {MODEL_TFLITE} > {MODEL_TFLITE_MICRO}"
      ],
      "metadata": {
        "colab": {
          "base_uri": "https://localhost:8080/"
        },
        "id": "roKLbYwe1h6A",
        "outputId": "317a3988-5630-4f6a-8592-7a31b12a93f5"
      },
      "execution_count": null,
      "outputs": [
        {
          "output_type": "stream",
          "name": "stdout",
          "text": [
            "\r0% [Working]\r            \rGet:1 https://cloud.r-project.org/bin/linux/ubuntu focal-cran40/ InRelease [3,622 B]\n",
            "\r0% [Waiting for headers] [Waiting for headers] [1 InRelease 0 B/3,622 B 0%] [Co\r0% [Waiting for headers] [Waiting for headers] [Connecting to ppa.launchpad.net\r                                                                               \rGet:2 https://developer.download.nvidia.com/compute/cuda/repos/ubuntu2004/x86_64  InRelease [1,581 B]\n",
            "\r0% [Waiting for headers] [Waiting for headers] [Connecting to ppa.launchpad.net\r                                                                               \rHit:3 http://archive.ubuntu.com/ubuntu focal InRelease\n",
            "\r0% [Waiting for headers] [Waiting for headers] [Connecting to ppa.launchpad.net\r                                                                               \rGet:4 http://security.ubuntu.com/ubuntu focal-security InRelease [114 kB]\n",
            "Get:5 http://archive.ubuntu.com/ubuntu focal-updates InRelease [114 kB]\n",
            "Get:6 https://cloud.r-project.org/bin/linux/ubuntu focal-cran40/ Packages [74.2 kB]\n",
            "Get:7 http://ppa.launchpad.net/c2d4u.team/c2d4u4.0+/ubuntu focal InRelease [18.1 kB]\n",
            "Get:8 https://developer.download.nvidia.com/compute/cuda/repos/ubuntu2004/x86_64  Packages [923 kB]\n",
            "Get:9 http://archive.ubuntu.com/ubuntu focal-backports InRelease [108 kB]\n",
            "Get:10 http://security.ubuntu.com/ubuntu focal-security/main amd64 Packages [2,545 kB]\n",
            "Hit:11 http://ppa.launchpad.net/cran/libgit2/ubuntu focal InRelease\n",
            "Get:12 http://archive.ubuntu.com/ubuntu focal-updates/universe amd64 Packages [1,314 kB]\n",
            "Hit:13 http://ppa.launchpad.net/deadsnakes/ppa/ubuntu focal InRelease\n",
            "Get:14 http://security.ubuntu.com/ubuntu focal-security/universe amd64 Packages [1,019 kB]\n",
            "Get:15 http://archive.ubuntu.com/ubuntu focal-updates/main amd64 Packages [3,025 kB]\n",
            "Hit:16 http://ppa.launchpad.net/graphics-drivers/ppa/ubuntu focal InRelease\n",
            "Get:17 http://archive.ubuntu.com/ubuntu focal-updates/restricted amd64 Packages [2,141 kB]\n",
            "Hit:18 http://ppa.launchpad.net/ubuntugis/ppa/ubuntu focal InRelease\n",
            "Get:19 http://ppa.launchpad.net/c2d4u.team/c2d4u4.0+/ubuntu focal/main Sources [2,403 kB]\n",
            "Get:20 http://ppa.launchpad.net/c2d4u.team/c2d4u4.0+/ubuntu focal/main amd64 Packages [1,138 kB]\n",
            "Fetched 14.9 MB in 4s (3,665 kB/s)\n",
            "Reading package lists... Done\n",
            "(Reading database ... 128276 files and directories currently installed.)\n",
            "Preparing to unpack .../xxd_2%3a8.1.2269-1ubuntu5.12_amd64.deb ...\n",
            "Unpacking xxd (2:8.1.2269-1ubuntu5.12) over (2:8.1.2269-1ubuntu5.11) ...\n",
            "Setting up xxd (2:8.1.2269-1ubuntu5.12) ...\n",
            "Processing triggers for man-db (2.9.1-1) ...\n",
            "xxd: {MODEL_TFLITE}: No such file or directory\n"
          ]
        }
      ]
    },
    {
      "cell_type": "code",
      "source": [
        "MODEL_TFLITE_MICRO"
      ],
      "metadata": {
        "colab": {
          "base_uri": "https://localhost:8080/",
          "height": 35
        },
        "id": "Ey7NGm852Leb",
        "outputId": "68f4b2d1-39e5-45e4-ba0b-3a5fe6f44908"
      },
      "execution_count": null,
      "outputs": [
        {
          "output_type": "execute_result",
          "data": {
            "text/plain": [
              "'models/model.cc'"
            ],
            "application/vnd.google.colaboratory.intrinsic+json": {
              "type": "string"
            }
          },
          "metadata": {},
          "execution_count": 26
        }
      ]
    },
    {
      "cell_type": "code",
      "source": [
        "# Print the C source file\n",
        "!cat {MODEL_TFLITE_MICRO}\n"
      ],
      "metadata": {
        "colab": {
          "base_uri": "https://localhost:8080/"
        },
        "id": "lEV5KE0u2J67",
        "outputId": "bb73be71-2ab7-4d8c-99b7-c72f9a88b943"
      },
      "execution_count": null,
      "outputs": [
        {
          "output_type": "stream",
          "name": "stdout",
          "text": [
            "unsigned char models_model_tflite[] = {\n",
            "  0x20, 0x00, 0x00, 0x00, 0x54, 0x46, 0x4c, 0x33, 0x00, 0x00, 0x00, 0x00,\n",
            "  0x14, 0x00, 0x20, 0x00, 0x1c, 0x00, 0x18, 0x00, 0x14, 0x00, 0x10, 0x00,\n",
            "  0x0c, 0x00, 0x00, 0x00, 0x08, 0x00, 0x04, 0x00, 0x14, 0x00, 0x00, 0x00,\n",
            "  0x1c, 0x00, 0x00, 0x00, 0x90, 0x00, 0x00, 0x00, 0xe8, 0x00, 0x00, 0x00,\n",
            "  0x10, 0x06, 0x00, 0x00, 0x20, 0x06, 0x00, 0x00, 0x4c, 0x0e, 0x00, 0x00,\n",
            "  0x03, 0x00, 0x00, 0x00, 0x01, 0x00, 0x00, 0x00, 0x10, 0x00, 0x00, 0x00,\n",
            "  0x00, 0x00, 0x0a, 0x00, 0x10, 0x00, 0x0c, 0x00, 0x08, 0x00, 0x04, 0x00,\n",
            "  0x0a, 0x00, 0x00, 0x00, 0x0c, 0x00, 0x00, 0x00, 0x1c, 0x00, 0x00, 0x00,\n",
            "  0x38, 0x00, 0x00, 0x00, 0x0f, 0x00, 0x00, 0x00, 0x73, 0x65, 0x72, 0x76,\n",
            "  0x69, 0x6e, 0x67, 0x5f, 0x64, 0x65, 0x66, 0x61, 0x75, 0x6c, 0x74, 0x00,\n",
            "  0x01, 0x00, 0x00, 0x00, 0x04, 0x00, 0x00, 0x00, 0x98, 0xff, 0xff, 0xff,\n",
            "  0x0c, 0x00, 0x00, 0x00, 0x04, 0x00, 0x00, 0x00, 0x07, 0x00, 0x00, 0x00,\n",
            "  0x64, 0x65, 0x6e, 0x73, 0x65, 0x5f, 0x33, 0x00, 0x01, 0x00, 0x00, 0x00,\n",
            "  0x04, 0x00, 0x00, 0x00, 0xa6, 0xfa, 0xff, 0xff, 0x04, 0x00, 0x00, 0x00,\n",
            "  0x0b, 0x00, 0x00, 0x00, 0x64, 0x65, 0x6e, 0x73, 0x65, 0x5f, 0x69, 0x6e,\n",
            "  0x70, 0x75, 0x74, 0x00, 0x02, 0x00, 0x00, 0x00, 0x34, 0x00, 0x00, 0x00,\n",
            "  0x04, 0x00, 0x00, 0x00, 0xdc, 0xff, 0xff, 0xff, 0x0f, 0x00, 0x00, 0x00,\n",
            "  0x04, 0x00, 0x00, 0x00, 0x13, 0x00, 0x00, 0x00, 0x43, 0x4f, 0x4e, 0x56,\n",
            "  0x45, 0x52, 0x53, 0x49, 0x4f, 0x4e, 0x5f, 0x4d, 0x45, 0x54, 0x41, 0x44,\n",
            "  0x41, 0x54, 0x41, 0x00, 0x08, 0x00, 0x0c, 0x00, 0x08, 0x00, 0x04, 0x00,\n",
            "  0x08, 0x00, 0x00, 0x00, 0x0e, 0x00, 0x00, 0x00, 0x04, 0x00, 0x00, 0x00,\n",
            "  0x13, 0x00, 0x00, 0x00, 0x6d, 0x69, 0x6e, 0x5f, 0x72, 0x75, 0x6e, 0x74,\n",
            "  0x69, 0x6d, 0x65, 0x5f, 0x76, 0x65, 0x72, 0x73, 0x69, 0x6f, 0x6e, 0x00,\n",
            "  0x10, 0x00, 0x00, 0x00, 0x24, 0x05, 0x00, 0x00, 0x1c, 0x05, 0x00, 0x00,\n",
            "  0xe0, 0x04, 0x00, 0x00, 0x18, 0x04, 0x00, 0x00, 0xc8, 0x03, 0x00, 0x00,\n",
            "  0xd8, 0x01, 0x00, 0x00, 0x50, 0x01, 0x00, 0x00, 0xe4, 0x00, 0x00, 0x00,\n",
            "  0xc8, 0x00, 0x00, 0x00, 0xac, 0x00, 0x00, 0x00, 0xa4, 0x00, 0x00, 0x00,\n",
            "  0x9c, 0x00, 0x00, 0x00, 0x94, 0x00, 0x00, 0x00, 0x8c, 0x00, 0x00, 0x00,\n",
            "  0x6c, 0x00, 0x00, 0x00, 0x04, 0x00, 0x00, 0x00, 0x5e, 0xfb, 0xff, 0xff,\n",
            "  0x04, 0x00, 0x00, 0x00, 0x58, 0x00, 0x00, 0x00, 0x0c, 0x00, 0x00, 0x00,\n",
            "  0x08, 0x00, 0x0e, 0x00, 0x08, 0x00, 0x04, 0x00, 0x08, 0x00, 0x00, 0x00,\n",
            "  0x10, 0x00, 0x00, 0x00, 0x28, 0x00, 0x00, 0x00, 0x00, 0x00, 0x06, 0x00,\n",
            "  0x08, 0x00, 0x04, 0x00, 0x06, 0x00, 0x00, 0x00, 0x04, 0x00, 0x00, 0x00,\n",
            "  0x01, 0x00, 0x00, 0x00, 0xeb, 0x03, 0x00, 0x00, 0x00, 0x00, 0x0a, 0x00,\n",
            "  0x10, 0x00, 0x0c, 0x00, 0x08, 0x00, 0x04, 0x00, 0x0a, 0x00, 0x00, 0x00,\n",
            "  0x01, 0x00, 0x00, 0x00, 0x02, 0x00, 0x00, 0x00, 0x04, 0x00, 0x00, 0x00,\n",
            "  0x06, 0x00, 0x00, 0x00, 0x32, 0x2e, 0x31, 0x31, 0x2e, 0x30, 0x00, 0x00,\n",
            "  0xc2, 0xfb, 0xff, 0xff, 0x04, 0x00, 0x00, 0x00, 0x10, 0x00, 0x00, 0x00,\n",
            "  0x31, 0x2e, 0x31, 0x34, 0x2e, 0x30, 0x00, 0x00, 0x00, 0x00, 0x00, 0x00,\n",
            "  0x00, 0x00, 0x00, 0x00, 0x20, 0xfb, 0xff, 0xff, 0x24, 0xfb, 0xff, 0xff,\n",
            "  0x28, 0xfb, 0xff, 0xff, 0x2c, 0xfb, 0xff, 0xff, 0xee, 0xfb, 0xff, 0xff,\n",
            "  0x04, 0x00, 0x00, 0x00, 0x09, 0x00, 0x00, 0x00, 0x00, 0x00, 0x00, 0x24,\n",
            "  0x54, 0x87, 0x81, 0x45, 0x22, 0x00, 0x00, 0x00, 0x06, 0xfc, 0xff, 0xff,\n",
            "  0x04, 0x00, 0x00, 0x00, 0x0c, 0x00, 0x00, 0x00, 0x00, 0x00, 0x00, 0x00,\n",
            "  0xf1, 0x21, 0x00, 0x00, 0xdc, 0x51, 0x00, 0x00, 0x1e, 0xfc, 0xff, 0xff,\n",
            "  0x04, 0x00, 0x00, 0x00, 0x5a, 0x00, 0x00, 0x00, 0x00, 0xb6, 0xd7, 0x00,\n",
            "  0xb9, 0x1e, 0x00, 0x42, 0xd5, 0x00, 0x7f, 0x25, 0x00, 0x1c, 0xc6, 0x00,\n",
            "  0xf0, 0x50, 0x00, 0xf2, 0x27, 0x00, 0x00, 0x53, 0x00, 0x59, 0x5a, 0x00,\n",
            "  0x41, 0xeb, 0x00, 0x21, 0xbb, 0x00, 0x00, 0x00, 0x00, 0x00, 0x00, 0x00,\n",
            "  0x12, 0x5b, 0x00, 0x4f, 0xe7, 0x00, 0x00, 0x00, 0x00, 0x00, 0x00, 0x00,\n",
            "  0x00, 0x00, 0x00, 0x36, 0x4a, 0x00, 0x6f, 0x01, 0x00, 0x00, 0x00, 0x00,\n",
            "  0x1f, 0xb6, 0x00, 0xc6, 0x11, 0x00, 0x46, 0xf4, 0x00, 0xd1, 0x24, 0x00,\n",
            "  0x00, 0x00, 0x00, 0x00, 0x00, 0x00, 0x00, 0x01, 0x00, 0x63, 0x4a, 0x00,\n",
            "  0x00, 0x00, 0x00, 0x00, 0x86, 0xfc, 0xff, 0xff, 0x04, 0x00, 0x00, 0x00,\n",
            "  0x78, 0x00, 0x00, 0x00, 0x48, 0x35, 0x00, 0x00, 0xe5, 0x0c, 0x00, 0x00,\n",
            "  0x51, 0x07, 0x00, 0x00, 0x6d, 0xf2, 0xff, 0xff, 0x73, 0x21, 0x00, 0x00,\n",
            "  0x09, 0x0a, 0x00, 0x00, 0x27, 0x15, 0x00, 0x00, 0x35, 0x00, 0x00, 0x00,\n",
            "  0x44, 0xed, 0xff, 0xff, 0xc6, 0x11, 0x00, 0x00, 0xec, 0x26, 0x00, 0x00,\n",
            "  0x00, 0x00, 0x00, 0x00, 0x49, 0xff, 0xff, 0xff, 0x3f, 0xfa, 0xff, 0xff,\n",
            "  0x1c, 0x14, 0x00, 0x00, 0x9b, 0xff, 0xff, 0xff, 0xb9, 0xff, 0xff, 0xff,\n",
            "  0x00, 0x00, 0x00, 0x00, 0x1e, 0x0a, 0x00, 0x00, 0xe4, 0xff, 0xff, 0xff,\n",
            "  0x70, 0xff, 0xff, 0xff, 0x9c, 0x28, 0x00, 0x00, 0x17, 0x23, 0x00, 0x00,\n",
            "  0xad, 0x0b, 0x00, 0x00, 0xd6, 0x19, 0x00, 0x00, 0x64, 0xfd, 0xff, 0xff,\n",
            "  0x83, 0xff, 0xff, 0xff, 0x8b, 0xfc, 0xff, 0xff, 0x4b, 0xf2, 0xff, 0xff,\n",
            "  0xce, 0xff, 0xff, 0xff, 0x0a, 0xfd, 0xff, 0xff, 0x04, 0x00, 0x00, 0x00,\n",
            "  0xe0, 0x01, 0x00, 0x00, 0xa5, 0xf9, 0x12, 0x44, 0xd6, 0x07, 0x05, 0x2a,\n",
            "  0x46, 0xef, 0xd3, 0x00, 0x00, 0x31, 0x08, 0x00, 0x00, 0x00, 0x22, 0x14,\n",
            "  0x00, 0xdb, 0xce, 0x06, 0xeb, 0x00, 0x00, 0x00, 0x3d, 0x00, 0x7f, 0x2f,\n",
            "  0xe1, 0xc5, 0x2a, 0x3a, 0x41, 0x15, 0xde, 0x0c, 0x2e, 0x00, 0x00, 0xf1,\n",
            "  0x10, 0x00, 0x00, 0x00, 0x17, 0xeb, 0x00, 0x27, 0x6b, 0x0a, 0x4b, 0x00,\n",
            "  0x00, 0x00, 0xda, 0x00, 0xec, 0x11, 0xf0, 0xf5, 0xd0, 0x23, 0x10, 0x31,\n",
            "  0x20, 0xdc, 0xc4, 0x00, 0x00, 0x2f, 0xd5, 0x00, 0x00, 0x00, 0x0c, 0xde,\n",
            "  0x00, 0xc7, 0x19, 0xe4, 0x21, 0x00, 0x00, 0x00, 0x1b, 0x00, 0x47, 0x19,\n",
            "  0xfd, 0xda, 0x13, 0x08, 0x20, 0x0d, 0xed, 0xfa, 0x16, 0x00, 0x00, 0x0e,\n",
            "  0xfe, 0x00, 0x00, 0x00, 0x0f, 0xf4, 0x00, 0x14, 0x37, 0xf8, 0x1b, 0x00,\n",
            "  0x00, 0x00, 0xf6, 0x00, 0xae, 0xf2, 0x05, 0x52, 0xee, 0x13, 0xf6, 0x20,\n",
            "  0x4e, 0x14, 0xeb, 0x00, 0x00, 0x1e, 0x1e, 0x00, 0x00, 0x00, 0x38, 0x41,\n",
            "  0x00, 0xea, 0xd5, 0x1b, 0xdb, 0x00, 0x00, 0x00, 0x45, 0x00, 0xec, 0x1b,\n",
            "  0xed, 0x1d, 0xeb, 0x32, 0x30, 0x2f, 0x45, 0xfc, 0xdd, 0x00, 0x00, 0x36,\n",
            "  0xfe, 0x00, 0x00, 0x00, 0x2e, 0x13, 0x00, 0xd0, 0x12, 0x05, 0x14, 0x00,\n",
            "  0x00, 0x00, 0x48, 0x00, 0x00, 0x00, 0x00, 0x00, 0x00, 0x00, 0x00, 0x00,\n",
            "  0x00, 0x00, 0x00, 0x00, 0x00, 0x00, 0x00, 0x00, 0x00, 0x00, 0x00, 0x00,\n",
            "  0x00, 0x00, 0x00, 0x00, 0x00, 0x00, 0x00, 0x00, 0x00, 0x00, 0xba, 0xfa,\n",
            "  0xfd, 0x33, 0xe2, 0x1f, 0xfa, 0x0b, 0x36, 0x04, 0xe6, 0x00, 0x00, 0x20,\n",
            "  0x10, 0x00, 0x00, 0x00, 0x0b, 0x11, 0x00, 0xf0, 0xf1, 0x15, 0xf5, 0x00,\n",
            "  0x00, 0x00, 0x35, 0x00, 0xe9, 0xed, 0x0c, 0x3d, 0x19, 0xe9, 0xfb, 0x0a,\n",
            "  0x1f, 0x2a, 0x1f, 0x00, 0x00, 0x12, 0x27, 0x00, 0x00, 0x00, 0xf9, 0x33,\n",
            "  0x00, 0x10, 0xea, 0x27, 0xf8, 0x00, 0x00, 0x00, 0x2a, 0x00, 0xb4, 0x0b,\n",
            "  0x0b, 0x46, 0xd5, 0x24, 0x19, 0x1c, 0x38, 0x0f, 0xd9, 0x00, 0x00, 0x35,\n",
            "  0xf8, 0x00, 0x00, 0x00, 0x34, 0x2c, 0x00, 0xcf, 0xea, 0x15, 0xfe, 0x00,\n",
            "  0x00, 0x00, 0x49, 0x00, 0xe6, 0xda, 0x3c, 0x25, 0x21, 0xda, 0xf2, 0xe7,\n",
            "  0x0e, 0x26, 0x2c, 0x00, 0x00, 0xe6, 0x35, 0x00, 0x00, 0x00, 0x10, 0x2e,\n",
            "  0x00, 0x1a, 0xce, 0x25, 0xd1, 0x00, 0x00, 0x00, 0x27, 0x00, 0xfb, 0xe0,\n",
            "  0x28, 0x33, 0x2d, 0xf1, 0xfa, 0xfd, 0x1c, 0x38, 0x2f, 0x00, 0x00, 0x06,\n",
            "  0x35, 0x00, 0x00, 0x00, 0x18, 0x30, 0x00, 0x34, 0xed, 0x2b, 0xef, 0x00,\n",
            "  0x00, 0x00, 0x26, 0x00, 0x52, 0x02, 0x27, 0xfb, 0x40, 0xd0, 0xff, 0xd2,\n",
            "  0xd6, 0x23, 0x5a, 0x00, 0x00, 0xc1, 0x34, 0x00, 0x00, 0x00, 0xf5, 0x0f,\n",
            "  0x00, 0x5b, 0x19, 0x25, 0xf5, 0x00, 0x00, 0x00, 0xd5, 0x00, 0x0f, 0x11,\n",
            "  0xfc, 0xe5, 0xe9, 0x09, 0x1c, 0x2d, 0x03, 0xf0, 0xe9, 0x00, 0x00, 0x1a,\n",
            "  0xdd, 0x00, 0x00, 0x00, 0x1c, 0xdd, 0x00, 0xe1, 0x1b, 0xe7, 0x14, 0x00,\n",
            "  0x00, 0x00, 0x09, 0x00, 0xf6, 0xdd, 0x0b, 0x27, 0x25, 0x00, 0x08, 0xf8,\n",
            "  0x05, 0x25, 0x1d, 0x00, 0x00, 0xf7, 0x0d, 0x00, 0x00, 0x00, 0x11, 0x29,\n",
            "  0x00, 0x20, 0xf7, 0x21, 0xe5, 0x00, 0x00, 0x00, 0x21, 0x00, 0x00, 0x00,\n",
            "  0x00, 0x00, 0x00, 0x00, 0x00, 0x00, 0x00, 0x00, 0x00, 0x00, 0x00, 0x00,\n",
            "  0x00, 0x00, 0x00, 0x00, 0x00, 0x00, 0x00, 0x00, 0x00, 0x00, 0x00, 0x00,\n",
            "  0x00, 0x00, 0x00, 0x00, 0xf6, 0xfe, 0xff, 0xff, 0x04, 0x00, 0x00, 0x00,\n",
            "  0x40, 0x00, 0x00, 0x00, 0x08, 0xe6, 0xff, 0xff, 0xaa, 0x27, 0x00, 0x00,\n",
            "  0xc9, 0xf9, 0xff, 0xff, 0x99, 0x0f, 0x00, 0x00, 0xf4, 0xed, 0xff, 0xff,\n",
            "  0x6c, 0x07, 0x00, 0x00, 0xbd, 0xfe, 0xff, 0xff, 0x33, 0xfc, 0xff, 0xff,\n",
            "  0x37, 0xfc, 0xff, 0xff, 0xb2, 0xfa, 0xff, 0xff, 0x4b, 0xfa, 0xff, 0xff,\n",
            "  0x11, 0x05, 0x00, 0x00, 0x04, 0x12, 0x00, 0x00, 0xff, 0x06, 0x00, 0x00,\n",
            "  0x3d, 0x03, 0x00, 0x00, 0x92, 0xff, 0xff, 0xff, 0x42, 0xff, 0xff, 0xff,\n",
            "  0x04, 0x00, 0x00, 0x00, 0xb0, 0x00, 0x00, 0x00, 0xef, 0x08, 0x00, 0xfc,\n",
            "  0x13, 0x15, 0x13, 0x0c, 0x10, 0xfa, 0x81, 0xfb, 0xae, 0xe9, 0x01, 0x03,\n",
            "  0xfb, 0x0c, 0x20, 0x12, 0xd4, 0x1e, 0xfd, 0x09, 0xcb, 0x1d, 0x9a, 0xd1,\n",
            "  0xd2, 0x27, 0xcf, 0xf3, 0xce, 0x03, 0xe3, 0xf3, 0x0c, 0xfc, 0x0d, 0xfe,\n",
            "  0x0a, 0x05, 0xed, 0x19, 0x0f, 0xcb, 0x15, 0xf1, 0x2b, 0xe3, 0x10, 0xe9,\n",
            "  0x1d, 0x09, 0x09, 0x25, 0x09, 0x28, 0x0a, 0xf4, 0xd8, 0xfb, 0xff, 0xf0,\n",
            "  0xe9, 0x0a, 0xc7, 0x03, 0x03, 0x17, 0xf1, 0x00, 0x0c, 0x04, 0xcb, 0x0b,\n",
            "  0xcb, 0x02, 0x13, 0x07, 0xd3, 0xea, 0xf4, 0xe1, 0x08, 0xd7, 0xfb, 0xea,\n",
            "  0x1c, 0xf2, 0x29, 0x1a, 0x21, 0xf8, 0xf6, 0xfa, 0xea, 0x27, 0xee, 0x1b,\n",
            "  0xce, 0xd5, 0xf2, 0x08, 0xfe, 0xcb, 0xc7, 0xf8, 0x1a, 0xdb, 0x0f, 0xfd,\n",
            "  0xe4, 0x38, 0xeb, 0x0f, 0xc3, 0xfd, 0x00, 0xe9, 0xee, 0xea, 0xb2, 0xed,\n",
            "  0xf3, 0xfc, 0xf1, 0x01, 0xef, 0x03, 0xee, 0x08, 0xd7, 0xc1, 0x0c, 0xc1,\n",
            "  0x10, 0xc2, 0x1f, 0x1e, 0x16, 0xec, 0x12, 0xfa, 0xcb, 0x05, 0x9f, 0xf3,\n",
            "  0xf4, 0x14, 0xfe, 0xff, 0x0a, 0x0d, 0xdd, 0x0f, 0xf6, 0xf0, 0xf2, 0x0c,\n",
            "  0x0c, 0xce, 0x05, 0xe2, 0x0d, 0x0b, 0x07, 0x00, 0x0a, 0x14, 0x19, 0x11,\n",
            "  0x03, 0xeb, 0x0b, 0x04, 0x00, 0x00, 0x06, 0x00, 0x08, 0x00, 0x04, 0x00,\n",
            "  0x06, 0x00, 0x00, 0x00, 0x04, 0x00, 0x00, 0x00, 0x2c, 0x00, 0x00, 0x00,\n",
            "  0x95, 0xff, 0xff, 0xff, 0xaa, 0x00, 0x00, 0x00, 0x60, 0x00, 0x00, 0x00,\n",
            "  0xd8, 0xfd, 0xff, 0xff, 0x53, 0xff, 0xff, 0xff, 0x3a, 0xff, 0xff, 0xff,\n",
            "  0x7f, 0x03, 0x00, 0x00, 0x30, 0x03, 0x00, 0x00, 0x40, 0x00, 0x00, 0x00,\n",
            "  0xb5, 0xff, 0xff, 0xff, 0x97, 0xfd, 0xff, 0xff, 0x80, 0xff, 0xff, 0xff,\n",
            "  0x84, 0xff, 0xff, 0xff, 0x0f, 0x00, 0x00, 0x00, 0x4d, 0x4c, 0x49, 0x52,\n",
            "  0x20, 0x43, 0x6f, 0x6e, 0x76, 0x65, 0x72, 0x74, 0x65, 0x64, 0x2e, 0x00,\n",
            "  0x01, 0x00, 0x00, 0x00, 0x14, 0x00, 0x00, 0x00, 0x00, 0x00, 0x0e, 0x00,\n",
            "  0x18, 0x00, 0x14, 0x00, 0x10, 0x00, 0x0c, 0x00, 0x08, 0x00, 0x04, 0x00,\n",
            "  0x0e, 0x00, 0x00, 0x00, 0x14, 0x00, 0x00, 0x00, 0x1c, 0x00, 0x00, 0x00,\n",
            "  0x14, 0x01, 0x00, 0x00, 0x18, 0x01, 0x00, 0x00, 0x1c, 0x01, 0x00, 0x00,\n",
            "  0x04, 0x00, 0x00, 0x00, 0x6d, 0x61, 0x69, 0x6e, 0x00, 0x00, 0x00, 0x00,\n",
            "  0x04, 0x00, 0x00, 0x00, 0xbc, 0x00, 0x00, 0x00, 0x74, 0x00, 0x00, 0x00,\n",
            "  0x3c, 0x00, 0x00, 0x00, 0x04, 0x00, 0x00, 0x00, 0x62, 0xff, 0xff, 0xff,\n",
            "  0x14, 0x00, 0x00, 0x00, 0x00, 0x00, 0x00, 0x08, 0x10, 0x00, 0x00, 0x00,\n",
            "  0x14, 0x00, 0x00, 0x00, 0x04, 0x00, 0x04, 0x00, 0x04, 0x00, 0x00, 0x00,\n",
            "  0x01, 0x00, 0x00, 0x00, 0x0c, 0x00, 0x00, 0x00, 0x03, 0x00, 0x00, 0x00,\n",
            "  0x0b, 0x00, 0x00, 0x00, 0x02, 0x00, 0x00, 0x00, 0x01, 0x00, 0x00, 0x00,\n",
            "  0x96, 0xff, 0xff, 0xff, 0x10, 0x00, 0x00, 0x00, 0x00, 0x00, 0x00, 0x08,\n",
            "  0x10, 0x00, 0x00, 0x00, 0x14, 0x00, 0x00, 0x00, 0x86, 0xff, 0xff, 0xff,\n",
            "  0x00, 0x00, 0x00, 0x01, 0x01, 0x00, 0x00, 0x00, 0x0b, 0x00, 0x00, 0x00,\n",
            "  0x03, 0x00, 0x00, 0x00, 0x0a, 0x00, 0x00, 0x00, 0x04, 0x00, 0x00, 0x00,\n",
            "  0x03, 0x00, 0x00, 0x00, 0xca, 0xff, 0xff, 0xff, 0x10, 0x00, 0x00, 0x00,\n",
            "  0x00, 0x00, 0x00, 0x08, 0x10, 0x00, 0x00, 0x00, 0x14, 0x00, 0x00, 0x00,\n",
            "  0xba, 0xff, 0xff, 0xff, 0x00, 0x00, 0x00, 0x01, 0x01, 0x00, 0x00, 0x00,\n",
            "  0x0a, 0x00, 0x00, 0x00, 0x03, 0x00, 0x00, 0x00, 0x09, 0x00, 0x00, 0x00,\n",
            "  0x06, 0x00, 0x00, 0x00, 0x05, 0x00, 0x00, 0x00, 0x00, 0x00, 0x0e, 0x00,\n",
            "  0x16, 0x00, 0x00, 0x00, 0x10, 0x00, 0x0c, 0x00, 0x0b, 0x00, 0x04, 0x00,\n",
            "  0x0e, 0x00, 0x00, 0x00, 0x18, 0x00, 0x00, 0x00, 0x00, 0x00, 0x00, 0x08,\n",
            "  0x18, 0x00, 0x00, 0x00, 0x1c, 0x00, 0x00, 0x00, 0x00, 0x00, 0x06, 0x00,\n",
            "  0x08, 0x00, 0x07, 0x00, 0x06, 0x00, 0x00, 0x00, 0x00, 0x00, 0x00, 0x01,\n",
            "  0x01, 0x00, 0x00, 0x00, 0x09, 0x00, 0x00, 0x00, 0x03, 0x00, 0x00, 0x00,\n",
            "  0x00, 0x00, 0x00, 0x00, 0x08, 0x00, 0x00, 0x00, 0x07, 0x00, 0x00, 0x00,\n",
            "  0x01, 0x00, 0x00, 0x00, 0x0c, 0x00, 0x00, 0x00, 0x01, 0x00, 0x00, 0x00,\n",
            "  0x00, 0x00, 0x00, 0x00, 0x0d, 0x00, 0x00, 0x00, 0x58, 0x06, 0x00, 0x00,\n",
            "  0xc8, 0x05, 0x00, 0x00, 0x44, 0x05, 0x00, 0x00, 0xc8, 0x04, 0x00, 0x00,\n",
            "  0x5c, 0x04, 0x00, 0x00, 0xe0, 0x03, 0x00, 0x00, 0x74, 0x03, 0x00, 0x00,\n",
            "  0x00, 0x03, 0x00, 0x00, 0x94, 0x02, 0x00, 0x00, 0xe8, 0x01, 0x00, 0x00,\n",
            "  0x34, 0x01, 0x00, 0x00, 0x80, 0x00, 0x00, 0x00, 0x04, 0x00, 0x00, 0x00,\n",
            "  0xf2, 0xf9, 0xff, 0xff, 0x00, 0x00, 0x00, 0x01, 0x18, 0x00, 0x00, 0x00,\n",
            "  0x20, 0x00, 0x00, 0x00, 0x3c, 0x00, 0x00, 0x00, 0x0d, 0x00, 0x00, 0x00,\n",
            "  0x00, 0x00, 0x00, 0x09, 0x50, 0x00, 0x00, 0x00, 0x02, 0x00, 0x00, 0x00,\n",
            "  0xff, 0xff, 0xff, 0xff, 0x0b, 0x00, 0x00, 0x00, 0xdc, 0xf9, 0xff, 0xff,\n",
            "  0x08, 0x00, 0x00, 0x00, 0x10, 0x00, 0x00, 0x00, 0x01, 0x00, 0x00, 0x00,\n",
            "  0x1d, 0x00, 0x00, 0x00, 0x00, 0x00, 0x00, 0x00, 0x01, 0x00, 0x00, 0x00,\n",
            "  0xfd, 0xfe, 0x82, 0x3e, 0x19, 0x00, 0x00, 0x00, 0x53, 0x74, 0x61, 0x74,\n",
            "  0x65, 0x66, 0x75, 0x6c, 0x50, 0x61, 0x72, 0x74, 0x69, 0x74, 0x69, 0x6f,\n",
            "  0x6e, 0x65, 0x64, 0x43, 0x61, 0x6c, 0x6c, 0x3a, 0x30, 0x00, 0x00, 0x00,\n",
            "  0x02, 0x00, 0x00, 0x00, 0x01, 0x00, 0x00, 0x00, 0x0b, 0x00, 0x00, 0x00,\n",
            "  0x6a, 0xfa, 0xff, 0xff, 0x00, 0x00, 0x00, 0x01, 0x18, 0x00, 0x00, 0x00,\n",
            "  0x20, 0x00, 0x00, 0x00, 0x40, 0x00, 0x00, 0x00, 0x0c, 0x00, 0x00, 0x00,\n",
            "  0x00, 0x00, 0x00, 0x09, 0x88, 0x00, 0x00, 0x00, 0x02, 0x00, 0x00, 0x00,\n",
            "  0xff, 0xff, 0xff, 0xff, 0x10, 0x00, 0x00, 0x00, 0x54, 0xfa, 0xff, 0xff,\n",
            "  0x08, 0x00, 0x00, 0x00, 0x14, 0x00, 0x00, 0x00, 0x01, 0x00, 0x00, 0x00,\n",
            "  0x80, 0xff, 0xff, 0xff, 0xff, 0xff, 0xff, 0xff, 0x00, 0x00, 0x00, 0x00,\n",
            "  0x01, 0x00, 0x00, 0x00, 0x70, 0xe7, 0x01, 0x3d, 0x4c, 0x00, 0x00, 0x00,\n",
            "  0x73, 0x65, 0x71, 0x75, 0x65, 0x6e, 0x74, 0x69, 0x61, 0x6c, 0x2f, 0x64,\n",
            "  0x65, 0x6e, 0x73, 0x65, 0x5f, 0x32, 0x2f, 0x4d, 0x61, 0x74, 0x4d, 0x75,\n",
            "  0x6c, 0x3b, 0x73, 0x65, 0x71, 0x75, 0x65, 0x6e, 0x74, 0x69, 0x61, 0x6c,\n",
            "  0x2f, 0x64, 0x65, 0x6e, 0x73, 0x65, 0x5f, 0x32, 0x2f, 0x52, 0x65, 0x6c,\n",
            "  0x75, 0x3b, 0x73, 0x65, 0x71, 0x75, 0x65, 0x6e, 0x74, 0x69, 0x61, 0x6c,\n",
            "  0x2f, 0x64, 0x65, 0x6e, 0x73, 0x65, 0x5f, 0x32, 0x2f, 0x42, 0x69, 0x61,\n",
            "  0x73, 0x41, 0x64, 0x64, 0x00, 0x00, 0x00, 0x00, 0x02, 0x00, 0x00, 0x00,\n",
            "  0x01, 0x00, 0x00, 0x00, 0x10, 0x00, 0x00, 0x00, 0x1a, 0xfb, 0xff, 0xff,\n",
            "  0x00, 0x00, 0x00, 0x01, 0x18, 0x00, 0x00, 0x00, 0x20, 0x00, 0x00, 0x00,\n",
            "  0x40, 0x00, 0x00, 0x00, 0x0b, 0x00, 0x00, 0x00, 0x00, 0x00, 0x00, 0x09,\n",
            "  0x88, 0x00, 0x00, 0x00, 0x02, 0x00, 0x00, 0x00, 0xff, 0xff, 0xff, 0xff,\n",
            "  0x1e, 0x00, 0x00, 0x00, 0x04, 0xfb, 0xff, 0xff, 0x08, 0x00, 0x00, 0x00,\n",
            "  0x14, 0x00, 0x00, 0x00, 0x01, 0x00, 0x00, 0x00, 0x80, 0xff, 0xff, 0xff,\n",
            "  0xff, 0xff, 0xff, 0xff, 0x00, 0x00, 0x00, 0x00, 0x01, 0x00, 0x00, 0x00,\n",
            "  0x74, 0x32, 0x15, 0x3c, 0x4c, 0x00, 0x00, 0x00, 0x73, 0x65, 0x71, 0x75,\n",
            "  0x65, 0x6e, 0x74, 0x69, 0x61, 0x6c, 0x2f, 0x64, 0x65, 0x6e, 0x73, 0x65,\n",
            "  0x5f, 0x31, 0x2f, 0x4d, 0x61, 0x74, 0x4d, 0x75, 0x6c, 0x3b, 0x73, 0x65,\n",
            "  0x71, 0x75, 0x65, 0x6e, 0x74, 0x69, 0x61, 0x6c, 0x2f, 0x64, 0x65, 0x6e,\n",
            "  0x73, 0x65, 0x5f, 0x31, 0x2f, 0x52, 0x65, 0x6c, 0x75, 0x3b, 0x73, 0x65,\n",
            "  0x71, 0x75, 0x65, 0x6e, 0x74, 0x69, 0x61, 0x6c, 0x2f, 0x64, 0x65, 0x6e,\n",
            "  0x73, 0x65, 0x5f, 0x31, 0x2f, 0x42, 0x69, 0x61, 0x73, 0x41, 0x64, 0x64,\n",
            "  0x00, 0x00, 0x00, 0x00, 0x02, 0x00, 0x00, 0x00, 0x01, 0x00, 0x00, 0x00,\n",
            "  0x1e, 0x00, 0x00, 0x00, 0xca, 0xfb, 0xff, 0xff, 0x00, 0x00, 0x00, 0x01,\n",
            "  0x18, 0x00, 0x00, 0x00, 0x20, 0x00, 0x00, 0x00, 0x40, 0x00, 0x00, 0x00,\n",
            "  0x0a, 0x00, 0x00, 0x00, 0x00, 0x00, 0x00, 0x09, 0x80, 0x00, 0x00, 0x00,\n",
            "  0x02, 0x00, 0x00, 0x00, 0xff, 0xff, 0xff, 0xff, 0x03, 0x00, 0x00, 0x00,\n",
            "  0xb4, 0xfb, 0xff, 0xff, 0x08, 0x00, 0x00, 0x00, 0x14, 0x00, 0x00, 0x00,\n",
            "  0x01, 0x00, 0x00, 0x00, 0x80, 0xff, 0xff, 0xff, 0xff, 0xff, 0xff, 0xff,\n",
            "  0x00, 0x00, 0x00, 0x00, 0x01, 0x00, 0x00, 0x00, 0x09, 0x3f, 0xf5, 0x3b,\n",
            "  0x46, 0x00, 0x00, 0x00, 0x73, 0x65, 0x71, 0x75, 0x65, 0x6e, 0x74, 0x69,\n",
            "  0x61, 0x6c, 0x2f, 0x64, 0x65, 0x6e, 0x73, 0x65, 0x2f, 0x4d, 0x61, 0x74,\n",
            "  0x4d, 0x75, 0x6c, 0x3b, 0x73, 0x65, 0x71, 0x75, 0x65, 0x6e, 0x74, 0x69,\n",
            "  0x61, 0x6c, 0x2f, 0x64, 0x65, 0x6e, 0x73, 0x65, 0x2f, 0x52, 0x65, 0x6c,\n",
            "  0x75, 0x3b, 0x73, 0x65, 0x71, 0x75, 0x65, 0x6e, 0x74, 0x69, 0x61, 0x6c,\n",
            "  0x2f, 0x64, 0x65, 0x6e, 0x73, 0x65, 0x2f, 0x42, 0x69, 0x61, 0x73, 0x41,\n",
            "  0x64, 0x64, 0x00, 0x00, 0x02, 0x00, 0x00, 0x00, 0x01, 0x00, 0x00, 0x00,\n",
            "  0x03, 0x00, 0x00, 0x00, 0xfe, 0xfc, 0xff, 0xff, 0x00, 0x00, 0x00, 0x01,\n",
            "  0x14, 0x00, 0x00, 0x00, 0x34, 0x00, 0x00, 0x00, 0x09, 0x00, 0x00, 0x00,\n",
            "  0x00, 0x00, 0x00, 0x09, 0x44, 0x00, 0x00, 0x00, 0x4c, 0xfc, 0xff, 0xff,\n",
            "  0x08, 0x00, 0x00, 0x00, 0x14, 0x00, 0x00, 0x00, 0x01, 0x00, 0x00, 0x00,\n",
            "  0x00, 0x00, 0x00, 0x00, 0x00, 0x00, 0x00, 0x00, 0x00, 0x00, 0x00, 0x00,\n",
            "  0x01, 0x00, 0x00, 0x00, 0x05, 0xc5, 0x30, 0x3c, 0x17, 0x00, 0x00, 0x00,\n",
            "  0x73, 0x65, 0x71, 0x75, 0x65, 0x6e, 0x74, 0x69, 0x61, 0x6c, 0x2f, 0x64,\n",
            "  0x65, 0x6e, 0x73, 0x65, 0x2f, 0x4d, 0x61, 0x74, 0x4d, 0x75, 0x6c, 0x00,\n",
            "  0x02, 0x00, 0x00, 0x00, 0x03, 0x00, 0x00, 0x00, 0x03, 0x00, 0x00, 0x00,\n",
            "  0x66, 0xfd, 0xff, 0xff, 0x00, 0x00, 0x00, 0x01, 0x14, 0x00, 0x00, 0x00,\n",
            "  0x30, 0x00, 0x00, 0x00, 0x08, 0x00, 0x00, 0x00, 0x00, 0x00, 0x00, 0x02,\n",
            "  0x50, 0x00, 0x00, 0x00, 0xb4, 0xfc, 0xff, 0xff, 0x08, 0x00, 0x00, 0x00,\n",
            "  0x10, 0x00, 0x00, 0x00, 0x01, 0x00, 0x00, 0x00, 0x00, 0x00, 0x00, 0x00,\n",
            "  0x00, 0x00, 0x00, 0x00, 0x01, 0x00, 0x00, 0x00, 0x7c, 0x76, 0x31, 0x38,\n",
            "  0x27, 0x00, 0x00, 0x00, 0x73, 0x65, 0x71, 0x75, 0x65, 0x6e, 0x74, 0x69,\n",
            "  0x61, 0x6c, 0x2f, 0x64, 0x65, 0x6e, 0x73, 0x65, 0x2f, 0x42, 0x69, 0x61,\n",
            "  0x73, 0x41, 0x64, 0x64, 0x2f, 0x52, 0x65, 0x61, 0x64, 0x56, 0x61, 0x72,\n",
            "  0x69, 0x61, 0x62, 0x6c, 0x65, 0x4f, 0x70, 0x00, 0x01, 0x00, 0x00, 0x00,\n",
            "  0x03, 0x00, 0x00, 0x00, 0xd6, 0xfd, 0xff, 0xff, 0x00, 0x00, 0x00, 0x01,\n",
            "  0x14, 0x00, 0x00, 0x00, 0x30, 0x00, 0x00, 0x00, 0x07, 0x00, 0x00, 0x00,\n",
            "  0x00, 0x00, 0x00, 0x09, 0x44, 0x00, 0x00, 0x00, 0x24, 0xfd, 0xff, 0xff,\n",
            "  0x08, 0x00, 0x00, 0x00, 0x10, 0x00, 0x00, 0x00, 0x01, 0x00, 0x00, 0x00,\n",
            "  0x00, 0x00, 0x00, 0x00, 0x00, 0x00, 0x00, 0x00, 0x01, 0x00, 0x00, 0x00,\n",
            "  0x4b, 0x9a, 0x33, 0x3c, 0x19, 0x00, 0x00, 0x00, 0x73, 0x65, 0x71, 0x75,\n",
            "  0x65, 0x6e, 0x74, 0x69, 0x61, 0x6c, 0x2f, 0x64, 0x65, 0x6e, 0x73, 0x65,\n",
            "  0x5f, 0x31, 0x2f, 0x4d, 0x61, 0x74, 0x4d, 0x75, 0x6c, 0x00, 0x00, 0x00,\n",
            "  0x02, 0x00, 0x00, 0x00, 0x1e, 0x00, 0x00, 0x00, 0x03, 0x00, 0x00, 0x00,\n",
            "  0x3e, 0xfe, 0xff, 0xff, 0x00, 0x00, 0x00, 0x01, 0x14, 0x00, 0x00, 0x00,\n",
            "  0x34, 0x00, 0x00, 0x00, 0x06, 0x00, 0x00, 0x00, 0x00, 0x00, 0x00, 0x02,\n",
            "  0x58, 0x00, 0x00, 0x00, 0x8c, 0xfd, 0xff, 0xff, 0x08, 0x00, 0x00, 0x00,\n",
            "  0x14, 0x00, 0x00, 0x00, 0x01, 0x00, 0x00, 0x00, 0x00, 0x00, 0x00, 0x00,\n",
            "  0x00, 0x00, 0x00, 0x00, 0x00, 0x00, 0x00, 0x00, 0x01, 0x00, 0x00, 0x00,\n",
            "  0xe3, 0x0e, 0xac, 0x38, 0x29, 0x00, 0x00, 0x00, 0x73, 0x65, 0x71, 0x75,\n",
            "  0x65, 0x6e, 0x74, 0x69, 0x61, 0x6c, 0x2f, 0x64, 0x65, 0x6e, 0x73, 0x65,\n",
            "  0x5f, 0x31, 0x2f, 0x42, 0x69, 0x61, 0x73, 0x41, 0x64, 0x64, 0x2f, 0x52,\n",
            "  0x65, 0x61, 0x64, 0x56, 0x61, 0x72, 0x69, 0x61, 0x62, 0x6c, 0x65, 0x4f,\n",
            "  0x70, 0x00, 0x00, 0x00, 0x01, 0x00, 0x00, 0x00, 0x1e, 0x00, 0x00, 0x00,\n",
            "  0xb6, 0xfe, 0xff, 0xff, 0x00, 0x00, 0x00, 0x01, 0x14, 0x00, 0x00, 0x00,\n",
            "  0x30, 0x00, 0x00, 0x00, 0x05, 0x00, 0x00, 0x00, 0x00, 0x00, 0x00, 0x09,\n",
            "  0x44, 0x00, 0x00, 0x00, 0x04, 0xfe, 0xff, 0xff, 0x08, 0x00, 0x00, 0x00,\n",
            "  0x10, 0x00, 0x00, 0x00, 0x01, 0x00, 0x00, 0x00, 0x00, 0x00, 0x00, 0x00,\n",
            "  0x00, 0x00, 0x00, 0x00, 0x01, 0x00, 0x00, 0x00, 0x65, 0xac, 0x1f, 0x3c,\n",
            "  0x19, 0x00, 0x00, 0x00, 0x73, 0x65, 0x71, 0x75, 0x65, 0x6e, 0x74, 0x69,\n",
            "  0x61, 0x6c, 0x2f, 0x64, 0x65, 0x6e, 0x73, 0x65, 0x5f, 0x32, 0x2f, 0x4d,\n",
            "  0x61, 0x74, 0x4d, 0x75, 0x6c, 0x00, 0x00, 0x00, 0x02, 0x00, 0x00, 0x00,\n",
            "  0x10, 0x00, 0x00, 0x00, 0x1e, 0x00, 0x00, 0x00, 0x1e, 0xff, 0xff, 0xff,\n",
            "  0x00, 0x00, 0x00, 0x01, 0x14, 0x00, 0x00, 0x00, 0x34, 0x00, 0x00, 0x00,\n",
            "  0x04, 0x00, 0x00, 0x00, 0x00, 0x00, 0x00, 0x02, 0x58, 0x00, 0x00, 0x00,\n",
            "  0x6c, 0xfe, 0xff, 0xff, 0x08, 0x00, 0x00, 0x00, 0x14, 0x00, 0x00, 0x00,\n",
            "  0x01, 0x00, 0x00, 0x00, 0x00, 0x00, 0x00, 0x00, 0x00, 0x00, 0x00, 0x00,\n",
            "  0x00, 0x00, 0x00, 0x00, 0x01, 0x00, 0x00, 0x00, 0x9e, 0x1d, 0xba, 0x38,\n",
            "  0x29, 0x00, 0x00, 0x00, 0x73, 0x65, 0x71, 0x75, 0x65, 0x6e, 0x74, 0x69,\n",
            "  0x61, 0x6c, 0x2f, 0x64, 0x65, 0x6e, 0x73, 0x65, 0x5f, 0x32, 0x2f, 0x42,\n",
            "  0x69, 0x61, 0x73, 0x41, 0x64, 0x64, 0x2f, 0x52, 0x65, 0x61, 0x64, 0x56,\n",
            "  0x61, 0x72, 0x69, 0x61, 0x62, 0x6c, 0x65, 0x4f, 0x70, 0x00, 0x00, 0x00,\n",
            "  0x01, 0x00, 0x00, 0x00, 0x10, 0x00, 0x00, 0x00, 0x96, 0xff, 0xff, 0xff,\n",
            "  0x00, 0x00, 0x00, 0x01, 0x14, 0x00, 0x00, 0x00, 0x30, 0x00, 0x00, 0x00,\n",
            "  0x03, 0x00, 0x00, 0x00, 0x00, 0x00, 0x00, 0x09, 0x44, 0x00, 0x00, 0x00,\n",
            "  0xe4, 0xfe, 0xff, 0xff, 0x08, 0x00, 0x00, 0x00, 0x10, 0x00, 0x00, 0x00,\n",
            "  0x01, 0x00, 0x00, 0x00, 0x00, 0x00, 0x00, 0x00, 0x00, 0x00, 0x00, 0x00,\n",
            "  0x01, 0x00, 0x00, 0x00, 0xb8, 0xcc, 0xc0, 0x3c, 0x19, 0x00, 0x00, 0x00,\n",
            "  0x73, 0x65, 0x71, 0x75, 0x65, 0x6e, 0x74, 0x69, 0x61, 0x6c, 0x2f, 0x64,\n",
            "  0x65, 0x6e, 0x73, 0x65, 0x5f, 0x33, 0x2f, 0x4d, 0x61, 0x74, 0x4d, 0x75,\n",
            "  0x6c, 0x00, 0x00, 0x00, 0x02, 0x00, 0x00, 0x00, 0x0b, 0x00, 0x00, 0x00,\n",
            "  0x10, 0x00, 0x00, 0x00, 0x00, 0x00, 0x16, 0x00, 0x1c, 0x00, 0x18, 0x00,\n",
            "  0x17, 0x00, 0x10, 0x00, 0x0c, 0x00, 0x08, 0x00, 0x00, 0x00, 0x00, 0x00,\n",
            "  0x00, 0x00, 0x07, 0x00, 0x16, 0x00, 0x00, 0x00, 0x00, 0x00, 0x00, 0x01,\n",
            "  0x14, 0x00, 0x00, 0x00, 0x30, 0x00, 0x00, 0x00, 0x02, 0x00, 0x00, 0x00,\n",
            "  0x00, 0x00, 0x00, 0x02, 0x54, 0x00, 0x00, 0x00, 0x64, 0xff, 0xff, 0xff,\n",
            "  0x08, 0x00, 0x00, 0x00, 0x10, 0x00, 0x00, 0x00, 0x01, 0x00, 0x00, 0x00,\n",
            "  0x00, 0x00, 0x00, 0x00, 0x00, 0x00, 0x00, 0x00, 0x01, 0x00, 0x00, 0x00,\n",
            "  0xec, 0xaa, 0x43, 0x3a, 0x29, 0x00, 0x00, 0x00, 0x73, 0x65, 0x71, 0x75,\n",
            "  0x65, 0x6e, 0x74, 0x69, 0x61, 0x6c, 0x2f, 0x64, 0x65, 0x6e, 0x73, 0x65,\n",
            "  0x5f, 0x33, 0x2f, 0x42, 0x69, 0x61, 0x73, 0x41, 0x64, 0x64, 0x2f, 0x52,\n",
            "  0x65, 0x61, 0x64, 0x56, 0x61, 0x72, 0x69, 0x61, 0x62, 0x6c, 0x65, 0x4f,\n",
            "  0x70, 0x00, 0x00, 0x00, 0x01, 0x00, 0x00, 0x00, 0x0b, 0x00, 0x00, 0x00,\n",
            "  0x00, 0x00, 0x16, 0x00, 0x20, 0x00, 0x1c, 0x00, 0x1b, 0x00, 0x14, 0x00,\n",
            "  0x10, 0x00, 0x0c, 0x00, 0x00, 0x00, 0x00, 0x00, 0x08, 0x00, 0x07, 0x00,\n",
            "  0x16, 0x00, 0x00, 0x00, 0x00, 0x00, 0x00, 0x01, 0x18, 0x00, 0x00, 0x00,\n",
            "  0x2c, 0x00, 0x00, 0x00, 0x4c, 0x00, 0x00, 0x00, 0x01, 0x00, 0x00, 0x00,\n",
            "  0x00, 0x00, 0x00, 0x09, 0x64, 0x00, 0x00, 0x00, 0x02, 0x00, 0x00, 0x00,\n",
            "  0xff, 0xff, 0xff, 0xff, 0x03, 0x00, 0x00, 0x00, 0x0c, 0x00, 0x0c, 0x00,\n",
            "  0x00, 0x00, 0x00, 0x00, 0x08, 0x00, 0x04, 0x00, 0x0c, 0x00, 0x00, 0x00,\n",
            "  0x08, 0x00, 0x00, 0x00, 0x14, 0x00, 0x00, 0x00, 0x01, 0x00, 0x00, 0x00,\n",
            "  0x80, 0xff, 0xff, 0xff, 0xff, 0xff, 0xff, 0xff, 0x00, 0x00, 0x00, 0x00,\n",
            "  0x01, 0x00, 0x00, 0x00, 0x81, 0x80, 0x80, 0x3b, 0x1d, 0x00, 0x00, 0x00,\n",
            "  0x73, 0x65, 0x72, 0x76, 0x69, 0x6e, 0x67, 0x5f, 0x64, 0x65, 0x66, 0x61,\n",
            "  0x75, 0x6c, 0x74, 0x5f, 0x64, 0x65, 0x6e, 0x73, 0x65, 0x5f, 0x69, 0x6e,\n",
            "  0x70, 0x75, 0x74, 0x3a, 0x30, 0x00, 0x00, 0x00, 0x02, 0x00, 0x00, 0x00,\n",
            "  0x01, 0x00, 0x00, 0x00, 0x03, 0x00, 0x00, 0x00, 0x01, 0x00, 0x00, 0x00,\n",
            "  0x10, 0x00, 0x00, 0x00, 0x0c, 0x00, 0x10, 0x00, 0x0f, 0x00, 0x00, 0x00,\n",
            "  0x08, 0x00, 0x04, 0x00, 0x0c, 0x00, 0x00, 0x00, 0x09, 0x00, 0x00, 0x00,\n",
            "  0x04, 0x00, 0x00, 0x00, 0x00, 0x00, 0x00, 0x09\n",
            "};\n",
            "unsigned int models_model_tflite_len = 3752;\n"
          ]
        }
      ]
    }
  ],
  "metadata": {
    "colab": {
      "collapsed_sections": [
        "P9LUhKp92c1Y",
        "RTAQIHTG2rbP",
        "Ec8E9OGz1K3m",
        "sSILVr4-m71s",
        "VtOxFMgsHp5a",
        "6TnTxmUCWEyp"
      ],
      "toc_visible": true,
      "provenance": []
    },
    "kernelspec": {
      "display_name": "Python 3",
      "name": "python3"
    },
    "language_info": {
      "name": "python"
    },
    "gpuClass": "standard"
  },
  "nbformat": 4,
  "nbformat_minor": 0
}