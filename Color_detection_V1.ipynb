{
 "cells": [
  {
   "cell_type": "markdown",
   "metadata": {
    "id": "dj2f4hAh_ZNe"
   },
   "source": [
    "# Model for color detection"
   ]
  },
  {
   "cell_type": "markdown",
   "metadata": {
    "id": "O6o1Hy4V_Wff"
   },
   "source": [
    "## Import libraries"
   ]
  },
  {
   "cell_type": "code",
   "execution_count": 2,
   "metadata": {
    "colab": {
     "base_uri": "https://localhost:8080/"
    },
    "id": "nXxNGEWA_U3a",
    "outputId": "732d2aff-7c58-4ca3-89bb-a46afa2de8c9"
   },
   "outputs": [
    {
     "ename": "ModuleNotFoundError",
     "evalue": "No module named 'google.colab'",
     "output_type": "error",
     "traceback": [
      "\u001b[0;31m---------------------------------------------------------------------------\u001b[0m",
      "\u001b[0;31mModuleNotFoundError\u001b[0m                       Traceback (most recent call last)",
      "Cell \u001b[0;32mIn[2], line 13\u001b[0m\n\u001b[1;32m     10\u001b[0m \u001b[38;5;28;01mfrom\u001b[39;00m \u001b[38;5;21;01msklearn\u001b[39;00m\u001b[38;5;21;01m.\u001b[39;00m\u001b[38;5;21;01mmodel_selection\u001b[39;00m \u001b[38;5;28;01mimport\u001b[39;00m GridSearchCV\n\u001b[1;32m     11\u001b[0m \u001b[38;5;28;01mfrom\u001b[39;00m \u001b[38;5;21;01msklearn\u001b[39;00m\u001b[38;5;21;01m.\u001b[39;00m\u001b[38;5;21;01mmetrics\u001b[39;00m \u001b[38;5;28;01mimport\u001b[39;00m confusion_matrix, accuracy_score, f1_score, ConfusionMatrixDisplay, recall_score, classification_report\n\u001b[0;32m---> 13\u001b[0m \u001b[38;5;28;01mfrom\u001b[39;00m \u001b[38;5;21;01mgoogle\u001b[39;00m\u001b[38;5;21;01m.\u001b[39;00m\u001b[38;5;21;01mcolab\u001b[39;00m \u001b[38;5;28;01mimport\u001b[39;00m drive\n\u001b[1;32m     14\u001b[0m drive\u001b[38;5;241m.\u001b[39mmount(\u001b[38;5;124m'\u001b[39m\u001b[38;5;124m/content/drive\u001b[39m\u001b[38;5;124m'\u001b[39m)\n\u001b[1;32m     16\u001b[0m seed \u001b[38;5;241m=\u001b[39m \u001b[38;5;241m157\u001b[39m \u001b[38;5;66;03m# fix randomisation\u001b[39;00m\n",
      "\u001b[0;31mModuleNotFoundError\u001b[0m: No module named 'google.colab'"
     ]
    }
   ],
   "source": [
    "import numpy as np\n",
    "import pandas as pd\n",
    "import math\n",
    "import tensorflow as tf\n",
    "from tensorflow import keras\n",
    "import matplotlib.pyplot as plt\n",
    "from sklearn.utils import shuffle\n",
    "from sklearn.model_selection import train_test_split\n",
    "from tensorflow.keras import layers, regularizers\n",
    "from sklearn.model_selection import GridSearchCV\n",
    "from sklearn.metrics import confusion_matrix, accuracy_score, f1_score, ConfusionMatrixDisplay, recall_score, classification_report\n",
    "\n",
    "from google.colab import drive\n",
    "drive.mount('/content/drive')\n",
    "\n",
    "seed = 157 # fix randomisation\n",
    "np.random.seed(seed)\n",
    "tf.random.set_seed(seed)"
   ]
  },
  {
   "cell_type": "code",
   "execution_count": null,
   "metadata": {
    "colab": {
     "base_uri": "https://localhost:8080/"
    },
    "id": "NgB8tBz095pl",
    "outputId": "0be19b75-d87e-4456-cd8b-09f01e187405"
   },
   "outputs": [],
   "source": [
    "pip install scikeras"
   ]
  },
  {
   "cell_type": "code",
   "execution_count": null,
   "metadata": {
    "id": "hQGVJ1RGCO87"
   },
   "outputs": [],
   "source": [
    "from scikeras.wrappers import KerasClassifier"
   ]
  },
  {
   "cell_type": "markdown",
   "metadata": {
    "id": "FAx4_wPT_kir"
   },
   "source": [
    "## Import dataset"
   ]
  },
  {
   "cell_type": "code",
   "execution_count": null,
   "metadata": {
    "id": "UV5cHyMj_VaB"
   },
   "outputs": [],
   "source": [
    "color_set = pd.read_csv('/content/drive/MyDrive/Colab Notebooks/UCL/Assessment/color_dataset.csv')"
   ]
  },
  {
   "cell_type": "markdown",
   "metadata": {
    "id": "Fs73LdNC_pFV"
   },
   "source": [
    "## Data analysis\n"
   ]
  },
  {
   "cell_type": "code",
   "execution_count": null,
   "metadata": {
    "colab": {
     "base_uri": "https://localhost:8080/"
    },
    "id": "yziEOlvp_VkF",
    "outputId": "45aeb5c4-1a9b-4b97-c00a-5ddf63892eec"
   },
   "outputs": [],
   "source": [
    "color_set.info()"
   ]
  },
  {
   "cell_type": "code",
   "execution_count": null,
   "metadata": {
    "colab": {
     "base_uri": "https://localhost:8080/",
     "height": 206
    },
    "id": "wAzhs0lG_VtU",
    "outputId": "24e10a44-a18f-4e65-8459-74271a73a87a"
   },
   "outputs": [],
   "source": [
    "color_set.head()"
   ]
  },
  {
   "cell_type": "code",
   "execution_count": null,
   "metadata": {
    "colab": {
     "base_uri": "https://localhost:8080/"
    },
    "id": "p4iNJlfd_WC8",
    "outputId": "c9ec7a04-dd40-4bf4-d785-953e7ab1e86e"
   },
   "outputs": [],
   "source": [
    "color_set.columns"
   ]
  },
  {
   "cell_type": "code",
   "execution_count": null,
   "metadata": {
    "id": "5kwVVpk1_wbV"
   },
   "outputs": [],
   "source": [
    "nb_col=len(color_set.columns)"
   ]
  },
  {
   "cell_type": "markdown",
   "metadata": {
    "id": "gtkDUDRh_yJy"
   },
   "source": [
    "## Data Preprocessing\n"
   ]
  },
  {
   "cell_type": "markdown",
   "metadata": {
    "id": "rsI257xG_0kN"
   },
   "source": [
    "### Data Encoding\n",
    "Converting the label into binary variables using One-Hot Encoding as there is no order in the label"
   ]
  },
  {
   "cell_type": "code",
   "execution_count": null,
   "metadata": {
    "colab": {
     "base_uri": "https://localhost:8080/",
     "height": 270
    },
    "id": "1eFYPPA-_wYP",
    "outputId": "8d068ff8-1dff-4c1e-b678-cfe7b00f05fb"
   },
   "outputs": [],
   "source": [
    "df_colors = pd.get_dummies(color_set, columns=['label'])\n",
    "df_colors.head()"
   ]
  },
  {
   "cell_type": "markdown",
   "metadata": {
    "id": "5Z4P1dVe5kHQ"
   },
   "source": [
    "### Data Normalization\n",
    "Transform the RGB value from 0 to 255 to values from 0 to 1"
   ]
  },
  {
   "cell_type": "code",
   "execution_count": null,
   "metadata": {
    "id": "YB4UpU0d5kUQ"
   },
   "outputs": [],
   "source": [
    "df_colors['red'] = df_colors['red'] / 255.0\n",
    "df_colors['green'] = df_colors['green'] / 255.0\n",
    "df_colors['blue'] = df_colors['blue'] / 255.0"
   ]
  },
  {
   "cell_type": "code",
   "execution_count": null,
   "metadata": {
    "colab": {
     "base_uri": "https://localhost:8080/",
     "height": 270
    },
    "id": "pzZFIdbt_HyS",
    "outputId": "21a48bd8-ef50-45ee-cc00-49d1b66d0b55"
   },
   "outputs": [],
   "source": [
    "df_colors.head()"
   ]
  },
  {
   "cell_type": "markdown",
   "metadata": {
    "id": "raW5gRHB_4Q7"
   },
   "source": [
    "### Split the dataset (70/15/15)"
   ]
  },
  {
   "cell_type": "markdown",
   "metadata": {
    "id": "2lMYoy3J_6em"
   },
   "source": [
    "Splitting the dataset into 2 sets:\n",
    "  - 70% for the training set (used to get the parameters of the model)\n",
    "  - 15% for validation set (used to define the hyperparameter and avoid overfitting)\n",
    "  - 15% for test set (used to test the model on unseen data)"
   ]
  },
  {
   "cell_type": "code",
   "execution_count": null,
   "metadata": {
    "id": "uNhxRJfD_wUm"
   },
   "outputs": [],
   "source": [
    "# sample the dataset\n",
    "df = shuffle(df_colors)\n",
    "\n",
    "# split between xs an ys\n",
    "xs, ys = np.split(df.values, [3], axis=1)\n",
    "#ys = ys.reshape(-1)"
   ]
  },
  {
   "cell_type": "code",
   "execution_count": null,
   "metadata": {
    "id": "D-uosgmK_wOE"
   },
   "outputs": [],
   "source": [
    "xs_train, xs_test, ys_train, ys_test = train_test_split(xs, ys, test_size = 0.2, random_state = seed)"
   ]
  },
  {
   "cell_type": "markdown",
   "metadata": {
    "id": "yJdnsOw5sPdf"
   },
   "source": [
    "## Modelling"
   ]
  },
  {
   "cell_type": "markdown",
   "metadata": {
    "id": "dxA6pGSDxeim"
   },
   "source": [
    "### ANN"
   ]
  },
  {
   "cell_type": "markdown",
   "metadata": {
    "id": "P9LUhKp92c1Y"
   },
   "source": [
    "#### Model 1"
   ]
  },
  {
   "cell_type": "markdown",
   "metadata": {
    "id": "BNGun4Gcxfqc"
   },
   "source": [
    "Define and compile the model"
   ]
  },
  {
   "cell_type": "code",
   "execution_count": null,
   "metadata": {
    "colab": {
     "base_uri": "https://localhost:8080/"
    },
    "id": "5UuB7Xq3xlPe",
    "outputId": "089e5df0-4ead-4054-c1d4-ee1b7cc692c1"
   },
   "outputs": [],
   "source": [
    "# Parameters model 1\n",
    "nb_layers1 = 2\n",
    "activation_fct = 'relu'\n",
    "loss_function = 'mean_squared_error'\n",
    "optimizer = 'adam'\n",
    "xs_shape = len(pd.DataFrame(xs_train).keys())\n",
    "\n",
    "# model 1\n",
    "model1 = keras.Sequential([\n",
    "    layers.Dense(3, input_shape=[xs_shape], activation=activation_fct),\n",
    "    layers.Dense(16, activation = activation_fct),\n",
    "    layers.Dense(11)\n",
    "])\n",
    "model1.summary()\n",
    "\n",
    "# compile the model 1\n",
    "model1.compile(optimizer=optimizer, loss=loss_function, metrics=['accuracy'])"
   ]
  },
  {
   "cell_type": "markdown",
   "metadata": {
    "id": "tYxrUA2l2xP6"
   },
   "source": [
    "Train the model 1"
   ]
  },
  {
   "cell_type": "code",
   "execution_count": null,
   "metadata": {
    "colab": {
     "base_uri": "https://localhost:8080/"
    },
    "id": "ONOwWOgzzMMh",
    "outputId": "06356234-1e9f-499f-a106-615cd5d41cc9"
   },
   "outputs": [],
   "source": [
    "# fit the model with the Train set\n",
    "training_history1 = model1.fit(x=xs_train, y=ys_train, \n",
    "                               validation_split=0.15, epochs=200,\n",
    "                               batch_size=100)\n",
    "\n",
    "# best accuracy 0.4671"
   ]
  },
  {
   "cell_type": "code",
   "execution_count": null,
   "metadata": {
    "colab": {
     "base_uri": "https://localhost:8080/",
     "height": 206
    },
    "id": "joPsLQSe__hw",
    "outputId": "9b1d8601-21f5-45b4-8e16-908b31ed8aaa"
   },
   "outputs": [],
   "source": [
    "hist1 = pd.DataFrame(training_history1.history)\n",
    "hist1['epoch'] = training_history1.epoch\n",
    "hist1.tail()"
   ]
  },
  {
   "cell_type": "code",
   "execution_count": null,
   "metadata": {
    "colab": {
     "base_uri": "https://localhost:8080/"
    },
    "id": "ezntEzqBBnV3",
    "outputId": "6b13cdfd-a6ca-4f7c-deef-0b63a264dc9a"
   },
   "outputs": [],
   "source": [
    "# Accuracy on training sets\n",
    "accuracy_m1_train = model1.evaluate(xs_train, ys_train) # loss: 0.0329 - accuracy: 0.7606\n",
    "\n",
    "print('Accuracy on train set', accuracy_m1_train)"
   ]
  },
  {
   "cell_type": "code",
   "execution_count": null,
   "metadata": {
    "colab": {
     "base_uri": "https://localhost:8080/",
     "height": 295
    },
    "id": "niEqwWLIHGhI",
    "outputId": "2f11c9d0-3d30-4d47-8f34-8c8dde8ebb00"
   },
   "outputs": [],
   "source": [
    "plt.plot(hist1['accuracy'])\n",
    "plt.plot(hist1['val_accuracy'])\n",
    "plt.title('model accuracy')\n",
    "plt.ylabel('accuracy')\n",
    "plt.xlabel('epoch')\n",
    "plt.legend(['train', 'val'], loc='upper left')\n",
    "plt.show()"
   ]
  },
  {
   "cell_type": "markdown",
   "metadata": {
    "id": "ozf3iJrL3UtM"
   },
   "source": [
    "Evaluate and predict on the test set"
   ]
  },
  {
   "cell_type": "code",
   "execution_count": null,
   "metadata": {
    "colab": {
     "base_uri": "https://localhost:8080/"
    },
    "id": "4hFCbr3c0RdA",
    "outputId": "b00c6db9-98ae-4a06-fbd0-c98244c19ef2"
   },
   "outputs": [],
   "source": [
    "model1_test_predict = model1.evaluate(xs_test, ys_test) # loss: 0.0294 - accuracy: 0.7814"
   ]
  },
  {
   "cell_type": "code",
   "execution_count": null,
   "metadata": {
    "colab": {
     "base_uri": "https://localhost:8080/"
    },
    "id": "c2DBEX613Zqo",
    "outputId": "b5dbd4fe-c94d-4527-9a7a-1a346f89398e"
   },
   "outputs": [],
   "source": [
    "test_prediction1 = model1.predict(xs_test)\n",
    "print(\"shape is {}\".format(test_prediction1.shape))  \n",
    "test_prediction1"
   ]
  },
  {
   "cell_type": "code",
   "execution_count": null,
   "metadata": {
    "colab": {
     "base_uri": "https://localhost:8080/"
    },
    "id": "G27SvPA5_RF2",
    "outputId": "96318443-b91e-4bac-a439-37a3cd23eac7"
   },
   "outputs": [],
   "source": [
    "color_class1 = model1.predict(xs_test)\n",
    "\n",
    "print(color_class1[8])\n",
    "print(ys_test[8]) # color 2 ie blue"
   ]
  },
  {
   "cell_type": "markdown",
   "metadata": {
    "id": "RTAQIHTG2rbP"
   },
   "source": [
    "#### Model 2"
   ]
  },
  {
   "cell_type": "markdown",
   "metadata": {
    "id": "Gvl04Ftc2qg5"
   },
   "source": [
    "Define and compile the model"
   ]
  },
  {
   "cell_type": "code",
   "execution_count": null,
   "metadata": {
    "colab": {
     "base_uri": "https://localhost:8080/"
    },
    "id": "A1ZUBUkusxxm",
    "outputId": "4fc5e121-84b6-4ffa-a226-2c7556200784"
   },
   "outputs": [],
   "source": [
    "# Parameters model 2\n",
    "activation_fct = 'relu'\n",
    "loss_function = 'mean_squared_error'\n",
    "optimizer = 'adam'\n",
    "\n",
    "# model 2\n",
    "model2 = keras.Sequential([\n",
    "    layers.Dense(3, kernel_regularizer=regularizers.l2(0.001), activation=activation_fct, input_shape=[3]),\n",
    "    layers.Dense(24, kernel_regularizer=regularizers.l2(0.001), activation=activation_fct),\n",
    "    layers.Dense(24, kernel_regularizer=regularizers.l2(0.001), activation=activation_fct),\n",
    "    layers.Dense(16, kernel_regularizer=regularizers.l2(0.001), activation=activation_fct),\n",
    "    layers.Dense(11)\n",
    "  ])\n",
    "model2.summary()\n",
    "\n",
    "# compile the model 2\n",
    "model2.compile(optimizer=optimizer, loss=loss_function, metrics=['accuracy'])\n"
   ]
  },
  {
   "cell_type": "markdown",
   "metadata": {
    "id": "iQoXHeI3scOs"
   },
   "source": [
    "Train the model 2"
   ]
  },
  {
   "cell_type": "code",
   "execution_count": null,
   "metadata": {
    "colab": {
     "base_uri": "https://localhost:8080/"
    },
    "id": "Y0z1pBBWsZTZ",
    "outputId": "5c3fddb9-17d6-41d4-a0a5-fdd903506cfb"
   },
   "outputs": [],
   "source": [
    "training_history2 = model2.fit(x=xs_train, y=ys_train, \n",
    "                               validation_split=0.15, epochs=200, \n",
    "                               batch_size=100, verbose=1,\n",
    "                               #callbacks=[tfdocs.modeling.EpochDots()], \n",
    "                               shuffle=True)"
   ]
  },
  {
   "cell_type": "code",
   "execution_count": null,
   "metadata": {
    "colab": {
     "base_uri": "https://localhost:8080/",
     "height": 206
    },
    "id": "hK5z1ZBrAL8C",
    "outputId": "51c143e6-a7c2-47f1-fd5d-ecd5665fedf8"
   },
   "outputs": [],
   "source": [
    "hist2 = pd.DataFrame(training_history2.history)\n",
    "hist2['epoch'] = training_history2.epoch\n",
    "hist2.tail()"
   ]
  },
  {
   "cell_type": "code",
   "execution_count": null,
   "metadata": {
    "colab": {
     "base_uri": "https://localhost:8080/"
    },
    "id": "tpoxXewv897s",
    "outputId": "3055981d-98e3-40b6-bf55-522cdd2be377"
   },
   "outputs": [],
   "source": [
    "# Accuracy on training sets\n",
    "accuracy_m2_train = model2.evaluate(xs_train, ys_train) # loss: 0.0420 - accuracy: 0.7585\n",
    "\n",
    "print('Accuracy on train set', accuracy_m2_train)"
   ]
  },
  {
   "cell_type": "code",
   "execution_count": null,
   "metadata": {
    "colab": {
     "base_uri": "https://localhost:8080/",
     "height": 295
    },
    "id": "5au20iE8HCPL",
    "outputId": "76788313-5b63-4409-8ed2-771020571996"
   },
   "outputs": [],
   "source": [
    "plt.plot(hist2['accuracy'])\n",
    "plt.plot(hist2['val_accuracy'])\n",
    "plt.title('model accuracy')\n",
    "plt.ylabel('accuracy')\n",
    "plt.xlabel('epoch')\n",
    "plt.legend(['train', 'val'], loc='upper left')\n",
    "plt.show()"
   ]
  },
  {
   "cell_type": "markdown",
   "metadata": {
    "id": "a3iGFD8A4ARp"
   },
   "source": [
    "Predict on the test set"
   ]
  },
  {
   "cell_type": "code",
   "execution_count": null,
   "metadata": {
    "colab": {
     "base_uri": "https://localhost:8080/"
    },
    "id": "l0e3Nk_G1Kkw",
    "outputId": "a6fdad17-ba1f-4ffe-e0dc-d0346e1b3f89"
   },
   "outputs": [],
   "source": [
    "model2_test_predict = model2.evaluate(xs_test, ys_test) #  loss: 0.0430 - accuracy: 0.7349"
   ]
  },
  {
   "cell_type": "code",
   "execution_count": null,
   "metadata": {
    "colab": {
     "base_uri": "https://localhost:8080/"
    },
    "id": "s0jQBx1T4ARq",
    "outputId": "9671fae3-446e-404a-be58-f4b2868164e3"
   },
   "outputs": [],
   "source": [
    "test_prediction2 = model2.predict(xs_test)\n",
    "print(\"shape is {}\".format(test_prediction2.shape))  \n",
    "test_prediction2"
   ]
  },
  {
   "cell_type": "markdown",
   "metadata": {
    "id": "Ec8E9OGz1K3m"
   },
   "source": [
    "#### Model 3"
   ]
  },
  {
   "cell_type": "markdown",
   "metadata": {
    "id": "hcR3sti71K3m"
   },
   "source": [
    "Define and compile the model"
   ]
  },
  {
   "cell_type": "code",
   "execution_count": null,
   "metadata": {
    "colab": {
     "base_uri": "https://localhost:8080/"
    },
    "id": "ErNCgGVF1K3m",
    "outputId": "27349849-32b4-4b7a-e66c-7afd2534e198"
   },
   "outputs": [],
   "source": [
    "# Parameters model 3\n",
    "activation_fct = 'relu'\n",
    "loss_function = tf.keras.losses.CategoricalCrossentropy(from_logits=True)\n",
    "optimizer = keras.optimizers.Adam(learning_rate=0.001)\n",
    "\n",
    "# model 3\n",
    "model3 = keras.Sequential([\n",
    "    layers.Dense(3, kernel_regularizer=regularizers.l2(0.001), activation=activation_fct, input_shape=(3,1)),\n",
    "    layers.Dense(24, kernel_regularizer=regularizers.l2(0.001), activation=activation_fct),\n",
    "    layers.Dense(24, kernel_regularizer=regularizers.l2(0.001), activation=activation_fct),\n",
    "    layers.Dense(16, kernel_regularizer=regularizers.l2(0.001), activation=activation_fct),\n",
    "    layers.Dense(11)\n",
    "  ])\n",
    "model3.summary()\n",
    "\n",
    "# compile the model 3\n",
    "model3.compile(optimizer=optimizer, loss=loss_function, metrics=['accuracy'])\n"
   ]
  },
  {
   "cell_type": "code",
   "execution_count": null,
   "metadata": {
    "colab": {
     "base_uri": "https://localhost:8080/"
    },
    "id": "ZUohXqd61-td",
    "outputId": "5351de4e-3471-4c1b-bef4-a7f3728c5c7a"
   },
   "outputs": [],
   "source": [
    "training_history3 = model3.fit(x=xs_train, y=ys_train, \n",
    "                               validation_split=0.15, epochs=200, \n",
    "                               batch_size=200, verbose=1,\n",
    "                               shuffle=True)"
   ]
  },
  {
   "cell_type": "code",
   "execution_count": null,
   "metadata": {
    "colab": {
     "base_uri": "https://localhost:8080/",
     "height": 206
    },
    "id": "XJqhOiQ68FhN",
    "outputId": "485a704a-e213-4670-9d14-d56e5baf7098"
   },
   "outputs": [],
   "source": [
    "hist3 = pd.DataFrame(training_history3.history)\n",
    "hist3.tail()"
   ]
  },
  {
   "cell_type": "code",
   "execution_count": null,
   "metadata": {
    "colab": {
     "base_uri": "https://localhost:8080/"
    },
    "id": "uXyov14n9FRO",
    "outputId": "31e463e6-bf94-4dd2-c320-317ff53fe4ab"
   },
   "outputs": [],
   "source": [
    "# Accuracy on training sets\n",
    "accuracy_m3_train = model3.evaluate(xs_train, ys_train) # loss: 0.5169 - accuracy: 0.8095\n",
    "\n",
    "print('Accuracy on train set', accuracy_m3_train)"
   ]
  },
  {
   "cell_type": "code",
   "execution_count": null,
   "metadata": {
    "colab": {
     "base_uri": "https://localhost:8080/",
     "height": 295
    },
    "id": "glgRbdhOG4um",
    "outputId": "6a825a74-4846-4f1c-adab-5feba29b4aa1"
   },
   "outputs": [],
   "source": [
    "# Accuracy\n",
    "plt.plot(hist3['accuracy'])\n",
    "plt.plot(hist3['val_accuracy'])\n",
    "plt.title('model accuracy')\n",
    "plt.ylabel('accuracy')\n",
    "plt.xlabel('epoch')\n",
    "plt.legend(['train', 'val'], loc='upper left')\n",
    "plt.show()"
   ]
  },
  {
   "cell_type": "code",
   "execution_count": null,
   "metadata": {
    "colab": {
     "base_uri": "https://localhost:8080/",
     "height": 320
    },
    "id": "SdZb3xbwHBEX",
    "outputId": "fe5b5746-a82b-4dca-cfa4-112dd2e7035f"
   },
   "outputs": [],
   "source": [
    "# Loss function\n",
    "plt.plot(training_history3.history['loss'], label='Train')\n",
    "plt.plot(training_history3.history['val_loss'], label='Validation')\n",
    "plt.ylabel('Binary Cross Entropy Loss')\n",
    "plt.xlabel('Epoch')\n",
    "plt.title('Autoencoder Reconstruction Loss', pad=13)\n",
    "plt.legend(loc='upper right')"
   ]
  },
  {
   "cell_type": "markdown",
   "metadata": {
    "id": "MJ3aUUqE4BKT"
   },
   "source": [
    "Evaluate and predict on the test set"
   ]
  },
  {
   "cell_type": "code",
   "execution_count": null,
   "metadata": {
    "colab": {
     "base_uri": "https://localhost:8080/"
    },
    "id": "VR39ZF_M4Gf1",
    "outputId": "9ef2a7b3-686a-46a4-c810-d7dce77e60ab"
   },
   "outputs": [],
   "source": [
    "model3_test_predict = model3.evaluate(xs_test, ys_test) # loss: 0.4480 - accuracy: 0.8546"
   ]
  },
  {
   "cell_type": "code",
   "execution_count": null,
   "metadata": {
    "colab": {
     "base_uri": "https://localhost:8080/"
    },
    "id": "0e595hJe4BKT",
    "outputId": "25fcaa4d-19d5-4e92-f87a-236eed71d787"
   },
   "outputs": [],
   "source": [
    "test_prediction3 = model3.predict(xs_test)\n",
    "print(\"shape is {}\".format(test_prediction3.shape))  \n",
    "test_prediction3"
   ]
  },
  {
   "cell_type": "markdown",
   "metadata": {
    "id": "UzZzDd5dm3x7"
   },
   "source": [
    "#### Model 4\n"
   ]
  },
  {
   "cell_type": "markdown",
   "metadata": {
    "id": "l__Z942vm3x7"
   },
   "source": [
    "Define and compile the model"
   ]
  },
  {
   "cell_type": "code",
   "execution_count": null,
   "metadata": {
    "colab": {
     "base_uri": "https://localhost:8080/"
    },
    "id": "sV6gB3RY4ArN",
    "outputId": "184c7c9c-879d-48a3-d9af-b3d10f75b8c2"
   },
   "outputs": [],
   "source": [
    "# Parameters model 4\n",
    "activation_fct = 'relu'\n",
    "loss_function = tf.keras.losses.CategoricalCrossentropy(from_logits=True)\n",
    "optimizer = keras.optimizers.Adam(learning_rate=0.001)\n",
    "\n",
    "# model 4\n",
    "model4 = keras.Sequential([\n",
    "    layers.Dense(3, kernel_regularizer=regularizers.l2(0.001), activation=activation_fct, input_shape=(3,)),\n",
    "    layers.Dense(30, kernel_regularizer=regularizers.l2(0.001), activation=activation_fct),\n",
    "    layers.Dense(16, kernel_regularizer=regularizers.l2(0.001), activation=activation_fct),\n",
    "    layers.Dense(11)\n",
    "  ])\n",
    "model4.summary()\n",
    "\n",
    "# compile the model \n",
    "model4.compile(optimizer=optimizer, loss=loss_function, metrics=['accuracy'])\n"
   ]
  },
  {
   "cell_type": "code",
   "execution_count": null,
   "metadata": {
    "colab": {
     "base_uri": "https://localhost:8080/"
    },
    "id": "OKM3EAPIEz1H",
    "outputId": "ebe0493d-6475-4f0f-dd2d-dc549822e526"
   },
   "outputs": [],
   "source": [
    "training_history4 = model4.fit(x=xs_train, y=ys_train, \n",
    "                               validation_split=0.15, epochs=200, \n",
    "                               batch_size=200, verbose=1,\n",
    "                               shuffle=True)"
   ]
  },
  {
   "cell_type": "code",
   "execution_count": null,
   "metadata": {
    "colab": {
     "base_uri": "https://localhost:8080/",
     "height": 206
    },
    "id": "1cN0w2msFWEA",
    "outputId": "2b07f8ea-7461-4148-8e39-59a2b3b95ff7"
   },
   "outputs": [],
   "source": [
    "hist4 = pd.DataFrame(training_history4.history)\n",
    "hist4.tail()"
   ]
  },
  {
   "cell_type": "code",
   "execution_count": null,
   "metadata": {
    "colab": {
     "base_uri": "https://localhost:8080/"
    },
    "id": "K1Re7UMW9NDK",
    "outputId": "6ef9f955-ff16-426d-afb9-1b2e9babb372"
   },
   "outputs": [],
   "source": [
    "# Accuracy on training sets\n",
    "accuracy_m4_train = model4.evaluate(xs_train, ys_train) # loss: 0.4072 - accuracy: 0.8765\n",
    "\n",
    "print('Accuracy on train set', accuracy_m4_train)"
   ]
  },
  {
   "cell_type": "code",
   "execution_count": null,
   "metadata": {
    "colab": {
     "base_uri": "https://localhost:8080/",
     "height": 295
    },
    "id": "yYQfTF65GgGE",
    "outputId": "05de091f-e346-4c2b-ebe1-6737f4e978f0"
   },
   "outputs": [],
   "source": [
    "plt.plot(hist4['accuracy'])\n",
    "plt.plot(hist4['val_accuracy'])\n",
    "plt.title('model accuracy')\n",
    "plt.ylabel('accuracy')\n",
    "plt.xlabel('epoch')\n",
    "plt.legend(['train', 'val'], loc='upper left')\n",
    "plt.show()"
   ]
  },
  {
   "cell_type": "code",
   "execution_count": null,
   "metadata": {
    "colab": {
     "base_uri": "https://localhost:8080/"
    },
    "id": "tXUoJ2c3Ezu4",
    "outputId": "d1385547-c064-4928-93dc-e8136f1a3ca4"
   },
   "outputs": [],
   "source": [
    "model4_test_predict = model4.evaluate(xs_test, ys_test) # loss: 0.4553 - accuracy: 0.8566"
   ]
  },
  {
   "cell_type": "markdown",
   "metadata": {
    "id": "sSILVr4-m71s"
   },
   "source": [
    "#### Model 5\n"
   ]
  },
  {
   "cell_type": "markdown",
   "metadata": {
    "id": "D5kPvZpCm71t"
   },
   "source": [
    "Define and compile the model"
   ]
  },
  {
   "cell_type": "code",
   "execution_count": null,
   "metadata": {
    "id": "O7Wz5cXgL_I8"
   },
   "outputs": [],
   "source": [
    "def create_model(activation='relu'):\n",
    "  # create model\n",
    "  model5 = keras.Sequential([\n",
    "    layers.Dense(3, kernel_regularizer=regularizers.l2(0.001), activation='relu', input_shape=(3,)),\n",
    "    layers.Dense(24, kernel_regularizer=regularizers.l2(0.001), activation='relu'),\n",
    "    layers.Dense(24, kernel_regularizer=regularizers.l2(0.001), activation='relu'),\n",
    "    layers.Dense(16, kernel_regularizer=regularizers.l2(0.001), activation='Softmax'),\n",
    "    layers.Dense(11)\n",
    "  ])\n",
    "  # Compile model\n",
    "  model5.compile(loss=tf.keras.losses.CategoricalCrossentropy(from_logits=True), \n",
    "                 optimizer=keras.optimizers.Adam(learning_rate=0.001), metrics=['accuracy'])\n",
    "  return model5"
   ]
  },
  {
   "cell_type": "code",
   "execution_count": null,
   "metadata": {
    "colab": {
     "base_uri": "https://localhost:8080/",
     "height": 173
    },
    "id": "bag09UEtmwXf",
    "outputId": "58626d62-767c-4777-a803-2ce93de8eb33"
   },
   "outputs": [],
   "source": [
    "\n",
    "\n",
    "# define the grid search parameters\n",
    "learn_rate = [0.001, 0.01, 0.1, 0.2, 0.3]\n",
    "momentum = [0.0, 0.2, 0.4, 0.6, 0.8, 0.9]\n",
    "activation_fct = ['softmax', 'relu']\n",
    "#activation_fct = ['tanh', 'hard_sigmoid', 'linear', 'sigmoid']\n",
    "param_grid = dict(optimizer__learning_rate=learn_rate, optimizer__momentum=momentum, model__activation=activation_fct)\n",
    "\n",
    "# other parameters\n",
    "loss_function = tf.keras.losses.CategoricalCrossentropy(from_logits=True)\n",
    "optimizer = keras.optimizers.Adam(learning_rate=0.001)\n",
    "\n",
    "# model 5\n",
    "# create model\n",
    "model5 = KerasClassifier(model=create_model, epochs=150, batch_size=200, verbose=0)\n",
    "\n",
    "grid_result5 = GridSearchCV(estimator=model5, param_grid=param_grid, n_jobs=-1, cv=5)\n",
    "\n",
    "grid_result5.fit(xs_train, ys_train)\n"
   ]
  },
  {
   "cell_type": "code",
   "execution_count": null,
   "metadata": {
    "id": "zURRpodLLcrO"
   },
   "outputs": [],
   "source": [
    "# print best parameter after tuning\n",
    "print(grid_result5.best_params_)\n",
    "best_param5 = grid_result5.best_params_\n",
    "  \n",
    "# print how our model looks after hyper-parameter tuning\n",
    "print(grid_result5.best_estimator_)"
   ]
  },
  {
   "cell_type": "code",
   "execution_count": null,
   "metadata": {
    "id": "_vJD8c35Lcmh"
   },
   "outputs": [],
   "source": [
    "# Accuracy\n",
    "accuracy_model5_train = grid_result5.score(xs_train, ys_train)\n",
    "model5_test_predict = grid_result5.score(xs_test, ys_test)\n",
    "\n",
    "print('Accuracy of model (train)', accuracy_model5_train)\n",
    "print('Accuracy of model (test)', model5_test_predict) "
   ]
  },
  {
   "cell_type": "markdown",
   "metadata": {
    "id": "VtOxFMgsHp5a"
   },
   "source": [
    "#### Model 6"
   ]
  },
  {
   "cell_type": "markdown",
   "metadata": {
    "id": "x3iZxoWBHpGm"
   },
   "source": [
    "Based on the model 3 parameters, this section will be used to adjust the learning rate"
   ]
  },
  {
   "cell_type": "code",
   "execution_count": null,
   "metadata": {
    "colab": {
     "base_uri": "https://localhost:8080/"
    },
    "id": "IxX6f9DDHoup",
    "outputId": "744ef246-b0fd-4f6e-f57b-dc565d0eeaef"
   },
   "outputs": [],
   "source": [
    "# Parameters model 6\n",
    "activation_fct = 'relu'\n",
    "loss_function = tf.keras.losses.CategoricalCrossentropy(from_logits=True)\n",
    "optimizer = keras.optimizers.Adam(learning_rate=0.0005)\n",
    "\n",
    "# model 6\n",
    "model6 = keras.Sequential([\n",
    "    layers.Dense(3, kernel_regularizer=regularizers.l2(0.001), activation=activation_fct, input_shape=(3,)),\n",
    "    layers.Dense(24, kernel_regularizer=regularizers.l2(0.001), activation=activation_fct),\n",
    "    layers.Dense(24, kernel_regularizer=regularizers.l2(0.001), activation=activation_fct),\n",
    "    layers.Dense(16, kernel_regularizer=regularizers.l2(0.001), activation=activation_fct),\n",
    "    layers.Dense(11)\n",
    "  ])\n",
    "model6.summary()\n",
    "\n",
    "# compile the model 6\n",
    "model6.compile(optimizer=optimizer, loss=loss_function, metrics=['accuracy'])\n",
    "\n"
   ]
  },
  {
   "cell_type": "code",
   "execution_count": null,
   "metadata": {
    "id": "N4L8V53nSVUA"
   },
   "outputs": [],
   "source": [
    "# Fit on training set\n",
    "training_history6 = model6.fit(x=xs_train, y=ys_train, \n",
    "                               validation_split=0.15, epochs=275, \n",
    "                               batch_size=300, verbose=0,\n",
    "                               shuffle=True)\n"
   ]
  },
  {
   "cell_type": "code",
   "execution_count": null,
   "metadata": {
    "colab": {
     "base_uri": "https://localhost:8080/"
    },
    "id": "RjC5RbT49aQP",
    "outputId": "4c5b246e-f23b-44ff-82c8-efe0d4f2d2e9"
   },
   "outputs": [],
   "source": [
    "# Accuracy on training sets\n",
    "accuracy_m6_train = model6.evaluate(xs_train, ys_train) # loss: 0.5171 - accuracy: 0.8288\n",
    "\n",
    "print('Accuracy on train set', accuracy_m6_train)"
   ]
  },
  {
   "cell_type": "code",
   "execution_count": null,
   "metadata": {
    "colab": {
     "base_uri": "https://localhost:8080/",
     "height": 320
    },
    "id": "8s_dWFDrMz7K",
    "outputId": "09ff5eca-c0c0-443d-8328-3b13f544141e"
   },
   "outputs": [],
   "source": [
    "# Accuracy\n",
    "plt.plot(training_history6.history['accuracy'], label='Train')\n",
    "plt.plot(training_history6.history['val_accuracy'], label='Validation')\n",
    "plt.ylabel('Accuracy')\n",
    "plt.xlabel('Epoch')\n",
    "plt.title('Accuracy', pad=13)\n",
    "plt.legend(loc='upper right')"
   ]
  },
  {
   "cell_type": "code",
   "execution_count": null,
   "metadata": {
    "colab": {
     "base_uri": "https://localhost:8080/",
     "height": 320
    },
    "id": "q0v-ashEINwd",
    "outputId": "07b526f8-b77f-401d-8311-1bd3b1911476"
   },
   "outputs": [],
   "source": [
    "plt.plot(training_history6.history['loss'], label='Train')\n",
    "plt.plot(training_history6.history['val_loss'], label='Validation')\n",
    "plt.ylabel('Binary Cross Entropy Loss')\n",
    "plt.xlabel('Epoch')\n",
    "plt.title('Autoencoder Reconstruction Loss', pad=13)\n",
    "plt.legend(loc='upper right')"
   ]
  },
  {
   "cell_type": "code",
   "execution_count": null,
   "metadata": {
    "colab": {
     "base_uri": "https://localhost:8080/"
    },
    "id": "fm6-sMYiIfWx",
    "outputId": "feefc50c-3b69-4c79-ac39-df34f3ddef60"
   },
   "outputs": [],
   "source": [
    "model6_test_predict = model6.evaluate(xs_test, ys_test) # loss: 0.5570 - accuracy: 0.8121"
   ]
  },
  {
   "cell_type": "markdown",
   "metadata": {
    "id": "6TnTxmUCWEyp"
   },
   "source": [
    "#### Model 7"
   ]
  },
  {
   "cell_type": "code",
   "execution_count": null,
   "metadata": {
    "colab": {
     "base_uri": "https://localhost:8080/"
    },
    "id": "UNC9OJs1Ws7q",
    "outputId": "4794253f-b42d-49c0-c8ce-9c7b8e2e2b27"
   },
   "outputs": [],
   "source": [
    "# Parameters model 7\n",
    "activation_fct = 'relu'\n",
    "loss_function = tf.keras.losses.CategoricalCrossentropy(from_logits=True)\n",
    "optimizer = keras.optimizers.Adam(learning_rate=0.0005)\n",
    "\n",
    "# model 7\n",
    "model7 = keras.Sequential([\n",
    "    layers.Dense(3, kernel_regularizer=regularizers.l2(0.001), activation=activation_fct, input_shape=(3,)),\n",
    "    layers.Dense(24, kernel_regularizer=regularizers.l2(0.001), activation=activation_fct),\n",
    "    layers.Dense(24, kernel_regularizer=regularizers.l2(0.001), activation=activation_fct),\n",
    "    layers.Dense(16, kernel_regularizer=regularizers.l2(0.001), activation=activation_fct),\n",
    "    layers.Dense(11)\n",
    "  ])\n",
    "model7.summary()\n",
    "\n",
    "# compile the model 6\n",
    "model7.compile(optimizer=optimizer, loss=loss_function, metrics=['accuracy'])\n"
   ]
  },
  {
   "cell_type": "code",
   "execution_count": null,
   "metadata": {
    "id": "XwTaxHmpXkTI"
   },
   "outputs": [],
   "source": [
    "# Fit on training set\n",
    "training_history7 = model7.fit(x=xs_train, y=ys_train, \n",
    "                               validation_split=0.15, epochs=300, \n",
    "                               batch_size=315, verbose=0,\n",
    "                               shuffle=True)\n"
   ]
  },
  {
   "cell_type": "code",
   "execution_count": null,
   "metadata": {
    "colab": {
     "base_uri": "https://localhost:8080/"
    },
    "id": "SJrYOrUT9lai",
    "outputId": "5b65d330-68fc-4629-b6e8-332b059e467a"
   },
   "outputs": [],
   "source": [
    "# Accuracy on training sets\n",
    "accuracy_m7_train = model7.evaluate(xs_train, ys_train) # loss: loss: 0.5633 - accuracy: 0.8052\n",
    "print('Accuracy on train set', accuracy_m7_train)"
   ]
  },
  {
   "cell_type": "code",
   "execution_count": null,
   "metadata": {
    "colab": {
     "base_uri": "https://localhost:8080/",
     "height": 320
    },
    "id": "0DSl8PgJXtdS",
    "outputId": "b01267aa-de7e-48dd-ff19-e2aee14c7bdf"
   },
   "outputs": [],
   "source": [
    "plt.plot(training_history7.history['loss'], label='Train')\n",
    "plt.plot(training_history7.history['val_loss'], label='Validation')\n",
    "plt.ylabel('Binary Cross Entropy Loss')\n",
    "plt.xlabel('Epoch')\n",
    "plt.title('Autoencoder Reconstruction Loss', pad=13)\n",
    "plt.legend(loc='upper right')"
   ]
  },
  {
   "cell_type": "code",
   "execution_count": null,
   "metadata": {
    "colab": {
     "base_uri": "https://localhost:8080/"
    },
    "id": "7nVtTPymXwjM",
    "outputId": "a2efe235-c9e7-4bc3-dec5-0360ebb97fbb"
   },
   "outputs": [],
   "source": [
    "model7_test_predict = model7.evaluate(xs_test, ys_test) # loss: 0.5914 - accuracy: 0.7943"
   ]
  },
  {
   "cell_type": "markdown",
   "metadata": {
    "id": "xp-Zyh4hPHF6"
   },
   "source": [
    "## Compare Accuray of all the models"
   ]
  },
  {
   "cell_type": "code",
   "execution_count": null,
   "metadata": {
    "id": "Nbix_R3vPGiM"
   },
   "outputs": [],
   "source": [
    "df_accuracy = pd.DataFrame([model1_test_predict, model2_test_predict, model3_test_predict, model4_test_predict, [0, model5_test_predict], model6_test_predict, model7_test_predict])"
   ]
  },
  {
   "cell_type": "code",
   "execution_count": null,
   "metadata": {
    "id": "7z_7D_Y6PGfW"
   },
   "outputs": [],
   "source": [
    "df_accuracy = df_accuracy.rename({0: 'loss', 1: 'accuracy'}, axis=1)\n",
    "df_accuracy[\"model\"] = [\"model1\", \"model2\", \"model3\", \"model4\", \"model5\", \"model6\", \"model7\"]"
   ]
  },
  {
   "cell_type": "code",
   "execution_count": null,
   "metadata": {
    "colab": {
     "base_uri": "https://localhost:8080/",
     "height": 238
    },
    "id": "YcGDHGo_QGfO",
    "outputId": "efe1b95d-7f9f-4d32-919f-460a85f686c2"
   },
   "outputs": [],
   "source": [
    "df_accuracy.sort_values('accuracy') #  => best model is model 4"
   ]
  },
  {
   "cell_type": "markdown",
   "metadata": {
    "id": "l_EhMn60A4HP"
   },
   "source": [
    "#### Evaluate performances"
   ]
  },
  {
   "cell_type": "code",
   "execution_count": null,
   "metadata": {
    "colab": {
     "base_uri": "https://localhost:8080/"
    },
    "id": "PAkTLQnzDuSK",
    "outputId": "c4ade9f9-f26a-4545-8e84-dbaaba2ce7d7"
   },
   "outputs": [],
   "source": [
    "model4_predictions = model4.predict(xs_test)\n",
    "model4_predictions = np.argmax(model4_predictions, axis=1)\n",
    "model4_predictions "
   ]
  },
  {
   "cell_type": "code",
   "execution_count": null,
   "metadata": {
    "id": "CKxySlVOFVsZ"
   },
   "outputs": [],
   "source": [
    "#model4_predictions = np.array(pd.get_dummies(pd.Series(model4_predictions)))"
   ]
  },
  {
   "cell_type": "code",
   "execution_count": null,
   "metadata": {
    "id": "VPhDVuWGFYrx"
   },
   "outputs": [],
   "source": [
    "ys_test_list = np.argmax(ys_test, axis=1)"
   ]
  },
  {
   "cell_type": "code",
   "execution_count": null,
   "metadata": {
    "colab": {
     "base_uri": "https://localhost:8080/",
     "height": 600
    },
    "id": "2kYbAveDA2dF",
    "outputId": "ee16421c-90f9-4891-c04c-04f65811836e"
   },
   "outputs": [],
   "source": [
    "target_names = ['Black', 'Blue', 'Brown', 'Green', 'Grey', 'Orange', 'Pink', 'Purple', 'Red', 'White', 'Yellow']\n",
    "\n",
    "# Confusion matrix\n",
    "confusion_mat = confusion_matrix(ys_test_list, model4_predictions)\n",
    "cm_display = ConfusionMatrixDisplay(confusion_matrix = confusion_mat, display_labels = target_names)\n",
    "cm_display.plot()\n",
    "plt.show()\n",
    "\n",
    "# model performance report\n",
    "print(classification_report(ys_test_list, model4_predictions, target_names=target_names))"
   ]
  },
  {
   "cell_type": "markdown",
   "metadata": {
    "id": "Io2z3PMhwdJd"
   },
   "source": [
    "## Towards Arduino\n",
    "\n",
    "ref: https://colab.research.google.com/github/arduino/ArduinoTensorFlowLiteTutorials/blob/master/GestureToEmoji/arduino_tinyml_workshop.ipynb#scrollTo=0Xn1-Rn9Cp_8\n",
    "\n",
    "https://colab.research.google.com/github/ucl-casa-ce/casa0018/blob/main/Week4/CASA0018_4_1_train_hello_world_model.ipynb#scrollTo=1muAoUm8lSXL"
   ]
  },
  {
   "cell_type": "markdown",
   "metadata": {
    "id": "2JAEfLx9QT5i"
   },
   "source": [
    "### Convert the Trained Model n° 4 to Tensor Flow Lite\n",
    "In the below cell, we convert the model *4* format into TFlite format"
   ]
  },
  {
   "cell_type": "code",
   "execution_count": null,
   "metadata": {
    "id": "z0a-YGgTwD-Q"
   },
   "outputs": [],
   "source": [
    "import os\n",
    "\n",
    "MODELS_DIR = 'models/'\n",
    "if not os.path.exists(MODELS_DIR):\n",
    "    os.mkdir(MODELS_DIR)\n",
    "MODEL_TF = MODELS_DIR + 'model'\n",
    "MODEL_NO_QUANT_TFLITE = MODELS_DIR + 'model_no_quant.tflite'\n",
    "MODEL_TFLITE = MODELS_DIR + 'model.tflite'\n",
    "MODEL_TFLITE_MICRO = MODELS_DIR + 'model.cc'"
   ]
  },
  {
   "cell_type": "code",
   "execution_count": null,
   "metadata": {
    "colab": {
     "base_uri": "https://localhost:8080/",
     "height": 240
    },
    "id": "4ntJfIXCwUPJ",
    "outputId": "0b2be2ac-3e86-4497-8376-8e0b8e17361b"
   },
   "outputs": [],
   "source": [
    "# Save the model to disk\n",
    "model4.save(MODEL_TF)\n",
    "\n",
    "# Convert the model to the TensorFlow Lite format without quantization\n",
    "converter = tf.lite.TFLiteConverter.from_saved_model(MODEL_TF)\n",
    "model_no_quant_tflite = converter.convert()\n",
    "\n",
    "# Save the model to disk\n",
    "open(MODEL_NO_QUANT_TFLITE, \"wb\").write(model_no_quant_tflite)\n",
    "\n",
    "# Convert the model to the TensorFlow Lite format with quantization\n",
    "def representative_dataset_generator():\n",
    "  for value in xs_train:\n",
    "    yield [np.array(value, dtype=np.float32, ndmin=2)]\n",
    "\n",
    "# Set the optimization flag - DEFAULT includes quantization.\n",
    "converter.optimizations = [tf.lite.Optimize.DEFAULT]\n",
    "\n",
    "# Enforce integer only quantization to reduce model size\n",
    "converter.target_spec.supported_ops = [tf.lite.OpsSet.TFLITE_BUILTINS_INT8]\n",
    "converter.inference_input_type = tf.int8\n",
    "converter.inference_output_type = tf.int8\n",
    "\n",
    "# Provide a representative dataset to ensure we quantize correctly.\n",
    "converter.representative_dataset = representative_dataset_generator\n",
    "\n",
    "model_tflite = converter.convert()\n",
    "\n",
    "# Save the model to disk\n",
    "open(MODEL_TFLITE, \"wb\").write(model_tflite)"
   ]
  },
  {
   "cell_type": "code",
   "execution_count": null,
   "metadata": {
    "colab": {
     "base_uri": "https://localhost:8080/"
    },
    "id": "aw-WvOgAQUGy",
    "outputId": "b74b996b-d4c1-43ca-97d4-7eca5e7a2078"
   },
   "outputs": [],
   "source": [
    "# Convert the model to the TensorFlow Lite format without quantization\n",
    "converter = tf.lite.TFLiteConverter.from_keras_model(model4)\n",
    "tflite_model = converter.convert()\n",
    "\n",
    "# Save the model to disk\n",
    "open(\"colourdetec_model.tflite\", \"wb\").write(tflite_model)\n",
    "  \n",
    "\n",
    "basic_model_size = os.path.getsize(\"colourdetec_model.tflite\")\n",
    "print(\"Model is %d bytes\" % basic_model_size)\n",
    "  "
   ]
  },
  {
   "cell_type": "markdown",
   "metadata": {
    "id": "Hrpt8qWdGiPT"
   },
   "source": [
    "### Convert the Trained Model n° 4 to be used in Arduino"
   ]
  },
  {
   "cell_type": "code",
   "execution_count": null,
   "metadata": {
    "colab": {
     "base_uri": "https://localhost:8080/"
    },
    "id": "qrFdblQOGijn",
    "outputId": "4a017f68-e350-46db-ec74-1892261b14aa"
   },
   "outputs": [],
   "source": [
    "!echo \"const unsigned char model[] = {\" > /content/model_colour.h\n",
    "!cat colourdetec_model.tflite | xxd -i      >> /content/model_colour.h\n",
    "!echo \"};\"                              >> /content/model_colour.h\n",
    "\n",
    "import os\n",
    "model_h_size = os.path.getsize(\"model_colour.h\")\n",
    "print(f\"Header file, model_colour.h, is {model_h_size:,} bytes.\")"
   ]
  },
  {
   "cell_type": "markdown",
   "metadata": {
    "id": "LtNkdyRaw29A"
   },
   "source": [
    "#### Compare performance after conversion\n"
   ]
  },
  {
   "cell_type": "code",
   "execution_count": null,
   "metadata": {
    "id": "dVWOjniaw3rp"
   },
   "outputs": [],
   "source": [
    "def predict_tflite(tflite_model, x_test):\n",
    "  # Prepare the test data\n",
    "  x_test_ = x_test.copy()\n",
    "  #x_test_ = x_test_.reshape((x_test.size, 1))\n",
    "  x_test_ = x_test_.astype(np.float32)\n",
    "\n",
    "  # Initialize the TFLite interpreter\n",
    "  interpreter = tf.lite.Interpreter(model_content=tflite_model)\n",
    "  interpreter.allocate_tensors()\n",
    "\n",
    "  input_details = interpreter.get_input_details()[0]\n",
    "  output_details = interpreter.get_output_details()[0]\n",
    "\n",
    "  # If required, quantize the input layer (from float to integer)\n",
    "  input_scale, input_zero_point = input_details[\"quantization\"]\n",
    "  if (input_scale, input_zero_point) != (0.0, 0):\n",
    "    x_test_ = x_test_ / input_scale + input_zero_point\n",
    "    x_test_ = x_test_.astype(input_details[\"dtype\"])\n",
    "  \n",
    "  # Invoke the interpreter\n",
    "  y_pred = np.empty(x_test_.size, dtype=output_details[\"dtype\"])\n",
    "  for i in range(len(x_test_)):\n",
    "    interpreter.set_tensor(input_details[\"index\"], [x_test_[i]])\n",
    "    interpreter.invoke()\n",
    "    y_pred[i] = np.argmax(interpreter.get_tensor(output_details[\"index\"])[[0]])\n",
    "  \n",
    "  # If required, dequantized the output layer (from integer to float)\n",
    "  output_scale, output_zero_point = output_details[\"quantization\"]\n",
    "  if (output_scale, output_zero_point) != (0.0, 0):\n",
    "    y_pred = y_pred.astype(np.float32)\n",
    "    y_pred = (y_pred - output_zero_point) * output_scale\n",
    "\n",
    "  return y_pred\n",
    "\n",
    "def evaluate_tflite(tflite_model, x_test, y_true):\n",
    "  global model4\n",
    "  y_pred = predict_tflite(tflite_model, x_test)\n",
    "  loss_function = tf.keras.losses.get(model4.loss)\n",
    "  loss = loss_function(y_true, y_pred).numpy()\n",
    "  return loss"
   ]
  },
  {
   "cell_type": "code",
   "execution_count": null,
   "metadata": {
    "colab": {
     "base_uri": "https://localhost:8080/"
    },
    "id": "w_WER0TAxFQH",
    "outputId": "62742974-4242-468c-8325-1c47a49159d1"
   },
   "outputs": [],
   "source": [
    "# Calculate predictions\n",
    "y_test_pred_tf = model4.predict(xs_test)\n",
    "y_test_pred_no_quant_tflite = predict_tflite(model_no_quant_tflite, xs_test)\n",
    "y_test_pred_tflite = predict_tflite(model_tflite, xs_test)"
   ]
  },
  {
   "cell_type": "markdown",
   "metadata": {
    "id": "wki-O4YJ1hin"
   },
   "source": [
    "### Generate a TensorFlow Lite for Microcontrollers Model"
   ]
  },
  {
   "cell_type": "code",
   "execution_count": null,
   "metadata": {
    "colab": {
     "base_uri": "https://localhost:8080/"
    },
    "id": "roKLbYwe1h6A",
    "outputId": "317a3988-5630-4f6a-8592-7a31b12a93f5"
   },
   "outputs": [],
   "source": [
    "# Install xxd if it is not available\n",
    "!apt-get update && apt-get -qq install xxd\n",
    "# Convert to a C source file, i.e, a TensorFlow Lite for Microcontrollers model\n",
    "!xxd -i {MODEL_TFLITE} > {MODEL_TFLITE_MICRO}"
   ]
  },
  {
   "cell_type": "code",
   "execution_count": null,
   "metadata": {
    "colab": {
     "base_uri": "https://localhost:8080/",
     "height": 35
    },
    "id": "Ey7NGm852Leb",
    "outputId": "68f4b2d1-39e5-45e4-ba0b-3a5fe6f44908"
   },
   "outputs": [],
   "source": [
    "MODEL_TFLITE_MICRO"
   ]
  },
  {
   "cell_type": "code",
   "execution_count": null,
   "metadata": {
    "colab": {
     "base_uri": "https://localhost:8080/"
    },
    "id": "lEV5KE0u2J67",
    "outputId": "bb73be71-2ab7-4d8c-99b7-c72f9a88b943"
   },
   "outputs": [],
   "source": [
    "# Print the C source file\n",
    "!cat {MODEL_TFLITE_MICRO}\n"
   ]
  }
 ],
 "metadata": {
  "colab": {
   "collapsed_sections": [
    "P9LUhKp92c1Y",
    "RTAQIHTG2rbP",
    "Ec8E9OGz1K3m",
    "sSILVr4-m71s",
    "VtOxFMgsHp5a",
    "6TnTxmUCWEyp"
   ],
   "provenance": [],
   "toc_visible": true
  },
  "gpuClass": "standard",
  "kernelspec": {
   "display_name": "tinyml",
   "language": "python",
   "name": "tinyml"
  },
  "language_info": {
   "codemirror_mode": {
    "name": "ipython",
    "version": 3
   },
   "file_extension": ".py",
   "mimetype": "text/x-python",
   "name": "python",
   "nbconvert_exporter": "python",
   "pygments_lexer": "ipython3",
   "version": "3.9.16"
  }
 },
 "nbformat": 4,
 "nbformat_minor": 1
}
