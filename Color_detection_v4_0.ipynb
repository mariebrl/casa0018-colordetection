{
  "cells": [
    {
      "cell_type": "markdown",
      "metadata": {
        "id": "dj2f4hAh_ZNe"
      },
      "source": [
        "# Model for color detection"
      ]
    },
    {
      "cell_type": "markdown",
      "metadata": {
        "id": "O6o1Hy4V_Wff"
      },
      "source": [
        "## Import libraries"
      ]
    },
    {
      "cell_type": "code",
      "execution_count": 2,
      "metadata": {
        "colab": {
          "base_uri": "https://localhost:8080/"
        },
        "id": "nXxNGEWA_U3a",
        "outputId": "df949346-9914-4112-fcf8-337c27bf0729"
      },
      "outputs": [
        {
          "output_type": "stream",
          "name": "stdout",
          "text": [
            "Mounted at /content/drive\n"
          ]
        }
      ],
      "source": [
        "import numpy as np\n",
        "import pandas as pd\n",
        "import math\n",
        "import tensorflow as tf\n",
        "from tensorflow import keras\n",
        "import matplotlib.pyplot as plt\n",
        "from sklearn.utils import shuffle\n",
        "from sklearn.model_selection import train_test_split\n",
        "from tensorflow.keras import layers, regularizers\n",
        "from sklearn.model_selection import GridSearchCV\n",
        "from sklearn.metrics import confusion_matrix, accuracy_score, f1_score, ConfusionMatrixDisplay, recall_score, classification_report\n",
        "\n",
        "from google.colab import drive\n",
        "drive.mount('/content/drive')\n",
        "\n",
        "seed = 157 # fix randomisation\n",
        "np.random.seed(seed)\n",
        "tf.random.set_seed(seed)"
      ]
    },
    {
      "cell_type": "code",
      "execution_count": 3,
      "metadata": {
        "colab": {
          "base_uri": "https://localhost:8080/"
        },
        "id": "NgB8tBz095pl",
        "outputId": "489f3c97-dead-49f0-e26c-d6ce5d22a541"
      },
      "outputs": [
        {
          "output_type": "stream",
          "name": "stdout",
          "text": [
            "Looking in indexes: https://pypi.org/simple, https://us-python.pkg.dev/colab-wheels/public/simple/\n",
            "Collecting scikeras\n",
            "  Downloading scikeras-0.10.0-py3-none-any.whl (27 kB)\n",
            "Requirement already satisfied: packaging>=0.21 in /usr/local/lib/python3.9/dist-packages (from scikeras) (23.1)\n",
            "Requirement already satisfied: scikit-learn>=1.0.0 in /usr/local/lib/python3.9/dist-packages (from scikeras) (1.2.2)\n",
            "Requirement already satisfied: numpy>=1.17.3 in /usr/local/lib/python3.9/dist-packages (from scikit-learn>=1.0.0->scikeras) (1.22.4)\n",
            "Requirement already satisfied: scipy>=1.3.2 in /usr/local/lib/python3.9/dist-packages (from scikit-learn>=1.0.0->scikeras) (1.10.1)\n",
            "Requirement already satisfied: threadpoolctl>=2.0.0 in /usr/local/lib/python3.9/dist-packages (from scikit-learn>=1.0.0->scikeras) (3.1.0)\n",
            "Requirement already satisfied: joblib>=1.1.1 in /usr/local/lib/python3.9/dist-packages (from scikit-learn>=1.0.0->scikeras) (1.2.0)\n",
            "Installing collected packages: scikeras\n",
            "Successfully installed scikeras-0.10.0\n"
          ]
        }
      ],
      "source": [
        "pip install scikeras"
      ]
    },
    {
      "cell_type": "code",
      "execution_count": 4,
      "metadata": {
        "id": "hQGVJ1RGCO87"
      },
      "outputs": [],
      "source": [
        "from scikeras.wrappers import KerasClassifier"
      ]
    },
    {
      "cell_type": "markdown",
      "metadata": {
        "id": "FAx4_wPT_kir"
      },
      "source": [
        "## Import dataset"
      ]
    },
    {
      "cell_type": "code",
      "execution_count": 5,
      "metadata": {
        "id": "UV5cHyMj_VaB"
      },
      "outputs": [],
      "source": [
        "color_set = pd.read_csv('/content/drive/MyDrive/Colab Notebooks/UCL/Assessment/color_dataset.csv')\n",
        "# color_set = pd.read_csv('/Users/mariebourel/Documents/Fac/Master 2022_2023/UCL/cours/CASA0018 - Deep Learning for sensor network /Coursework/color_dataset.csv')\n"
      ]
    },
    {
      "cell_type": "markdown",
      "metadata": {
        "id": "Fs73LdNC_pFV"
      },
      "source": [
        "## Data analysis\n"
      ]
    },
    {
      "cell_type": "code",
      "execution_count": 6,
      "metadata": {
        "colab": {
          "base_uri": "https://localhost:8080/"
        },
        "id": "yziEOlvp_VkF",
        "outputId": "dfe3e3d4-7231-4219-8f7f-b99138406764"
      },
      "outputs": [
        {
          "output_type": "stream",
          "name": "stdout",
          "text": [
            "<class 'pandas.core.frame.DataFrame'>\n",
            "RangeIndex: 5052 entries, 0 to 5051\n",
            "Data columns (total 4 columns):\n",
            " #   Column  Non-Null Count  Dtype \n",
            "---  ------  --------------  ----- \n",
            " 0   red     5052 non-null   int64 \n",
            " 1   green   5052 non-null   int64 \n",
            " 2   blue    5052 non-null   int64 \n",
            " 3   label   5052 non-null   object\n",
            "dtypes: int64(3), object(1)\n",
            "memory usage: 158.0+ KB\n"
          ]
        }
      ],
      "source": [
        "color_set.info()"
      ]
    },
    {
      "cell_type": "code",
      "execution_count": 7,
      "metadata": {
        "colab": {
          "base_uri": "https://localhost:8080/",
          "height": 206
        },
        "id": "wAzhs0lG_VtU",
        "outputId": "48630e33-8b9a-4e47-b080-02fddad03dd3"
      },
      "outputs": [
        {
          "output_type": "execute_result",
          "data": {
            "text/plain": [
              "   red  green  blue  label\n",
              "0   20    139   240   Blue\n",
              "1  174     83    72  Brown\n",
              "2  144    249   131  Green\n",
              "3  168     25   156   Pink\n",
              "4   30    182   136  Green"
            ],
            "text/html": [
              "\n",
              "  <div id=\"df-3b84c5a9-b355-43c7-a020-8526a0f9a6ac\">\n",
              "    <div class=\"colab-df-container\">\n",
              "      <div>\n",
              "<style scoped>\n",
              "    .dataframe tbody tr th:only-of-type {\n",
              "        vertical-align: middle;\n",
              "    }\n",
              "\n",
              "    .dataframe tbody tr th {\n",
              "        vertical-align: top;\n",
              "    }\n",
              "\n",
              "    .dataframe thead th {\n",
              "        text-align: right;\n",
              "    }\n",
              "</style>\n",
              "<table border=\"1\" class=\"dataframe\">\n",
              "  <thead>\n",
              "    <tr style=\"text-align: right;\">\n",
              "      <th></th>\n",
              "      <th>red</th>\n",
              "      <th>green</th>\n",
              "      <th>blue</th>\n",
              "      <th>label</th>\n",
              "    </tr>\n",
              "  </thead>\n",
              "  <tbody>\n",
              "    <tr>\n",
              "      <th>0</th>\n",
              "      <td>20</td>\n",
              "      <td>139</td>\n",
              "      <td>240</td>\n",
              "      <td>Blue</td>\n",
              "    </tr>\n",
              "    <tr>\n",
              "      <th>1</th>\n",
              "      <td>174</td>\n",
              "      <td>83</td>\n",
              "      <td>72</td>\n",
              "      <td>Brown</td>\n",
              "    </tr>\n",
              "    <tr>\n",
              "      <th>2</th>\n",
              "      <td>144</td>\n",
              "      <td>249</td>\n",
              "      <td>131</td>\n",
              "      <td>Green</td>\n",
              "    </tr>\n",
              "    <tr>\n",
              "      <th>3</th>\n",
              "      <td>168</td>\n",
              "      <td>25</td>\n",
              "      <td>156</td>\n",
              "      <td>Pink</td>\n",
              "    </tr>\n",
              "    <tr>\n",
              "      <th>4</th>\n",
              "      <td>30</td>\n",
              "      <td>182</td>\n",
              "      <td>136</td>\n",
              "      <td>Green</td>\n",
              "    </tr>\n",
              "  </tbody>\n",
              "</table>\n",
              "</div>\n",
              "      <button class=\"colab-df-convert\" onclick=\"convertToInteractive('df-3b84c5a9-b355-43c7-a020-8526a0f9a6ac')\"\n",
              "              title=\"Convert this dataframe to an interactive table.\"\n",
              "              style=\"display:none;\">\n",
              "        \n",
              "  <svg xmlns=\"http://www.w3.org/2000/svg\" height=\"24px\"viewBox=\"0 0 24 24\"\n",
              "       width=\"24px\">\n",
              "    <path d=\"M0 0h24v24H0V0z\" fill=\"none\"/>\n",
              "    <path d=\"M18.56 5.44l.94 2.06.94-2.06 2.06-.94-2.06-.94-.94-2.06-.94 2.06-2.06.94zm-11 1L8.5 8.5l.94-2.06 2.06-.94-2.06-.94L8.5 2.5l-.94 2.06-2.06.94zm10 10l.94 2.06.94-2.06 2.06-.94-2.06-.94-.94-2.06-.94 2.06-2.06.94z\"/><path d=\"M17.41 7.96l-1.37-1.37c-.4-.4-.92-.59-1.43-.59-.52 0-1.04.2-1.43.59L10.3 9.45l-7.72 7.72c-.78.78-.78 2.05 0 2.83L4 21.41c.39.39.9.59 1.41.59.51 0 1.02-.2 1.41-.59l7.78-7.78 2.81-2.81c.8-.78.8-2.07 0-2.86zM5.41 20L4 18.59l7.72-7.72 1.47 1.35L5.41 20z\"/>\n",
              "  </svg>\n",
              "      </button>\n",
              "      \n",
              "  <style>\n",
              "    .colab-df-container {\n",
              "      display:flex;\n",
              "      flex-wrap:wrap;\n",
              "      gap: 12px;\n",
              "    }\n",
              "\n",
              "    .colab-df-convert {\n",
              "      background-color: #E8F0FE;\n",
              "      border: none;\n",
              "      border-radius: 50%;\n",
              "      cursor: pointer;\n",
              "      display: none;\n",
              "      fill: #1967D2;\n",
              "      height: 32px;\n",
              "      padding: 0 0 0 0;\n",
              "      width: 32px;\n",
              "    }\n",
              "\n",
              "    .colab-df-convert:hover {\n",
              "      background-color: #E2EBFA;\n",
              "      box-shadow: 0px 1px 2px rgba(60, 64, 67, 0.3), 0px 1px 3px 1px rgba(60, 64, 67, 0.15);\n",
              "      fill: #174EA6;\n",
              "    }\n",
              "\n",
              "    [theme=dark] .colab-df-convert {\n",
              "      background-color: #3B4455;\n",
              "      fill: #D2E3FC;\n",
              "    }\n",
              "\n",
              "    [theme=dark] .colab-df-convert:hover {\n",
              "      background-color: #434B5C;\n",
              "      box-shadow: 0px 1px 3px 1px rgba(0, 0, 0, 0.15);\n",
              "      filter: drop-shadow(0px 1px 2px rgba(0, 0, 0, 0.3));\n",
              "      fill: #FFFFFF;\n",
              "    }\n",
              "  </style>\n",
              "\n",
              "      <script>\n",
              "        const buttonEl =\n",
              "          document.querySelector('#df-3b84c5a9-b355-43c7-a020-8526a0f9a6ac button.colab-df-convert');\n",
              "        buttonEl.style.display =\n",
              "          google.colab.kernel.accessAllowed ? 'block' : 'none';\n",
              "\n",
              "        async function convertToInteractive(key) {\n",
              "          const element = document.querySelector('#df-3b84c5a9-b355-43c7-a020-8526a0f9a6ac');\n",
              "          const dataTable =\n",
              "            await google.colab.kernel.invokeFunction('convertToInteractive',\n",
              "                                                     [key], {});\n",
              "          if (!dataTable) return;\n",
              "\n",
              "          const docLinkHtml = 'Like what you see? Visit the ' +\n",
              "            '<a target=\"_blank\" href=https://colab.research.google.com/notebooks/data_table.ipynb>data table notebook</a>'\n",
              "            + ' to learn more about interactive tables.';\n",
              "          element.innerHTML = '';\n",
              "          dataTable['output_type'] = 'display_data';\n",
              "          await google.colab.output.renderOutput(dataTable, element);\n",
              "          const docLink = document.createElement('div');\n",
              "          docLink.innerHTML = docLinkHtml;\n",
              "          element.appendChild(docLink);\n",
              "        }\n",
              "      </script>\n",
              "    </div>\n",
              "  </div>\n",
              "  "
            ]
          },
          "metadata": {},
          "execution_count": 7
        }
      ],
      "source": [
        "color_set.head()"
      ]
    },
    {
      "cell_type": "code",
      "execution_count": 8,
      "metadata": {
        "colab": {
          "base_uri": "https://localhost:8080/"
        },
        "id": "p4iNJlfd_WC8",
        "outputId": "82e2d7b0-8847-45bd-9b95-8398ab4e3c7f"
      },
      "outputs": [
        {
          "output_type": "execute_result",
          "data": {
            "text/plain": [
              "Index(['red', 'green', 'blue', 'label'], dtype='object')"
            ]
          },
          "metadata": {},
          "execution_count": 8
        }
      ],
      "source": [
        "color_set.columns"
      ]
    },
    {
      "cell_type": "code",
      "execution_count": 9,
      "metadata": {
        "id": "5kwVVpk1_wbV"
      },
      "outputs": [],
      "source": [
        "nb_col=len(color_set.columns)"
      ]
    },
    {
      "cell_type": "markdown",
      "metadata": {
        "id": "gtkDUDRh_yJy"
      },
      "source": [
        "## Data Preprocessing\n"
      ]
    },
    {
      "cell_type": "markdown",
      "metadata": {
        "id": "rsI257xG_0kN"
      },
      "source": [
        "### Data Encoding\n",
        "Converting the label into binary variables using One-Hot Encoding as there is no order in the label"
      ]
    },
    {
      "cell_type": "code",
      "execution_count": 10,
      "metadata": {
        "colab": {
          "base_uri": "https://localhost:8080/",
          "height": 206
        },
        "id": "1eFYPPA-_wYP",
        "outputId": "693f715a-5543-4d7c-db53-19c350407ee6"
      },
      "outputs": [
        {
          "output_type": "execute_result",
          "data": {
            "text/plain": [
              "   red  green  blue  label_Black  label_Blue  label_Brown  label_Green  \\\n",
              "0   20    139   240            0           1            0            0   \n",
              "1  174     83    72            0           0            1            0   \n",
              "2  144    249   131            0           0            0            1   \n",
              "3  168     25   156            0           0            0            0   \n",
              "4   30    182   136            0           0            0            1   \n",
              "\n",
              "   label_Grey  label_Orange  label_Pink  label_Purple  label_Red  label_White  \\\n",
              "0           0             0           0             0          0            0   \n",
              "1           0             0           0             0          0            0   \n",
              "2           0             0           0             0          0            0   \n",
              "3           0             0           1             0          0            0   \n",
              "4           0             0           0             0          0            0   \n",
              "\n",
              "   label_Yellow  \n",
              "0             0  \n",
              "1             0  \n",
              "2             0  \n",
              "3             0  \n",
              "4             0  "
            ],
            "text/html": [
              "\n",
              "  <div id=\"df-65bb9f2c-5e27-40ec-896f-f38f75ea09e4\">\n",
              "    <div class=\"colab-df-container\">\n",
              "      <div>\n",
              "<style scoped>\n",
              "    .dataframe tbody tr th:only-of-type {\n",
              "        vertical-align: middle;\n",
              "    }\n",
              "\n",
              "    .dataframe tbody tr th {\n",
              "        vertical-align: top;\n",
              "    }\n",
              "\n",
              "    .dataframe thead th {\n",
              "        text-align: right;\n",
              "    }\n",
              "</style>\n",
              "<table border=\"1\" class=\"dataframe\">\n",
              "  <thead>\n",
              "    <tr style=\"text-align: right;\">\n",
              "      <th></th>\n",
              "      <th>red</th>\n",
              "      <th>green</th>\n",
              "      <th>blue</th>\n",
              "      <th>label_Black</th>\n",
              "      <th>label_Blue</th>\n",
              "      <th>label_Brown</th>\n",
              "      <th>label_Green</th>\n",
              "      <th>label_Grey</th>\n",
              "      <th>label_Orange</th>\n",
              "      <th>label_Pink</th>\n",
              "      <th>label_Purple</th>\n",
              "      <th>label_Red</th>\n",
              "      <th>label_White</th>\n",
              "      <th>label_Yellow</th>\n",
              "    </tr>\n",
              "  </thead>\n",
              "  <tbody>\n",
              "    <tr>\n",
              "      <th>0</th>\n",
              "      <td>20</td>\n",
              "      <td>139</td>\n",
              "      <td>240</td>\n",
              "      <td>0</td>\n",
              "      <td>1</td>\n",
              "      <td>0</td>\n",
              "      <td>0</td>\n",
              "      <td>0</td>\n",
              "      <td>0</td>\n",
              "      <td>0</td>\n",
              "      <td>0</td>\n",
              "      <td>0</td>\n",
              "      <td>0</td>\n",
              "      <td>0</td>\n",
              "    </tr>\n",
              "    <tr>\n",
              "      <th>1</th>\n",
              "      <td>174</td>\n",
              "      <td>83</td>\n",
              "      <td>72</td>\n",
              "      <td>0</td>\n",
              "      <td>0</td>\n",
              "      <td>1</td>\n",
              "      <td>0</td>\n",
              "      <td>0</td>\n",
              "      <td>0</td>\n",
              "      <td>0</td>\n",
              "      <td>0</td>\n",
              "      <td>0</td>\n",
              "      <td>0</td>\n",
              "      <td>0</td>\n",
              "    </tr>\n",
              "    <tr>\n",
              "      <th>2</th>\n",
              "      <td>144</td>\n",
              "      <td>249</td>\n",
              "      <td>131</td>\n",
              "      <td>0</td>\n",
              "      <td>0</td>\n",
              "      <td>0</td>\n",
              "      <td>1</td>\n",
              "      <td>0</td>\n",
              "      <td>0</td>\n",
              "      <td>0</td>\n",
              "      <td>0</td>\n",
              "      <td>0</td>\n",
              "      <td>0</td>\n",
              "      <td>0</td>\n",
              "    </tr>\n",
              "    <tr>\n",
              "      <th>3</th>\n",
              "      <td>168</td>\n",
              "      <td>25</td>\n",
              "      <td>156</td>\n",
              "      <td>0</td>\n",
              "      <td>0</td>\n",
              "      <td>0</td>\n",
              "      <td>0</td>\n",
              "      <td>0</td>\n",
              "      <td>0</td>\n",
              "      <td>1</td>\n",
              "      <td>0</td>\n",
              "      <td>0</td>\n",
              "      <td>0</td>\n",
              "      <td>0</td>\n",
              "    </tr>\n",
              "    <tr>\n",
              "      <th>4</th>\n",
              "      <td>30</td>\n",
              "      <td>182</td>\n",
              "      <td>136</td>\n",
              "      <td>0</td>\n",
              "      <td>0</td>\n",
              "      <td>0</td>\n",
              "      <td>1</td>\n",
              "      <td>0</td>\n",
              "      <td>0</td>\n",
              "      <td>0</td>\n",
              "      <td>0</td>\n",
              "      <td>0</td>\n",
              "      <td>0</td>\n",
              "      <td>0</td>\n",
              "    </tr>\n",
              "  </tbody>\n",
              "</table>\n",
              "</div>\n",
              "      <button class=\"colab-df-convert\" onclick=\"convertToInteractive('df-65bb9f2c-5e27-40ec-896f-f38f75ea09e4')\"\n",
              "              title=\"Convert this dataframe to an interactive table.\"\n",
              "              style=\"display:none;\">\n",
              "        \n",
              "  <svg xmlns=\"http://www.w3.org/2000/svg\" height=\"24px\"viewBox=\"0 0 24 24\"\n",
              "       width=\"24px\">\n",
              "    <path d=\"M0 0h24v24H0V0z\" fill=\"none\"/>\n",
              "    <path d=\"M18.56 5.44l.94 2.06.94-2.06 2.06-.94-2.06-.94-.94-2.06-.94 2.06-2.06.94zm-11 1L8.5 8.5l.94-2.06 2.06-.94-2.06-.94L8.5 2.5l-.94 2.06-2.06.94zm10 10l.94 2.06.94-2.06 2.06-.94-2.06-.94-.94-2.06-.94 2.06-2.06.94z\"/><path d=\"M17.41 7.96l-1.37-1.37c-.4-.4-.92-.59-1.43-.59-.52 0-1.04.2-1.43.59L10.3 9.45l-7.72 7.72c-.78.78-.78 2.05 0 2.83L4 21.41c.39.39.9.59 1.41.59.51 0 1.02-.2 1.41-.59l7.78-7.78 2.81-2.81c.8-.78.8-2.07 0-2.86zM5.41 20L4 18.59l7.72-7.72 1.47 1.35L5.41 20z\"/>\n",
              "  </svg>\n",
              "      </button>\n",
              "      \n",
              "  <style>\n",
              "    .colab-df-container {\n",
              "      display:flex;\n",
              "      flex-wrap:wrap;\n",
              "      gap: 12px;\n",
              "    }\n",
              "\n",
              "    .colab-df-convert {\n",
              "      background-color: #E8F0FE;\n",
              "      border: none;\n",
              "      border-radius: 50%;\n",
              "      cursor: pointer;\n",
              "      display: none;\n",
              "      fill: #1967D2;\n",
              "      height: 32px;\n",
              "      padding: 0 0 0 0;\n",
              "      width: 32px;\n",
              "    }\n",
              "\n",
              "    .colab-df-convert:hover {\n",
              "      background-color: #E2EBFA;\n",
              "      box-shadow: 0px 1px 2px rgba(60, 64, 67, 0.3), 0px 1px 3px 1px rgba(60, 64, 67, 0.15);\n",
              "      fill: #174EA6;\n",
              "    }\n",
              "\n",
              "    [theme=dark] .colab-df-convert {\n",
              "      background-color: #3B4455;\n",
              "      fill: #D2E3FC;\n",
              "    }\n",
              "\n",
              "    [theme=dark] .colab-df-convert:hover {\n",
              "      background-color: #434B5C;\n",
              "      box-shadow: 0px 1px 3px 1px rgba(0, 0, 0, 0.15);\n",
              "      filter: drop-shadow(0px 1px 2px rgba(0, 0, 0, 0.3));\n",
              "      fill: #FFFFFF;\n",
              "    }\n",
              "  </style>\n",
              "\n",
              "      <script>\n",
              "        const buttonEl =\n",
              "          document.querySelector('#df-65bb9f2c-5e27-40ec-896f-f38f75ea09e4 button.colab-df-convert');\n",
              "        buttonEl.style.display =\n",
              "          google.colab.kernel.accessAllowed ? 'block' : 'none';\n",
              "\n",
              "        async function convertToInteractive(key) {\n",
              "          const element = document.querySelector('#df-65bb9f2c-5e27-40ec-896f-f38f75ea09e4');\n",
              "          const dataTable =\n",
              "            await google.colab.kernel.invokeFunction('convertToInteractive',\n",
              "                                                     [key], {});\n",
              "          if (!dataTable) return;\n",
              "\n",
              "          const docLinkHtml = 'Like what you see? Visit the ' +\n",
              "            '<a target=\"_blank\" href=https://colab.research.google.com/notebooks/data_table.ipynb>data table notebook</a>'\n",
              "            + ' to learn more about interactive tables.';\n",
              "          element.innerHTML = '';\n",
              "          dataTable['output_type'] = 'display_data';\n",
              "          await google.colab.output.renderOutput(dataTable, element);\n",
              "          const docLink = document.createElement('div');\n",
              "          docLink.innerHTML = docLinkHtml;\n",
              "          element.appendChild(docLink);\n",
              "        }\n",
              "      </script>\n",
              "    </div>\n",
              "  </div>\n",
              "  "
            ]
          },
          "metadata": {},
          "execution_count": 10
        }
      ],
      "source": [
        "df_colors = pd.get_dummies(color_set, columns=['label'])\n",
        "df_colors.head()"
      ]
    },
    {
      "cell_type": "markdown",
      "metadata": {
        "id": "5Z4P1dVe5kHQ"
      },
      "source": [
        "### Data Normalization\n",
        "Transform the RGB value from 0 to 255 to values from 0 to 1"
      ]
    },
    {
      "cell_type": "code",
      "execution_count": 11,
      "metadata": {
        "id": "YB4UpU0d5kUQ"
      },
      "outputs": [],
      "source": [
        "df_colors['red'] = df_colors['red'] / 255.0\n",
        "df_colors['green'] = df_colors['green'] / 255.0\n",
        "df_colors['blue'] = df_colors['blue'] / 255.0"
      ]
    },
    {
      "cell_type": "code",
      "execution_count": 14,
      "metadata": {
        "colab": {
          "base_uri": "https://localhost:8080/",
          "height": 206
        },
        "id": "pzZFIdbt_HyS",
        "outputId": "fddeb5c6-ea08-4c33-bfde-5d5ae43326d9"
      },
      "outputs": [
        {
          "output_type": "execute_result",
          "data": {
            "text/plain": [
              "        red     green      blue  label_Black  label_Blue  label_Brown  \\\n",
              "0  0.078431  0.545098  0.941176            0           1            0   \n",
              "1  0.682353  0.325490  0.282353            0           0            1   \n",
              "2  0.564706  0.976471  0.513725            0           0            0   \n",
              "3  0.658824  0.098039  0.611765            0           0            0   \n",
              "4  0.117647  0.713725  0.533333            0           0            0   \n",
              "\n",
              "   label_Green  label_Grey  label_Orange  label_Pink  label_Purple  label_Red  \\\n",
              "0            0           0             0           0             0          0   \n",
              "1            0           0             0           0             0          0   \n",
              "2            1           0             0           0             0          0   \n",
              "3            0           0             0           1             0          0   \n",
              "4            1           0             0           0             0          0   \n",
              "\n",
              "   label_White  label_Yellow  \n",
              "0            0             0  \n",
              "1            0             0  \n",
              "2            0             0  \n",
              "3            0             0  \n",
              "4            0             0  "
            ],
            "text/html": [
              "\n",
              "  <div id=\"df-a2564482-ae06-457e-86db-60fe55eb9737\">\n",
              "    <div class=\"colab-df-container\">\n",
              "      <div>\n",
              "<style scoped>\n",
              "    .dataframe tbody tr th:only-of-type {\n",
              "        vertical-align: middle;\n",
              "    }\n",
              "\n",
              "    .dataframe tbody tr th {\n",
              "        vertical-align: top;\n",
              "    }\n",
              "\n",
              "    .dataframe thead th {\n",
              "        text-align: right;\n",
              "    }\n",
              "</style>\n",
              "<table border=\"1\" class=\"dataframe\">\n",
              "  <thead>\n",
              "    <tr style=\"text-align: right;\">\n",
              "      <th></th>\n",
              "      <th>red</th>\n",
              "      <th>green</th>\n",
              "      <th>blue</th>\n",
              "      <th>label_Black</th>\n",
              "      <th>label_Blue</th>\n",
              "      <th>label_Brown</th>\n",
              "      <th>label_Green</th>\n",
              "      <th>label_Grey</th>\n",
              "      <th>label_Orange</th>\n",
              "      <th>label_Pink</th>\n",
              "      <th>label_Purple</th>\n",
              "      <th>label_Red</th>\n",
              "      <th>label_White</th>\n",
              "      <th>label_Yellow</th>\n",
              "    </tr>\n",
              "  </thead>\n",
              "  <tbody>\n",
              "    <tr>\n",
              "      <th>0</th>\n",
              "      <td>0.078431</td>\n",
              "      <td>0.545098</td>\n",
              "      <td>0.941176</td>\n",
              "      <td>0</td>\n",
              "      <td>1</td>\n",
              "      <td>0</td>\n",
              "      <td>0</td>\n",
              "      <td>0</td>\n",
              "      <td>0</td>\n",
              "      <td>0</td>\n",
              "      <td>0</td>\n",
              "      <td>0</td>\n",
              "      <td>0</td>\n",
              "      <td>0</td>\n",
              "    </tr>\n",
              "    <tr>\n",
              "      <th>1</th>\n",
              "      <td>0.682353</td>\n",
              "      <td>0.325490</td>\n",
              "      <td>0.282353</td>\n",
              "      <td>0</td>\n",
              "      <td>0</td>\n",
              "      <td>1</td>\n",
              "      <td>0</td>\n",
              "      <td>0</td>\n",
              "      <td>0</td>\n",
              "      <td>0</td>\n",
              "      <td>0</td>\n",
              "      <td>0</td>\n",
              "      <td>0</td>\n",
              "      <td>0</td>\n",
              "    </tr>\n",
              "    <tr>\n",
              "      <th>2</th>\n",
              "      <td>0.564706</td>\n",
              "      <td>0.976471</td>\n",
              "      <td>0.513725</td>\n",
              "      <td>0</td>\n",
              "      <td>0</td>\n",
              "      <td>0</td>\n",
              "      <td>1</td>\n",
              "      <td>0</td>\n",
              "      <td>0</td>\n",
              "      <td>0</td>\n",
              "      <td>0</td>\n",
              "      <td>0</td>\n",
              "      <td>0</td>\n",
              "      <td>0</td>\n",
              "    </tr>\n",
              "    <tr>\n",
              "      <th>3</th>\n",
              "      <td>0.658824</td>\n",
              "      <td>0.098039</td>\n",
              "      <td>0.611765</td>\n",
              "      <td>0</td>\n",
              "      <td>0</td>\n",
              "      <td>0</td>\n",
              "      <td>0</td>\n",
              "      <td>0</td>\n",
              "      <td>0</td>\n",
              "      <td>1</td>\n",
              "      <td>0</td>\n",
              "      <td>0</td>\n",
              "      <td>0</td>\n",
              "      <td>0</td>\n",
              "    </tr>\n",
              "    <tr>\n",
              "      <th>4</th>\n",
              "      <td>0.117647</td>\n",
              "      <td>0.713725</td>\n",
              "      <td>0.533333</td>\n",
              "      <td>0</td>\n",
              "      <td>0</td>\n",
              "      <td>0</td>\n",
              "      <td>1</td>\n",
              "      <td>0</td>\n",
              "      <td>0</td>\n",
              "      <td>0</td>\n",
              "      <td>0</td>\n",
              "      <td>0</td>\n",
              "      <td>0</td>\n",
              "      <td>0</td>\n",
              "    </tr>\n",
              "  </tbody>\n",
              "</table>\n",
              "</div>\n",
              "      <button class=\"colab-df-convert\" onclick=\"convertToInteractive('df-a2564482-ae06-457e-86db-60fe55eb9737')\"\n",
              "              title=\"Convert this dataframe to an interactive table.\"\n",
              "              style=\"display:none;\">\n",
              "        \n",
              "  <svg xmlns=\"http://www.w3.org/2000/svg\" height=\"24px\"viewBox=\"0 0 24 24\"\n",
              "       width=\"24px\">\n",
              "    <path d=\"M0 0h24v24H0V0z\" fill=\"none\"/>\n",
              "    <path d=\"M18.56 5.44l.94 2.06.94-2.06 2.06-.94-2.06-.94-.94-2.06-.94 2.06-2.06.94zm-11 1L8.5 8.5l.94-2.06 2.06-.94-2.06-.94L8.5 2.5l-.94 2.06-2.06.94zm10 10l.94 2.06.94-2.06 2.06-.94-2.06-.94-.94-2.06-.94 2.06-2.06.94z\"/><path d=\"M17.41 7.96l-1.37-1.37c-.4-.4-.92-.59-1.43-.59-.52 0-1.04.2-1.43.59L10.3 9.45l-7.72 7.72c-.78.78-.78 2.05 0 2.83L4 21.41c.39.39.9.59 1.41.59.51 0 1.02-.2 1.41-.59l7.78-7.78 2.81-2.81c.8-.78.8-2.07 0-2.86zM5.41 20L4 18.59l7.72-7.72 1.47 1.35L5.41 20z\"/>\n",
              "  </svg>\n",
              "      </button>\n",
              "      \n",
              "  <style>\n",
              "    .colab-df-container {\n",
              "      display:flex;\n",
              "      flex-wrap:wrap;\n",
              "      gap: 12px;\n",
              "    }\n",
              "\n",
              "    .colab-df-convert {\n",
              "      background-color: #E8F0FE;\n",
              "      border: none;\n",
              "      border-radius: 50%;\n",
              "      cursor: pointer;\n",
              "      display: none;\n",
              "      fill: #1967D2;\n",
              "      height: 32px;\n",
              "      padding: 0 0 0 0;\n",
              "      width: 32px;\n",
              "    }\n",
              "\n",
              "    .colab-df-convert:hover {\n",
              "      background-color: #E2EBFA;\n",
              "      box-shadow: 0px 1px 2px rgba(60, 64, 67, 0.3), 0px 1px 3px 1px rgba(60, 64, 67, 0.15);\n",
              "      fill: #174EA6;\n",
              "    }\n",
              "\n",
              "    [theme=dark] .colab-df-convert {\n",
              "      background-color: #3B4455;\n",
              "      fill: #D2E3FC;\n",
              "    }\n",
              "\n",
              "    [theme=dark] .colab-df-convert:hover {\n",
              "      background-color: #434B5C;\n",
              "      box-shadow: 0px 1px 3px 1px rgba(0, 0, 0, 0.15);\n",
              "      filter: drop-shadow(0px 1px 2px rgba(0, 0, 0, 0.3));\n",
              "      fill: #FFFFFF;\n",
              "    }\n",
              "  </style>\n",
              "\n",
              "      <script>\n",
              "        const buttonEl =\n",
              "          document.querySelector('#df-a2564482-ae06-457e-86db-60fe55eb9737 button.colab-df-convert');\n",
              "        buttonEl.style.display =\n",
              "          google.colab.kernel.accessAllowed ? 'block' : 'none';\n",
              "\n",
              "        async function convertToInteractive(key) {\n",
              "          const element = document.querySelector('#df-a2564482-ae06-457e-86db-60fe55eb9737');\n",
              "          const dataTable =\n",
              "            await google.colab.kernel.invokeFunction('convertToInteractive',\n",
              "                                                     [key], {});\n",
              "          if (!dataTable) return;\n",
              "\n",
              "          const docLinkHtml = 'Like what you see? Visit the ' +\n",
              "            '<a target=\"_blank\" href=https://colab.research.google.com/notebooks/data_table.ipynb>data table notebook</a>'\n",
              "            + ' to learn more about interactive tables.';\n",
              "          element.innerHTML = '';\n",
              "          dataTable['output_type'] = 'display_data';\n",
              "          await google.colab.output.renderOutput(dataTable, element);\n",
              "          const docLink = document.createElement('div');\n",
              "          docLink.innerHTML = docLinkHtml;\n",
              "          element.appendChild(docLink);\n",
              "        }\n",
              "      </script>\n",
              "    </div>\n",
              "  </div>\n",
              "  "
            ]
          },
          "metadata": {},
          "execution_count": 14
        }
      ],
      "source": [
        "df_colors.head()"
      ]
    },
    {
      "cell_type": "markdown",
      "metadata": {
        "id": "Tkk1J_PFWL3Q"
      },
      "source": [
        "### Function to summarise"
      ]
    },
    {
      "cell_type": "code",
      "execution_count": 15,
      "metadata": {
        "id": "c6lNtpG_WL3Q"
      },
      "outputs": [],
      "source": [
        "def data_prep(df_data):\n",
        "    # normalization input\n",
        "    df_data['red'] = df_data['red'] / 255.0\n",
        "    df_data['green'] = df_data['green'] / 255.0\n",
        "    df_data['blue'] = df_data['blue'] / 255.0\n",
        "    \n",
        "    return df_data"
      ]
    },
    {
      "cell_type": "markdown",
      "metadata": {
        "id": "raW5gRHB_4Q7"
      },
      "source": [
        "### Split the dataset (70/10/20)"
      ]
    },
    {
      "cell_type": "markdown",
      "metadata": {
        "id": "2lMYoy3J_6em"
      },
      "source": [
        "Splitting the dataset into 2 sets:\n",
        "  - 80% for the training set (used to get the parameters of the model) including 10% for validation set (used to define the hyperparameter and avoid overfitting)\n",
        "  - 20% for test set (used to test the model on unseen data)"
      ]
    },
    {
      "cell_type": "code",
      "execution_count": 16,
      "metadata": {
        "id": "uNhxRJfD_wUm"
      },
      "outputs": [],
      "source": [
        "# sample the dataset\n",
        "df = shuffle(df_colors)\n",
        "\n",
        "# split between xs an ys\n",
        "xs, ys = np.split(df.values, [3], axis=1)\n",
        "#ys = ys.reshape(-1)"
      ]
    },
    {
      "cell_type": "code",
      "execution_count": 17,
      "metadata": {
        "id": "D-uosgmK_wOE"
      },
      "outputs": [],
      "source": [
        "xs_train, xs_test, ys_train, ys_test = train_test_split(xs, ys, test_size = 0.2, random_state = seed)"
      ]
    },
    {
      "cell_type": "markdown",
      "metadata": {
        "id": "yJdnsOw5sPdf"
      },
      "source": [
        "## Modelling"
      ]
    },
    {
      "cell_type": "markdown",
      "metadata": {
        "id": "dxA6pGSDxeim"
      },
      "source": [
        "### ANN"
      ]
    },
    {
      "cell_type": "markdown",
      "metadata": {
        "id": "P9LUhKp92c1Y"
      },
      "source": [
        "#### Model 1"
      ]
    },
    {
      "cell_type": "markdown",
      "metadata": {
        "id": "BNGun4Gcxfqc"
      },
      "source": [
        "Define and compile the model"
      ]
    },
    {
      "cell_type": "code",
      "execution_count": 18,
      "metadata": {
        "colab": {
          "base_uri": "https://localhost:8080/"
        },
        "id": "5UuB7Xq3xlPe",
        "outputId": "41cc4f30-4a7f-408d-fea4-c5a1b1acc87d"
      },
      "outputs": [
        {
          "output_type": "stream",
          "name": "stdout",
          "text": [
            "Model: \"sequential\"\n",
            "_________________________________________________________________\n",
            " Layer (type)                Output Shape              Param #   \n",
            "=================================================================\n",
            " dense (Dense)               (None, 3)                 12        \n",
            "                                                                 \n",
            " dense_1 (Dense)             (None, 16)                64        \n",
            "                                                                 \n",
            " dense_2 (Dense)             (None, 11)                187       \n",
            "                                                                 \n",
            "=================================================================\n",
            "Total params: 263\n",
            "Trainable params: 263\n",
            "Non-trainable params: 0\n",
            "_________________________________________________________________\n"
          ]
        }
      ],
      "source": [
        "# Parameters model 1\n",
        "nb_layers1 = 2\n",
        "activation_fct = 'relu'\n",
        "loss_function = 'mean_squared_error'\n",
        "optimizer = 'adam'\n",
        "xs_shape = len(pd.DataFrame(xs_train).keys())\n",
        "\n",
        "# model 1\n",
        "model1 = keras.Sequential([\n",
        "    layers.Dense(3, input_shape=[xs_shape], activation=activation_fct),\n",
        "    layers.Dense(16, activation = activation_fct),\n",
        "    layers.Dense(11)\n",
        "])\n",
        "model1.summary()\n",
        "\n",
        "# compile the model 1\n",
        "model1.compile(optimizer=optimizer, loss=loss_function, metrics=['accuracy'])"
      ]
    },
    {
      "cell_type": "markdown",
      "metadata": {
        "id": "tYxrUA2l2xP6"
      },
      "source": [
        "Train the model 1"
      ]
    },
    {
      "cell_type": "code",
      "execution_count": 19,
      "metadata": {
        "colab": {
          "base_uri": "https://localhost:8080/"
        },
        "id": "ONOwWOgzzMMh",
        "outputId": "168a36b9-2cec-4dc9-8c87-88be9cacda93"
      },
      "outputs": [
        {
          "output_type": "stream",
          "name": "stdout",
          "text": [
            "Epoch 1/200\n",
            "35/35 [==============================] - 6s 19ms/step - loss: 0.0941 - accuracy: 0.1028 - val_loss: 0.0838 - val_accuracy: 0.1466\n",
            "Epoch 2/200\n",
            "35/35 [==============================] - 0s 10ms/step - loss: 0.0794 - accuracy: 0.2959 - val_loss: 0.0766 - val_accuracy: 0.3493\n",
            "Epoch 3/200\n",
            "35/35 [==============================] - 0s 10ms/step - loss: 0.0745 - accuracy: 0.3733 - val_loss: 0.0720 - val_accuracy: 0.3970\n",
            "Epoch 4/200\n",
            "35/35 [==============================] - 0s 10ms/step - loss: 0.0698 - accuracy: 0.4211 - val_loss: 0.0665 - val_accuracy: 0.4794\n",
            "Epoch 5/200\n",
            "35/35 [==============================] - 0s 13ms/step - loss: 0.0641 - accuracy: 0.4918 - val_loss: 0.0607 - val_accuracy: 0.5404\n",
            "Epoch 6/200\n",
            "35/35 [==============================] - 0s 12ms/step - loss: 0.0589 - accuracy: 0.5492 - val_loss: 0.0561 - val_accuracy: 0.5799\n",
            "Epoch 7/200\n",
            "35/35 [==============================] - 0s 11ms/step - loss: 0.0548 - accuracy: 0.5763 - val_loss: 0.0528 - val_accuracy: 0.6079\n",
            "Epoch 8/200\n",
            "35/35 [==============================] - 1s 17ms/step - loss: 0.0520 - accuracy: 0.5996 - val_loss: 0.0506 - val_accuracy: 0.6227\n",
            "Epoch 9/200\n",
            "35/35 [==============================] - 1s 17ms/step - loss: 0.0500 - accuracy: 0.6171 - val_loss: 0.0492 - val_accuracy: 0.6359\n",
            "Epoch 10/200\n",
            "35/35 [==============================] - 0s 11ms/step - loss: 0.0487 - accuracy: 0.6302 - val_loss: 0.0480 - val_accuracy: 0.6442\n",
            "Epoch 11/200\n",
            "35/35 [==============================] - 1s 17ms/step - loss: 0.0477 - accuracy: 0.6418 - val_loss: 0.0471 - val_accuracy: 0.6507\n",
            "Epoch 12/200\n",
            "35/35 [==============================] - 0s 10ms/step - loss: 0.0468 - accuracy: 0.6552 - val_loss: 0.0462 - val_accuracy: 0.6507\n",
            "Epoch 13/200\n",
            "35/35 [==============================] - 0s 11ms/step - loss: 0.0460 - accuracy: 0.6549 - val_loss: 0.0455 - val_accuracy: 0.6524\n",
            "Epoch 14/200\n",
            "35/35 [==============================] - 0s 10ms/step - loss: 0.0453 - accuracy: 0.6567 - val_loss: 0.0449 - val_accuracy: 0.6540\n",
            "Epoch 15/200\n",
            "35/35 [==============================] - 0s 7ms/step - loss: 0.0446 - accuracy: 0.6639 - val_loss: 0.0442 - val_accuracy: 0.6557\n",
            "Epoch 16/200\n",
            "35/35 [==============================] - 0s 9ms/step - loss: 0.0440 - accuracy: 0.6584 - val_loss: 0.0436 - val_accuracy: 0.6639\n",
            "Epoch 17/200\n",
            "35/35 [==============================] - 0s 9ms/step - loss: 0.0433 - accuracy: 0.6724 - val_loss: 0.0429 - val_accuracy: 0.6722\n",
            "Epoch 18/200\n",
            "35/35 [==============================] - 0s 9ms/step - loss: 0.0426 - accuracy: 0.6776 - val_loss: 0.0423 - val_accuracy: 0.6820\n",
            "Epoch 19/200\n",
            "35/35 [==============================] - 0s 8ms/step - loss: 0.0420 - accuracy: 0.6902 - val_loss: 0.0418 - val_accuracy: 0.6837\n",
            "Epoch 20/200\n",
            "35/35 [==============================] - 0s 9ms/step - loss: 0.0415 - accuracy: 0.6881 - val_loss: 0.0412 - val_accuracy: 0.6903\n",
            "Epoch 21/200\n",
            "35/35 [==============================] - 0s 8ms/step - loss: 0.0409 - accuracy: 0.6939 - val_loss: 0.0407 - val_accuracy: 0.7100\n",
            "Epoch 22/200\n",
            "35/35 [==============================] - 0s 8ms/step - loss: 0.0403 - accuracy: 0.7050 - val_loss: 0.0401 - val_accuracy: 0.7100\n",
            "Epoch 23/200\n",
            "35/35 [==============================] - 0s 7ms/step - loss: 0.0398 - accuracy: 0.7149 - val_loss: 0.0396 - val_accuracy: 0.7183\n",
            "Epoch 24/200\n",
            "35/35 [==============================] - 0s 9ms/step - loss: 0.0393 - accuracy: 0.7143 - val_loss: 0.0391 - val_accuracy: 0.7265\n",
            "Epoch 25/200\n",
            "35/35 [==============================] - 0s 9ms/step - loss: 0.0387 - accuracy: 0.7266 - val_loss: 0.0386 - val_accuracy: 0.7298\n",
            "Epoch 26/200\n",
            "35/35 [==============================] - 0s 9ms/step - loss: 0.0382 - accuracy: 0.7333 - val_loss: 0.0382 - val_accuracy: 0.7381\n",
            "Epoch 27/200\n",
            "35/35 [==============================] - 0s 10ms/step - loss: 0.0377 - accuracy: 0.7440 - val_loss: 0.0376 - val_accuracy: 0.7282\n",
            "Epoch 28/200\n",
            "35/35 [==============================] - 0s 8ms/step - loss: 0.0373 - accuracy: 0.7469 - val_loss: 0.0372 - val_accuracy: 0.7545\n",
            "Epoch 29/200\n",
            "35/35 [==============================] - 0s 7ms/step - loss: 0.0368 - accuracy: 0.7522 - val_loss: 0.0368 - val_accuracy: 0.7512\n",
            "Epoch 30/200\n",
            "35/35 [==============================] - 0s 10ms/step - loss: 0.0363 - accuracy: 0.7647 - val_loss: 0.0363 - val_accuracy: 0.7545\n",
            "Epoch 31/200\n",
            "35/35 [==============================] - 0s 7ms/step - loss: 0.0358 - accuracy: 0.7740 - val_loss: 0.0359 - val_accuracy: 0.7644\n",
            "Epoch 32/200\n",
            "35/35 [==============================] - 0s 8ms/step - loss: 0.0353 - accuracy: 0.7781 - val_loss: 0.0354 - val_accuracy: 0.7677\n",
            "Epoch 33/200\n",
            "35/35 [==============================] - 0s 8ms/step - loss: 0.0348 - accuracy: 0.7845 - val_loss: 0.0349 - val_accuracy: 0.7677\n",
            "Epoch 34/200\n",
            "35/35 [==============================] - 0s 8ms/step - loss: 0.0344 - accuracy: 0.7796 - val_loss: 0.0345 - val_accuracy: 0.7644\n",
            "Epoch 35/200\n",
            "35/35 [==============================] - 0s 11ms/step - loss: 0.0339 - accuracy: 0.7912 - val_loss: 0.0340 - val_accuracy: 0.7776\n",
            "Epoch 36/200\n",
            "35/35 [==============================] - 0s 9ms/step - loss: 0.0335 - accuracy: 0.7900 - val_loss: 0.0337 - val_accuracy: 0.7743\n",
            "Epoch 37/200\n",
            "35/35 [==============================] - 0s 9ms/step - loss: 0.0331 - accuracy: 0.7964 - val_loss: 0.0333 - val_accuracy: 0.7776\n",
            "Epoch 38/200\n",
            "35/35 [==============================] - 0s 4ms/step - loss: 0.0327 - accuracy: 0.7976 - val_loss: 0.0330 - val_accuracy: 0.7776\n",
            "Epoch 39/200\n",
            "35/35 [==============================] - 0s 4ms/step - loss: 0.0323 - accuracy: 0.7997 - val_loss: 0.0327 - val_accuracy: 0.7743\n",
            "Epoch 40/200\n",
            "35/35 [==============================] - 0s 4ms/step - loss: 0.0320 - accuracy: 0.7967 - val_loss: 0.0323 - val_accuracy: 0.7875\n",
            "Epoch 41/200\n",
            "35/35 [==============================] - 0s 4ms/step - loss: 0.0317 - accuracy: 0.8029 - val_loss: 0.0320 - val_accuracy: 0.7858\n",
            "Epoch 42/200\n",
            "35/35 [==============================] - 0s 4ms/step - loss: 0.0314 - accuracy: 0.8040 - val_loss: 0.0318 - val_accuracy: 0.7809\n",
            "Epoch 43/200\n",
            "35/35 [==============================] - 0s 4ms/step - loss: 0.0311 - accuracy: 0.8017 - val_loss: 0.0315 - val_accuracy: 0.7908\n",
            "Epoch 44/200\n",
            "35/35 [==============================] - 0s 4ms/step - loss: 0.0308 - accuracy: 0.8034 - val_loss: 0.0312 - val_accuracy: 0.7924\n",
            "Epoch 45/200\n",
            "35/35 [==============================] - 0s 4ms/step - loss: 0.0306 - accuracy: 0.8063 - val_loss: 0.0309 - val_accuracy: 0.7957\n",
            "Epoch 46/200\n",
            "35/35 [==============================] - 0s 4ms/step - loss: 0.0304 - accuracy: 0.8058 - val_loss: 0.0307 - val_accuracy: 0.7974\n",
            "Epoch 47/200\n",
            "35/35 [==============================] - 0s 4ms/step - loss: 0.0302 - accuracy: 0.8040 - val_loss: 0.0306 - val_accuracy: 0.7941\n",
            "Epoch 48/200\n",
            "35/35 [==============================] - 0s 4ms/step - loss: 0.0299 - accuracy: 0.8055 - val_loss: 0.0304 - val_accuracy: 0.7941\n",
            "Epoch 49/200\n",
            "35/35 [==============================] - 0s 4ms/step - loss: 0.0297 - accuracy: 0.8078 - val_loss: 0.0301 - val_accuracy: 0.7941\n",
            "Epoch 50/200\n",
            "35/35 [==============================] - 0s 5ms/step - loss: 0.0296 - accuracy: 0.8069 - val_loss: 0.0300 - val_accuracy: 0.7924\n",
            "Epoch 51/200\n",
            "35/35 [==============================] - 0s 4ms/step - loss: 0.0294 - accuracy: 0.8078 - val_loss: 0.0298 - val_accuracy: 0.7957\n",
            "Epoch 52/200\n",
            "35/35 [==============================] - 0s 4ms/step - loss: 0.0292 - accuracy: 0.8072 - val_loss: 0.0296 - val_accuracy: 0.8007\n",
            "Epoch 53/200\n",
            "35/35 [==============================] - 0s 4ms/step - loss: 0.0291 - accuracy: 0.8063 - val_loss: 0.0295 - val_accuracy: 0.7990\n",
            "Epoch 54/200\n",
            "35/35 [==============================] - 0s 4ms/step - loss: 0.0289 - accuracy: 0.8072 - val_loss: 0.0294 - val_accuracy: 0.7974\n",
            "Epoch 55/200\n",
            "35/35 [==============================] - 0s 4ms/step - loss: 0.0288 - accuracy: 0.8069 - val_loss: 0.0293 - val_accuracy: 0.7974\n",
            "Epoch 56/200\n",
            "35/35 [==============================] - 0s 5ms/step - loss: 0.0287 - accuracy: 0.8107 - val_loss: 0.0292 - val_accuracy: 0.7957\n",
            "Epoch 57/200\n",
            "35/35 [==============================] - 0s 6ms/step - loss: 0.0286 - accuracy: 0.8104 - val_loss: 0.0290 - val_accuracy: 0.7974\n",
            "Epoch 58/200\n",
            "35/35 [==============================] - 0s 7ms/step - loss: 0.0284 - accuracy: 0.8096 - val_loss: 0.0289 - val_accuracy: 0.7990\n",
            "Epoch 59/200\n",
            "35/35 [==============================] - 0s 6ms/step - loss: 0.0283 - accuracy: 0.8107 - val_loss: 0.0288 - val_accuracy: 0.8007\n",
            "Epoch 60/200\n",
            "35/35 [==============================] - 0s 6ms/step - loss: 0.0282 - accuracy: 0.8125 - val_loss: 0.0287 - val_accuracy: 0.7974\n",
            "Epoch 61/200\n",
            "35/35 [==============================] - 0s 6ms/step - loss: 0.0281 - accuracy: 0.8119 - val_loss: 0.0286 - val_accuracy: 0.8023\n",
            "Epoch 62/200\n",
            "35/35 [==============================] - 0s 6ms/step - loss: 0.0280 - accuracy: 0.8110 - val_loss: 0.0285 - val_accuracy: 0.8023\n",
            "Epoch 63/200\n",
            "35/35 [==============================] - 0s 7ms/step - loss: 0.0279 - accuracy: 0.8133 - val_loss: 0.0285 - val_accuracy: 0.8040\n",
            "Epoch 64/200\n",
            "35/35 [==============================] - 0s 6ms/step - loss: 0.0278 - accuracy: 0.8154 - val_loss: 0.0284 - val_accuracy: 0.7974\n",
            "Epoch 65/200\n",
            "35/35 [==============================] - 0s 6ms/step - loss: 0.0277 - accuracy: 0.8154 - val_loss: 0.0283 - val_accuracy: 0.8023\n",
            "Epoch 66/200\n",
            "35/35 [==============================] - 0s 6ms/step - loss: 0.0277 - accuracy: 0.8122 - val_loss: 0.0282 - val_accuracy: 0.8040\n",
            "Epoch 67/200\n",
            "35/35 [==============================] - 0s 6ms/step - loss: 0.0275 - accuracy: 0.8157 - val_loss: 0.0282 - val_accuracy: 0.8072\n",
            "Epoch 68/200\n",
            "35/35 [==============================] - 0s 6ms/step - loss: 0.0275 - accuracy: 0.8162 - val_loss: 0.0280 - val_accuracy: 0.8089\n",
            "Epoch 69/200\n",
            "35/35 [==============================] - 0s 6ms/step - loss: 0.0274 - accuracy: 0.8165 - val_loss: 0.0280 - val_accuracy: 0.8072\n",
            "Epoch 70/200\n",
            "35/35 [==============================] - 0s 6ms/step - loss: 0.0273 - accuracy: 0.8151 - val_loss: 0.0279 - val_accuracy: 0.8072\n",
            "Epoch 71/200\n",
            "35/35 [==============================] - 0s 7ms/step - loss: 0.0272 - accuracy: 0.8168 - val_loss: 0.0278 - val_accuracy: 0.8072\n",
            "Epoch 72/200\n",
            "35/35 [==============================] - 0s 7ms/step - loss: 0.0272 - accuracy: 0.8160 - val_loss: 0.0278 - val_accuracy: 0.8023\n",
            "Epoch 73/200\n",
            "35/35 [==============================] - 0s 4ms/step - loss: 0.0271 - accuracy: 0.8186 - val_loss: 0.0277 - val_accuracy: 0.8089\n",
            "Epoch 74/200\n",
            "35/35 [==============================] - 0s 4ms/step - loss: 0.0270 - accuracy: 0.8168 - val_loss: 0.0277 - val_accuracy: 0.8056\n",
            "Epoch 75/200\n",
            "35/35 [==============================] - 0s 4ms/step - loss: 0.0269 - accuracy: 0.8174 - val_loss: 0.0275 - val_accuracy: 0.8072\n",
            "Epoch 76/200\n",
            "35/35 [==============================] - 0s 4ms/step - loss: 0.0269 - accuracy: 0.8177 - val_loss: 0.0275 - val_accuracy: 0.8040\n",
            "Epoch 77/200\n",
            "35/35 [==============================] - 0s 4ms/step - loss: 0.0268 - accuracy: 0.8165 - val_loss: 0.0274 - val_accuracy: 0.8138\n",
            "Epoch 78/200\n",
            "35/35 [==============================] - 0s 4ms/step - loss: 0.0267 - accuracy: 0.8183 - val_loss: 0.0274 - val_accuracy: 0.8089\n",
            "Epoch 79/200\n",
            "35/35 [==============================] - 0s 5ms/step - loss: 0.0267 - accuracy: 0.8203 - val_loss: 0.0273 - val_accuracy: 0.8089\n",
            "Epoch 80/200\n",
            "35/35 [==============================] - 0s 4ms/step - loss: 0.0266 - accuracy: 0.8157 - val_loss: 0.0273 - val_accuracy: 0.8056\n",
            "Epoch 81/200\n",
            "35/35 [==============================] - 0s 4ms/step - loss: 0.0266 - accuracy: 0.8180 - val_loss: 0.0272 - val_accuracy: 0.8089\n",
            "Epoch 82/200\n",
            "35/35 [==============================] - 0s 4ms/step - loss: 0.0265 - accuracy: 0.8165 - val_loss: 0.0272 - val_accuracy: 0.8056\n",
            "Epoch 83/200\n",
            "35/35 [==============================] - 0s 4ms/step - loss: 0.0264 - accuracy: 0.8203 - val_loss: 0.0272 - val_accuracy: 0.8072\n",
            "Epoch 84/200\n",
            "35/35 [==============================] - 0s 4ms/step - loss: 0.0265 - accuracy: 0.8200 - val_loss: 0.0271 - val_accuracy: 0.8138\n",
            "Epoch 85/200\n",
            "35/35 [==============================] - 0s 5ms/step - loss: 0.0264 - accuracy: 0.8186 - val_loss: 0.0271 - val_accuracy: 0.8138\n",
            "Epoch 86/200\n",
            "35/35 [==============================] - 0s 4ms/step - loss: 0.0263 - accuracy: 0.8174 - val_loss: 0.0270 - val_accuracy: 0.8122\n",
            "Epoch 87/200\n",
            "35/35 [==============================] - 0s 4ms/step - loss: 0.0262 - accuracy: 0.8180 - val_loss: 0.0270 - val_accuracy: 0.8122\n",
            "Epoch 88/200\n",
            "35/35 [==============================] - 0s 4ms/step - loss: 0.0262 - accuracy: 0.8186 - val_loss: 0.0269 - val_accuracy: 0.8089\n",
            "Epoch 89/200\n",
            "35/35 [==============================] - 0s 4ms/step - loss: 0.0261 - accuracy: 0.8197 - val_loss: 0.0268 - val_accuracy: 0.8105\n",
            "Epoch 90/200\n",
            "35/35 [==============================] - 0s 4ms/step - loss: 0.0261 - accuracy: 0.8200 - val_loss: 0.0267 - val_accuracy: 0.8138\n",
            "Epoch 91/200\n",
            "35/35 [==============================] - 0s 4ms/step - loss: 0.0261 - accuracy: 0.8192 - val_loss: 0.0267 - val_accuracy: 0.8122\n",
            "Epoch 92/200\n",
            "35/35 [==============================] - 0s 4ms/step - loss: 0.0260 - accuracy: 0.8221 - val_loss: 0.0267 - val_accuracy: 0.8138\n",
            "Epoch 93/200\n",
            "35/35 [==============================] - 0s 4ms/step - loss: 0.0260 - accuracy: 0.8200 - val_loss: 0.0266 - val_accuracy: 0.8122\n",
            "Epoch 94/200\n",
            "35/35 [==============================] - 0s 4ms/step - loss: 0.0259 - accuracy: 0.8206 - val_loss: 0.0266 - val_accuracy: 0.8072\n",
            "Epoch 95/200\n",
            "35/35 [==============================] - 0s 5ms/step - loss: 0.0259 - accuracy: 0.8215 - val_loss: 0.0265 - val_accuracy: 0.8122\n",
            "Epoch 96/200\n",
            "35/35 [==============================] - 0s 5ms/step - loss: 0.0258 - accuracy: 0.8212 - val_loss: 0.0265 - val_accuracy: 0.8105\n",
            "Epoch 97/200\n",
            "35/35 [==============================] - 0s 4ms/step - loss: 0.0258 - accuracy: 0.8267 - val_loss: 0.0266 - val_accuracy: 0.8040\n",
            "Epoch 98/200\n",
            "35/35 [==============================] - 0s 4ms/step - loss: 0.0258 - accuracy: 0.8203 - val_loss: 0.0265 - val_accuracy: 0.8171\n",
            "Epoch 99/200\n",
            "35/35 [==============================] - 0s 4ms/step - loss: 0.0257 - accuracy: 0.8247 - val_loss: 0.0264 - val_accuracy: 0.8089\n",
            "Epoch 100/200\n",
            "35/35 [==============================] - 0s 4ms/step - loss: 0.0257 - accuracy: 0.8253 - val_loss: 0.0264 - val_accuracy: 0.8089\n",
            "Epoch 101/200\n",
            "35/35 [==============================] - 0s 4ms/step - loss: 0.0256 - accuracy: 0.8244 - val_loss: 0.0263 - val_accuracy: 0.8171\n",
            "Epoch 102/200\n",
            "35/35 [==============================] - 0s 5ms/step - loss: 0.0256 - accuracy: 0.8247 - val_loss: 0.0263 - val_accuracy: 0.8138\n",
            "Epoch 103/200\n",
            "35/35 [==============================] - 0s 4ms/step - loss: 0.0255 - accuracy: 0.8262 - val_loss: 0.0263 - val_accuracy: 0.8105\n",
            "Epoch 104/200\n",
            "35/35 [==============================] - 0s 4ms/step - loss: 0.0255 - accuracy: 0.8229 - val_loss: 0.0263 - val_accuracy: 0.8105\n",
            "Epoch 105/200\n",
            "35/35 [==============================] - 0s 5ms/step - loss: 0.0255 - accuracy: 0.8253 - val_loss: 0.0262 - val_accuracy: 0.8122\n",
            "Epoch 106/200\n",
            "35/35 [==============================] - 0s 4ms/step - loss: 0.0255 - accuracy: 0.8244 - val_loss: 0.0261 - val_accuracy: 0.8105\n",
            "Epoch 107/200\n",
            "35/35 [==============================] - 0s 5ms/step - loss: 0.0254 - accuracy: 0.8241 - val_loss: 0.0261 - val_accuracy: 0.8089\n",
            "Epoch 108/200\n",
            "35/35 [==============================] - 0s 4ms/step - loss: 0.0254 - accuracy: 0.8267 - val_loss: 0.0261 - val_accuracy: 0.8122\n",
            "Epoch 109/200\n",
            "35/35 [==============================] - 0s 5ms/step - loss: 0.0253 - accuracy: 0.8253 - val_loss: 0.0260 - val_accuracy: 0.8122\n",
            "Epoch 110/200\n",
            "35/35 [==============================] - 0s 4ms/step - loss: 0.0253 - accuracy: 0.8288 - val_loss: 0.0260 - val_accuracy: 0.8155\n",
            "Epoch 111/200\n",
            "35/35 [==============================] - 0s 4ms/step - loss: 0.0253 - accuracy: 0.8250 - val_loss: 0.0260 - val_accuracy: 0.8138\n",
            "Epoch 112/200\n",
            "35/35 [==============================] - 0s 4ms/step - loss: 0.0252 - accuracy: 0.8259 - val_loss: 0.0260 - val_accuracy: 0.8089\n",
            "Epoch 113/200\n",
            "35/35 [==============================] - 0s 4ms/step - loss: 0.0252 - accuracy: 0.8279 - val_loss: 0.0259 - val_accuracy: 0.8023\n",
            "Epoch 114/200\n",
            "35/35 [==============================] - 0s 5ms/step - loss: 0.0252 - accuracy: 0.8273 - val_loss: 0.0259 - val_accuracy: 0.8089\n",
            "Epoch 115/200\n",
            "35/35 [==============================] - 0s 4ms/step - loss: 0.0251 - accuracy: 0.8273 - val_loss: 0.0259 - val_accuracy: 0.8089\n",
            "Epoch 116/200\n",
            "35/35 [==============================] - 0s 4ms/step - loss: 0.0251 - accuracy: 0.8267 - val_loss: 0.0258 - val_accuracy: 0.8105\n",
            "Epoch 117/200\n",
            "35/35 [==============================] - 0s 4ms/step - loss: 0.0251 - accuracy: 0.8299 - val_loss: 0.0258 - val_accuracy: 0.8072\n",
            "Epoch 118/200\n",
            "35/35 [==============================] - 0s 4ms/step - loss: 0.0250 - accuracy: 0.8291 - val_loss: 0.0257 - val_accuracy: 0.8155\n",
            "Epoch 119/200\n",
            "35/35 [==============================] - 0s 4ms/step - loss: 0.0250 - accuracy: 0.8262 - val_loss: 0.0257 - val_accuracy: 0.8138\n",
            "Epoch 120/200\n",
            "35/35 [==============================] - 0s 4ms/step - loss: 0.0249 - accuracy: 0.8326 - val_loss: 0.0257 - val_accuracy: 0.8072\n",
            "Epoch 121/200\n",
            "35/35 [==============================] - 0s 4ms/step - loss: 0.0249 - accuracy: 0.8299 - val_loss: 0.0256 - val_accuracy: 0.8171\n",
            "Epoch 122/200\n",
            "35/35 [==============================] - 0s 5ms/step - loss: 0.0249 - accuracy: 0.8317 - val_loss: 0.0257 - val_accuracy: 0.8105\n",
            "Epoch 123/200\n",
            "35/35 [==============================] - 0s 4ms/step - loss: 0.0249 - accuracy: 0.8308 - val_loss: 0.0256 - val_accuracy: 0.8105\n",
            "Epoch 124/200\n",
            "35/35 [==============================] - 0s 4ms/step - loss: 0.0248 - accuracy: 0.8299 - val_loss: 0.0256 - val_accuracy: 0.8122\n",
            "Epoch 125/200\n",
            "35/35 [==============================] - 0s 4ms/step - loss: 0.0248 - accuracy: 0.8343 - val_loss: 0.0256 - val_accuracy: 0.8105\n",
            "Epoch 126/200\n",
            "35/35 [==============================] - 0s 4ms/step - loss: 0.0248 - accuracy: 0.8305 - val_loss: 0.0255 - val_accuracy: 0.8122\n",
            "Epoch 127/200\n",
            "35/35 [==============================] - 0s 4ms/step - loss: 0.0247 - accuracy: 0.8314 - val_loss: 0.0255 - val_accuracy: 0.8221\n",
            "Epoch 128/200\n",
            "35/35 [==============================] - 0s 5ms/step - loss: 0.0247 - accuracy: 0.8328 - val_loss: 0.0256 - val_accuracy: 0.8105\n",
            "Epoch 129/200\n",
            "35/35 [==============================] - 0s 4ms/step - loss: 0.0247 - accuracy: 0.8346 - val_loss: 0.0254 - val_accuracy: 0.8138\n",
            "Epoch 130/200\n",
            "35/35 [==============================] - 0s 4ms/step - loss: 0.0246 - accuracy: 0.8340 - val_loss: 0.0254 - val_accuracy: 0.8171\n",
            "Epoch 131/200\n",
            "35/35 [==============================] - 0s 4ms/step - loss: 0.0246 - accuracy: 0.8328 - val_loss: 0.0254 - val_accuracy: 0.8122\n",
            "Epoch 132/200\n",
            "35/35 [==============================] - 0s 4ms/step - loss: 0.0246 - accuracy: 0.8326 - val_loss: 0.0254 - val_accuracy: 0.8188\n",
            "Epoch 133/200\n",
            "35/35 [==============================] - 0s 4ms/step - loss: 0.0246 - accuracy: 0.8352 - val_loss: 0.0254 - val_accuracy: 0.8122\n",
            "Epoch 134/200\n",
            "35/35 [==============================] - 0s 5ms/step - loss: 0.0246 - accuracy: 0.8311 - val_loss: 0.0254 - val_accuracy: 0.8204\n",
            "Epoch 135/200\n",
            "35/35 [==============================] - 0s 5ms/step - loss: 0.0245 - accuracy: 0.8340 - val_loss: 0.0253 - val_accuracy: 0.8122\n",
            "Epoch 136/200\n",
            "35/35 [==============================] - 0s 5ms/step - loss: 0.0245 - accuracy: 0.8323 - val_loss: 0.0253 - val_accuracy: 0.8122\n",
            "Epoch 137/200\n",
            "35/35 [==============================] - 0s 7ms/step - loss: 0.0245 - accuracy: 0.8334 - val_loss: 0.0253 - val_accuracy: 0.8221\n",
            "Epoch 138/200\n",
            "35/35 [==============================] - 0s 6ms/step - loss: 0.0245 - accuracy: 0.8358 - val_loss: 0.0252 - val_accuracy: 0.8221\n",
            "Epoch 139/200\n",
            "35/35 [==============================] - 0s 7ms/step - loss: 0.0244 - accuracy: 0.8358 - val_loss: 0.0252 - val_accuracy: 0.8204\n",
            "Epoch 140/200\n",
            "35/35 [==============================] - 0s 6ms/step - loss: 0.0244 - accuracy: 0.8361 - val_loss: 0.0252 - val_accuracy: 0.8188\n",
            "Epoch 141/200\n",
            "35/35 [==============================] - 0s 6ms/step - loss: 0.0244 - accuracy: 0.8372 - val_loss: 0.0252 - val_accuracy: 0.8138\n",
            "Epoch 142/200\n",
            "35/35 [==============================] - 0s 6ms/step - loss: 0.0244 - accuracy: 0.8363 - val_loss: 0.0251 - val_accuracy: 0.8188\n",
            "Epoch 143/200\n",
            "35/35 [==============================] - 0s 8ms/step - loss: 0.0244 - accuracy: 0.8372 - val_loss: 0.0251 - val_accuracy: 0.8171\n",
            "Epoch 144/200\n",
            "35/35 [==============================] - 0s 6ms/step - loss: 0.0243 - accuracy: 0.8369 - val_loss: 0.0252 - val_accuracy: 0.8237\n",
            "Epoch 145/200\n",
            "35/35 [==============================] - 0s 6ms/step - loss: 0.0243 - accuracy: 0.8381 - val_loss: 0.0251 - val_accuracy: 0.8122\n",
            "Epoch 146/200\n",
            "35/35 [==============================] - 0s 6ms/step - loss: 0.0242 - accuracy: 0.8398 - val_loss: 0.0252 - val_accuracy: 0.8204\n",
            "Epoch 147/200\n",
            "35/35 [==============================] - 0s 6ms/step - loss: 0.0243 - accuracy: 0.8352 - val_loss: 0.0251 - val_accuracy: 0.8237\n",
            "Epoch 148/200\n",
            "35/35 [==============================] - 0s 6ms/step - loss: 0.0242 - accuracy: 0.8378 - val_loss: 0.0252 - val_accuracy: 0.8138\n",
            "Epoch 149/200\n",
            "35/35 [==============================] - 0s 6ms/step - loss: 0.0242 - accuracy: 0.8387 - val_loss: 0.0251 - val_accuracy: 0.8188\n",
            "Epoch 150/200\n",
            "35/35 [==============================] - 0s 7ms/step - loss: 0.0241 - accuracy: 0.8378 - val_loss: 0.0250 - val_accuracy: 0.8171\n",
            "Epoch 151/200\n",
            "35/35 [==============================] - 0s 8ms/step - loss: 0.0241 - accuracy: 0.8398 - val_loss: 0.0250 - val_accuracy: 0.8204\n",
            "Epoch 152/200\n",
            "35/35 [==============================] - 0s 6ms/step - loss: 0.0241 - accuracy: 0.8410 - val_loss: 0.0250 - val_accuracy: 0.8221\n",
            "Epoch 153/200\n",
            "35/35 [==============================] - 0s 6ms/step - loss: 0.0241 - accuracy: 0.8390 - val_loss: 0.0249 - val_accuracy: 0.8254\n",
            "Epoch 154/200\n",
            "35/35 [==============================] - 0s 5ms/step - loss: 0.0240 - accuracy: 0.8390 - val_loss: 0.0249 - val_accuracy: 0.8287\n",
            "Epoch 155/200\n",
            "35/35 [==============================] - 0s 4ms/step - loss: 0.0241 - accuracy: 0.8384 - val_loss: 0.0249 - val_accuracy: 0.8204\n",
            "Epoch 156/200\n",
            "35/35 [==============================] - 0s 4ms/step - loss: 0.0240 - accuracy: 0.8407 - val_loss: 0.0250 - val_accuracy: 0.8188\n",
            "Epoch 157/200\n",
            "35/35 [==============================] - 0s 5ms/step - loss: 0.0240 - accuracy: 0.8390 - val_loss: 0.0248 - val_accuracy: 0.8237\n",
            "Epoch 158/200\n",
            "35/35 [==============================] - 0s 4ms/step - loss: 0.0240 - accuracy: 0.8410 - val_loss: 0.0249 - val_accuracy: 0.8188\n",
            "Epoch 159/200\n",
            "35/35 [==============================] - 0s 5ms/step - loss: 0.0240 - accuracy: 0.8430 - val_loss: 0.0249 - val_accuracy: 0.8221\n",
            "Epoch 160/200\n",
            "35/35 [==============================] - 0s 4ms/step - loss: 0.0239 - accuracy: 0.8381 - val_loss: 0.0248 - val_accuracy: 0.8221\n",
            "Epoch 161/200\n",
            "35/35 [==============================] - 0s 5ms/step - loss: 0.0240 - accuracy: 0.8395 - val_loss: 0.0249 - val_accuracy: 0.8171\n",
            "Epoch 162/200\n",
            "35/35 [==============================] - 0s 7ms/step - loss: 0.0239 - accuracy: 0.8401 - val_loss: 0.0248 - val_accuracy: 0.8204\n",
            "Epoch 163/200\n",
            "35/35 [==============================] - 0s 6ms/step - loss: 0.0239 - accuracy: 0.8381 - val_loss: 0.0248 - val_accuracy: 0.8287\n",
            "Epoch 164/200\n",
            "35/35 [==============================] - 0s 6ms/step - loss: 0.0239 - accuracy: 0.8407 - val_loss: 0.0247 - val_accuracy: 0.8270\n",
            "Epoch 165/200\n",
            "35/35 [==============================] - 0s 6ms/step - loss: 0.0238 - accuracy: 0.8416 - val_loss: 0.0247 - val_accuracy: 0.8254\n",
            "Epoch 166/200\n",
            "35/35 [==============================] - 0s 6ms/step - loss: 0.0238 - accuracy: 0.8413 - val_loss: 0.0248 - val_accuracy: 0.8287\n",
            "Epoch 167/200\n",
            "35/35 [==============================] - 0s 5ms/step - loss: 0.0238 - accuracy: 0.8407 - val_loss: 0.0247 - val_accuracy: 0.8254\n",
            "Epoch 168/200\n",
            "35/35 [==============================] - 0s 6ms/step - loss: 0.0237 - accuracy: 0.8407 - val_loss: 0.0247 - val_accuracy: 0.8270\n",
            "Epoch 169/200\n",
            "35/35 [==============================] - 0s 5ms/step - loss: 0.0238 - accuracy: 0.8433 - val_loss: 0.0247 - val_accuracy: 0.8270\n",
            "Epoch 170/200\n",
            "35/35 [==============================] - 0s 5ms/step - loss: 0.0237 - accuracy: 0.8436 - val_loss: 0.0247 - val_accuracy: 0.8221\n",
            "Epoch 171/200\n",
            "35/35 [==============================] - 0s 4ms/step - loss: 0.0237 - accuracy: 0.8425 - val_loss: 0.0247 - val_accuracy: 0.8237\n",
            "Epoch 172/200\n",
            "35/35 [==============================] - 0s 4ms/step - loss: 0.0237 - accuracy: 0.8419 - val_loss: 0.0247 - val_accuracy: 0.8204\n",
            "Epoch 173/200\n",
            "35/35 [==============================] - 0s 5ms/step - loss: 0.0237 - accuracy: 0.8436 - val_loss: 0.0246 - val_accuracy: 0.8237\n",
            "Epoch 174/200\n",
            "35/35 [==============================] - 0s 4ms/step - loss: 0.0236 - accuracy: 0.8416 - val_loss: 0.0246 - val_accuracy: 0.8254\n",
            "Epoch 175/200\n",
            "35/35 [==============================] - 0s 5ms/step - loss: 0.0236 - accuracy: 0.8419 - val_loss: 0.0247 - val_accuracy: 0.8188\n",
            "Epoch 176/200\n",
            "35/35 [==============================] - 0s 5ms/step - loss: 0.0236 - accuracy: 0.8413 - val_loss: 0.0246 - val_accuracy: 0.8171\n",
            "Epoch 177/200\n",
            "35/35 [==============================] - 0s 4ms/step - loss: 0.0235 - accuracy: 0.8430 - val_loss: 0.0245 - val_accuracy: 0.8237\n",
            "Epoch 178/200\n",
            "35/35 [==============================] - 0s 4ms/step - loss: 0.0236 - accuracy: 0.8398 - val_loss: 0.0246 - val_accuracy: 0.8303\n",
            "Epoch 179/200\n",
            "35/35 [==============================] - 0s 4ms/step - loss: 0.0236 - accuracy: 0.8442 - val_loss: 0.0246 - val_accuracy: 0.8254\n",
            "Epoch 180/200\n",
            "35/35 [==============================] - 0s 6ms/step - loss: 0.0235 - accuracy: 0.8404 - val_loss: 0.0246 - val_accuracy: 0.8188\n",
            "Epoch 181/200\n",
            "35/35 [==============================] - 0s 4ms/step - loss: 0.0235 - accuracy: 0.8436 - val_loss: 0.0245 - val_accuracy: 0.8221\n",
            "Epoch 182/200\n",
            "35/35 [==============================] - 0s 5ms/step - loss: 0.0235 - accuracy: 0.8398 - val_loss: 0.0245 - val_accuracy: 0.8287\n",
            "Epoch 183/200\n",
            "35/35 [==============================] - 0s 5ms/step - loss: 0.0235 - accuracy: 0.8422 - val_loss: 0.0244 - val_accuracy: 0.8287\n",
            "Epoch 184/200\n",
            "35/35 [==============================] - 0s 4ms/step - loss: 0.0234 - accuracy: 0.8439 - val_loss: 0.0245 - val_accuracy: 0.8254\n",
            "Epoch 185/200\n",
            "35/35 [==============================] - 0s 5ms/step - loss: 0.0234 - accuracy: 0.8439 - val_loss: 0.0244 - val_accuracy: 0.8270\n",
            "Epoch 186/200\n",
            "35/35 [==============================] - 0s 5ms/step - loss: 0.0234 - accuracy: 0.8436 - val_loss: 0.0245 - val_accuracy: 0.8287\n",
            "Epoch 187/200\n",
            "35/35 [==============================] - 0s 4ms/step - loss: 0.0234 - accuracy: 0.8439 - val_loss: 0.0245 - val_accuracy: 0.8270\n",
            "Epoch 188/200\n",
            "35/35 [==============================] - 0s 4ms/step - loss: 0.0234 - accuracy: 0.8436 - val_loss: 0.0245 - val_accuracy: 0.8270\n",
            "Epoch 189/200\n",
            "35/35 [==============================] - 0s 4ms/step - loss: 0.0234 - accuracy: 0.8422 - val_loss: 0.0244 - val_accuracy: 0.8237\n",
            "Epoch 190/200\n",
            "35/35 [==============================] - 0s 5ms/step - loss: 0.0233 - accuracy: 0.8445 - val_loss: 0.0244 - val_accuracy: 0.8254\n",
            "Epoch 191/200\n",
            "35/35 [==============================] - 0s 5ms/step - loss: 0.0233 - accuracy: 0.8425 - val_loss: 0.0243 - val_accuracy: 0.8336\n",
            "Epoch 192/200\n",
            "35/35 [==============================] - 0s 4ms/step - loss: 0.0233 - accuracy: 0.8439 - val_loss: 0.0245 - val_accuracy: 0.8221\n",
            "Epoch 193/200\n",
            "35/35 [==============================] - 0s 4ms/step - loss: 0.0233 - accuracy: 0.8430 - val_loss: 0.0243 - val_accuracy: 0.8336\n",
            "Epoch 194/200\n",
            "35/35 [==============================] - 0s 5ms/step - loss: 0.0233 - accuracy: 0.8445 - val_loss: 0.0244 - val_accuracy: 0.8188\n",
            "Epoch 195/200\n",
            "35/35 [==============================] - 0s 4ms/step - loss: 0.0233 - accuracy: 0.8416 - val_loss: 0.0243 - val_accuracy: 0.8287\n",
            "Epoch 196/200\n",
            "35/35 [==============================] - 0s 4ms/step - loss: 0.0233 - accuracy: 0.8436 - val_loss: 0.0243 - val_accuracy: 0.8254\n",
            "Epoch 197/200\n",
            "35/35 [==============================] - 0s 5ms/step - loss: 0.0233 - accuracy: 0.8419 - val_loss: 0.0243 - val_accuracy: 0.8287\n",
            "Epoch 198/200\n",
            "35/35 [==============================] - 0s 5ms/step - loss: 0.0232 - accuracy: 0.8445 - val_loss: 0.0244 - val_accuracy: 0.8221\n",
            "Epoch 199/200\n",
            "35/35 [==============================] - 0s 4ms/step - loss: 0.0232 - accuracy: 0.8430 - val_loss: 0.0243 - val_accuracy: 0.8254\n",
            "Epoch 200/200\n",
            "35/35 [==============================] - 0s 5ms/step - loss: 0.0232 - accuracy: 0.8439 - val_loss: 0.0243 - val_accuracy: 0.8254\n"
          ]
        }
      ],
      "source": [
        "# fit the model with the Train set\n",
        "training_history1 = model1.fit(x=xs_train, y=ys_train, \n",
        "                               validation_split=0.15, epochs=200,\n",
        "                               batch_size=100)\n",
        "\n",
        "# best accuracy 0.4671"
      ]
    },
    {
      "cell_type": "code",
      "execution_count": 20,
      "metadata": {
        "colab": {
          "base_uri": "https://localhost:8080/",
          "height": 206
        },
        "id": "joPsLQSe__hw",
        "outputId": "25ed582a-73f4-49bf-bd34-2a9e5f4552af"
      },
      "outputs": [
        {
          "output_type": "execute_result",
          "data": {
            "text/plain": [
              "         loss  accuracy  val_loss  val_accuracy  epoch\n",
              "195  0.023259  0.843623  0.024297      0.825371    195\n",
              "196  0.023257  0.841875  0.024326      0.828666    196\n",
              "197  0.023234  0.844496  0.024393      0.822076    197\n",
              "198  0.023245  0.843040  0.024339      0.825371    198\n",
              "199  0.023213  0.843914  0.024327      0.825371    199"
            ],
            "text/html": [
              "\n",
              "  <div id=\"df-581bbc5f-977b-43b4-8001-c24671f64107\">\n",
              "    <div class=\"colab-df-container\">\n",
              "      <div>\n",
              "<style scoped>\n",
              "    .dataframe tbody tr th:only-of-type {\n",
              "        vertical-align: middle;\n",
              "    }\n",
              "\n",
              "    .dataframe tbody tr th {\n",
              "        vertical-align: top;\n",
              "    }\n",
              "\n",
              "    .dataframe thead th {\n",
              "        text-align: right;\n",
              "    }\n",
              "</style>\n",
              "<table border=\"1\" class=\"dataframe\">\n",
              "  <thead>\n",
              "    <tr style=\"text-align: right;\">\n",
              "      <th></th>\n",
              "      <th>loss</th>\n",
              "      <th>accuracy</th>\n",
              "      <th>val_loss</th>\n",
              "      <th>val_accuracy</th>\n",
              "      <th>epoch</th>\n",
              "    </tr>\n",
              "  </thead>\n",
              "  <tbody>\n",
              "    <tr>\n",
              "      <th>195</th>\n",
              "      <td>0.023259</td>\n",
              "      <td>0.843623</td>\n",
              "      <td>0.024297</td>\n",
              "      <td>0.825371</td>\n",
              "      <td>195</td>\n",
              "    </tr>\n",
              "    <tr>\n",
              "      <th>196</th>\n",
              "      <td>0.023257</td>\n",
              "      <td>0.841875</td>\n",
              "      <td>0.024326</td>\n",
              "      <td>0.828666</td>\n",
              "      <td>196</td>\n",
              "    </tr>\n",
              "    <tr>\n",
              "      <th>197</th>\n",
              "      <td>0.023234</td>\n",
              "      <td>0.844496</td>\n",
              "      <td>0.024393</td>\n",
              "      <td>0.822076</td>\n",
              "      <td>197</td>\n",
              "    </tr>\n",
              "    <tr>\n",
              "      <th>198</th>\n",
              "      <td>0.023245</td>\n",
              "      <td>0.843040</td>\n",
              "      <td>0.024339</td>\n",
              "      <td>0.825371</td>\n",
              "      <td>198</td>\n",
              "    </tr>\n",
              "    <tr>\n",
              "      <th>199</th>\n",
              "      <td>0.023213</td>\n",
              "      <td>0.843914</td>\n",
              "      <td>0.024327</td>\n",
              "      <td>0.825371</td>\n",
              "      <td>199</td>\n",
              "    </tr>\n",
              "  </tbody>\n",
              "</table>\n",
              "</div>\n",
              "      <button class=\"colab-df-convert\" onclick=\"convertToInteractive('df-581bbc5f-977b-43b4-8001-c24671f64107')\"\n",
              "              title=\"Convert this dataframe to an interactive table.\"\n",
              "              style=\"display:none;\">\n",
              "        \n",
              "  <svg xmlns=\"http://www.w3.org/2000/svg\" height=\"24px\"viewBox=\"0 0 24 24\"\n",
              "       width=\"24px\">\n",
              "    <path d=\"M0 0h24v24H0V0z\" fill=\"none\"/>\n",
              "    <path d=\"M18.56 5.44l.94 2.06.94-2.06 2.06-.94-2.06-.94-.94-2.06-.94 2.06-2.06.94zm-11 1L8.5 8.5l.94-2.06 2.06-.94-2.06-.94L8.5 2.5l-.94 2.06-2.06.94zm10 10l.94 2.06.94-2.06 2.06-.94-2.06-.94-.94-2.06-.94 2.06-2.06.94z\"/><path d=\"M17.41 7.96l-1.37-1.37c-.4-.4-.92-.59-1.43-.59-.52 0-1.04.2-1.43.59L10.3 9.45l-7.72 7.72c-.78.78-.78 2.05 0 2.83L4 21.41c.39.39.9.59 1.41.59.51 0 1.02-.2 1.41-.59l7.78-7.78 2.81-2.81c.8-.78.8-2.07 0-2.86zM5.41 20L4 18.59l7.72-7.72 1.47 1.35L5.41 20z\"/>\n",
              "  </svg>\n",
              "      </button>\n",
              "      \n",
              "  <style>\n",
              "    .colab-df-container {\n",
              "      display:flex;\n",
              "      flex-wrap:wrap;\n",
              "      gap: 12px;\n",
              "    }\n",
              "\n",
              "    .colab-df-convert {\n",
              "      background-color: #E8F0FE;\n",
              "      border: none;\n",
              "      border-radius: 50%;\n",
              "      cursor: pointer;\n",
              "      display: none;\n",
              "      fill: #1967D2;\n",
              "      height: 32px;\n",
              "      padding: 0 0 0 0;\n",
              "      width: 32px;\n",
              "    }\n",
              "\n",
              "    .colab-df-convert:hover {\n",
              "      background-color: #E2EBFA;\n",
              "      box-shadow: 0px 1px 2px rgba(60, 64, 67, 0.3), 0px 1px 3px 1px rgba(60, 64, 67, 0.15);\n",
              "      fill: #174EA6;\n",
              "    }\n",
              "\n",
              "    [theme=dark] .colab-df-convert {\n",
              "      background-color: #3B4455;\n",
              "      fill: #D2E3FC;\n",
              "    }\n",
              "\n",
              "    [theme=dark] .colab-df-convert:hover {\n",
              "      background-color: #434B5C;\n",
              "      box-shadow: 0px 1px 3px 1px rgba(0, 0, 0, 0.15);\n",
              "      filter: drop-shadow(0px 1px 2px rgba(0, 0, 0, 0.3));\n",
              "      fill: #FFFFFF;\n",
              "    }\n",
              "  </style>\n",
              "\n",
              "      <script>\n",
              "        const buttonEl =\n",
              "          document.querySelector('#df-581bbc5f-977b-43b4-8001-c24671f64107 button.colab-df-convert');\n",
              "        buttonEl.style.display =\n",
              "          google.colab.kernel.accessAllowed ? 'block' : 'none';\n",
              "\n",
              "        async function convertToInteractive(key) {\n",
              "          const element = document.querySelector('#df-581bbc5f-977b-43b4-8001-c24671f64107');\n",
              "          const dataTable =\n",
              "            await google.colab.kernel.invokeFunction('convertToInteractive',\n",
              "                                                     [key], {});\n",
              "          if (!dataTable) return;\n",
              "\n",
              "          const docLinkHtml = 'Like what you see? Visit the ' +\n",
              "            '<a target=\"_blank\" href=https://colab.research.google.com/notebooks/data_table.ipynb>data table notebook</a>'\n",
              "            + ' to learn more about interactive tables.';\n",
              "          element.innerHTML = '';\n",
              "          dataTable['output_type'] = 'display_data';\n",
              "          await google.colab.output.renderOutput(dataTable, element);\n",
              "          const docLink = document.createElement('div');\n",
              "          docLink.innerHTML = docLinkHtml;\n",
              "          element.appendChild(docLink);\n",
              "        }\n",
              "      </script>\n",
              "    </div>\n",
              "  </div>\n",
              "  "
            ]
          },
          "metadata": {},
          "execution_count": 20
        }
      ],
      "source": [
        "hist1 = pd.DataFrame(training_history1.history)\n",
        "hist1['epoch'] = training_history1.epoch\n",
        "hist1.tail()"
      ]
    },
    {
      "cell_type": "code",
      "execution_count": 21,
      "metadata": {
        "colab": {
          "base_uri": "https://localhost:8080/"
        },
        "id": "ezntEzqBBnV3",
        "outputId": "48c69c86-613c-4cf8-c8b8-7ada542af7ca"
      },
      "outputs": [
        {
          "output_type": "stream",
          "name": "stdout",
          "text": [
            "127/127 [==============================] - 0s 2ms/step - loss: 0.0233 - accuracy: 0.8419\n",
            "Accuracy on train set [0.02331891842186451, 0.8418708443641663]\n"
          ]
        }
      ],
      "source": [
        "# Accuracy on training sets\n",
        "accuracy_m1_train = model1.evaluate(xs_train, ys_train) # loss: 0.0329 - accuracy: 0.7606\n",
        "\n",
        "print('Accuracy on train set', accuracy_m1_train)"
      ]
    },
    {
      "cell_type": "code",
      "execution_count": 22,
      "metadata": {
        "colab": {
          "base_uri": "https://localhost:8080/",
          "height": 472
        },
        "id": "niEqwWLIHGhI",
        "outputId": "74359d5a-5a07-4026-e3b1-9c2ef99676c0"
      },
      "outputs": [
        {
          "output_type": "display_data",
          "data": {
            "text/plain": [
              "<Figure size 640x480 with 1 Axes>"
            ],
            "image/png": "[encoded data removed]"
          },
          "metadata": {}
        }
      ],
      "source": [
        "plt.plot(hist1['accuracy'])\n",
        "plt.plot(hist1['val_accuracy'])\n",
        "plt.title('model accuracy')\n",
        "plt.ylabel('accuracy')\n",
        "plt.xlabel('epoch')\n",
        "plt.legend(['train', 'val'], loc='upper left')\n",
        "plt.show()"
      ]
    },
    {
      "cell_type": "markdown",
      "metadata": {
        "id": "ozf3iJrL3UtM"
      },
      "source": [
        "Evaluate and predict on the test set"
      ]
    },
    {
      "cell_type": "code",
      "execution_count": 23,
      "metadata": {
        "colab": {
          "base_uri": "https://localhost:8080/"
        },
        "id": "4hFCbr3c0RdA",
        "outputId": "62dccf3d-6485-4d3c-d283-3b7ee5e6f909"
      },
      "outputs": [
        {
          "output_type": "stream",
          "name": "stdout",
          "text": [
            "32/32 [==============================] - 0s 2ms/step - loss: 0.0251 - accuracy: 0.8220\n"
          ]
        }
      ],
      "source": [
        "model1_test_predict = model1.evaluate(xs_test, ys_test) # loss: 0.0294 - accuracy: 0.7814"
      ]
    },
    {
      "cell_type": "code",
      "execution_count": 24,
      "metadata": {
        "colab": {
          "base_uri": "https://localhost:8080/"
        },
        "id": "c2DBEX613Zqo",
        "outputId": "b0ea1882-8cf3-4369-93fc-0bcb09252b57"
      },
      "outputs": [
        {
          "output_type": "stream",
          "name": "stdout",
          "text": [
            "32/32 [==============================] - 0s 1ms/step\n",
            "shape is (1011, 11)\n"
          ]
        },
        {
          "output_type": "execute_result",
          "data": {
            "text/plain": [
              "array([[-3.46507654e-02,  2.26003975e-02,  1.50141120e-03, ...,\n",
              "         5.15416265e-03, -2.24152580e-03,  6.99541867e-02],\n",
              "       [ 3.90855968e-03,  1.93989158e-01, -2.06230879e-02, ...,\n",
              "         1.84600949e-02,  9.44747403e-03, -2.32177824e-02],\n",
              "       [ 1.05476305e-02,  1.01168072e+00, -1.91066563e-02, ...,\n",
              "        -6.22273982e-03,  4.44689766e-03,  1.92282945e-02],\n",
              "       ...,\n",
              "       [-4.45425734e-02,  9.72351059e-02, -1.54867381e-01, ...,\n",
              "         6.61954820e-01,  5.00406139e-02, -1.20906696e-01],\n",
              "       [ 4.08203155e-03,  1.00505424e+00, -2.31538117e-02, ...,\n",
              "         5.03887236e-03, -2.99908221e-04, -1.10924393e-02],\n",
              "       [-2.87465006e-03,  1.02214682e+00,  5.86999506e-02, ...,\n",
              "        -2.71674544e-02, -1.50496848e-02,  2.35024095e-03]], dtype=float32)"
            ]
          },
          "metadata": {},
          "execution_count": 24
        }
      ],
      "source": [
        "test_prediction1 = model1.predict(xs_test)\n",
        "print(\"shape is {}\".format(test_prediction1.shape))  \n",
        "test_prediction1"
      ]
    },
    {
      "cell_type": "code",
      "execution_count": 25,
      "metadata": {
        "colab": {
          "base_uri": "https://localhost:8080/"
        },
        "id": "G27SvPA5_RF2",
        "outputId": "4db654c5-7b9a-4d9d-e3a4-2a86b059e449"
      },
      "outputs": [
        {
          "output_type": "stream",
          "name": "stdout",
          "text": [
            "32/32 [==============================] - 0s 1ms/step\n",
            "[-0.00601535  0.8722501   0.07394119 -0.02315534 -0.10395803  0.03099319\n",
            "  0.07501222  0.25113308 -0.02809933 -0.01690364 -0.00422701]\n",
            "[0. 1. 0. 0. 0. 0. 0. 0. 0. 0. 0.]\n"
          ]
        }
      ],
      "source": [
        "color_class1 = model1.predict(xs_test)\n",
        "\n",
        "print(color_class1[8])\n",
        "print(ys_test[8]) # color 2 ie blue"
      ]
    },
    {
      "cell_type": "markdown",
      "metadata": {
        "id": "RTAQIHTG2rbP"
      },
      "source": [
        "#### Model 2"
      ]
    },
    {
      "cell_type": "markdown",
      "metadata": {
        "id": "Gvl04Ftc2qg5"
      },
      "source": [
        "Define and compile the model"
      ]
    },
    {
      "cell_type": "code",
      "execution_count": 26,
      "metadata": {
        "colab": {
          "base_uri": "https://localhost:8080/"
        },
        "id": "A1ZUBUkusxxm",
        "outputId": "59eee253-4b7f-4623-af0c-d2011bf4b655"
      },
      "outputs": [
        {
          "output_type": "stream",
          "name": "stdout",
          "text": [
            "Model: \"sequential_1\"\n",
            "_________________________________________________________________\n",
            " Layer (type)                Output Shape              Param #   \n",
            "=================================================================\n",
            " dense_3 (Dense)             (None, 3)                 12        \n",
            "                                                                 \n",
            " dense_4 (Dense)             (None, 24)                96        \n",
            "                                                                 \n",
            " dense_5 (Dense)             (None, 24)                600       \n",
            "                                                                 \n",
            " dense_6 (Dense)             (None, 16)                400       \n",
            "                                                                 \n",
            " dense_7 (Dense)             (None, 11)                187       \n",
            "                                                                 \n",
            "=================================================================\n",
            "Total params: 1,295\n",
            "Trainable params: 1,295\n",
            "Non-trainable params: 0\n",
            "_________________________________________________________________\n"
          ]
        }
      ],
      "source": [
        "# Parameters model 2\n",
        "activation_fct = 'relu'\n",
        "loss_function = 'mean_squared_error'\n",
        "optimizer = 'adam'\n",
        "\n",
        "# model 2\n",
        "model2 = keras.Sequential([\n",
        "    layers.Dense(3, kernel_regularizer=regularizers.l2(0.001), activation=activation_fct, input_shape=[3]),\n",
        "    layers.Dense(24, kernel_regularizer=regularizers.l2(0.001), activation=activation_fct),\n",
        "    layers.Dense(24, kernel_regularizer=regularizers.l2(0.001), activation=activation_fct),\n",
        "    layers.Dense(16, kernel_regularizer=regularizers.l2(0.001), activation=activation_fct),\n",
        "    layers.Dense(11)\n",
        "  ])\n",
        "model2.summary()\n",
        "\n",
        "# compile the model 2\n",
        "model2.compile(optimizer=optimizer, loss=loss_function, metrics=['accuracy'])\n"
      ]
    },
    {
      "cell_type": "markdown",
      "metadata": {
        "id": "iQoXHeI3scOs"
      },
      "source": [
        "Train the model 2"
      ]
    },
    {
      "cell_type": "code",
      "execution_count": 31,
      "metadata": {
        "colab": {
          "base_uri": "https://localhost:8080/"
        },
        "id": "Y0z1pBBWsZTZ",
        "outputId": "0795fe08-57e7-4b6a-f0d0-4ca6229e88e8"
      },
      "outputs": [
        {
          "output_type": "stream",
          "name": "stdout",
          "text": [
            "Epoch 1/200\n",
            "35/35 [==============================] - 2s 6ms/step - loss: 0.1304 - accuracy: 0.2603 - val_loss: 0.1221 - val_accuracy: 0.3394\n",
            "Epoch 2/200\n",
            "35/35 [==============================] - 0s 4ms/step - loss: 0.1149 - accuracy: 0.3710 - val_loss: 0.1092 - val_accuracy: 0.3509\n",
            "Epoch 3/200\n",
            "35/35 [==============================] - 0s 5ms/step - loss: 0.1028 - accuracy: 0.3815 - val_loss: 0.0977 - val_accuracy: 0.3624\n",
            "Epoch 4/200\n",
            "35/35 [==============================] - 0s 5ms/step - loss: 0.0915 - accuracy: 0.3966 - val_loss: 0.0878 - val_accuracy: 0.3806\n",
            "Epoch 5/200\n",
            "35/35 [==============================] - 0s 5ms/step - loss: 0.0827 - accuracy: 0.4097 - val_loss: 0.0812 - val_accuracy: 0.3904\n",
            "Epoch 6/200\n",
            "35/35 [==============================] - 0s 5ms/step - loss: 0.0772 - accuracy: 0.4275 - val_loss: 0.0775 - val_accuracy: 0.3937\n",
            "Epoch 7/200\n",
            "35/35 [==============================] - 0s 5ms/step - loss: 0.0738 - accuracy: 0.4429 - val_loss: 0.0746 - val_accuracy: 0.4036\n",
            "Epoch 8/200\n",
            "35/35 [==============================] - 0s 5ms/step - loss: 0.0714 - accuracy: 0.4499 - val_loss: 0.0725 - val_accuracy: 0.4267\n",
            "Epoch 9/200\n",
            "35/35 [==============================] - 0s 5ms/step - loss: 0.0694 - accuracy: 0.4645 - val_loss: 0.0709 - val_accuracy: 0.4349\n",
            "Epoch 10/200\n",
            "35/35 [==============================] - 0s 5ms/step - loss: 0.0680 - accuracy: 0.4712 - val_loss: 0.0694 - val_accuracy: 0.4498\n",
            "Epoch 11/200\n",
            "35/35 [==============================] - 0s 5ms/step - loss: 0.0666 - accuracy: 0.4822 - val_loss: 0.0683 - val_accuracy: 0.4530\n",
            "Epoch 12/200\n",
            "35/35 [==============================] - 0s 5ms/step - loss: 0.0656 - accuracy: 0.4930 - val_loss: 0.0674 - val_accuracy: 0.4580\n",
            "Epoch 13/200\n",
            "35/35 [==============================] - 0s 5ms/step - loss: 0.0647 - accuracy: 0.4921 - val_loss: 0.0666 - val_accuracy: 0.4695\n",
            "Epoch 14/200\n",
            "35/35 [==============================] - 0s 5ms/step - loss: 0.0640 - accuracy: 0.5000 - val_loss: 0.0660 - val_accuracy: 0.4794\n",
            "Epoch 15/200\n",
            "35/35 [==============================] - 0s 5ms/step - loss: 0.0634 - accuracy: 0.5050 - val_loss: 0.0653 - val_accuracy: 0.4827\n",
            "Epoch 16/200\n",
            "35/35 [==============================] - 0s 5ms/step - loss: 0.0629 - accuracy: 0.5087 - val_loss: 0.0649 - val_accuracy: 0.4876\n",
            "Epoch 17/200\n",
            "35/35 [==============================] - 0s 5ms/step - loss: 0.0626 - accuracy: 0.5096 - val_loss: 0.0646 - val_accuracy: 0.4827\n",
            "Epoch 18/200\n",
            "35/35 [==============================] - 0s 5ms/step - loss: 0.0621 - accuracy: 0.5125 - val_loss: 0.0644 - val_accuracy: 0.4811\n",
            "Epoch 19/200\n",
            "35/35 [==============================] - 0s 5ms/step - loss: 0.0618 - accuracy: 0.5114 - val_loss: 0.0640 - val_accuracy: 0.4860\n",
            "Epoch 20/200\n",
            "35/35 [==============================] - 0s 5ms/step - loss: 0.0616 - accuracy: 0.5128 - val_loss: 0.0638 - val_accuracy: 0.4876\n",
            "Epoch 21/200\n",
            "35/35 [==============================] - 0s 5ms/step - loss: 0.0614 - accuracy: 0.5122 - val_loss: 0.0636 - val_accuracy: 0.4876\n",
            "Epoch 22/200\n",
            "35/35 [==============================] - 0s 5ms/step - loss: 0.0613 - accuracy: 0.5114 - val_loss: 0.0634 - val_accuracy: 0.4893\n",
            "Epoch 23/200\n",
            "35/35 [==============================] - 0s 5ms/step - loss: 0.0611 - accuracy: 0.5157 - val_loss: 0.0638 - val_accuracy: 0.4876\n",
            "Epoch 24/200\n",
            "35/35 [==============================] - 0s 5ms/step - loss: 0.0613 - accuracy: 0.5128 - val_loss: 0.0632 - val_accuracy: 0.4909\n",
            "Epoch 25/200\n",
            "35/35 [==============================] - 0s 7ms/step - loss: 0.0609 - accuracy: 0.5128 - val_loss: 0.0630 - val_accuracy: 0.4959\n",
            "Epoch 26/200\n",
            "35/35 [==============================] - 0s 7ms/step - loss: 0.0608 - accuracy: 0.5146 - val_loss: 0.0631 - val_accuracy: 0.4909\n",
            "Epoch 27/200\n",
            "35/35 [==============================] - 0s 7ms/step - loss: 0.0608 - accuracy: 0.5122 - val_loss: 0.0631 - val_accuracy: 0.4926\n",
            "Epoch 28/200\n",
            "35/35 [==============================] - 0s 7ms/step - loss: 0.0606 - accuracy: 0.5151 - val_loss: 0.0629 - val_accuracy: 0.4909\n",
            "Epoch 29/200\n",
            "35/35 [==============================] - 0s 6ms/step - loss: 0.0606 - accuracy: 0.5134 - val_loss: 0.0627 - val_accuracy: 0.4942\n",
            "Epoch 30/200\n",
            "35/35 [==============================] - 0s 8ms/step - loss: 0.0605 - accuracy: 0.5143 - val_loss: 0.0628 - val_accuracy: 0.4992\n",
            "Epoch 31/200\n",
            "35/35 [==============================] - 0s 7ms/step - loss: 0.0604 - accuracy: 0.5125 - val_loss: 0.0626 - val_accuracy: 0.4942\n",
            "Epoch 32/200\n",
            "35/35 [==============================] - 0s 10ms/step - loss: 0.0603 - accuracy: 0.5143 - val_loss: 0.0625 - val_accuracy: 0.4992\n",
            "Epoch 33/200\n",
            "35/35 [==============================] - 0s 9ms/step - loss: 0.0602 - accuracy: 0.5157 - val_loss: 0.0625 - val_accuracy: 0.4909\n",
            "Epoch 34/200\n",
            "35/35 [==============================] - 0s 8ms/step - loss: 0.0602 - accuracy: 0.5166 - val_loss: 0.0624 - val_accuracy: 0.4909\n",
            "Epoch 35/200\n",
            "35/35 [==============================] - 0s 8ms/step - loss: 0.0601 - accuracy: 0.5122 - val_loss: 0.0624 - val_accuracy: 0.5008\n",
            "Epoch 36/200\n",
            "35/35 [==============================] - 0s 9ms/step - loss: 0.0600 - accuracy: 0.5172 - val_loss: 0.0623 - val_accuracy: 0.4942\n",
            "Epoch 37/200\n",
            "35/35 [==============================] - 0s 7ms/step - loss: 0.0600 - accuracy: 0.5163 - val_loss: 0.0626 - val_accuracy: 0.4909\n",
            "Epoch 38/200\n",
            "35/35 [==============================] - 0s 9ms/step - loss: 0.0601 - accuracy: 0.5163 - val_loss: 0.0622 - val_accuracy: 0.4926\n",
            "Epoch 39/200\n",
            "35/35 [==============================] - 0s 9ms/step - loss: 0.0599 - accuracy: 0.5140 - val_loss: 0.0622 - val_accuracy: 0.4942\n",
            "Epoch 40/200\n",
            "35/35 [==============================] - 0s 7ms/step - loss: 0.0599 - accuracy: 0.5160 - val_loss: 0.0621 - val_accuracy: 0.4959\n",
            "Epoch 41/200\n",
            "35/35 [==============================] - 0s 7ms/step - loss: 0.0598 - accuracy: 0.5192 - val_loss: 0.0622 - val_accuracy: 0.4959\n",
            "Epoch 42/200\n",
            "35/35 [==============================] - 0s 5ms/step - loss: 0.0598 - accuracy: 0.5131 - val_loss: 0.0622 - val_accuracy: 0.5008\n",
            "Epoch 43/200\n",
            "35/35 [==============================] - 0s 4ms/step - loss: 0.0598 - accuracy: 0.5175 - val_loss: 0.0619 - val_accuracy: 0.5008\n",
            "Epoch 44/200\n",
            "35/35 [==============================] - 0s 5ms/step - loss: 0.0597 - accuracy: 0.5160 - val_loss: 0.0619 - val_accuracy: 0.5008\n",
            "Epoch 45/200\n",
            "35/35 [==============================] - 0s 5ms/step - loss: 0.0597 - accuracy: 0.5172 - val_loss: 0.0619 - val_accuracy: 0.4959\n",
            "Epoch 46/200\n",
            "35/35 [==============================] - 0s 5ms/step - loss: 0.0597 - accuracy: 0.5134 - val_loss: 0.0621 - val_accuracy: 0.4975\n",
            "Epoch 47/200\n",
            "35/35 [==============================] - 0s 5ms/step - loss: 0.0598 - accuracy: 0.5207 - val_loss: 0.0618 - val_accuracy: 0.4959\n",
            "Epoch 48/200\n",
            "35/35 [==============================] - 0s 5ms/step - loss: 0.0596 - accuracy: 0.5149 - val_loss: 0.0617 - val_accuracy: 0.5008\n",
            "Epoch 49/200\n",
            "35/35 [==============================] - 0s 5ms/step - loss: 0.0595 - accuracy: 0.5172 - val_loss: 0.0618 - val_accuracy: 0.4959\n",
            "Epoch 50/200\n",
            "35/35 [==============================] - 0s 5ms/step - loss: 0.0595 - accuracy: 0.5169 - val_loss: 0.0620 - val_accuracy: 0.5025\n",
            "Epoch 51/200\n",
            "35/35 [==============================] - 0s 5ms/step - loss: 0.0595 - accuracy: 0.5172 - val_loss: 0.0618 - val_accuracy: 0.4942\n",
            "Epoch 52/200\n",
            "35/35 [==============================] - 0s 5ms/step - loss: 0.0594 - accuracy: 0.5146 - val_loss: 0.0617 - val_accuracy: 0.4975\n",
            "Epoch 53/200\n",
            "35/35 [==============================] - 0s 5ms/step - loss: 0.0594 - accuracy: 0.5172 - val_loss: 0.0618 - val_accuracy: 0.4926\n",
            "Epoch 54/200\n",
            "35/35 [==============================] - 0s 5ms/step - loss: 0.0594 - accuracy: 0.5163 - val_loss: 0.0616 - val_accuracy: 0.5058\n",
            "Epoch 55/200\n",
            "35/35 [==============================] - 0s 5ms/step - loss: 0.0594 - accuracy: 0.5160 - val_loss: 0.0617 - val_accuracy: 0.5025\n",
            "Epoch 56/200\n",
            "35/35 [==============================] - 0s 5ms/step - loss: 0.0593 - accuracy: 0.5169 - val_loss: 0.0618 - val_accuracy: 0.4909\n",
            "Epoch 57/200\n",
            "35/35 [==============================] - 0s 4ms/step - loss: 0.0594 - accuracy: 0.5128 - val_loss: 0.0616 - val_accuracy: 0.4959\n",
            "Epoch 58/200\n",
            "35/35 [==============================] - 0s 5ms/step - loss: 0.0593 - accuracy: 0.5172 - val_loss: 0.0616 - val_accuracy: 0.4959\n",
            "Epoch 59/200\n",
            "35/35 [==============================] - 0s 5ms/step - loss: 0.0594 - accuracy: 0.5128 - val_loss: 0.0615 - val_accuracy: 0.4975\n",
            "Epoch 60/200\n",
            "35/35 [==============================] - 0s 5ms/step - loss: 0.0593 - accuracy: 0.5128 - val_loss: 0.0617 - val_accuracy: 0.4975\n",
            "Epoch 61/200\n",
            "35/35 [==============================] - 0s 5ms/step - loss: 0.0592 - accuracy: 0.5163 - val_loss: 0.0617 - val_accuracy: 0.4942\n",
            "Epoch 62/200\n",
            "35/35 [==============================] - 0s 5ms/step - loss: 0.0593 - accuracy: 0.5163 - val_loss: 0.0615 - val_accuracy: 0.5041\n",
            "Epoch 63/200\n",
            "35/35 [==============================] - 0s 4ms/step - loss: 0.0592 - accuracy: 0.5178 - val_loss: 0.0615 - val_accuracy: 0.4942\n",
            "Epoch 64/200\n",
            "35/35 [==============================] - 0s 5ms/step - loss: 0.0592 - accuracy: 0.5166 - val_loss: 0.0615 - val_accuracy: 0.4992\n",
            "Epoch 65/200\n",
            "35/35 [==============================] - 0s 5ms/step - loss: 0.0591 - accuracy: 0.5160 - val_loss: 0.0614 - val_accuracy: 0.4992\n",
            "Epoch 66/200\n",
            "35/35 [==============================] - 0s 5ms/step - loss: 0.0591 - accuracy: 0.5149 - val_loss: 0.0615 - val_accuracy: 0.4975\n",
            "Epoch 67/200\n",
            "35/35 [==============================] - 0s 5ms/step - loss: 0.0592 - accuracy: 0.5195 - val_loss: 0.0614 - val_accuracy: 0.5008\n",
            "Epoch 68/200\n",
            "35/35 [==============================] - 0s 5ms/step - loss: 0.0591 - accuracy: 0.5186 - val_loss: 0.0616 - val_accuracy: 0.4942\n",
            "Epoch 69/200\n",
            "35/35 [==============================] - 0s 5ms/step - loss: 0.0591 - accuracy: 0.5143 - val_loss: 0.0614 - val_accuracy: 0.4975\n",
            "Epoch 70/200\n",
            "35/35 [==============================] - 0s 5ms/step - loss: 0.0591 - accuracy: 0.5175 - val_loss: 0.0614 - val_accuracy: 0.4942\n",
            "Epoch 71/200\n",
            "35/35 [==============================] - 0s 5ms/step - loss: 0.0590 - accuracy: 0.5157 - val_loss: 0.0612 - val_accuracy: 0.5025\n",
            "Epoch 72/200\n",
            "35/35 [==============================] - 0s 5ms/step - loss: 0.0590 - accuracy: 0.5183 - val_loss: 0.0612 - val_accuracy: 0.5074\n",
            "Epoch 73/200\n",
            "35/35 [==============================] - 0s 5ms/step - loss: 0.0591 - accuracy: 0.5166 - val_loss: 0.0614 - val_accuracy: 0.4992\n",
            "Epoch 74/200\n",
            "35/35 [==============================] - 0s 4ms/step - loss: 0.0590 - accuracy: 0.5137 - val_loss: 0.0612 - val_accuracy: 0.5025\n",
            "Epoch 75/200\n",
            "35/35 [==============================] - 0s 4ms/step - loss: 0.0590 - accuracy: 0.5189 - val_loss: 0.0611 - val_accuracy: 0.5091\n",
            "Epoch 76/200\n",
            "35/35 [==============================] - 0s 5ms/step - loss: 0.0589 - accuracy: 0.5178 - val_loss: 0.0614 - val_accuracy: 0.4959\n",
            "Epoch 77/200\n",
            "35/35 [==============================] - 0s 4ms/step - loss: 0.0589 - accuracy: 0.5163 - val_loss: 0.0613 - val_accuracy: 0.4942\n",
            "Epoch 78/200\n",
            "35/35 [==============================] - 0s 4ms/step - loss: 0.0590 - accuracy: 0.5175 - val_loss: 0.0614 - val_accuracy: 0.4975\n",
            "Epoch 79/200\n",
            "35/35 [==============================] - 0s 5ms/step - loss: 0.0589 - accuracy: 0.5151 - val_loss: 0.0612 - val_accuracy: 0.5025\n",
            "Epoch 80/200\n",
            "35/35 [==============================] - 0s 5ms/step - loss: 0.0589 - accuracy: 0.5181 - val_loss: 0.0611 - val_accuracy: 0.5008\n",
            "Epoch 81/200\n",
            "35/35 [==============================] - 0s 5ms/step - loss: 0.0589 - accuracy: 0.5189 - val_loss: 0.0611 - val_accuracy: 0.5025\n",
            "Epoch 82/200\n",
            "35/35 [==============================] - 0s 5ms/step - loss: 0.0589 - accuracy: 0.5195 - val_loss: 0.0611 - val_accuracy: 0.5025\n",
            "Epoch 83/200\n",
            "35/35 [==============================] - 0s 5ms/step - loss: 0.0588 - accuracy: 0.5186 - val_loss: 0.0611 - val_accuracy: 0.5025\n",
            "Epoch 84/200\n",
            "35/35 [==============================] - 0s 5ms/step - loss: 0.0588 - accuracy: 0.5163 - val_loss: 0.0610 - val_accuracy: 0.5025\n",
            "Epoch 85/200\n",
            "35/35 [==============================] - 0s 5ms/step - loss: 0.0588 - accuracy: 0.5198 - val_loss: 0.0611 - val_accuracy: 0.4959\n",
            "Epoch 86/200\n",
            "35/35 [==============================] - 0s 4ms/step - loss: 0.0589 - accuracy: 0.5175 - val_loss: 0.0611 - val_accuracy: 0.4992\n",
            "Epoch 87/200\n",
            "35/35 [==============================] - 0s 4ms/step - loss: 0.0588 - accuracy: 0.5192 - val_loss: 0.0613 - val_accuracy: 0.4942\n",
            "Epoch 88/200\n",
            "35/35 [==============================] - 0s 5ms/step - loss: 0.0590 - accuracy: 0.5172 - val_loss: 0.0612 - val_accuracy: 0.4992\n",
            "Epoch 89/200\n",
            "35/35 [==============================] - 0s 4ms/step - loss: 0.0588 - accuracy: 0.5163 - val_loss: 0.0611 - val_accuracy: 0.4992\n",
            "Epoch 90/200\n",
            "35/35 [==============================] - 0s 9ms/step - loss: 0.0588 - accuracy: 0.5186 - val_loss: 0.0609 - val_accuracy: 0.5074\n",
            "Epoch 91/200\n",
            "35/35 [==============================] - 0s 9ms/step - loss: 0.0588 - accuracy: 0.5169 - val_loss: 0.0610 - val_accuracy: 0.4992\n",
            "Epoch 92/200\n",
            "35/35 [==============================] - 0s 10ms/step - loss: 0.0587 - accuracy: 0.5178 - val_loss: 0.0609 - val_accuracy: 0.5025\n",
            "Epoch 93/200\n",
            "35/35 [==============================] - 0s 11ms/step - loss: 0.0587 - accuracy: 0.5175 - val_loss: 0.0610 - val_accuracy: 0.5041\n",
            "Epoch 94/200\n",
            "35/35 [==============================] - 0s 12ms/step - loss: 0.0588 - accuracy: 0.5160 - val_loss: 0.0610 - val_accuracy: 0.4992\n",
            "Epoch 95/200\n",
            "35/35 [==============================] - 1s 18ms/step - loss: 0.0587 - accuracy: 0.5163 - val_loss: 0.0611 - val_accuracy: 0.5025\n",
            "Epoch 96/200\n",
            "35/35 [==============================] - 1s 18ms/step - loss: 0.0587 - accuracy: 0.5189 - val_loss: 0.0611 - val_accuracy: 0.5008\n",
            "Epoch 97/200\n",
            "35/35 [==============================] - 0s 7ms/step - loss: 0.0587 - accuracy: 0.5154 - val_loss: 0.0610 - val_accuracy: 0.5025\n",
            "Epoch 98/200\n",
            "35/35 [==============================] - 0s 8ms/step - loss: 0.0586 - accuracy: 0.5192 - val_loss: 0.0611 - val_accuracy: 0.4926\n",
            "Epoch 99/200\n",
            "35/35 [==============================] - 0s 7ms/step - loss: 0.0587 - accuracy: 0.5189 - val_loss: 0.0609 - val_accuracy: 0.5008\n",
            "Epoch 100/200\n",
            "35/35 [==============================] - 0s 7ms/step - loss: 0.0586 - accuracy: 0.5149 - val_loss: 0.0608 - val_accuracy: 0.5025\n",
            "Epoch 101/200\n",
            "35/35 [==============================] - 0s 8ms/step - loss: 0.0586 - accuracy: 0.5204 - val_loss: 0.0608 - val_accuracy: 0.5025\n",
            "Epoch 102/200\n",
            "35/35 [==============================] - 0s 9ms/step - loss: 0.0587 - accuracy: 0.5207 - val_loss: 0.0609 - val_accuracy: 0.4959\n",
            "Epoch 103/200\n",
            "35/35 [==============================] - 0s 7ms/step - loss: 0.0586 - accuracy: 0.5181 - val_loss: 0.0608 - val_accuracy: 0.5008\n",
            "Epoch 104/200\n",
            "35/35 [==============================] - 0s 7ms/step - loss: 0.0585 - accuracy: 0.5172 - val_loss: 0.0608 - val_accuracy: 0.5008\n",
            "Epoch 105/200\n",
            "35/35 [==============================] - 0s 7ms/step - loss: 0.0586 - accuracy: 0.5146 - val_loss: 0.0609 - val_accuracy: 0.5025\n",
            "Epoch 106/200\n",
            "35/35 [==============================] - 0s 5ms/step - loss: 0.0586 - accuracy: 0.5169 - val_loss: 0.0607 - val_accuracy: 0.5107\n",
            "Epoch 107/200\n",
            "35/35 [==============================] - 0s 4ms/step - loss: 0.0586 - accuracy: 0.5192 - val_loss: 0.0608 - val_accuracy: 0.5058\n",
            "Epoch 108/200\n",
            "35/35 [==============================] - 0s 5ms/step - loss: 0.0585 - accuracy: 0.5210 - val_loss: 0.0609 - val_accuracy: 0.4959\n",
            "Epoch 109/200\n",
            "35/35 [==============================] - 0s 5ms/step - loss: 0.0587 - accuracy: 0.5230 - val_loss: 0.0608 - val_accuracy: 0.4992\n",
            "Epoch 110/200\n",
            "35/35 [==============================] - 0s 5ms/step - loss: 0.0587 - accuracy: 0.5143 - val_loss: 0.0611 - val_accuracy: 0.5041\n",
            "Epoch 111/200\n",
            "35/35 [==============================] - 0s 5ms/step - loss: 0.0585 - accuracy: 0.5175 - val_loss: 0.0607 - val_accuracy: 0.5041\n",
            "Epoch 112/200\n",
            "35/35 [==============================] - 0s 5ms/step - loss: 0.0585 - accuracy: 0.5172 - val_loss: 0.0608 - val_accuracy: 0.4959\n",
            "Epoch 113/200\n",
            "35/35 [==============================] - 0s 5ms/step - loss: 0.0585 - accuracy: 0.5178 - val_loss: 0.0607 - val_accuracy: 0.5025\n",
            "Epoch 114/200\n",
            "35/35 [==============================] - 0s 5ms/step - loss: 0.0585 - accuracy: 0.5195 - val_loss: 0.0608 - val_accuracy: 0.4975\n",
            "Epoch 115/200\n",
            "35/35 [==============================] - 0s 6ms/step - loss: 0.0586 - accuracy: 0.5146 - val_loss: 0.0608 - val_accuracy: 0.5025\n",
            "Epoch 116/200\n",
            "35/35 [==============================] - 0s 5ms/step - loss: 0.0585 - accuracy: 0.5169 - val_loss: 0.0608 - val_accuracy: 0.4975\n",
            "Epoch 117/200\n",
            "35/35 [==============================] - 0s 5ms/step - loss: 0.0586 - accuracy: 0.5154 - val_loss: 0.0608 - val_accuracy: 0.4992\n",
            "Epoch 118/200\n",
            "35/35 [==============================] - 0s 5ms/step - loss: 0.0585 - accuracy: 0.5160 - val_loss: 0.0609 - val_accuracy: 0.4992\n",
            "Epoch 119/200\n",
            "35/35 [==============================] - 0s 5ms/step - loss: 0.0584 - accuracy: 0.5192 - val_loss: 0.0607 - val_accuracy: 0.5008\n",
            "Epoch 120/200\n",
            "35/35 [==============================] - 0s 5ms/step - loss: 0.0584 - accuracy: 0.5149 - val_loss: 0.0606 - val_accuracy: 0.5008\n",
            "Epoch 121/200\n",
            "35/35 [==============================] - 0s 5ms/step - loss: 0.0585 - accuracy: 0.5224 - val_loss: 0.0607 - val_accuracy: 0.4992\n",
            "Epoch 122/200\n",
            "35/35 [==============================] - 0s 5ms/step - loss: 0.0585 - accuracy: 0.5169 - val_loss: 0.0606 - val_accuracy: 0.5074\n",
            "Epoch 123/200\n",
            "35/35 [==============================] - 0s 5ms/step - loss: 0.0584 - accuracy: 0.5149 - val_loss: 0.0611 - val_accuracy: 0.5025\n",
            "Epoch 124/200\n",
            "35/35 [==============================] - 0s 5ms/step - loss: 0.0586 - accuracy: 0.5218 - val_loss: 0.0606 - val_accuracy: 0.5041\n",
            "Epoch 125/200\n",
            "35/35 [==============================] - 0s 5ms/step - loss: 0.0584 - accuracy: 0.5149 - val_loss: 0.0606 - val_accuracy: 0.4975\n",
            "Epoch 126/200\n",
            "35/35 [==============================] - 0s 5ms/step - loss: 0.0584 - accuracy: 0.5210 - val_loss: 0.0606 - val_accuracy: 0.5107\n",
            "Epoch 127/200\n",
            "35/35 [==============================] - 0s 5ms/step - loss: 0.0584 - accuracy: 0.5213 - val_loss: 0.0606 - val_accuracy: 0.4992\n",
            "Epoch 128/200\n",
            "35/35 [==============================] - 0s 5ms/step - loss: 0.0583 - accuracy: 0.5192 - val_loss: 0.0606 - val_accuracy: 0.5025\n",
            "Epoch 129/200\n",
            "35/35 [==============================] - 0s 5ms/step - loss: 0.0583 - accuracy: 0.5201 - val_loss: 0.0607 - val_accuracy: 0.4992\n",
            "Epoch 130/200\n",
            "35/35 [==============================] - 0s 5ms/step - loss: 0.0584 - accuracy: 0.5175 - val_loss: 0.0605 - val_accuracy: 0.5074\n",
            "Epoch 131/200\n",
            "35/35 [==============================] - 0s 5ms/step - loss: 0.0583 - accuracy: 0.5198 - val_loss: 0.0606 - val_accuracy: 0.4992\n",
            "Epoch 132/200\n",
            "35/35 [==============================] - 0s 5ms/step - loss: 0.0583 - accuracy: 0.5189 - val_loss: 0.0606 - val_accuracy: 0.4975\n",
            "Epoch 133/200\n",
            "35/35 [==============================] - 0s 5ms/step - loss: 0.0584 - accuracy: 0.5131 - val_loss: 0.0606 - val_accuracy: 0.5041\n",
            "Epoch 134/200\n",
            "35/35 [==============================] - 0s 5ms/step - loss: 0.0583 - accuracy: 0.5175 - val_loss: 0.0607 - val_accuracy: 0.5025\n",
            "Epoch 135/200\n",
            "35/35 [==============================] - 0s 5ms/step - loss: 0.0583 - accuracy: 0.5189 - val_loss: 0.0606 - val_accuracy: 0.4975\n",
            "Epoch 136/200\n",
            "35/35 [==============================] - 0s 5ms/step - loss: 0.0584 - accuracy: 0.5178 - val_loss: 0.0611 - val_accuracy: 0.4926\n",
            "Epoch 137/200\n",
            "35/35 [==============================] - 0s 5ms/step - loss: 0.0584 - accuracy: 0.5181 - val_loss: 0.0606 - val_accuracy: 0.5008\n",
            "Epoch 138/200\n",
            "35/35 [==============================] - 0s 5ms/step - loss: 0.0583 - accuracy: 0.5154 - val_loss: 0.0606 - val_accuracy: 0.5025\n",
            "Epoch 139/200\n",
            "35/35 [==============================] - 0s 6ms/step - loss: 0.0582 - accuracy: 0.5210 - val_loss: 0.0605 - val_accuracy: 0.5041\n",
            "Epoch 140/200\n",
            "35/35 [==============================] - 0s 5ms/step - loss: 0.0584 - accuracy: 0.5181 - val_loss: 0.0605 - val_accuracy: 0.5025\n",
            "Epoch 141/200\n",
            "35/35 [==============================] - 0s 5ms/step - loss: 0.0583 - accuracy: 0.5204 - val_loss: 0.0604 - val_accuracy: 0.5058\n",
            "Epoch 142/200\n",
            "35/35 [==============================] - 0s 5ms/step - loss: 0.0583 - accuracy: 0.5186 - val_loss: 0.0606 - val_accuracy: 0.5041\n",
            "Epoch 143/200\n",
            "35/35 [==============================] - 0s 5ms/step - loss: 0.0585 - accuracy: 0.5154 - val_loss: 0.0606 - val_accuracy: 0.4959\n",
            "Epoch 144/200\n",
            "35/35 [==============================] - 0s 5ms/step - loss: 0.0583 - accuracy: 0.5157 - val_loss: 0.0604 - val_accuracy: 0.5008\n",
            "Epoch 145/200\n",
            "35/35 [==============================] - 0s 5ms/step - loss: 0.0583 - accuracy: 0.5204 - val_loss: 0.0605 - val_accuracy: 0.4959\n",
            "Epoch 146/200\n",
            "35/35 [==============================] - 0s 5ms/step - loss: 0.0582 - accuracy: 0.5178 - val_loss: 0.0605 - val_accuracy: 0.4959\n",
            "Epoch 147/200\n",
            "35/35 [==============================] - 0s 5ms/step - loss: 0.0583 - accuracy: 0.5201 - val_loss: 0.0610 - val_accuracy: 0.4975\n",
            "Epoch 148/200\n",
            "35/35 [==============================] - 0s 5ms/step - loss: 0.0583 - accuracy: 0.5169 - val_loss: 0.0606 - val_accuracy: 0.4942\n",
            "Epoch 149/200\n",
            "35/35 [==============================] - 0s 5ms/step - loss: 0.0582 - accuracy: 0.5178 - val_loss: 0.0605 - val_accuracy: 0.5008\n",
            "Epoch 150/200\n",
            "35/35 [==============================] - 0s 5ms/step - loss: 0.0582 - accuracy: 0.5201 - val_loss: 0.0604 - val_accuracy: 0.5041\n",
            "Epoch 151/200\n",
            "35/35 [==============================] - 0s 5ms/step - loss: 0.0583 - accuracy: 0.5119 - val_loss: 0.0605 - val_accuracy: 0.5025\n",
            "Epoch 152/200\n",
            "35/35 [==============================] - 0s 5ms/step - loss: 0.0581 - accuracy: 0.5195 - val_loss: 0.0605 - val_accuracy: 0.5008\n",
            "Epoch 153/200\n",
            "35/35 [==============================] - 0s 5ms/step - loss: 0.0582 - accuracy: 0.5157 - val_loss: 0.0604 - val_accuracy: 0.5008\n",
            "Epoch 154/200\n",
            "35/35 [==============================] - 0s 5ms/step - loss: 0.0581 - accuracy: 0.5186 - val_loss: 0.0606 - val_accuracy: 0.4959\n",
            "Epoch 155/200\n",
            "35/35 [==============================] - 0s 5ms/step - loss: 0.0582 - accuracy: 0.5169 - val_loss: 0.0608 - val_accuracy: 0.5041\n",
            "Epoch 156/200\n",
            "35/35 [==============================] - 0s 5ms/step - loss: 0.0582 - accuracy: 0.5181 - val_loss: 0.0605 - val_accuracy: 0.4959\n",
            "Epoch 157/200\n",
            "35/35 [==============================] - 0s 5ms/step - loss: 0.0581 - accuracy: 0.5207 - val_loss: 0.0605 - val_accuracy: 0.4959\n",
            "Epoch 158/200\n",
            "35/35 [==============================] - 0s 5ms/step - loss: 0.0581 - accuracy: 0.5157 - val_loss: 0.0603 - val_accuracy: 0.5008\n",
            "Epoch 159/200\n",
            "35/35 [==============================] - 0s 5ms/step - loss: 0.0581 - accuracy: 0.5166 - val_loss: 0.0604 - val_accuracy: 0.4975\n",
            "Epoch 160/200\n",
            "35/35 [==============================] - 0s 5ms/step - loss: 0.0581 - accuracy: 0.5189 - val_loss: 0.0605 - val_accuracy: 0.4942\n",
            "Epoch 161/200\n",
            "35/35 [==============================] - 0s 6ms/step - loss: 0.0581 - accuracy: 0.5169 - val_loss: 0.0604 - val_accuracy: 0.5008\n",
            "Epoch 162/200\n",
            "35/35 [==============================] - 0s 8ms/step - loss: 0.0581 - accuracy: 0.5157 - val_loss: 0.0604 - val_accuracy: 0.4992\n",
            "Epoch 163/200\n",
            "35/35 [==============================] - 0s 7ms/step - loss: 0.0581 - accuracy: 0.5192 - val_loss: 0.0605 - val_accuracy: 0.4975\n",
            "Epoch 164/200\n",
            "35/35 [==============================] - 0s 8ms/step - loss: 0.0582 - accuracy: 0.5146 - val_loss: 0.0604 - val_accuracy: 0.4959\n",
            "Epoch 165/200\n",
            "35/35 [==============================] - 0s 7ms/step - loss: 0.0582 - accuracy: 0.5227 - val_loss: 0.0605 - val_accuracy: 0.5008\n",
            "Epoch 166/200\n",
            "35/35 [==============================] - 0s 7ms/step - loss: 0.0581 - accuracy: 0.5186 - val_loss: 0.0605 - val_accuracy: 0.4942\n",
            "Epoch 167/200\n",
            "35/35 [==============================] - 0s 8ms/step - loss: 0.0583 - accuracy: 0.5163 - val_loss: 0.0604 - val_accuracy: 0.4992\n",
            "Epoch 168/200\n",
            "35/35 [==============================] - 0s 7ms/step - loss: 0.0582 - accuracy: 0.5207 - val_loss: 0.0604 - val_accuracy: 0.4992\n",
            "Epoch 169/200\n",
            "35/35 [==============================] - 0s 7ms/step - loss: 0.0580 - accuracy: 0.5181 - val_loss: 0.0605 - val_accuracy: 0.5008\n",
            "Epoch 170/200\n",
            "35/35 [==============================] - 0s 8ms/step - loss: 0.0581 - accuracy: 0.5157 - val_loss: 0.0604 - val_accuracy: 0.4959\n",
            "Epoch 171/200\n",
            "35/35 [==============================] - 0s 8ms/step - loss: 0.0581 - accuracy: 0.5195 - val_loss: 0.0604 - val_accuracy: 0.4942\n",
            "Epoch 172/200\n",
            "35/35 [==============================] - 0s 8ms/step - loss: 0.0580 - accuracy: 0.5178 - val_loss: 0.0603 - val_accuracy: 0.4975\n",
            "Epoch 173/200\n",
            "35/35 [==============================] - 0s 7ms/step - loss: 0.0580 - accuracy: 0.5172 - val_loss: 0.0604 - val_accuracy: 0.5025\n",
            "Epoch 174/200\n",
            "35/35 [==============================] - 0s 7ms/step - loss: 0.0580 - accuracy: 0.5183 - val_loss: 0.0603 - val_accuracy: 0.4992\n",
            "Epoch 175/200\n",
            "35/35 [==============================] - 0s 7ms/step - loss: 0.0581 - accuracy: 0.5198 - val_loss: 0.0603 - val_accuracy: 0.4992\n",
            "Epoch 176/200\n",
            "35/35 [==============================] - 0s 5ms/step - loss: 0.0580 - accuracy: 0.5169 - val_loss: 0.0603 - val_accuracy: 0.4975\n",
            "Epoch 177/200\n",
            "35/35 [==============================] - 0s 5ms/step - loss: 0.0580 - accuracy: 0.5160 - val_loss: 0.0604 - val_accuracy: 0.4975\n",
            "Epoch 178/200\n",
            "35/35 [==============================] - 0s 5ms/step - loss: 0.0580 - accuracy: 0.5201 - val_loss: 0.0604 - val_accuracy: 0.4959\n",
            "Epoch 179/200\n",
            "35/35 [==============================] - 0s 5ms/step - loss: 0.0580 - accuracy: 0.5198 - val_loss: 0.0604 - val_accuracy: 0.4959\n",
            "Epoch 180/200\n",
            "35/35 [==============================] - 0s 5ms/step - loss: 0.0580 - accuracy: 0.5198 - val_loss: 0.0604 - val_accuracy: 0.4975\n",
            "Epoch 181/200\n",
            "35/35 [==============================] - 0s 5ms/step - loss: 0.0580 - accuracy: 0.5218 - val_loss: 0.0603 - val_accuracy: 0.4959\n",
            "Epoch 182/200\n",
            "35/35 [==============================] - 0s 5ms/step - loss: 0.0581 - accuracy: 0.5201 - val_loss: 0.0606 - val_accuracy: 0.5058\n",
            "Epoch 183/200\n",
            "35/35 [==============================] - 0s 5ms/step - loss: 0.0581 - accuracy: 0.5186 - val_loss: 0.0603 - val_accuracy: 0.4959\n",
            "Epoch 184/200\n",
            "35/35 [==============================] - 0s 5ms/step - loss: 0.0579 - accuracy: 0.5198 - val_loss: 0.0604 - val_accuracy: 0.4909\n",
            "Epoch 185/200\n",
            "35/35 [==============================] - 0s 5ms/step - loss: 0.0580 - accuracy: 0.5186 - val_loss: 0.0602 - val_accuracy: 0.5008\n",
            "Epoch 186/200\n",
            "35/35 [==============================] - 0s 5ms/step - loss: 0.0580 - accuracy: 0.5169 - val_loss: 0.0602 - val_accuracy: 0.5041\n",
            "Epoch 187/200\n",
            "35/35 [==============================] - 0s 5ms/step - loss: 0.0581 - accuracy: 0.5175 - val_loss: 0.0603 - val_accuracy: 0.5025\n",
            "Epoch 188/200\n",
            "35/35 [==============================] - 0s 5ms/step - loss: 0.0580 - accuracy: 0.5183 - val_loss: 0.0605 - val_accuracy: 0.5058\n",
            "Epoch 189/200\n",
            "35/35 [==============================] - 0s 5ms/step - loss: 0.0580 - accuracy: 0.5186 - val_loss: 0.0602 - val_accuracy: 0.5008\n",
            "Epoch 190/200\n",
            "35/35 [==============================] - 0s 5ms/step - loss: 0.0580 - accuracy: 0.5198 - val_loss: 0.0602 - val_accuracy: 0.5008\n",
            "Epoch 191/200\n",
            "35/35 [==============================] - 0s 5ms/step - loss: 0.0580 - accuracy: 0.5215 - val_loss: 0.0603 - val_accuracy: 0.4975\n",
            "Epoch 192/200\n",
            "35/35 [==============================] - 0s 5ms/step - loss: 0.0580 - accuracy: 0.5163 - val_loss: 0.0602 - val_accuracy: 0.4975\n",
            "Epoch 193/200\n",
            "35/35 [==============================] - 0s 8ms/step - loss: 0.0579 - accuracy: 0.5218 - val_loss: 0.0603 - val_accuracy: 0.4975\n",
            "Epoch 194/200\n",
            "35/35 [==============================] - 0s 6ms/step - loss: 0.0579 - accuracy: 0.5195 - val_loss: 0.0602 - val_accuracy: 0.5008\n",
            "Epoch 195/200\n",
            "35/35 [==============================] - 0s 6ms/step - loss: 0.0579 - accuracy: 0.5236 - val_loss: 0.0604 - val_accuracy: 0.4975\n",
            "Epoch 196/200\n",
            "35/35 [==============================] - 0s 8ms/step - loss: 0.0579 - accuracy: 0.5207 - val_loss: 0.0605 - val_accuracy: 0.5058\n",
            "Epoch 197/200\n",
            "35/35 [==============================] - 0s 8ms/step - loss: 0.0580 - accuracy: 0.5186 - val_loss: 0.0602 - val_accuracy: 0.4992\n",
            "Epoch 198/200\n",
            "35/35 [==============================] - 0s 7ms/step - loss: 0.0579 - accuracy: 0.5218 - val_loss: 0.0604 - val_accuracy: 0.4926\n",
            "Epoch 199/200\n",
            "35/35 [==============================] - 0s 7ms/step - loss: 0.0579 - accuracy: 0.5210 - val_loss: 0.0606 - val_accuracy: 0.5058\n",
            "Epoch 200/200\n",
            "35/35 [==============================] - 0s 5ms/step - loss: 0.0579 - accuracy: 0.5213 - val_loss: 0.0602 - val_accuracy: 0.5025\n"
          ]
        }
      ],
      "source": [
        "training_history2 = model2.fit(x=xs_train, y=ys_train, \n",
        "                               validation_split=0.15, epochs=200, \n",
        "                               batch_size=100, verbose=1,\n",
        "                               #callbacks=[tfdocs.modeling.EpochDots()], \n",
        "                               shuffle=True)"
      ]
    },
    {
      "cell_type": "code",
      "execution_count": 42,
      "metadata": {
        "colab": {
          "base_uri": "https://localhost:8080/",
          "height": 0
        },
        "id": "hK5z1ZBrAL8C",
        "outputId": "40700722-3c40-46a4-e8fc-6ba5c608475f"
      },
      "outputs": [
        {
          "output_type": "execute_result",
          "data": {
            "text/plain": [
              "         loss  accuracy  val_loss  val_accuracy  epoch\n",
              "195  0.057933  0.520676  0.060509      0.505766    195\n",
              "196  0.058002  0.518637  0.060156      0.499176    196\n",
              "197  0.057874  0.521840  0.060418      0.492586    197\n",
              "198  0.057897  0.520967  0.060640      0.505766    198\n",
              "199  0.057888  0.521258  0.060182      0.502471    199"
            ],
            "text/html": [
              "\n",
              "  <div id=\"df-1422b095-cfdf-47d1-a404-6ed10730cdaf\">\n",
              "    <div class=\"colab-df-container\">\n",
              "      <div>\n",
              "<style scoped>\n",
              "    .dataframe tbody tr th:only-of-type {\n",
              "        vertical-align: middle;\n",
              "    }\n",
              "\n",
              "    .dataframe tbody tr th {\n",
              "        vertical-align: top;\n",
              "    }\n",
              "\n",
              "    .dataframe thead th {\n",
              "        text-align: right;\n",
              "    }\n",
              "</style>\n",
              "<table border=\"1\" class=\"dataframe\">\n",
              "  <thead>\n",
              "    <tr style=\"text-align: right;\">\n",
              "      <th></th>\n",
              "      <th>loss</th>\n",
              "      <th>accuracy</th>\n",
              "      <th>val_loss</th>\n",
              "      <th>val_accuracy</th>\n",
              "      <th>epoch</th>\n",
              "    </tr>\n",
              "  </thead>\n",
              "  <tbody>\n",
              "    <tr>\n",
              "      <th>195</th>\n",
              "      <td>0.057933</td>\n",
              "      <td>0.520676</td>\n",
              "      <td>0.060509</td>\n",
              "      <td>0.505766</td>\n",
              "      <td>195</td>\n",
              "    </tr>\n",
              "    <tr>\n",
              "      <th>196</th>\n",
              "      <td>0.058002</td>\n",
              "      <td>0.518637</td>\n",
              "      <td>0.060156</td>\n",
              "      <td>0.499176</td>\n",
              "      <td>196</td>\n",
              "    </tr>\n",
              "    <tr>\n",
              "      <th>197</th>\n",
              "      <td>0.057874</td>\n",
              "      <td>0.521840</td>\n",
              "      <td>0.060418</td>\n",
              "      <td>0.492586</td>\n",
              "      <td>197</td>\n",
              "    </tr>\n",
              "    <tr>\n",
              "      <th>198</th>\n",
              "      <td>0.057897</td>\n",
              "      <td>0.520967</td>\n",
              "      <td>0.060640</td>\n",
              "      <td>0.505766</td>\n",
              "      <td>198</td>\n",
              "    </tr>\n",
              "    <tr>\n",
              "      <th>199</th>\n",
              "      <td>0.057888</td>\n",
              "      <td>0.521258</td>\n",
              "      <td>0.060182</td>\n",
              "      <td>0.502471</td>\n",
              "      <td>199</td>\n",
              "    </tr>\n",
              "  </tbody>\n",
              "</table>\n",
              "</div>\n",
              "      <button class=\"colab-df-convert\" onclick=\"convertToInteractive('df-1422b095-cfdf-47d1-a404-6ed10730cdaf')\"\n",
              "              title=\"Convert this dataframe to an interactive table.\"\n",
              "              style=\"display:none;\">\n",
              "        \n",
              "  <svg xmlns=\"http://www.w3.org/2000/svg\" height=\"24px\"viewBox=\"0 0 24 24\"\n",
              "       width=\"24px\">\n",
              "    <path d=\"M0 0h24v24H0V0z\" fill=\"none\"/>\n",
              "    <path d=\"M18.56 5.44l.94 2.06.94-2.06 2.06-.94-2.06-.94-.94-2.06-.94 2.06-2.06.94zm-11 1L8.5 8.5l.94-2.06 2.06-.94-2.06-.94L8.5 2.5l-.94 2.06-2.06.94zm10 10l.94 2.06.94-2.06 2.06-.94-2.06-.94-.94-2.06-.94 2.06-2.06.94z\"/><path d=\"M17.41 7.96l-1.37-1.37c-.4-.4-.92-.59-1.43-.59-.52 0-1.04.2-1.43.59L10.3 9.45l-7.72 7.72c-.78.78-.78 2.05 0 2.83L4 21.41c.39.39.9.59 1.41.59.51 0 1.02-.2 1.41-.59l7.78-7.78 2.81-2.81c.8-.78.8-2.07 0-2.86zM5.41 20L4 18.59l7.72-7.72 1.47 1.35L5.41 20z\"/>\n",
              "  </svg>\n",
              "      </button>\n",
              "      \n",
              "  <style>\n",
              "    .colab-df-container {\n",
              "      display:flex;\n",
              "      flex-wrap:wrap;\n",
              "      gap: 12px;\n",
              "    }\n",
              "\n",
              "    .colab-df-convert {\n",
              "      background-color: #E8F0FE;\n",
              "      border: none;\n",
              "      border-radius: 50%;\n",
              "      cursor: pointer;\n",
              "      display: none;\n",
              "      fill: #1967D2;\n",
              "      height: 32px;\n",
              "      padding: 0 0 0 0;\n",
              "      width: 32px;\n",
              "    }\n",
              "\n",
              "    .colab-df-convert:hover {\n",
              "      background-color: #E2EBFA;\n",
              "      box-shadow: 0px 1px 2px rgba(60, 64, 67, 0.3), 0px 1px 3px 1px rgba(60, 64, 67, 0.15);\n",
              "      fill: #174EA6;\n",
              "    }\n",
              "\n",
              "    [theme=dark] .colab-df-convert {\n",
              "      background-color: #3B4455;\n",
              "      fill: #D2E3FC;\n",
              "    }\n",
              "\n",
              "    [theme=dark] .colab-df-convert:hover {\n",
              "      background-color: #434B5C;\n",
              "      box-shadow: 0px 1px 3px 1px rgba(0, 0, 0, 0.15);\n",
              "      filter: drop-shadow(0px 1px 2px rgba(0, 0, 0, 0.3));\n",
              "      fill: #FFFFFF;\n",
              "    }\n",
              "  </style>\n",
              "\n",
              "      <script>\n",
              "        const buttonEl =\n",
              "          document.querySelector('#df-1422b095-cfdf-47d1-a404-6ed10730cdaf button.colab-df-convert');\n",
              "        buttonEl.style.display =\n",
              "          google.colab.kernel.accessAllowed ? 'block' : 'none';\n",
              "\n",
              "        async function convertToInteractive(key) {\n",
              "          const element = document.querySelector('#df-1422b095-cfdf-47d1-a404-6ed10730cdaf');\n",
              "          const dataTable =\n",
              "            await google.colab.kernel.invokeFunction('convertToInteractive',\n",
              "                                                     [key], {});\n",
              "          if (!dataTable) return;\n",
              "\n",
              "          const docLinkHtml = 'Like what you see? Visit the ' +\n",
              "            '<a target=\"_blank\" href=https://colab.research.google.com/notebooks/data_table.ipynb>data table notebook</a>'\n",
              "            + ' to learn more about interactive tables.';\n",
              "          element.innerHTML = '';\n",
              "          dataTable['output_type'] = 'display_data';\n",
              "          await google.colab.output.renderOutput(dataTable, element);\n",
              "          const docLink = document.createElement('div');\n",
              "          docLink.innerHTML = docLinkHtml;\n",
              "          element.appendChild(docLink);\n",
              "        }\n",
              "      </script>\n",
              "    </div>\n",
              "  </div>\n",
              "  "
            ]
          },
          "metadata": {},
          "execution_count": 42
        }
      ],
      "source": [
        "hist2 = pd.DataFrame(training_history2.history)\n",
        "hist2['epoch'] = training_history2.epoch\n",
        "hist2.tail()"
      ]
    },
    {
      "cell_type": "code",
      "execution_count": 44,
      "metadata": {
        "colab": {
          "base_uri": "https://localhost:8080/"
        },
        "id": "tpoxXewv897s",
        "outputId": "96a9f6ff-772a-48ab-c7fc-56fb9c1e5779"
      },
      "outputs": [
        {
          "output_type": "stream",
          "name": "stdout",
          "text": [
            "127/127 [==============================] - 0s 3ms/step - loss: 0.0582 - accuracy: 0.5192\n",
            "Accuracy on train set [0.058174774050712585, 0.5191784501075745]\n"
          ]
        }
      ],
      "source": [
        "# Accuracy on training sets\n",
        "accuracy_m2_train = model2.evaluate(xs_train, ys_train) # loss: 0.0420 - accuracy: 0.7585\n",
        "\n",
        "print('Accuracy on train set', accuracy_m2_train)"
      ]
    },
    {
      "cell_type": "code",
      "execution_count": 43,
      "metadata": {
        "colab": {
          "base_uri": "https://localhost:8080/",
          "height": 0
        },
        "id": "5au20iE8HCPL",
        "outputId": "f1cc5642-eebf-4ce2-d3e1-70d82810815c"
      },
      "outputs": [
        {
          "output_type": "display_data",
          "data": {
            "text/plain": [
              "<Figure size 640x480 with 1 Axes>"
            ],
            "image/png": "[encoded data removed]"
          },
          "metadata": {}
        }
      ],
      "source": [
        "plt.plot(hist2['accuracy'])\n",
        "plt.plot(hist2['val_accuracy'])\n",
        "plt.title('model accuracy')\n",
        "plt.ylabel('accuracy')\n",
        "plt.xlabel('epoch')\n",
        "plt.legend(['train', 'val'], loc='upper left')\n",
        "plt.show()"
      ]
    },
    {
      "cell_type": "markdown",
      "metadata": {
        "id": "a3iGFD8A4ARp"
      },
      "source": [
        "Predict on the test set"
      ]
    },
    {
      "cell_type": "code",
      "execution_count": 32,
      "metadata": {
        "colab": {
          "base_uri": "https://localhost:8080/"
        },
        "id": "l0e3Nk_G1Kkw",
        "outputId": "4bc66d1e-8d0a-4065-85e3-d33858eb479c"
      },
      "outputs": [
        {
          "output_type": "stream",
          "name": "stdout",
          "text": [
            "32/32 [==============================] - 0s 2ms/step - loss: 0.0590 - accuracy: 0.5173\n"
          ]
        }
      ],
      "source": [
        "model2_test_predict = model2.evaluate(xs_test, ys_test) #  loss: 0.0430 - accuracy: 0.7349"
      ]
    },
    {
      "cell_type": "code",
      "execution_count": 33,
      "metadata": {
        "colab": {
          "base_uri": "https://localhost:8080/"
        },
        "id": "s0jQBx1T4ARq",
        "outputId": "ce499234-279d-4a1d-e5f6-a363c6226a8e"
      },
      "outputs": [
        {
          "output_type": "stream",
          "name": "stdout",
          "text": [
            "32/32 [==============================] - 0s 1ms/step\n",
            "shape is (1011, 11)\n"
          ]
        },
        {
          "output_type": "execute_result",
          "data": {
            "text/plain": [
              "array([[ 3.64305750e-02,  3.26583415e-01,  1.63566113e-01, ...,\n",
              "        -1.02469921e-02, -2.01810151e-03,  1.37073383e-01],\n",
              "       [ 1.46706495e-03,  1.77323863e-01,  2.81725004e-02, ...,\n",
              "         1.25632197e-01,  1.11179985e-02,  1.74050534e-03],\n",
              "       [ 5.71793318e-03,  3.64678800e-01,  1.68541476e-01, ...,\n",
              "         5.06355911e-02,  1.87953841e-02,  6.42193705e-02],\n",
              "       ...,\n",
              "       [ 3.76520120e-03,  1.04415044e-01,  3.31908464e-04, ...,\n",
              "         1.06790669e-01,  2.92686000e-03,  3.27851553e-03],\n",
              "       [ 6.31127972e-03,  3.68606448e-01,  1.74363196e-01, ...,\n",
              "         4.47432175e-02,  1.77852362e-02,  7.03998059e-02],\n",
              "       [ 1.33698620e-03,  1.81451231e-01,  2.97485515e-02, ...,\n",
              "         1.26698822e-01,  1.15817040e-02,  1.65342819e-03]], dtype=float32)"
            ]
          },
          "metadata": {},
          "execution_count": 33
        }
      ],
      "source": [
        "test_prediction2 = model2.predict(xs_test)\n",
        "print(\"shape is {}\".format(test_prediction2.shape))  \n",
        "test_prediction2"
      ]
    },
    {
      "cell_type": "markdown",
      "metadata": {
        "id": "Ec8E9OGz1K3m"
      },
      "source": [
        "#### Model 3"
      ]
    },
    {
      "cell_type": "markdown",
      "metadata": {
        "id": "hcR3sti71K3m"
      },
      "source": [
        "Define and compile the model"
      ]
    },
    {
      "cell_type": "code",
      "execution_count": 34,
      "metadata": {
        "colab": {
          "base_uri": "https://localhost:8080/"
        },
        "id": "ErNCgGVF1K3m",
        "outputId": "6ebfc268-0f55-4cd4-8fd9-c0bae21778b3"
      },
      "outputs": [
        {
          "output_type": "stream",
          "name": "stdout",
          "text": [
            "Model: \"sequential_2\"\n",
            "_________________________________________________________________\n",
            " Layer (type)                Output Shape              Param #   \n",
            "=================================================================\n",
            " dense_8 (Dense)             (None, 3)                 12        \n",
            "                                                                 \n",
            " dense_9 (Dense)             (None, 24)                96        \n",
            "                                                                 \n",
            " dense_10 (Dense)            (None, 24)                600       \n",
            "                                                                 \n",
            " dense_11 (Dense)            (None, 16)                400       \n",
            "                                                                 \n",
            " dense_12 (Dense)            (None, 11)                187       \n",
            "                                                                 \n",
            "=================================================================\n",
            "Total params: 1,295\n",
            "Trainable params: 1,295\n",
            "Non-trainable params: 0\n",
            "_________________________________________________________________\n"
          ]
        }
      ],
      "source": [
        "# Parameters model 3\n",
        "activation_fct = 'relu'\n",
        "loss_function = tf.keras.losses.CategoricalCrossentropy(from_logits=True)\n",
        "optimizer = keras.optimizers.Adam(learning_rate=0.001)\n",
        "\n",
        "# model 3\n",
        "model3 = keras.Sequential([\n",
        "    layers.Dense(3, kernel_regularizer=regularizers.l2(0.001), activation=activation_fct, input_shape=(3,)),\n",
        "    layers.Dense(24, kernel_regularizer=regularizers.l2(0.001), activation=activation_fct),\n",
        "    layers.Dense(24, kernel_regularizer=regularizers.l2(0.001), activation=activation_fct),\n",
        "    layers.Dense(16, kernel_regularizer=regularizers.l2(0.001), activation=activation_fct),\n",
        "    layers.Dense(11)\n",
        "  ])\n",
        "model3.summary()\n",
        "\n",
        "# compile the model 3\n",
        "model3.compile(optimizer=optimizer, loss=loss_function, metrics=['accuracy'])\n"
      ]
    },
    {
      "cell_type": "code",
      "execution_count": 35,
      "metadata": {
        "colab": {
          "base_uri": "https://localhost:8080/"
        },
        "id": "ZUohXqd61-td",
        "outputId": "8fbee3bb-f22a-4d01-8201-0cd030e8d1a0"
      },
      "outputs": [
        {
          "output_type": "stream",
          "name": "stdout",
          "text": [
            "Epoch 1/200\n",
            "18/18 [==============================] - 2s 30ms/step - loss: 2.4328 - accuracy: 0.2070 - val_loss: 2.4140 - val_accuracy: 0.2175\n",
            "Epoch 2/200\n",
            "18/18 [==============================] - 0s 5ms/step - loss: 2.3945 - accuracy: 0.3690 - val_loss: 2.3732 - val_accuracy: 0.3839\n",
            "Epoch 3/200\n",
            "18/18 [==============================] - 0s 6ms/step - loss: 2.3485 - accuracy: 0.3002 - val_loss: 2.3224 - val_accuracy: 0.1944\n",
            "Epoch 4/200\n",
            "18/18 [==============================] - 0s 6ms/step - loss: 2.2913 - accuracy: 0.1776 - val_loss: 2.2603 - val_accuracy: 0.2142\n",
            "Epoch 5/200\n",
            "18/18 [==============================] - 0s 6ms/step - loss: 2.2216 - accuracy: 0.2216 - val_loss: 2.1889 - val_accuracy: 0.2142\n",
            "Epoch 6/200\n",
            "18/18 [==============================] - 0s 6ms/step - loss: 2.1442 - accuracy: 0.3052 - val_loss: 2.1161 - val_accuracy: 0.3904\n",
            "Epoch 7/200\n",
            "18/18 [==============================] - 0s 6ms/step - loss: 2.0669 - accuracy: 0.4540 - val_loss: 2.0432 - val_accuracy: 0.4201\n",
            "Epoch 8/200\n",
            "18/18 [==============================] - 0s 6ms/step - loss: 1.9883 - accuracy: 0.4758 - val_loss: 1.9724 - val_accuracy: 0.4448\n",
            "Epoch 9/200\n",
            "18/18 [==============================] - 0s 6ms/step - loss: 1.9092 - accuracy: 0.5041 - val_loss: 1.9011 - val_accuracy: 0.4811\n",
            "Epoch 10/200\n",
            "18/18 [==============================] - 0s 6ms/step - loss: 1.8333 - accuracy: 0.5026 - val_loss: 1.8354 - val_accuracy: 0.4629\n",
            "Epoch 11/200\n",
            "18/18 [==============================] - 0s 5ms/step - loss: 1.7628 - accuracy: 0.4994 - val_loss: 1.7780 - val_accuracy: 0.4629\n",
            "Epoch 12/200\n",
            "18/18 [==============================] - 0s 6ms/step - loss: 1.6991 - accuracy: 0.4959 - val_loss: 1.7251 - val_accuracy: 0.4662\n",
            "Epoch 13/200\n",
            "18/18 [==============================] - 0s 6ms/step - loss: 1.6416 - accuracy: 0.4980 - val_loss: 1.6785 - val_accuracy: 0.4679\n",
            "Epoch 14/200\n",
            "18/18 [==============================] - 0s 6ms/step - loss: 1.5920 - accuracy: 0.5009 - val_loss: 1.6389 - val_accuracy: 0.4728\n",
            "Epoch 15/200\n",
            "18/18 [==============================] - 0s 6ms/step - loss: 1.5494 - accuracy: 0.5047 - val_loss: 1.6048 - val_accuracy: 0.4745\n",
            "Epoch 16/200\n",
            "18/18 [==============================] - 0s 6ms/step - loss: 1.5146 - accuracy: 0.5041 - val_loss: 1.5794 - val_accuracy: 0.4794\n",
            "Epoch 17/200\n",
            "18/18 [==============================] - 0s 7ms/step - loss: 1.4843 - accuracy: 0.5070 - val_loss: 1.5507 - val_accuracy: 0.4876\n",
            "Epoch 18/200\n",
            "18/18 [==============================] - 0s 6ms/step - loss: 1.4584 - accuracy: 0.5105 - val_loss: 1.5300 - val_accuracy: 0.4893\n",
            "Epoch 19/200\n",
            "18/18 [==============================] - 0s 6ms/step - loss: 1.4380 - accuracy: 0.5090 - val_loss: 1.5102 - val_accuracy: 0.4926\n",
            "Epoch 20/200\n",
            "18/18 [==============================] - 0s 6ms/step - loss: 1.4196 - accuracy: 0.5116 - val_loss: 1.4955 - val_accuracy: 0.4926\n",
            "Epoch 21/200\n",
            "18/18 [==============================] - 0s 9ms/step - loss: 1.4050 - accuracy: 0.5119 - val_loss: 1.4856 - val_accuracy: 0.4959\n",
            "Epoch 22/200\n",
            "18/18 [==============================] - 0s 8ms/step - loss: 1.3923 - accuracy: 0.5137 - val_loss: 1.4731 - val_accuracy: 0.4959\n",
            "Epoch 23/200\n",
            "18/18 [==============================] - 0s 11ms/step - loss: 1.3817 - accuracy: 0.5134 - val_loss: 1.4681 - val_accuracy: 0.4975\n",
            "Epoch 24/200\n",
            "18/18 [==============================] - 0s 8ms/step - loss: 1.3759 - accuracy: 0.5134 - val_loss: 1.4545 - val_accuracy: 0.4975\n",
            "Epoch 25/200\n",
            "18/18 [==============================] - 0s 8ms/step - loss: 1.3674 - accuracy: 0.5172 - val_loss: 1.4496 - val_accuracy: 0.4909\n",
            "Epoch 26/200\n",
            "18/18 [==============================] - 0s 9ms/step - loss: 1.3615 - accuracy: 0.5131 - val_loss: 1.4458 - val_accuracy: 0.4860\n",
            "Epoch 27/200\n",
            "18/18 [==============================] - 0s 8ms/step - loss: 1.3564 - accuracy: 0.5119 - val_loss: 1.4381 - val_accuracy: 0.4992\n",
            "Epoch 28/200\n",
            "18/18 [==============================] - 0s 7ms/step - loss: 1.3509 - accuracy: 0.5137 - val_loss: 1.4336 - val_accuracy: 0.4843\n",
            "Epoch 29/200\n",
            "18/18 [==============================] - 0s 7ms/step - loss: 1.3468 - accuracy: 0.5151 - val_loss: 1.4302 - val_accuracy: 0.4909\n",
            "Epoch 30/200\n",
            "18/18 [==============================] - 0s 11ms/step - loss: 1.3430 - accuracy: 0.5131 - val_loss: 1.4294 - val_accuracy: 0.4827\n",
            "Epoch 31/200\n",
            "18/18 [==============================] - 0s 8ms/step - loss: 1.3405 - accuracy: 0.5125 - val_loss: 1.4236 - val_accuracy: 0.4860\n",
            "Epoch 32/200\n",
            "18/18 [==============================] - 0s 8ms/step - loss: 1.3390 - accuracy: 0.5131 - val_loss: 1.4204 - val_accuracy: 0.4926\n",
            "Epoch 33/200\n",
            "18/18 [==============================] - 0s 7ms/step - loss: 1.3363 - accuracy: 0.5151 - val_loss: 1.4201 - val_accuracy: 0.4893\n",
            "Epoch 34/200\n",
            "18/18 [==============================] - 0s 8ms/step - loss: 1.3343 - accuracy: 0.5143 - val_loss: 1.4192 - val_accuracy: 0.4843\n",
            "Epoch 35/200\n",
            "18/18 [==============================] - 0s 8ms/step - loss: 1.3341 - accuracy: 0.5151 - val_loss: 1.4249 - val_accuracy: 0.4745\n",
            "Epoch 36/200\n",
            "18/18 [==============================] - 0s 8ms/step - loss: 1.3313 - accuracy: 0.5134 - val_loss: 1.4184 - val_accuracy: 0.4778\n",
            "Epoch 37/200\n",
            "18/18 [==============================] - 0s 8ms/step - loss: 1.3292 - accuracy: 0.5146 - val_loss: 1.4210 - val_accuracy: 0.4778\n",
            "Epoch 38/200\n",
            "18/18 [==============================] - 0s 8ms/step - loss: 1.3294 - accuracy: 0.5134 - val_loss: 1.4163 - val_accuracy: 0.4778\n",
            "Epoch 39/200\n",
            "18/18 [==============================] - 0s 8ms/step - loss: 1.3282 - accuracy: 0.5079 - val_loss: 1.4141 - val_accuracy: 0.4811\n",
            "Epoch 40/200\n",
            "18/18 [==============================] - 0s 9ms/step - loss: 1.3282 - accuracy: 0.5163 - val_loss: 1.4107 - val_accuracy: 0.4893\n",
            "Epoch 41/200\n",
            "18/18 [==============================] - 0s 8ms/step - loss: 1.3260 - accuracy: 0.5111 - val_loss: 1.4103 - val_accuracy: 0.4843\n",
            "Epoch 42/200\n",
            "18/18 [==============================] - 0s 8ms/step - loss: 1.3256 - accuracy: 0.5131 - val_loss: 1.4087 - val_accuracy: 0.4893\n",
            "Epoch 43/200\n",
            "18/18 [==============================] - 0s 6ms/step - loss: 1.3252 - accuracy: 0.5140 - val_loss: 1.4126 - val_accuracy: 0.4761\n",
            "Epoch 44/200\n",
            "18/18 [==============================] - 0s 5ms/step - loss: 1.3257 - accuracy: 0.5087 - val_loss: 1.4116 - val_accuracy: 0.4827\n",
            "Epoch 45/200\n",
            "18/18 [==============================] - 0s 6ms/step - loss: 1.3224 - accuracy: 0.5128 - val_loss: 1.4100 - val_accuracy: 0.4794\n",
            "Epoch 46/200\n",
            "18/18 [==============================] - 0s 5ms/step - loss: 1.3219 - accuracy: 0.5131 - val_loss: 1.4060 - val_accuracy: 0.4909\n",
            "Epoch 47/200\n",
            "18/18 [==============================] - 0s 7ms/step - loss: 1.3212 - accuracy: 0.5119 - val_loss: 1.4100 - val_accuracy: 0.4811\n",
            "Epoch 48/200\n",
            "18/18 [==============================] - 0s 6ms/step - loss: 1.3208 - accuracy: 0.5137 - val_loss: 1.4087 - val_accuracy: 0.4811\n",
            "Epoch 49/200\n",
            "18/18 [==============================] - 0s 6ms/step - loss: 1.3198 - accuracy: 0.5149 - val_loss: 1.4090 - val_accuracy: 0.4794\n",
            "Epoch 50/200\n",
            "18/18 [==============================] - 0s 5ms/step - loss: 1.3210 - accuracy: 0.5140 - val_loss: 1.4123 - val_accuracy: 0.4761\n",
            "Epoch 51/200\n",
            "18/18 [==============================] - 0s 5ms/step - loss: 1.3199 - accuracy: 0.5137 - val_loss: 1.4036 - val_accuracy: 0.4811\n",
            "Epoch 52/200\n",
            "18/18 [==============================] - 0s 6ms/step - loss: 1.3196 - accuracy: 0.5114 - val_loss: 1.4039 - val_accuracy: 0.4843\n",
            "Epoch 53/200\n",
            "18/18 [==============================] - 0s 6ms/step - loss: 1.3199 - accuracy: 0.5119 - val_loss: 1.4030 - val_accuracy: 0.4794\n",
            "Epoch 54/200\n",
            "18/18 [==============================] - 0s 5ms/step - loss: 1.3181 - accuracy: 0.5131 - val_loss: 1.4039 - val_accuracy: 0.4794\n",
            "Epoch 55/200\n",
            "18/18 [==============================] - 0s 6ms/step - loss: 1.3179 - accuracy: 0.5096 - val_loss: 1.4047 - val_accuracy: 0.4811\n",
            "Epoch 56/200\n",
            "18/18 [==============================] - 0s 6ms/step - loss: 1.3176 - accuracy: 0.5151 - val_loss: 1.4028 - val_accuracy: 0.4827\n",
            "Epoch 57/200\n",
            "18/18 [==============================] - 0s 6ms/step - loss: 1.3186 - accuracy: 0.5134 - val_loss: 1.4018 - val_accuracy: 0.4860\n",
            "Epoch 58/200\n",
            "18/18 [==============================] - 0s 6ms/step - loss: 1.3176 - accuracy: 0.5099 - val_loss: 1.4092 - val_accuracy: 0.4761\n",
            "Epoch 59/200\n",
            "18/18 [==============================] - 0s 6ms/step - loss: 1.3165 - accuracy: 0.5137 - val_loss: 1.4015 - val_accuracy: 0.4843\n",
            "Epoch 60/200\n",
            "18/18 [==============================] - 0s 6ms/step - loss: 1.3161 - accuracy: 0.5105 - val_loss: 1.4028 - val_accuracy: 0.4811\n",
            "Epoch 61/200\n",
            "18/18 [==============================] - 0s 6ms/step - loss: 1.3160 - accuracy: 0.5105 - val_loss: 1.4025 - val_accuracy: 0.4827\n",
            "Epoch 62/200\n",
            "18/18 [==============================] - 0s 7ms/step - loss: 1.3159 - accuracy: 0.5122 - val_loss: 1.4041 - val_accuracy: 0.4794\n",
            "Epoch 63/200\n",
            "18/18 [==============================] - 0s 6ms/step - loss: 1.3160 - accuracy: 0.5125 - val_loss: 1.4030 - val_accuracy: 0.4778\n",
            "Epoch 64/200\n",
            "18/18 [==============================] - 0s 6ms/step - loss: 1.3165 - accuracy: 0.5122 - val_loss: 1.4017 - val_accuracy: 0.4811\n",
            "Epoch 65/200\n",
            "18/18 [==============================] - 0s 5ms/step - loss: 1.3148 - accuracy: 0.5122 - val_loss: 1.3984 - val_accuracy: 0.4827\n",
            "Epoch 66/200\n",
            "18/18 [==============================] - 0s 5ms/step - loss: 1.3152 - accuracy: 0.5125 - val_loss: 1.3993 - val_accuracy: 0.4811\n",
            "Epoch 67/200\n",
            "18/18 [==============================] - 0s 6ms/step - loss: 1.3138 - accuracy: 0.5099 - val_loss: 1.4020 - val_accuracy: 0.4794\n",
            "Epoch 68/200\n",
            "18/18 [==============================] - 0s 6ms/step - loss: 1.3145 - accuracy: 0.5076 - val_loss: 1.4051 - val_accuracy: 0.4794\n",
            "Epoch 69/200\n",
            "18/18 [==============================] - 0s 6ms/step - loss: 1.3147 - accuracy: 0.5084 - val_loss: 1.3978 - val_accuracy: 0.4794\n",
            "Epoch 70/200\n",
            "18/18 [==============================] - 0s 6ms/step - loss: 1.3141 - accuracy: 0.5087 - val_loss: 1.3961 - val_accuracy: 0.4827\n",
            "Epoch 71/200\n",
            "18/18 [==============================] - 0s 6ms/step - loss: 1.3119 - accuracy: 0.5125 - val_loss: 1.3974 - val_accuracy: 0.4811\n",
            "Epoch 72/200\n",
            "18/18 [==============================] - 0s 6ms/step - loss: 1.3120 - accuracy: 0.5108 - val_loss: 1.4004 - val_accuracy: 0.4794\n",
            "Epoch 73/200\n",
            "18/18 [==============================] - 0s 6ms/step - loss: 1.3124 - accuracy: 0.5096 - val_loss: 1.3966 - val_accuracy: 0.4794\n",
            "Epoch 74/200\n",
            "18/18 [==============================] - 0s 5ms/step - loss: 1.3117 - accuracy: 0.5111 - val_loss: 1.3949 - val_accuracy: 0.4827\n",
            "Epoch 75/200\n",
            "18/18 [==============================] - 0s 6ms/step - loss: 1.3109 - accuracy: 0.5105 - val_loss: 1.3946 - val_accuracy: 0.4745\n",
            "Epoch 76/200\n",
            "18/18 [==============================] - 0s 7ms/step - loss: 1.3100 - accuracy: 0.5093 - val_loss: 1.3988 - val_accuracy: 0.4778\n",
            "Epoch 77/200\n",
            "18/18 [==============================] - 0s 6ms/step - loss: 1.3098 - accuracy: 0.5087 - val_loss: 1.3944 - val_accuracy: 0.4745\n",
            "Epoch 78/200\n",
            "18/18 [==============================] - 0s 7ms/step - loss: 1.3092 - accuracy: 0.5125 - val_loss: 1.3975 - val_accuracy: 0.4811\n",
            "Epoch 79/200\n",
            "18/18 [==============================] - 0s 7ms/step - loss: 1.3088 - accuracy: 0.5122 - val_loss: 1.3940 - val_accuracy: 0.4843\n",
            "Epoch 80/200\n",
            "18/18 [==============================] - 0s 6ms/step - loss: 1.3081 - accuracy: 0.5114 - val_loss: 1.3919 - val_accuracy: 0.4811\n",
            "Epoch 81/200\n",
            "18/18 [==============================] - 0s 5ms/step - loss: 1.3072 - accuracy: 0.5131 - val_loss: 1.3974 - val_accuracy: 0.4811\n",
            "Epoch 82/200\n",
            "18/18 [==============================] - 0s 6ms/step - loss: 1.3087 - accuracy: 0.5146 - val_loss: 1.3902 - val_accuracy: 0.4811\n",
            "Epoch 83/200\n",
            "18/18 [==============================] - 0s 5ms/step - loss: 1.3064 - accuracy: 0.5128 - val_loss: 1.3958 - val_accuracy: 0.4794\n",
            "Epoch 84/200\n",
            "18/18 [==============================] - 0s 6ms/step - loss: 1.3060 - accuracy: 0.5131 - val_loss: 1.3890 - val_accuracy: 0.4827\n",
            "Epoch 85/200\n",
            "18/18 [==============================] - 0s 7ms/step - loss: 1.3063 - accuracy: 0.5099 - val_loss: 1.3911 - val_accuracy: 0.4794\n",
            "Epoch 86/200\n",
            "18/18 [==============================] - 0s 6ms/step - loss: 1.3053 - accuracy: 0.5102 - val_loss: 1.3899 - val_accuracy: 0.4843\n",
            "Epoch 87/200\n",
            "18/18 [==============================] - 0s 5ms/step - loss: 1.3065 - accuracy: 0.5116 - val_loss: 1.3973 - val_accuracy: 0.4794\n",
            "Epoch 88/200\n",
            "18/18 [==============================] - 0s 6ms/step - loss: 1.3068 - accuracy: 0.5084 - val_loss: 1.3974 - val_accuracy: 0.4761\n",
            "Epoch 89/200\n",
            "18/18 [==============================] - 0s 6ms/step - loss: 1.3056 - accuracy: 0.5105 - val_loss: 1.3871 - val_accuracy: 0.4843\n",
            "Epoch 90/200\n",
            "18/18 [==============================] - 0s 5ms/step - loss: 1.3032 - accuracy: 0.5114 - val_loss: 1.3902 - val_accuracy: 0.4794\n",
            "Epoch 91/200\n",
            "18/18 [==============================] - 0s 6ms/step - loss: 1.3033 - accuracy: 0.5116 - val_loss: 1.3868 - val_accuracy: 0.4827\n",
            "Epoch 92/200\n",
            "18/18 [==============================] - 0s 6ms/step - loss: 1.3029 - accuracy: 0.5134 - val_loss: 1.3977 - val_accuracy: 0.4745\n",
            "Epoch 93/200\n",
            "18/18 [==============================] - 0s 6ms/step - loss: 1.3042 - accuracy: 0.5122 - val_loss: 1.3847 - val_accuracy: 0.4843\n",
            "Epoch 94/200\n",
            "18/18 [==============================] - 0s 6ms/step - loss: 1.3028 - accuracy: 0.5119 - val_loss: 1.3864 - val_accuracy: 0.4794\n",
            "Epoch 95/200\n",
            "18/18 [==============================] - 0s 6ms/step - loss: 1.3034 - accuracy: 0.5099 - val_loss: 1.3902 - val_accuracy: 0.4794\n",
            "Epoch 96/200\n",
            "18/18 [==============================] - 0s 6ms/step - loss: 1.3010 - accuracy: 0.5116 - val_loss: 1.3855 - val_accuracy: 0.4811\n",
            "Epoch 97/200\n",
            "18/18 [==============================] - 0s 6ms/step - loss: 1.3007 - accuracy: 0.5096 - val_loss: 1.3893 - val_accuracy: 0.4811\n",
            "Epoch 98/200\n",
            "18/18 [==============================] - 0s 6ms/step - loss: 1.3020 - accuracy: 0.5111 - val_loss: 1.3848 - val_accuracy: 0.4794\n",
            "Epoch 99/200\n",
            "18/18 [==============================] - 0s 5ms/step - loss: 1.3004 - accuracy: 0.5116 - val_loss: 1.3868 - val_accuracy: 0.4811\n",
            "Epoch 100/200\n",
            "18/18 [==============================] - 0s 7ms/step - loss: 1.2999 - accuracy: 0.5099 - val_loss: 1.3837 - val_accuracy: 0.4860\n",
            "Epoch 101/200\n",
            "18/18 [==============================] - 0s 7ms/step - loss: 1.2996 - accuracy: 0.5116 - val_loss: 1.3848 - val_accuracy: 0.4794\n",
            "Epoch 102/200\n",
            "18/18 [==============================] - 0s 6ms/step - loss: 1.2996 - accuracy: 0.5114 - val_loss: 1.3883 - val_accuracy: 0.4794\n",
            "Epoch 103/200\n",
            "18/18 [==============================] - 0s 6ms/step - loss: 1.2983 - accuracy: 0.5125 - val_loss: 1.3816 - val_accuracy: 0.4843\n",
            "Epoch 104/200\n",
            "18/18 [==============================] - 0s 6ms/step - loss: 1.2987 - accuracy: 0.5087 - val_loss: 1.3904 - val_accuracy: 0.4778\n",
            "Epoch 105/200\n",
            "18/18 [==============================] - 0s 6ms/step - loss: 1.2988 - accuracy: 0.5093 - val_loss: 1.3808 - val_accuracy: 0.4811\n",
            "Epoch 106/200\n",
            "18/18 [==============================] - 0s 6ms/step - loss: 1.2980 - accuracy: 0.5102 - val_loss: 1.3813 - val_accuracy: 0.4827\n",
            "Epoch 107/200\n",
            "18/18 [==============================] - 0s 6ms/step - loss: 1.2974 - accuracy: 0.5114 - val_loss: 1.3852 - val_accuracy: 0.4794\n",
            "Epoch 108/200\n",
            "18/18 [==============================] - 0s 6ms/step - loss: 1.2991 - accuracy: 0.5137 - val_loss: 1.3843 - val_accuracy: 0.4794\n",
            "Epoch 109/200\n",
            "18/18 [==============================] - 0s 6ms/step - loss: 1.2973 - accuracy: 0.5134 - val_loss: 1.3822 - val_accuracy: 0.4778\n",
            "Epoch 110/200\n",
            "18/18 [==============================] - 0s 8ms/step - loss: 1.2963 - accuracy: 0.5105 - val_loss: 1.3780 - val_accuracy: 0.4860\n",
            "Epoch 111/200\n",
            "18/18 [==============================] - 0s 6ms/step - loss: 1.2966 - accuracy: 0.5111 - val_loss: 1.3791 - val_accuracy: 0.4811\n",
            "Epoch 112/200\n",
            "18/18 [==============================] - 0s 6ms/step - loss: 1.2965 - accuracy: 0.5137 - val_loss: 1.3787 - val_accuracy: 0.4811\n",
            "Epoch 113/200\n",
            "18/18 [==============================] - 0s 6ms/step - loss: 1.2942 - accuracy: 0.5140 - val_loss: 1.3767 - val_accuracy: 0.4827\n",
            "Epoch 114/200\n",
            "18/18 [==============================] - 0s 6ms/step - loss: 1.2959 - accuracy: 0.5079 - val_loss: 1.3819 - val_accuracy: 0.4794\n",
            "Epoch 115/200\n",
            "18/18 [==============================] - 0s 6ms/step - loss: 1.2942 - accuracy: 0.5096 - val_loss: 1.3861 - val_accuracy: 0.4728\n",
            "Epoch 116/200\n",
            "18/18 [==============================] - 0s 6ms/step - loss: 1.2974 - accuracy: 0.5099 - val_loss: 1.3747 - val_accuracy: 0.4843\n",
            "Epoch 117/200\n",
            "18/18 [==============================] - 0s 6ms/step - loss: 1.2913 - accuracy: 0.5131 - val_loss: 1.3803 - val_accuracy: 0.4761\n",
            "Epoch 118/200\n",
            "18/18 [==============================] - 0s 6ms/step - loss: 1.2906 - accuracy: 0.5116 - val_loss: 1.3750 - val_accuracy: 0.4794\n",
            "Epoch 119/200\n",
            "18/18 [==============================] - 0s 6ms/step - loss: 1.2915 - accuracy: 0.5108 - val_loss: 1.3778 - val_accuracy: 0.4827\n",
            "Epoch 120/200\n",
            "18/18 [==============================] - 0s 7ms/step - loss: 1.2911 - accuracy: 0.5116 - val_loss: 1.3745 - val_accuracy: 0.4827\n",
            "Epoch 121/200\n",
            "18/18 [==============================] - 0s 6ms/step - loss: 1.2907 - accuracy: 0.5111 - val_loss: 1.3734 - val_accuracy: 0.4811\n",
            "Epoch 122/200\n",
            "18/18 [==============================] - 0s 6ms/step - loss: 1.2895 - accuracy: 0.5122 - val_loss: 1.3725 - val_accuracy: 0.4827\n",
            "Epoch 123/200\n",
            "18/18 [==============================] - 0s 6ms/step - loss: 1.2891 - accuracy: 0.5119 - val_loss: 1.3747 - val_accuracy: 0.4811\n",
            "Epoch 124/200\n",
            "18/18 [==============================] - 0s 8ms/step - loss: 1.2888 - accuracy: 0.5125 - val_loss: 1.3751 - val_accuracy: 0.4794\n",
            "Epoch 125/200\n",
            "18/18 [==============================] - 0s 6ms/step - loss: 1.2872 - accuracy: 0.5122 - val_loss: 1.3740 - val_accuracy: 0.4811\n",
            "Epoch 126/200\n",
            "18/18 [==============================] - 0s 7ms/step - loss: 1.2876 - accuracy: 0.5140 - val_loss: 1.3723 - val_accuracy: 0.4827\n",
            "Epoch 127/200\n",
            "18/18 [==============================] - 0s 6ms/step - loss: 1.2873 - accuracy: 0.5125 - val_loss: 1.3756 - val_accuracy: 0.4778\n",
            "Epoch 128/200\n",
            "18/18 [==============================] - 0s 7ms/step - loss: 1.2879 - accuracy: 0.5082 - val_loss: 1.3689 - val_accuracy: 0.4761\n",
            "Epoch 129/200\n",
            "18/18 [==============================] - 0s 6ms/step - loss: 1.2847 - accuracy: 0.5122 - val_loss: 1.3742 - val_accuracy: 0.4745\n",
            "Epoch 130/200\n",
            "18/18 [==============================] - 0s 12ms/step - loss: 1.2863 - accuracy: 0.5160 - val_loss: 1.3686 - val_accuracy: 0.4827\n",
            "Epoch 131/200\n",
            "18/18 [==============================] - 0s 9ms/step - loss: 1.2853 - accuracy: 0.5119 - val_loss: 1.3775 - val_accuracy: 0.4745\n",
            "Epoch 132/200\n",
            "18/18 [==============================] - 0s 10ms/step - loss: 1.2840 - accuracy: 0.5134 - val_loss: 1.3690 - val_accuracy: 0.4811\n",
            "Epoch 133/200\n",
            "18/18 [==============================] - 0s 10ms/step - loss: 1.2840 - accuracy: 0.5131 - val_loss: 1.3672 - val_accuracy: 0.4827\n",
            "Epoch 134/200\n",
            "18/18 [==============================] - 0s 9ms/step - loss: 1.2833 - accuracy: 0.5146 - val_loss: 1.3673 - val_accuracy: 0.4811\n",
            "Epoch 135/200\n",
            "18/18 [==============================] - 0s 8ms/step - loss: 1.2826 - accuracy: 0.5122 - val_loss: 1.3644 - val_accuracy: 0.4843\n",
            "Epoch 136/200\n",
            "18/18 [==============================] - 0s 8ms/step - loss: 1.2818 - accuracy: 0.5128 - val_loss: 1.3671 - val_accuracy: 0.4794\n",
            "Epoch 137/200\n",
            "18/18 [==============================] - 0s 9ms/step - loss: 1.2810 - accuracy: 0.5128 - val_loss: 1.3681 - val_accuracy: 0.4811\n",
            "Epoch 138/200\n",
            "18/18 [==============================] - 0s 8ms/step - loss: 1.2808 - accuracy: 0.5125 - val_loss: 1.3662 - val_accuracy: 0.4827\n",
            "Epoch 139/200\n",
            "18/18 [==============================] - 0s 8ms/step - loss: 1.2809 - accuracy: 0.5140 - val_loss: 1.3644 - val_accuracy: 0.4811\n",
            "Epoch 140/200\n",
            "18/18 [==============================] - 0s 8ms/step - loss: 1.2805 - accuracy: 0.5146 - val_loss: 1.3647 - val_accuracy: 0.4811\n",
            "Epoch 141/200\n",
            "18/18 [==============================] - 0s 9ms/step - loss: 1.2796 - accuracy: 0.5137 - val_loss: 1.3619 - val_accuracy: 0.4827\n",
            "Epoch 142/200\n",
            "18/18 [==============================] - 0s 8ms/step - loss: 1.2791 - accuracy: 0.5160 - val_loss: 1.3624 - val_accuracy: 0.4827\n",
            "Epoch 143/200\n",
            "18/18 [==============================] - 0s 8ms/step - loss: 1.2803 - accuracy: 0.5151 - val_loss: 1.3670 - val_accuracy: 0.4761\n",
            "Epoch 144/200\n",
            "18/18 [==============================] - 0s 8ms/step - loss: 1.2785 - accuracy: 0.5146 - val_loss: 1.3617 - val_accuracy: 0.4827\n",
            "Epoch 145/200\n",
            "18/18 [==============================] - 0s 8ms/step - loss: 1.2769 - accuracy: 0.5125 - val_loss: 1.3615 - val_accuracy: 0.4811\n",
            "Epoch 146/200\n",
            "18/18 [==============================] - 0s 11ms/step - loss: 1.2766 - accuracy: 0.5169 - val_loss: 1.3611 - val_accuracy: 0.4794\n",
            "Epoch 147/200\n",
            "18/18 [==============================] - 0s 8ms/step - loss: 1.2778 - accuracy: 0.5105 - val_loss: 1.3655 - val_accuracy: 0.4745\n",
            "Epoch 148/200\n",
            "18/18 [==============================] - 0s 9ms/step - loss: 1.2764 - accuracy: 0.5128 - val_loss: 1.3631 - val_accuracy: 0.4761\n",
            "Epoch 149/200\n",
            "18/18 [==============================] - 0s 8ms/step - loss: 1.2760 - accuracy: 0.5151 - val_loss: 1.3619 - val_accuracy: 0.4843\n",
            "Epoch 150/200\n",
            "18/18 [==============================] - 0s 12ms/step - loss: 1.2754 - accuracy: 0.5146 - val_loss: 1.3589 - val_accuracy: 0.4827\n",
            "Epoch 151/200\n",
            "18/18 [==============================] - 0s 8ms/step - loss: 1.2749 - accuracy: 0.5122 - val_loss: 1.3611 - val_accuracy: 0.4778\n",
            "Epoch 152/200\n",
            "18/18 [==============================] - 0s 6ms/step - loss: 1.2736 - accuracy: 0.5131 - val_loss: 1.3585 - val_accuracy: 0.4811\n",
            "Epoch 153/200\n",
            "18/18 [==============================] - 0s 6ms/step - loss: 1.2730 - accuracy: 0.5157 - val_loss: 1.3577 - val_accuracy: 0.4811\n",
            "Epoch 154/200\n",
            "18/18 [==============================] - 0s 6ms/step - loss: 1.2736 - accuracy: 0.5137 - val_loss: 1.3585 - val_accuracy: 0.4778\n",
            "Epoch 155/200\n",
            "18/18 [==============================] - 0s 6ms/step - loss: 1.2724 - accuracy: 0.5140 - val_loss: 1.3572 - val_accuracy: 0.4843\n",
            "Epoch 156/200\n",
            "18/18 [==============================] - 0s 6ms/step - loss: 1.2719 - accuracy: 0.5140 - val_loss: 1.3583 - val_accuracy: 0.4827\n",
            "Epoch 157/200\n",
            "18/18 [==============================] - 0s 6ms/step - loss: 1.2723 - accuracy: 0.5146 - val_loss: 1.3605 - val_accuracy: 0.4761\n",
            "Epoch 158/200\n",
            "18/18 [==============================] - 0s 6ms/step - loss: 1.2720 - accuracy: 0.5154 - val_loss: 1.3566 - val_accuracy: 0.4778\n",
            "Epoch 159/200\n",
            "18/18 [==============================] - 0s 6ms/step - loss: 1.2707 - accuracy: 0.5134 - val_loss: 1.3560 - val_accuracy: 0.4827\n",
            "Epoch 160/200\n",
            "18/18 [==============================] - 0s 5ms/step - loss: 1.2723 - accuracy: 0.5125 - val_loss: 1.3559 - val_accuracy: 0.4827\n",
            "Epoch 161/200\n",
            "18/18 [==============================] - 0s 6ms/step - loss: 1.2706 - accuracy: 0.5143 - val_loss: 1.3583 - val_accuracy: 0.4728\n",
            "Epoch 162/200\n",
            "18/18 [==============================] - 0s 6ms/step - loss: 1.2695 - accuracy: 0.5143 - val_loss: 1.3548 - val_accuracy: 0.4843\n",
            "Epoch 163/200\n",
            "18/18 [==============================] - 0s 6ms/step - loss: 1.2693 - accuracy: 0.5134 - val_loss: 1.3555 - val_accuracy: 0.4811\n",
            "Epoch 164/200\n",
            "18/18 [==============================] - 0s 6ms/step - loss: 1.2685 - accuracy: 0.5125 - val_loss: 1.3575 - val_accuracy: 0.4778\n",
            "Epoch 165/200\n",
            "18/18 [==============================] - 0s 6ms/step - loss: 1.2690 - accuracy: 0.5178 - val_loss: 1.3559 - val_accuracy: 0.4843\n",
            "Epoch 166/200\n",
            "18/18 [==============================] - 0s 5ms/step - loss: 1.2682 - accuracy: 0.5146 - val_loss: 1.3552 - val_accuracy: 0.4811\n",
            "Epoch 167/200\n",
            "18/18 [==============================] - 0s 7ms/step - loss: 1.2720 - accuracy: 0.5151 - val_loss: 1.3544 - val_accuracy: 0.4860\n",
            "Epoch 168/200\n",
            "18/18 [==============================] - 0s 6ms/step - loss: 1.2686 - accuracy: 0.5146 - val_loss: 1.3533 - val_accuracy: 0.4811\n",
            "Epoch 169/200\n",
            "18/18 [==============================] - 0s 6ms/step - loss: 1.2677 - accuracy: 0.5119 - val_loss: 1.3578 - val_accuracy: 0.4728\n",
            "Epoch 170/200\n",
            "18/18 [==============================] - 0s 6ms/step - loss: 1.2671 - accuracy: 0.5151 - val_loss: 1.3532 - val_accuracy: 0.4827\n",
            "Epoch 171/200\n",
            "18/18 [==============================] - 0s 6ms/step - loss: 1.2664 - accuracy: 0.5157 - val_loss: 1.3525 - val_accuracy: 0.4778\n",
            "Epoch 172/200\n",
            "18/18 [==============================] - 0s 6ms/step - loss: 1.2668 - accuracy: 0.5149 - val_loss: 1.3521 - val_accuracy: 0.4761\n",
            "Epoch 173/200\n",
            "18/18 [==============================] - 0s 6ms/step - loss: 1.2651 - accuracy: 0.5154 - val_loss: 1.3560 - val_accuracy: 0.4745\n",
            "Epoch 174/200\n",
            "18/18 [==============================] - 0s 6ms/step - loss: 1.2649 - accuracy: 0.5166 - val_loss: 1.3525 - val_accuracy: 0.4811\n",
            "Epoch 175/200\n",
            "18/18 [==============================] - 0s 6ms/step - loss: 1.2657 - accuracy: 0.5151 - val_loss: 1.3514 - val_accuracy: 0.4827\n",
            "Epoch 176/200\n",
            "18/18 [==============================] - 0s 6ms/step - loss: 1.2648 - accuracy: 0.5154 - val_loss: 1.3520 - val_accuracy: 0.4778\n",
            "Epoch 177/200\n",
            "18/18 [==============================] - 0s 6ms/step - loss: 1.2643 - accuracy: 0.5160 - val_loss: 1.3536 - val_accuracy: 0.4794\n",
            "Epoch 178/200\n",
            "18/18 [==============================] - 0s 8ms/step - loss: 1.2641 - accuracy: 0.5151 - val_loss: 1.3526 - val_accuracy: 0.4794\n",
            "Epoch 179/200\n",
            "18/18 [==============================] - 0s 6ms/step - loss: 1.2647 - accuracy: 0.5151 - val_loss: 1.3504 - val_accuracy: 0.4761\n",
            "Epoch 180/200\n",
            "18/18 [==============================] - 0s 6ms/step - loss: 1.2644 - accuracy: 0.5163 - val_loss: 1.3516 - val_accuracy: 0.4745\n",
            "Epoch 181/200\n",
            "18/18 [==============================] - 0s 6ms/step - loss: 1.2636 - accuracy: 0.5157 - val_loss: 1.3494 - val_accuracy: 0.4794\n",
            "Epoch 182/200\n",
            "18/18 [==============================] - 0s 6ms/step - loss: 1.2635 - accuracy: 0.5163 - val_loss: 1.3506 - val_accuracy: 0.4778\n",
            "Epoch 183/200\n",
            "18/18 [==============================] - 0s 6ms/step - loss: 1.2628 - accuracy: 0.5178 - val_loss: 1.3493 - val_accuracy: 0.4778\n",
            "Epoch 184/200\n",
            "18/18 [==============================] - 0s 6ms/step - loss: 1.2619 - accuracy: 0.5172 - val_loss: 1.3510 - val_accuracy: 0.4794\n",
            "Epoch 185/200\n",
            "18/18 [==============================] - 0s 7ms/step - loss: 1.2623 - accuracy: 0.5146 - val_loss: 1.3523 - val_accuracy: 0.4794\n",
            "Epoch 186/200\n",
            "18/18 [==============================] - 0s 6ms/step - loss: 1.2640 - accuracy: 0.5166 - val_loss: 1.3483 - val_accuracy: 0.4827\n",
            "Epoch 187/200\n",
            "18/18 [==============================] - 0s 7ms/step - loss: 1.2621 - accuracy: 0.5151 - val_loss: 1.3491 - val_accuracy: 0.4761\n",
            "Epoch 188/200\n",
            "18/18 [==============================] - 0s 6ms/step - loss: 1.2615 - accuracy: 0.5149 - val_loss: 1.3474 - val_accuracy: 0.4778\n",
            "Epoch 189/200\n",
            "18/18 [==============================] - 0s 7ms/step - loss: 1.2623 - accuracy: 0.5154 - val_loss: 1.3472 - val_accuracy: 0.4827\n",
            "Epoch 190/200\n",
            "18/18 [==============================] - 0s 7ms/step - loss: 1.2614 - accuracy: 0.5116 - val_loss: 1.3511 - val_accuracy: 0.4794\n",
            "Epoch 191/200\n",
            "18/18 [==============================] - 0s 6ms/step - loss: 1.2604 - accuracy: 0.5160 - val_loss: 1.3497 - val_accuracy: 0.4761\n",
            "Epoch 192/200\n",
            "18/18 [==============================] - 0s 6ms/step - loss: 1.2603 - accuracy: 0.5169 - val_loss: 1.3476 - val_accuracy: 0.4778\n",
            "Epoch 193/200\n",
            "18/18 [==============================] - 0s 6ms/step - loss: 1.2608 - accuracy: 0.5166 - val_loss: 1.3538 - val_accuracy: 0.4745\n",
            "Epoch 194/200\n",
            "18/18 [==============================] - 0s 6ms/step - loss: 1.2608 - accuracy: 0.5163 - val_loss: 1.3493 - val_accuracy: 0.4761\n",
            "Epoch 195/200\n",
            "18/18 [==============================] - 0s 6ms/step - loss: 1.2596 - accuracy: 0.5146 - val_loss: 1.3494 - val_accuracy: 0.4728\n",
            "Epoch 196/200\n",
            "18/18 [==============================] - 0s 7ms/step - loss: 1.2608 - accuracy: 0.5125 - val_loss: 1.3475 - val_accuracy: 0.4761\n",
            "Epoch 197/200\n",
            "18/18 [==============================] - 0s 6ms/step - loss: 1.2598 - accuracy: 0.5134 - val_loss: 1.3478 - val_accuracy: 0.4794\n",
            "Epoch 198/200\n",
            "18/18 [==============================] - 0s 6ms/step - loss: 1.2583 - accuracy: 0.5149 - val_loss: 1.3478 - val_accuracy: 0.4794\n",
            "Epoch 199/200\n",
            "18/18 [==============================] - 0s 6ms/step - loss: 1.2587 - accuracy: 0.5157 - val_loss: 1.3580 - val_accuracy: 0.4695\n",
            "Epoch 200/200\n",
            "18/18 [==============================] - 0s 7ms/step - loss: 1.2602 - accuracy: 0.5172 - val_loss: 1.3482 - val_accuracy: 0.4778\n"
          ]
        }
      ],
      "source": [
        "training_history3 = model3.fit(x=xs_train, y=ys_train, \n",
        "                               validation_split=0.15, epochs=200, \n",
        "                               batch_size=200, verbose=1,\n",
        "                               shuffle=True)"
      ]
    },
    {
      "cell_type": "code",
      "execution_count": 36,
      "metadata": {
        "colab": {
          "base_uri": "https://localhost:8080/",
          "height": 0
        },
        "id": "XJqhOiQ68FhN",
        "outputId": "568a0ff6-1963-4382-d439-4769922a2917"
      },
      "outputs": [
        {
          "output_type": "execute_result",
          "data": {
            "text/plain": [
              "         loss  accuracy  val_loss  val_accuracy\n",
              "195  1.260823  0.512522  1.347489      0.476112\n",
              "196  1.259765  0.513395  1.347816      0.479407\n",
              "197  1.258301  0.514852  1.347751      0.479407\n",
              "198  1.258659  0.515725  1.358027      0.469522\n",
              "199  1.260210  0.517181  1.348156      0.477759"
            ],
            "text/html": [
              "\n",
              "  <div id=\"df-53d6a317-0fe4-4ae5-8cc4-b5e02e110346\">\n",
              "    <div class=\"colab-df-container\">\n",
              "      <div>\n",
              "<style scoped>\n",
              "    .dataframe tbody tr th:only-of-type {\n",
              "        vertical-align: middle;\n",
              "    }\n",
              "\n",
              "    .dataframe tbody tr th {\n",
              "        vertical-align: top;\n",
              "    }\n",
              "\n",
              "    .dataframe thead th {\n",
              "        text-align: right;\n",
              "    }\n",
              "</style>\n",
              "<table border=\"1\" class=\"dataframe\">\n",
              "  <thead>\n",
              "    <tr style=\"text-align: right;\">\n",
              "      <th></th>\n",
              "      <th>loss</th>\n",
              "      <th>accuracy</th>\n",
              "      <th>val_loss</th>\n",
              "      <th>val_accuracy</th>\n",
              "    </tr>\n",
              "  </thead>\n",
              "  <tbody>\n",
              "    <tr>\n",
              "      <th>195</th>\n",
              "      <td>1.260823</td>\n",
              "      <td>0.512522</td>\n",
              "      <td>1.347489</td>\n",
              "      <td>0.476112</td>\n",
              "    </tr>\n",
              "    <tr>\n",
              "      <th>196</th>\n",
              "      <td>1.259765</td>\n",
              "      <td>0.513395</td>\n",
              "      <td>1.347816</td>\n",
              "      <td>0.479407</td>\n",
              "    </tr>\n",
              "    <tr>\n",
              "      <th>197</th>\n",
              "      <td>1.258301</td>\n",
              "      <td>0.514852</td>\n",
              "      <td>1.347751</td>\n",
              "      <td>0.479407</td>\n",
              "    </tr>\n",
              "    <tr>\n",
              "      <th>198</th>\n",
              "      <td>1.258659</td>\n",
              "      <td>0.515725</td>\n",
              "      <td>1.358027</td>\n",
              "      <td>0.469522</td>\n",
              "    </tr>\n",
              "    <tr>\n",
              "      <th>199</th>\n",
              "      <td>1.260210</td>\n",
              "      <td>0.517181</td>\n",
              "      <td>1.348156</td>\n",
              "      <td>0.477759</td>\n",
              "    </tr>\n",
              "  </tbody>\n",
              "</table>\n",
              "</div>\n",
              "      <button class=\"colab-df-convert\" onclick=\"convertToInteractive('df-53d6a317-0fe4-4ae5-8cc4-b5e02e110346')\"\n",
              "              title=\"Convert this dataframe to an interactive table.\"\n",
              "              style=\"display:none;\">\n",
              "        \n",
              "  <svg xmlns=\"http://www.w3.org/2000/svg\" height=\"24px\"viewBox=\"0 0 24 24\"\n",
              "       width=\"24px\">\n",
              "    <path d=\"M0 0h24v24H0V0z\" fill=\"none\"/>\n",
              "    <path d=\"M18.56 5.44l.94 2.06.94-2.06 2.06-.94-2.06-.94-.94-2.06-.94 2.06-2.06.94zm-11 1L8.5 8.5l.94-2.06 2.06-.94-2.06-.94L8.5 2.5l-.94 2.06-2.06.94zm10 10l.94 2.06.94-2.06 2.06-.94-2.06-.94-.94-2.06-.94 2.06-2.06.94z\"/><path d=\"M17.41 7.96l-1.37-1.37c-.4-.4-.92-.59-1.43-.59-.52 0-1.04.2-1.43.59L10.3 9.45l-7.72 7.72c-.78.78-.78 2.05 0 2.83L4 21.41c.39.39.9.59 1.41.59.51 0 1.02-.2 1.41-.59l7.78-7.78 2.81-2.81c.8-.78.8-2.07 0-2.86zM5.41 20L4 18.59l7.72-7.72 1.47 1.35L5.41 20z\"/>\n",
              "  </svg>\n",
              "      </button>\n",
              "      \n",
              "  <style>\n",
              "    .colab-df-container {\n",
              "      display:flex;\n",
              "      flex-wrap:wrap;\n",
              "      gap: 12px;\n",
              "    }\n",
              "\n",
              "    .colab-df-convert {\n",
              "      background-color: #E8F0FE;\n",
              "      border: none;\n",
              "      border-radius: 50%;\n",
              "      cursor: pointer;\n",
              "      display: none;\n",
              "      fill: #1967D2;\n",
              "      height: 32px;\n",
              "      padding: 0 0 0 0;\n",
              "      width: 32px;\n",
              "    }\n",
              "\n",
              "    .colab-df-convert:hover {\n",
              "      background-color: #E2EBFA;\n",
              "      box-shadow: 0px 1px 2px rgba(60, 64, 67, 0.3), 0px 1px 3px 1px rgba(60, 64, 67, 0.15);\n",
              "      fill: #174EA6;\n",
              "    }\n",
              "\n",
              "    [theme=dark] .colab-df-convert {\n",
              "      background-color: #3B4455;\n",
              "      fill: #D2E3FC;\n",
              "    }\n",
              "\n",
              "    [theme=dark] .colab-df-convert:hover {\n",
              "      background-color: #434B5C;\n",
              "      box-shadow: 0px 1px 3px 1px rgba(0, 0, 0, 0.15);\n",
              "      filter: drop-shadow(0px 1px 2px rgba(0, 0, 0, 0.3));\n",
              "      fill: #FFFFFF;\n",
              "    }\n",
              "  </style>\n",
              "\n",
              "      <script>\n",
              "        const buttonEl =\n",
              "          document.querySelector('#df-53d6a317-0fe4-4ae5-8cc4-b5e02e110346 button.colab-df-convert');\n",
              "        buttonEl.style.display =\n",
              "          google.colab.kernel.accessAllowed ? 'block' : 'none';\n",
              "\n",
              "        async function convertToInteractive(key) {\n",
              "          const element = document.querySelector('#df-53d6a317-0fe4-4ae5-8cc4-b5e02e110346');\n",
              "          const dataTable =\n",
              "            await google.colab.kernel.invokeFunction('convertToInteractive',\n",
              "                                                     [key], {});\n",
              "          if (!dataTable) return;\n",
              "\n",
              "          const docLinkHtml = 'Like what you see? Visit the ' +\n",
              "            '<a target=\"_blank\" href=https://colab.research.google.com/notebooks/data_table.ipynb>data table notebook</a>'\n",
              "            + ' to learn more about interactive tables.';\n",
              "          element.innerHTML = '';\n",
              "          dataTable['output_type'] = 'display_data';\n",
              "          await google.colab.output.renderOutput(dataTable, element);\n",
              "          const docLink = document.createElement('div');\n",
              "          docLink.innerHTML = docLinkHtml;\n",
              "          element.appendChild(docLink);\n",
              "        }\n",
              "      </script>\n",
              "    </div>\n",
              "  </div>\n",
              "  "
            ]
          },
          "metadata": {},
          "execution_count": 36
        }
      ],
      "source": [
        "hist3 = pd.DataFrame(training_history3.history)\n",
        "hist3.tail()"
      ]
    },
    {
      "cell_type": "code",
      "execution_count": 45,
      "metadata": {
        "colab": {
          "base_uri": "https://localhost:8080/"
        },
        "id": "uXyov14n9FRO",
        "outputId": "cfb1a01e-a2b6-49bf-db24-424e99c005a8"
      },
      "outputs": [
        {
          "output_type": "stream",
          "name": "stdout",
          "text": [
            "127/127 [==============================] - 0s 2ms/step - loss: 1.2715 - accuracy: 0.5095\n",
            "Accuracy on train set [1.2715238332748413, 0.509527325630188]\n"
          ]
        }
      ],
      "source": [
        "# Accuracy on training sets\n",
        "accuracy_m3_train = model3.evaluate(xs_train, ys_train) # loss: 0.5169 - accuracy: 0.8095\n",
        "\n",
        "print('Accuracy on train set', accuracy_m3_train)"
      ]
    },
    {
      "cell_type": "code",
      "execution_count": 38,
      "metadata": {
        "colab": {
          "base_uri": "https://localhost:8080/",
          "height": 0
        },
        "id": "glgRbdhOG4um",
        "outputId": "2aff8c55-36c5-41d4-bb3e-22e0b6cfef48"
      },
      "outputs": [
        {
          "output_type": "display_data",
          "data": {
            "text/plain": [
              "<Figure size 640x480 with 1 Axes>"
            ],
            "image/png": "[encoded data removed]"
          },
          "metadata": {}
        }
      ],
      "source": [
        "# Accuracy\n",
        "plt.plot(hist3['accuracy'])\n",
        "plt.plot(hist3['val_accuracy'])\n",
        "plt.title('model accuracy')\n",
        "plt.ylabel('accuracy')\n",
        "plt.xlabel('epoch')\n",
        "plt.legend(['train', 'val'], loc='upper left')\n",
        "plt.show()"
      ]
    },
    {
      "cell_type": "code",
      "execution_count": 39,
      "metadata": {
        "colab": {
          "base_uri": "https://localhost:8080/",
          "height": 0
        },
        "id": "SdZb3xbwHBEX",
        "outputId": "248665e6-a5aa-4a3f-e8a0-a6d1e4dbf2e2"
      },
      "outputs": [
        {
          "output_type": "execute_result",
          "data": {
            "text/plain": [
              "<matplotlib.legend.Legend at 0x7fa92c131880>"
            ]
          },
          "metadata": {},
          "execution_count": 39
        },
        {
          "output_type": "display_data",
          "data": {
            "text/plain": [
              "<Figure size 640x480 with 1 Axes>"
            ],
            "image/png": "[encoded data removed]"
          },
          "metadata": {}
        }
      ],
      "source": [
        "# Loss function\n",
        "plt.plot(training_history3.history['loss'], label='Train')\n",
        "plt.plot(training_history3.history['val_loss'], label='Validation')\n",
        "plt.ylabel('Binary Cross Entropy Loss')\n",
        "plt.xlabel('Epoch')\n",
        "plt.title('Autoencoder Reconstruction Loss', pad=13)\n",
        "plt.legend(loc='upper right')"
      ]
    },
    {
      "cell_type": "markdown",
      "metadata": {
        "id": "MJ3aUUqE4BKT"
      },
      "source": [
        "Evaluate and predict on the test set"
      ]
    },
    {
      "cell_type": "code",
      "execution_count": 40,
      "metadata": {
        "colab": {
          "base_uri": "https://localhost:8080/"
        },
        "id": "VR39ZF_M4Gf1",
        "outputId": "3e004706-3863-413b-836b-a476ce67b1b4"
      },
      "outputs": [
        {
          "output_type": "stream",
          "name": "stdout",
          "text": [
            "32/32 [==============================] - 0s 2ms/step - loss: 1.2781 - accuracy: 0.5064\n"
          ]
        }
      ],
      "source": [
        "model3_test_predict = model3.evaluate(xs_test, ys_test) # loss: 0.4480 - accuracy: 0.8546"
      ]
    },
    {
      "cell_type": "code",
      "execution_count": 41,
      "metadata": {
        "colab": {
          "base_uri": "https://localhost:8080/"
        },
        "id": "0e595hJe4BKT",
        "outputId": "b6e56cfd-cc59-4d8c-e41c-ddbe8c5950de"
      },
      "outputs": [
        {
          "output_type": "stream",
          "name": "stdout",
          "text": [
            "32/32 [==============================] - 0s 1ms/step\n",
            "shape is (1011, 11)\n"
          ]
        },
        {
          "output_type": "execute_result",
          "data": {
            "text/plain": [
              "array([[ -0.6054141 ,   1.6456604 ,   0.3388511 , ...,  -7.253182  ,\n",
              "         -3.2306252 ,   1.6169219 ],\n",
              "       [ -6.120394  ,   2.3712142 ,  -1.1293188 , ...,   1.7189053 ,\n",
              "         -2.8998725 ,  -9.329772  ],\n",
              "       [ -3.569851  ,   1.2339079 ,  -0.08382052, ...,  -0.17946142,\n",
              "         -2.054336  ,  -5.6035557 ],\n",
              "       ...,\n",
              "       [ -6.804326  ,   2.7279587 ,  -1.4186577 , ...,   2.0194755 ,\n",
              "         -3.1907258 , -10.278739  ],\n",
              "       [ -2.336227  ,   0.92811424,   0.3794538 , ...,  -2.081322  ,\n",
              "         -1.9479183 ,  -3.5643325 ],\n",
              "       [ -7.3293304 ,   3.0018058 ,  -1.640762  , ...,   2.2502012 ,\n",
              "         -3.4139931 , -11.007195  ]], dtype=float32)"
            ]
          },
          "metadata": {},
          "execution_count": 41
        }
      ],
      "source": [
        "test_prediction3 = model3.predict(xs_test)\n",
        "print(\"shape is {}\".format(test_prediction3.shape))  \n",
        "test_prediction3"
      ]
    },
    {
      "cell_type": "markdown",
      "metadata": {
        "id": "UzZzDd5dm3x7"
      },
      "source": [
        "#### Model 4\n"
      ]
    },
    {
      "cell_type": "markdown",
      "metadata": {
        "id": "l__Z942vm3x7"
      },
      "source": [
        "Define and compile the model"
      ]
    },
    {
      "cell_type": "code",
      "execution_count": 46,
      "metadata": {
        "colab": {
          "base_uri": "https://localhost:8080/"
        },
        "id": "sV6gB3RY4ArN",
        "outputId": "3b08f097-d70e-4ba5-cb47-87ef732295db"
      },
      "outputs": [
        {
          "output_type": "stream",
          "name": "stdout",
          "text": [
            "Model: \"sequential_3\"\n",
            "_________________________________________________________________\n",
            " Layer (type)                Output Shape              Param #   \n",
            "=================================================================\n",
            " dense_13 (Dense)            (None, 3)                 12        \n",
            "                                                                 \n",
            " dense_14 (Dense)            (None, 30)                120       \n",
            "                                                                 \n",
            " dense_15 (Dense)            (None, 16)                496       \n",
            "                                                                 \n",
            " dense_16 (Dense)            (None, 11)                187       \n",
            "                                                                 \n",
            "=================================================================\n",
            "Total params: 815\n",
            "Trainable params: 815\n",
            "Non-trainable params: 0\n",
            "_________________________________________________________________\n"
          ]
        }
      ],
      "source": [
        "# Parameters model 4\n",
        "activation_fct = 'relu'\n",
        "loss_function = tf.keras.losses.CategoricalCrossentropy(from_logits=True)\n",
        "optimizer = keras.optimizers.Adam(learning_rate=0.001)\n",
        "\n",
        "# model 4\n",
        "model4 = keras.Sequential([\n",
        "    layers.Dense(3, kernel_regularizer=regularizers.l2(0.001), activation=activation_fct, input_shape=(3,)),\n",
        "    layers.Dense(30, kernel_regularizer=regularizers.l2(0.001), activation=activation_fct),\n",
        "    layers.Dense(16, kernel_regularizer=regularizers.l2(0.001), activation=activation_fct),\n",
        "    layers.Dense(11, activation='softmax')\n",
        "  ])\n",
        "model4.summary()\n",
        "\n",
        "# compile the model \n",
        "model4.compile(optimizer=optimizer, loss=loss_function, metrics=['accuracy'])\n"
      ]
    },
    {
      "cell_type": "code",
      "execution_count": 47,
      "metadata": {
        "colab": {
          "base_uri": "https://localhost:8080/"
        },
        "id": "OKM3EAPIEz1H",
        "outputId": "47490605-fb3a-41f7-edb2-92540837f1f8"
      },
      "outputs": [
        {
          "output_type": "stream",
          "name": "stdout",
          "text": [
            "Epoch 1/200\n"
          ]
        },
        {
          "output_type": "stream",
          "name": "stderr",
          "text": [
            "/usr/local/lib/python3.9/dist-packages/keras/backend.py:5561: UserWarning: \"`categorical_crossentropy` received `from_logits=True`, but the `output` argument was produced by a Softmax activation and thus does not represent logits. Was this intended?\n",
            "  output, from_logits = _get_logits(\n"
          ]
        },
        {
          "output_type": "stream",
          "name": "stdout",
          "text": [
            "18/18 [==============================] - 2s 15ms/step - loss: 2.4214 - accuracy: 0.1176 - val_loss: 2.3975 - val_accuracy: 0.1647\n",
            "Epoch 2/200\n",
            "18/18 [==============================] - 0s 6ms/step - loss: 2.3751 - accuracy: 0.1744 - val_loss: 2.3528 - val_accuracy: 0.1582\n",
            "Epoch 3/200\n",
            "18/18 [==============================] - 0s 5ms/step - loss: 2.3255 - accuracy: 0.1916 - val_loss: 2.3014 - val_accuracy: 0.1911\n",
            "Epoch 4/200\n",
            "18/18 [==============================] - 0s 5ms/step - loss: 2.2664 - accuracy: 0.3244 - val_loss: 2.2333 - val_accuracy: 0.4102\n",
            "Epoch 5/200\n",
            "18/18 [==============================] - 0s 6ms/step - loss: 2.1869 - accuracy: 0.3853 - val_loss: 2.1444 - val_accuracy: 0.3855\n",
            "Epoch 6/200\n",
            "18/18 [==============================] - 0s 6ms/step - loss: 2.0921 - accuracy: 0.3777 - val_loss: 2.0460 - val_accuracy: 0.3970\n",
            "Epoch 7/200\n",
            "18/18 [==============================] - 0s 7ms/step - loss: 1.9913 - accuracy: 0.3925 - val_loss: 1.9421 - val_accuracy: 0.4250\n",
            "Epoch 8/200\n",
            "18/18 [==============================] - 0s 6ms/step - loss: 1.8871 - accuracy: 0.4386 - val_loss: 1.8423 - val_accuracy: 0.4580\n",
            "Epoch 9/200\n",
            "18/18 [==============================] - 0s 5ms/step - loss: 1.7837 - accuracy: 0.4653 - val_loss: 1.7463 - val_accuracy: 0.4843\n",
            "Epoch 10/200\n",
            "18/18 [==============================] - 0s 5ms/step - loss: 1.6869 - accuracy: 0.4773 - val_loss: 1.6558 - val_accuracy: 0.4827\n",
            "Epoch 11/200\n",
            "18/18 [==============================] - 0s 6ms/step - loss: 1.5964 - accuracy: 0.4805 - val_loss: 1.5744 - val_accuracy: 0.4860\n",
            "Epoch 12/200\n",
            "18/18 [==============================] - 0s 6ms/step - loss: 1.5137 - accuracy: 0.5015 - val_loss: 1.4969 - val_accuracy: 0.5189\n",
            "Epoch 13/200\n",
            "18/18 [==============================] - 0s 6ms/step - loss: 1.4381 - accuracy: 0.5341 - val_loss: 1.4270 - val_accuracy: 0.5535\n",
            "Epoch 14/200\n",
            "18/18 [==============================] - 0s 6ms/step - loss: 1.3693 - accuracy: 0.5614 - val_loss: 1.3608 - val_accuracy: 0.5766\n",
            "Epoch 15/200\n",
            "18/18 [==============================] - 0s 5ms/step - loss: 1.3060 - accuracy: 0.5882 - val_loss: 1.2999 - val_accuracy: 0.5980\n",
            "Epoch 16/200\n",
            "18/18 [==============================] - 0s 5ms/step - loss: 1.2463 - accuracy: 0.6016 - val_loss: 1.2417 - val_accuracy: 0.6145\n",
            "Epoch 17/200\n",
            "18/18 [==============================] - 0s 5ms/step - loss: 1.1896 - accuracy: 0.6241 - val_loss: 1.1886 - val_accuracy: 0.6392\n",
            "Epoch 18/200\n",
            "18/18 [==============================] - 0s 5ms/step - loss: 1.1368 - accuracy: 0.6386 - val_loss: 1.1342 - val_accuracy: 0.6474\n",
            "Epoch 19/200\n",
            "18/18 [==============================] - 0s 5ms/step - loss: 1.0854 - accuracy: 0.6538 - val_loss: 1.0854 - val_accuracy: 0.6623\n",
            "Epoch 20/200\n",
            "18/18 [==============================] - 0s 6ms/step - loss: 1.0392 - accuracy: 0.6590 - val_loss: 1.0436 - val_accuracy: 0.6705\n",
            "Epoch 21/200\n",
            "18/18 [==============================] - 0s 6ms/step - loss: 0.9978 - accuracy: 0.6715 - val_loss: 1.0037 - val_accuracy: 0.6936\n",
            "Epoch 22/200\n",
            "18/18 [==============================] - 0s 6ms/step - loss: 0.9588 - accuracy: 0.6861 - val_loss: 0.9658 - val_accuracy: 0.7018\n",
            "Epoch 23/200\n",
            "18/18 [==============================] - 0s 6ms/step - loss: 0.9229 - accuracy: 0.6977 - val_loss: 0.9339 - val_accuracy: 0.7265\n",
            "Epoch 24/200\n",
            "18/18 [==============================] - 0s 6ms/step - loss: 0.8940 - accuracy: 0.7097 - val_loss: 0.9025 - val_accuracy: 0.7183\n",
            "Epoch 25/200\n",
            "18/18 [==============================] - 0s 6ms/step - loss: 0.8637 - accuracy: 0.7181 - val_loss: 0.8780 - val_accuracy: 0.7430\n",
            "Epoch 26/200\n",
            "18/18 [==============================] - 0s 7ms/step - loss: 0.8389 - accuracy: 0.7277 - val_loss: 0.8539 - val_accuracy: 0.7479\n",
            "Epoch 27/200\n",
            "18/18 [==============================] - 0s 8ms/step - loss: 0.8165 - accuracy: 0.7312 - val_loss: 0.8333 - val_accuracy: 0.7446\n",
            "Epoch 28/200\n",
            "18/18 [==============================] - 0s 7ms/step - loss: 0.7968 - accuracy: 0.7330 - val_loss: 0.8159 - val_accuracy: 0.7414\n",
            "Epoch 29/200\n",
            "18/18 [==============================] - 0s 7ms/step - loss: 0.7781 - accuracy: 0.7420 - val_loss: 0.7975 - val_accuracy: 0.7479\n",
            "Epoch 30/200\n",
            "18/18 [==============================] - 0s 7ms/step - loss: 0.7618 - accuracy: 0.7417 - val_loss: 0.7810 - val_accuracy: 0.7529\n",
            "Epoch 31/200\n",
            "18/18 [==============================] - 0s 7ms/step - loss: 0.7463 - accuracy: 0.7467 - val_loss: 0.7674 - val_accuracy: 0.7479\n",
            "Epoch 32/200\n",
            "18/18 [==============================] - 0s 7ms/step - loss: 0.7321 - accuracy: 0.7496 - val_loss: 0.7586 - val_accuracy: 0.7512\n",
            "Epoch 33/200\n",
            "18/18 [==============================] - 0s 7ms/step - loss: 0.7191 - accuracy: 0.7539 - val_loss: 0.7419 - val_accuracy: 0.7562\n",
            "Epoch 34/200\n",
            "18/18 [==============================] - 0s 7ms/step - loss: 0.7093 - accuracy: 0.7568 - val_loss: 0.7316 - val_accuracy: 0.7644\n",
            "Epoch 35/200\n",
            "18/18 [==============================] - 0s 7ms/step - loss: 0.6971 - accuracy: 0.7644 - val_loss: 0.7207 - val_accuracy: 0.7628\n",
            "Epoch 36/200\n",
            "18/18 [==============================] - 0s 8ms/step - loss: 0.6876 - accuracy: 0.7627 - val_loss: 0.7118 - val_accuracy: 0.7611\n",
            "Epoch 37/200\n",
            "18/18 [==============================] - 0s 7ms/step - loss: 0.6787 - accuracy: 0.7694 - val_loss: 0.7067 - val_accuracy: 0.7644\n",
            "Epoch 38/200\n",
            "18/18 [==============================] - 0s 7ms/step - loss: 0.6701 - accuracy: 0.7723 - val_loss: 0.6959 - val_accuracy: 0.7628\n",
            "Epoch 39/200\n",
            "18/18 [==============================] - 0s 8ms/step - loss: 0.6616 - accuracy: 0.7761 - val_loss: 0.6876 - val_accuracy: 0.7644\n",
            "Epoch 40/200\n",
            "18/18 [==============================] - 0s 8ms/step - loss: 0.6534 - accuracy: 0.7766 - val_loss: 0.6785 - val_accuracy: 0.7743\n",
            "Epoch 41/200\n",
            "18/18 [==============================] - 0s 7ms/step - loss: 0.6457 - accuracy: 0.7848 - val_loss: 0.6726 - val_accuracy: 0.7825\n",
            "Epoch 42/200\n",
            "18/18 [==============================] - 0s 7ms/step - loss: 0.6400 - accuracy: 0.7897 - val_loss: 0.6742 - val_accuracy: 0.7727\n",
            "Epoch 43/200\n",
            "18/18 [==============================] - 0s 7ms/step - loss: 0.6349 - accuracy: 0.7880 - val_loss: 0.6607 - val_accuracy: 0.7759\n",
            "Epoch 44/200\n",
            "18/18 [==============================] - 0s 7ms/step - loss: 0.6275 - accuracy: 0.7932 - val_loss: 0.6565 - val_accuracy: 0.7858\n",
            "Epoch 45/200\n",
            "18/18 [==============================] - 0s 7ms/step - loss: 0.6225 - accuracy: 0.7921 - val_loss: 0.6505 - val_accuracy: 0.7809\n",
            "Epoch 46/200\n",
            "18/18 [==============================] - 0s 7ms/step - loss: 0.6184 - accuracy: 0.7924 - val_loss: 0.6470 - val_accuracy: 0.7842\n",
            "Epoch 47/200\n",
            "18/18 [==============================] - 0s 8ms/step - loss: 0.6148 - accuracy: 0.7924 - val_loss: 0.6438 - val_accuracy: 0.7809\n",
            "Epoch 48/200\n",
            "18/18 [==============================] - 0s 7ms/step - loss: 0.6091 - accuracy: 0.7953 - val_loss: 0.6418 - val_accuracy: 0.7891\n",
            "Epoch 49/200\n",
            "18/18 [==============================] - 0s 7ms/step - loss: 0.6060 - accuracy: 0.7970 - val_loss: 0.6348 - val_accuracy: 0.7825\n",
            "Epoch 50/200\n",
            "18/18 [==============================] - 0s 8ms/step - loss: 0.6023 - accuracy: 0.8005 - val_loss: 0.6434 - val_accuracy: 0.7825\n",
            "Epoch 51/200\n",
            "18/18 [==============================] - 0s 7ms/step - loss: 0.5998 - accuracy: 0.8011 - val_loss: 0.6283 - val_accuracy: 0.7957\n",
            "Epoch 52/200\n",
            "18/18 [==============================] - 0s 6ms/step - loss: 0.5954 - accuracy: 0.8017 - val_loss: 0.6259 - val_accuracy: 0.7908\n",
            "Epoch 53/200\n",
            "18/18 [==============================] - 0s 5ms/step - loss: 0.5937 - accuracy: 0.7979 - val_loss: 0.6229 - val_accuracy: 0.7891\n",
            "Epoch 54/200\n",
            "18/18 [==============================] - 0s 5ms/step - loss: 0.5914 - accuracy: 0.8020 - val_loss: 0.6294 - val_accuracy: 0.7858\n",
            "Epoch 55/200\n",
            "18/18 [==============================] - 0s 6ms/step - loss: 0.5893 - accuracy: 0.8020 - val_loss: 0.6202 - val_accuracy: 0.7941\n",
            "Epoch 56/200\n",
            "18/18 [==============================] - 0s 7ms/step - loss: 0.5854 - accuracy: 0.7988 - val_loss: 0.6186 - val_accuracy: 0.7842\n",
            "Epoch 57/200\n",
            "18/18 [==============================] - 0s 5ms/step - loss: 0.5850 - accuracy: 0.7991 - val_loss: 0.6153 - val_accuracy: 0.7908\n",
            "Epoch 58/200\n",
            "18/18 [==============================] - 0s 5ms/step - loss: 0.5834 - accuracy: 0.8046 - val_loss: 0.6151 - val_accuracy: 0.7957\n",
            "Epoch 59/200\n",
            "18/18 [==============================] - 0s 5ms/step - loss: 0.5810 - accuracy: 0.8005 - val_loss: 0.6130 - val_accuracy: 0.7908\n",
            "Epoch 60/200\n",
            "18/18 [==============================] - 0s 6ms/step - loss: 0.5792 - accuracy: 0.8023 - val_loss: 0.6116 - val_accuracy: 0.7990\n",
            "Epoch 61/200\n",
            "18/18 [==============================] - 0s 6ms/step - loss: 0.5759 - accuracy: 0.8055 - val_loss: 0.6106 - val_accuracy: 0.7957\n",
            "Epoch 62/200\n",
            "18/18 [==============================] - 0s 6ms/step - loss: 0.5745 - accuracy: 0.8020 - val_loss: 0.6128 - val_accuracy: 0.7957\n",
            "Epoch 63/200\n",
            "18/18 [==============================] - 0s 8ms/step - loss: 0.5744 - accuracy: 0.8066 - val_loss: 0.6052 - val_accuracy: 0.8023\n",
            "Epoch 64/200\n",
            "18/18 [==============================] - 0s 7ms/step - loss: 0.5715 - accuracy: 0.8026 - val_loss: 0.6058 - val_accuracy: 0.7990\n",
            "Epoch 65/200\n",
            "18/18 [==============================] - 0s 8ms/step - loss: 0.5699 - accuracy: 0.8029 - val_loss: 0.6043 - val_accuracy: 0.8023\n",
            "Epoch 66/200\n",
            "18/18 [==============================] - 0s 7ms/step - loss: 0.5711 - accuracy: 0.8058 - val_loss: 0.6061 - val_accuracy: 0.8007\n",
            "Epoch 67/200\n",
            "18/18 [==============================] - 0s 7ms/step - loss: 0.5677 - accuracy: 0.8075 - val_loss: 0.6013 - val_accuracy: 0.8023\n",
            "Epoch 68/200\n",
            "18/18 [==============================] - 0s 8ms/step - loss: 0.5661 - accuracy: 0.8040 - val_loss: 0.6016 - val_accuracy: 0.8056\n",
            "Epoch 69/200\n",
            "18/18 [==============================] - 0s 9ms/step - loss: 0.5657 - accuracy: 0.8043 - val_loss: 0.5994 - val_accuracy: 0.8056\n",
            "Epoch 70/200\n",
            "18/18 [==============================] - 0s 7ms/step - loss: 0.5642 - accuracy: 0.8040 - val_loss: 0.5986 - val_accuracy: 0.8023\n",
            "Epoch 71/200\n",
            "18/18 [==============================] - 0s 7ms/step - loss: 0.5621 - accuracy: 0.8075 - val_loss: 0.6036 - val_accuracy: 0.7957\n",
            "Epoch 72/200\n",
            "18/18 [==============================] - 0s 8ms/step - loss: 0.5622 - accuracy: 0.8075 - val_loss: 0.5970 - val_accuracy: 0.8023\n",
            "Epoch 73/200\n",
            "18/18 [==============================] - 0s 8ms/step - loss: 0.5595 - accuracy: 0.8107 - val_loss: 0.5950 - val_accuracy: 0.8089\n",
            "Epoch 74/200\n",
            "18/18 [==============================] - 0s 7ms/step - loss: 0.5612 - accuracy: 0.8058 - val_loss: 0.5959 - val_accuracy: 0.8072\n",
            "Epoch 75/200\n",
            "18/18 [==============================] - 0s 7ms/step - loss: 0.5581 - accuracy: 0.8096 - val_loss: 0.5944 - val_accuracy: 0.8023\n",
            "Epoch 76/200\n",
            "18/18 [==============================] - 0s 7ms/step - loss: 0.5567 - accuracy: 0.8072 - val_loss: 0.5969 - val_accuracy: 0.8023\n",
            "Epoch 77/200\n",
            "18/18 [==============================] - 0s 7ms/step - loss: 0.5563 - accuracy: 0.8069 - val_loss: 0.5927 - val_accuracy: 0.8040\n",
            "Epoch 78/200\n",
            "18/18 [==============================] - 0s 7ms/step - loss: 0.5560 - accuracy: 0.8081 - val_loss: 0.5954 - val_accuracy: 0.8056\n",
            "Epoch 79/200\n",
            "18/18 [==============================] - 0s 7ms/step - loss: 0.5563 - accuracy: 0.8031 - val_loss: 0.5916 - val_accuracy: 0.8072\n",
            "Epoch 80/200\n",
            "18/18 [==============================] - 0s 7ms/step - loss: 0.5531 - accuracy: 0.8093 - val_loss: 0.5915 - val_accuracy: 0.8056\n",
            "Epoch 81/200\n",
            "18/18 [==============================] - 0s 7ms/step - loss: 0.5517 - accuracy: 0.8096 - val_loss: 0.5932 - val_accuracy: 0.8056\n",
            "Epoch 82/200\n",
            "18/18 [==============================] - 0s 7ms/step - loss: 0.5523 - accuracy: 0.8078 - val_loss: 0.5906 - val_accuracy: 0.8040\n",
            "Epoch 83/200\n",
            "18/18 [==============================] - 0s 7ms/step - loss: 0.5534 - accuracy: 0.8090 - val_loss: 0.5987 - val_accuracy: 0.8040\n",
            "Epoch 84/200\n",
            "18/18 [==============================] - 0s 7ms/step - loss: 0.5529 - accuracy: 0.8078 - val_loss: 0.5893 - val_accuracy: 0.8056\n",
            "Epoch 85/200\n",
            "18/18 [==============================] - 0s 7ms/step - loss: 0.5501 - accuracy: 0.8072 - val_loss: 0.5863 - val_accuracy: 0.8056\n",
            "Epoch 86/200\n",
            "18/18 [==============================] - 0s 10ms/step - loss: 0.5487 - accuracy: 0.8122 - val_loss: 0.5867 - val_accuracy: 0.8056\n",
            "Epoch 87/200\n",
            "18/18 [==============================] - 0s 8ms/step - loss: 0.5478 - accuracy: 0.8107 - val_loss: 0.5893 - val_accuracy: 0.8023\n",
            "Epoch 88/200\n",
            "18/18 [==============================] - 0s 8ms/step - loss: 0.5501 - accuracy: 0.8078 - val_loss: 0.5892 - val_accuracy: 0.8007\n",
            "Epoch 89/200\n",
            "18/18 [==============================] - 0s 5ms/step - loss: 0.5459 - accuracy: 0.8061 - val_loss: 0.5855 - val_accuracy: 0.8089\n",
            "Epoch 90/200\n",
            "18/18 [==============================] - 0s 5ms/step - loss: 0.5447 - accuracy: 0.8104 - val_loss: 0.5866 - val_accuracy: 0.8072\n",
            "Epoch 91/200\n",
            "18/18 [==============================] - 0s 6ms/step - loss: 0.5447 - accuracy: 0.8087 - val_loss: 0.5860 - val_accuracy: 0.8056\n",
            "Epoch 92/200\n",
            "18/18 [==============================] - 0s 5ms/step - loss: 0.5443 - accuracy: 0.8107 - val_loss: 0.5853 - val_accuracy: 0.8072\n",
            "Epoch 93/200\n",
            "18/18 [==============================] - 0s 5ms/step - loss: 0.5441 - accuracy: 0.8122 - val_loss: 0.5816 - val_accuracy: 0.8040\n",
            "Epoch 94/200\n",
            "18/18 [==============================] - 0s 5ms/step - loss: 0.5429 - accuracy: 0.8087 - val_loss: 0.5855 - val_accuracy: 0.8072\n",
            "Epoch 95/200\n",
            "18/18 [==============================] - 0s 6ms/step - loss: 0.5433 - accuracy: 0.8110 - val_loss: 0.5850 - val_accuracy: 0.8105\n",
            "Epoch 96/200\n",
            "18/18 [==============================] - 0s 6ms/step - loss: 0.5416 - accuracy: 0.8101 - val_loss: 0.5818 - val_accuracy: 0.8089\n",
            "Epoch 97/200\n",
            "18/18 [==============================] - 0s 6ms/step - loss: 0.5394 - accuracy: 0.8084 - val_loss: 0.5853 - val_accuracy: 0.8040\n",
            "Epoch 98/200\n",
            "18/18 [==============================] - 0s 5ms/step - loss: 0.5397 - accuracy: 0.8119 - val_loss: 0.5808 - val_accuracy: 0.8056\n",
            "Epoch 99/200\n",
            "18/18 [==============================] - 0s 6ms/step - loss: 0.5385 - accuracy: 0.8113 - val_loss: 0.5836 - val_accuracy: 0.8072\n",
            "Epoch 100/200\n",
            "18/18 [==============================] - 0s 6ms/step - loss: 0.5383 - accuracy: 0.8116 - val_loss: 0.5800 - val_accuracy: 0.8040\n",
            "Epoch 101/200\n",
            "18/18 [==============================] - 0s 6ms/step - loss: 0.5377 - accuracy: 0.8107 - val_loss: 0.5790 - val_accuracy: 0.8072\n",
            "Epoch 102/200\n",
            "18/18 [==============================] - 0s 6ms/step - loss: 0.5373 - accuracy: 0.8136 - val_loss: 0.5802 - val_accuracy: 0.8089\n",
            "Epoch 103/200\n",
            "18/18 [==============================] - 0s 5ms/step - loss: 0.5374 - accuracy: 0.8058 - val_loss: 0.5769 - val_accuracy: 0.8122\n",
            "Epoch 104/200\n",
            "18/18 [==============================] - 0s 5ms/step - loss: 0.5342 - accuracy: 0.8116 - val_loss: 0.5794 - val_accuracy: 0.8105\n",
            "Epoch 105/200\n",
            "18/18 [==============================] - 0s 6ms/step - loss: 0.5343 - accuracy: 0.8148 - val_loss: 0.5735 - val_accuracy: 0.8105\n",
            "Epoch 106/200\n",
            "18/18 [==============================] - 0s 6ms/step - loss: 0.5356 - accuracy: 0.8075 - val_loss: 0.5750 - val_accuracy: 0.8089\n",
            "Epoch 107/200\n",
            "18/18 [==============================] - 0s 6ms/step - loss: 0.5331 - accuracy: 0.8113 - val_loss: 0.5754 - val_accuracy: 0.8188\n",
            "Epoch 108/200\n",
            "18/18 [==============================] - 0s 6ms/step - loss: 0.5349 - accuracy: 0.8107 - val_loss: 0.5732 - val_accuracy: 0.8122\n",
            "Epoch 109/200\n",
            "18/18 [==============================] - 0s 6ms/step - loss: 0.5313 - accuracy: 0.8139 - val_loss: 0.5725 - val_accuracy: 0.8105\n",
            "Epoch 110/200\n",
            "18/18 [==============================] - 0s 5ms/step - loss: 0.5302 - accuracy: 0.8145 - val_loss: 0.5713 - val_accuracy: 0.8089\n",
            "Epoch 111/200\n",
            "18/18 [==============================] - 0s 6ms/step - loss: 0.5287 - accuracy: 0.8133 - val_loss: 0.5693 - val_accuracy: 0.8072\n",
            "Epoch 112/200\n",
            "18/18 [==============================] - 0s 6ms/step - loss: 0.5285 - accuracy: 0.8101 - val_loss: 0.5682 - val_accuracy: 0.8105\n",
            "Epoch 113/200\n",
            "18/18 [==============================] - 0s 6ms/step - loss: 0.5276 - accuracy: 0.8145 - val_loss: 0.5699 - val_accuracy: 0.8089\n",
            "Epoch 114/200\n",
            "18/18 [==============================] - 0s 6ms/step - loss: 0.5283 - accuracy: 0.8157 - val_loss: 0.5708 - val_accuracy: 0.8122\n",
            "Epoch 115/200\n",
            "18/18 [==============================] - 0s 6ms/step - loss: 0.5275 - accuracy: 0.8151 - val_loss: 0.5706 - val_accuracy: 0.8138\n",
            "Epoch 116/200\n",
            "18/18 [==============================] - 0s 5ms/step - loss: 0.5250 - accuracy: 0.8148 - val_loss: 0.5663 - val_accuracy: 0.8204\n",
            "Epoch 117/200\n",
            "18/18 [==============================] - 0s 6ms/step - loss: 0.5238 - accuracy: 0.8165 - val_loss: 0.5701 - val_accuracy: 0.8122\n",
            "Epoch 118/200\n",
            "18/18 [==============================] - 0s 5ms/step - loss: 0.5222 - accuracy: 0.8186 - val_loss: 0.5631 - val_accuracy: 0.8122\n",
            "Epoch 119/200\n",
            "18/18 [==============================] - 0s 6ms/step - loss: 0.5219 - accuracy: 0.8162 - val_loss: 0.5606 - val_accuracy: 0.8122\n",
            "Epoch 120/200\n",
            "18/18 [==============================] - 0s 7ms/step - loss: 0.5191 - accuracy: 0.8189 - val_loss: 0.5636 - val_accuracy: 0.8138\n",
            "Epoch 121/200\n",
            "18/18 [==============================] - 0s 10ms/step - loss: 0.5192 - accuracy: 0.8162 - val_loss: 0.5582 - val_accuracy: 0.8221\n",
            "Epoch 122/200\n",
            "18/18 [==============================] - 0s 8ms/step - loss: 0.5174 - accuracy: 0.8154 - val_loss: 0.5598 - val_accuracy: 0.8155\n",
            "Epoch 123/200\n",
            "18/18 [==============================] - 0s 8ms/step - loss: 0.5168 - accuracy: 0.8183 - val_loss: 0.5590 - val_accuracy: 0.8188\n",
            "Epoch 124/200\n",
            "18/18 [==============================] - 0s 7ms/step - loss: 0.5156 - accuracy: 0.8168 - val_loss: 0.5588 - val_accuracy: 0.8171\n",
            "Epoch 125/200\n",
            "18/18 [==============================] - 0s 8ms/step - loss: 0.5136 - accuracy: 0.8180 - val_loss: 0.5547 - val_accuracy: 0.8221\n",
            "Epoch 126/200\n",
            "18/18 [==============================] - 0s 7ms/step - loss: 0.5136 - accuracy: 0.8209 - val_loss: 0.5532 - val_accuracy: 0.8204\n",
            "Epoch 127/200\n",
            "18/18 [==============================] - 0s 7ms/step - loss: 0.5102 - accuracy: 0.8215 - val_loss: 0.5511 - val_accuracy: 0.8188\n",
            "Epoch 128/200\n",
            "18/18 [==============================] - 0s 7ms/step - loss: 0.5117 - accuracy: 0.8235 - val_loss: 0.5484 - val_accuracy: 0.8171\n",
            "Epoch 129/200\n",
            "18/18 [==============================] - 0s 7ms/step - loss: 0.5090 - accuracy: 0.8206 - val_loss: 0.5488 - val_accuracy: 0.8270\n",
            "Epoch 130/200\n",
            "18/18 [==============================] - 0s 7ms/step - loss: 0.5058 - accuracy: 0.8241 - val_loss: 0.5490 - val_accuracy: 0.8155\n",
            "Epoch 131/200\n",
            "18/18 [==============================] - 0s 7ms/step - loss: 0.5058 - accuracy: 0.8224 - val_loss: 0.5447 - val_accuracy: 0.8221\n",
            "Epoch 132/200\n",
            "18/18 [==============================] - 0s 5ms/step - loss: 0.5023 - accuracy: 0.8229 - val_loss: 0.5439 - val_accuracy: 0.8270\n",
            "Epoch 133/200\n",
            "18/18 [==============================] - 0s 6ms/step - loss: 0.5023 - accuracy: 0.8235 - val_loss: 0.5409 - val_accuracy: 0.8254\n",
            "Epoch 134/200\n",
            "18/18 [==============================] - 0s 5ms/step - loss: 0.4988 - accuracy: 0.8285 - val_loss: 0.5413 - val_accuracy: 0.8287\n",
            "Epoch 135/200\n",
            "18/18 [==============================] - 0s 6ms/step - loss: 0.5001 - accuracy: 0.8232 - val_loss: 0.5362 - val_accuracy: 0.8237\n",
            "Epoch 136/200\n",
            "18/18 [==============================] - 0s 6ms/step - loss: 0.4970 - accuracy: 0.8314 - val_loss: 0.5352 - val_accuracy: 0.8237\n",
            "Epoch 137/200\n",
            "18/18 [==============================] - 0s 5ms/step - loss: 0.4929 - accuracy: 0.8270 - val_loss: 0.5353 - val_accuracy: 0.8254\n",
            "Epoch 138/200\n",
            "18/18 [==============================] - 0s 6ms/step - loss: 0.4914 - accuracy: 0.8273 - val_loss: 0.5318 - val_accuracy: 0.8221\n",
            "Epoch 139/200\n",
            "18/18 [==============================] - 0s 5ms/step - loss: 0.4899 - accuracy: 0.8308 - val_loss: 0.5314 - val_accuracy: 0.8254\n",
            "Epoch 140/200\n",
            "18/18 [==============================] - 0s 6ms/step - loss: 0.4878 - accuracy: 0.8305 - val_loss: 0.5292 - val_accuracy: 0.8270\n",
            "Epoch 141/200\n",
            "18/18 [==============================] - 0s 5ms/step - loss: 0.4857 - accuracy: 0.8320 - val_loss: 0.5273 - val_accuracy: 0.8221\n",
            "Epoch 142/200\n",
            "18/18 [==============================] - 0s 5ms/step - loss: 0.4849 - accuracy: 0.8358 - val_loss: 0.5269 - val_accuracy: 0.8287\n",
            "Epoch 143/200\n",
            "18/18 [==============================] - 0s 6ms/step - loss: 0.4823 - accuracy: 0.8346 - val_loss: 0.5236 - val_accuracy: 0.8270\n",
            "Epoch 144/200\n",
            "18/18 [==============================] - 0s 5ms/step - loss: 0.4813 - accuracy: 0.8349 - val_loss: 0.5213 - val_accuracy: 0.8287\n",
            "Epoch 145/200\n",
            "18/18 [==============================] - 0s 6ms/step - loss: 0.4792 - accuracy: 0.8328 - val_loss: 0.5202 - val_accuracy: 0.8254\n",
            "Epoch 146/200\n",
            "18/18 [==============================] - 0s 6ms/step - loss: 0.4761 - accuracy: 0.8413 - val_loss: 0.5182 - val_accuracy: 0.8303\n",
            "Epoch 147/200\n",
            "18/18 [==============================] - 0s 6ms/step - loss: 0.4763 - accuracy: 0.8398 - val_loss: 0.5182 - val_accuracy: 0.8303\n",
            "Epoch 148/200\n",
            "18/18 [==============================] - 0s 5ms/step - loss: 0.4729 - accuracy: 0.8369 - val_loss: 0.5165 - val_accuracy: 0.8303\n",
            "Epoch 149/200\n",
            "18/18 [==============================] - 0s 6ms/step - loss: 0.4706 - accuracy: 0.8433 - val_loss: 0.5128 - val_accuracy: 0.8303\n",
            "Epoch 150/200\n",
            "18/18 [==============================] - 0s 5ms/step - loss: 0.4697 - accuracy: 0.8436 - val_loss: 0.5111 - val_accuracy: 0.8402\n",
            "Epoch 151/200\n",
            "18/18 [==============================] - 0s 6ms/step - loss: 0.4678 - accuracy: 0.8451 - val_loss: 0.5098 - val_accuracy: 0.8418\n",
            "Epoch 152/200\n",
            "18/18 [==============================] - 0s 6ms/step - loss: 0.4655 - accuracy: 0.8471 - val_loss: 0.5092 - val_accuracy: 0.8402\n",
            "Epoch 153/200\n",
            "18/18 [==============================] - 0s 5ms/step - loss: 0.4631 - accuracy: 0.8451 - val_loss: 0.5054 - val_accuracy: 0.8353\n",
            "Epoch 154/200\n",
            "18/18 [==============================] - 0s 6ms/step - loss: 0.4614 - accuracy: 0.8483 - val_loss: 0.5032 - val_accuracy: 0.8336\n",
            "Epoch 155/200\n",
            "18/18 [==============================] - 0s 6ms/step - loss: 0.4620 - accuracy: 0.8471 - val_loss: 0.5031 - val_accuracy: 0.8369\n",
            "Epoch 156/200\n",
            "18/18 [==============================] - 0s 7ms/step - loss: 0.4585 - accuracy: 0.8448 - val_loss: 0.5005 - val_accuracy: 0.8418\n",
            "Epoch 157/200\n",
            "18/18 [==============================] - 0s 6ms/step - loss: 0.4563 - accuracy: 0.8515 - val_loss: 0.5015 - val_accuracy: 0.8353\n",
            "Epoch 158/200\n",
            "18/18 [==============================] - 0s 5ms/step - loss: 0.4562 - accuracy: 0.8492 - val_loss: 0.4978 - val_accuracy: 0.8435\n",
            "Epoch 159/200\n",
            "18/18 [==============================] - 0s 6ms/step - loss: 0.4539 - accuracy: 0.8524 - val_loss: 0.4963 - val_accuracy: 0.8451\n",
            "Epoch 160/200\n",
            "18/18 [==============================] - 0s 5ms/step - loss: 0.4530 - accuracy: 0.8529 - val_loss: 0.4972 - val_accuracy: 0.8451\n",
            "Epoch 161/200\n",
            "18/18 [==============================] - 0s 6ms/step - loss: 0.4524 - accuracy: 0.8544 - val_loss: 0.4974 - val_accuracy: 0.8451\n",
            "Epoch 162/200\n",
            "18/18 [==============================] - 0s 6ms/step - loss: 0.4510 - accuracy: 0.8561 - val_loss: 0.4947 - val_accuracy: 0.8386\n",
            "Epoch 163/200\n",
            "18/18 [==============================] - 0s 6ms/step - loss: 0.4477 - accuracy: 0.8567 - val_loss: 0.4905 - val_accuracy: 0.8418\n",
            "Epoch 164/200\n",
            "18/18 [==============================] - 0s 5ms/step - loss: 0.4458 - accuracy: 0.8553 - val_loss: 0.4915 - val_accuracy: 0.8402\n",
            "Epoch 165/200\n",
            "18/18 [==============================] - 0s 6ms/step - loss: 0.4458 - accuracy: 0.8599 - val_loss: 0.4891 - val_accuracy: 0.8550\n",
            "Epoch 166/200\n",
            "18/18 [==============================] - 0s 6ms/step - loss: 0.4434 - accuracy: 0.8608 - val_loss: 0.4869 - val_accuracy: 0.8468\n",
            "Epoch 167/200\n",
            "18/18 [==============================] - 0s 5ms/step - loss: 0.4441 - accuracy: 0.8582 - val_loss: 0.4854 - val_accuracy: 0.8517\n",
            "Epoch 168/200\n",
            "18/18 [==============================] - 0s 6ms/step - loss: 0.4410 - accuracy: 0.8564 - val_loss: 0.4872 - val_accuracy: 0.8468\n",
            "Epoch 169/200\n",
            "18/18 [==============================] - 0s 6ms/step - loss: 0.4413 - accuracy: 0.8544 - val_loss: 0.4851 - val_accuracy: 0.8567\n",
            "Epoch 170/200\n",
            "18/18 [==============================] - 0s 5ms/step - loss: 0.4386 - accuracy: 0.8593 - val_loss: 0.4832 - val_accuracy: 0.8451\n",
            "Epoch 171/200\n",
            "18/18 [==============================] - 0s 5ms/step - loss: 0.4372 - accuracy: 0.8605 - val_loss: 0.4839 - val_accuracy: 0.8534\n",
            "Epoch 172/200\n",
            "18/18 [==============================] - 0s 5ms/step - loss: 0.4358 - accuracy: 0.8596 - val_loss: 0.4862 - val_accuracy: 0.8451\n",
            "Epoch 173/200\n",
            "18/18 [==============================] - 0s 5ms/step - loss: 0.4370 - accuracy: 0.8591 - val_loss: 0.4818 - val_accuracy: 0.8600\n",
            "Epoch 174/200\n",
            "18/18 [==============================] - 0s 6ms/step - loss: 0.4346 - accuracy: 0.8596 - val_loss: 0.4813 - val_accuracy: 0.8567\n",
            "Epoch 175/200\n",
            "18/18 [==============================] - 0s 5ms/step - loss: 0.4338 - accuracy: 0.8631 - val_loss: 0.4803 - val_accuracy: 0.8484\n",
            "Epoch 176/200\n",
            "18/18 [==============================] - 0s 5ms/step - loss: 0.4324 - accuracy: 0.8655 - val_loss: 0.4793 - val_accuracy: 0.8517\n",
            "Epoch 177/200\n",
            "18/18 [==============================] - 0s 6ms/step - loss: 0.4310 - accuracy: 0.8623 - val_loss: 0.4781 - val_accuracy: 0.8600\n",
            "Epoch 178/200\n",
            "18/18 [==============================] - 0s 8ms/step - loss: 0.4300 - accuracy: 0.8637 - val_loss: 0.4793 - val_accuracy: 0.8484\n",
            "Epoch 179/200\n",
            "18/18 [==============================] - 0s 9ms/step - loss: 0.4292 - accuracy: 0.8631 - val_loss: 0.4770 - val_accuracy: 0.8567\n",
            "Epoch 180/200\n",
            "18/18 [==============================] - 0s 8ms/step - loss: 0.4315 - accuracy: 0.8631 - val_loss: 0.4818 - val_accuracy: 0.8616\n",
            "Epoch 181/200\n",
            "18/18 [==============================] - 0s 7ms/step - loss: 0.4302 - accuracy: 0.8678 - val_loss: 0.4766 - val_accuracy: 0.8468\n",
            "Epoch 182/200\n",
            "18/18 [==============================] - 0s 10ms/step - loss: 0.4277 - accuracy: 0.8643 - val_loss: 0.4753 - val_accuracy: 0.8550\n",
            "Epoch 183/200\n",
            "18/18 [==============================] - 0s 8ms/step - loss: 0.4259 - accuracy: 0.8634 - val_loss: 0.4734 - val_accuracy: 0.8550\n",
            "Epoch 184/200\n",
            "18/18 [==============================] - 0s 8ms/step - loss: 0.4245 - accuracy: 0.8634 - val_loss: 0.4737 - val_accuracy: 0.8517\n",
            "Epoch 185/200\n",
            "18/18 [==============================] - 0s 8ms/step - loss: 0.4251 - accuracy: 0.8628 - val_loss: 0.4755 - val_accuracy: 0.8633\n",
            "Epoch 186/200\n",
            "18/18 [==============================] - 0s 8ms/step - loss: 0.4250 - accuracy: 0.8655 - val_loss: 0.4720 - val_accuracy: 0.8583\n",
            "Epoch 187/200\n",
            "18/18 [==============================] - 0s 8ms/step - loss: 0.4231 - accuracy: 0.8634 - val_loss: 0.4735 - val_accuracy: 0.8633\n",
            "Epoch 188/200\n",
            "18/18 [==============================] - 0s 8ms/step - loss: 0.4232 - accuracy: 0.8672 - val_loss: 0.4700 - val_accuracy: 0.8666\n",
            "Epoch 189/200\n",
            "18/18 [==============================] - 0s 7ms/step - loss: 0.4246 - accuracy: 0.8666 - val_loss: 0.4702 - val_accuracy: 0.8666\n",
            "Epoch 190/200\n",
            "18/18 [==============================] - 0s 8ms/step - loss: 0.4221 - accuracy: 0.8669 - val_loss: 0.4731 - val_accuracy: 0.8633\n",
            "Epoch 191/200\n",
            "18/18 [==============================] - 0s 8ms/step - loss: 0.4233 - accuracy: 0.8675 - val_loss: 0.4686 - val_accuracy: 0.8633\n",
            "Epoch 192/200\n",
            "18/18 [==============================] - 0s 7ms/step - loss: 0.4197 - accuracy: 0.8663 - val_loss: 0.4709 - val_accuracy: 0.8583\n",
            "Epoch 193/200\n",
            "18/18 [==============================] - 0s 7ms/step - loss: 0.4203 - accuracy: 0.8666 - val_loss: 0.4707 - val_accuracy: 0.8600\n",
            "Epoch 194/200\n",
            "18/18 [==============================] - 0s 8ms/step - loss: 0.4189 - accuracy: 0.8701 - val_loss: 0.4705 - val_accuracy: 0.8616\n",
            "Epoch 195/200\n",
            "18/18 [==============================] - 0s 8ms/step - loss: 0.4181 - accuracy: 0.8687 - val_loss: 0.4668 - val_accuracy: 0.8699\n",
            "Epoch 196/200\n",
            "18/18 [==============================] - 0s 7ms/step - loss: 0.4179 - accuracy: 0.8695 - val_loss: 0.4679 - val_accuracy: 0.8699\n",
            "Epoch 197/200\n",
            "18/18 [==============================] - 0s 7ms/step - loss: 0.4198 - accuracy: 0.8713 - val_loss: 0.4668 - val_accuracy: 0.8666\n",
            "Epoch 198/200\n",
            "18/18 [==============================] - 0s 8ms/step - loss: 0.4174 - accuracy: 0.8695 - val_loss: 0.4671 - val_accuracy: 0.8534\n",
            "Epoch 199/200\n",
            "18/18 [==============================] - 0s 9ms/step - loss: 0.4160 - accuracy: 0.8698 - val_loss: 0.4733 - val_accuracy: 0.8600\n",
            "Epoch 200/200\n",
            "18/18 [==============================] - 0s 8ms/step - loss: 0.4176 - accuracy: 0.8722 - val_loss: 0.4664 - val_accuracy: 0.8633\n"
          ]
        }
      ],
      "source": [
        "training_history4 = model4.fit(x=xs_train, y=ys_train, \n",
        "                               validation_split=0.15, epochs=200, \n",
        "                               batch_size=200, verbose=1,\n",
        "                               shuffle=True)"
      ]
    },
    {
      "cell_type": "code",
      "execution_count": 48,
      "metadata": {
        "colab": {
          "base_uri": "https://localhost:8080/",
          "height": 0
        },
        "id": "1cN0w2msFWEA",
        "outputId": "1eec91de-6f58-4786-be76-af4d3ca40784"
      },
      "outputs": [
        {
          "output_type": "execute_result",
          "data": {
            "text/plain": [
              "         loss  accuracy  val_loss  val_accuracy\n",
              "195  0.417941  0.869540  0.467943      0.869852\n",
              "196  0.419797  0.871287  0.466842      0.866557\n",
              "197  0.417402  0.869540  0.467135      0.853377\n",
              "198  0.415996  0.869831  0.473280      0.859967\n",
              "199  0.417553  0.872161  0.466369      0.863262"
            ],
            "text/html": [
              "\n",
              "  <div id=\"df-2c4604d5-ce7d-45a4-8e1f-b7a99875552d\">\n",
              "    <div class=\"colab-df-container\">\n",
              "      <div>\n",
              "<style scoped>\n",
              "    .dataframe tbody tr th:only-of-type {\n",
              "        vertical-align: middle;\n",
              "    }\n",
              "\n",
              "    .dataframe tbody tr th {\n",
              "        vertical-align: top;\n",
              "    }\n",
              "\n",
              "    .dataframe thead th {\n",
              "        text-align: right;\n",
              "    }\n",
              "</style>\n",
              "<table border=\"1\" class=\"dataframe\">\n",
              "  <thead>\n",
              "    <tr style=\"text-align: right;\">\n",
              "      <th></th>\n",
              "      <th>loss</th>\n",
              "      <th>accuracy</th>\n",
              "      <th>val_loss</th>\n",
              "      <th>val_accuracy</th>\n",
              "    </tr>\n",
              "  </thead>\n",
              "  <tbody>\n",
              "    <tr>\n",
              "      <th>195</th>\n",
              "      <td>0.417941</td>\n",
              "      <td>0.869540</td>\n",
              "      <td>0.467943</td>\n",
              "      <td>0.869852</td>\n",
              "    </tr>\n",
              "    <tr>\n",
              "      <th>196</th>\n",
              "      <td>0.419797</td>\n",
              "      <td>0.871287</td>\n",
              "      <td>0.466842</td>\n",
              "      <td>0.866557</td>\n",
              "    </tr>\n",
              "    <tr>\n",
              "      <th>197</th>\n",
              "      <td>0.417402</td>\n",
              "      <td>0.869540</td>\n",
              "      <td>0.467135</td>\n",
              "      <td>0.853377</td>\n",
              "    </tr>\n",
              "    <tr>\n",
              "      <th>198</th>\n",
              "      <td>0.415996</td>\n",
              "      <td>0.869831</td>\n",
              "      <td>0.473280</td>\n",
              "      <td>0.859967</td>\n",
              "    </tr>\n",
              "    <tr>\n",
              "      <th>199</th>\n",
              "      <td>0.417553</td>\n",
              "      <td>0.872161</td>\n",
              "      <td>0.466369</td>\n",
              "      <td>0.863262</td>\n",
              "    </tr>\n",
              "  </tbody>\n",
              "</table>\n",
              "</div>\n",
              "      <button class=\"colab-df-convert\" onclick=\"convertToInteractive('df-2c4604d5-ce7d-45a4-8e1f-b7a99875552d')\"\n",
              "              title=\"Convert this dataframe to an interactive table.\"\n",
              "              style=\"display:none;\">\n",
              "        \n",
              "  <svg xmlns=\"http://www.w3.org/2000/svg\" height=\"24px\"viewBox=\"0 0 24 24\"\n",
              "       width=\"24px\">\n",
              "    <path d=\"M0 0h24v24H0V0z\" fill=\"none\"/>\n",
              "    <path d=\"M18.56 5.44l.94 2.06.94-2.06 2.06-.94-2.06-.94-.94-2.06-.94 2.06-2.06.94zm-11 1L8.5 8.5l.94-2.06 2.06-.94-2.06-.94L8.5 2.5l-.94 2.06-2.06.94zm10 10l.94 2.06.94-2.06 2.06-.94-2.06-.94-.94-2.06-.94 2.06-2.06.94z\"/><path d=\"M17.41 7.96l-1.37-1.37c-.4-.4-.92-.59-1.43-.59-.52 0-1.04.2-1.43.59L10.3 9.45l-7.72 7.72c-.78.78-.78 2.05 0 2.83L4 21.41c.39.39.9.59 1.41.59.51 0 1.02-.2 1.41-.59l7.78-7.78 2.81-2.81c.8-.78.8-2.07 0-2.86zM5.41 20L4 18.59l7.72-7.72 1.47 1.35L5.41 20z\"/>\n",
              "  </svg>\n",
              "      </button>\n",
              "      \n",
              "  <style>\n",
              "    .colab-df-container {\n",
              "      display:flex;\n",
              "      flex-wrap:wrap;\n",
              "      gap: 12px;\n",
              "    }\n",
              "\n",
              "    .colab-df-convert {\n",
              "      background-color: #E8F0FE;\n",
              "      border: none;\n",
              "      border-radius: 50%;\n",
              "      cursor: pointer;\n",
              "      display: none;\n",
              "      fill: #1967D2;\n",
              "      height: 32px;\n",
              "      padding: 0 0 0 0;\n",
              "      width: 32px;\n",
              "    }\n",
              "\n",
              "    .colab-df-convert:hover {\n",
              "      background-color: #E2EBFA;\n",
              "      box-shadow: 0px 1px 2px rgba(60, 64, 67, 0.3), 0px 1px 3px 1px rgba(60, 64, 67, 0.15);\n",
              "      fill: #174EA6;\n",
              "    }\n",
              "\n",
              "    [theme=dark] .colab-df-convert {\n",
              "      background-color: #3B4455;\n",
              "      fill: #D2E3FC;\n",
              "    }\n",
              "\n",
              "    [theme=dark] .colab-df-convert:hover {\n",
              "      background-color: #434B5C;\n",
              "      box-shadow: 0px 1px 3px 1px rgba(0, 0, 0, 0.15);\n",
              "      filter: drop-shadow(0px 1px 2px rgba(0, 0, 0, 0.3));\n",
              "      fill: #FFFFFF;\n",
              "    }\n",
              "  </style>\n",
              "\n",
              "      <script>\n",
              "        const buttonEl =\n",
              "          document.querySelector('#df-2c4604d5-ce7d-45a4-8e1f-b7a99875552d button.colab-df-convert');\n",
              "        buttonEl.style.display =\n",
              "          google.colab.kernel.accessAllowed ? 'block' : 'none';\n",
              "\n",
              "        async function convertToInteractive(key) {\n",
              "          const element = document.querySelector('#df-2c4604d5-ce7d-45a4-8e1f-b7a99875552d');\n",
              "          const dataTable =\n",
              "            await google.colab.kernel.invokeFunction('convertToInteractive',\n",
              "                                                     [key], {});\n",
              "          if (!dataTable) return;\n",
              "\n",
              "          const docLinkHtml = 'Like what you see? Visit the ' +\n",
              "            '<a target=\"_blank\" href=https://colab.research.google.com/notebooks/data_table.ipynb>data table notebook</a>'\n",
              "            + ' to learn more about interactive tables.';\n",
              "          element.innerHTML = '';\n",
              "          dataTable['output_type'] = 'display_data';\n",
              "          await google.colab.output.renderOutput(dataTable, element);\n",
              "          const docLink = document.createElement('div');\n",
              "          docLink.innerHTML = docLinkHtml;\n",
              "          element.appendChild(docLink);\n",
              "        }\n",
              "      </script>\n",
              "    </div>\n",
              "  </div>\n",
              "  "
            ]
          },
          "metadata": {},
          "execution_count": 48
        }
      ],
      "source": [
        "hist4 = pd.DataFrame(training_history4.history)\n",
        "hist4.tail()"
      ]
    },
    {
      "cell_type": "code",
      "execution_count": 49,
      "metadata": {
        "colab": {
          "base_uri": "https://localhost:8080/"
        },
        "id": "K1Re7UMW9NDK",
        "outputId": "721b9bc6-fec9-44e4-c9a3-0c6015afe784"
      },
      "outputs": [
        {
          "output_type": "stream",
          "name": "stdout",
          "text": [
            "127/127 [==============================] - 0s 2ms/step - loss: 0.4254 - accuracy: 0.8703\n",
            "Accuracy on train set [0.42538708448410034, 0.8703291416168213]\n"
          ]
        }
      ],
      "source": [
        "# Accuracy on training sets\n",
        "accuracy_m4_train = model4.evaluate(xs_train, ys_train) # loss: 0.4072 - accuracy: 0.8765\n",
        "\n",
        "print('Accuracy on train set', accuracy_m4_train)"
      ]
    },
    {
      "cell_type": "code",
      "execution_count": 87,
      "metadata": {
        "colab": {
          "base_uri": "https://localhost:8080/",
          "height": 472
        },
        "id": "yYQfTF65GgGE",
        "outputId": "cefddf56-2651-46f0-f551-564834254af2"
      },
      "outputs": [
        {
          "output_type": "display_data",
          "data": {
            "text/plain": [
              "<Figure size 640x480 with 1 Axes>"
            ],
            "image/png": "[encoded data removed]"
          },
          "metadata": {}
        }
      ],
      "source": [
        "plt.plot(hist4['accuracy'])\n",
        "plt.plot(hist4['val_accuracy'])\n",
        "plt.title('model accuracy')\n",
        "plt.ylabel('accuracy')\n",
        "plt.xlabel('epoch')\n",
        "plt.legend(['train', 'val'], loc='upper left')\n",
        "plt.show()"
      ]
    },
    {
      "cell_type": "code",
      "execution_count": 51,
      "metadata": {
        "colab": {
          "base_uri": "https://localhost:8080/"
        },
        "id": "tXUoJ2c3Ezu4",
        "outputId": "4c3adf28-2ef4-42d9-964a-f6c90c0cce86"
      },
      "outputs": [
        {
          "output_type": "stream",
          "name": "stdout",
          "text": [
            "32/32 [==============================] - 0s 2ms/step - loss: 0.4690 - accuracy: 0.8457\n"
          ]
        }
      ],
      "source": [
        "model4_test_predict = model4.evaluate(xs_test, ys_test) # loss: 0.4553 - accuracy: 0.8566"
      ]
    },
    {
      "cell_type": "markdown",
      "metadata": {
        "id": "sSILVr4-m71s"
      },
      "source": [
        "#### Model 5\n"
      ]
    },
    {
      "cell_type": "markdown",
      "metadata": {
        "id": "D5kPvZpCm71t"
      },
      "source": [
        "Define and compile the model"
      ]
    },
    {
      "cell_type": "code",
      "execution_count": 52,
      "metadata": {
        "id": "O7Wz5cXgL_I8"
      },
      "outputs": [],
      "source": [
        "def create_model(activation='relu'):\n",
        "  # create model\n",
        "  model5 = keras.Sequential([\n",
        "    layers.Dense(3, kernel_regularizer=regularizers.l2(0.001), activation='relu', input_shape=(3,)),\n",
        "    layers.Dense(24, kernel_regularizer=regularizers.l2(0.001), activation='relu'),\n",
        "    layers.Dense(24, kernel_regularizer=regularizers.l2(0.001), activation='relu'),\n",
        "    layers.Dense(16, kernel_regularizer=regularizers.l2(0.001), activation='Softmax'),\n",
        "    layers.Dense(11)\n",
        "  ])\n",
        "  # Compile model\n",
        "  model5.compile(loss=tf.keras.losses.CategoricalCrossentropy(from_logits=True), \n",
        "                 optimizer=keras.optimizers.Adam(learning_rate=0.001), metrics=['accuracy'])\n",
        "  return model5"
      ]
    },
    {
      "cell_type": "code",
      "execution_count": 53,
      "metadata": {
        "colab": {
          "base_uri": "https://localhost:8080/",
          "height": 172
        },
        "id": "bag09UEtmwXf",
        "outputId": "4e5914cd-0912-4e15-f588-9e23ec5b6518"
      },
      "outputs": [
        {
          "output_type": "stream",
          "name": "stderr",
          "text": [
            "/usr/local/lib/python3.9/dist-packages/joblib/externals/loky/process_executor.py:700: UserWarning: A worker stopped while some jobs were given to the executor. This can be caused by a too short worker timeout or by a memory leak.\n",
            "  warnings.warn(\n"
          ]
        },
        {
          "output_type": "execute_result",
          "data": {
            "text/plain": [
              "GridSearchCV(cv=5,\n",
              "             estimator=KerasClassifier(batch_size=200, epochs=150, model=<function create_model at 0x7fa8c18353a0>, verbose=0),\n",
              "             n_jobs=-1,\n",
              "             param_grid={'model__activation': ['softmax', 'relu'],\n",
              "                         'optimizer__learning_rate': [0.001, 0.01, 0.1, 0.2,\n",
              "                                                      0.3],\n",
              "                         'optimizer__momentum': [0.0, 0.2, 0.4, 0.6, 0.8, 0.9]})"
            ],
            "text/html": [
              "<style>#sk-container-id-1 {color: black;background-color: white;}#sk-container-id-1 pre{padding: 0;}#sk-container-id-1 div.sk-toggleable {background-color: white;}#sk-container-id-1 label.sk-toggleable__label {cursor: pointer;display: block;width: 100%;margin-bottom: 0;padding: 0.3em;box-sizing: border-box;text-align: center;}#sk-container-id-1 label.sk-toggleable__label-arrow:before {content: \"▸\";float: left;margin-right: 0.25em;color: #696969;}#sk-container-id-1 label.sk-toggleable__label-arrow:hover:before {color: black;}#sk-container-id-1 div.sk-estimator:hover label.sk-toggleable__label-arrow:before {color: black;}#sk-container-id-1 div.sk-toggleable__content {max-height: 0;max-width: 0;overflow: hidden;text-align: left;background-color: #f0f8ff;}#sk-container-id-1 div.sk-toggleable__content pre {margin: 0.2em;color: black;border-radius: 0.25em;background-color: #f0f8ff;}#sk-container-id-1 input.sk-toggleable__control:checked~div.sk-toggleable__content {max-height: 200px;max-width: 100%;overflow: auto;}#sk-container-id-1 input.sk-toggleable__control:checked~label.sk-toggleable__label-arrow:before {content: \"▾\";}#sk-container-id-1 div.sk-estimator input.sk-toggleable__control:checked~label.sk-toggleable__label {background-color: #d4ebff;}#sk-container-id-1 div.sk-label input.sk-toggleable__control:checked~label.sk-toggleable__label {background-color: #d4ebff;}#sk-container-id-1 input.sk-hidden--visually {border: 0;clip: rect(1px 1px 1px 1px);clip: rect(1px, 1px, 1px, 1px);height: 1px;margin: -1px;overflow: hidden;padding: 0;position: absolute;width: 1px;}#sk-container-id-1 div.sk-estimator {font-family: monospace;background-color: #f0f8ff;border: 1px dotted black;border-radius: 0.25em;box-sizing: border-box;margin-bottom: 0.5em;}#sk-container-id-1 div.sk-estimator:hover {background-color: #d4ebff;}#sk-container-id-1 div.sk-parallel-item::after {content: \"\";width: 100%;border-bottom: 1px solid gray;flex-grow: 1;}#sk-container-id-1 div.sk-label:hover label.sk-toggleable__label {background-color: #d4ebff;}#sk-container-id-1 div.sk-serial::before {content: \"\";position: absolute;border-left: 1px solid gray;box-sizing: border-box;top: 0;bottom: 0;left: 50%;z-index: 0;}#sk-container-id-1 div.sk-serial {display: flex;flex-direction: column;align-items: center;background-color: white;padding-right: 0.2em;padding-left: 0.2em;position: relative;}#sk-container-id-1 div.sk-item {position: relative;z-index: 1;}#sk-container-id-1 div.sk-parallel {display: flex;align-items: stretch;justify-content: center;background-color: white;position: relative;}#sk-container-id-1 div.sk-item::before, #sk-container-id-1 div.sk-parallel-item::before {content: \"\";position: absolute;border-left: 1px solid gray;box-sizing: border-box;top: 0;bottom: 0;left: 50%;z-index: -1;}#sk-container-id-1 div.sk-parallel-item {display: flex;flex-direction: column;z-index: 1;position: relative;background-color: white;}#sk-container-id-1 div.sk-parallel-item:first-child::after {align-self: flex-end;width: 50%;}#sk-container-id-1 div.sk-parallel-item:last-child::after {align-self: flex-start;width: 50%;}#sk-container-id-1 div.sk-parallel-item:only-child::after {width: 0;}#sk-container-id-1 div.sk-dashed-wrapped {border: 1px dashed gray;margin: 0 0.4em 0.5em 0.4em;box-sizing: border-box;padding-bottom: 0.4em;background-color: white;}#sk-container-id-1 div.sk-label label {font-family: monospace;font-weight: bold;display: inline-block;line-height: 1.2em;}#sk-container-id-1 div.sk-label-container {text-align: center;}#sk-container-id-1 div.sk-container {/* jupyter's `normalize.less` sets `[hidden] { display: none; }` but bootstrap.min.css set `[hidden] { display: none !important; }` so we also need the `!important` here to be able to override the default hidden behavior on the sphinx rendered scikit-learn.org. See: https://github.com/scikit-learn/scikit-learn/issues/21755 */display: inline-block !important;position: relative;}#sk-container-id-1 div.sk-text-repr-fallback {display: none;}</style><div id=\"sk-container-id-1\" class=\"sk-top-container\"><div class=\"sk-text-repr-fallback\"><pre>GridSearchCV(cv=5,\n",
              "             estimator=KerasClassifier(batch_size=200, epochs=150, model=&lt;function create_model at 0x7fa8c18353a0&gt;, verbose=0),\n",
              "             n_jobs=-1,\n",
              "             param_grid={&#x27;model__activation&#x27;: [&#x27;softmax&#x27;, &#x27;relu&#x27;],\n",
              "                         &#x27;optimizer__learning_rate&#x27;: [0.001, 0.01, 0.1, 0.2,\n",
              "                                                      0.3],\n",
              "                         &#x27;optimizer__momentum&#x27;: [0.0, 0.2, 0.4, 0.6, 0.8, 0.9]})</pre><b>In a Jupyter environment, please rerun this cell to show the HTML representation or trust the notebook. <br />On GitHub, the HTML representation is unable to render, please try loading this page with nbviewer.org.</b></div><div class=\"sk-container\" hidden><div class=\"sk-item sk-dashed-wrapped\"><div class=\"sk-label-container\"><div class=\"sk-label sk-toggleable\"><input class=\"sk-toggleable__control sk-hidden--visually\" id=\"sk-estimator-id-1\" type=\"checkbox\" ><label for=\"sk-estimator-id-1\" class=\"sk-toggleable__label sk-toggleable__label-arrow\">GridSearchCV</label><div class=\"sk-toggleable__content\"><pre>GridSearchCV(cv=5,\n",
              "             estimator=KerasClassifier(batch_size=200, epochs=150, model=&lt;function create_model at 0x7fa8c18353a0&gt;, verbose=0),\n",
              "             n_jobs=-1,\n",
              "             param_grid={&#x27;model__activation&#x27;: [&#x27;softmax&#x27;, &#x27;relu&#x27;],\n",
              "                         &#x27;optimizer__learning_rate&#x27;: [0.001, 0.01, 0.1, 0.2,\n",
              "                                                      0.3],\n",
              "                         &#x27;optimizer__momentum&#x27;: [0.0, 0.2, 0.4, 0.6, 0.8, 0.9]})</pre></div></div></div><div class=\"sk-parallel\"><div class=\"sk-parallel-item\"><div class=\"sk-item\"><div class=\"sk-label-container\"><div class=\"sk-label sk-toggleable\"><input class=\"sk-toggleable__control sk-hidden--visually\" id=\"sk-estimator-id-2\" type=\"checkbox\" ><label for=\"sk-estimator-id-2\" class=\"sk-toggleable__label sk-toggleable__label-arrow\">estimator: KerasClassifier</label><div class=\"sk-toggleable__content\"><pre>KerasClassifier(\n",
              "\tmodel=&lt;function create_model at 0x7fa8c18353a0&gt;\n",
              "\tbuild_fn=None\n",
              "\twarm_start=False\n",
              "\trandom_state=None\n",
              "\toptimizer=rmsprop\n",
              "\tloss=None\n",
              "\tmetrics=None\n",
              "\tbatch_size=200\n",
              "\tvalidation_batch_size=None\n",
              "\tverbose=0\n",
              "\tcallbacks=None\n",
              "\tvalidation_split=0.0\n",
              "\tshuffle=True\n",
              "\trun_eagerly=False\n",
              "\tepochs=150\n",
              "\tclass_weight=None\n",
              ")</pre></div></div></div><div class=\"sk-serial\"><div class=\"sk-item\"><div class=\"sk-estimator sk-toggleable\"><input class=\"sk-toggleable__control sk-hidden--visually\" id=\"sk-estimator-id-3\" type=\"checkbox\" ><label for=\"sk-estimator-id-3\" class=\"sk-toggleable__label sk-toggleable__label-arrow\">KerasClassifier</label><div class=\"sk-toggleable__content\"><pre>KerasClassifier(\n",
              "\tmodel=&lt;function create_model at 0x7fa8c18353a0&gt;\n",
              "\tbuild_fn=None\n",
              "\twarm_start=False\n",
              "\trandom_state=None\n",
              "\toptimizer=rmsprop\n",
              "\tloss=None\n",
              "\tmetrics=None\n",
              "\tbatch_size=200\n",
              "\tvalidation_batch_size=None\n",
              "\tverbose=0\n",
              "\tcallbacks=None\n",
              "\tvalidation_split=0.0\n",
              "\tshuffle=True\n",
              "\trun_eagerly=False\n",
              "\tepochs=150\n",
              "\tclass_weight=None\n",
              ")</pre></div></div></div></div></div></div></div></div></div></div>"
            ]
          },
          "metadata": {},
          "execution_count": 53
        }
      ],
      "source": [
        "# define the grid search parameters\n",
        "learn_rate = [0.001, 0.01, 0.1, 0.2, 0.3]\n",
        "momentum = [0.0, 0.2, 0.4, 0.6, 0.8, 0.9]\n",
        "activation_fct = ['softmax', 'relu']\n",
        "#activation_fct = ['tanh', 'hard_sigmoid', 'linear', 'sigmoid']\n",
        "param_grid = dict(optimizer__learning_rate=learn_rate, optimizer__momentum=momentum, model__activation=activation_fct)\n",
        "\n",
        "# other parameters\n",
        "loss_function = tf.keras.losses.CategoricalCrossentropy(from_logits=True)\n",
        "optimizer = keras.optimizers.Adam(learning_rate=0.001)\n",
        "\n",
        "# model 5\n",
        "# create model\n",
        "model5 = KerasClassifier(model=create_model, epochs=150, batch_size=200, verbose=0)\n",
        "\n",
        "grid_result5 = GridSearchCV(estimator=model5, param_grid=param_grid, n_jobs=-1, cv=5)\n",
        "\n",
        "grid_result5.fit(xs_train, ys_train)\n"
      ]
    },
    {
      "cell_type": "code",
      "execution_count": 54,
      "metadata": {
        "id": "zURRpodLLcrO",
        "colab": {
          "base_uri": "https://localhost:8080/"
        },
        "outputId": "439df215-85d7-48aa-e9f0-cf189229952d"
      },
      "outputs": [
        {
          "output_type": "stream",
          "name": "stdout",
          "text": [
            "{'model__activation': 'relu', 'optimizer__learning_rate': 0.01, 'optimizer__momentum': 0.2}\n",
            "KerasClassifier(\n",
            "\tmodel=<function create_model at 0x7fa8c18353a0>\n",
            "\tbuild_fn=None\n",
            "\twarm_start=False\n",
            "\trandom_state=None\n",
            "\toptimizer=rmsprop\n",
            "\tloss=None\n",
            "\tmetrics=None\n",
            "\tbatch_size=200\n",
            "\tvalidation_batch_size=None\n",
            "\tverbose=0\n",
            "\tcallbacks=None\n",
            "\tvalidation_split=0.0\n",
            "\tshuffle=True\n",
            "\trun_eagerly=False\n",
            "\tepochs=150\n",
            "\tmodel__activation=relu\n",
            "\toptimizer__learning_rate=0.01\n",
            "\toptimizer__momentum=0.2\n",
            "\tclass_weight=None\n",
            ")\n"
          ]
        }
      ],
      "source": [
        "# print best parameter after tuning\n",
        "print(grid_result5.best_params_)\n",
        "best_param5 = grid_result5.best_params_\n",
        "  \n",
        "# print how our model looks after hyper-parameter tuning\n",
        "print(grid_result5.best_estimator_)"
      ]
    },
    {
      "cell_type": "code",
      "execution_count": 55,
      "metadata": {
        "id": "_vJD8c35Lcmh",
        "colab": {
          "base_uri": "https://localhost:8080/"
        },
        "outputId": "adebbb07-3473-4923-8910-708c8ea403d5"
      },
      "outputs": [
        {
          "output_type": "stream",
          "name": "stdout",
          "text": [
            "Accuracy of model (train) 0.48651323929720364\n",
            "Accuracy of model (test) 0.4609297725024728\n"
          ]
        }
      ],
      "source": [
        "# Accuracy\n",
        "accuracy_model5_train = grid_result5.score(xs_train, ys_train)\n",
        "model5_test_predict = grid_result5.score(xs_test, ys_test)\n",
        "\n",
        "print('Accuracy of model (train)', accuracy_model5_train)\n",
        "print('Accuracy of model (test)', model5_test_predict) "
      ]
    },
    {
      "cell_type": "markdown",
      "metadata": {
        "id": "VtOxFMgsHp5a"
      },
      "source": [
        "#### Model 6"
      ]
    },
    {
      "cell_type": "markdown",
      "metadata": {
        "id": "x3iZxoWBHpGm"
      },
      "source": [
        "Based on the model 3 parameters, this section will be used to adjust the learning rate"
      ]
    },
    {
      "cell_type": "code",
      "execution_count": 67,
      "metadata": {
        "id": "IxX6f9DDHoup",
        "colab": {
          "base_uri": "https://localhost:8080/"
        },
        "outputId": "2b244dc4-ee7a-499a-9393-360252de4e6f"
      },
      "outputs": [
        {
          "output_type": "stream",
          "name": "stdout",
          "text": [
            "Model: \"sequential_7\"\n",
            "_________________________________________________________________\n",
            " Layer (type)                Output Shape              Param #   \n",
            "=================================================================\n",
            " dense_32 (Dense)            (None, 3)                 12        \n",
            "                                                                 \n",
            " dense_33 (Dense)            (None, 24)                96        \n",
            "                                                                 \n",
            " dense_34 (Dense)            (None, 24)                600       \n",
            "                                                                 \n",
            " dense_35 (Dense)            (None, 16)                400       \n",
            "                                                                 \n",
            " dense_36 (Dense)            (None, 11)                187       \n",
            "                                                                 \n",
            "=================================================================\n",
            "Total params: 1,295\n",
            "Trainable params: 1,295\n",
            "Non-trainable params: 0\n",
            "_________________________________________________________________\n"
          ]
        }
      ],
      "source": [
        "# Parameters model 6\n",
        "activation_fct = 'relu'\n",
        "loss_function = tf.keras.losses.CategoricalCrossentropy(from_logits=True)\n",
        "optimizer = keras.optimizers.Adam(learning_rate=0.0005)\n",
        "\n",
        "# model 6\n",
        "model6 = keras.Sequential([\n",
        "    layers.Dense(3, kernel_regularizer=regularizers.l2(0.001), activation=activation_fct, input_shape=(3,)),\n",
        "    layers.Dense(24, kernel_regularizer=regularizers.l2(0.001), activation=activation_fct),\n",
        "    layers.Dense(24, kernel_regularizer=regularizers.l2(0.001), activation=activation_fct),\n",
        "    layers.Dense(16, kernel_regularizer=regularizers.l2(0.001), activation=activation_fct),\n",
        "    layers.Dense(11)\n",
        "  ])\n",
        "model6.summary()\n",
        "\n",
        "# compile the model 6\n",
        "model6.compile(optimizer=optimizer, loss=loss_function, metrics=['accuracy'])\n",
        "\n"
      ]
    },
    {
      "cell_type": "code",
      "execution_count": 68,
      "metadata": {
        "id": "N4L8V53nSVUA"
      },
      "outputs": [],
      "source": [
        "# Fit on training set\n",
        "training_history6 = model6.fit(x=xs_train, y=ys_train, \n",
        "                               validation_split=0.15, epochs=275, \n",
        "                               batch_size=300, verbose=0,\n",
        "                               shuffle=True)\n"
      ]
    },
    {
      "cell_type": "code",
      "execution_count": 69,
      "metadata": {
        "id": "RjC5RbT49aQP",
        "colab": {
          "base_uri": "https://localhost:8080/"
        },
        "outputId": "1624abe3-c146-4f5d-f998-bb057ab6d1f3"
      },
      "outputs": [
        {
          "output_type": "stream",
          "name": "stdout",
          "text": [
            "127/127 [==============================] - 0s 2ms/step - loss: 0.4236 - accuracy: 0.8726\n",
            "Accuracy on train set [0.4236404299736023, 0.8725562691688538]\n"
          ]
        }
      ],
      "source": [
        "# Accuracy on training sets\n",
        "accuracy_m6_train = model6.evaluate(xs_train, ys_train) # loss: 0.5171 - accuracy: 0.8288\n",
        "\n",
        "print('Accuracy on train set', accuracy_m6_train)"
      ]
    },
    {
      "cell_type": "code",
      "execution_count": 70,
      "metadata": {
        "id": "8s_dWFDrMz7K",
        "colab": {
          "base_uri": "https://localhost:8080/",
          "height": 0
        },
        "outputId": "b7aac2ac-caf4-4059-8f93-86771f0471f2"
      },
      "outputs": [
        {
          "output_type": "execute_result",
          "data": {
            "text/plain": [
              "<matplotlib.legend.Legend at 0x7fa8c13b6250>"
            ]
          },
          "metadata": {},
          "execution_count": 70
        },
        {
          "output_type": "display_data",
          "data": {
            "text/plain": [
              "<Figure size 640x480 with 1 Axes>"
            ],
            "image/png": "[encoded data removed]"
          },
          "metadata": {}
        }
      ],
      "source": [
        "# Accuracy\n",
        "plt.plot(training_history6.history['accuracy'], label='Train')\n",
        "plt.plot(training_history6.history['val_accuracy'], label='Validation')\n",
        "plt.ylabel('Accuracy')\n",
        "plt.xlabel('Epoch')\n",
        "plt.title('Accuracy', pad=13)\n",
        "plt.legend(loc='upper right')"
      ]
    },
    {
      "cell_type": "code",
      "execution_count": 71,
      "metadata": {
        "id": "q0v-ashEINwd",
        "colab": {
          "base_uri": "https://localhost:8080/",
          "height": 0
        },
        "outputId": "a62bb63a-e5ba-4cb0-f2de-6d43b3e97f1a"
      },
      "outputs": [
        {
          "output_type": "execute_result",
          "data": {
            "text/plain": [
              "<matplotlib.legend.Legend at 0x7fa8c141c7f0>"
            ]
          },
          "metadata": {},
          "execution_count": 71
        },
        {
          "output_type": "display_data",
          "data": {
            "text/plain": [
              "<Figure size 640x480 with 1 Axes>"
            ],
            "image/png": "[encoded data removed]"
          },
          "metadata": {}
        }
      ],
      "source": [
        "plt.plot(training_history6.history['loss'], label='Train')\n",
        "plt.plot(training_history6.history['val_loss'], label='Validation')\n",
        "plt.ylabel('Binary Cross Entropy Loss')\n",
        "plt.xlabel('Epoch')\n",
        "plt.title('Autoencoder Reconstruction Loss', pad=13)\n",
        "plt.legend(loc='upper right')"
      ]
    },
    {
      "cell_type": "code",
      "execution_count": 72,
      "metadata": {
        "id": "fm6-sMYiIfWx",
        "colab": {
          "base_uri": "https://localhost:8080/"
        },
        "outputId": "704b22ea-a8f1-4d75-8f47-f6abeb418a08"
      },
      "outputs": [
        {
          "output_type": "stream",
          "name": "stdout",
          "text": [
            "32/32 [==============================] - 0s 4ms/step - loss: 0.4716 - accuracy: 0.8536\n"
          ]
        }
      ],
      "source": [
        "model6_test_predict = model6.evaluate(xs_test, ys_test) # loss: 0.5570 - accuracy: 0.8121"
      ]
    },
    {
      "cell_type": "markdown",
      "metadata": {
        "id": "6TnTxmUCWEyp"
      },
      "source": [
        "#### Model 7"
      ]
    },
    {
      "cell_type": "code",
      "execution_count": 73,
      "metadata": {
        "id": "UNC9OJs1Ws7q",
        "colab": {
          "base_uri": "https://localhost:8080/"
        },
        "outputId": "1e872101-d70d-424e-eae6-96f01ec497a1"
      },
      "outputs": [
        {
          "output_type": "stream",
          "name": "stdout",
          "text": [
            "Model: \"sequential_8\"\n",
            "_________________________________________________________________\n",
            " Layer (type)                Output Shape              Param #   \n",
            "=================================================================\n",
            " dense_37 (Dense)            (None, 3)                 12        \n",
            "                                                                 \n",
            " dense_38 (Dense)            (None, 24)                96        \n",
            "                                                                 \n",
            " dense_39 (Dense)            (None, 24)                600       \n",
            "                                                                 \n",
            " dense_40 (Dense)            (None, 16)                400       \n",
            "                                                                 \n",
            " dense_41 (Dense)            (None, 11)                187       \n",
            "                                                                 \n",
            "=================================================================\n",
            "Total params: 1,295\n",
            "Trainable params: 1,295\n",
            "Non-trainable params: 0\n",
            "_________________________________________________________________\n"
          ]
        }
      ],
      "source": [
        "# Parameters model 7\n",
        "activation_fct = 'relu'\n",
        "loss_function = tf.keras.losses.CategoricalCrossentropy(from_logits=True)\n",
        "optimizer = keras.optimizers.Adam(learning_rate=0.0005)\n",
        "\n",
        "# model 7\n",
        "model7 = keras.Sequential([\n",
        "    layers.Dense(3, kernel_regularizer=regularizers.l2(0.001), activation=activation_fct, input_shape=(3,)),\n",
        "    layers.Dense(24, kernel_regularizer=regularizers.l2(0.001), activation=activation_fct),\n",
        "    layers.Dense(24, kernel_regularizer=regularizers.l2(0.001), activation=activation_fct),\n",
        "    layers.Dense(16, kernel_regularizer=regularizers.l2(0.001), activation=activation_fct),\n",
        "    layers.Dense(11)\n",
        "  ])\n",
        "model7.summary()\n",
        "\n",
        "# compile the model 6\n",
        "model7.compile(optimizer=optimizer, loss=loss_function, metrics=['accuracy'])\n"
      ]
    },
    {
      "cell_type": "code",
      "execution_count": 74,
      "metadata": {
        "id": "XwTaxHmpXkTI"
      },
      "outputs": [],
      "source": [
        "# Fit on training set\n",
        "training_history7 = model7.fit(x=xs_train, y=ys_train, \n",
        "                               validation_split=0.15, epochs=300, \n",
        "                               batch_size=315, verbose=0,\n",
        "                               shuffle=True)\n"
      ]
    },
    {
      "cell_type": "code",
      "execution_count": 75,
      "metadata": {
        "id": "SJrYOrUT9lai",
        "colab": {
          "base_uri": "https://localhost:8080/"
        },
        "outputId": "394e662b-189c-4067-9439-e99f6511d1e5"
      },
      "outputs": [
        {
          "output_type": "stream",
          "name": "stdout",
          "text": [
            "127/127 [==============================] - 0s 2ms/step - loss: 0.5416 - accuracy: 0.8142\n",
            "Accuracy on train set [0.541581928730011, 0.8141549229621887]\n"
          ]
        }
      ],
      "source": [
        "# Accuracy on training sets\n",
        "accuracy_m7_train = model7.evaluate(xs_train, ys_train) # loss: loss: 0.5633 - accuracy: 0.8052\n",
        "print('Accuracy on train set', accuracy_m7_train)"
      ]
    },
    {
      "cell_type": "code",
      "execution_count": 76,
      "metadata": {
        "id": "0DSl8PgJXtdS",
        "colab": {
          "base_uri": "https://localhost:8080/",
          "height": 0
        },
        "outputId": "07af42d0-d411-47cb-b1a3-18523bc6a0f9"
      },
      "outputs": [
        {
          "output_type": "execute_result",
          "data": {
            "text/plain": [
              "<matplotlib.legend.Legend at 0x7fa92e7884f0>"
            ]
          },
          "metadata": {},
          "execution_count": 76
        },
        {
          "output_type": "display_data",
          "data": {
            "text/plain": [
              "<Figure size 640x480 with 1 Axes>"
            ],
            "image/png": "[encoded data removed]"
          },
          "metadata": {}
        }
      ],
      "source": [
        "plt.plot(training_history7.history['loss'], label='Train')\n",
        "plt.plot(training_history7.history['val_loss'], label='Validation')\n",
        "plt.ylabel('Binary Cross Entropy Loss')\n",
        "plt.xlabel('Epoch')\n",
        "plt.title('Autoencoder Reconstruction Loss', pad=13)\n",
        "plt.legend(loc='upper right')"
      ]
    },
    {
      "cell_type": "code",
      "execution_count": 77,
      "metadata": {
        "id": "7nVtTPymXwjM",
        "colab": {
          "base_uri": "https://localhost:8080/"
        },
        "outputId": "e672f50f-0904-4609-e6db-255fbc6aa8f8"
      },
      "outputs": [
        {
          "output_type": "stream",
          "name": "stdout",
          "text": [
            "32/32 [==============================] - 0s 3ms/step - loss: 0.5727 - accuracy: 0.7923\n"
          ]
        }
      ],
      "source": [
        "model7_test_predict = model7.evaluate(xs_test, ys_test) # loss: 0.5914 - accuracy: 0.7943"
      ]
    },
    {
      "cell_type": "markdown",
      "metadata": {
        "id": "xp-Zyh4hPHF6"
      },
      "source": [
        "## Compare Accuray of all the models"
      ]
    },
    {
      "cell_type": "code",
      "execution_count": 78,
      "metadata": {
        "id": "Nbix_R3vPGiM"
      },
      "outputs": [],
      "source": [
        "df_accuracy = pd.DataFrame([model1_test_predict, model2_test_predict, model3_test_predict, model4_test_predict, [0, model5_test_predict], model6_test_predict, model7_test_predict])"
      ]
    },
    {
      "cell_type": "code",
      "execution_count": 79,
      "metadata": {
        "id": "7z_7D_Y6PGfW"
      },
      "outputs": [],
      "source": [
        "df_accuracy = df_accuracy.rename({0: 'loss', 1: 'accuracy'}, axis=1)\n",
        "df_accuracy[\"model\"] = [\"model1\", \"model2\", \"model3\", \"model4\", \"model5\", \"model6\", \"model7\"]"
      ]
    },
    {
      "cell_type": "code",
      "execution_count": 80,
      "metadata": {
        "id": "YcGDHGo_QGfO",
        "colab": {
          "base_uri": "https://localhost:8080/",
          "height": 258
        },
        "outputId": "f212c502-fe5d-4bb0-8124-159b2652f66c"
      },
      "outputs": [
        {
          "output_type": "execute_result",
          "data": {
            "text/plain": [
              "       loss  accuracy   model\n",
              "4  0.000000  0.460930  model5\n",
              "2  1.278066  0.506429  model3\n",
              "1  0.059013  0.517310  model2\n",
              "6  0.572663  0.792285  model7\n",
              "0  0.025057  0.821958  model1\n",
              "3  0.468993  0.845697  model4\n",
              "5  0.471632  0.853610  model6"
            ],
            "text/html": [
              "\n",
              "  <div id=\"df-e9f3438d-754c-4f4a-a8d1-742117530368\">\n",
              "    <div class=\"colab-df-container\">\n",
              "      <div>\n",
              "<style scoped>\n",
              "    .dataframe tbody tr th:only-of-type {\n",
              "        vertical-align: middle;\n",
              "    }\n",
              "\n",
              "    .dataframe tbody tr th {\n",
              "        vertical-align: top;\n",
              "    }\n",
              "\n",
              "    .dataframe thead th {\n",
              "        text-align: right;\n",
              "    }\n",
              "</style>\n",
              "<table border=\"1\" class=\"dataframe\">\n",
              "  <thead>\n",
              "    <tr style=\"text-align: right;\">\n",
              "      <th></th>\n",
              "      <th>loss</th>\n",
              "      <th>accuracy</th>\n",
              "      <th>model</th>\n",
              "    </tr>\n",
              "  </thead>\n",
              "  <tbody>\n",
              "    <tr>\n",
              "      <th>4</th>\n",
              "      <td>0.000000</td>\n",
              "      <td>0.460930</td>\n",
              "      <td>model5</td>\n",
              "    </tr>\n",
              "    <tr>\n",
              "      <th>2</th>\n",
              "      <td>1.278066</td>\n",
              "      <td>0.506429</td>\n",
              "      <td>model3</td>\n",
              "    </tr>\n",
              "    <tr>\n",
              "      <th>1</th>\n",
              "      <td>0.059013</td>\n",
              "      <td>0.517310</td>\n",
              "      <td>model2</td>\n",
              "    </tr>\n",
              "    <tr>\n",
              "      <th>6</th>\n",
              "      <td>0.572663</td>\n",
              "      <td>0.792285</td>\n",
              "      <td>model7</td>\n",
              "    </tr>\n",
              "    <tr>\n",
              "      <th>0</th>\n",
              "      <td>0.025057</td>\n",
              "      <td>0.821958</td>\n",
              "      <td>model1</td>\n",
              "    </tr>\n",
              "    <tr>\n",
              "      <th>3</th>\n",
              "      <td>0.468993</td>\n",
              "      <td>0.845697</td>\n",
              "      <td>model4</td>\n",
              "    </tr>\n",
              "    <tr>\n",
              "      <th>5</th>\n",
              "      <td>0.471632</td>\n",
              "      <td>0.853610</td>\n",
              "      <td>model6</td>\n",
              "    </tr>\n",
              "  </tbody>\n",
              "</table>\n",
              "</div>\n",
              "      <button class=\"colab-df-convert\" onclick=\"convertToInteractive('df-e9f3438d-754c-4f4a-a8d1-742117530368')\"\n",
              "              title=\"Convert this dataframe to an interactive table.\"\n",
              "              style=\"display:none;\">\n",
              "        \n",
              "  <svg xmlns=\"http://www.w3.org/2000/svg\" height=\"24px\"viewBox=\"0 0 24 24\"\n",
              "       width=\"24px\">\n",
              "    <path d=\"M0 0h24v24H0V0z\" fill=\"none\"/>\n",
              "    <path d=\"M18.56 5.44l.94 2.06.94-2.06 2.06-.94-2.06-.94-.94-2.06-.94 2.06-2.06.94zm-11 1L8.5 8.5l.94-2.06 2.06-.94-2.06-.94L8.5 2.5l-.94 2.06-2.06.94zm10 10l.94 2.06.94-2.06 2.06-.94-2.06-.94-.94-2.06-.94 2.06-2.06.94z\"/><path d=\"M17.41 7.96l-1.37-1.37c-.4-.4-.92-.59-1.43-.59-.52 0-1.04.2-1.43.59L10.3 9.45l-7.72 7.72c-.78.78-.78 2.05 0 2.83L4 21.41c.39.39.9.59 1.41.59.51 0 1.02-.2 1.41-.59l7.78-7.78 2.81-2.81c.8-.78.8-2.07 0-2.86zM5.41 20L4 18.59l7.72-7.72 1.47 1.35L5.41 20z\"/>\n",
              "  </svg>\n",
              "      </button>\n",
              "      \n",
              "  <style>\n",
              "    .colab-df-container {\n",
              "      display:flex;\n",
              "      flex-wrap:wrap;\n",
              "      gap: 12px;\n",
              "    }\n",
              "\n",
              "    .colab-df-convert {\n",
              "      background-color: #E8F0FE;\n",
              "      border: none;\n",
              "      border-radius: 50%;\n",
              "      cursor: pointer;\n",
              "      display: none;\n",
              "      fill: #1967D2;\n",
              "      height: 32px;\n",
              "      padding: 0 0 0 0;\n",
              "      width: 32px;\n",
              "    }\n",
              "\n",
              "    .colab-df-convert:hover {\n",
              "      background-color: #E2EBFA;\n",
              "      box-shadow: 0px 1px 2px rgba(60, 64, 67, 0.3), 0px 1px 3px 1px rgba(60, 64, 67, 0.15);\n",
              "      fill: #174EA6;\n",
              "    }\n",
              "\n",
              "    [theme=dark] .colab-df-convert {\n",
              "      background-color: #3B4455;\n",
              "      fill: #D2E3FC;\n",
              "    }\n",
              "\n",
              "    [theme=dark] .colab-df-convert:hover {\n",
              "      background-color: #434B5C;\n",
              "      box-shadow: 0px 1px 3px 1px rgba(0, 0, 0, 0.15);\n",
              "      filter: drop-shadow(0px 1px 2px rgba(0, 0, 0, 0.3));\n",
              "      fill: #FFFFFF;\n",
              "    }\n",
              "  </style>\n",
              "\n",
              "      <script>\n",
              "        const buttonEl =\n",
              "          document.querySelector('#df-e9f3438d-754c-4f4a-a8d1-742117530368 button.colab-df-convert');\n",
              "        buttonEl.style.display =\n",
              "          google.colab.kernel.accessAllowed ? 'block' : 'none';\n",
              "\n",
              "        async function convertToInteractive(key) {\n",
              "          const element = document.querySelector('#df-e9f3438d-754c-4f4a-a8d1-742117530368');\n",
              "          const dataTable =\n",
              "            await google.colab.kernel.invokeFunction('convertToInteractive',\n",
              "                                                     [key], {});\n",
              "          if (!dataTable) return;\n",
              "\n",
              "          const docLinkHtml = 'Like what you see? Visit the ' +\n",
              "            '<a target=\"_blank\" href=https://colab.research.google.com/notebooks/data_table.ipynb>data table notebook</a>'\n",
              "            + ' to learn more about interactive tables.';\n",
              "          element.innerHTML = '';\n",
              "          dataTable['output_type'] = 'display_data';\n",
              "          await google.colab.output.renderOutput(dataTable, element);\n",
              "          const docLink = document.createElement('div');\n",
              "          docLink.innerHTML = docLinkHtml;\n",
              "          element.appendChild(docLink);\n",
              "        }\n",
              "      </script>\n",
              "    </div>\n",
              "  </div>\n",
              "  "
            ]
          },
          "metadata": {},
          "execution_count": 80
        }
      ],
      "source": [
        "df_accuracy.sort_values('accuracy') #  => best model is model 4"
      ]
    },
    {
      "cell_type": "markdown",
      "metadata": {
        "id": "l_EhMn60A4HP"
      },
      "source": [
        "#### Evaluate performances"
      ]
    },
    {
      "cell_type": "code",
      "execution_count": 81,
      "metadata": {
        "id": "PAkTLQnzDuSK",
        "colab": {
          "base_uri": "https://localhost:8080/"
        },
        "outputId": "b50bfbf1-03e8-4d0c-c826-1add883bf7a0"
      },
      "outputs": [
        {
          "output_type": "stream",
          "name": "stdout",
          "text": [
            "32/32 [==============================] - 0s 1ms/step\n"
          ]
        },
        {
          "output_type": "execute_result",
          "data": {
            "text/plain": [
              "array([[3.8277685e-07, 3.2533288e-05, 4.3503351e-05, ..., 5.7033822e-10,\n",
              "        1.4727033e-04, 1.1672601e-02],\n",
              "       [1.4368892e-06, 7.7241577e-02, 8.8986326e-07, ..., 3.0093670e-08,\n",
              "        2.3693733e-06, 2.6485782e-12],\n",
              "       [5.4317693e-06, 9.9953914e-01, 1.8456771e-09, ..., 4.3472695e-15,\n",
              "        5.5441300e-09, 1.0052112e-12],\n",
              "       ...,\n",
              "       [3.1727621e-13, 1.1148712e-12, 2.4454875e-04, ..., 8.8946205e-01,\n",
              "        4.2925863e-06, 1.9628530e-09],\n",
              "       [1.3865206e-04, 9.9793184e-01, 4.0323698e-07, ..., 1.4165298e-12,\n",
              "        2.5340482e-06, 3.4962075e-09],\n",
              "       [5.3690222e-08, 9.6069056e-01, 1.6309928e-10, ..., 1.8821774e-13,\n",
              "        9.6753794e-10, 3.5749838e-16]], dtype=float32)"
            ]
          },
          "metadata": {},
          "execution_count": 81
        }
      ],
      "source": [
        "model4_predictions = model4.predict(xs_test)\n",
        "model4_predictions"
      ]
    },
    {
      "cell_type": "code",
      "execution_count": 82,
      "metadata": {
        "colab": {
          "base_uri": "https://localhost:8080/"
        },
        "id": "iGnx8_6yWL3Y",
        "outputId": "aef630c8-325b-4766-a403-d1b1d6dcf723"
      },
      "outputs": [
        {
          "output_type": "stream",
          "name": "stdout",
          "text": [
            "{0: 'label_Black', 1: 'label_Blue', 2: 'label_Brown', 3: 'label_Green', 4: 'label_Grey', 5: 'label_Orange', 6: 'label_Pink', 7: 'label_Purple', 8: 'label_Red', 9: 'label_White', 10: 'label_Yellow'}\n"
          ]
        }
      ],
      "source": [
        "# convert results into labelled colors\n",
        "dict_colors = {}\n",
        "\n",
        "for ind, val in enumerate(list(df_colors.columns.values)[3:]):\n",
        "    dict_colors[ind] = val\n",
        "\n",
        "print(dict_colors)"
      ]
    },
    {
      "cell_type": "code",
      "execution_count": 83,
      "metadata": {
        "id": "EgsohgLLWL3Y"
      },
      "outputs": [],
      "source": [
        "def convert_tocolor(predictions):\n",
        "    pred_max = np.argmax(predictions, axis=1)\n",
        "    labelled_colors_pred = []\n",
        "    for i in list(pred_max):\n",
        "        labelled_colors_pred.append(dict_colors[i])\n",
        "    return labelled_colors_pred"
      ]
    },
    {
      "cell_type": "code",
      "execution_count": 84,
      "metadata": {
        "colab": {
          "base_uri": "https://localhost:8080/"
        },
        "id": "DrX5pQ88WL3Y",
        "outputId": "6c64af3d-2478-4288-dfc5-def334c8cde7"
      },
      "outputs": [
        {
          "output_type": "execute_result",
          "data": {
            "text/plain": [
              "['label_Green',\n",
              " 'label_Purple',\n",
              " 'label_Blue',\n",
              " 'label_Pink',\n",
              " 'label_Yellow',\n",
              " 'label_Grey',\n",
              " 'label_Pink',\n",
              " 'label_Pink',\n",
              " 'label_Blue',\n",
              " 'label_Green']"
            ]
          },
          "metadata": {},
          "execution_count": 84
        }
      ],
      "source": [
        "colors_pred = convert_tocolor(model4_predictions)\n",
        "colors_pred[0:10]"
      ]
    },
    {
      "cell_type": "code",
      "execution_count": 85,
      "metadata": {
        "id": "2kYbAveDA2dF",
        "colab": {
          "base_uri": "https://localhost:8080/",
          "height": 761
        },
        "outputId": "cd331512-f3c4-40b6-e287-ea5ec1c5efce"
      },
      "outputs": [
        {
          "output_type": "display_data",
          "data": {
            "text/plain": [
              "<Figure size 640x480 with 2 Axes>"
            ],
            "image/png": "[encoded data removed]"
          },
          "metadata": {}
        },
        {
          "output_type": "stream",
          "name": "stdout",
          "text": [
            "              precision    recall  f1-score   support\n",
            "\n",
            "       Black       0.50      1.00      0.67         3\n",
            "        Blue       0.91      0.90      0.91       221\n",
            "       Brown       0.79      0.90      0.84        69\n",
            "       Green       0.88      0.93      0.90       281\n",
            "        Grey       0.71      0.45      0.55        38\n",
            "      Orange       0.88      0.72      0.79        39\n",
            "        Pink       0.83      0.80      0.82       121\n",
            "      Purple       0.84      0.78      0.81       128\n",
            "         Red       0.75      0.81      0.78        47\n",
            "       White       1.00      0.50      0.67         4\n",
            "      Yellow       0.71      0.78      0.75        60\n",
            "\n",
            "    accuracy                           0.85      1011\n",
            "   macro avg       0.80      0.78      0.77      1011\n",
            "weighted avg       0.85      0.85      0.84      1011\n",
            "\n"
          ]
        }
      ],
      "source": [
        "target_names = ['Black', 'Blue', 'Brown', 'Green', 'Grey', 'Orange', 'Pink', 'Purple', 'Red', 'White', 'Yellow']\n",
        "model4_predictions_max = np.argmax(model4_predictions, axis=1)\n",
        "ys_test_max = np.argmax(ys_test, axis=1)\n",
        "\n",
        "# Confusion matrix\n",
        "confusion_mat = confusion_matrix(ys_test_max, model4_predictions_max)\n",
        "cm_display = ConfusionMatrixDisplay(confusion_matrix = confusion_mat, display_labels = target_names)\n",
        "cm_display.plot()\n",
        "plt.show()\n",
        "\n",
        "# model performance report\n",
        "print(classification_report(ys_test_max, model4_predictions_max, target_names=target_names))"
      ]
    },
    {
      "cell_type": "markdown",
      "metadata": {
        "id": "NW_ICqnimajY"
      },
      "source": [
        "Test with other data"
      ]
    },
    {
      "cell_type": "code",
      "execution_count": 86,
      "metadata": {
        "id": "-qwdNh9MSMKX",
        "colab": {
          "base_uri": "https://localhost:8080/"
        },
        "outputId": "89a93210-ee1f-4dc1-dae9-55de2dc241cd"
      },
      "outputs": [
        {
          "output_type": "stream",
          "name": "stdout",
          "text": [
            "1/1 [==============================] - 0s 22ms/step\n"
          ]
        },
        {
          "output_type": "execute_result",
          "data": {
            "text/plain": [
              "['label_Orange', 'label_Purple']"
            ]
          },
          "metadata": {},
          "execution_count": 86
        }
      ],
      "source": [
        "xs_test_other = np.array([[250/255, 104/255, 0], [170/255, 0, 255/255]])\n",
        "\n",
        "convert_tocolor(model4.predict(xs_test_other))"
      ]
    },
    {
      "cell_type": "markdown",
      "metadata": {
        "id": "Io2z3PMhwdJd"
      },
      "source": [
        "## Towards Arduino\n",
        "\n",
        "ref: https://colab.research.google.com/github/arduino/ArduinoTensorFlowLiteTutorials/blob/master/GestureToEmoji/arduino_tinyml_workshop.ipynb#scrollTo=0Xn1-Rn9Cp_8\n",
        "\n",
        "https://colab.research.google.com/github/ucl-casa-ce/casa0018/blob/main/Week4/CASA0018_4_1_train_hello_world_model.ipynb#scrollTo=1muAoUm8lSXL"
      ]
    },
    {
      "cell_type": "markdown",
      "metadata": {
        "id": "2JAEfLx9QT5i"
      },
      "source": [
        "### Convert the Trained Model n° 4 to Tensor Flow Lite\n",
        "In the below cell, we convert the model *4* format into TFlite format"
      ]
    },
    {
      "cell_type": "code",
      "execution_count": 88,
      "metadata": {
        "id": "z0a-YGgTwD-Q"
      },
      "outputs": [],
      "source": [
        "import os\n",
        "\n",
        "MODELS_DIR = 'models/'\n",
        "if not os.path.exists(MODELS_DIR):\n",
        "    os.mkdir(MODELS_DIR)\n",
        "MODEL_TF = MODELS_DIR + 'model'\n",
        "MODEL_NO_QUANT_TFLITE = MODELS_DIR + 'model_no_quant.tflite'\n",
        "MODEL_TFLITE = MODELS_DIR + 'model.tflite'\n",
        "MODEL_TFLITE_MICRO = MODELS_DIR + 'model.cc'"
      ]
    },
    {
      "cell_type": "code",
      "execution_count": 89,
      "metadata": {
        "id": "CENRlGhkhSBF"
      },
      "outputs": [],
      "source": [
        "# Save the model to disk\n",
        "model4.save(MODEL_TF)"
      ]
    },
    {
      "cell_type": "code",
      "source": [
        "# Convert the model to the TensorFlow Lite format without quantization\n",
        "converter = tf.lite.TFLiteConverter.from_saved_model(MODEL_TF)\n",
        "tflite_model = converter.convert()\n",
        "\n",
        "# Save the model to disk\n",
        "open(MODEL_NO_QUANT_TFLITE, \"wb\").write(tflite_model)"
      ],
      "metadata": {
        "colab": {
          "base_uri": "https://localhost:8080/"
        },
        "id": "DrhdiCRYQTKd",
        "outputId": "21aebda2-55a7-4d8c-830f-19c425795258"
      },
      "execution_count": 90,
      "outputs": [
        {
          "output_type": "execute_result",
          "data": {
            "text/plain": [
              "5844"
            ]
          },
          "metadata": {},
          "execution_count": 90
        }
      ]
    },
    {
      "cell_type": "code",
      "execution_count": null,
      "metadata": {
        "colab": {
          "base_uri": "https://localhost:8080/"
        },
        "id": "lxvytx8dV4lk",
        "outputId": "f154ffc2-2f59-475e-c085-28d30c517082"
      },
      "outputs": [
        {
          "output_type": "execute_result",
          "data": {
            "text/plain": [
              "4424"
            ]
          },
          "metadata": {},
          "execution_count": 70
        }
      ],
      "source": [
        "# Convert the model to the TensorFlow Lite format without quantization\n",
        "converter = tf.lite.TFLiteConverter.from_saved_model(MODEL_TF)\n",
        "tflite_model = converter.convert()\n",
        "\n",
        "# Save the model to disk\n",
        "open(MODEL_NO_QUANT_TFLITE, \"wb\").write(tflite_model)\n",
        "\n",
        "# Define a generator function that provides our test data's x values as a representative dataset, and tell the converter to use it\n",
        "def representative_dataset_generator():\n",
        "  for value in xs_test:\n",
        "    # Each scalar value must be inside of a 2D array that is wrapped in a list\n",
        "    yield [np.array(value/255, dtype=np.float32, ndmin=3)]\n",
        "\n",
        "# Indicate that we want to perform the default optimizations, which include quantization\n",
        "converter.optimizations = [tf.lite.Optimize.DEFAULT]\n",
        "\n",
        "converter.representative_dataset = representative_dataset_generator\n",
        "\n",
        "# Convert the model\n",
        "tflite_model = converter.convert()\n",
        "\n",
        "# Save the model to disk\n",
        "open(MODEL_TFLITE, \"wb\").write(tflite_model)"
      ]
    },
    {
      "cell_type": "markdown",
      "metadata": {
        "id": "Hrpt8qWdGiPT"
      },
      "source": [
        "### Generate a TensorFlow Lite for Microcontrollers Model"
      ]
    },
    {
      "cell_type": "code",
      "source": [
        "# Install xxd if it is not available\n",
        "!apt-get update && apt-get -qq install xxd\n",
        "# Convert to a C source file, i.e, a TensorFlow Lite for Microcontrollers model\n",
        "!xxd -i {MODEL_NO_QUANT_TFLITE} > {MODEL_TFLITE_MICRO}"
      ],
      "metadata": {
        "colab": {
          "base_uri": "https://localhost:8080/"
        },
        "id": "qSsUtAgHdG5x",
        "outputId": "aa38d965-a59b-4d36-fb0f-2ead0c4119d2"
      },
      "execution_count": 91,
      "outputs": [
        {
          "output_type": "stream",
          "name": "stdout",
          "text": [
            "\r0% [Working]\r            \rHit:1 http://archive.ubuntu.com/ubuntu focal InRelease\n",
            "\r0% [Waiting for headers] [Connecting to security.ubuntu.com (185.125.190.36)] [\r                                                                               \rGet:2 http://archive.ubuntu.com/ubuntu focal-updates InRelease [114 kB]\n",
            "\r                                                                               \rGet:3 https://cloud.r-project.org/bin/linux/ubuntu focal-cran40/ InRelease [3,622 B]\n",
            "\r0% [2 InRelease 27.2 kB/114 kB 24%] [Connecting to security.ubuntu.com (185.125\r0% [Waiting for headers] [Waiting for headers] [Waiting for headers] [Waiting f\r                                                                               \rGet:4 http://archive.ubuntu.com/ubuntu focal-backports InRelease [108 kB]\n",
            "\r0% [4 InRelease 11.3 kB/108 kB 10%] [Waiting for headers] [Waiting for headers]\r                                                                               \rGet:5 https://developer.download.nvidia.com/compute/cuda/repos/ubuntu2004/x86_64  InRelease [1,581 B]\n",
            "\r0% [4 InRelease 92.4 kB/108 kB 85%] [Waiting for headers] [Waiting for headers]\r                                                                               \r0% [Waiting for headers] [Waiting for headers]\r                                              \rGet:6 http://security.ubuntu.com/ubuntu focal-security InRelease [114 kB]\n",
            "Get:7 http://ppa.launchpad.net/c2d4u.team/c2d4u4.0+/ubuntu focal InRelease [18.1 kB]\n",
            "Hit:8 http://ppa.launchpad.net/cran/libgit2/ubuntu focal InRelease\n",
            "Get:9 http://archive.ubuntu.com/ubuntu focal-updates/main amd64 Packages [3,125 kB]\n",
            "Get:10 http://archive.ubuntu.com/ubuntu focal-updates/restricted amd64 Packages [2,308 kB]\n",
            "Get:11 https://developer.download.nvidia.com/compute/cuda/repos/ubuntu2004/x86_64  Packages [995 kB]\n",
            "Get:12 http://archive.ubuntu.com/ubuntu focal-updates/universe amd64 Packages [1,331 kB]\n",
            "Hit:13 http://ppa.launchpad.net/deadsnakes/ppa/ubuntu focal InRelease\n",
            "Hit:14 http://ppa.launchpad.net/graphics-drivers/ppa/ubuntu focal InRelease\n",
            "Hit:15 http://ppa.launchpad.net/ubuntugis/ppa/ubuntu focal InRelease\n",
            "Get:16 http://ppa.launchpad.net/c2d4u.team/c2d4u4.0+/ubuntu focal/main Sources [2,554 kB]\n",
            "Get:17 http://security.ubuntu.com/ubuntu focal-security/main amd64 Packages [2,644 kB]\n",
            "Get:18 http://ppa.launchpad.net/c2d4u.team/c2d4u4.0+/ubuntu focal/main amd64 Packages [1,206 kB]\n",
            "Get:19 http://security.ubuntu.com/ubuntu focal-security/restricted amd64 Packages [2,170 kB]\n",
            "Get:20 http://security.ubuntu.com/ubuntu focal-security/universe amd64 Packages [1,035 kB]\n",
            "Fetched 17.7 MB in 14s (1,292 kB/s)\n",
            "Reading package lists... Done\n"
          ]
        }
      ]
    },
    {
      "cell_type": "code",
      "execution_count": 92,
      "metadata": {
        "id": "lEV5KE0u2J67",
        "colab": {
          "base_uri": "https://localhost:8080/"
        },
        "outputId": "351cafb9-aefc-407d-e31c-24815567be6c"
      },
      "outputs": [
        {
          "output_type": "stream",
          "name": "stdout",
          "text": [
            "unsigned char models_model_no_quant_tflite[] = {\n",
            "  0x1c, 0x00, 0x00, 0x00, 0x54, 0x46, 0x4c, 0x33, 0x14, 0x00, 0x20, 0x00,\n",
            "  0x1c, 0x00, 0x18, 0x00, 0x14, 0x00, 0x10, 0x00, 0x0c, 0x00, 0x00, 0x00,\n",
            "  0x08, 0x00, 0x04, 0x00, 0x14, 0x00, 0x00, 0x00, 0x1c, 0x00, 0x00, 0x00,\n",
            "  0x98, 0x00, 0x00, 0x00, 0xf0, 0x00, 0x00, 0x00, 0xe8, 0x0e, 0x00, 0x00,\n",
            "  0xf8, 0x0e, 0x00, 0x00, 0x70, 0x16, 0x00, 0x00, 0x03, 0x00, 0x00, 0x00,\n",
            "  0x01, 0x00, 0x00, 0x00, 0x10, 0x00, 0x00, 0x00, 0x00, 0x00, 0x0a, 0x00,\n",
            "  0x10, 0x00, 0x0c, 0x00, 0x08, 0x00, 0x04, 0x00, 0x0a, 0x00, 0x00, 0x00,\n",
            "  0x0c, 0x00, 0x00, 0x00, 0x1c, 0x00, 0x00, 0x00, 0x3c, 0x00, 0x00, 0x00,\n",
            "  0x0f, 0x00, 0x00, 0x00, 0x73, 0x65, 0x72, 0x76, 0x69, 0x6e, 0x67, 0x5f,\n",
            "  0x64, 0x65, 0x66, 0x61, 0x75, 0x6c, 0x74, 0x00, 0x01, 0x00, 0x00, 0x00,\n",
            "  0x04, 0x00, 0x00, 0x00, 0x90, 0xff, 0xff, 0xff, 0x0d, 0x00, 0x00, 0x00,\n",
            "  0x04, 0x00, 0x00, 0x00, 0x08, 0x00, 0x00, 0x00, 0x64, 0x65, 0x6e, 0x73,\n",
            "  0x65, 0x5f, 0x31, 0x36, 0x00, 0x00, 0x00, 0x00, 0x01, 0x00, 0x00, 0x00,\n",
            "  0x04, 0x00, 0x00, 0x00, 0xfa, 0xf0, 0xff, 0xff, 0x04, 0x00, 0x00, 0x00,\n",
            "  0x0e, 0x00, 0x00, 0x00, 0x64, 0x65, 0x6e, 0x73, 0x65, 0x5f, 0x31, 0x33,\n",
            "  0x5f, 0x69, 0x6e, 0x70, 0x75, 0x74, 0x00, 0x00, 0x02, 0x00, 0x00, 0x00,\n",
            "  0x34, 0x00, 0x00, 0x00, 0x04, 0x00, 0x00, 0x00, 0xdc, 0xff, 0xff, 0xff,\n",
            "  0x10, 0x00, 0x00, 0x00, 0x04, 0x00, 0x00, 0x00, 0x13, 0x00, 0x00, 0x00,\n",
            "  0x43, 0x4f, 0x4e, 0x56, 0x45, 0x52, 0x53, 0x49, 0x4f, 0x4e, 0x5f, 0x4d,\n",
            "  0x45, 0x54, 0x41, 0x44, 0x41, 0x54, 0x41, 0x00, 0x08, 0x00, 0x0c, 0x00,\n",
            "  0x08, 0x00, 0x04, 0x00, 0x08, 0x00, 0x00, 0x00, 0x0f, 0x00, 0x00, 0x00,\n",
            "  0x04, 0x00, 0x00, 0x00, 0x13, 0x00, 0x00, 0x00, 0x6d, 0x69, 0x6e, 0x5f,\n",
            "  0x72, 0x75, 0x6e, 0x74, 0x69, 0x6d, 0x65, 0x5f, 0x76, 0x65, 0x72, 0x73,\n",
            "  0x69, 0x6f, 0x6e, 0x00, 0x11, 0x00, 0x00, 0x00, 0xf4, 0x0d, 0x00, 0x00,\n",
            "  0xec, 0x0d, 0x00, 0x00, 0xb0, 0x0d, 0x00, 0x00, 0x60, 0x0d, 0x00, 0x00,\n",
            "  0xd8, 0x0c, 0x00, 0x00, 0xbc, 0x0c, 0x00, 0x00, 0x88, 0x0c, 0x00, 0x00,\n",
            "  0x10, 0x0b, 0x00, 0x00, 0x80, 0x03, 0x00, 0x00, 0xb0, 0x00, 0x00, 0x00,\n",
            "  0xa8, 0x00, 0x00, 0x00, 0xa0, 0x00, 0x00, 0x00, 0x98, 0x00, 0x00, 0x00,\n",
            "  0x90, 0x00, 0x00, 0x00, 0x88, 0x00, 0x00, 0x00, 0x68, 0x00, 0x00, 0x00,\n",
            "  0x04, 0x00, 0x00, 0x00, 0xba, 0xf1, 0xff, 0xff, 0x04, 0x00, 0x00, 0x00,\n",
            "  0x54, 0x00, 0x00, 0x00, 0x0c, 0x00, 0x00, 0x00, 0x08, 0x00, 0x0e, 0x00,\n",
            "  0x08, 0x00, 0x04, 0x00, 0x08, 0x00, 0x00, 0x00, 0x10, 0x00, 0x00, 0x00,\n",
            "  0x24, 0x00, 0x00, 0x00, 0x00, 0x00, 0x06, 0x00, 0x08, 0x00, 0x04, 0x00,\n",
            "  0x06, 0x00, 0x00, 0x00, 0x04, 0x00, 0x00, 0x00, 0x00, 0x00, 0x00, 0x00,\n",
            "  0x00, 0x00, 0x0a, 0x00, 0x10, 0x00, 0x0c, 0x00, 0x08, 0x00, 0x04, 0x00,\n",
            "  0x0a, 0x00, 0x00, 0x00, 0x01, 0x00, 0x00, 0x00, 0x02, 0x00, 0x00, 0x00,\n",
            "  0x04, 0x00, 0x00, 0x00, 0x06, 0x00, 0x00, 0x00, 0x32, 0x2e, 0x31, 0x32,\n",
            "  0x2e, 0x30, 0x00, 0x00, 0x1a, 0xf2, 0xff, 0xff, 0x04, 0x00, 0x00, 0x00,\n",
            "  0x10, 0x00, 0x00, 0x00, 0x31, 0x2e, 0x35, 0x2e, 0x30, 0x00, 0x00, 0x00,\n",
            "  0x00, 0x00, 0x00, 0x00, 0x00, 0x00, 0x00, 0x00, 0x74, 0xeb, 0xff, 0xff,\n",
            "  0x78, 0xeb, 0xff, 0xff, 0x7c, 0xeb, 0xff, 0xff, 0x80, 0xeb, 0xff, 0xff,\n",
            "  0x84, 0xeb, 0xff, 0xff, 0x4a, 0xf2, 0xff, 0xff, 0x04, 0x00, 0x00, 0x00,\n",
            "  0xc0, 0x02, 0x00, 0x00, 0x4a, 0xa2, 0x5c, 0x3e, 0x81, 0xbb, 0x03, 0x3e,\n",
            "  0x50, 0x69, 0x12, 0x3f, 0x4c, 0x55, 0x89, 0xbe, 0x82, 0x2a, 0x5e, 0xbe,\n",
            "  0x35, 0x97, 0xe0, 0xbf, 0x80, 0xf1, 0xd1, 0xbe, 0x7d, 0xff, 0x90, 0xbd,\n",
            "  0xb6, 0x20, 0x96, 0xbe, 0xc9, 0xbc, 0xd2, 0x3e, 0x89, 0x1d, 0xad, 0x3d,\n",
            "  0xca, 0x2e, 0xb7, 0x3e, 0x72, 0x46, 0x38, 0xc0, 0xc2, 0x5f, 0xb0, 0xbc,\n",
            "  0xb2, 0x2b, 0x32, 0xbe, 0x93, 0x89, 0xf1, 0xbf, 0x88, 0x4e, 0xb1, 0xbf,\n",
            "  0x99, 0x6e, 0xa4, 0x3f, 0x2d, 0xc2, 0x7f, 0x3f, 0x28, 0x30, 0xdb, 0xbe,\n",
            "  0xa9, 0x88, 0xc8, 0xbd, 0xe9, 0xb9, 0x93, 0x3e, 0x88, 0x5c, 0x5d, 0xbe,\n",
            "  0x37, 0x5a, 0xca, 0xbe, 0xf7, 0xde, 0x81, 0x3e, 0x21, 0xe6, 0x47, 0xbd,\n",
            "  0x4a, 0x88, 0xd3, 0x3b, 0x23, 0x9e, 0xad, 0x3e, 0x20, 0x2f, 0xaf, 0xbe,\n",
            "  0xe3, 0xd0, 0x94, 0x3f, 0xad, 0x32, 0x90, 0xbe, 0x5e, 0x09, 0x96, 0xbf,\n",
            "  0x12, 0xc2, 0x7c, 0x3f, 0x0c, 0x83, 0x4b, 0x3e, 0xc0, 0x8e, 0x70, 0xbf,\n",
            "  0x8a, 0x01, 0xa2, 0xbe, 0xe0, 0x9a, 0x15, 0x3c, 0x72, 0x66, 0x8a, 0xbf,\n",
            "  0xca, 0xf2, 0x67, 0xbe, 0xcc, 0x28, 0x8d, 0x3e, 0x58, 0xea, 0x43, 0xbe,\n",
            "  0xd6, 0x6f, 0x5e, 0x3c, 0xe0, 0x2d, 0x64, 0x3e, 0x80, 0x9f, 0x82, 0xbe,\n",
            "  0xa6, 0xbc, 0x04, 0xc0, 0x66, 0xcd, 0x87, 0xbf, 0x13, 0xfa, 0xfa, 0xbb,\n",
            "  0xf9, 0x9d, 0xa1, 0x3e, 0xaf, 0x97, 0x72, 0xbf, 0xc4, 0x23, 0x0d, 0xbf,\n",
            "  0xd7, 0xfe, 0xc6, 0xbe, 0x2e, 0x8d, 0xc9, 0xbe, 0x6a, 0x35, 0x87, 0xbb,\n",
            "  0x34, 0x75, 0x05, 0xbf, 0x90, 0xc6, 0xcf, 0xbf, 0xc5, 0x93, 0x38, 0x3f,\n",
            "  0x0a, 0x6a, 0x1b, 0xbe, 0x9c, 0x1c, 0xec, 0xbe, 0x31, 0xdd, 0xb3, 0xbe,\n",
            "  0x69, 0xdb, 0x70, 0x3f, 0x6a, 0xf3, 0xbf, 0xbe, 0x55, 0xc2, 0xc7, 0xbe,\n",
            "  0xc8, 0xcb, 0xc4, 0xbe, 0x8c, 0x4c, 0x19, 0xbf, 0x7b, 0x3f, 0xb1, 0x3e,\n",
            "  0x1e, 0xc3, 0x3d, 0xbf, 0xf9, 0x97, 0x04, 0x3f, 0x2f, 0x72, 0xc9, 0x3e,\n",
            "  0x8c, 0x01, 0xd3, 0x3e, 0xc2, 0x61, 0xe2, 0xbe, 0xe0, 0xac, 0xf4, 0xbe,\n",
            "  0x16, 0xed, 0x5c, 0x3e, 0x38, 0x6f, 0x6f, 0x3d, 0xa1, 0x0e, 0xbb, 0xbd,\n",
            "  0xd3, 0x84, 0x81, 0xbe, 0x50, 0x18, 0xef, 0x3d, 0x4e, 0xfc, 0x7e, 0xbf,\n",
            "  0xbb, 0xcb, 0x3e, 0xbe, 0x6c, 0x23, 0xef, 0xbe, 0xe6, 0x8e, 0x4a, 0xbf,\n",
            "  0x39, 0x6b, 0xcd, 0x3e, 0xa9, 0xae, 0x04, 0xbf, 0xe9, 0x2f, 0x6f, 0xbf,\n",
            "  0x78, 0x76, 0x91, 0xbe, 0xa6, 0x69, 0x2b, 0x3d, 0x95, 0x5d, 0xf4, 0xbe,\n",
            "  0xc9, 0x7e, 0xa2, 0xbe, 0x60, 0x1d, 0x0d, 0xbf, 0xec, 0xa6, 0x80, 0x3d,\n",
            "  0xc5, 0xc6, 0x84, 0xbd, 0x5a, 0x6f, 0xda, 0xbe, 0x87, 0x24, 0x68, 0xbf,\n",
            "  0x28, 0xf0, 0x8d, 0x3f, 0x46, 0x75, 0x7d, 0xbf, 0xb3, 0xe1, 0xd8, 0x3e,\n",
            "  0x82, 0x9f, 0x86, 0x3f, 0xe7, 0x99, 0xbb, 0x3e, 0x1d, 0x82, 0x8a, 0xbe,\n",
            "  0xcf, 0x6f, 0x1f, 0xbf, 0x58, 0x4d, 0x9d, 0xbd, 0x06, 0x55, 0xa4, 0x3e,\n",
            "  0xd1, 0x84, 0x51, 0x3f, 0xe6, 0x5d, 0x64, 0x3f, 0xa4, 0xd9, 0x88, 0xbf,\n",
            "  0xc6, 0xaf, 0xbb, 0xbe, 0x3d, 0x51, 0xd8, 0xbe, 0x09, 0xad, 0xc1, 0xbe,\n",
            "  0xcb, 0xb5, 0x16, 0xbf, 0xac, 0xa9, 0x15, 0x3d, 0x76, 0x2e, 0xf9, 0x3c,\n",
            "  0xfd, 0x72, 0x9f, 0x3e, 0x03, 0x96, 0x4f, 0xbf, 0xa3, 0xfb, 0xd3, 0x3d,\n",
            "  0x44, 0x85, 0x41, 0x3f, 0x93, 0x61, 0x4e, 0x3d, 0x9e, 0x3b, 0xa6, 0xbc,\n",
            "  0x4f, 0x48, 0x04, 0x3e, 0x25, 0xed, 0x88, 0xbe, 0xd1, 0xe1, 0x84, 0x3f,\n",
            "  0xa4, 0x74, 0xea, 0xbe, 0x18, 0xc1, 0xe9, 0xbd, 0x92, 0x1d, 0x32, 0x3e,\n",
            "  0xc1, 0x0f, 0x3a, 0xbe, 0x25, 0x94, 0x4c, 0xbe, 0x64, 0x73, 0xcf, 0xbf,\n",
            "  0xa5, 0xc8, 0x2b, 0xbe, 0x24, 0x2f, 0x26, 0x3e, 0x8f, 0x28, 0x9b, 0xbf,\n",
            "  0x72, 0x6e, 0x97, 0x3e, 0x1f, 0xb5, 0x31, 0xbf, 0x13, 0xdb, 0xa1, 0xbf,\n",
            "  0x3c, 0x0f, 0xc0, 0x3e, 0x01, 0x5e, 0x93, 0x3e, 0x5e, 0x3d, 0x3a, 0x3e,\n",
            "  0x9d, 0x71, 0x4f, 0x3f, 0xfa, 0xed, 0x39, 0xbf, 0x32, 0xf6, 0x45, 0xbe,\n",
            "  0x22, 0xea, 0xc1, 0x3d, 0x61, 0xc5, 0xad, 0x3d, 0x88, 0x20, 0x91, 0xbf,\n",
            "  0x68, 0x7a, 0x00, 0xbe, 0x37, 0xf2, 0xca, 0xbf, 0xda, 0xb3, 0xcb, 0x3e,\n",
            "  0x07, 0x72, 0xd8, 0x3e, 0xa7, 0x5a, 0xf4, 0xbd, 0x87, 0xbd, 0xbe, 0xbf,\n",
            "  0xb5, 0x38, 0xd4, 0x3e, 0xc6, 0x5f, 0x80, 0xbe, 0x7f, 0x80, 0x4e, 0x3e,\n",
            "  0x32, 0x96, 0x89, 0xbc, 0x80, 0xff, 0x82, 0xbd, 0xd0, 0x65, 0xa1, 0xbe,\n",
            "  0x58, 0xc2, 0x96, 0xbe, 0x1d, 0xa0, 0x83, 0x3e, 0x88, 0x28, 0x80, 0x3e,\n",
            "  0x93, 0x44, 0x74, 0xbd, 0x1a, 0x5d, 0x7f, 0xbe, 0xdf, 0x87, 0x21, 0xbd,\n",
            "  0x7a, 0x8e, 0x92, 0x3e, 0x9a, 0xca, 0xc2, 0xbb, 0xdc, 0xa3, 0x73, 0xbf,\n",
            "  0xe6, 0x0c, 0xce, 0xbe, 0x53, 0x7a, 0xcd, 0xbe, 0x3d, 0x0b, 0x96, 0xbd,\n",
            "  0xd3, 0x98, 0x31, 0x3c, 0x32, 0x76, 0xbf, 0xbe, 0x5a, 0x1d, 0x4f, 0xbf,\n",
            "  0x2c, 0xd3, 0x8b, 0x3e, 0x97, 0xe8, 0x91, 0x3e, 0x91, 0x89, 0xeb, 0xbe,\n",
            "  0x84, 0x93, 0x8c, 0x3d, 0x8c, 0x19, 0x4d, 0x3e, 0xca, 0x16, 0x66, 0x3e,\n",
            "  0xe8, 0x99, 0xb1, 0xbf, 0x6a, 0x02, 0xae, 0x3e, 0x40, 0x46, 0x99, 0x3f,\n",
            "  0x16, 0xf5, 0xff, 0xff, 0x04, 0x00, 0x00, 0x00, 0x80, 0x07, 0x00, 0x00,\n",
            "  0xaa, 0xb6, 0x94, 0xbf, 0xa2, 0x18, 0x3c, 0x3e, 0x62, 0x3a, 0xac, 0x84,\n",
            "  0x1d, 0xef, 0x17, 0x3f, 0x2e, 0x8b, 0x7b, 0xbe, 0x9c, 0x18, 0x27, 0x3d,\n",
            "  0x67, 0xba, 0xa7, 0xbe, 0xfd, 0xc7, 0xb6, 0xbe, 0x89, 0xe8, 0x82, 0xbe,\n",
            "  0xae, 0xb5, 0xa8, 0x3e, 0x48, 0x38, 0x1e, 0xbf, 0xa4, 0xf3, 0x54, 0xbf,\n",
            "  0xf7, 0x11, 0x20, 0x3f, 0x70, 0xf9, 0xa0, 0xbe, 0xb9, 0x16, 0x45, 0x83,\n",
            "  0xa2, 0x0c, 0xae, 0x3e, 0x8c, 0x0b, 0x12, 0x83, 0x90, 0xa4, 0x87, 0x04,\n",
            "  0x51, 0xbb, 0x84, 0x3e, 0xde, 0xd3, 0x6a, 0xbe, 0xf1, 0x89, 0x87, 0x3f,\n",
            "  0xe8, 0x33, 0x6a, 0xbe, 0x11, 0xb6, 0x2e, 0x04, 0xb3, 0x9c, 0x2b, 0x3f,\n",
            "  0xd8, 0x6b, 0xce, 0x3e, 0xee, 0x86, 0x50, 0x86, 0x00, 0x26, 0x86, 0x04,\n",
            "  0xaa, 0xd5, 0x06, 0x3f, 0xcc, 0x03, 0xda, 0x3e, 0xbd, 0x88, 0x07, 0x3f,\n",
            "  0x17, 0xf0, 0xf8, 0xbd, 0x49, 0xde, 0x66, 0xbe, 0x4f, 0x6a, 0xeb, 0x04,\n",
            "  0x8a, 0x4b, 0x19, 0x3f, 0x1b, 0xca, 0x8d, 0xbe, 0xc5, 0x76, 0x56, 0xbe,\n",
            "  0x87, 0x9c, 0x07, 0x3f, 0xb1, 0xe3, 0xe8, 0x3d, 0x46, 0x7d, 0xe4, 0xbe,\n",
            "  0x43, 0x7c, 0xd6, 0xbe, 0x6d, 0xfa, 0xe5, 0x3e, 0xee, 0xe9, 0xcf, 0xbd,\n",
            "  0xb9, 0xfa, 0xe6, 0xbe, 0x26, 0x84, 0x99, 0xbe, 0x79, 0xe8, 0x9d, 0x84,\n",
            "  0x53, 0x5f, 0x61, 0xbe, 0x49, 0x6e, 0xe9, 0x83, 0x58, 0x5b, 0xa6, 0x84,\n",
            "  0x74, 0xa4, 0xf7, 0x3e, 0x8e, 0x48, 0x9d, 0x3e, 0x0b, 0x61, 0xe0, 0x3c,\n",
            "  0xac, 0x19, 0x30, 0x3f, 0x4b, 0xdb, 0x1c, 0x83, 0x0a, 0x6c, 0x8f, 0x3e,\n",
            "  0xe2, 0x57, 0x89, 0x3d, 0x4f, 0x1e, 0x80, 0x84, 0xc6, 0x53, 0xae, 0x84,\n",
            "  0x08, 0x9c, 0xe0, 0xbe, 0x51, 0x9b, 0x0c, 0xbf, 0x50, 0x1a, 0xd1, 0x3e,\n",
            "  0xda, 0x65, 0x8a, 0x3e, 0x03, 0x08, 0xa4, 0xbe, 0x77, 0x51, 0xe5, 0x88,\n",
            "  0xa2, 0x3b, 0x8e, 0x3e, 0xcc, 0x5f, 0x00, 0xbe, 0x0d, 0x18, 0x24, 0x3d,\n",
            "  0xf0, 0xf9, 0x14, 0x3f, 0xa6, 0xd0, 0x91, 0x3e, 0x75, 0xf9, 0xdc, 0xbd,\n",
            "  0x5e, 0x63, 0x55, 0xbe, 0xc0, 0xaa, 0x23, 0x3f, 0xad, 0x47, 0xbc, 0x3e,\n",
            "  0x16, 0x15, 0xab, 0xbe, 0x70, 0xfb, 0x14, 0xbc, 0xac, 0x0e, 0x0a, 0x04,\n",
            "  0x69, 0x5f, 0x00, 0xbe, 0xda, 0xb8, 0xd7, 0x84, 0x13, 0x97, 0x2e, 0x83,\n",
            "  0xb0, 0x60, 0xf4, 0x3e, 0x4b, 0xa1, 0xef, 0x3e, 0x7f, 0x81, 0xf6, 0xbe,\n",
            "  0xff, 0xa1, 0x27, 0x3f, 0xba, 0xbf, 0x08, 0x84, 0x65, 0x11, 0x3d, 0x3d,\n",
            "  0x12, 0x5f, 0xb9, 0x3e, 0xbd, 0xb9, 0xa7, 0x04, 0x64, 0x6b, 0xca, 0x84,\n",
            "  0x9d, 0xa0, 0x99, 0xbe, 0x21, 0xf8, 0xce, 0xbe, 0x7f, 0x1e, 0xf5, 0x3e,\n",
            "  0x3e, 0x30, 0x9f, 0x02, 0x03, 0xf3, 0x06, 0x84, 0x78, 0xb8, 0x7d, 0x04,\n",
            "  0x59, 0x93, 0x4e, 0x04, 0x2c, 0x9d, 0xf2, 0x81, 0xee, 0xf0, 0x99, 0x84,\n",
            "  0xe7, 0xcb, 0xd1, 0x04, 0x42, 0xa4, 0x51, 0x84, 0x55, 0x28, 0x86, 0x82,\n",
            "  0xd6, 0x52, 0x6d, 0x04, 0x26, 0x93, 0x90, 0x84, 0x40, 0x55, 0xc1, 0x03,\n",
            "  0x5e, 0x24, 0xb7, 0x04, 0x45, 0x14, 0x9e, 0x03, 0xd0, 0x3e, 0x30, 0x84,\n",
            "  0xa0, 0xee, 0xab, 0x84, 0x18, 0x2b, 0x7f, 0x04, 0x02, 0x47, 0xf6, 0x02,\n",
            "  0x27, 0xac, 0xd9, 0x02, 0xe2, 0xe2, 0x46, 0x04, 0x69, 0xe4, 0xca, 0x02,\n",
            "  0x94, 0xa4, 0xce, 0x84, 0xeb, 0x15, 0xc2, 0x03, 0x24, 0x88, 0x82, 0x84,\n",
            "  0x28, 0x00, 0xbe, 0x84, 0xae, 0x6a, 0x3a, 0x04, 0x59, 0x2b, 0xef, 0x03,\n",
            "  0xd4, 0x47, 0xfa, 0x03, 0x14, 0xcf, 0xf4, 0x03, 0x07, 0x4c, 0xcf, 0x84,\n",
            "  0xdf, 0x19, 0x3a, 0x03, 0x7e, 0xe6, 0xbb, 0x84, 0x3e, 0x17, 0x2b, 0x84,\n",
            "  0x9d, 0x45, 0x92, 0x03, 0x14, 0xff, 0xbe, 0x04, 0x17, 0x94, 0xe4, 0x91,\n",
            "  0xf9, 0x8a, 0x20, 0x83, 0xbe, 0x25, 0x2a, 0x84, 0x1f, 0xd0, 0x1d, 0x8d,\n",
            "  0xfd, 0x17, 0x6f, 0x84, 0xcc, 0xfb, 0x71, 0x84, 0x45, 0x5d, 0x47, 0x1d,\n",
            "  0xb5, 0x43, 0x9a, 0x03, 0xf8, 0x24, 0xcd, 0x83, 0xd6, 0x44, 0x73, 0x03,\n",
            "  0xb8, 0x12, 0x57, 0x84, 0xf5, 0x5d, 0xa7, 0x84, 0x40, 0xc6, 0xf5, 0x04,\n",
            "  0xb4, 0x43, 0xe9, 0x04, 0xad, 0xa7, 0x0f, 0x04, 0xd7, 0xb2, 0x3c, 0x03,\n",
            "  0xa0, 0xbd, 0xdd, 0x83, 0x39, 0xb8, 0x0a, 0x04, 0x10, 0x6d, 0xf5, 0x82,\n",
            "  0x95, 0x12, 0x66, 0x04, 0xa9, 0xb7, 0x2c, 0x84, 0x67, 0x7f, 0x41, 0x04,\n",
            "  0xce, 0x63, 0xaa, 0x84, 0xff, 0xed, 0x62, 0x83, 0xc4, 0x4e, 0x78, 0x84,\n",
            "  0xcd, 0xa2, 0xf6, 0x3e, 0x2c, 0x26, 0x0d, 0xbf, 0xd5, 0x48, 0xbd, 0x03,\n",
            "  0xd4, 0x5d, 0xf6, 0x3d, 0xf5, 0x09, 0x8f, 0xbe, 0xba, 0x16, 0x97, 0x3d,\n",
            "  0xf5, 0x38, 0xc4, 0x3e, 0xa6, 0xa8, 0x1e, 0x3f, 0x4e, 0xa1, 0x8b, 0xbe,\n",
            "  0xd7, 0xf5, 0x2b, 0xbf, 0xd9, 0xf4, 0x79, 0x3d, 0x3f, 0x8a, 0xa9, 0x3e,\n",
            "  0x80, 0xd7, 0xdb, 0x3d, 0xfd, 0x6b, 0x36, 0xbe, 0xd0, 0xb3, 0x34, 0x84,\n",
            "  0x55, 0xbf, 0x20, 0xbf, 0x4a, 0x5a, 0x80, 0x84, 0x32, 0xdf, 0x15, 0x84,\n",
            "  0xf9, 0x58, 0x8a, 0x3e, 0x07, 0x1d, 0x3d, 0xbc, 0xf2, 0x5d, 0x2f, 0x3e,\n",
            "  0x1c, 0xf7, 0x98, 0x3e, 0xc8, 0x3f, 0xab, 0x84, 0xdb, 0x3c, 0x38, 0x3e,\n",
            "  0x92, 0xb8, 0x9e, 0x3e, 0xed, 0x5c, 0x99, 0x04, 0x71, 0xce, 0x2d, 0x84,\n",
            "  0xf3, 0x25, 0x0a, 0x3f, 0x24, 0x72, 0xf3, 0x3e, 0x10, 0x02, 0xe4, 0x3e,\n",
            "  0x79, 0xd1, 0x02, 0xbf, 0x43, 0x29, 0x11, 0xbf, 0x32, 0xf5, 0x57, 0x84,\n",
            "  0x99, 0x24, 0x55, 0x3e, 0xa6, 0x18, 0x82, 0xbe, 0xc4, 0xb5, 0x05, 0xbd,\n",
            "  0x6d, 0x4c, 0xb8, 0x3e, 0xfc, 0xab, 0xbf, 0x3b, 0x87, 0x97, 0x04, 0xbf,\n",
            "  0xfb, 0x17, 0xf7, 0xbe, 0x07, 0x0f, 0xf1, 0xbe, 0x1e, 0xfa, 0xdf, 0xbe,\n",
            "  0x4d, 0x20, 0xee, 0x3e, 0x0d, 0x9d, 0xef, 0xbe, 0x78, 0xf9, 0x92, 0x04,\n",
            "  0x32, 0x1f, 0x0e, 0xbf, 0x3f, 0x35, 0x9e, 0x04, 0x76, 0x11, 0x72, 0x04,\n",
            "  0x2b, 0x7e, 0xb2, 0x3e, 0x8a, 0x81, 0x5e, 0xbe, 0xfd, 0x77, 0x84, 0x3f,\n",
            "  0xf3, 0xee, 0x46, 0x3e, 0xa9, 0xd8, 0xe5, 0x04, 0xe9, 0xe9, 0x4d, 0x3f,\n",
            "  0x01, 0x2e, 0x0b, 0x3f, 0x2f, 0x0d, 0xd0, 0x84, 0x9e, 0x8f, 0x93, 0x04,\n",
            "  0x9d, 0xb3, 0x44, 0x3f, 0x8d, 0xac, 0xeb, 0x3e, 0xeb, 0x06, 0x99, 0x3e,\n",
            "  0x5f, 0xb2, 0xcd, 0x3e, 0x51, 0x82, 0x47, 0x3f, 0x8b, 0xc4, 0xe7, 0x84,\n",
            "  0x43, 0x6c, 0x5f, 0x3e, 0x81, 0x47, 0x18, 0x3f, 0x62, 0xcd, 0x08, 0x3f,\n",
            "  0x60, 0x7d, 0x88, 0xbd, 0x5a, 0x84, 0xa1, 0x3d, 0x52, 0x00, 0x3b, 0x3f,\n",
            "  0xc8, 0xb9, 0x41, 0x3f, 0x5e, 0xca, 0x99, 0x3e, 0x6c, 0xe3, 0xe7, 0x3e,\n",
            "  0x78, 0xdb, 0x23, 0xbd, 0x60, 0x65, 0x2c, 0x3f, 0x60, 0x69, 0xa9, 0x04,\n",
            "  0xcb, 0xbf, 0x5a, 0x3f, 0x1b, 0xb3, 0x52, 0x04, 0x8c, 0xf1, 0x36, 0x84,\n",
            "  0x7c, 0x5a, 0x99, 0x3e, 0x08, 0x92, 0x69, 0x3e, 0x68, 0xd3, 0x37, 0xbe,\n",
            "  0xce, 0x3c, 0xcd, 0x3c, 0x9f, 0x71, 0x84, 0x83, 0x5e, 0x19, 0x87, 0xbd,\n",
            "  0x23, 0x7f, 0x8d, 0x3e, 0x8b, 0x20, 0xa2, 0x04, 0xa0, 0x5e, 0xb7, 0x84,\n",
            "  0x6c, 0x3b, 0xf2, 0xbe, 0x10, 0x79, 0x5b, 0xbe, 0x64, 0x15, 0x94, 0x3d,\n",
            "  0x77, 0x35, 0xdc, 0x97, 0x62, 0xab, 0xf1, 0x96, 0x33, 0xa8, 0x4f, 0x84,\n",
            "  0x75, 0x5e, 0x1a, 0xb2, 0x98, 0xf5, 0x5f, 0x96, 0x1d, 0x0d, 0x35, 0x1d,\n",
            "  0x7f, 0x5a, 0x86, 0xae, 0xd2, 0x0d, 0x86, 0x17, 0xaf, 0x98, 0x03, 0x16,\n",
            "  0x91, 0x94, 0x2b, 0x97, 0xdc, 0x41, 0xb0, 0x17, 0x10, 0x1a, 0x8c, 0x9a,\n",
            "  0x16, 0x3b, 0x92, 0xad, 0x5c, 0xff, 0xec, 0x15, 0x0d, 0x10, 0x87, 0x04,\n",
            "  0x1b, 0x26, 0x07, 0x17, 0x96, 0xdf, 0xa9, 0x84, 0xd8, 0xfa, 0xd3, 0x04,\n",
            "  0xf5, 0xe5, 0x92, 0xb2, 0x13, 0x0a, 0x97, 0x97, 0xed, 0x30, 0xe8, 0xb5,\n",
            "  0x98, 0x58, 0x27, 0xaa, 0x59, 0xfc, 0x82, 0x04, 0x7f, 0x68, 0x70, 0xb6,\n",
            "  0x67, 0x72, 0x5a, 0xb6, 0xec, 0x80, 0x72, 0x04, 0x20, 0xd9, 0xa6, 0x04,\n",
            "  0x3d, 0x30, 0x48, 0xb1, 0x77, 0x87, 0x13, 0xaa, 0xfd, 0x3d, 0xf4, 0xb5,\n",
            "  0x98, 0xe6, 0xea, 0x02, 0xd2, 0x38, 0xb0, 0x84, 0x7d, 0xd4, 0x40, 0x04,\n",
            "  0x8d, 0x6f, 0x35, 0x03, 0xa5, 0xfd, 0x53, 0x84, 0x23, 0x2d, 0xcd, 0x03,\n",
            "  0x17, 0xa9, 0xe8, 0x04, 0x2c, 0x99, 0x5d, 0x04, 0x9b, 0x61, 0x1c, 0x04,\n",
            "  0x79, 0x73, 0xa0, 0x04, 0xbe, 0xc6, 0xd1, 0x04, 0x08, 0xae, 0x69, 0x03,\n",
            "  0x8b, 0xe4, 0x94, 0x83, 0x30, 0x51, 0xa2, 0x83, 0x50, 0x4b, 0xa1, 0x04,\n",
            "  0xb0, 0x23, 0xf6, 0x84, 0x38, 0xae, 0x1d, 0x04, 0x87, 0x82, 0x60, 0x04,\n",
            "  0x5f, 0x7a, 0x5a, 0x04, 0x95, 0x04, 0x37, 0x84, 0x17, 0x79, 0x2d, 0x84,\n",
            "  0xf1, 0xd3, 0x98, 0x04, 0xae, 0xf2, 0xa4, 0x03, 0xee, 0xef, 0x93, 0x84,\n",
            "  0x72, 0x10, 0x6a, 0x84, 0x8e, 0x7b, 0x1f, 0x04, 0x2b, 0xb7, 0x3d, 0x84,\n",
            "  0x51, 0x46, 0x64, 0x84, 0x7e, 0xd8, 0xc6, 0x04, 0x1c, 0x38, 0xa4, 0x03,\n",
            "  0x28, 0x20, 0xde, 0x84, 0x9b, 0x82, 0x45, 0x84, 0xd5, 0x9b, 0x79, 0x83,\n",
            "  0x8c, 0x30, 0xb0, 0x83, 0x34, 0x76, 0xea, 0x83, 0xd9, 0x40, 0x87, 0x84,\n",
            "  0x8e, 0xda, 0x79, 0x03, 0xe0, 0x9b, 0x89, 0x84, 0xad, 0x28, 0x55, 0x04,\n",
            "  0xca, 0x0b, 0xa1, 0x04, 0x28, 0x63, 0xdb, 0x84, 0x26, 0x0f, 0x13, 0x84,\n",
            "  0xad, 0xaf, 0x40, 0x84, 0xe2, 0x82, 0x81, 0x84, 0x24, 0x1b, 0x16, 0x04,\n",
            "  0x2d, 0x9d, 0x00, 0x83, 0xe8, 0x35, 0x07, 0x04, 0xb9, 0xe8, 0x16, 0x04,\n",
            "  0x14, 0x4c, 0x66, 0x01, 0x8f, 0x71, 0x41, 0x04, 0x8b, 0xfa, 0x90, 0x04,\n",
            "  0xe9, 0xa4, 0xc1, 0x04, 0xa7, 0xa7, 0x2a, 0x04, 0xb3, 0x64, 0x3c, 0x84,\n",
            "  0x60, 0x04, 0x21, 0x84, 0xb5, 0xc3, 0x2b, 0x84, 0xf0, 0xaf, 0xab, 0x04,\n",
            "  0xd7, 0x0f, 0x6f, 0x84, 0xfa, 0x10, 0x80, 0x84, 0x5d, 0xd3, 0xd1, 0x84,\n",
            "  0x7c, 0x51, 0x0b, 0x3f, 0xbb, 0x22, 0x29, 0x3f, 0x05, 0x6b, 0xce, 0xa2,\n",
            "  0xc6, 0x07, 0xa0, 0x3e, 0x85, 0x8b, 0x1f, 0x3f, 0x0e, 0x3c, 0xea, 0x3e,\n",
            "  0x13, 0x1e, 0xdb, 0x3d, 0x28, 0x31, 0xda, 0x3e, 0xda, 0x50, 0x06, 0x3f,\n",
            "  0xb4, 0x76, 0xce, 0x3e, 0x4a, 0xff, 0xfc, 0x3e, 0x6f, 0xeb, 0xf2, 0x3e,\n",
            "  0xa8, 0xcd, 0xaa, 0xbe, 0xee, 0x22, 0x16, 0x3f, 0x2d, 0xbc, 0x6a, 0x83,\n",
            "  0x95, 0x7e, 0x10, 0x3f, 0xe4, 0x1d, 0x14, 0x03, 0x69, 0xc3, 0xc0, 0x84,\n",
            "  0xa2, 0x4b, 0x9b, 0x3e, 0xe2, 0x49, 0xe2, 0x3e, 0x66, 0xdb, 0x1d, 0xbf,\n",
            "  0x75, 0x52, 0xc9, 0x3d, 0xd4, 0x22, 0x5d, 0x84, 0xff, 0xf8, 0x2f, 0xbe,\n",
            "  0x23, 0xe7, 0xca, 0x3e, 0x01, 0xbe, 0x65, 0x83, 0x6f, 0x03, 0x9d, 0x84,\n",
            "  0x06, 0x6d, 0x16, 0xbf, 0x64, 0x5c, 0xa8, 0xbe, 0x3b, 0x93, 0xd2, 0x3e,\n",
            "  0xcd, 0x2e, 0x5d, 0x3f, 0x02, 0xdb, 0x09, 0x3d, 0xce, 0x1f, 0xd3, 0x02,\n",
            "  0x06, 0xef, 0xe4, 0xbe, 0xe0, 0xf1, 0xbd, 0xbe, 0x12, 0x8b, 0x41, 0x3e,\n",
            "  0xb4, 0x0a, 0x9d, 0x3e, 0x13, 0xa9, 0x15, 0x3f, 0x82, 0xa3, 0x52, 0x3c,\n",
            "  0x8a, 0x38, 0xa7, 0x3d, 0x4b, 0x18, 0xb3, 0xbe, 0x8f, 0x36, 0xe7, 0x3e,\n",
            "  0x08, 0xde, 0xc9, 0x3e, 0x7c, 0xbc, 0x99, 0x3c, 0x34, 0x68, 0x42, 0x04,\n",
            "  0x80, 0x84, 0x50, 0x3d, 0x79, 0x8c, 0xb1, 0x03, 0x1f, 0x89, 0xa4, 0x04,\n",
            "  0x1f, 0xcd, 0xb6, 0xbe, 0xe9, 0x8d, 0x88, 0xbe, 0xc0, 0x34, 0x15, 0x3e,\n",
            "  0x87, 0x34, 0xae, 0x3d, 0xc1, 0xe0, 0x4c, 0x04, 0xf7, 0x04, 0xda, 0xbd,\n",
            "  0x36, 0xa8, 0x7d, 0x3e, 0xdf, 0xa0, 0x20, 0x18, 0xc2, 0x75, 0x97, 0x83,\n",
            "  0xe2, 0xa5, 0x13, 0x3f, 0x06, 0x5f, 0x1c, 0x3f, 0x1c, 0x59, 0xdb, 0xbe,\n",
            "  0xbf, 0x0d, 0x24, 0x3e, 0xfd, 0xb7, 0xf1, 0xbe, 0x0e, 0x3f, 0xd5, 0x83,\n",
            "  0x1d, 0x4a, 0x87, 0x3e, 0xd2, 0xc4, 0xfd, 0xbd, 0x99, 0xf1, 0x15, 0x3e,\n",
            "  0x0c, 0x17, 0x46, 0x3f, 0x00, 0x34, 0xbf, 0x3e, 0xbf, 0xd2, 0x60, 0xbe,\n",
            "  0xf6, 0x34, 0x0d, 0xbf, 0x90, 0x5c, 0xdd, 0x3e, 0x00, 0xc8, 0xc5, 0x3e,\n",
            "  0x50, 0x4d, 0xf7, 0xbe, 0xd3, 0x12, 0xaf, 0xbd, 0x10, 0x48, 0x65, 0x04,\n",
            "  0xd8, 0x48, 0xbd, 0xbe, 0x56, 0x1a, 0x89, 0x03, 0x88, 0xf1, 0x2c, 0x04,\n",
            "  0x6f, 0x6c, 0x93, 0x3e, 0xd4, 0x2b, 0x3d, 0x3e, 0x34, 0x08, 0x5a, 0xbe,\n",
            "  0x32, 0x7e, 0xf9, 0x3e, 0x4e, 0xf4, 0xb6, 0x84, 0xdc, 0xf5, 0x0c, 0x3e,\n",
            "  0x7a, 0x7d, 0xf3, 0x3e, 0x72, 0x73, 0x05, 0x04, 0xbb, 0x93, 0x0b, 0x84,\n",
            "  0x59, 0x9c, 0x6a, 0xbe, 0x6f, 0x2c, 0x7b, 0xbe, 0x7a, 0x56, 0x1e, 0x3e,\n",
            "  0x62, 0x02, 0xb7, 0xa8, 0xb7, 0xa9, 0x65, 0xae, 0x28, 0x09, 0xde, 0x04,\n",
            "  0x9b, 0x10, 0x29, 0xaa, 0xf4, 0x07, 0x1a, 0xa4, 0x88, 0x03, 0x20, 0xb1,\n",
            "  0x07, 0x6c, 0xa2, 0xad, 0x70, 0xec, 0xf7, 0xa7, 0xef, 0xb6, 0x0f, 0xac,\n",
            "  0x1a, 0x49, 0x6b, 0xaf, 0xc9, 0x98, 0x46, 0xb0, 0xa6, 0x6f, 0xc6, 0x32,\n",
            "  0xe2, 0xaf, 0x42, 0xa9, 0x83, 0x00, 0x48, 0xa8, 0x2d, 0x55, 0x58, 0x84,\n",
            "  0x0a, 0x1d, 0x6d, 0xb0, 0xb5, 0xe0, 0xb7, 0x84, 0x12, 0x99, 0x9a, 0x03,\n",
            "  0x42, 0xd3, 0x84, 0xad, 0x7a, 0xc3, 0xbc, 0xa5, 0x70, 0x30, 0x67, 0x9b,\n",
            "  0x06, 0x3d, 0x70, 0xa4, 0x37, 0x1e, 0x97, 0x03, 0x44, 0x62, 0xeb, 0xaf,\n",
            "  0x79, 0x42, 0xf8, 0xb4, 0xb5, 0x57, 0x35, 0x04, 0x6d, 0x6e, 0xaa, 0x83,\n",
            "  0xf3, 0xa1, 0x78, 0x13, 0xbc, 0xa0, 0x28, 0xa5, 0x29, 0x8b, 0x31, 0xb3,\n",
            "  0x98, 0x00, 0x18, 0x3d, 0x5f, 0x33, 0xae, 0x3e, 0x91, 0x41, 0x0e, 0x84,\n",
            "  0x00, 0xce, 0xcf, 0xbe, 0x77, 0x32, 0xed, 0xbe, 0x36, 0x03, 0x86, 0x3e,\n",
            "  0x5f, 0x21, 0x02, 0xbf, 0xaa, 0x3b, 0x16, 0x3e, 0x78, 0x70, 0xde, 0x3d,\n",
            "  0xbf, 0x70, 0x08, 0x3f, 0xcd, 0x3a, 0xdb, 0xbe, 0xc7, 0xaf, 0x76, 0xbe,\n",
            "  0x0f, 0x7e, 0x36, 0x3f, 0x18, 0x00, 0x1a, 0x3c, 0xdf, 0x54, 0xe5, 0x03,\n",
            "  0x45, 0x5f, 0xb0, 0x3e, 0xff, 0x59, 0x6c, 0x84, 0x28, 0x87, 0xee, 0x82,\n",
            "  0xdf, 0x20, 0x2c, 0xbe, 0xad, 0x23, 0xd8, 0xbe, 0xb9, 0xc4, 0xe9, 0x3e,\n",
            "  0xf4, 0x56, 0xbd, 0xbe, 0xea, 0xf4, 0x52, 0x04, 0x06, 0x58, 0xe5, 0xbd,\n",
            "  0x35, 0x50, 0x46, 0x3e, 0x2d, 0x72, 0x17, 0x83, 0x83, 0x32, 0xa1, 0x83,\n",
            "  0x5b, 0x9a, 0xf0, 0x3e, 0xbc, 0x02, 0x3f, 0x3f, 0x0d, 0xb3, 0xf1, 0xbe,\n",
            "  0xa2, 0xfc, 0xff, 0xff, 0x04, 0x00, 0x00, 0x00, 0x68, 0x01, 0x00, 0x00,\n",
            "  0xa3, 0x4b, 0x6b, 0x3e, 0xb2, 0x3f, 0xab, 0xbe, 0x22, 0x5c, 0x88, 0x3f,\n",
            "  0x41, 0xdc, 0xc7, 0x3d, 0x01, 0xa0, 0x32, 0xbf, 0x6f, 0x6f, 0x3c, 0x3f,\n",
            "  0x7e, 0xb6, 0x9d, 0x33, 0x22, 0xcd, 0xb6, 0x83, 0xec, 0x73, 0x6e, 0x84,\n",
            "  0x8b, 0x27, 0x02, 0x3f, 0x0e, 0x67, 0xaa, 0x3e, 0x35, 0x43, 0xee, 0xbe,\n",
            "  0x5f, 0xfc, 0x07, 0x3f, 0x70, 0xcd, 0x39, 0xbf, 0x69, 0xb8, 0xb5, 0x3e,\n",
            "  0x50, 0xe0, 0xab, 0x3e, 0xa3, 0x30, 0xee, 0xbd, 0x11, 0x70, 0x2f, 0x3f,\n",
            "  0x2c, 0x7d, 0x55, 0x3f, 0xf2, 0x96, 0x47, 0x3f, 0xb3, 0xa7, 0x0e, 0xbf,\n",
            "  0xa8, 0xea, 0xfc, 0x3e, 0xca, 0xff, 0xa2, 0x3e, 0xe3, 0xa8, 0x23, 0x3f,\n",
            "  0x50, 0x0b, 0x6c, 0x3e, 0xfc, 0x21, 0x3f, 0xbf, 0x31, 0x80, 0x2f, 0x3f,\n",
            "  0xa3, 0x0d, 0xc4, 0xbc, 0xa4, 0x13, 0x1b, 0xbf, 0xb0, 0x3d, 0x2f, 0x3f,\n",
            "  0x59, 0x4e, 0x88, 0x3f, 0xac, 0x3d, 0x15, 0xbd, 0xfc, 0xcf, 0x02, 0x3b,\n",
            "  0x98, 0xaf, 0x3b, 0x3f, 0xee, 0x0c, 0xf6, 0xbe, 0x36, 0x81, 0x15, 0x3f,\n",
            "  0x9e, 0x2a, 0x40, 0xbf, 0x25, 0xe5, 0x9b, 0x3e, 0x41, 0x25, 0x32, 0x3f,\n",
            "  0x45, 0x9e, 0x98, 0x3e, 0x8f, 0xae, 0x24, 0xbf, 0xa0, 0x08, 0x1d, 0x3f,\n",
            "  0x49, 0x59, 0xbc, 0x84, 0x6a, 0xae, 0xdc, 0x84, 0x3a, 0x1a, 0x93, 0x04,\n",
            "  0x7c, 0xab, 0x2e, 0x3e, 0x22, 0x12, 0x2c, 0xbf, 0x46, 0x09, 0x30, 0x3f,\n",
            "  0xb4, 0x79, 0xc3, 0x86, 0xc0, 0x10, 0x58, 0x04, 0xad, 0xa1, 0xc5, 0x04,\n",
            "  0x8a, 0xf8, 0xe0, 0x84, 0xcf, 0x3f, 0xe9, 0x04, 0x18, 0xce, 0xd5, 0x83,\n",
            "  0xc7, 0x06, 0x19, 0x3f, 0xad, 0x19, 0xee, 0x3e, 0x25, 0x2d, 0xab, 0xbe,\n",
            "  0xd7, 0xf9, 0x49, 0x3f, 0xb4, 0xce, 0x00, 0xbd, 0xa8, 0x20, 0x9b, 0xbd,\n",
            "  0xef, 0x01, 0x76, 0xbf, 0xae, 0xe7, 0x70, 0x3f, 0xcc, 0xfe, 0xaa, 0xbc,\n",
            "  0xac, 0xc5, 0x35, 0x3f, 0xf7, 0x1e, 0x0f, 0x3f, 0xed, 0x3c, 0x15, 0xbf,\n",
            "  0x97, 0x35, 0x89, 0x04, 0xfd, 0x84, 0x2b, 0x04, 0x84, 0xf9, 0xa8, 0x03,\n",
            "  0xb8, 0xf8, 0x8f, 0xbd, 0xb4, 0xdb, 0x65, 0x3f, 0xc8, 0xc9, 0xdd, 0xbe,\n",
            "  0x56, 0xe6, 0xf0, 0x3e, 0x6e, 0xce, 0x4c, 0x3f, 0xf3, 0x53, 0xeb, 0x3e,\n",
            "  0xe1, 0xde, 0x84, 0x96, 0x40, 0x96, 0x1a, 0x39, 0x4d, 0x8a, 0xcc, 0x04,\n",
            "  0xd3, 0xf8, 0x41, 0x84, 0xc1, 0xb6, 0xc9, 0x83, 0x44, 0x9c, 0x6a, 0x8d,\n",
            "  0xd5, 0x07, 0x69, 0xbf, 0x19, 0x11, 0x56, 0x3f, 0xd7, 0x9a, 0xfd, 0x3e,\n",
            "  0x7e, 0x0e, 0x3b, 0xbf, 0x62, 0x30, 0xe8, 0x3e, 0xc5, 0x4c, 0x61, 0x3f,\n",
            "  0x46, 0x74, 0x43, 0x3f, 0x64, 0xa6, 0x32, 0x3f, 0x74, 0xae, 0xe8, 0xbe,\n",
            "  0x16, 0xfe, 0xff, 0xff, 0x04, 0x00, 0x00, 0x00, 0x24, 0x00, 0x00, 0x00,\n",
            "  0xd7, 0xf6, 0x9b, 0xbf, 0xab, 0xff, 0x0f, 0x3f, 0x59, 0xcf, 0x5b, 0x3f,\n",
            "  0x15, 0x4e, 0x27, 0x3f, 0x3f, 0xaf, 0x88, 0xbf, 0x40, 0x3e, 0xba, 0x3f,\n",
            "  0x65, 0x2d, 0x8c, 0x3e, 0x9f, 0xc1, 0x98, 0x3f, 0x22, 0xe7, 0xa2, 0xbe,\n",
            "  0x46, 0xfe, 0xff, 0xff, 0x04, 0x00, 0x00, 0x00, 0x0c, 0x00, 0x00, 0x00,\n",
            "  0xb1, 0xbe, 0x4f, 0x3f, 0xb6, 0x92, 0xc2, 0x3e, 0x1a, 0x70, 0xb6, 0x3e,\n",
            "  0x5e, 0xfe, 0xff, 0xff, 0x04, 0x00, 0x00, 0x00, 0x78, 0x00, 0x00, 0x00,\n",
            "  0x88, 0x1b, 0xeb, 0xbe, 0xde, 0x18, 0x37, 0x3f, 0x52, 0xbb, 0x8a, 0xbd,\n",
            "  0x84, 0x9b, 0x10, 0x3f, 0x33, 0xa8, 0xaa, 0x3e, 0x00, 0xb4, 0x86, 0x3e,\n",
            "  0x63, 0xd0, 0xcd, 0xbe, 0x50, 0x42, 0xcb, 0xbe, 0xe0, 0xa0, 0xa9, 0x3e,\n",
            "  0xc3, 0x47, 0x46, 0x3f, 0x5c, 0x70, 0xe5, 0x3c, 0x25, 0xa9, 0xef, 0xbe,\n",
            "  0x6f, 0xb7, 0x0e, 0x3f, 0xee, 0x6c, 0x50, 0x3e, 0x64, 0xb8, 0x35, 0xbc,\n",
            "  0xe3, 0x70, 0x3a, 0x3f, 0xc0, 0x3c, 0xe8, 0xbc, 0xa1, 0x21, 0x3b, 0xbb,\n",
            "  0xc1, 0x34, 0xc8, 0x3e, 0x1c, 0x31, 0xbd, 0x3d, 0x95, 0xec, 0x3b, 0x3f,\n",
            "  0xa7, 0x42, 0x38, 0xbe, 0x94, 0x06, 0x0a, 0xbc, 0x37, 0xc4, 0x21, 0x3f,\n",
            "  0x8b, 0x9c, 0xca, 0x3e, 0xb1, 0xe4, 0xd3, 0xbc, 0xf9, 0x9b, 0x6f, 0xae,\n",
            "  0xcb, 0x0c, 0x7f, 0x3e, 0x94, 0x6a, 0x84, 0x3e, 0x71, 0xbe, 0xf8, 0x3e,\n",
            "  0xe2, 0xfe, 0xff, 0xff, 0x04, 0x00, 0x00, 0x00, 0x40, 0x00, 0x00, 0x00,\n",
            "  0x68, 0x70, 0x55, 0x3f, 0xda, 0xe0, 0xb3, 0x3d, 0xfd, 0xe1, 0x27, 0xbe,\n",
            "  0x28, 0x99, 0x6b, 0xbd, 0xfb, 0x79, 0x92, 0xbd, 0xfd, 0x9f, 0x0b, 0xbf,\n",
            "  0xf9, 0xdb, 0xbf, 0x3e, 0x73, 0x09, 0x33, 0x3f, 0x2b, 0x4a, 0xfa, 0xbc,\n",
            "  0x8a, 0x4b, 0xa8, 0xbc, 0x73, 0x26, 0x1d, 0xbd, 0x4b, 0x0a, 0xb6, 0x3d,\n",
            "  0x79, 0x01, 0xeb, 0xbe, 0xba, 0x80, 0x9b, 0xbe, 0xb6, 0xc0, 0xdd, 0xbc,\n",
            "  0xda, 0xbc, 0x76, 0x3e, 0x2e, 0xff, 0xff, 0xff, 0x04, 0x00, 0x00, 0x00,\n",
            "  0x2c, 0x00, 0x00, 0x00, 0x42, 0x85, 0x86, 0x3e, 0x97, 0xdf, 0x9c, 0xbe,\n",
            "  0x5c, 0xc4, 0x57, 0x3f, 0xb6, 0x5e, 0x88, 0x3e, 0x5b, 0xc1, 0x83, 0x3d,\n",
            "  0x11, 0x14, 0x14, 0xbe, 0xfa, 0xfb, 0x13, 0xbf, 0xde, 0x03, 0x0c, 0xbd,\n",
            "  0x22, 0xe0, 0xf2, 0x3d, 0x2c, 0xe1, 0x8f, 0xbe, 0x14, 0x9f, 0x07, 0xbf,\n",
            "  0xa4, 0xf8, 0xff, 0xff, 0xa8, 0xf8, 0xff, 0xff, 0x0f, 0x00, 0x00, 0x00,\n",
            "  0x4d, 0x4c, 0x49, 0x52, 0x20, 0x43, 0x6f, 0x6e, 0x76, 0x65, 0x72, 0x74,\n",
            "  0x65, 0x64, 0x2e, 0x00, 0x01, 0x00, 0x00, 0x00, 0x14, 0x00, 0x00, 0x00,\n",
            "  0x00, 0x00, 0x0e, 0x00, 0x18, 0x00, 0x14, 0x00, 0x10, 0x00, 0x0c, 0x00,\n",
            "  0x08, 0x00, 0x04, 0x00, 0x0e, 0x00, 0x00, 0x00, 0x14, 0x00, 0x00, 0x00,\n",
            "  0x1c, 0x00, 0x00, 0x00, 0x5c, 0x01, 0x00, 0x00, 0x60, 0x01, 0x00, 0x00,\n",
            "  0x64, 0x01, 0x00, 0x00, 0x04, 0x00, 0x00, 0x00, 0x6d, 0x61, 0x69, 0x6e,\n",
            "  0x00, 0x00, 0x00, 0x00, 0x05, 0x00, 0x00, 0x00, 0x04, 0x01, 0x00, 0x00,\n",
            "  0xbc, 0x00, 0x00, 0x00, 0x84, 0x00, 0x00, 0x00, 0x50, 0x00, 0x00, 0x00,\n",
            "  0x14, 0x00, 0x00, 0x00, 0x00, 0x00, 0x0e, 0x00, 0x1a, 0x00, 0x14, 0x00,\n",
            "  0x10, 0x00, 0x0c, 0x00, 0x0b, 0x00, 0x04, 0x00, 0x0e, 0x00, 0x00, 0x00,\n",
            "  0x1c, 0x00, 0x00, 0x00, 0x00, 0x00, 0x00, 0x09, 0x1c, 0x00, 0x00, 0x00,\n",
            "  0x20, 0x00, 0x00, 0x00, 0x01, 0x00, 0x00, 0x00, 0x00, 0x00, 0x06, 0x00,\n",
            "  0x08, 0x00, 0x04, 0x00, 0x06, 0x00, 0x00, 0x00, 0x00, 0x00, 0x80, 0x3f,\n",
            "  0x01, 0x00, 0x00, 0x00, 0x0d, 0x00, 0x00, 0x00, 0x01, 0x00, 0x00, 0x00,\n",
            "  0x0c, 0x00, 0x00, 0x00, 0x66, 0xff, 0xff, 0xff, 0x10, 0x00, 0x00, 0x00,\n",
            "  0x00, 0x00, 0x00, 0x08, 0x0c, 0x00, 0x00, 0x00, 0x10, 0x00, 0x00, 0x00,\n",
            "  0x70, 0xf9, 0xff, 0xff, 0x01, 0x00, 0x00, 0x00, 0x0c, 0x00, 0x00, 0x00,\n",
            "  0x03, 0x00, 0x00, 0x00, 0x0b, 0x00, 0x00, 0x00, 0x08, 0x00, 0x00, 0x00,\n",
            "  0x01, 0x00, 0x00, 0x00, 0x96, 0xff, 0xff, 0xff, 0x10, 0x00, 0x00, 0x00,\n",
            "  0x00, 0x00, 0x00, 0x08, 0x10, 0x00, 0x00, 0x00, 0x14, 0x00, 0x00, 0x00,\n",
            "  0x86, 0xff, 0xff, 0xff, 0x00, 0x00, 0x00, 0x01, 0x01, 0x00, 0x00, 0x00,\n",
            "  0x0b, 0x00, 0x00, 0x00, 0x03, 0x00, 0x00, 0x00, 0x0a, 0x00, 0x00, 0x00,\n",
            "  0x07, 0x00, 0x00, 0x00, 0x02, 0x00, 0x00, 0x00, 0xca, 0xff, 0xff, 0xff,\n",
            "  0x10, 0x00, 0x00, 0x00, 0x00, 0x00, 0x00, 0x08, 0x10, 0x00, 0x00, 0x00,\n",
            "  0x14, 0x00, 0x00, 0x00, 0xba, 0xff, 0xff, 0xff, 0x00, 0x00, 0x00, 0x01,\n",
            "  0x01, 0x00, 0x00, 0x00, 0x0a, 0x00, 0x00, 0x00, 0x03, 0x00, 0x00, 0x00,\n",
            "  0x09, 0x00, 0x00, 0x00, 0x06, 0x00, 0x00, 0x00, 0x03, 0x00, 0x00, 0x00,\n",
            "  0x00, 0x00, 0x0e, 0x00, 0x16, 0x00, 0x00, 0x00, 0x10, 0x00, 0x0c, 0x00,\n",
            "  0x0b, 0x00, 0x04, 0x00, 0x0e, 0x00, 0x00, 0x00, 0x18, 0x00, 0x00, 0x00,\n",
            "  0x00, 0x00, 0x00, 0x08, 0x18, 0x00, 0x00, 0x00, 0x1c, 0x00, 0x00, 0x00,\n",
            "  0x00, 0x00, 0x06, 0x00, 0x08, 0x00, 0x07, 0x00, 0x06, 0x00, 0x00, 0x00,\n",
            "  0x00, 0x00, 0x00, 0x01, 0x01, 0x00, 0x00, 0x00, 0x09, 0x00, 0x00, 0x00,\n",
            "  0x03, 0x00, 0x00, 0x00, 0x00, 0x00, 0x00, 0x00, 0x05, 0x00, 0x00, 0x00,\n",
            "  0x04, 0x00, 0x00, 0x00, 0x01, 0x00, 0x00, 0x00, 0x0d, 0x00, 0x00, 0x00,\n",
            "  0x01, 0x00, 0x00, 0x00, 0x00, 0x00, 0x00, 0x00, 0x0e, 0x00, 0x00, 0x00,\n",
            "  0x84, 0x05, 0x00, 0x00, 0x10, 0x05, 0x00, 0x00, 0x9c, 0x04, 0x00, 0x00,\n",
            "  0x40, 0x04, 0x00, 0x00, 0xe4, 0x03, 0x00, 0x00, 0x94, 0x03, 0x00, 0x00,\n",
            "  0x44, 0x03, 0x00, 0x00, 0xf4, 0x02, 0x00, 0x00, 0xa4, 0x02, 0x00, 0x00,\n",
            "  0x0c, 0x02, 0x00, 0x00, 0x74, 0x01, 0x00, 0x00, 0xdc, 0x00, 0x00, 0x00,\n",
            "  0x60, 0x00, 0x00, 0x00, 0x04, 0x00, 0x00, 0x00, 0xca, 0xfa, 0xff, 0xff,\n",
            "  0x00, 0x00, 0x00, 0x01, 0x14, 0x00, 0x00, 0x00, 0x1c, 0x00, 0x00, 0x00,\n",
            "  0x1c, 0x00, 0x00, 0x00, 0x0e, 0x00, 0x00, 0x00, 0x34, 0x00, 0x00, 0x00,\n",
            "  0x02, 0x00, 0x00, 0x00, 0xff, 0xff, 0xff, 0xff, 0x0b, 0x00, 0x00, 0x00,\n",
            "  0xb4, 0xfa, 0xff, 0xff, 0x19, 0x00, 0x00, 0x00, 0x53, 0x74, 0x61, 0x74,\n",
            "  0x65, 0x66, 0x75, 0x6c, 0x50, 0x61, 0x72, 0x74, 0x69, 0x74, 0x69, 0x6f,\n",
            "  0x6e, 0x65, 0x64, 0x43, 0x61, 0x6c, 0x6c, 0x3a, 0x30, 0x00, 0x00, 0x00,\n",
            "  0x02, 0x00, 0x00, 0x00, 0x01, 0x00, 0x00, 0x00, 0x0b, 0x00, 0x00, 0x00,\n",
            "  0x22, 0xfb, 0xff, 0xff, 0x00, 0x00, 0x00, 0x01, 0x14, 0x00, 0x00, 0x00,\n",
            "  0x1c, 0x00, 0x00, 0x00, 0x1c, 0x00, 0x00, 0x00, 0x0d, 0x00, 0x00, 0x00,\n",
            "  0x54, 0x00, 0x00, 0x00, 0x02, 0x00, 0x00, 0x00, 0xff, 0xff, 0xff, 0xff,\n",
            "  0x0b, 0x00, 0x00, 0x00, 0x0c, 0xfb, 0xff, 0xff, 0x3a, 0x00, 0x00, 0x00,\n",
            "  0x73, 0x65, 0x71, 0x75, 0x65, 0x6e, 0x74, 0x69, 0x61, 0x6c, 0x5f, 0x33,\n",
            "  0x2f, 0x64, 0x65, 0x6e, 0x73, 0x65, 0x5f, 0x31, 0x36, 0x2f, 0x4d, 0x61,\n",
            "  0x74, 0x4d, 0x75, 0x6c, 0x3b, 0x73, 0x65, 0x71, 0x75, 0x65, 0x6e, 0x74,\n",
            "  0x69, 0x61, 0x6c, 0x5f, 0x33, 0x2f, 0x64, 0x65, 0x6e, 0x73, 0x65, 0x5f,\n",
            "  0x31, 0x36, 0x2f, 0x42, 0x69, 0x61, 0x73, 0x41, 0x64, 0x64, 0x00, 0x00,\n",
            "  0x02, 0x00, 0x00, 0x00, 0x01, 0x00, 0x00, 0x00, 0x0b, 0x00, 0x00, 0x00,\n",
            "  0x9a, 0xfb, 0xff, 0xff, 0x00, 0x00, 0x00, 0x01, 0x14, 0x00, 0x00, 0x00,\n",
            "  0x1c, 0x00, 0x00, 0x00, 0x1c, 0x00, 0x00, 0x00, 0x0c, 0x00, 0x00, 0x00,\n",
            "  0x70, 0x00, 0x00, 0x00, 0x02, 0x00, 0x00, 0x00, 0xff, 0xff, 0xff, 0xff,\n",
            "  0x10, 0x00, 0x00, 0x00, 0x84, 0xfb, 0xff, 0xff, 0x55, 0x00, 0x00, 0x00,\n",
            "  0x73, 0x65, 0x71, 0x75, 0x65, 0x6e, 0x74, 0x69, 0x61, 0x6c, 0x5f, 0x33,\n",
            "  0x2f, 0x64, 0x65, 0x6e, 0x73, 0x65, 0x5f, 0x31, 0x35, 0x2f, 0x4d, 0x61,\n",
            "  0x74, 0x4d, 0x75, 0x6c, 0x3b, 0x73, 0x65, 0x71, 0x75, 0x65, 0x6e, 0x74,\n",
            "  0x69, 0x61, 0x6c, 0x5f, 0x33, 0x2f, 0x64, 0x65, 0x6e, 0x73, 0x65, 0x5f,\n",
            "  0x31, 0x35, 0x2f, 0x52, 0x65, 0x6c, 0x75, 0x3b, 0x73, 0x65, 0x71, 0x75,\n",
            "  0x65, 0x6e, 0x74, 0x69, 0x61, 0x6c, 0x5f, 0x33, 0x2f, 0x64, 0x65, 0x6e,\n",
            "  0x73, 0x65, 0x5f, 0x31, 0x35, 0x2f, 0x42, 0x69, 0x61, 0x73, 0x41, 0x64,\n",
            "  0x64, 0x00, 0x00, 0x00, 0x02, 0x00, 0x00, 0x00, 0x01, 0x00, 0x00, 0x00,\n",
            "  0x10, 0x00, 0x00, 0x00, 0x2e, 0xfc, 0xff, 0xff, 0x00, 0x00, 0x00, 0x01,\n",
            "  0x14, 0x00, 0x00, 0x00, 0x1c, 0x00, 0x00, 0x00, 0x1c, 0x00, 0x00, 0x00,\n",
            "  0x0b, 0x00, 0x00, 0x00, 0x70, 0x00, 0x00, 0x00, 0x02, 0x00, 0x00, 0x00,\n",
            "  0xff, 0xff, 0xff, 0xff, 0x1e, 0x00, 0x00, 0x00, 0x18, 0xfc, 0xff, 0xff,\n",
            "  0x55, 0x00, 0x00, 0x00, 0x73, 0x65, 0x71, 0x75, 0x65, 0x6e, 0x74, 0x69,\n",
            "  0x61, 0x6c, 0x5f, 0x33, 0x2f, 0x64, 0x65, 0x6e, 0x73, 0x65, 0x5f, 0x31,\n",
            "  0x34, 0x2f, 0x4d, 0x61, 0x74, 0x4d, 0x75, 0x6c, 0x3b, 0x73, 0x65, 0x71,\n",
            "  0x75, 0x65, 0x6e, 0x74, 0x69, 0x61, 0x6c, 0x5f, 0x33, 0x2f, 0x64, 0x65,\n",
            "  0x6e, 0x73, 0x65, 0x5f, 0x31, 0x34, 0x2f, 0x52, 0x65, 0x6c, 0x75, 0x3b,\n",
            "  0x73, 0x65, 0x71, 0x75, 0x65, 0x6e, 0x74, 0x69, 0x61, 0x6c, 0x5f, 0x33,\n",
            "  0x2f, 0x64, 0x65, 0x6e, 0x73, 0x65, 0x5f, 0x31, 0x34, 0x2f, 0x42, 0x69,\n",
            "  0x61, 0x73, 0x41, 0x64, 0x64, 0x00, 0x00, 0x00, 0x02, 0x00, 0x00, 0x00,\n",
            "  0x01, 0x00, 0x00, 0x00, 0x1e, 0x00, 0x00, 0x00, 0xc2, 0xfc, 0xff, 0xff,\n",
            "  0x00, 0x00, 0x00, 0x01, 0x14, 0x00, 0x00, 0x00, 0x1c, 0x00, 0x00, 0x00,\n",
            "  0x1c, 0x00, 0x00, 0x00, 0x0a, 0x00, 0x00, 0x00, 0x70, 0x00, 0x00, 0x00,\n",
            "  0x02, 0x00, 0x00, 0x00, 0xff, 0xff, 0xff, 0xff, 0x03, 0x00, 0x00, 0x00,\n",
            "  0xac, 0xfc, 0xff, 0xff, 0x55, 0x00, 0x00, 0x00, 0x73, 0x65, 0x71, 0x75,\n",
            "  0x65, 0x6e, 0x74, 0x69, 0x61, 0x6c, 0x5f, 0x33, 0x2f, 0x64, 0x65, 0x6e,\n",
            "  0x73, 0x65, 0x5f, 0x31, 0x33, 0x2f, 0x4d, 0x61, 0x74, 0x4d, 0x75, 0x6c,\n",
            "  0x3b, 0x73, 0x65, 0x71, 0x75, 0x65, 0x6e, 0x74, 0x69, 0x61, 0x6c, 0x5f,\n",
            "  0x33, 0x2f, 0x64, 0x65, 0x6e, 0x73, 0x65, 0x5f, 0x31, 0x33, 0x2f, 0x52,\n",
            "  0x65, 0x6c, 0x75, 0x3b, 0x73, 0x65, 0x71, 0x75, 0x65, 0x6e, 0x74, 0x69,\n",
            "  0x61, 0x6c, 0x5f, 0x33, 0x2f, 0x64, 0x65, 0x6e, 0x73, 0x65, 0x5f, 0x31,\n",
            "  0x33, 0x2f, 0x42, 0x69, 0x61, 0x73, 0x41, 0x64, 0x64, 0x00, 0x00, 0x00,\n",
            "  0x02, 0x00, 0x00, 0x00, 0x01, 0x00, 0x00, 0x00, 0x03, 0x00, 0x00, 0x00,\n",
            "  0xc6, 0xfd, 0xff, 0xff, 0x00, 0x00, 0x00, 0x01, 0x10, 0x00, 0x00, 0x00,\n",
            "  0x10, 0x00, 0x00, 0x00, 0x09, 0x00, 0x00, 0x00, 0x2c, 0x00, 0x00, 0x00,\n",
            "  0x30, 0xfd, 0xff, 0xff, 0x1c, 0x00, 0x00, 0x00, 0x73, 0x65, 0x71, 0x75,\n",
            "  0x65, 0x6e, 0x74, 0x69, 0x61, 0x6c, 0x5f, 0x33, 0x2f, 0x64, 0x65, 0x6e,\n",
            "  0x73, 0x65, 0x5f, 0x31, 0x36, 0x2f, 0x4d, 0x61, 0x74, 0x4d, 0x75, 0x6c,\n",
            "  0x00, 0x00, 0x00, 0x00, 0x02, 0x00, 0x00, 0x00, 0x0b, 0x00, 0x00, 0x00,\n",
            "  0x10, 0x00, 0x00, 0x00, 0x12, 0xfe, 0xff, 0xff, 0x00, 0x00, 0x00, 0x01,\n",
            "  0x10, 0x00, 0x00, 0x00, 0x10, 0x00, 0x00, 0x00, 0x08, 0x00, 0x00, 0x00,\n",
            "  0x2c, 0x00, 0x00, 0x00, 0x7c, 0xfd, 0xff, 0xff, 0x1c, 0x00, 0x00, 0x00,\n",
            "  0x73, 0x65, 0x71, 0x75, 0x65, 0x6e, 0x74, 0x69, 0x61, 0x6c, 0x5f, 0x33,\n",
            "  0x2f, 0x64, 0x65, 0x6e, 0x73, 0x65, 0x5f, 0x31, 0x35, 0x2f, 0x4d, 0x61,\n",
            "  0x74, 0x4d, 0x75, 0x6c, 0x00, 0x00, 0x00, 0x00, 0x02, 0x00, 0x00, 0x00,\n",
            "  0x10, 0x00, 0x00, 0x00, 0x1e, 0x00, 0x00, 0x00, 0x5e, 0xfe, 0xff, 0xff,\n",
            "  0x00, 0x00, 0x00, 0x01, 0x10, 0x00, 0x00, 0x00, 0x10, 0x00, 0x00, 0x00,\n",
            "  0x07, 0x00, 0x00, 0x00, 0x2c, 0x00, 0x00, 0x00, 0xc8, 0xfd, 0xff, 0xff,\n",
            "  0x1c, 0x00, 0x00, 0x00, 0x73, 0x65, 0x71, 0x75, 0x65, 0x6e, 0x74, 0x69,\n",
            "  0x61, 0x6c, 0x5f, 0x33, 0x2f, 0x64, 0x65, 0x6e, 0x73, 0x65, 0x5f, 0x31,\n",
            "  0x34, 0x2f, 0x4d, 0x61, 0x74, 0x4d, 0x75, 0x6c, 0x00, 0x00, 0x00, 0x00,\n",
            "  0x02, 0x00, 0x00, 0x00, 0x1e, 0x00, 0x00, 0x00, 0x03, 0x00, 0x00, 0x00,\n",
            "  0xaa, 0xfe, 0xff, 0xff, 0x00, 0x00, 0x00, 0x01, 0x10, 0x00, 0x00, 0x00,\n",
            "  0x10, 0x00, 0x00, 0x00, 0x06, 0x00, 0x00, 0x00, 0x2c, 0x00, 0x00, 0x00,\n",
            "  0x14, 0xfe, 0xff, 0xff, 0x1c, 0x00, 0x00, 0x00, 0x73, 0x65, 0x71, 0x75,\n",
            "  0x65, 0x6e, 0x74, 0x69, 0x61, 0x6c, 0x5f, 0x33, 0x2f, 0x64, 0x65, 0x6e,\n",
            "  0x73, 0x65, 0x5f, 0x31, 0x33, 0x2f, 0x4d, 0x61, 0x74, 0x4d, 0x75, 0x6c,\n",
            "  0x00, 0x00, 0x00, 0x00, 0x02, 0x00, 0x00, 0x00, 0x03, 0x00, 0x00, 0x00,\n",
            "  0x03, 0x00, 0x00, 0x00, 0xf6, 0xfe, 0xff, 0xff, 0x00, 0x00, 0x00, 0x01,\n",
            "  0x10, 0x00, 0x00, 0x00, 0x10, 0x00, 0x00, 0x00, 0x05, 0x00, 0x00, 0x00,\n",
            "  0x3c, 0x00, 0x00, 0x00, 0x60, 0xfe, 0xff, 0xff, 0x2c, 0x00, 0x00, 0x00,\n",
            "  0x73, 0x65, 0x71, 0x75, 0x65, 0x6e, 0x74, 0x69, 0x61, 0x6c, 0x5f, 0x33,\n",
            "  0x2f, 0x64, 0x65, 0x6e, 0x73, 0x65, 0x5f, 0x31, 0x33, 0x2f, 0x42, 0x69,\n",
            "  0x61, 0x73, 0x41, 0x64, 0x64, 0x2f, 0x52, 0x65, 0x61, 0x64, 0x56, 0x61,\n",
            "  0x72, 0x69, 0x61, 0x62, 0x6c, 0x65, 0x4f, 0x70, 0x00, 0x00, 0x00, 0x00,\n",
            "  0x01, 0x00, 0x00, 0x00, 0x03, 0x00, 0x00, 0x00, 0x4e, 0xff, 0xff, 0xff,\n",
            "  0x00, 0x00, 0x00, 0x01, 0x10, 0x00, 0x00, 0x00, 0x10, 0x00, 0x00, 0x00,\n",
            "  0x04, 0x00, 0x00, 0x00, 0x3c, 0x00, 0x00, 0x00, 0xb8, 0xfe, 0xff, 0xff,\n",
            "  0x2c, 0x00, 0x00, 0x00, 0x73, 0x65, 0x71, 0x75, 0x65, 0x6e, 0x74, 0x69,\n",
            "  0x61, 0x6c, 0x5f, 0x33, 0x2f, 0x64, 0x65, 0x6e, 0x73, 0x65, 0x5f, 0x31,\n",
            "  0x34, 0x2f, 0x42, 0x69, 0x61, 0x73, 0x41, 0x64, 0x64, 0x2f, 0x52, 0x65,\n",
            "  0x61, 0x64, 0x56, 0x61, 0x72, 0x69, 0x61, 0x62, 0x6c, 0x65, 0x4f, 0x70,\n",
            "  0x00, 0x00, 0x00, 0x00, 0x01, 0x00, 0x00, 0x00, 0x1e, 0x00, 0x00, 0x00,\n",
            "  0xa6, 0xff, 0xff, 0xff, 0x00, 0x00, 0x00, 0x01, 0x10, 0x00, 0x00, 0x00,\n",
            "  0x10, 0x00, 0x00, 0x00, 0x03, 0x00, 0x00, 0x00, 0x3c, 0x00, 0x00, 0x00,\n",
            "  0x10, 0xff, 0xff, 0xff, 0x2c, 0x00, 0x00, 0x00, 0x73, 0x65, 0x71, 0x75,\n",
            "  0x65, 0x6e, 0x74, 0x69, 0x61, 0x6c, 0x5f, 0x33, 0x2f, 0x64, 0x65, 0x6e,\n",
            "  0x73, 0x65, 0x5f, 0x31, 0x35, 0x2f, 0x42, 0x69, 0x61, 0x73, 0x41, 0x64,\n",
            "  0x64, 0x2f, 0x52, 0x65, 0x61, 0x64, 0x56, 0x61, 0x72, 0x69, 0x61, 0x62,\n",
            "  0x6c, 0x65, 0x4f, 0x70, 0x00, 0x00, 0x00, 0x00, 0x01, 0x00, 0x00, 0x00,\n",
            "  0x10, 0x00, 0x00, 0x00, 0x00, 0x00, 0x16, 0x00, 0x18, 0x00, 0x14, 0x00,\n",
            "  0x00, 0x00, 0x10, 0x00, 0x0c, 0x00, 0x08, 0x00, 0x00, 0x00, 0x00, 0x00,\n",
            "  0x00, 0x00, 0x07, 0x00, 0x16, 0x00, 0x00, 0x00, 0x00, 0x00, 0x00, 0x01,\n",
            "  0x10, 0x00, 0x00, 0x00, 0x10, 0x00, 0x00, 0x00, 0x02, 0x00, 0x00, 0x00,\n",
            "  0x3c, 0x00, 0x00, 0x00, 0x80, 0xff, 0xff, 0xff, 0x2c, 0x00, 0x00, 0x00,\n",
            "  0x73, 0x65, 0x71, 0x75, 0x65, 0x6e, 0x74, 0x69, 0x61, 0x6c, 0x5f, 0x33,\n",
            "  0x2f, 0x64, 0x65, 0x6e, 0x73, 0x65, 0x5f, 0x31, 0x36, 0x2f, 0x42, 0x69,\n",
            "  0x61, 0x73, 0x41, 0x64, 0x64, 0x2f, 0x52, 0x65, 0x61, 0x64, 0x56, 0x61,\n",
            "  0x72, 0x69, 0x61, 0x62, 0x6c, 0x65, 0x4f, 0x70, 0x00, 0x00, 0x00, 0x00,\n",
            "  0x01, 0x00, 0x00, 0x00, 0x0b, 0x00, 0x00, 0x00, 0x00, 0x00, 0x16, 0x00,\n",
            "  0x1c, 0x00, 0x18, 0x00, 0x00, 0x00, 0x14, 0x00, 0x10, 0x00, 0x0c, 0x00,\n",
            "  0x00, 0x00, 0x00, 0x00, 0x08, 0x00, 0x07, 0x00, 0x16, 0x00, 0x00, 0x00,\n",
            "  0x00, 0x00, 0x00, 0x01, 0x14, 0x00, 0x00, 0x00, 0x20, 0x00, 0x00, 0x00,\n",
            "  0x20, 0x00, 0x00, 0x00, 0x01, 0x00, 0x00, 0x00, 0x40, 0x00, 0x00, 0x00,\n",
            "  0x02, 0x00, 0x00, 0x00, 0xff, 0xff, 0xff, 0xff, 0x03, 0x00, 0x00, 0x00,\n",
            "  0x04, 0x00, 0x04, 0x00, 0x04, 0x00, 0x00, 0x00, 0x20, 0x00, 0x00, 0x00,\n",
            "  0x73, 0x65, 0x72, 0x76, 0x69, 0x6e, 0x67, 0x5f, 0x64, 0x65, 0x66, 0x61,\n",
            "  0x75, 0x6c, 0x74, 0x5f, 0x64, 0x65, 0x6e, 0x73, 0x65, 0x5f, 0x31, 0x33,\n",
            "  0x5f, 0x69, 0x6e, 0x70, 0x75, 0x74, 0x3a, 0x30, 0x00, 0x00, 0x00, 0x00,\n",
            "  0x02, 0x00, 0x00, 0x00, 0x01, 0x00, 0x00, 0x00, 0x03, 0x00, 0x00, 0x00,\n",
            "  0x02, 0x00, 0x00, 0x00, 0x20, 0x00, 0x00, 0x00, 0x04, 0x00, 0x00, 0x00,\n",
            "  0xf4, 0xff, 0xff, 0xff, 0x19, 0x00, 0x00, 0x00, 0x00, 0x00, 0x00, 0x19,\n",
            "  0x0c, 0x00, 0x0c, 0x00, 0x0b, 0x00, 0x00, 0x00, 0x00, 0x00, 0x04, 0x00,\n",
            "  0x0c, 0x00, 0x00, 0x00, 0x09, 0x00, 0x00, 0x00, 0x00, 0x00, 0x00, 0x09\n",
            "};\n",
            "unsigned int models_model_no_quant_tflite_len = 5844;\n"
          ]
        }
      ],
      "source": [
        "# Print the C source file\n",
        "!cat {MODEL_TFLITE_MICRO}"
      ]
    }
  ],
  "metadata": {
    "accelerator": "GPU",
    "colab": {
      "collapsed_sections": [
        "P9LUhKp92c1Y",
        "RTAQIHTG2rbP",
        "Ec8E9OGz1K3m",
        "sSILVr4-m71s",
        "VtOxFMgsHp5a",
        "6TnTxmUCWEyp"
      ],
      "provenance": []
    },
    "gpuClass": "standard",
    "kernelspec": {
      "display_name": "tinyml",
      "language": "python",
      "name": "tinyml"
    },
    "language_info": {
      "codemirror_mode": {
        "name": "ipython",
        "version": 3
      },
      "file_extension": ".py",
      "mimetype": "text/x-python",
      "name": "python",
      "nbconvert_exporter": "python",
      "pygments_lexer": "ipython3",
      "version": "3.9.16"
    }
  },
  "nbformat": 4,
  "nbformat_minor": 0
}